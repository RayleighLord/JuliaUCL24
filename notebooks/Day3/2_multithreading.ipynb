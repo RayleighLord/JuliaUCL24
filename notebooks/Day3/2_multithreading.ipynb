{
 "cells": [
  {
   "cell_type": "markdown",
   "metadata": {},
   "source": [
    "# Multithreading"
   ]
  },
  {
   "cell_type": "markdown",
   "metadata": {},
   "source": [
    "## What are threads?\n",
    "Threads are **execution units within a process** that can run simultaneously. While processes are separate, threads run in a **shared memory** space (heap).\n",
    "\n",
    "<!-- <img src=\"./imgs/what-are-threads.png\" width=500px> -->\n",
    "\n",
    "<br>\n",
    "<img src=\"imgs/stack_heap_threads.svg\" width=450px>\n",
    "<br>"
   ]
  },
  {
   "cell_type": "markdown",
   "metadata": {},
   "source": [
    "## Starting Julia with multiple threads"
   ]
  },
  {
   "cell_type": "markdown",
   "metadata": {},
   "source": [
    "By default, Julia starts with a single *user thread*. We must tell it explicitly to start multiple user threads. There are two ways to do this:\n",
    "\n",
    "* Environment variable: `JULIA_NUM_THREADS=4`\n",
    "* Command line argument: `julia -t 4`\n",
    "\n",
    "**PC2 Jupyter Hub**\n",
    "\n",
    "- Select a kernel with e.g. **8 threads**:\n",
    "\n",
    "<img src=\"imgs/kernels.png\" width=300px>"
   ]
  },
  {
   "cell_type": "markdown",
   "metadata": {},
   "source": [
    "**It is currently not (easily) possible to change the number of threads at runtime!**"
   ]
  },
  {
   "cell_type": "markdown",
   "metadata": {},
   "source": [
    "We can readily check how many threads we are running:"
   ]
  },
  {
   "cell_type": "code",
   "execution_count": 1,
   "metadata": {
    "tags": []
   },
   "outputs": [
    {
     "data": {
      "text/plain": [
       "20"
      ]
     },
     "metadata": {},
     "output_type": "display_data"
    }
   ],
   "source": [
    "Threads.nthreads()"
   ]
  },
  {
   "cell_type": "markdown",
   "metadata": {},
   "source": [
    "### User threads vs default threads\n",
    "\n",
    "Technically, the Julia process is also spawning multiple threads already in \"single-threaded\" mode, like\n",
    "* a thread for unix signal listening\n",
    "* multiple OpenBLAS threads for BLAS/LAPACK operations\n",
    "* GC threads\n",
    "\n",
    "We call the threads that we can actually run computations on *user threads* or *Julia threads*."
   ]
  },
  {
   "cell_type": "code",
   "execution_count": 2,
   "metadata": {
    "tags": []
   },
   "outputs": [
    {
     "data": {
      "text/plain": [
       "10"
      ]
     },
     "metadata": {},
     "output_type": "display_data"
    }
   ],
   "source": [
    "using LinearAlgebra\n",
    "BLAS.get_num_threads()"
   ]
  },
  {
   "cell_type": "markdown",
   "metadata": {},
   "source": [
    "## Where are my threads running?"
   ]
  },
  {
   "cell_type": "markdown",
   "metadata": {},
   "source": [
    "### Noctua 2 compute node"
   ]
  },
  {
   "cell_type": "code",
   "execution_count": 3,
   "metadata": {
    "tags": []
   },
   "outputs": [],
   "source": [
    "using ThreadPinning"
   ]
  },
  {
   "cell_type": "code",
   "execution_count": 4,
   "metadata": {
    "tags": []
   },
   "outputs": [
    {
     "name": "stdout",
     "output_type": "stream",
     "text": [
      "\n",
      "System: 10 cores (2-way SMT), 1 sockets, 1 NUMA domains\n",
      "\n",
      "\u001b[0m\u001b[1m| \u001b[22m"
     ]
    },
    {
     "name": "stdout",
     "output_type": "stream",
     "text": [
      "\u001b[33m\u001b[1m0\u001b[22m\u001b[39m,\u001b[33m\u001b[1m1\u001b[22m\u001b[39m,\u001b[33m\u001b[1m2\u001b[22m\u001b[39m,\u001b[33m\u001b[1m3\u001b[22m\u001b[39m,\u001b[33m\u001b[1m4\u001b[22m\u001b[39m,\u001b[33m\u001b[1m5\u001b[22m\u001b[39m,\u001b[33m\u001b[1m6\u001b[22m\u001b[39m,\u001b[39m7,\u001b[39m8,\u001b[39m9,\u001b[95m\u001b[1m10\u001b[22m\u001b[39m,\u001b[95m\u001b[1m11\u001b[22m\u001b[39m,\u001b[95m\u001b[1m12\u001b[22m\u001b[39m,\u001b[95m\u001b[1m13\u001b[22m\u001b[39m,\u001b[95m\u001b[1m14\u001b[22m\u001b[39m,\u001b[95m\u001b[1m15\u001b[22m\u001b[39m,\n",
      "  \u001b[95m\u001b[1m16\u001b[22m\u001b[39m,\u001b[95m\u001b[1m17\u001b[22m\u001b[39m,\u001b[90m18\u001b[39m,\u001b[95m\u001b[1m19\u001b[22m\u001b[39m\u001b[0m\u001b[1m | \u001b[22m\n",
      "\n",
      "\u001b[33m\u001b[1m#\u001b[22m\u001b[39m = Julia thread, \u001b[90m#\u001b[39m = HT, \u001b[95m\u001b[1m#\u001b[22m\u001b[39m = Julia thread on HT, \u001b[0m\u001b[1m|\u001b[22m = Socket seperator\n",
      "\n",
      "Julia threads: \u001b[32m20\u001b[39m\n",
      "├ Occupied CPU-threads: \u001b[31m16\u001b[39m\n",
      "└ Mapping (Thread => CPUID): 1 => 19, 2 => 11, 3 => 13, 4 => 1, 5 => 0, ...\n"
     ]
    }
   ],
   "source": [
    "threadinfo()"
   ]
  },
  {
   "cell_type": "markdown",
   "metadata": {},
   "source": [
    " "
   ]
  },
  {
   "cell_type": "markdown",
   "metadata": {},
   "source": [
    "`lstopo_no_graphics`\n",
    "\n",
    "<img src=\"imgs/lstopo_noctua2.svg\" width=80%>"
   ]
  },
  {
   "cell_type": "markdown",
   "metadata": {
    "jp-MarkdownHeadingCollapsed": true,
    "tags": []
   },
   "source": [
    "##### \"Hyperthreading\" (not active on Noctua 2)"
   ]
  },
  {
   "cell_type": "markdown",
   "metadata": {
    "tags": []
   },
   "source": [
    "<img src=\"imgs/threadinfo.png\" width=1000px>"
   ]
  },
  {
   "cell_type": "markdown",
   "metadata": {},
   "source": [
    "## Task-based multithreading\n",
    "\n",
    "In traditional HPC, one typically cares about threads directly. Using e.g. OpenMP, one essentially tells each thread what to do.\n",
    "\n",
    "Conceptually, Julia takes a different approach and implements **task-based** multithreading. In this paradigm, a task - e.g. a computational piece of a code - is marked for **parallel** execution on **any** of the available Julia threads. Julia's **dynamic scheduler** will automatically put the task on one of the threads and trigger the execution of the task on said thread.\n",
    "\n",
    "<br>\n",
    "<!-- <img src=\"imgs/task-based-parallelism.png\" width=768px> -->\n",
    "<img src=\"imgs/tasks_threads_cores.svg\" width=650px>\n",
    "</br>\n",
    "\n",
    "Generally speaking, the user should **think about tasks and not threads**.\n",
    "* The scheduler is controlling on which thread a task will eventually run.\n",
    "* It might even dynamically [migrate tasks](https://docs.julialang.org/en/v1/manual/multi-threading/#man-task-migration) between threads.\n",
    "\n",
    "**Advantages:**\n",
    "* high-level abstraction\n",
    "* nestability / composability (especially important for libraries)\n",
    "\n",
    "**Disadvantages:**\n",
    "* scheduling overhead\n",
    "* uncertain and potentially suboptimal task → thread assignment\n",
    "  * **can get in the way when performance engineering** because\n",
    "    * scheduler has limited information (e.g. about the system topology)\n",
    "    * profiling tools often don't know anything about tasks but monitor threads (or even CPU-cores) instead (e.g. LIKWID)."
   ]
  },
  {
   "cell_type": "markdown",
   "metadata": {},
   "source": [
    "### Tasks"
   ]
  },
  {
   "cell_type": "markdown",
   "metadata": {},
   "source": [
    "By default, Julia waits for commands to finish (\"**blocking**\") and runs everything sequentially.\n",
    "\n",
    "**Tasks** are a feature that allows (parts of) computations to be scheduled (suspended and resumed) in a flexible manner to implement **concurrency** and **parallelism**.\n",
    "\n",
    "* Concurrency\n",
    "    * Dealing with lots of things *in a time period* (\"multi-tasking\").\n",
    "    * Can be used on a single thread.\n",
    "* Parallelism\n",
    "    * Doing lots of things *at the same instant*.\n",
    "    * Needs multiple threads (or processes).\n",
    "\n",
    "Example (concurrency): **asynchronous I/O** like\n",
    "  * **multiple user input** (Why not already process some of the input?)\n",
    "  * **data dumping to disk** (Maybe it's possible to continue a calculation?)\n",
    " \n",
    "Example (parallelism): **multithreading, distributed computing**"
   ]
  },
  {
   "cell_type": "markdown",
   "metadata": {},
   "source": [
    "### Spawning parallel tasks: `Threads.@spawn`\n",
    "`Threads.@spawn` spawns a task to be run on any Julia thread. Specifically, it creates a `Task` and schedules it for execution on an available Julia thread (we don't control which one!).\n",
    "\n",
    "Note that `Threads.@spawn` is **asynchronous** and **non-blocking**, that is, it doesn't wait for the task to actually run but immediately returns a `Task`."
   ]
  },
  {
   "cell_type": "code",
   "execution_count": 5,
   "metadata": {
    "tags": []
   },
   "outputs": [],
   "source": [
    "using Base.Threads # afterwards we can just write @spawn instead of Threads.@spawn"
   ]
  },
  {
   "cell_type": "code",
   "execution_count": 6,
   "metadata": {
    "tags": []
   },
   "outputs": [
    {
     "data": {
      "text/plain": [
       "Task (done) @0x00007f82dee70fb0"
      ]
     },
     "metadata": {},
     "output_type": "display_data"
    }
   ],
   "source": [
    "@spawn 3+3"
   ]
  },
  {
   "cell_type": "markdown",
   "metadata": {},
   "source": [
    "We can fetch the result of a task with `fetch`."
   ]
  },
  {
   "cell_type": "code",
   "execution_count": 7,
   "metadata": {
    "tags": []
   },
   "outputs": [
    {
     "data": {
      "text/plain": [
       "6"
      ]
     },
     "metadata": {},
     "output_type": "display_data"
    }
   ],
   "source": [
    "t = @spawn 3+3\n",
    "fetch(t)"
   ]
  },
  {
   "cell_type": "markdown",
   "metadata": {},
   "source": [
    "While `@spawn` returns right away, `fetch` is **blocking** as it has to wait for the task to actually finish."
   ]
  },
  {
   "cell_type": "code",
   "execution_count": 8,
   "metadata": {
    "tags": []
   },
   "outputs": [
    {
     "name": "stdout",
     "output_type": "stream",
     "text": [
      "  0.000136 seconds (33 allocations: 2.312 KiB)\n"
     ]
    },
    {
     "name": "stdout",
     "output_type": "stream",
     "text": [
      "  2.968700 seconds (107 allocations: 5.281 KiB)\n"
     ]
    },
    {
     "data": {
      "text/plain": [
       "6"
      ]
     },
     "metadata": {},
     "output_type": "display_data"
    }
   ],
   "source": [
    "@time t = @spawn begin\n",
    "    sleep(3)\n",
    "    return 3+3\n",
    "end\n",
    "@time fetch(t)"
   ]
  },
  {
   "cell_type": "markdown",
   "metadata": {},
   "source": [
    "We can use the macro `@sync` to synchronize all encompassed asynchronous operations (`@spawn`)."
   ]
  },
  {
   "cell_type": "code",
   "execution_count": 9,
   "metadata": {
    "tags": []
   },
   "outputs": [
    {
     "name": "stdout",
     "output_type": "stream",
     "text": [
      "  3.023363 seconds (8.16 k allocations: 570.672 KiB, 0.72% compilation time)\n",
      "  0.000003 seconds\n"
     ]
    },
    {
     "data": {
      "text/plain": [
       "6"
      ]
     },
     "metadata": {},
     "output_type": "display_data"
    }
   ],
   "source": [
    "@time @sync t = @spawn begin\n",
    "    sleep(3)\n",
    "    return 3+3\n",
    "end\n",
    "@time fetch(t)"
   ]
  },
  {
   "cell_type": "markdown",
   "metadata": {},
   "source": [
    "#### Example: multithreaded `map`"
   ]
  },
  {
   "cell_type": "markdown",
   "metadata": {
    "tags": []
   },
   "source": [
    "`tmap`: *threaded map*"
   ]
  },
  {
   "cell_type": "code",
   "execution_count": 10,
   "metadata": {
    "tags": []
   },
   "outputs": [
    {
     "data": {
      "text/plain": [
       "tmap (generic function with 1 method)"
      ]
     },
     "metadata": {},
     "output_type": "display_data"
    }
   ],
   "source": [
    "function tmap(fn, itr)\n",
    "    tasks = map(i -> @spawn(fn(i)), itr)  # for each i ∈ itr, spawn a task to compute fn(i)\n",
    "    return fetch.(tasks)                  # fetch and return all the results\n",
    "end"
   ]
  },
  {
   "cell_type": "code",
   "execution_count": 11,
   "metadata": {
    "tags": []
   },
   "outputs": [],
   "source": [
    "M = [rand(200,200) for i in 1:8];"
   ]
  },
  {
   "cell_type": "code",
   "execution_count": 12,
   "metadata": {
    "tags": []
   },
   "outputs": [
    {
     "data": {
      "text/plain": [
       "8-element Vector{Vector{Float64}}:\n",
       " [99.64109591427723, 8.411716076046758, 7.936515101966217, 7.589189367169681, 7.583749764267464, 7.51226038320385, 7.473050353068089, 7.417980821687014, 7.377188469447791, 7.337029334889456  …  0.3022768492172337, 0.2556399639656215, 0.2369347589042417, 0.22335667564289113, 0.16738908334110056, 0.13539639561164937, 0.10420873079275127, 0.06441353760272377, 0.03059409695352177, 0.011900201970349085]\n",
       " [100.07758321758851, 7.994024821351012, 7.895290699867822, 7.727443724655954, 7.646638041362115, 7.601436661309439, 7.427931812167159, 7.401124455768659, 7.328461212542204, 7.3140428238758455  …  0.3067102427386096, 0.24924232029025, 0.2053597472858741, 0.17691395517471825, 0.14803159316752296, 0.11435126092661098, 0.08838149761935991, 0.048584892127714205, 0.03223069671007493, 0.004532403319661264]\n",
       " [99.90798997366763, 7.92114497614892, 7.856174452455812, 7.726948471750372, 7.603785750988499, 7.512151856098381, 7.47232289787411, 7.379821568118366, 7.339590028693772, 7.299598036178119  …  0.28650587054024124, 0.27281772722708925, 0.2157288820968601, 0.18597889251917124, 0.1580721671241672, 0.15204126141441748, 0.1085157604121629, 0.07552527181643222, 0.023126251806012976, 0.014061603230463874]\n",
       " [99.86761978829723, 8.12762801488526, 8.067422757074281, 7.827189179544136, 7.656131261449054, 7.505822077616001, 7.458079221493796, 7.387328629507743, 7.305864382691217, 7.2636195482678225  …  0.25379283763862087, 0.24259482945178032, 0.20169825792363066, 0.1908410115000115, 0.16875192983394058, 0.12437636369922467, 0.08438972684013399, 0.043852777586713375, 0.03100466234103214, 0.005064812041641347]\n",
       " [100.26088250646684, 8.095236504007428, 7.847938530529792, 7.72503967672049, 7.628195608632113, 7.53163206612324, 7.37934989054131, 7.281631643330365, 7.267624226703657, 7.187039807157943  …  0.34058142246671363, 0.2533567196154537, 0.23942170443408192, 0.19059647944900518, 0.16851823293928278, 0.1601046121361681, 0.11891957816369773, 0.09214016283354054, 0.06221898621146569, 0.012241004893659415]\n",
       " [100.06544917158482, 8.026384563427005, 7.927640437022183, 7.764484880581361, 7.682531878482352, 7.6376239341978875, 7.470009545613876, 7.454888314612526, 7.3331753999594955, 7.264117663992563  …  0.3015487877203511, 0.2696867667532372, 0.23977997582569782, 0.2204044733946477, 0.19384051112385592, 0.1799264294161153, 0.12076480671748718, 0.07310541046934974, 0.04804055139335203, 0.03167511133879271]\n",
       " [100.18982698618935, 8.106437243250232, 7.888146990319757, 7.662849071494949, 7.574040674869887, 7.538797474334902, 7.453309442521961, 7.3388190365003965, 7.256878377906407, 7.248266152425237  …  0.32521328424462287, 0.2831432661977888, 0.21480927465396885, 0.19683480629105174, 0.18720288561374943, 0.12515021127854695, 0.10401461226815543, 0.049408319138313006, 0.015878764798709897, 0.010780696006714456]\n",
       " [99.884608342442, 8.055076395166724, 7.881409199531741, 7.804088776042507, 7.72485949935061, 7.524352572759054, 7.520694406570197, 7.4574476181212015, 7.373263935357257, 7.294619661306605  …  0.29866981344381044, 0.2584987560393001, 0.22113522595682983, 0.19351923366113866, 0.1605779091802145, 0.12693216785075126, 0.10459113703287139, 0.05038324785374339, 0.02496640993720559, 0.010707987937983662]"
      ]
     },
     "metadata": {},
     "output_type": "display_data"
    }
   ],
   "source": [
    "tmap(svdvals, M)"
   ]
  },
  {
   "cell_type": "code",
   "execution_count": 13,
   "metadata": {
    "tags": []
   },
   "outputs": [],
   "source": [
    "using BenchmarkTools"
   ]
  },
  {
   "cell_type": "code",
   "execution_count": 15,
   "metadata": {
    "tags": []
   },
   "outputs": [
    {
     "name": "stdout",
     "output_type": "stream",
     "text": [
      "  7.875 ms (113 allocations: 3.38 MiB)\n"
     ]
    },
    {
     "name": "stdout",
     "output_type": "stream",
     "text": [
      "  24.821 ms (65 allocations: 3.37 MiB)\n"
     ]
    }
   ],
   "source": [
    "@btime tmap($svdvals, $M) samples=10 evals=3;\n",
    "@btime map($svdvals, $M) samples=10 evals=3;"
   ]
  },
  {
   "cell_type": "markdown",
   "metadata": {},
   "source": [
    "**performance issue**:\n",
    "\n",
    "* Using Julia multithreading + BLAS multithreading\n",
    "    - CPU cores may be *overscribed*, e.g. 256 total threads on 128 CPU cores! (red bars in `htop`)"
   ]
  },
  {
   "cell_type": "markdown",
   "metadata": {},
   "source": [
    "If you use BLAS, it is important to carefully consider and configure the [interplay between Julia threads and BLAS threads](https://carstenbauer.github.io/ThreadPinning.jl/stable/explanations/blas/)."
   ]
  },
  {
   "cell_type": "markdown",
   "metadata": {},
   "source": []
  },
  {
   "cell_type": "code",
   "execution_count": 16,
   "metadata": {
    "tags": []
   },
   "outputs": [],
   "source": [
    "BLAS.set_num_threads(1)"
   ]
  },
  {
   "cell_type": "code",
   "execution_count": 17,
   "metadata": {
    "tags": []
   },
   "outputs": [
    {
     "name": "stdout",
     "output_type": "stream",
     "text": [
      "  4.674 ms (113 allocations: 3.38 MiB)\n"
     ]
    },
    {
     "name": "stdout",
     "output_type": "stream",
     "text": [
      "  19.489 ms (65 allocations: 3.37 MiB)\n"
     ]
    }
   ],
   "source": [
    "@btime tmap($svdvals, $M) samples=10 evals=3;\n",
    "@btime map($svdvals, $M) samples=10 evals=3;"
   ]
  },
  {
   "cell_type": "markdown",
   "metadata": {},
   "source": [
    "#### Example: multithreading for-loops"
   ]
  },
  {
   "cell_type": "code",
   "execution_count": 18,
   "metadata": {
    "tags": []
   },
   "outputs": [],
   "source": [
    "using ThreadPinning: taskid"
   ]
  },
  {
   "cell_type": "code",
   "execution_count": 19,
   "metadata": {
    "tags": []
   },
   "outputs": [
    {
     "name": "stdout",
     "output_type": "stream",
     "text": [
      "Task 5728370972162303930 is running iteration 14 on thread 5\n",
      "Task 4023168033851427435 is running iteration 39 on thread 5\n",
      "Task 12117292481154076151 is running iteration 26 on thread 5\n",
      "Task 12893208420510524446 is running iteration 40 on thread 10\n",
      "Task 16941014588338184556 is running iteration 8 on thread 7\n"
     ]
    },
    {
     "name": "stdout",
     "output_type": "stream",
     "text": [
      "Task 16614726687212937300 is running iteration 22 on thread 5\n",
      "Task 12519414027847347288 is running iteration 5 on thread 3\n",
      "Task 16334834652781130799 is running iteration 23 on thread 5\n",
      "Task 102998991242903933 is running iteration 16 on thread 11\n",
      "Task 4067014055779527206 is running iteration 27 on thread 5\n"
     ]
    },
    {
     "name": "stdout",
     "output_type": "stream",
     "text": [
      "Task 8957919183900272979 is running iteration 2 on thread 17\n",
      "Task 12005438125974069048 is running iteration 17 on thread 5\n",
      "Task 17225376990089955234 is running iteration 15 on thread 10\n",
      "Task 10219188697335935488 is running iteration 38 on thread 18\n",
      "Task 7185015384751398662 is running iteration 9 on thread 4\n",
      "Task 17349934348856418006 is running iteration 24 on thread 20\n",
      "Task 16970712622893066833 is running iteration 31 on thread 5\n",
      "Task 6816809835453281952 is running iteration 21 on thread 5\n"
     ]
    },
    {
     "name": "stdout",
     "output_type": "stream",
     "text": [
      "Task 10095280958815230551 is running iteration 37 on thread 10\n",
      "Task 13938343557351115711 is running iteration 4 on thread 6\n",
      "Task 2708655992665449318 is running iteration 29 on thread 5\n",
      "Task 16494906707440957510 is running iteration 1 on thread 2\n",
      "Task 18060768176299880961 is running iteration 32 on thread 5\n",
      "Task 14135711484528348538 is running iteration 28 on thread 5\n",
      "Task 5628691249385523566 is running iteration 33 on thread 5\n",
      "Task 2860838997705207268 is running iteration 7 on thread 9\n",
      "Task 16232589127278325312 is running iteration 30 on thread 5\n",
      "Task 6535709308882406911 is running iteration 35 on thread 10\n",
      "Task 17405782830834898482 is running iteration 13 on thread 14\n",
      "Task 6146159129334208529 is running iteration 10 on thread 8\n",
      "Task 9864279048248631184 is running iteration 6 on thread 15\n",
      "Task 14626232520595453243 is running iteration 11 on thread 13\n",
      "Task 1262551960254128613 is running iteration 25 on thread 1\n",
      "Task 603436123253245120 is running iteration 3 on thread 16\n",
      "Task 2563927289908226116 is running iteration 36 on thread 5\n",
      "Task 112420154482077012 is running iteration 19 on thread 5\n",
      "Task 470505631249673628 is running iteration 12 on thread 12\n",
      "Task 16343595058924163605 is running iteration 20 on thread 5\n",
      "Task 13955710893264772575 is running iteration 34 on thread 5\n",
      "Task 6786131221198964881 is running iteration 18 on thread 19\n"
     ]
    }
   ],
   "source": [
    "@sync for i in 1:2*nthreads()\n",
    "    @spawn println(\"Task \", taskid(), \" is running iteration \", i, \" on thread \", threadid())\n",
    "end"
   ]
  },
  {
   "cell_type": "markdown",
   "metadata": {},
   "source": [
    "##### `@threads`"
   ]
  },
  {
   "cell_type": "markdown",
   "metadata": {},
   "source": [
    "* **Splits up the iteration space into `nthreads()` contiguous chunks**\n",
    "* Creates a task for each of them."
   ]
  },
  {
   "cell_type": "code",
   "execution_count": 20,
   "metadata": {
    "tags": []
   },
   "outputs": [
    {
     "name": "stdout",
     "output_type": "stream",
     "text": [
      "Task 9958339815589378422 is running iteration 1 on thread 6\n",
      "Task 16779902591066556608 is running iteration 5 on thread 15\n",
      "Task 7041996877820435672 is running iteration 35 on thread 19\n",
      "Task 9476071561333345054 is running iteration 31 on thread 14\n",
      "Task 14249042458023239193 is running iteration 15 on thread 10\n",
      "Task 2282363778736205645 is running iteration 33 on thread 12\n",
      "Task 4239789135467829808 is running iteration 11 on thread 16\n",
      "Task 9545910538507457550 is running iteration 19 on thread 3\n",
      "Task 14408679146879915003 is running iteration 3 on thread 2\n",
      "Task 7823782111190999070 is running iteration 25 on thread 4\n",
      "Task 8738434990456157355 is running iteration 13 on thread 5\n",
      "Task 4239789135467829808 is running iteration 12 on thread 16\n",
      "Task 16779902591066556608 is running iteration 6 on thread 15\n",
      "Task 1815499826274807944 is running iteration 39 on thread 20\n",
      "Task 3049867900096094570 is running iteration 21 on thread 11\n",
      "Task 18134742736661143578 is running iteration 37 on thread 1\n",
      "Task 3049867900096094570 is running iteration 22 on thread 12\n",
      "Task 9958339815589378422 is running iteration 2 on thread 6\n",
      "Task 14249042458023239193 is running iteration 16 on thread 10\n",
      "Task 3621686873203091629 is running iteration 23 on thread 7\n",
      "Task 13176471415838863629 is running iteration 29 on thread 8\n",
      "Task 1815499826274807944 is running iteration 40 on thread 8\n",
      "Task 8738434990456157355 is running iteration 14 on thread 5\n",
      "Task 18134742736661143578 is running iteration 38 on thread 20\n",
      "Task 7823782111190999070 is running iteration 26 on thread 4\n",
      "Task 10148831605349769350 is running iteration 17 on thread 17\n",
      "Task 3621686873203091629 is running iteration 24 on thread 19\n",
      "Task 9545910538507457550 is running iteration 20 on thread 8\n",
      "Task 14408679146879915003 is running iteration 4 on thread 2\n",
      "Task 3433360653198993895 is running iteration 9 on thread 13\n",
      "Task 13176471415838863629 is running iteration 30 on thread 2\n",
      "Task 3433360653198993895 is running iteration 10 on thread 16\n",
      "Task 10148831605349769350 is running iteration 18 on thread 17\n",
      "Task 2282363778736205645 is running iteration 34 on thread 11\n",
      "Task 7041996877820435672 is running iteration 36 on thread 8\n",
      "Task 9476071561333345054 is running iteration 32 on thread 14\n",
      "Task 10461421056170021608 is running iteration 7 on thread 9\n",
      "Task 10461421056170021608 is running iteration 8 on thread 9\n",
      "Task 18096019388811775314 is running iteration 27 on thread 18\n",
      "Task 18096019388811775314 is running iteration 28 on thread 18\n"
     ]
    }
   ],
   "source": [
    "# creates nthreads() many tasks\n",
    "\n",
    "@threads for i in 1:2*nthreads()\n",
    "    println(\"Task \", taskid(), \" is running iteration \", i, \" on thread \", threadid())\n",
    "end"
   ]
  },
  {
   "cell_type": "markdown",
   "metadata": {},
   "source": [
    "### Load-balancing"
   ]
  },
  {
   "cell_type": "markdown",
   "metadata": {},
   "source": [
    "If there are many tasks (e.g. many more than available threads), Julia's scheduler balances the load of these tasks among threads. (**non-uniform workloads**)"
   ]
  },
  {
   "cell_type": "code",
   "execution_count": 21,
   "metadata": {
    "tags": []
   },
   "outputs": [],
   "source": [
    "using StatsPlots"
   ]
  },
  {
   "cell_type": "code",
   "execution_count": 22,
   "metadata": {
    "tags": []
   },
   "outputs": [
    {
     "data": {
      "text/plain": [
       "compute_nonuniform_spawn! (generic function with 2 methods)"
      ]
     },
     "metadata": {},
     "output_type": "display_data"
    }
   ],
   "source": [
    "function compute_nonuniform_spawn!(a, workloads = [Int[] for _ in 1:nthreads()])\n",
    "    @sync for i in 1:length(a)\n",
    "        Threads.@spawn begin\n",
    "            a[i] = sum(abs2, rand() for j in 1:(2^14*i))   # workload proportional to i\n",
    "            push!(workloads[threadid()], i)                # (poor-man's) bookkeeping\n",
    "        end\n",
    "    end\n",
    "    return workloads\n",
    "end"
   ]
  },
  {
   "cell_type": "code",
   "execution_count": 23,
   "metadata": {
    "tags": []
   },
   "outputs": [
    {
     "data": {
      "image/png": "[encoded data removed]",
      "image/svg+xml": [
       "<?xml version=\"1.0\" encoding=\"utf-8\"?>\n",
       "<svg xmlns=\"http://www.w3.org/2000/svg\" xmlns:xlink=\"http://www.w3.org/1999/xlink\" width=\"600\" height=\"400\" viewBox=\"0 0 2400 1600\">\n",
       "<defs>\n",
       "  <clipPath id=\"clip400\">\n",
       "    <rect x=\"0\" y=\"0\" width=\"2400\" height=\"1600\"/>\n",
       "  </clipPath>\n",
       "</defs>\n",
       "<path clip-path=\"url(#clip400)\" d=\"M0 1600 L2400 1600 L2400 0 L0 0  Z\" fill=\"#ffffff\" fill-rule=\"evenodd\" fill-opacity=\"1\"/>\n",
       "<defs>\n",
       "  <clipPath id=\"clip401\">\n",
       "    <rect x=\"480\" y=\"0\" width=\"1681\" height=\"1600\"/>\n",
       "  </clipPath>\n",
       "</defs>\n",
       "<path clip-path=\"url(#clip400)\" d=\"M262.551 1423.18 L2352.76 1423.18 L2352.76 123.472 L262.551 123.472  Z\" fill=\"#ffffff\" fill-rule=\"evenodd\" fill-opacity=\"1\"/>\n",
       "<defs>\n",
       "  <clipPath id=\"clip402\">\n",
       "    <rect x=\"262\" y=\"123\" width=\"2091\" height=\"1301\"/>\n",
       "  </clipPath>\n",
       "</defs>\n",
       "<polyline clip-path=\"url(#clip402)\" style=\"stroke:#000000; stroke-linecap:round; stroke-linejoin:round; stroke-width:2; stroke-opacity:0.1; fill:none\" points=\"321.144,1423.18 321.144,123.472 \"/>\n",
       "<polyline clip-path=\"url(#clip402)\" style=\"stroke:#000000; stroke-linecap:round; stroke-linejoin:round; stroke-width:2; stroke-opacity:0.1; fill:none\" points=\"790.911,1423.18 790.911,123.472 \"/>\n",
       "<polyline clip-path=\"url(#clip402)\" style=\"stroke:#000000; stroke-linecap:round; stroke-linejoin:round; stroke-width:2; stroke-opacity:0.1; fill:none\" points=\"1260.68,1423.18 1260.68,123.472 \"/>\n",
       "<polyline clip-path=\"url(#clip402)\" style=\"stroke:#000000; stroke-linecap:round; stroke-linejoin:round; stroke-width:2; stroke-opacity:0.1; fill:none\" points=\"1730.44,1423.18 1730.44,123.472 \"/>\n",
       "<polyline clip-path=\"url(#clip402)\" style=\"stroke:#000000; stroke-linecap:round; stroke-linejoin:round; stroke-width:2; stroke-opacity:0.1; fill:none\" points=\"2200.21,1423.18 2200.21,123.472 \"/>\n",
       "<polyline clip-path=\"url(#clip400)\" style=\"stroke:#000000; stroke-linecap:round; stroke-linejoin:round; stroke-width:4; stroke-opacity:1; fill:none\" points=\"262.551,1423.18 2352.76,1423.18 \"/>\n",
       "<polyline clip-path=\"url(#clip400)\" style=\"stroke:#000000; stroke-linecap:round; stroke-linejoin:round; stroke-width:4; stroke-opacity:1; fill:none\" points=\"321.144,1423.18 321.144,1404.28 \"/>\n",
       "<polyline clip-path=\"url(#clip400)\" style=\"stroke:#000000; stroke-linecap:round; stroke-linejoin:round; stroke-width:4; stroke-opacity:1; fill:none\" points=\"790.911,1423.18 790.911,1404.28 \"/>\n",
       "<polyline clip-path=\"url(#clip400)\" style=\"stroke:#000000; stroke-linecap:round; stroke-linejoin:round; stroke-width:4; stroke-opacity:1; fill:none\" points=\"1260.68,1423.18 1260.68,1404.28 \"/>\n",
       "<polyline clip-path=\"url(#clip400)\" style=\"stroke:#000000; stroke-linecap:round; stroke-linejoin:round; stroke-width:4; stroke-opacity:1; fill:none\" points=\"1730.44,1423.18 1730.44,1404.28 \"/>\n",
       "<polyline clip-path=\"url(#clip400)\" style=\"stroke:#000000; stroke-linecap:round; stroke-linejoin:round; stroke-width:4; stroke-opacity:1; fill:none\" points=\"2200.21,1423.18 2200.21,1404.28 \"/>\n",
       "<path clip-path=\"url(#clip400)\" d=\"M321.144 1454.1 Q317.533 1454.1 315.704 1457.66 Q313.899 1461.2 313.899 1468.33 Q313.899 1475.44 315.704 1479.01 Q317.533 1482.55 321.144 1482.55 Q324.778 1482.55 326.584 1479.01 Q328.413 1475.44 328.413 1468.33 Q328.413 1461.2 326.584 1457.66 Q324.778 1454.1 321.144 1454.1 M321.144 1450.39 Q326.954 1450.39 330.01 1455 Q333.089 1459.58 333.089 1468.33 Q333.089 1477.06 330.01 1481.67 Q326.954 1486.25 321.144 1486.25 Q315.334 1486.25 312.255 1481.67 Q309.2 1477.06 309.2 1468.33 Q309.2 1459.58 312.255 1455 Q315.334 1450.39 321.144 1450.39 Z\" fill=\"#000000\" fill-rule=\"nonzero\" fill-opacity=\"1\" /><path clip-path=\"url(#clip400)\" d=\"M781.188 1451.02 L799.545 1451.02 L799.545 1454.96 L785.471 1454.96 L785.471 1463.43 Q786.489 1463.08 787.508 1462.92 Q788.526 1462.73 789.545 1462.73 Q795.332 1462.73 798.711 1465.9 Q802.091 1469.08 802.091 1474.49 Q802.091 1480.07 798.619 1483.17 Q795.147 1486.25 788.827 1486.25 Q786.651 1486.25 784.383 1485.88 Q782.137 1485.51 779.73 1484.77 L779.73 1480.07 Q781.813 1481.2 784.036 1481.76 Q786.258 1482.32 788.735 1482.32 Q792.739 1482.32 795.077 1480.21 Q797.415 1478.1 797.415 1474.49 Q797.415 1470.88 795.077 1468.77 Q792.739 1466.67 788.735 1466.67 Q786.86 1466.67 784.985 1467.08 Q783.133 1467.5 781.188 1468.38 L781.188 1451.02 Z\" fill=\"#000000\" fill-rule=\"nonzero\" fill-opacity=\"1\" /><path clip-path=\"url(#clip400)\" d=\"M1235.36 1481.64 L1243 1481.64 L1243 1455.28 L1234.69 1456.95 L1234.69 1452.69 L1242.96 1451.02 L1247.63 1451.02 L1247.63 1481.64 L1255.27 1481.64 L1255.27 1485.58 L1235.36 1485.58 L1235.36 1481.64 Z\" fill=\"#000000\" fill-rule=\"nonzero\" fill-opacity=\"1\" /><path clip-path=\"url(#clip400)\" d=\"M1274.72 1454.1 Q1271.11 1454.1 1269.28 1457.66 Q1267.47 1461.2 1267.47 1468.33 Q1267.47 1475.44 1269.28 1479.01 Q1271.11 1482.55 1274.72 1482.55 Q1278.35 1482.55 1280.16 1479.01 Q1281.98 1475.44 1281.98 1468.33 Q1281.98 1461.2 1280.16 1457.66 Q1278.35 1454.1 1274.72 1454.1 M1274.72 1450.39 Q1280.53 1450.39 1283.58 1455 Q1286.66 1459.58 1286.66 1468.33 Q1286.66 1477.06 1283.58 1481.67 Q1280.53 1486.25 1274.72 1486.25 Q1268.91 1486.25 1265.83 1481.67 Q1262.77 1477.06 1262.77 1468.33 Q1262.77 1459.58 1265.83 1455 Q1268.91 1450.39 1274.72 1450.39 Z\" fill=\"#000000\" fill-rule=\"nonzero\" fill-opacity=\"1\" /><path clip-path=\"url(#clip400)\" d=\"M1705.63 1481.64 L1713.27 1481.64 L1713.27 1455.28 L1704.96 1456.95 L1704.96 1452.69 L1713.22 1451.02 L1717.9 1451.02 L1717.9 1481.64 L1725.54 1481.64 L1725.54 1485.58 L1705.63 1485.58 L1705.63 1481.64 Z\" fill=\"#000000\" fill-rule=\"nonzero\" fill-opacity=\"1\" /><path clip-path=\"url(#clip400)\" d=\"M1735.03 1451.02 L1753.38 1451.02 L1753.38 1454.96 L1739.31 1454.96 L1739.31 1463.43 Q1740.33 1463.08 1741.35 1462.92 Q1742.36 1462.73 1743.38 1462.73 Q1749.17 1462.73 1752.55 1465.9 Q1755.93 1469.08 1755.93 1474.49 Q1755.93 1480.07 1752.46 1483.17 Q1748.98 1486.25 1742.67 1486.25 Q1740.49 1486.25 1738.22 1485.88 Q1735.98 1485.51 1733.57 1484.77 L1733.57 1480.07 Q1735.65 1481.2 1737.87 1481.76 Q1740.1 1482.32 1742.57 1482.32 Q1746.58 1482.32 1748.92 1480.21 Q1751.25 1478.1 1751.25 1474.49 Q1751.25 1470.88 1748.92 1468.77 Q1746.58 1466.67 1742.57 1466.67 Q1740.7 1466.67 1738.82 1467.08 Q1736.97 1467.5 1735.03 1468.38 L1735.03 1451.02 Z\" fill=\"#000000\" fill-rule=\"nonzero\" fill-opacity=\"1\" /><path clip-path=\"url(#clip400)\" d=\"M2178.98 1481.64 L2195.3 1481.64 L2195.3 1485.58 L2173.36 1485.58 L2173.36 1481.64 Q2176.02 1478.89 2180.6 1474.26 Q2185.21 1469.61 2186.39 1468.27 Q2188.64 1465.74 2189.52 1464.01 Q2190.42 1462.25 2190.42 1460.56 Q2190.42 1457.8 2188.47 1456.07 Q2186.55 1454.33 2183.45 1454.33 Q2181.25 1454.33 2178.8 1455.09 Q2176.37 1455.86 2173.59 1457.41 L2173.59 1452.69 Q2176.41 1451.55 2178.87 1450.97 Q2181.32 1450.39 2183.36 1450.39 Q2188.73 1450.39 2191.92 1453.08 Q2195.12 1455.77 2195.12 1460.26 Q2195.12 1462.39 2194.31 1464.31 Q2193.52 1466.2 2191.41 1468.8 Q2190.83 1469.47 2187.73 1472.69 Q2184.63 1475.88 2178.98 1481.64 Z\" fill=\"#000000\" fill-rule=\"nonzero\" fill-opacity=\"1\" /><path clip-path=\"url(#clip400)\" d=\"M2215.12 1454.1 Q2211.51 1454.1 2209.68 1457.66 Q2207.87 1461.2 2207.87 1468.33 Q2207.87 1475.44 2209.68 1479.01 Q2211.51 1482.55 2215.12 1482.55 Q2218.75 1482.55 2220.56 1479.01 Q2222.39 1475.44 2222.39 1468.33 Q2222.39 1461.2 2220.56 1457.66 Q2218.75 1454.1 2215.12 1454.1 M2215.12 1450.39 Q2220.93 1450.39 2223.98 1455 Q2227.06 1459.58 2227.06 1468.33 Q2227.06 1477.06 2223.98 1481.67 Q2220.93 1486.25 2215.12 1486.25 Q2209.31 1486.25 2206.23 1481.67 Q2203.17 1477.06 2203.17 1468.33 Q2203.17 1459.58 2206.23 1455 Q2209.31 1450.39 2215.12 1450.39 Z\" fill=\"#000000\" fill-rule=\"nonzero\" fill-opacity=\"1\" /><path clip-path=\"url(#clip400)\" d=\"M1185.1 1522.27 L1185.1 1532.4 L1197.16 1532.4 L1197.16 1536.95 L1185.1 1536.95 L1185.1 1556.3 Q1185.1 1560.66 1186.28 1561.9 Q1187.48 1563.14 1191.15 1563.14 L1197.16 1563.14 L1197.16 1568.04 L1191.15 1568.04 Q1184.37 1568.04 1181.79 1565.53 Q1179.21 1562.98 1179.21 1556.3 L1179.21 1536.95 L1174.91 1536.95 L1174.91 1532.4 L1179.21 1532.4 L1179.21 1522.27 L1185.1 1522.27 Z\" fill=\"#000000\" fill-rule=\"nonzero\" fill-opacity=\"1\" /><path clip-path=\"url(#clip400)\" d=\"M1234.5 1546.53 L1234.5 1568.04 L1228.64 1568.04 L1228.64 1546.72 Q1228.64 1541.66 1226.67 1539.14 Q1224.69 1536.63 1220.75 1536.63 Q1216 1536.63 1213.27 1539.65 Q1210.53 1542.68 1210.53 1547.9 L1210.53 1568.04 L1204.64 1568.04 L1204.64 1518.52 L1210.53 1518.52 L1210.53 1537.93 Q1212.63 1534.72 1215.46 1533.13 Q1218.33 1531.54 1222.05 1531.54 Q1228.19 1531.54 1231.34 1535.36 Q1234.5 1539.14 1234.5 1546.53 Z\" fill=\"#000000\" fill-rule=\"nonzero\" fill-opacity=\"1\" /><path clip-path=\"url(#clip400)\" d=\"M1266.83 1537.87 Q1265.85 1537.3 1264.67 1537.04 Q1263.52 1536.76 1262.12 1536.76 Q1257.16 1536.76 1254.48 1540 Q1251.84 1543.22 1251.84 1549.27 L1251.84 1568.04 L1245.95 1568.04 L1245.95 1532.4 L1251.84 1532.4 L1251.84 1537.93 Q1253.69 1534.69 1256.65 1533.13 Q1259.61 1531.54 1263.84 1531.54 Q1264.45 1531.54 1265.18 1531.63 Q1265.91 1531.7 1266.8 1531.85 L1266.83 1537.87 Z\" fill=\"#000000\" fill-rule=\"nonzero\" fill-opacity=\"1\" /><path clip-path=\"url(#clip400)\" d=\"M1302.04 1548.76 L1302.04 1551.62 L1275.11 1551.62 Q1275.49 1557.67 1278.74 1560.85 Q1282.02 1564 1287.84 1564 Q1291.21 1564 1294.37 1563.17 Q1297.55 1562.35 1300.67 1560.69 L1300.67 1566.23 Q1297.52 1567.57 1294.21 1568.27 Q1290.9 1568.97 1287.49 1568.97 Q1278.96 1568.97 1273.96 1564 Q1269 1559.04 1269 1550.57 Q1269 1541.82 1273.71 1536.69 Q1278.45 1531.54 1286.47 1531.54 Q1293.66 1531.54 1297.83 1536.18 Q1302.04 1540.8 1302.04 1548.76 M1296.18 1547.04 Q1296.12 1542.23 1293.47 1539.37 Q1290.86 1536.5 1286.54 1536.5 Q1281.63 1536.5 1278.67 1539.27 Q1275.75 1542.04 1275.3 1547.07 L1296.18 1547.04 Z\" fill=\"#000000\" fill-rule=\"nonzero\" fill-opacity=\"1\" /><path clip-path=\"url(#clip400)\" d=\"M1327.85 1550.12 Q1320.75 1550.12 1318.01 1551.75 Q1315.28 1553.37 1315.28 1557.29 Q1315.28 1560.4 1317.31 1562.25 Q1319.38 1564.07 1322.92 1564.07 Q1327.79 1564.07 1330.71 1560.63 Q1333.67 1557.16 1333.67 1551.43 L1333.67 1550.12 L1327.85 1550.12 M1339.53 1547.71 L1339.53 1568.04 L1333.67 1568.04 L1333.67 1562.63 Q1331.67 1565.88 1328.68 1567.44 Q1325.68 1568.97 1321.36 1568.97 Q1315.88 1568.97 1312.63 1565.91 Q1309.42 1562.82 1309.42 1557.67 Q1309.42 1551.65 1313.43 1548.6 Q1317.47 1545.54 1325.46 1545.54 L1333.67 1545.54 L1333.67 1544.97 Q1333.67 1540.93 1331 1538.73 Q1328.36 1536.5 1323.55 1536.5 Q1320.5 1536.5 1317.6 1537.23 Q1314.7 1537.97 1312.03 1539.43 L1312.03 1534.02 Q1315.24 1532.78 1318.27 1532.17 Q1321.29 1531.54 1324.16 1531.54 Q1331.89 1531.54 1335.71 1535.55 Q1339.53 1539.56 1339.53 1547.71 Z\" fill=\"#000000\" fill-rule=\"nonzero\" fill-opacity=\"1\" /><path clip-path=\"url(#clip400)\" d=\"M1375.05 1537.81 L1375.05 1518.52 L1380.91 1518.52 L1380.91 1568.04 L1375.05 1568.04 L1375.05 1562.7 Q1373.2 1565.88 1370.37 1567.44 Q1367.57 1568.97 1363.62 1568.97 Q1357.16 1568.97 1353.09 1563.81 Q1349.05 1558.65 1349.05 1550.25 Q1349.05 1541.85 1353.09 1536.69 Q1357.16 1531.54 1363.62 1531.54 Q1367.57 1531.54 1370.37 1533.1 Q1373.2 1534.62 1375.05 1537.81 M1355.09 1550.25 Q1355.09 1556.71 1357.74 1560.4 Q1360.41 1564.07 1365.06 1564.07 Q1369.7 1564.07 1372.38 1560.4 Q1375.05 1556.71 1375.05 1550.25 Q1375.05 1543.79 1372.38 1540.13 Q1369.7 1536.44 1365.06 1536.44 Q1360.41 1536.44 1357.74 1540.13 Q1355.09 1543.79 1355.09 1550.25 Z\" fill=\"#000000\" fill-rule=\"nonzero\" fill-opacity=\"1\" /><path clip-path=\"url(#clip400)\" d=\"M1392.97 1532.4 L1398.83 1532.4 L1398.83 1568.04 L1392.97 1568.04 L1392.97 1532.4 M1392.97 1518.52 L1398.83 1518.52 L1398.83 1525.93 L1392.97 1525.93 L1392.97 1518.52 Z\" fill=\"#000000\" fill-rule=\"nonzero\" fill-opacity=\"1\" /><path clip-path=\"url(#clip400)\" d=\"M1434.54 1537.81 L1434.54 1518.52 L1440.39 1518.52 L1440.39 1568.04 L1434.54 1568.04 L1434.54 1562.7 Q1432.69 1565.88 1429.86 1567.44 Q1427.06 1568.97 1423.11 1568.97 Q1416.65 1568.97 1412.58 1563.81 Q1408.53 1558.65 1408.53 1550.25 Q1408.53 1541.85 1412.58 1536.69 Q1416.65 1531.54 1423.11 1531.54 Q1427.06 1531.54 1429.86 1533.1 Q1432.69 1534.62 1434.54 1537.81 M1414.58 1550.25 Q1414.58 1556.71 1417.22 1560.4 Q1419.9 1564.07 1424.54 1564.07 Q1429.19 1564.07 1431.86 1560.4 Q1434.54 1556.71 1434.54 1550.25 Q1434.54 1543.79 1431.86 1540.13 Q1429.19 1536.44 1424.54 1536.44 Q1419.9 1536.44 1417.22 1540.13 Q1414.58 1543.79 1414.58 1550.25 Z\" fill=\"#000000\" fill-rule=\"nonzero\" fill-opacity=\"1\" /><polyline clip-path=\"url(#clip402)\" style=\"stroke:#000000; stroke-linecap:round; stroke-linejoin:round; stroke-width:2; stroke-opacity:0.1; fill:none\" points=\"262.551,1423.18 2352.76,1423.18 \"/>\n",
       "<polyline clip-path=\"url(#clip402)\" style=\"stroke:#000000; stroke-linecap:round; stroke-linejoin:round; stroke-width:2; stroke-opacity:0.1; fill:none\" points=\"262.551,1149.9 2352.76,1149.9 \"/>\n",
       "<polyline clip-path=\"url(#clip402)\" style=\"stroke:#000000; stroke-linecap:round; stroke-linejoin:round; stroke-width:2; stroke-opacity:0.1; fill:none\" points=\"262.551,876.625 2352.76,876.625 \"/>\n",
       "<polyline clip-path=\"url(#clip402)\" style=\"stroke:#000000; stroke-linecap:round; stroke-linejoin:round; stroke-width:2; stroke-opacity:0.1; fill:none\" points=\"262.551,603.347 2352.76,603.347 \"/>\n",
       "<polyline clip-path=\"url(#clip402)\" style=\"stroke:#000000; stroke-linecap:round; stroke-linejoin:round; stroke-width:2; stroke-opacity:0.1; fill:none\" points=\"262.551,330.07 2352.76,330.07 \"/>\n",
       "<polyline clip-path=\"url(#clip400)\" style=\"stroke:#000000; stroke-linecap:round; stroke-linejoin:round; stroke-width:4; stroke-opacity:1; fill:none\" points=\"262.551,1423.18 262.551,123.472 \"/>\n",
       "<polyline clip-path=\"url(#clip400)\" style=\"stroke:#000000; stroke-linecap:round; stroke-linejoin:round; stroke-width:4; stroke-opacity:1; fill:none\" points=\"262.551,1423.18 281.449,1423.18 \"/>\n",
       "<polyline clip-path=\"url(#clip400)\" style=\"stroke:#000000; stroke-linecap:round; stroke-linejoin:round; stroke-width:4; stroke-opacity:1; fill:none\" points=\"262.551,1149.9 281.449,1149.9 \"/>\n",
       "<polyline clip-path=\"url(#clip400)\" style=\"stroke:#000000; stroke-linecap:round; stroke-linejoin:round; stroke-width:4; stroke-opacity:1; fill:none\" points=\"262.551,876.625 281.449,876.625 \"/>\n",
       "<polyline clip-path=\"url(#clip400)\" style=\"stroke:#000000; stroke-linecap:round; stroke-linejoin:round; stroke-width:4; stroke-opacity:1; fill:none\" points=\"262.551,603.347 281.449,603.347 \"/>\n",
       "<polyline clip-path=\"url(#clip400)\" style=\"stroke:#000000; stroke-linecap:round; stroke-linejoin:round; stroke-width:4; stroke-opacity:1; fill:none\" points=\"262.551,330.07 281.449,330.07 \"/>\n",
       "<path clip-path=\"url(#clip400)\" d=\"M214.607 1408.98 Q210.996 1408.98 209.167 1412.54 Q207.362 1416.08 207.362 1423.21 Q207.362 1430.32 209.167 1433.89 Q210.996 1437.43 214.607 1437.43 Q218.241 1437.43 220.047 1433.89 Q221.875 1430.32 221.875 1423.21 Q221.875 1416.08 220.047 1412.54 Q218.241 1408.98 214.607 1408.98 M214.607 1405.27 Q220.417 1405.27 223.473 1409.88 Q226.551 1414.46 226.551 1423.21 Q226.551 1431.94 223.473 1436.55 Q220.417 1441.13 214.607 1441.13 Q208.797 1441.13 205.718 1436.55 Q202.662 1431.94 202.662 1423.21 Q202.662 1414.46 205.718 1409.88 Q208.797 1405.27 214.607 1405.27 Z\" fill=\"#000000\" fill-rule=\"nonzero\" fill-opacity=\"1\" /><path clip-path=\"url(#clip400)\" d=\"M148.311 1163.25 L164.63 1163.25 L164.63 1167.18 L142.686 1167.18 L142.686 1163.25 Q145.348 1160.49 149.931 1155.86 Q154.538 1151.21 155.718 1149.87 Q157.964 1147.34 158.843 1145.61 Q159.746 1143.85 159.746 1142.16 Q159.746 1139.4 157.802 1137.67 Q155.88 1135.93 152.778 1135.93 Q150.579 1135.93 148.126 1136.7 Q145.695 1137.46 142.917 1139.01 L142.917 1134.29 Q145.741 1133.15 148.195 1132.58 Q150.649 1132 152.686 1132 Q158.056 1132 161.251 1134.68 Q164.445 1137.37 164.445 1141.86 Q164.445 1143.99 163.635 1145.91 Q162.848 1147.81 160.741 1150.4 Q160.163 1151.07 157.061 1154.29 Q153.959 1157.48 148.311 1163.25 Z\" fill=\"#000000\" fill-rule=\"nonzero\" fill-opacity=\"1\" /><path clip-path=\"url(#clip400)\" d=\"M174.491 1132.62 L192.848 1132.62 L192.848 1136.56 L178.774 1136.56 L178.774 1145.03 Q179.792 1144.68 180.811 1144.52 Q181.829 1144.34 182.848 1144.34 Q188.635 1144.34 192.014 1147.51 Q195.394 1150.68 195.394 1156.09 Q195.394 1161.67 191.922 1164.77 Q188.45 1167.85 182.13 1167.85 Q179.954 1167.85 177.686 1167.48 Q175.44 1167.11 173.033 1166.37 L173.033 1161.67 Q175.116 1162.81 177.339 1163.36 Q179.561 1163.92 182.038 1163.92 Q186.042 1163.92 188.38 1161.81 Q190.718 1159.71 190.718 1156.09 Q190.718 1152.48 188.38 1150.38 Q186.042 1148.27 182.038 1148.27 Q180.163 1148.27 178.288 1148.69 Q176.436 1149.1 174.491 1149.98 L174.491 1132.62 Z\" fill=\"#000000\" fill-rule=\"nonzero\" fill-opacity=\"1\" /><path clip-path=\"url(#clip400)\" d=\"M214.607 1135.7 Q210.996 1135.7 209.167 1139.27 Q207.362 1142.81 207.362 1149.94 Q207.362 1157.04 209.167 1160.61 Q210.996 1164.15 214.607 1164.15 Q218.241 1164.15 220.047 1160.61 Q221.875 1157.04 221.875 1149.94 Q221.875 1142.81 220.047 1139.27 Q218.241 1135.7 214.607 1135.7 M214.607 1132 Q220.417 1132 223.473 1136.6 Q226.551 1141.19 226.551 1149.94 Q226.551 1158.66 223.473 1163.27 Q220.417 1167.85 214.607 1167.85 Q208.797 1167.85 205.718 1163.27 Q202.662 1158.66 202.662 1149.94 Q202.662 1141.19 205.718 1136.6 Q208.797 1132 214.607 1132 Z\" fill=\"#000000\" fill-rule=\"nonzero\" fill-opacity=\"1\" /><path clip-path=\"url(#clip400)\" d=\"M144.329 859.345 L162.686 859.345 L162.686 863.28 L148.612 863.28 L148.612 871.752 Q149.63 871.405 150.649 871.243 Q151.667 871.058 152.686 871.058 Q158.473 871.058 161.852 874.229 Q165.232 877.4 165.232 882.817 Q165.232 888.396 161.76 891.497 Q158.288 894.576 151.968 894.576 Q149.792 894.576 147.524 894.206 Q145.279 893.835 142.871 893.095 L142.871 888.396 Q144.954 889.53 147.177 890.085 Q149.399 890.641 151.876 890.641 Q155.88 890.641 158.218 888.535 Q160.556 886.428 160.556 882.817 Q160.556 879.206 158.218 877.099 Q155.88 874.993 151.876 874.993 Q150.001 874.993 148.126 875.41 Q146.274 875.826 144.329 876.706 L144.329 859.345 Z\" fill=\"#000000\" fill-rule=\"nonzero\" fill-opacity=\"1\" /><path clip-path=\"url(#clip400)\" d=\"M184.445 862.424 Q180.834 862.424 179.005 865.988 Q177.2 869.53 177.2 876.66 Q177.2 883.766 179.005 887.331 Q180.834 890.872 184.445 890.872 Q188.079 890.872 189.885 887.331 Q191.713 883.766 191.713 876.66 Q191.713 869.53 189.885 865.988 Q188.079 862.424 184.445 862.424 M184.445 858.72 Q190.255 858.72 193.311 863.326 Q196.389 867.91 196.389 876.66 Q196.389 885.386 193.311 889.993 Q190.255 894.576 184.445 894.576 Q178.635 894.576 175.556 889.993 Q172.501 885.386 172.501 876.66 Q172.501 867.91 175.556 863.326 Q178.635 858.72 184.445 858.72 Z\" fill=\"#000000\" fill-rule=\"nonzero\" fill-opacity=\"1\" /><path clip-path=\"url(#clip400)\" d=\"M214.607 862.424 Q210.996 862.424 209.167 865.988 Q207.362 869.53 207.362 876.66 Q207.362 883.766 209.167 887.331 Q210.996 890.872 214.607 890.872 Q218.241 890.872 220.047 887.331 Q221.875 883.766 221.875 876.66 Q221.875 869.53 220.047 865.988 Q218.241 862.424 214.607 862.424 M214.607 858.72 Q220.417 858.72 223.473 863.326 Q226.551 867.91 226.551 876.66 Q226.551 885.386 223.473 889.993 Q220.417 894.576 214.607 894.576 Q208.797 894.576 205.718 889.993 Q202.662 885.386 202.662 876.66 Q202.662 867.91 205.718 863.326 Q208.797 858.72 214.607 858.72 Z\" fill=\"#000000\" fill-rule=\"nonzero\" fill-opacity=\"1\" /><path clip-path=\"url(#clip400)\" d=\"M143.103 586.067 L165.325 586.067 L165.325 588.058 L152.778 620.627 L147.894 620.627 L159.7 590.003 L143.103 590.003 L143.103 586.067 Z\" fill=\"#000000\" fill-rule=\"nonzero\" fill-opacity=\"1\" /><path clip-path=\"url(#clip400)\" d=\"M174.491 586.067 L192.848 586.067 L192.848 590.003 L178.774 590.003 L178.774 598.475 Q179.792 598.128 180.811 597.965 Q181.829 597.78 182.848 597.78 Q188.635 597.78 192.014 600.952 Q195.394 604.123 195.394 609.539 Q195.394 615.118 191.922 618.22 Q188.45 621.299 182.13 621.299 Q179.954 621.299 177.686 620.928 Q175.44 620.558 173.033 619.817 L173.033 615.118 Q175.116 616.252 177.339 616.808 Q179.561 617.364 182.038 617.364 Q186.042 617.364 188.38 615.257 Q190.718 613.151 190.718 609.539 Q190.718 605.928 188.38 603.822 Q186.042 601.715 182.038 601.715 Q180.163 601.715 178.288 602.132 Q176.436 602.549 174.491 603.428 L174.491 586.067 Z\" fill=\"#000000\" fill-rule=\"nonzero\" fill-opacity=\"1\" /><path clip-path=\"url(#clip400)\" d=\"M214.607 589.146 Q210.996 589.146 209.167 592.711 Q207.362 596.253 207.362 603.382 Q207.362 610.489 209.167 614.053 Q210.996 617.595 214.607 617.595 Q218.241 617.595 220.047 614.053 Q221.875 610.489 221.875 603.382 Q221.875 596.253 220.047 592.711 Q218.241 589.146 214.607 589.146 M214.607 585.442 Q220.417 585.442 223.473 590.049 Q226.551 594.632 226.551 603.382 Q226.551 612.109 223.473 616.715 Q220.417 621.299 214.607 621.299 Q208.797 621.299 205.718 616.715 Q202.662 612.109 202.662 603.382 Q202.662 594.632 205.718 590.049 Q208.797 585.442 214.607 585.442 Z\" fill=\"#000000\" fill-rule=\"nonzero\" fill-opacity=\"1\" /><path clip-path=\"url(#clip400)\" d=\"M114.931 343.415 L122.57 343.415 L122.57 317.049 L114.26 318.716 L114.26 314.457 L122.524 312.79 L127.2 312.79 L127.2 343.415 L134.839 343.415 L134.839 347.35 L114.931 347.35 L114.931 343.415 Z\" fill=\"#000000\" fill-rule=\"nonzero\" fill-opacity=\"1\" /><path clip-path=\"url(#clip400)\" d=\"M154.283 315.869 Q150.672 315.869 148.843 319.433 Q147.038 322.975 147.038 330.105 Q147.038 337.211 148.843 340.776 Q150.672 344.318 154.283 344.318 Q157.917 344.318 159.723 340.776 Q161.552 337.211 161.552 330.105 Q161.552 322.975 159.723 319.433 Q157.917 315.869 154.283 315.869 M154.283 312.165 Q160.093 312.165 163.149 316.771 Q166.227 321.355 166.227 330.105 Q166.227 338.831 163.149 343.438 Q160.093 348.021 154.283 348.021 Q148.473 348.021 145.394 343.438 Q142.339 338.831 142.339 330.105 Q142.339 321.355 145.394 316.771 Q148.473 312.165 154.283 312.165 Z\" fill=\"#000000\" fill-rule=\"nonzero\" fill-opacity=\"1\" /><path clip-path=\"url(#clip400)\" d=\"M184.445 315.869 Q180.834 315.869 179.005 319.433 Q177.2 322.975 177.2 330.105 Q177.2 337.211 179.005 340.776 Q180.834 344.318 184.445 344.318 Q188.079 344.318 189.885 340.776 Q191.713 337.211 191.713 330.105 Q191.713 322.975 189.885 319.433 Q188.079 315.869 184.445 315.869 M184.445 312.165 Q190.255 312.165 193.311 316.771 Q196.389 321.355 196.389 330.105 Q196.389 338.831 193.311 343.438 Q190.255 348.021 184.445 348.021 Q178.635 348.021 175.556 343.438 Q172.501 338.831 172.501 330.105 Q172.501 321.355 175.556 316.771 Q178.635 312.165 184.445 312.165 Z\" fill=\"#000000\" fill-rule=\"nonzero\" fill-opacity=\"1\" /><path clip-path=\"url(#clip400)\" d=\"M214.607 315.869 Q210.996 315.869 209.167 319.433 Q207.362 322.975 207.362 330.105 Q207.362 337.211 209.167 340.776 Q210.996 344.318 214.607 344.318 Q218.241 344.318 220.047 340.776 Q221.875 337.211 221.875 330.105 Q221.875 322.975 220.047 319.433 Q218.241 315.869 214.607 315.869 M214.607 312.165 Q220.417 312.165 223.473 316.771 Q226.551 321.355 226.551 330.105 Q226.551 338.831 223.473 343.438 Q220.417 348.021 214.607 348.021 Q208.797 348.021 205.718 343.438 Q202.662 338.831 202.662 330.105 Q202.662 321.355 205.718 316.771 Q208.797 312.165 214.607 312.165 Z\" fill=\"#000000\" fill-rule=\"nonzero\" fill-opacity=\"1\" /><path clip-path=\"url(#clip400)\" d=\"M28.3562 917.525 L28.3562 911.669 L56.1743 904.348 L28.3562 897.059 L28.3562 890.153 L56.1743 882.832 L28.3562 875.543 L28.3562 869.687 L64.0042 879.013 L64.0042 885.919 L34.7856 893.59 L64.0042 901.293 L64.0042 908.199 L28.3562 917.525 Z\" fill=\"#000000\" fill-rule=\"nonzero\" fill-opacity=\"1\" /><path clip-path=\"url(#clip400)\" d=\"M32.4621 846.993 Q32.4621 851.704 36.1542 854.441 Q39.8145 857.178 46.212 857.178 Q52.6095 857.178 56.3017 854.473 Q59.9619 851.736 59.9619 846.993 Q59.9619 842.314 56.2698 839.577 Q52.5777 836.84 46.212 836.84 Q39.8781 836.84 36.186 839.577 Q32.4621 842.314 32.4621 846.993 M27.4968 846.993 Q27.4968 839.354 32.4621 834.994 Q37.4273 830.633 46.212 830.633 Q54.9649 830.633 59.9619 834.994 Q64.9272 839.354 64.9272 846.993 Q64.9272 854.664 59.9619 859.024 Q54.9649 863.353 46.212 863.353 Q37.4273 863.353 32.4621 859.024 Q27.4968 854.664 27.4968 846.993 Z\" fill=\"#000000\" fill-rule=\"nonzero\" fill-opacity=\"1\" /><path clip-path=\"url(#clip400)\" d=\"M33.8307 800.269 Q33.2578 801.256 33.0032 802.433 Q32.7167 803.579 32.7167 804.979 Q32.7167 809.945 35.9632 812.618 Q39.1779 815.26 45.2253 815.26 L64.0042 815.26 L64.0042 821.148 L28.3562 821.148 L28.3562 815.26 L33.8944 815.26 Q30.6479 813.414 29.0883 810.454 Q27.4968 807.494 27.4968 803.261 Q27.4968 802.656 27.5923 801.924 Q27.656 801.192 27.8151 800.301 L33.8307 800.269 Z\" fill=\"#000000\" fill-rule=\"nonzero\" fill-opacity=\"1\" /><path clip-path=\"url(#clip400)\" d=\"M14.479 794.349 L14.479 788.46 L43.7294 788.46 L28.3562 770.987 L28.3562 763.507 L45.0344 782.413 L64.0042 762.711 L64.0042 770.35 L46.5939 788.46 L64.0042 788.46 L64.0042 794.349 L14.479 794.349 Z\" fill=\"#000000\" fill-rule=\"nonzero\" fill-opacity=\"1\" /><path clip-path=\"url(#clip400)\" d=\"M14.479 756.377 L14.479 750.521 L64.0042 750.521 L64.0042 756.377 L14.479 756.377 Z\" fill=\"#000000\" fill-rule=\"nonzero\" fill-opacity=\"1\" /><path clip-path=\"url(#clip400)\" d=\"M32.4621 724.453 Q32.4621 729.164 36.1542 731.901 Q39.8145 734.638 46.212 734.638 Q52.6095 734.638 56.3017 731.933 Q59.9619 729.196 59.9619 724.453 Q59.9619 719.774 56.2698 717.037 Q52.5777 714.3 46.212 714.3 Q39.8781 714.3 36.186 717.037 Q32.4621 719.774 32.4621 724.453 M27.4968 724.453 Q27.4968 716.814 32.4621 712.454 Q37.4273 708.093 46.212 708.093 Q54.9649 708.093 59.9619 712.454 Q64.9272 716.814 64.9272 724.453 Q64.9272 732.124 59.9619 736.484 Q54.9649 740.813 46.212 740.813 Q37.4273 740.813 32.4621 736.484 Q27.4968 732.124 27.4968 724.453 Z\" fill=\"#000000\" fill-rule=\"nonzero\" fill-opacity=\"1\" /><path clip-path=\"url(#clip400)\" d=\"M46.0847 682.185 Q46.0847 689.283 47.7079 692.02 Q49.3312 694.757 53.2461 694.757 Q56.3653 694.757 58.2114 692.72 Q60.0256 690.651 60.0256 687.118 Q60.0256 682.249 56.5881 679.32 Q53.1188 676.36 47.3897 676.36 L46.0847 676.36 L46.0847 682.185 M43.6657 670.504 L64.0042 670.504 L64.0042 676.36 L58.5933 676.36 Q61.8398 678.366 63.3994 681.357 Q64.9272 684.349 64.9272 688.678 Q64.9272 694.153 61.8716 697.399 Q58.7843 700.614 53.6281 700.614 Q47.6125 700.614 44.5569 696.603 Q41.5014 692.561 41.5014 684.572 L41.5014 676.36 L40.9285 676.36 Q36.8862 676.36 34.6901 679.034 Q32.4621 681.676 32.4621 686.482 Q32.4621 689.537 33.1941 692.434 Q33.9262 695.33 35.3903 698.004 L29.9795 698.004 Q28.7381 694.789 28.1334 691.765 Q27.4968 688.742 27.4968 685.877 Q27.4968 678.143 31.5072 674.323 Q35.5176 670.504 43.6657 670.504 Z\" fill=\"#000000\" fill-rule=\"nonzero\" fill-opacity=\"1\" /><path clip-path=\"url(#clip400)\" d=\"M33.7671 634.983 L14.479 634.983 L14.479 629.127 L64.0042 629.127 L64.0042 634.983 L58.657 634.983 Q61.8398 636.829 63.3994 639.662 Q64.9272 642.463 64.9272 646.41 Q64.9272 652.871 59.771 656.945 Q54.6147 660.987 46.212 660.987 Q37.8093 660.987 32.6531 656.945 Q27.4968 652.871 27.4968 646.41 Q27.4968 642.463 29.0564 639.662 Q30.5842 636.829 33.7671 634.983 M46.212 654.94 Q52.6732 654.94 56.3653 652.298 Q60.0256 649.624 60.0256 644.977 Q60.0256 640.33 56.3653 637.657 Q52.6732 634.983 46.212 634.983 Q39.7508 634.983 36.0905 637.657 Q32.3984 640.33 32.3984 644.977 Q32.3984 649.624 36.0905 652.298 Q39.7508 654.94 46.212 654.94 Z\" fill=\"#000000\" fill-rule=\"nonzero\" fill-opacity=\"1\" /><path clip-path=\"url(#clip400)\" d=\"M1164.25 50.8226 Q1164.25 56.6154 1167.13 59.9372 Q1170 63.2184 1175.03 63.2184 Q1180.01 63.2184 1182.85 59.8967 Q1185.72 56.5749 1185.72 50.8226 Q1185.72 45.1514 1182.8 41.8296 Q1179.89 38.4674 1174.95 38.4674 Q1170.04 38.4674 1167.13 41.7891 Q1164.25 45.1109 1164.25 50.8226 M1186.33 62.9348 Q1183.9 66.054 1180.74 67.5529 Q1177.62 69.0112 1173.45 69.0112 Q1166.48 69.0112 1162.1 63.9881 Q1157.77 58.9245 1157.77 50.8226 Q1157.77 42.7208 1162.15 37.6572 Q1166.52 32.5936 1173.45 32.5936 Q1177.62 32.5936 1180.78 34.1329 Q1183.94 35.6318 1186.33 38.7104 L1186.33 33.4038 L1192.12 33.4038 L1192.12 63.2184 Q1198.04 62.3272 1201.36 57.8307 Q1204.72 53.2937 1204.72 46.1236 Q1204.72 41.7891 1203.42 37.9813 Q1202.17 34.1734 1199.58 30.9327 Q1195.36 25.626 1189.29 22.8309 Q1183.25 19.9953 1176.12 19.9953 Q1171.14 19.9953 1166.56 21.3321 Q1161.98 22.6284 1158.09 25.2209 Q1151.73 29.3529 1148.13 36.0774 Q1144.56 42.7613 1144.56 50.5796 Q1144.56 57.0205 1146.87 62.6513 Q1149.22 68.282 1153.64 72.576 Q1157.89 76.7889 1163.48 78.9764 Q1169.07 81.2044 1175.43 81.2044 Q1180.66 81.2044 1185.68 79.422 Q1190.74 77.6801 1194.96 74.3989 L1198.6 78.8954 Q1193.54 82.8248 1187.54 84.8907 Q1181.59 86.9972 1175.43 86.9972 Q1167.94 86.9972 1161.29 84.3236 Q1154.65 81.6905 1149.47 76.6269 Q1144.28 71.5633 1141.57 64.9198 Q1138.85 58.2358 1138.85 50.5796 Q1138.85 43.2069 1141.61 36.523 Q1144.36 29.839 1149.47 24.7753 Q1154.69 19.6307 1161.54 16.9166 Q1168.38 14.162 1176.04 14.162 Q1184.63 14.162 1191.96 17.6862 Q1199.33 21.2105 1204.31 27.692 Q1207.35 31.6619 1208.93 36.3204 Q1210.55 40.9789 1210.55 45.9616 Q1210.55 56.6154 1204.11 62.7728 Q1197.67 68.9302 1186.33 69.1732 L1186.33 62.9348 Z\" fill=\"#000000\" fill-rule=\"nonzero\" fill-opacity=\"1\" /><path clip-path=\"url(#clip400)\" d=\"M1253.09 28.5427 L1253.09 35.5912 Q1249.93 33.9709 1246.53 33.1607 Q1243.12 32.3505 1239.48 32.3505 Q1233.93 32.3505 1231.13 34.0519 Q1228.38 35.7533 1228.38 39.156 Q1228.38 41.7486 1230.36 43.2475 Q1232.35 44.7058 1238.34 46.0426 L1240.89 46.6097 Q1248.83 48.3111 1252.16 51.4303 Q1255.52 54.509 1255.52 60.0587 Q1255.52 66.3781 1250.5 70.0644 Q1245.51 73.7508 1236.76 73.7508 Q1233.12 73.7508 1229.15 73.0216 Q1225.22 72.3329 1220.84 70.9151 L1220.84 63.2184 Q1224.97 65.3654 1228.99 66.4591 Q1233 67.5124 1236.92 67.5124 Q1242.19 67.5124 1245.03 65.73 Q1247.86 63.9071 1247.86 60.6258 Q1247.86 57.5877 1245.8 55.9673 Q1243.77 54.3469 1236.84 52.8481 L1234.25 52.2405 Q1227.32 50.7821 1224.25 47.7845 Q1221.17 44.7463 1221.17 39.4801 Q1221.17 33.0797 1225.7 29.5959 Q1230.24 26.1121 1238.59 26.1121 Q1242.72 26.1121 1246.36 26.7198 Q1250.01 27.3274 1253.09 28.5427 Z\" fill=\"#000000\" fill-rule=\"nonzero\" fill-opacity=\"1\" /><path clip-path=\"url(#clip400)\" d=\"M1274.6 65.7705 L1274.6 89.8329 L1267.1 89.8329 L1267.1 27.2059 L1274.6 27.2059 L1274.6 34.0924 Q1276.95 30.0415 1280.51 28.0971 Q1284.12 26.1121 1289.1 26.1121 Q1297.36 26.1121 1302.51 32.6746 Q1307.69 39.2371 1307.69 49.9314 Q1307.69 60.6258 1302.51 67.1883 Q1297.36 73.7508 1289.1 73.7508 Q1284.12 73.7508 1280.51 71.8063 Q1276.95 69.8214 1274.6 65.7705 M1299.96 49.9314 Q1299.96 41.7081 1296.55 37.0496 Q1293.19 32.3505 1287.28 32.3505 Q1281.36 32.3505 1277.96 37.0496 Q1274.6 41.7081 1274.6 49.9314 Q1274.6 58.1548 1277.96 62.8538 Q1281.36 67.5124 1287.28 67.5124 Q1293.19 67.5124 1296.55 62.8538 Q1299.96 58.1548 1299.96 49.9314 Z\" fill=\"#000000\" fill-rule=\"nonzero\" fill-opacity=\"1\" /><path clip-path=\"url(#clip400)\" d=\"M1340.67 49.7694 Q1331.63 49.7694 1328.15 51.8354 Q1324.67 53.9013 1324.67 58.8839 Q1324.67 62.8538 1327.26 65.2034 Q1329.89 67.5124 1334.39 67.5124 Q1340.59 67.5124 1344.31 63.1374 Q1348.08 58.7219 1348.08 51.4303 L1348.08 49.7694 L1340.67 49.7694 M1355.54 46.6907 L1355.54 72.576 L1348.08 72.576 L1348.08 65.6895 Q1345.53 69.8214 1341.72 71.8063 Q1337.91 73.7508 1332.4 73.7508 Q1325.44 73.7508 1321.31 69.8619 Q1317.21 65.9325 1317.21 59.3701 Q1317.21 51.7138 1322.32 47.825 Q1327.46 43.9361 1337.63 43.9361 L1348.08 43.9361 L1348.08 43.2069 Q1348.08 38.0623 1344.68 35.2672 Q1341.32 32.4315 1335.2 32.4315 Q1331.31 32.4315 1327.62 33.3632 Q1323.94 34.295 1320.54 36.1584 L1320.54 29.2718 Q1324.63 27.692 1328.48 26.9223 Q1332.32 26.1121 1335.97 26.1121 Q1345.81 26.1121 1350.67 31.2163 Q1355.54 36.3204 1355.54 46.6907 Z\" fill=\"#000000\" fill-rule=\"nonzero\" fill-opacity=\"1\" /><path clip-path=\"url(#clip400)\" d=\"M1366.55 27.2059 L1374.01 27.2059 L1383.32 62.6108 L1392.6 27.2059 L1401.39 27.2059 L1410.71 62.6108 L1419.99 27.2059 L1427.44 27.2059 L1415.57 72.576 L1406.78 72.576 L1397.02 35.3887 L1387.21 72.576 L1378.42 72.576 L1366.55 27.2059 Z\" fill=\"#000000\" fill-rule=\"nonzero\" fill-opacity=\"1\" /><path clip-path=\"url(#clip400)\" d=\"M1476.45 45.1919 L1476.45 72.576 L1469 72.576 L1469 45.4349 Q1469 38.994 1466.49 35.7938 Q1463.98 32.5936 1458.95 32.5936 Q1452.92 32.5936 1449.44 36.4419 Q1445.95 40.2903 1445.95 46.9338 L1445.95 72.576 L1438.46 72.576 L1438.46 27.2059 L1445.95 27.2059 L1445.95 34.2544 Q1448.63 30.163 1452.23 28.1376 Q1455.88 26.1121 1460.62 26.1121 Q1468.43 26.1121 1472.44 30.9732 Q1476.45 35.7938 1476.45 45.1919 Z\" fill=\"#000000\" fill-rule=\"nonzero\" fill-opacity=\"1\" /><path clip-path=\"url(#clip402)\" d=\"M377.516 271.042 L377.516 350.839 L452.679 350.839 L452.679 271.042 L377.516 271.042 L377.516 271.042  Z\" fill=\"#009af9\" fill-rule=\"evenodd\" fill-opacity=\"1\"/>\n",
       "<polyline clip-path=\"url(#clip402)\" style=\"stroke:#000000; stroke-linecap:round; stroke-linejoin:round; stroke-width:4; stroke-opacity:1; fill:none\" points=\"377.516,271.042 377.516,350.839 452.679,350.839 452.679,271.042 377.516,271.042 \"/>\n",
       "<path clip-path=\"url(#clip402)\" d=\"M471.469 311.487 L471.469 321.325 L546.632 321.325 L546.632 311.487 L471.469 311.487 L471.469 311.487  Z\" fill=\"#009af9\" fill-rule=\"evenodd\" fill-opacity=\"1\"/>\n",
       "<polyline clip-path=\"url(#clip402)\" style=\"stroke:#000000; stroke-linecap:round; stroke-linejoin:round; stroke-width:4; stroke-opacity:1; fill:none\" points=\"471.469,311.487 471.469,321.325 546.632,321.325 546.632,311.487 471.469,311.487 \"/>\n",
       "<path clip-path=\"url(#clip402)\" d=\"M565.423 299.463 L565.423 322.418 L640.585 322.418 L640.585 299.463 L565.423 299.463 L565.423 299.463  Z\" fill=\"#009af9\" fill-rule=\"evenodd\" fill-opacity=\"1\"/>\n",
       "<polyline clip-path=\"url(#clip402)\" style=\"stroke:#000000; stroke-linecap:round; stroke-linejoin:round; stroke-width:4; stroke-opacity:1; fill:none\" points=\"565.423,299.463 565.423,322.418 640.585,322.418 640.585,299.463 565.423,299.463 \"/>\n",
       "<path clip-path=\"url(#clip402)\" d=\"M659.376 264.483 L659.376 280.88 L734.539 280.88 L734.539 264.483 L659.376 264.483 L659.376 264.483  Z\" fill=\"#009af9\" fill-rule=\"evenodd\" fill-opacity=\"1\"/>\n",
       "<polyline clip-path=\"url(#clip402)\" style=\"stroke:#000000; stroke-linecap:round; stroke-linejoin:round; stroke-width:4; stroke-opacity:1; fill:none\" points=\"659.376,264.483 659.376,280.88 734.539,280.88 734.539,264.483 659.376,264.483 \"/>\n",
       "<path clip-path=\"url(#clip402)\" d=\"M753.329 312.58 L753.329 327.884 L828.492 327.884 L828.492 312.58 L753.329 312.58 L753.329 312.58  Z\" fill=\"#009af9\" fill-rule=\"evenodd\" fill-opacity=\"1\"/>\n",
       "<polyline clip-path=\"url(#clip402)\" style=\"stroke:#000000; stroke-linecap:round; stroke-linejoin:round; stroke-width:4; stroke-opacity:1; fill:none\" points=\"753.329,312.58 753.329,327.884 828.492,327.884 828.492,312.58 753.329,312.58 \"/>\n",
       "<path clip-path=\"url(#clip402)\" d=\"M847.283 246.994 L847.283 268.856 L922.445 268.856 L922.445 246.994 L847.283 246.994 L847.283 246.994  Z\" fill=\"#009af9\" fill-rule=\"evenodd\" fill-opacity=\"1\"/>\n",
       "<polyline clip-path=\"url(#clip402)\" style=\"stroke:#000000; stroke-linecap:round; stroke-linejoin:round; stroke-width:4; stroke-opacity:1; fill:none\" points=\"847.283,246.994 847.283,268.856 922.445,268.856 922.445,246.994 847.283,246.994 \"/>\n",
       "<path clip-path=\"url(#clip402)\" d=\"M941.236 287.439 L941.236 314.766 L1016.4 314.766 L1016.4 287.439 L941.236 287.439 L941.236 287.439  Z\" fill=\"#009af9\" fill-rule=\"evenodd\" fill-opacity=\"1\"/>\n",
       "<polyline clip-path=\"url(#clip402)\" style=\"stroke:#000000; stroke-linecap:round; stroke-linejoin:round; stroke-width:4; stroke-opacity:1; fill:none\" points=\"941.236,287.439 941.236,314.766 1016.4,314.766 1016.4,287.439 941.236,287.439 \"/>\n",
       "<path clip-path=\"url(#clip402)\" d=\"M1035.19 254.645 L1035.19 261.204 L1110.35 261.204 L1110.35 254.645 L1035.19 254.645 L1035.19 254.645  Z\" fill=\"#009af9\" fill-rule=\"evenodd\" fill-opacity=\"1\"/>\n",
       "<polyline clip-path=\"url(#clip402)\" style=\"stroke:#000000; stroke-linecap:round; stroke-linejoin:round; stroke-width:4; stroke-opacity:1; fill:none\" points=\"1035.19,254.645 1035.19,261.204 1110.35,261.204 1110.35,254.645 1035.19,254.645 \"/>\n",
       "<path clip-path=\"url(#clip402)\" d=\"M1129.14 229.504 L1129.14 230.597 L1204.3 230.597 L1204.3 229.504 L1129.14 229.504 L1129.14 229.504  Z\" fill=\"#009af9\" fill-rule=\"evenodd\" fill-opacity=\"1\"/>\n",
       "<polyline clip-path=\"url(#clip402)\" style=\"stroke:#000000; stroke-linecap:round; stroke-linejoin:round; stroke-width:4; stroke-opacity:1; fill:none\" points=\"1129.14,229.504 1129.14,230.597 1204.3,230.597 1204.3,229.504 1129.14,229.504 \"/>\n",
       "<path clip-path=\"url(#clip402)\" d=\"M1223.1 171.569 L1223.1 177.035 L1298.26 177.035 L1298.26 171.569 L1223.1 171.569 L1223.1 171.569  Z\" fill=\"#009af9\" fill-rule=\"evenodd\" fill-opacity=\"1\"/>\n",
       "<polyline clip-path=\"url(#clip402)\" style=\"stroke:#000000; stroke-linecap:round; stroke-linejoin:round; stroke-width:4; stroke-opacity:1; fill:none\" points=\"1223.1,171.569 1223.1,177.035 1298.26,177.035 1298.26,171.569 1223.1,171.569 \"/>\n",
       "<path clip-path=\"url(#clip402)\" d=\"M1317.05 167.197 L1317.05 170.476 L1392.21 170.476 L1392.21 167.197 L1317.05 167.197 L1317.05 167.197  Z\" fill=\"#009af9\" fill-rule=\"evenodd\" fill-opacity=\"1\"/>\n",
       "<polyline clip-path=\"url(#clip402)\" style=\"stroke:#000000; stroke-linecap:round; stroke-linejoin:round; stroke-width:4; stroke-opacity:1; fill:none\" points=\"1317.05,167.197 1317.05,170.476 1392.21,170.476 1392.21,167.197 1317.05,167.197 \"/>\n",
       "<path clip-path=\"url(#clip402)\" d=\"M1411 789.176 L1411 796.828 L1486.16 796.828 L1486.16 789.176 L1411 789.176 L1411 789.176  Z\" fill=\"#009af9\" fill-rule=\"evenodd\" fill-opacity=\"1\"/>\n",
       "<polyline clip-path=\"url(#clip402)\" style=\"stroke:#000000; stroke-linecap:round; stroke-linejoin:round; stroke-width:4; stroke-opacity:1; fill:none\" points=\"1411,789.176 1411,796.828 1486.16,796.828 1486.16,789.176 1411,789.176 \"/>\n",
       "<path clip-path=\"url(#clip402)\" d=\"M1504.96 123.472 L1504.96 125.658 L1580.12 125.658 L1580.12 123.472 L1504.96 123.472 L1504.96 123.472  Z\" fill=\"#009af9\" fill-rule=\"evenodd\" fill-opacity=\"1\"/>\n",
       "<polyline clip-path=\"url(#clip402)\" style=\"stroke:#000000; stroke-linecap:round; stroke-linejoin:round; stroke-width:4; stroke-opacity:1; fill:none\" points=\"1504.96,123.472 1504.96,125.658 1580.12,125.658 1580.12,123.472 1504.96,123.472 \"/>\n",
       "<path clip-path=\"url(#clip402)\" d=\"M1598.91 244.807 L1598.91 253.552 L1674.07 253.552 L1674.07 244.807 L1598.91 244.807 L1598.91 244.807  Z\" fill=\"#009af9\" fill-rule=\"evenodd\" fill-opacity=\"1\"/>\n",
       "<polyline clip-path=\"url(#clip402)\" style=\"stroke:#000000; stroke-linecap:round; stroke-linejoin:round; stroke-width:4; stroke-opacity:1; fill:none\" points=\"1598.91,244.807 1598.91,253.552 1674.07,253.552 1674.07,244.807 1598.91,244.807 \"/>\n",
       "<path clip-path=\"url(#clip402)\" d=\"M1692.86 343.187 L1692.86 356.305 L1768.02 356.305 L1768.02 343.187 L1692.86 343.187 L1692.86 343.187  Z\" fill=\"#009af9\" fill-rule=\"evenodd\" fill-opacity=\"1\"/>\n",
       "<polyline clip-path=\"url(#clip402)\" style=\"stroke:#000000; stroke-linecap:round; stroke-linejoin:round; stroke-width:4; stroke-opacity:1; fill:none\" points=\"1692.86,343.187 1692.86,356.305 1768.02,356.305 1768.02,343.187 1692.86,343.187 \"/>\n",
       "<path clip-path=\"url(#clip402)\" d=\"M1786.82 218.573 L1786.82 229.504 L1861.98 229.504 L1861.98 218.573 L1786.82 218.573 L1786.82 218.573  Z\" fill=\"#009af9\" fill-rule=\"evenodd\" fill-opacity=\"1\"/>\n",
       "<polyline clip-path=\"url(#clip402)\" style=\"stroke:#000000; stroke-linecap:round; stroke-linejoin:round; stroke-width:4; stroke-opacity:1; fill:none\" points=\"1786.82,218.573 1786.82,229.504 1861.98,229.504 1861.98,218.573 1786.82,218.573 \"/>\n",
       "<path clip-path=\"url(#clip402)\" d=\"M1880.77 168.29 L1880.77 172.662 L1955.93 172.662 L1955.93 168.29 L1880.77 168.29 L1880.77 168.29  Z\" fill=\"#009af9\" fill-rule=\"evenodd\" fill-opacity=\"1\"/>\n",
       "<polyline clip-path=\"url(#clip402)\" style=\"stroke:#000000; stroke-linecap:round; stroke-linejoin:round; stroke-width:4; stroke-opacity:1; fill:none\" points=\"1880.77,168.29 1880.77,172.662 1955.93,172.662 1955.93,168.29 1880.77,168.29 \"/>\n",
       "<path clip-path=\"url(#clip402)\" d=\"M1974.72 308.208 L1974.72 326.791 L2049.88 326.791 L2049.88 308.208 L1974.72 308.208 L1974.72 308.208  Z\" fill=\"#009af9\" fill-rule=\"evenodd\" fill-opacity=\"1\"/>\n",
       "<polyline clip-path=\"url(#clip402)\" style=\"stroke:#000000; stroke-linecap:round; stroke-linejoin:round; stroke-width:4; stroke-opacity:1; fill:none\" points=\"1974.72,308.208 1974.72,326.791 2049.88,326.791 2049.88,308.208 1974.72,308.208 \"/>\n",
       "<path clip-path=\"url(#clip402)\" d=\"M2068.68 741.079 L2068.68 806.666 L2143.84 806.666 L2143.84 741.079 L2068.68 741.079 L2068.68 741.079  Z\" fill=\"#009af9\" fill-rule=\"evenodd\" fill-opacity=\"1\"/>\n",
       "<polyline clip-path=\"url(#clip402)\" style=\"stroke:#000000; stroke-linecap:round; stroke-linejoin:round; stroke-width:4; stroke-opacity:1; fill:none\" points=\"2068.68,741.079 2068.68,806.666 2143.84,806.666 2143.84,741.079 2068.68,741.079 \"/>\n",
       "<path clip-path=\"url(#clip402)\" d=\"M2162.63 738.893 L2162.63 769.5 L2237.79 769.5 L2237.79 738.893 L2162.63 738.893 L2162.63 738.893  Z\" fill=\"#009af9\" fill-rule=\"evenodd\" fill-opacity=\"1\"/>\n",
       "<polyline clip-path=\"url(#clip402)\" style=\"stroke:#000000; stroke-linecap:round; stroke-linejoin:round; stroke-width:4; stroke-opacity:1; fill:none\" points=\"2162.63,738.893 2162.63,769.5 2237.79,769.5 2237.79,738.893 2162.63,738.893 \"/>\n",
       "<circle clip-path=\"url(#clip402)\" style=\"fill:#009af9; stroke:none; fill-opacity:0\" cx=\"415.098\" cy=\"271.042\" r=\"2\"/>\n",
       "<circle clip-path=\"url(#clip402)\" style=\"fill:#009af9; stroke:none; fill-opacity:0\" cx=\"509.051\" cy=\"311.487\" r=\"2\"/>\n",
       "<circle clip-path=\"url(#clip402)\" style=\"fill:#009af9; stroke:none; fill-opacity:0\" cx=\"603.004\" cy=\"299.463\" r=\"2\"/>\n",
       "<circle clip-path=\"url(#clip402)\" style=\"fill:#009af9; stroke:none; fill-opacity:0\" cx=\"696.957\" cy=\"264.483\" r=\"2\"/>\n",
       "<circle clip-path=\"url(#clip402)\" style=\"fill:#009af9; stroke:none; fill-opacity:0\" cx=\"790.911\" cy=\"312.58\" r=\"2\"/>\n",
       "<circle clip-path=\"url(#clip402)\" style=\"fill:#009af9; stroke:none; fill-opacity:0\" cx=\"884.864\" cy=\"246.994\" r=\"2\"/>\n",
       "<circle clip-path=\"url(#clip402)\" style=\"fill:#009af9; stroke:none; fill-opacity:0\" cx=\"978.817\" cy=\"287.439\" r=\"2\"/>\n",
       "<circle clip-path=\"url(#clip402)\" style=\"fill:#009af9; stroke:none; fill-opacity:0\" cx=\"1072.77\" cy=\"254.645\" r=\"2\"/>\n",
       "<circle clip-path=\"url(#clip402)\" style=\"fill:#009af9; stroke:none; fill-opacity:0\" cx=\"1166.72\" cy=\"229.504\" r=\"2\"/>\n",
       "<circle clip-path=\"url(#clip402)\" style=\"fill:#009af9; stroke:none; fill-opacity:0\" cx=\"1260.68\" cy=\"171.569\" r=\"2\"/>\n",
       "<circle clip-path=\"url(#clip402)\" style=\"fill:#009af9; stroke:none; fill-opacity:0\" cx=\"1354.63\" cy=\"167.197\" r=\"2\"/>\n",
       "<circle clip-path=\"url(#clip402)\" style=\"fill:#009af9; stroke:none; fill-opacity:0\" cx=\"1448.58\" cy=\"789.176\" r=\"2\"/>\n",
       "<circle clip-path=\"url(#clip402)\" style=\"fill:#009af9; stroke:none; fill-opacity:0\" cx=\"1542.54\" cy=\"123.472\" r=\"2\"/>\n",
       "<circle clip-path=\"url(#clip402)\" style=\"fill:#009af9; stroke:none; fill-opacity:0\" cx=\"1636.49\" cy=\"244.807\" r=\"2\"/>\n",
       "<circle clip-path=\"url(#clip402)\" style=\"fill:#009af9; stroke:none; fill-opacity:0\" cx=\"1730.44\" cy=\"343.187\" r=\"2\"/>\n",
       "<circle clip-path=\"url(#clip402)\" style=\"fill:#009af9; stroke:none; fill-opacity:0\" cx=\"1824.4\" cy=\"218.573\" r=\"2\"/>\n",
       "<circle clip-path=\"url(#clip402)\" style=\"fill:#009af9; stroke:none; fill-opacity:0\" cx=\"1918.35\" cy=\"168.29\" r=\"2\"/>\n",
       "<circle clip-path=\"url(#clip402)\" style=\"fill:#009af9; stroke:none; fill-opacity:0\" cx=\"2012.3\" cy=\"308.208\" r=\"2\"/>\n",
       "<circle clip-path=\"url(#clip402)\" style=\"fill:#009af9; stroke:none; fill-opacity:0\" cx=\"2106.26\" cy=\"741.079\" r=\"2\"/>\n",
       "<circle clip-path=\"url(#clip402)\" style=\"fill:#009af9; stroke:none; fill-opacity:0\" cx=\"2200.21\" cy=\"738.893\" r=\"2\"/>\n",
       "<path clip-path=\"url(#clip402)\" d=\"M377.516 350.839 L377.516 389.098 L452.679 389.098 L452.679 350.839 L377.516 350.839 L377.516 350.839  Z\" fill=\"#e26f46\" fill-rule=\"evenodd\" fill-opacity=\"1\"/>\n",
       "<polyline clip-path=\"url(#clip402)\" style=\"stroke:#000000; stroke-linecap:round; stroke-linejoin:round; stroke-width:4; stroke-opacity:1; fill:none\" points=\"377.516,350.839 377.516,389.098 452.679,389.098 452.679,350.839 377.516,350.839 \"/>\n",
       "<path clip-path=\"url(#clip402)\" d=\"M471.469 321.325 L471.469 524.643 L546.632 524.643 L546.632 321.325 L471.469 321.325 L471.469 321.325  Z\" fill=\"#e26f46\" fill-rule=\"evenodd\" fill-opacity=\"1\"/>\n",
       "<polyline clip-path=\"url(#clip402)\" style=\"stroke:#000000; stroke-linecap:round; stroke-linejoin:round; stroke-width:4; stroke-opacity:1; fill:none\" points=\"471.469,321.325 471.469,524.643 546.632,524.643 546.632,321.325 471.469,321.325 \"/>\n",
       "<path clip-path=\"url(#clip402)\" d=\"M565.423 322.418 L565.423 373.794 L640.585 373.794 L640.585 322.418 L565.423 322.418 L565.423 322.418  Z\" fill=\"#e26f46\" fill-rule=\"evenodd\" fill-opacity=\"1\"/>\n",
       "<polyline clip-path=\"url(#clip402)\" style=\"stroke:#000000; stroke-linecap:round; stroke-linejoin:round; stroke-width:4; stroke-opacity:1; fill:none\" points=\"565.423,322.418 565.423,373.794 640.585,373.794 640.585,322.418 565.423,322.418 \"/>\n",
       "<path clip-path=\"url(#clip402)\" d=\"M659.376 280.88 L659.376 482.012 L734.539 482.012 L734.539 280.88 L659.376 280.88 L659.376 280.88  Z\" fill=\"#e26f46\" fill-rule=\"evenodd\" fill-opacity=\"1\"/>\n",
       "<polyline clip-path=\"url(#clip402)\" style=\"stroke:#000000; stroke-linecap:round; stroke-linejoin:round; stroke-width:4; stroke-opacity:1; fill:none\" points=\"659.376,280.88 659.376,482.012 734.539,482.012 734.539,280.88 659.376,280.88 \"/>\n",
       "<path clip-path=\"url(#clip402)\" d=\"M753.329 327.884 L753.329 345.373 L828.492 345.373 L828.492 327.884 L753.329 327.884 L753.329 327.884  Z\" fill=\"#e26f46\" fill-rule=\"evenodd\" fill-opacity=\"1\"/>\n",
       "<polyline clip-path=\"url(#clip402)\" style=\"stroke:#000000; stroke-linecap:round; stroke-linejoin:round; stroke-width:4; stroke-opacity:1; fill:none\" points=\"753.329,327.884 753.329,345.373 828.492,345.373 828.492,327.884 753.329,327.884 \"/>\n",
       "<path clip-path=\"url(#clip402)\" d=\"M847.283 268.856 L847.283 336.629 L922.445 336.629 L922.445 268.856 L847.283 268.856 L847.283 268.856  Z\" fill=\"#e26f46\" fill-rule=\"evenodd\" fill-opacity=\"1\"/>\n",
       "<polyline clip-path=\"url(#clip402)\" style=\"stroke:#000000; stroke-linecap:round; stroke-linejoin:round; stroke-width:4; stroke-opacity:1; fill:none\" points=\"847.283,268.856 847.283,336.629 922.445,336.629 922.445,268.856 847.283,268.856 \"/>\n",
       "<path clip-path=\"url(#clip402)\" d=\"M941.236 314.766 L941.236 421.891 L1016.4 421.891 L1016.4 314.766 L941.236 314.766 L941.236 314.766  Z\" fill=\"#e26f46\" fill-rule=\"evenodd\" fill-opacity=\"1\"/>\n",
       "<polyline clip-path=\"url(#clip402)\" style=\"stroke:#000000; stroke-linecap:round; stroke-linejoin:round; stroke-width:4; stroke-opacity:1; fill:none\" points=\"941.236,314.766 941.236,421.891 1016.4,421.891 1016.4,314.766 941.236,314.766 \"/>\n",
       "<path clip-path=\"url(#clip402)\" d=\"M1035.19 261.204 L1035.19 287.439 L1110.35 287.439 L1110.35 261.204 L1035.19 261.204 L1035.19 261.204  Z\" fill=\"#e26f46\" fill-rule=\"evenodd\" fill-opacity=\"1\"/>\n",
       "<polyline clip-path=\"url(#clip402)\" style=\"stroke:#000000; stroke-linecap:round; stroke-linejoin:round; stroke-width:4; stroke-opacity:1; fill:none\" points=\"1035.19,261.204 1035.19,287.439 1110.35,287.439 1110.35,261.204 1035.19,261.204 \"/>\n",
       "<path clip-path=\"url(#clip402)\" d=\"M1129.14 230.597 L1129.14 285.252 L1204.3 285.252 L1204.3 230.597 L1129.14 230.597 L1129.14 230.597  Z\" fill=\"#e26f46\" fill-rule=\"evenodd\" fill-opacity=\"1\"/>\n",
       "<polyline clip-path=\"url(#clip402)\" style=\"stroke:#000000; stroke-linecap:round; stroke-linejoin:round; stroke-width:4; stroke-opacity:1; fill:none\" points=\"1129.14,230.597 1129.14,285.252 1204.3,285.252 1204.3,230.597 1129.14,230.597 \"/>\n",
       "<path clip-path=\"url(#clip402)\" d=\"M1223.1 177.035 L1223.1 210.921 L1298.26 210.921 L1298.26 177.035 L1223.1 177.035 L1223.1 177.035  Z\" fill=\"#e26f46\" fill-rule=\"evenodd\" fill-opacity=\"1\"/>\n",
       "<polyline clip-path=\"url(#clip402)\" style=\"stroke:#000000; stroke-linecap:round; stroke-linejoin:round; stroke-width:4; stroke-opacity:1; fill:none\" points=\"1223.1,177.035 1223.1,210.921 1298.26,210.921 1298.26,177.035 1223.1,177.035 \"/>\n",
       "<path clip-path=\"url(#clip402)\" d=\"M1317.05 170.476 L1317.05 375.981 L1392.21 375.981 L1392.21 170.476 L1317.05 170.476 L1317.05 170.476  Z\" fill=\"#e26f46\" fill-rule=\"evenodd\" fill-opacity=\"1\"/>\n",
       "<polyline clip-path=\"url(#clip402)\" style=\"stroke:#000000; stroke-linecap:round; stroke-linejoin:round; stroke-width:4; stroke-opacity:1; fill:none\" points=\"1317.05,170.476 1317.05,375.981 1392.21,375.981 1392.21,170.476 1317.05,170.476 \"/>\n",
       "<path clip-path=\"url(#clip402)\" d=\"M1411 796.828 L1411 1006.7 L1486.16 1006.7 L1486.16 796.828 L1411 796.828 L1411 796.828  Z\" fill=\"#e26f46\" fill-rule=\"evenodd\" fill-opacity=\"1\"/>\n",
       "<polyline clip-path=\"url(#clip402)\" style=\"stroke:#000000; stroke-linecap:round; stroke-linejoin:round; stroke-width:4; stroke-opacity:1; fill:none\" points=\"1411,796.828 1411,1006.7 1486.16,1006.7 1486.16,796.828 1411,796.828 \"/>\n",
       "<path clip-path=\"url(#clip402)\" d=\"M1504.96 125.658 L1504.96 155.172 L1580.12 155.172 L1580.12 125.658 L1504.96 125.658 L1504.96 125.658  Z\" fill=\"#e26f46\" fill-rule=\"evenodd\" fill-opacity=\"1\"/>\n",
       "<polyline clip-path=\"url(#clip402)\" style=\"stroke:#000000; stroke-linecap:round; stroke-linejoin:round; stroke-width:4; stroke-opacity:1; fill:none\" points=\"1504.96,125.658 1504.96,155.172 1580.12,155.172 1580.12,125.658 1504.96,125.658 \"/>\n",
       "<path clip-path=\"url(#clip402)\" d=\"M1598.91 253.552 L1598.91 298.37 L1674.07 298.37 L1674.07 253.552 L1598.91 253.552 L1598.91 253.552  Z\" fill=\"#e26f46\" fill-rule=\"evenodd\" fill-opacity=\"1\"/>\n",
       "<polyline clip-path=\"url(#clip402)\" style=\"stroke:#000000; stroke-linecap:round; stroke-linejoin:round; stroke-width:4; stroke-opacity:1; fill:none\" points=\"1598.91,253.552 1598.91,298.37 1674.07,298.37 1674.07,253.552 1598.91,253.552 \"/>\n",
       "<path clip-path=\"url(#clip402)\" d=\"M1692.86 356.305 L1692.86 389.098 L1768.02 389.098 L1768.02 356.305 L1692.86 356.305 L1692.86 356.305  Z\" fill=\"#e26f46\" fill-rule=\"evenodd\" fill-opacity=\"1\"/>\n",
       "<polyline clip-path=\"url(#clip402)\" style=\"stroke:#000000; stroke-linecap:round; stroke-linejoin:round; stroke-width:4; stroke-opacity:1; fill:none\" points=\"1692.86,356.305 1692.86,389.098 1768.02,389.098 1768.02,356.305 1692.86,356.305 \"/>\n",
       "<path clip-path=\"url(#clip402)\" d=\"M1786.82 229.504 L1786.82 328.977 L1861.98 328.977 L1861.98 229.504 L1786.82 229.504 L1786.82 229.504  Z\" fill=\"#e26f46\" fill-rule=\"evenodd\" fill-opacity=\"1\"/>\n",
       "<polyline clip-path=\"url(#clip402)\" style=\"stroke:#000000; stroke-linecap:round; stroke-linejoin:round; stroke-width:4; stroke-opacity:1; fill:none\" points=\"1786.82,229.504 1786.82,328.977 1861.98,328.977 1861.98,229.504 1786.82,229.504 \"/>\n",
       "<path clip-path=\"url(#clip402)\" d=\"M1880.77 172.662 L1880.77 239.342 L1955.93 239.342 L1955.93 172.662 L1880.77 172.662 L1880.77 172.662  Z\" fill=\"#e26f46\" fill-rule=\"evenodd\" fill-opacity=\"1\"/>\n",
       "<polyline clip-path=\"url(#clip402)\" style=\"stroke:#000000; stroke-linecap:round; stroke-linejoin:round; stroke-width:4; stroke-opacity:1; fill:none\" points=\"1880.77,172.662 1880.77,239.342 1955.93,239.342 1955.93,172.662 1880.77,172.662 \"/>\n",
       "<path clip-path=\"url(#clip402)\" d=\"M1974.72 326.791 L1974.72 503.874 L2049.88 503.874 L2049.88 326.791 L1974.72 326.791 L1974.72 326.791  Z\" fill=\"#e26f46\" fill-rule=\"evenodd\" fill-opacity=\"1\"/>\n",
       "<polyline clip-path=\"url(#clip402)\" style=\"stroke:#000000; stroke-linecap:round; stroke-linejoin:round; stroke-width:4; stroke-opacity:1; fill:none\" points=\"1974.72,326.791 1974.72,503.874 2049.88,503.874 2049.88,326.791 1974.72,326.791 \"/>\n",
       "<path clip-path=\"url(#clip402)\" d=\"M2068.68 806.666 L2068.68 996.867 L2143.84 996.867 L2143.84 806.666 L2068.68 806.666 L2068.68 806.666  Z\" fill=\"#e26f46\" fill-rule=\"evenodd\" fill-opacity=\"1\"/>\n",
       "<polyline clip-path=\"url(#clip402)\" style=\"stroke:#000000; stroke-linecap:round; stroke-linejoin:round; stroke-width:4; stroke-opacity:1; fill:none\" points=\"2068.68,806.666 2068.68,996.867 2143.84,996.867 2143.84,806.666 2068.68,806.666 \"/>\n",
       "<path clip-path=\"url(#clip402)\" d=\"M2162.63 769.5 L2162.63 793.549 L2237.79 793.549 L2237.79 769.5 L2162.63 769.5 L2162.63 769.5  Z\" fill=\"#e26f46\" fill-rule=\"evenodd\" fill-opacity=\"1\"/>\n",
       "<polyline clip-path=\"url(#clip402)\" style=\"stroke:#000000; stroke-linecap:round; stroke-linejoin:round; stroke-width:4; stroke-opacity:1; fill:none\" points=\"2162.63,769.5 2162.63,793.549 2237.79,793.549 2237.79,769.5 2162.63,769.5 \"/>\n",
       "<circle clip-path=\"url(#clip402)\" style=\"fill:#e26f46; stroke:none; fill-opacity:0\" cx=\"415.098\" cy=\"350.839\" r=\"2\"/>\n",
       "<circle clip-path=\"url(#clip402)\" style=\"fill:#e26f46; stroke:none; fill-opacity:0\" cx=\"509.051\" cy=\"321.325\" r=\"2\"/>\n",
       "<circle clip-path=\"url(#clip402)\" style=\"fill:#e26f46; stroke:none; fill-opacity:0\" cx=\"603.004\" cy=\"322.418\" r=\"2\"/>\n",
       "<circle clip-path=\"url(#clip402)\" style=\"fill:#e26f46; stroke:none; fill-opacity:0\" cx=\"696.957\" cy=\"280.88\" r=\"2\"/>\n",
       "<circle clip-path=\"url(#clip402)\" style=\"fill:#e26f46; stroke:none; fill-opacity:0\" cx=\"790.911\" cy=\"327.884\" r=\"2\"/>\n",
       "<circle clip-path=\"url(#clip402)\" style=\"fill:#e26f46; stroke:none; fill-opacity:0\" cx=\"884.864\" cy=\"268.856\" r=\"2\"/>\n",
       "<circle clip-path=\"url(#clip402)\" style=\"fill:#e26f46; stroke:none; fill-opacity:0\" cx=\"978.817\" cy=\"314.766\" r=\"2\"/>\n",
       "<circle clip-path=\"url(#clip402)\" style=\"fill:#e26f46; stroke:none; fill-opacity:0\" cx=\"1072.77\" cy=\"261.204\" r=\"2\"/>\n",
       "<circle clip-path=\"url(#clip402)\" style=\"fill:#e26f46; stroke:none; fill-opacity:0\" cx=\"1166.72\" cy=\"230.597\" r=\"2\"/>\n",
       "<circle clip-path=\"url(#clip402)\" style=\"fill:#e26f46; stroke:none; fill-opacity:0\" cx=\"1260.68\" cy=\"177.035\" r=\"2\"/>\n",
       "<circle clip-path=\"url(#clip402)\" style=\"fill:#e26f46; stroke:none; fill-opacity:0\" cx=\"1354.63\" cy=\"170.476\" r=\"2\"/>\n",
       "<circle clip-path=\"url(#clip402)\" style=\"fill:#e26f46; stroke:none; fill-opacity:0\" cx=\"1448.58\" cy=\"796.828\" r=\"2\"/>\n",
       "<circle clip-path=\"url(#clip402)\" style=\"fill:#e26f46; stroke:none; fill-opacity:0\" cx=\"1542.54\" cy=\"125.658\" r=\"2\"/>\n",
       "<circle clip-path=\"url(#clip402)\" style=\"fill:#e26f46; stroke:none; fill-opacity:0\" cx=\"1636.49\" cy=\"253.552\" r=\"2\"/>\n",
       "<circle clip-path=\"url(#clip402)\" style=\"fill:#e26f46; stroke:none; fill-opacity:0\" cx=\"1730.44\" cy=\"356.305\" r=\"2\"/>\n",
       "<circle clip-path=\"url(#clip402)\" style=\"fill:#e26f46; stroke:none; fill-opacity:0\" cx=\"1824.4\" cy=\"229.504\" r=\"2\"/>\n",
       "<circle clip-path=\"url(#clip402)\" style=\"fill:#e26f46; stroke:none; fill-opacity:0\" cx=\"1918.35\" cy=\"172.662\" r=\"2\"/>\n",
       "<circle clip-path=\"url(#clip402)\" style=\"fill:#e26f46; stroke:none; fill-opacity:0\" cx=\"2012.3\" cy=\"326.791\" r=\"2\"/>\n",
       "<circle clip-path=\"url(#clip402)\" style=\"fill:#e26f46; stroke:none; fill-opacity:0\" cx=\"2106.26\" cy=\"806.666\" r=\"2\"/>\n",
       "<circle clip-path=\"url(#clip402)\" style=\"fill:#e26f46; stroke:none; fill-opacity:0\" cx=\"2200.21\" cy=\"769.5\" r=\"2\"/>\n",
       "<path clip-path=\"url(#clip402)\" d=\"M377.516 389.098 L377.516 569.461 L452.679 569.461 L452.679 389.098 L377.516 389.098 L377.516 389.098  Z\" fill=\"#3da44d\" fill-rule=\"evenodd\" fill-opacity=\"1\"/>\n",
       "<polyline clip-path=\"url(#clip402)\" style=\"stroke:#000000; stroke-linecap:round; stroke-linejoin:round; stroke-width:4; stroke-opacity:1; fill:none\" points=\"377.516,389.098 377.516,569.461 452.679,569.461 452.679,389.098 377.516,389.098 \"/>\n",
       "<path clip-path=\"url(#clip402)\" d=\"M471.469 524.643 L471.469 598.975 L546.632 598.975 L546.632 524.643 L471.469 524.643 L471.469 524.643  Z\" fill=\"#3da44d\" fill-rule=\"evenodd\" fill-opacity=\"1\"/>\n",
       "<polyline clip-path=\"url(#clip402)\" style=\"stroke:#000000; stroke-linecap:round; stroke-linejoin:round; stroke-width:4; stroke-opacity:1; fill:none\" points=\"471.469,524.643 471.469,598.975 546.632,598.975 546.632,524.643 471.469,524.643 \"/>\n",
       "<path clip-path=\"url(#clip402)\" d=\"M565.423 373.794 L565.423 427.357 L640.585 427.357 L640.585 373.794 L565.423 373.794 L565.423 373.794  Z\" fill=\"#3da44d\" fill-rule=\"evenodd\" fill-opacity=\"1\"/>\n",
       "<polyline clip-path=\"url(#clip402)\" style=\"stroke:#000000; stroke-linecap:round; stroke-linejoin:round; stroke-width:4; stroke-opacity:1; fill:none\" points=\"565.423,373.794 565.423,427.357 640.585,427.357 640.585,373.794 565.423,373.794 \"/>\n",
       "<path clip-path=\"url(#clip402)\" d=\"M659.376 482.012 L659.376 694.076 L734.539 694.076 L734.539 482.012 L659.376 482.012 L659.376 482.012  Z\" fill=\"#3da44d\" fill-rule=\"evenodd\" fill-opacity=\"1\"/>\n",
       "<polyline clip-path=\"url(#clip402)\" style=\"stroke:#000000; stroke-linecap:round; stroke-linejoin:round; stroke-width:4; stroke-opacity:1; fill:none\" points=\"659.376,482.012 659.376,694.076 734.539,694.076 734.539,482.012 659.376,482.012 \"/>\n",
       "<path clip-path=\"url(#clip402)\" d=\"M753.329 345.373 L753.329 365.049 L828.492 365.049 L828.492 345.373 L753.329 345.373 L753.329 345.373  Z\" fill=\"#3da44d\" fill-rule=\"evenodd\" fill-opacity=\"1\"/>\n",
       "<polyline clip-path=\"url(#clip402)\" style=\"stroke:#000000; stroke-linecap:round; stroke-linejoin:round; stroke-width:4; stroke-opacity:1; fill:none\" points=\"753.329,345.373 753.329,365.049 828.492,365.049 828.492,345.373 753.329,345.373 \"/>\n",
       "<path clip-path=\"url(#clip402)\" d=\"M847.283 336.629 L847.283 555.251 L922.445 555.251 L922.445 336.629 L847.283 336.629 L847.283 336.629  Z\" fill=\"#3da44d\" fill-rule=\"evenodd\" fill-opacity=\"1\"/>\n",
       "<polyline clip-path=\"url(#clip402)\" style=\"stroke:#000000; stroke-linecap:round; stroke-linejoin:round; stroke-width:4; stroke-opacity:1; fill:none\" points=\"847.283,336.629 847.283,555.251 922.445,555.251 922.445,336.629 847.283,336.629 \"/>\n",
       "<path clip-path=\"url(#clip402)\" d=\"M941.236 421.891 L941.236 478.733 L1016.4 478.733 L1016.4 421.891 L941.236 421.891 L941.236 421.891  Z\" fill=\"#3da44d\" fill-rule=\"evenodd\" fill-opacity=\"1\"/>\n",
       "<polyline clip-path=\"url(#clip402)\" style=\"stroke:#000000; stroke-linecap:round; stroke-linejoin:round; stroke-width:4; stroke-opacity:1; fill:none\" points=\"941.236,421.891 941.236,478.733 1016.4,478.733 1016.4,421.891 941.236,421.891 \"/>\n",
       "<path clip-path=\"url(#clip402)\" d=\"M1035.19 287.439 L1035.19 482.012 L1110.35 482.012 L1110.35 287.439 L1035.19 287.439 L1035.19 287.439  Z\" fill=\"#3da44d\" fill-rule=\"evenodd\" fill-opacity=\"1\"/>\n",
       "<polyline clip-path=\"url(#clip402)\" style=\"stroke:#000000; stroke-linecap:round; stroke-linejoin:round; stroke-width:4; stroke-opacity:1; fill:none\" points=\"1035.19,287.439 1035.19,482.012 1110.35,482.012 1110.35,287.439 1035.19,287.439 \"/>\n",
       "<path clip-path=\"url(#clip402)\" d=\"M1129.14 285.252 L1129.14 420.798 L1204.3 420.798 L1204.3 285.252 L1129.14 285.252 L1129.14 285.252  Z\" fill=\"#3da44d\" fill-rule=\"evenodd\" fill-opacity=\"1\"/>\n",
       "<polyline clip-path=\"url(#clip402)\" style=\"stroke:#000000; stroke-linecap:round; stroke-linejoin:round; stroke-width:4; stroke-opacity:1; fill:none\" points=\"1129.14,285.252 1129.14,420.798 1204.3,420.798 1204.3,285.252 1129.14,285.252 \"/>\n",
       "<path clip-path=\"url(#clip402)\" d=\"M1223.1 210.921 L1223.1 316.953 L1298.26 316.953 L1298.26 210.921 L1223.1 210.921 L1223.1 210.921  Z\" fill=\"#3da44d\" fill-rule=\"evenodd\" fill-opacity=\"1\"/>\n",
       "<polyline clip-path=\"url(#clip402)\" style=\"stroke:#000000; stroke-linecap:round; stroke-linejoin:round; stroke-width:4; stroke-opacity:1; fill:none\" points=\"1223.1,210.921 1223.1,316.953 1298.26,316.953 1298.26,210.921 1223.1,210.921 \"/>\n",
       "<path clip-path=\"url(#clip402)\" d=\"M1317.05 375.981 L1317.05 583.671 L1392.21 583.671 L1392.21 375.981 L1317.05 375.981 L1317.05 375.981  Z\" fill=\"#3da44d\" fill-rule=\"evenodd\" fill-opacity=\"1\"/>\n",
       "<polyline clip-path=\"url(#clip402)\" style=\"stroke:#000000; stroke-linecap:round; stroke-linejoin:round; stroke-width:4; stroke-opacity:1; fill:none\" points=\"1317.05,375.981 1317.05,583.671 1392.21,583.671 1392.21,375.981 1317.05,375.981 \"/>\n",
       "<path clip-path=\"url(#clip402)\" d=\"M1411 1006.7 L1411 1175.04 L1486.16 1175.04 L1486.16 1006.7 L1411 1006.7 L1411 1006.7  Z\" fill=\"#3da44d\" fill-rule=\"evenodd\" fill-opacity=\"1\"/>\n",
       "<polyline clip-path=\"url(#clip402)\" style=\"stroke:#000000; stroke-linecap:round; stroke-linejoin:round; stroke-width:4; stroke-opacity:1; fill:none\" points=\"1411,1006.7 1411,1175.04 1486.16,1175.04 1486.16,1006.7 1411,1006.7 \"/>\n",
       "<path clip-path=\"url(#clip402)\" d=\"M1504.96 155.172 L1504.96 186.873 L1580.12 186.873 L1580.12 155.172 L1504.96 155.172 L1504.96 155.172  Z\" fill=\"#3da44d\" fill-rule=\"evenodd\" fill-opacity=\"1\"/>\n",
       "<polyline clip-path=\"url(#clip402)\" style=\"stroke:#000000; stroke-linecap:round; stroke-linejoin:round; stroke-width:4; stroke-opacity:1; fill:none\" points=\"1504.96,155.172 1504.96,186.873 1580.12,186.873 1580.12,155.172 1504.96,155.172 \"/>\n",
       "<path clip-path=\"url(#clip402)\" d=\"M1598.91 298.37 L1598.91 354.118 L1674.07 354.118 L1674.07 298.37 L1598.91 298.37 L1598.91 298.37  Z\" fill=\"#3da44d\" fill-rule=\"evenodd\" fill-opacity=\"1\"/>\n",
       "<polyline clip-path=\"url(#clip402)\" style=\"stroke:#000000; stroke-linecap:round; stroke-linejoin:round; stroke-width:4; stroke-opacity:1; fill:none\" points=\"1598.91,298.37 1598.91,354.118 1674.07,354.118 1674.07,298.37 1598.91,298.37 \"/>\n",
       "<path clip-path=\"url(#clip402)\" d=\"M1692.86 389.098 L1692.86 476.547 L1768.02 476.547 L1768.02 389.098 L1692.86 389.098 L1692.86 389.098  Z\" fill=\"#3da44d\" fill-rule=\"evenodd\" fill-opacity=\"1\"/>\n",
       "<polyline clip-path=\"url(#clip402)\" style=\"stroke:#000000; stroke-linecap:round; stroke-linejoin:round; stroke-width:4; stroke-opacity:1; fill:none\" points=\"1692.86,389.098 1692.86,476.547 1768.02,476.547 1768.02,389.098 1692.86,389.098 \"/>\n",
       "<path clip-path=\"url(#clip402)\" d=\"M1786.82 328.977 L1786.82 518.085 L1861.98 518.085 L1861.98 328.977 L1786.82 328.977 L1786.82 328.977  Z\" fill=\"#3da44d\" fill-rule=\"evenodd\" fill-opacity=\"1\"/>\n",
       "<polyline clip-path=\"url(#clip402)\" style=\"stroke:#000000; stroke-linecap:round; stroke-linejoin:round; stroke-width:4; stroke-opacity:1; fill:none\" points=\"1786.82,328.977 1786.82,518.085 1861.98,518.085 1861.98,328.977 1786.82,328.977 \"/>\n",
       "<path clip-path=\"url(#clip402)\" d=\"M1880.77 239.342 L1880.77 448.126 L1955.93 448.126 L1955.93 239.342 L1880.77 239.342 L1880.77 239.342  Z\" fill=\"#3da44d\" fill-rule=\"evenodd\" fill-opacity=\"1\"/>\n",
       "<polyline clip-path=\"url(#clip402)\" style=\"stroke:#000000; stroke-linecap:round; stroke-linejoin:round; stroke-width:4; stroke-opacity:1; fill:none\" points=\"1880.77,239.342 1880.77,448.126 1955.93,448.126 1955.93,239.342 1880.77,239.342 \"/>\n",
       "<path clip-path=\"url(#clip402)\" d=\"M1974.72 503.874 L1974.72 621.93 L2049.88 621.93 L2049.88 503.874 L1974.72 503.874 L1974.72 503.874  Z\" fill=\"#3da44d\" fill-rule=\"evenodd\" fill-opacity=\"1\"/>\n",
       "<polyline clip-path=\"url(#clip402)\" style=\"stroke:#000000; stroke-linecap:round; stroke-linejoin:round; stroke-width:4; stroke-opacity:1; fill:none\" points=\"1974.72,503.874 1974.72,621.93 2049.88,621.93 2049.88,503.874 1974.72,503.874 \"/>\n",
       "<path clip-path=\"url(#clip402)\" d=\"M2068.68 996.867 L2068.68 1085.41 L2143.84 1085.41 L2143.84 996.867 L2068.68 996.867 L2068.68 996.867  Z\" fill=\"#3da44d\" fill-rule=\"evenodd\" fill-opacity=\"1\"/>\n",
       "<polyline clip-path=\"url(#clip402)\" style=\"stroke:#000000; stroke-linecap:round; stroke-linejoin:round; stroke-width:4; stroke-opacity:1; fill:none\" points=\"2068.68,996.867 2068.68,1085.41 2143.84,1085.41 2143.84,996.867 2068.68,996.867 \"/>\n",
       "<path clip-path=\"url(#clip402)\" d=\"M2162.63 793.549 L2162.63 854.763 L2237.79 854.763 L2237.79 793.549 L2162.63 793.549 L2162.63 793.549  Z\" fill=\"#3da44d\" fill-rule=\"evenodd\" fill-opacity=\"1\"/>\n",
       "<polyline clip-path=\"url(#clip402)\" style=\"stroke:#000000; stroke-linecap:round; stroke-linejoin:round; stroke-width:4; stroke-opacity:1; fill:none\" points=\"2162.63,793.549 2162.63,854.763 2237.79,854.763 2237.79,793.549 2162.63,793.549 \"/>\n",
       "<circle clip-path=\"url(#clip402)\" style=\"fill:#3da44d; stroke:none; fill-opacity:0\" cx=\"415.098\" cy=\"389.098\" r=\"2\"/>\n",
       "<circle clip-path=\"url(#clip402)\" style=\"fill:#3da44d; stroke:none; fill-opacity:0\" cx=\"509.051\" cy=\"524.643\" r=\"2\"/>\n",
       "<circle clip-path=\"url(#clip402)\" style=\"fill:#3da44d; stroke:none; fill-opacity:0\" cx=\"603.004\" cy=\"373.794\" r=\"2\"/>\n",
       "<circle clip-path=\"url(#clip402)\" style=\"fill:#3da44d; stroke:none; fill-opacity:0\" cx=\"696.957\" cy=\"482.012\" r=\"2\"/>\n",
       "<circle clip-path=\"url(#clip402)\" style=\"fill:#3da44d; stroke:none; fill-opacity:0\" cx=\"790.911\" cy=\"345.373\" r=\"2\"/>\n",
       "<circle clip-path=\"url(#clip402)\" style=\"fill:#3da44d; stroke:none; fill-opacity:0\" cx=\"884.864\" cy=\"336.629\" r=\"2\"/>\n",
       "<circle clip-path=\"url(#clip402)\" style=\"fill:#3da44d; stroke:none; fill-opacity:0\" cx=\"978.817\" cy=\"421.891\" r=\"2\"/>\n",
       "<circle clip-path=\"url(#clip402)\" style=\"fill:#3da44d; stroke:none; fill-opacity:0\" cx=\"1072.77\" cy=\"287.439\" r=\"2\"/>\n",
       "<circle clip-path=\"url(#clip402)\" style=\"fill:#3da44d; stroke:none; fill-opacity:0\" cx=\"1166.72\" cy=\"285.252\" r=\"2\"/>\n",
       "<circle clip-path=\"url(#clip402)\" style=\"fill:#3da44d; stroke:none; fill-opacity:0\" cx=\"1260.68\" cy=\"210.921\" r=\"2\"/>\n",
       "<circle clip-path=\"url(#clip402)\" style=\"fill:#3da44d; stroke:none; fill-opacity:0\" cx=\"1354.63\" cy=\"375.981\" r=\"2\"/>\n",
       "<circle clip-path=\"url(#clip402)\" style=\"fill:#3da44d; stroke:none; fill-opacity:0\" cx=\"1448.58\" cy=\"1006.7\" r=\"2\"/>\n",
       "<circle clip-path=\"url(#clip402)\" style=\"fill:#3da44d; stroke:none; fill-opacity:0\" cx=\"1542.54\" cy=\"155.172\" r=\"2\"/>\n",
       "<circle clip-path=\"url(#clip402)\" style=\"fill:#3da44d; stroke:none; fill-opacity:0\" cx=\"1636.49\" cy=\"298.37\" r=\"2\"/>\n",
       "<circle clip-path=\"url(#clip402)\" style=\"fill:#3da44d; stroke:none; fill-opacity:0\" cx=\"1730.44\" cy=\"389.098\" r=\"2\"/>\n",
       "<circle clip-path=\"url(#clip402)\" style=\"fill:#3da44d; stroke:none; fill-opacity:0\" cx=\"1824.4\" cy=\"328.977\" r=\"2\"/>\n",
       "<circle clip-path=\"url(#clip402)\" style=\"fill:#3da44d; stroke:none; fill-opacity:0\" cx=\"1918.35\" cy=\"239.342\" r=\"2\"/>\n",
       "<circle clip-path=\"url(#clip402)\" style=\"fill:#3da44d; stroke:none; fill-opacity:0\" cx=\"2012.3\" cy=\"503.874\" r=\"2\"/>\n",
       "<circle clip-path=\"url(#clip402)\" style=\"fill:#3da44d; stroke:none; fill-opacity:0\" cx=\"2106.26\" cy=\"996.867\" r=\"2\"/>\n",
       "<circle clip-path=\"url(#clip402)\" style=\"fill:#3da44d; stroke:none; fill-opacity:0\" cx=\"2200.21\" cy=\"793.549\" r=\"2\"/>\n",
       "<path clip-path=\"url(#clip402)\" d=\"M377.516 569.461 L377.516 752.01 L452.679 752.01 L452.679 569.461 L377.516 569.461 L377.516 569.461  Z\" fill=\"#c271d2\" fill-rule=\"evenodd\" fill-opacity=\"1\"/>\n",
       "<polyline clip-path=\"url(#clip402)\" style=\"stroke:#000000; stroke-linecap:round; stroke-linejoin:round; stroke-width:4; stroke-opacity:1; fill:none\" points=\"377.516,569.461 377.516,752.01 452.679,752.01 452.679,569.461 377.516,569.461 \"/>\n",
       "<path clip-path=\"url(#clip402)\" d=\"M471.469 598.975 L471.469 790.269 L546.632 790.269 L546.632 598.975 L471.469 598.975 L471.469 598.975  Z\" fill=\"#c271d2\" fill-rule=\"evenodd\" fill-opacity=\"1\"/>\n",
       "<polyline clip-path=\"url(#clip402)\" style=\"stroke:#000000; stroke-linecap:round; stroke-linejoin:round; stroke-width:4; stroke-opacity:1; fill:none\" points=\"471.469,598.975 471.469,790.269 546.632,790.269 546.632,598.975 471.469,598.975 \"/>\n",
       "<path clip-path=\"url(#clip402)\" d=\"M565.423 427.357 L565.423 588.044 L640.585 588.044 L640.585 427.357 L565.423 427.357 L565.423 427.357  Z\" fill=\"#c271d2\" fill-rule=\"evenodd\" fill-opacity=\"1\"/>\n",
       "<polyline clip-path=\"url(#clip402)\" style=\"stroke:#000000; stroke-linecap:round; stroke-linejoin:round; stroke-width:4; stroke-opacity:1; fill:none\" points=\"565.423,427.357 565.423,588.044 640.585,588.044 640.585,427.357 565.423,427.357 \"/>\n",
       "<path clip-path=\"url(#clip402)\" d=\"M659.376 694.076 L659.376 882.09 L734.539 882.09 L734.539 694.076 L659.376 694.076 L659.376 694.076  Z\" fill=\"#c271d2\" fill-rule=\"evenodd\" fill-opacity=\"1\"/>\n",
       "<polyline clip-path=\"url(#clip402)\" style=\"stroke:#000000; stroke-linecap:round; stroke-linejoin:round; stroke-width:4; stroke-opacity:1; fill:none\" points=\"659.376,694.076 659.376,882.09 734.539,882.09 734.539,694.076 659.376,694.076 \"/>\n",
       "<path clip-path=\"url(#clip402)\" d=\"M753.329 365.049 L753.329 580.392 L828.492 580.392 L828.492 365.049 L753.329 365.049 L753.329 365.049  Z\" fill=\"#c271d2\" fill-rule=\"evenodd\" fill-opacity=\"1\"/>\n",
       "<polyline clip-path=\"url(#clip402)\" style=\"stroke:#000000; stroke-linecap:round; stroke-linejoin:round; stroke-width:4; stroke-opacity:1; fill:none\" points=\"753.329,365.049 753.329,580.392 828.492,580.392 828.492,365.049 753.329,365.049 \"/>\n",
       "<path clip-path=\"url(#clip402)\" d=\"M847.283 555.251 L847.283 697.355 L922.445 697.355 L922.445 555.251 L847.283 555.251 L847.283 555.251  Z\" fill=\"#c271d2\" fill-rule=\"evenodd\" fill-opacity=\"1\"/>\n",
       "<polyline clip-path=\"url(#clip402)\" style=\"stroke:#000000; stroke-linecap:round; stroke-linejoin:round; stroke-width:4; stroke-opacity:1; fill:none\" points=\"847.283,555.251 847.283,697.355 922.445,697.355 922.445,555.251 847.283,555.251 \"/>\n",
       "<path clip-path=\"url(#clip402)\" d=\"M941.236 478.733 L941.236 677.679 L1016.4 677.679 L1016.4 478.733 L941.236 478.733 L941.236 478.733  Z\" fill=\"#c271d2\" fill-rule=\"evenodd\" fill-opacity=\"1\"/>\n",
       "<polyline clip-path=\"url(#clip402)\" style=\"stroke:#000000; stroke-linecap:round; stroke-linejoin:round; stroke-width:4; stroke-opacity:1; fill:none\" points=\"941.236,478.733 941.236,677.679 1016.4,677.679 1016.4,478.733 941.236,478.733 \"/>\n",
       "<path clip-path=\"url(#clip402)\" d=\"M1035.19 482.012 L1035.19 557.437 L1110.35 557.437 L1110.35 482.012 L1035.19 482.012 L1035.19 482.012  Z\" fill=\"#c271d2\" fill-rule=\"evenodd\" fill-opacity=\"1\"/>\n",
       "<polyline clip-path=\"url(#clip402)\" style=\"stroke:#000000; stroke-linecap:round; stroke-linejoin:round; stroke-width:4; stroke-opacity:1; fill:none\" points=\"1035.19,482.012 1035.19,557.437 1110.35,557.437 1110.35,482.012 1035.19,482.012 \"/>\n",
       "<path clip-path=\"url(#clip402)\" d=\"M1129.14 420.798 L1129.14 637.234 L1204.3 637.234 L1204.3 420.798 L1129.14 420.798 L1129.14 420.798  Z\" fill=\"#c271d2\" fill-rule=\"evenodd\" fill-opacity=\"1\"/>\n",
       "<polyline clip-path=\"url(#clip402)\" style=\"stroke:#000000; stroke-linecap:round; stroke-linejoin:round; stroke-width:4; stroke-opacity:1; fill:none\" points=\"1129.14,420.798 1129.14,637.234 1204.3,637.234 1204.3,420.798 1129.14,420.798 \"/>\n",
       "<path clip-path=\"url(#clip402)\" d=\"M1223.1 316.953 L1223.1 401.122 L1298.26 401.122 L1298.26 316.953 L1223.1 316.953 L1223.1 316.953  Z\" fill=\"#c271d2\" fill-rule=\"evenodd\" fill-opacity=\"1\"/>\n",
       "<polyline clip-path=\"url(#clip402)\" style=\"stroke:#000000; stroke-linecap:round; stroke-linejoin:round; stroke-width:4; stroke-opacity:1; fill:none\" points=\"1223.1,316.953 1223.1,401.122 1298.26,401.122 1298.26,316.953 1223.1,316.953 \"/>\n",
       "<path clip-path=\"url(#clip402)\" d=\"M1317.05 583.671 L1317.05 714.845 L1392.21 714.845 L1392.21 583.671 L1317.05 583.671 L1317.05 583.671  Z\" fill=\"#c271d2\" fill-rule=\"evenodd\" fill-opacity=\"1\"/>\n",
       "<polyline clip-path=\"url(#clip402)\" style=\"stroke:#000000; stroke-linecap:round; stroke-linejoin:round; stroke-width:4; stroke-opacity:1; fill:none\" points=\"1317.05,583.671 1317.05,714.845 1392.21,714.845 1392.21,583.671 1317.05,583.671 \"/>\n",
       "<path clip-path=\"url(#clip402)\" d=\"M1411 1175.04 L1411 1266.87 L1486.16 1266.87 L1486.16 1175.04 L1411 1175.04 L1411 1175.04  Z\" fill=\"#c271d2\" fill-rule=\"evenodd\" fill-opacity=\"1\"/>\n",
       "<polyline clip-path=\"url(#clip402)\" style=\"stroke:#000000; stroke-linecap:round; stroke-linejoin:round; stroke-width:4; stroke-opacity:1; fill:none\" points=\"1411,1175.04 1411,1266.87 1486.16,1266.87 1486.16,1175.04 1411,1175.04 \"/>\n",
       "<path clip-path=\"url(#clip402)\" d=\"M1504.96 186.873 L1504.96 386.912 L1580.12 386.912 L1580.12 186.873 L1504.96 186.873 L1504.96 186.873  Z\" fill=\"#c271d2\" fill-rule=\"evenodd\" fill-opacity=\"1\"/>\n",
       "<polyline clip-path=\"url(#clip402)\" style=\"stroke:#000000; stroke-linecap:round; stroke-linejoin:round; stroke-width:4; stroke-opacity:1; fill:none\" points=\"1504.96,186.873 1504.96,386.912 1580.12,386.912 1580.12,186.873 1504.96,186.873 \"/>\n",
       "<path clip-path=\"url(#clip402)\" d=\"M1598.91 354.118 L1598.91 368.329 L1674.07 368.329 L1674.07 354.118 L1598.91 354.118 L1598.91 354.118  Z\" fill=\"#c271d2\" fill-rule=\"evenodd\" fill-opacity=\"1\"/>\n",
       "<polyline clip-path=\"url(#clip402)\" style=\"stroke:#000000; stroke-linecap:round; stroke-linejoin:round; stroke-width:4; stroke-opacity:1; fill:none\" points=\"1598.91,354.118 1598.91,368.329 1674.07,368.329 1674.07,354.118 1598.91,354.118 \"/>\n",
       "<path clip-path=\"url(#clip402)\" d=\"M1692.86 476.547 L1692.86 592.416 L1768.02 592.416 L1768.02 476.547 L1692.86 476.547 L1692.86 476.547  Z\" fill=\"#c271d2\" fill-rule=\"evenodd\" fill-opacity=\"1\"/>\n",
       "<polyline clip-path=\"url(#clip402)\" style=\"stroke:#000000; stroke-linecap:round; stroke-linejoin:round; stroke-width:4; stroke-opacity:1; fill:none\" points=\"1692.86,476.547 1692.86,592.416 1768.02,592.416 1768.02,476.547 1692.86,476.547 \"/>\n",
       "<path clip-path=\"url(#clip402)\" d=\"M1786.82 518.085 L1786.82 630.675 L1861.98 630.675 L1861.98 518.085 L1786.82 518.085 L1786.82 518.085  Z\" fill=\"#c271d2\" fill-rule=\"evenodd\" fill-opacity=\"1\"/>\n",
       "<polyline clip-path=\"url(#clip402)\" style=\"stroke:#000000; stroke-linecap:round; stroke-linejoin:round; stroke-width:4; stroke-opacity:1; fill:none\" points=\"1786.82,518.085 1786.82,630.675 1861.98,630.675 1861.98,518.085 1786.82,518.085 \"/>\n",
       "<path clip-path=\"url(#clip402)\" d=\"M1880.77 448.126 L1880.77 632.861 L1955.93 632.861 L1955.93 448.126 L1880.77 448.126 L1880.77 448.126  Z\" fill=\"#c271d2\" fill-rule=\"evenodd\" fill-opacity=\"1\"/>\n",
       "<polyline clip-path=\"url(#clip402)\" style=\"stroke:#000000; stroke-linecap:round; stroke-linejoin:round; stroke-width:4; stroke-opacity:1; fill:none\" points=\"1880.77,448.126 1880.77,632.861 1955.93,632.861 1955.93,448.126 1880.77,448.126 \"/>\n",
       "<path clip-path=\"url(#clip402)\" d=\"M1974.72 621.93 L1974.72 707.193 L2049.88 707.193 L2049.88 621.93 L1974.72 621.93 L1974.72 621.93  Z\" fill=\"#c271d2\" fill-rule=\"evenodd\" fill-opacity=\"1\"/>\n",
       "<polyline clip-path=\"url(#clip402)\" style=\"stroke:#000000; stroke-linecap:round; stroke-linejoin:round; stroke-width:4; stroke-opacity:1; fill:none\" points=\"1974.72,621.93 1974.72,707.193 2049.88,707.193 2049.88,621.93 1974.72,621.93 \"/>\n",
       "<path clip-path=\"url(#clip402)\" d=\"M2068.68 1085.41 L2068.68 1271.24 L2143.84 1271.24 L2143.84 1085.41 L2068.68 1085.41 L2068.68 1085.41  Z\" fill=\"#c271d2\" fill-rule=\"evenodd\" fill-opacity=\"1\"/>\n",
       "<polyline clip-path=\"url(#clip402)\" style=\"stroke:#000000; stroke-linecap:round; stroke-linejoin:round; stroke-width:4; stroke-opacity:1; fill:none\" points=\"2068.68,1085.41 2068.68,1271.24 2143.84,1271.24 2143.84,1085.41 2068.68,1085.41 \"/>\n",
       "<path clip-path=\"url(#clip402)\" d=\"M2162.63 854.763 L2162.63 900.673 L2237.79 900.673 L2237.79 854.763 L2162.63 854.763 L2162.63 854.763  Z\" fill=\"#c271d2\" fill-rule=\"evenodd\" fill-opacity=\"1\"/>\n",
       "<polyline clip-path=\"url(#clip402)\" style=\"stroke:#000000; stroke-linecap:round; stroke-linejoin:round; stroke-width:4; stroke-opacity:1; fill:none\" points=\"2162.63,854.763 2162.63,900.673 2237.79,900.673 2237.79,854.763 2162.63,854.763 \"/>\n",
       "<circle clip-path=\"url(#clip402)\" style=\"fill:#c271d2; stroke:none; fill-opacity:0\" cx=\"415.098\" cy=\"569.461\" r=\"2\"/>\n",
       "<circle clip-path=\"url(#clip402)\" style=\"fill:#c271d2; stroke:none; fill-opacity:0\" cx=\"509.051\" cy=\"598.975\" r=\"2\"/>\n",
       "<circle clip-path=\"url(#clip402)\" style=\"fill:#c271d2; stroke:none; fill-opacity:0\" cx=\"603.004\" cy=\"427.357\" r=\"2\"/>\n",
       "<circle clip-path=\"url(#clip402)\" style=\"fill:#c271d2; stroke:none; fill-opacity:0\" cx=\"696.957\" cy=\"694.076\" r=\"2\"/>\n",
       "<circle clip-path=\"url(#clip402)\" style=\"fill:#c271d2; stroke:none; fill-opacity:0\" cx=\"790.911\" cy=\"365.049\" r=\"2\"/>\n",
       "<circle clip-path=\"url(#clip402)\" style=\"fill:#c271d2; stroke:none; fill-opacity:0\" cx=\"884.864\" cy=\"555.251\" r=\"2\"/>\n",
       "<circle clip-path=\"url(#clip402)\" style=\"fill:#c271d2; stroke:none; fill-opacity:0\" cx=\"978.817\" cy=\"478.733\" r=\"2\"/>\n",
       "<circle clip-path=\"url(#clip402)\" style=\"fill:#c271d2; stroke:none; fill-opacity:0\" cx=\"1072.77\" cy=\"482.012\" r=\"2\"/>\n",
       "<circle clip-path=\"url(#clip402)\" style=\"fill:#c271d2; stroke:none; fill-opacity:0\" cx=\"1166.72\" cy=\"420.798\" r=\"2\"/>\n",
       "<circle clip-path=\"url(#clip402)\" style=\"fill:#c271d2; stroke:none; fill-opacity:0\" cx=\"1260.68\" cy=\"316.953\" r=\"2\"/>\n",
       "<circle clip-path=\"url(#clip402)\" style=\"fill:#c271d2; stroke:none; fill-opacity:0\" cx=\"1354.63\" cy=\"583.671\" r=\"2\"/>\n",
       "<circle clip-path=\"url(#clip402)\" style=\"fill:#c271d2; stroke:none; fill-opacity:0\" cx=\"1448.58\" cy=\"1175.04\" r=\"2\"/>\n",
       "<circle clip-path=\"url(#clip402)\" style=\"fill:#c271d2; stroke:none; fill-opacity:0\" cx=\"1542.54\" cy=\"186.873\" r=\"2\"/>\n",
       "<circle clip-path=\"url(#clip402)\" style=\"fill:#c271d2; stroke:none; fill-opacity:0\" cx=\"1636.49\" cy=\"354.118\" r=\"2\"/>\n",
       "<circle clip-path=\"url(#clip402)\" style=\"fill:#c271d2; stroke:none; fill-opacity:0\" cx=\"1730.44\" cy=\"476.547\" r=\"2\"/>\n",
       "<circle clip-path=\"url(#clip402)\" style=\"fill:#c271d2; stroke:none; fill-opacity:0\" cx=\"1824.4\" cy=\"518.085\" r=\"2\"/>\n",
       "<circle clip-path=\"url(#clip402)\" style=\"fill:#c271d2; stroke:none; fill-opacity:0\" cx=\"1918.35\" cy=\"448.126\" r=\"2\"/>\n",
       "<circle clip-path=\"url(#clip402)\" style=\"fill:#c271d2; stroke:none; fill-opacity:0\" cx=\"2012.3\" cy=\"621.93\" r=\"2\"/>\n",
       "<circle clip-path=\"url(#clip402)\" style=\"fill:#c271d2; stroke:none; fill-opacity:0\" cx=\"2106.26\" cy=\"1085.41\" r=\"2\"/>\n",
       "<circle clip-path=\"url(#clip402)\" style=\"fill:#c271d2; stroke:none; fill-opacity:0\" cx=\"2200.21\" cy=\"854.763\" r=\"2\"/>\n",
       "<path clip-path=\"url(#clip402)\" d=\"M377.516 752.01 L377.516 788.083 L452.679 788.083 L452.679 752.01 L377.516 752.01 L377.516 752.01  Z\" fill=\"#ac8d18\" fill-rule=\"evenodd\" fill-opacity=\"1\"/>\n",
       "<polyline clip-path=\"url(#clip402)\" style=\"stroke:#000000; stroke-linecap:round; stroke-linejoin:round; stroke-width:4; stroke-opacity:1; fill:none\" points=\"377.516,752.01 377.516,788.083 452.679,788.083 452.679,752.01 377.516,752.01 \"/>\n",
       "<path clip-path=\"url(#clip402)\" d=\"M471.469 790.269 L471.469 868.973 L546.632 868.973 L546.632 790.269 L471.469 790.269 L471.469 790.269  Z\" fill=\"#ac8d18\" fill-rule=\"evenodd\" fill-opacity=\"1\"/>\n",
       "<polyline clip-path=\"url(#clip402)\" style=\"stroke:#000000; stroke-linecap:round; stroke-linejoin:round; stroke-width:4; stroke-opacity:1; fill:none\" points=\"471.469,790.269 471.469,868.973 546.632,868.973 546.632,790.269 471.469,790.269 \"/>\n",
       "<path clip-path=\"url(#clip402)\" d=\"M565.423 588.044 L565.423 794.642 L640.585 794.642 L640.585 588.044 L565.423 588.044 L565.423 588.044  Z\" fill=\"#ac8d18\" fill-rule=\"evenodd\" fill-opacity=\"1\"/>\n",
       "<polyline clip-path=\"url(#clip402)\" style=\"stroke:#000000; stroke-linecap:round; stroke-linejoin:round; stroke-width:4; stroke-opacity:1; fill:none\" points=\"565.423,588.044 565.423,794.642 640.585,794.642 640.585,588.044 565.423,588.044 \"/>\n",
       "<path clip-path=\"url(#clip402)\" d=\"M659.376 882.09 L659.376 1002.33 L734.539 1002.33 L734.539 882.09 L659.376 882.09 L659.376 882.09  Z\" fill=\"#ac8d18\" fill-rule=\"evenodd\" fill-opacity=\"1\"/>\n",
       "<polyline clip-path=\"url(#clip402)\" style=\"stroke:#000000; stroke-linecap:round; stroke-linejoin:round; stroke-width:4; stroke-opacity:1; fill:none\" points=\"659.376,882.09 659.376,1002.33 734.539,1002.33 734.539,882.09 659.376,882.09 \"/>\n",
       "<path clip-path=\"url(#clip402)\" d=\"M753.329 580.392 L753.329 726.869 L828.492 726.869 L828.492 580.392 L753.329 580.392 L753.329 580.392  Z\" fill=\"#ac8d18\" fill-rule=\"evenodd\" fill-opacity=\"1\"/>\n",
       "<polyline clip-path=\"url(#clip402)\" style=\"stroke:#000000; stroke-linecap:round; stroke-linejoin:round; stroke-width:4; stroke-opacity:1; fill:none\" points=\"753.329,580.392 753.329,726.869 828.492,726.869 828.492,580.392 753.329,580.392 \"/>\n",
       "<path clip-path=\"url(#clip402)\" d=\"M847.283 697.355 L847.283 894.115 L922.445 894.115 L922.445 697.355 L847.283 697.355 L847.283 697.355  Z\" fill=\"#ac8d18\" fill-rule=\"evenodd\" fill-opacity=\"1\"/>\n",
       "<polyline clip-path=\"url(#clip402)\" style=\"stroke:#000000; stroke-linecap:round; stroke-linejoin:round; stroke-width:4; stroke-opacity:1; fill:none\" points=\"847.283,697.355 847.283,894.115 922.445,894.115 922.445,697.355 847.283,697.355 \"/>\n",
       "<path clip-path=\"url(#clip402)\" d=\"M941.236 677.679 L941.236 773.873 L1016.4 773.873 L1016.4 677.679 L941.236 677.679 L941.236 677.679  Z\" fill=\"#ac8d18\" fill-rule=\"evenodd\" fill-opacity=\"1\"/>\n",
       "<polyline clip-path=\"url(#clip402)\" style=\"stroke:#000000; stroke-linecap:round; stroke-linejoin:round; stroke-width:4; stroke-opacity:1; fill:none\" points=\"941.236,677.679 941.236,773.873 1016.4,773.873 1016.4,677.679 941.236,677.679 \"/>\n",
       "<path clip-path=\"url(#clip402)\" d=\"M1035.19 557.437 L1035.19 730.148 L1110.35 730.148 L1110.35 557.437 L1035.19 557.437 L1035.19 557.437  Z\" fill=\"#ac8d18\" fill-rule=\"evenodd\" fill-opacity=\"1\"/>\n",
       "<polyline clip-path=\"url(#clip402)\" style=\"stroke:#000000; stroke-linecap:round; stroke-linejoin:round; stroke-width:4; stroke-opacity:1; fill:none\" points=\"1035.19,557.437 1035.19,730.148 1110.35,730.148 1110.35,557.437 1035.19,557.437 \"/>\n",
       "<path clip-path=\"url(#clip402)\" d=\"M1129.14 637.234 L1129.14 759.662 L1204.3 759.662 L1204.3 637.234 L1129.14 637.234 L1129.14 637.234  Z\" fill=\"#ac8d18\" fill-rule=\"evenodd\" fill-opacity=\"1\"/>\n",
       "<polyline clip-path=\"url(#clip402)\" style=\"stroke:#000000; stroke-linecap:round; stroke-linejoin:round; stroke-width:4; stroke-opacity:1; fill:none\" points=\"1129.14,637.234 1129.14,759.662 1204.3,759.662 1204.3,637.234 1129.14,637.234 \"/>\n",
       "<path clip-path=\"url(#clip402)\" d=\"M1223.1 401.122 L1223.1 618.651 L1298.26 618.651 L1298.26 401.122 L1223.1 401.122 L1223.1 401.122  Z\" fill=\"#ac8d18\" fill-rule=\"evenodd\" fill-opacity=\"1\"/>\n",
       "<polyline clip-path=\"url(#clip402)\" style=\"stroke:#000000; stroke-linecap:round; stroke-linejoin:round; stroke-width:4; stroke-opacity:1; fill:none\" points=\"1223.1,401.122 1223.1,618.651 1298.26,618.651 1298.26,401.122 1223.1,401.122 \"/>\n",
       "<path clip-path=\"url(#clip402)\" d=\"M1317.05 714.845 L1317.05 795.735 L1392.21 795.735 L1392.21 714.845 L1317.05 714.845 L1317.05 714.845  Z\" fill=\"#ac8d18\" fill-rule=\"evenodd\" fill-opacity=\"1\"/>\n",
       "<polyline clip-path=\"url(#clip402)\" style=\"stroke:#000000; stroke-linecap:round; stroke-linejoin:round; stroke-width:4; stroke-opacity:1; fill:none\" points=\"1317.05,714.845 1317.05,795.735 1392.21,795.735 1392.21,714.845 1317.05,714.845 \"/>\n",
       "<path clip-path=\"url(#clip402)\" d=\"M1411 1266.87 L1411 1423.18 L1486.16 1423.18 L1486.16 1266.87 L1411 1266.87 L1411 1266.87  Z\" fill=\"#ac8d18\" fill-rule=\"evenodd\" fill-opacity=\"1\"/>\n",
       "<polyline clip-path=\"url(#clip402)\" style=\"stroke:#000000; stroke-linecap:round; stroke-linejoin:round; stroke-width:4; stroke-opacity:1; fill:none\" points=\"1411,1266.87 1411,1423.18 1486.16,1423.18 1486.16,1266.87 1411,1266.87 \"/>\n",
       "<path clip-path=\"url(#clip402)\" d=\"M1504.96 386.912 L1504.96 589.137 L1580.12 589.137 L1580.12 386.912 L1504.96 386.912 L1504.96 386.912  Z\" fill=\"#ac8d18\" fill-rule=\"evenodd\" fill-opacity=\"1\"/>\n",
       "<polyline clip-path=\"url(#clip402)\" style=\"stroke:#000000; stroke-linecap:round; stroke-linejoin:round; stroke-width:4; stroke-opacity:1; fill:none\" points=\"1504.96,386.912 1504.96,589.137 1580.12,589.137 1580.12,386.912 1504.96,386.912 \"/>\n",
       "<path clip-path=\"url(#clip402)\" d=\"M1598.91 368.329 L1598.91 472.174 L1674.07 472.174 L1674.07 368.329 L1598.91 368.329 L1598.91 368.329  Z\" fill=\"#ac8d18\" fill-rule=\"evenodd\" fill-opacity=\"1\"/>\n",
       "<polyline clip-path=\"url(#clip402)\" style=\"stroke:#000000; stroke-linecap:round; stroke-linejoin:round; stroke-width:4; stroke-opacity:1; fill:none\" points=\"1598.91,368.329 1598.91,472.174 1674.07,472.174 1674.07,368.329 1598.91,368.329 \"/>\n",
       "<path clip-path=\"url(#clip402)\" d=\"M1692.86 592.416 L1692.86 754.197 L1768.02 754.197 L1768.02 592.416 L1692.86 592.416 L1692.86 592.416  Z\" fill=\"#ac8d18\" fill-rule=\"evenodd\" fill-opacity=\"1\"/>\n",
       "<polyline clip-path=\"url(#clip402)\" style=\"stroke:#000000; stroke-linecap:round; stroke-linejoin:round; stroke-width:4; stroke-opacity:1; fill:none\" points=\"1692.86,592.416 1692.86,754.197 1768.02,754.197 1768.02,592.416 1692.86,592.416 \"/>\n",
       "<path clip-path=\"url(#clip402)\" d=\"M1786.82 630.675 L1786.82 780.431 L1861.98 780.431 L1861.98 630.675 L1786.82 630.675 L1786.82 630.675  Z\" fill=\"#ac8d18\" fill-rule=\"evenodd\" fill-opacity=\"1\"/>\n",
       "<polyline clip-path=\"url(#clip402)\" style=\"stroke:#000000; stroke-linecap:round; stroke-linejoin:round; stroke-width:4; stroke-opacity:1; fill:none\" points=\"1786.82,630.675 1786.82,780.431 1861.98,780.431 1861.98,630.675 1786.82,630.675 \"/>\n",
       "<path clip-path=\"url(#clip402)\" d=\"M1880.77 632.861 L1880.77 697.355 L1955.93 697.355 L1955.93 632.861 L1880.77 632.861 L1880.77 632.861  Z\" fill=\"#ac8d18\" fill-rule=\"evenodd\" fill-opacity=\"1\"/>\n",
       "<polyline clip-path=\"url(#clip402)\" style=\"stroke:#000000; stroke-linecap:round; stroke-linejoin:round; stroke-width:4; stroke-opacity:1; fill:none\" points=\"1880.77,632.861 1880.77,697.355 1955.93,697.355 1955.93,632.861 1880.77,632.861 \"/>\n",
       "<path clip-path=\"url(#clip402)\" d=\"M1974.72 707.193 L1974.72 820.876 L2049.88 820.876 L2049.88 707.193 L1974.72 707.193 L1974.72 707.193  Z\" fill=\"#ac8d18\" fill-rule=\"evenodd\" fill-opacity=\"1\"/>\n",
       "<polyline clip-path=\"url(#clip402)\" style=\"stroke:#000000; stroke-linecap:round; stroke-linejoin:round; stroke-width:4; stroke-opacity:1; fill:none\" points=\"1974.72,707.193 1974.72,820.876 2049.88,820.876 2049.88,707.193 1974.72,707.193 \"/>\n",
       "<path clip-path=\"url(#clip402)\" d=\"M2068.68 1271.24 L2068.68 1423.18 L2143.84 1423.18 L2143.84 1271.24 L2068.68 1271.24 L2068.68 1271.24  Z\" fill=\"#ac8d18\" fill-rule=\"evenodd\" fill-opacity=\"1\"/>\n",
       "<polyline clip-path=\"url(#clip402)\" style=\"stroke:#000000; stroke-linecap:round; stroke-linejoin:round; stroke-width:4; stroke-opacity:1; fill:none\" points=\"2068.68,1271.24 2068.68,1423.18 2143.84,1423.18 2143.84,1271.24 2068.68,1271.24 \"/>\n",
       "<path clip-path=\"url(#clip402)\" d=\"M2162.63 900.673 L2162.63 960.794 L2237.79 960.794 L2237.79 900.673 L2162.63 900.673 L2162.63 900.673  Z\" fill=\"#ac8d18\" fill-rule=\"evenodd\" fill-opacity=\"1\"/>\n",
       "<polyline clip-path=\"url(#clip402)\" style=\"stroke:#000000; stroke-linecap:round; stroke-linejoin:round; stroke-width:4; stroke-opacity:1; fill:none\" points=\"2162.63,900.673 2162.63,960.794 2237.79,960.794 2237.79,900.673 2162.63,900.673 \"/>\n",
       "<circle clip-path=\"url(#clip402)\" style=\"fill:#ac8d18; stroke:none; fill-opacity:0\" cx=\"415.098\" cy=\"752.01\" r=\"2\"/>\n",
       "<circle clip-path=\"url(#clip402)\" style=\"fill:#ac8d18; stroke:none; fill-opacity:0\" cx=\"509.051\" cy=\"790.269\" r=\"2\"/>\n",
       "<circle clip-path=\"url(#clip402)\" style=\"fill:#ac8d18; stroke:none; fill-opacity:0\" cx=\"603.004\" cy=\"588.044\" r=\"2\"/>\n",
       "<circle clip-path=\"url(#clip402)\" style=\"fill:#ac8d18; stroke:none; fill-opacity:0\" cx=\"696.957\" cy=\"882.09\" r=\"2\"/>\n",
       "<circle clip-path=\"url(#clip402)\" style=\"fill:#ac8d18; stroke:none; fill-opacity:0\" cx=\"790.911\" cy=\"580.392\" r=\"2\"/>\n",
       "<circle clip-path=\"url(#clip402)\" style=\"fill:#ac8d18; stroke:none; fill-opacity:0\" cx=\"884.864\" cy=\"697.355\" r=\"2\"/>\n",
       "<circle clip-path=\"url(#clip402)\" style=\"fill:#ac8d18; stroke:none; fill-opacity:0\" cx=\"978.817\" cy=\"677.679\" r=\"2\"/>\n",
       "<circle clip-path=\"url(#clip402)\" style=\"fill:#ac8d18; stroke:none; fill-opacity:0\" cx=\"1072.77\" cy=\"557.437\" r=\"2\"/>\n",
       "<circle clip-path=\"url(#clip402)\" style=\"fill:#ac8d18; stroke:none; fill-opacity:0\" cx=\"1166.72\" cy=\"637.234\" r=\"2\"/>\n",
       "<circle clip-path=\"url(#clip402)\" style=\"fill:#ac8d18; stroke:none; fill-opacity:0\" cx=\"1260.68\" cy=\"401.122\" r=\"2\"/>\n",
       "<circle clip-path=\"url(#clip402)\" style=\"fill:#ac8d18; stroke:none; fill-opacity:0\" cx=\"1354.63\" cy=\"714.845\" r=\"2\"/>\n",
       "<circle clip-path=\"url(#clip402)\" style=\"fill:#ac8d18; stroke:none; fill-opacity:0\" cx=\"1448.58\" cy=\"1266.87\" r=\"2\"/>\n",
       "<circle clip-path=\"url(#clip402)\" style=\"fill:#ac8d18; stroke:none; fill-opacity:0\" cx=\"1542.54\" cy=\"386.912\" r=\"2\"/>\n",
       "<circle clip-path=\"url(#clip402)\" style=\"fill:#ac8d18; stroke:none; fill-opacity:0\" cx=\"1636.49\" cy=\"368.329\" r=\"2\"/>\n",
       "<circle clip-path=\"url(#clip402)\" style=\"fill:#ac8d18; stroke:none; fill-opacity:0\" cx=\"1730.44\" cy=\"592.416\" r=\"2\"/>\n",
       "<circle clip-path=\"url(#clip402)\" style=\"fill:#ac8d18; stroke:none; fill-opacity:0\" cx=\"1824.4\" cy=\"630.675\" r=\"2\"/>\n",
       "<circle clip-path=\"url(#clip402)\" style=\"fill:#ac8d18; stroke:none; fill-opacity:0\" cx=\"1918.35\" cy=\"632.861\" r=\"2\"/>\n",
       "<circle clip-path=\"url(#clip402)\" style=\"fill:#ac8d18; stroke:none; fill-opacity:0\" cx=\"2012.3\" cy=\"707.193\" r=\"2\"/>\n",
       "<circle clip-path=\"url(#clip402)\" style=\"fill:#ac8d18; stroke:none; fill-opacity:0\" cx=\"2106.26\" cy=\"1271.24\" r=\"2\"/>\n",
       "<circle clip-path=\"url(#clip402)\" style=\"fill:#ac8d18; stroke:none; fill-opacity:0\" cx=\"2200.21\" cy=\"900.673\" r=\"2\"/>\n",
       "<path clip-path=\"url(#clip402)\" d=\"M377.516 788.083 L377.516 835.087 L452.679 835.087 L452.679 788.083 L377.516 788.083 L377.516 788.083  Z\" fill=\"#00a9ad\" fill-rule=\"evenodd\" fill-opacity=\"1\"/>\n",
       "<polyline clip-path=\"url(#clip402)\" style=\"stroke:#000000; stroke-linecap:round; stroke-linejoin:round; stroke-width:4; stroke-opacity:1; fill:none\" points=\"377.516,788.083 377.516,835.087 452.679,835.087 452.679,788.083 377.516,788.083 \"/>\n",
       "<path clip-path=\"url(#clip402)\" d=\"M471.469 868.973 L471.469 906.139 L546.632 906.139 L546.632 868.973 L471.469 868.973 L471.469 868.973  Z\" fill=\"#00a9ad\" fill-rule=\"evenodd\" fill-opacity=\"1\"/>\n",
       "<polyline clip-path=\"url(#clip402)\" style=\"stroke:#000000; stroke-linecap:round; stroke-linejoin:round; stroke-width:4; stroke-opacity:1; fill:none\" points=\"471.469,868.973 471.469,906.139 546.632,906.139 546.632,868.973 471.469,868.973 \"/>\n",
       "<path clip-path=\"url(#clip402)\" d=\"M565.423 794.642 L565.423 968.446 L640.585 968.446 L640.585 794.642 L565.423 794.642 L565.423 794.642  Z\" fill=\"#00a9ad\" fill-rule=\"evenodd\" fill-opacity=\"1\"/>\n",
       "<polyline clip-path=\"url(#clip402)\" style=\"stroke:#000000; stroke-linecap:round; stroke-linejoin:round; stroke-width:4; stroke-opacity:1; fill:none\" points=\"565.423,794.642 565.423,968.446 640.585,968.446 640.585,794.642 565.423,794.642 \"/>\n",
       "<path clip-path=\"url(#clip402)\" d=\"M659.376 1002.33 L659.376 1072.29 L734.539 1072.29 L734.539 1002.33 L659.376 1002.33 L659.376 1002.33  Z\" fill=\"#00a9ad\" fill-rule=\"evenodd\" fill-opacity=\"1\"/>\n",
       "<polyline clip-path=\"url(#clip402)\" style=\"stroke:#000000; stroke-linecap:round; stroke-linejoin:round; stroke-width:4; stroke-opacity:1; fill:none\" points=\"659.376,1002.33 659.376,1072.29 734.539,1072.29 734.539,1002.33 659.376,1002.33 \"/>\n",
       "<path clip-path=\"url(#clip402)\" d=\"M753.329 726.869 L753.329 919.256 L828.492 919.256 L828.492 726.869 L753.329 726.869 L753.329 726.869  Z\" fill=\"#00a9ad\" fill-rule=\"evenodd\" fill-opacity=\"1\"/>\n",
       "<polyline clip-path=\"url(#clip402)\" style=\"stroke:#000000; stroke-linecap:round; stroke-linejoin:round; stroke-width:4; stroke-opacity:1; fill:none\" points=\"753.329,726.869 753.329,919.256 828.492,919.256 828.492,726.869 753.329,726.869 \"/>\n",
       "<path clip-path=\"url(#clip402)\" d=\"M847.283 894.115 L847.283 1005.61 L922.445 1005.61 L922.445 894.115 L847.283 894.115 L847.283 894.115  Z\" fill=\"#00a9ad\" fill-rule=\"evenodd\" fill-opacity=\"1\"/>\n",
       "<polyline clip-path=\"url(#clip402)\" style=\"stroke:#000000; stroke-linecap:round; stroke-linejoin:round; stroke-width:4; stroke-opacity:1; fill:none\" points=\"847.283,894.115 847.283,1005.61 922.445,1005.61 922.445,894.115 847.283,894.115 \"/>\n",
       "<path clip-path=\"url(#clip402)\" d=\"M941.236 773.873 L941.236 907.232 L1016.4 907.232 L1016.4 773.873 L941.236 773.873 L941.236 773.873  Z\" fill=\"#00a9ad\" fill-rule=\"evenodd\" fill-opacity=\"1\"/>\n",
       "<polyline clip-path=\"url(#clip402)\" style=\"stroke:#000000; stroke-linecap:round; stroke-linejoin:round; stroke-width:4; stroke-opacity:1; fill:none\" points=\"941.236,773.873 941.236,907.232 1016.4,907.232 1016.4,773.873 941.236,773.873 \"/>\n",
       "<path clip-path=\"url(#clip402)\" d=\"M1035.19 730.148 L1035.19 913.791 L1110.35 913.791 L1110.35 730.148 L1035.19 730.148 L1035.19 730.148  Z\" fill=\"#00a9ad\" fill-rule=\"evenodd\" fill-opacity=\"1\"/>\n",
       "<polyline clip-path=\"url(#clip402)\" style=\"stroke:#000000; stroke-linecap:round; stroke-linejoin:round; stroke-width:4; stroke-opacity:1; fill:none\" points=\"1035.19,730.148 1035.19,913.791 1110.35,913.791 1110.35,730.148 1035.19,730.148 \"/>\n",
       "<path clip-path=\"url(#clip402)\" d=\"M1129.14 759.662 L1129.14 823.062 L1204.3 823.062 L1204.3 759.662 L1129.14 759.662 L1129.14 759.662  Z\" fill=\"#00a9ad\" fill-rule=\"evenodd\" fill-opacity=\"1\"/>\n",
       "<polyline clip-path=\"url(#clip402)\" style=\"stroke:#000000; stroke-linecap:round; stroke-linejoin:round; stroke-width:4; stroke-opacity:1; fill:none\" points=\"1129.14,759.662 1129.14,823.062 1204.3,823.062 1204.3,759.662 1129.14,759.662 \"/>\n",
       "<path clip-path=\"url(#clip402)\" d=\"M1223.1 618.651 L1223.1 708.286 L1298.26 708.286 L1298.26 618.651 L1223.1 618.651 L1223.1 618.651  Z\" fill=\"#00a9ad\" fill-rule=\"evenodd\" fill-opacity=\"1\"/>\n",
       "<polyline clip-path=\"url(#clip402)\" style=\"stroke:#000000; stroke-linecap:round; stroke-linejoin:round; stroke-width:4; stroke-opacity:1; fill:none\" points=\"1223.1,618.651 1223.1,708.286 1298.26,708.286 1298.26,618.651 1223.1,618.651 \"/>\n",
       "<path clip-path=\"url(#clip402)\" d=\"M1317.05 795.735 L1317.05 940.025 L1392.21 940.025 L1392.21 795.735 L1317.05 795.735 L1317.05 795.735  Z\" fill=\"#00a9ad\" fill-rule=\"evenodd\" fill-opacity=\"1\"/>\n",
       "<polyline clip-path=\"url(#clip402)\" style=\"stroke:#000000; stroke-linecap:round; stroke-linejoin:round; stroke-width:4; stroke-opacity:1; fill:none\" points=\"1317.05,795.735 1317.05,940.025 1392.21,940.025 1392.21,795.735 1317.05,795.735 \"/>\n",
       "<path clip-path=\"url(#clip402)\" d=\"M1411 1423.18 L1411 1423.18 L1486.16 1423.18 L1486.16 1423.18 L1411 1423.18 L1411 1423.18  Z\" fill=\"#00a9ad\" fill-rule=\"evenodd\" fill-opacity=\"1\"/>\n",
       "<polyline clip-path=\"url(#clip402)\" style=\"stroke:#000000; stroke-linecap:round; stroke-linejoin:round; stroke-width:4; stroke-opacity:1; fill:none\" points=\"1411,1423.18 1411,1423.18 1486.16,1423.18 1411,1423.18 \"/>\n",
       "<path clip-path=\"url(#clip402)\" d=\"M1504.96 589.137 L1504.96 752.01 L1580.12 752.01 L1580.12 589.137 L1504.96 589.137 L1504.96 589.137  Z\" fill=\"#00a9ad\" fill-rule=\"evenodd\" fill-opacity=\"1\"/>\n",
       "<polyline clip-path=\"url(#clip402)\" style=\"stroke:#000000; stroke-linecap:round; stroke-linejoin:round; stroke-width:4; stroke-opacity:1; fill:none\" points=\"1504.96,589.137 1504.96,752.01 1580.12,752.01 1580.12,589.137 1504.96,589.137 \"/>\n",
       "<path clip-path=\"url(#clip402)\" d=\"M1598.91 472.174 L1598.91 630.675 L1674.07 630.675 L1674.07 472.174 L1598.91 472.174 L1598.91 472.174  Z\" fill=\"#00a9ad\" fill-rule=\"evenodd\" fill-opacity=\"1\"/>\n",
       "<polyline clip-path=\"url(#clip402)\" style=\"stroke:#000000; stroke-linecap:round; stroke-linejoin:round; stroke-width:4; stroke-opacity:1; fill:none\" points=\"1598.91,472.174 1598.91,630.675 1674.07,630.675 1674.07,472.174 1598.91,472.174 \"/>\n",
       "<path clip-path=\"url(#clip402)\" d=\"M1692.86 754.197 L1692.86 909.418 L1768.02 909.418 L1768.02 754.197 L1692.86 754.197 L1692.86 754.197  Z\" fill=\"#00a9ad\" fill-rule=\"evenodd\" fill-opacity=\"1\"/>\n",
       "<polyline clip-path=\"url(#clip402)\" style=\"stroke:#000000; stroke-linecap:round; stroke-linejoin:round; stroke-width:4; stroke-opacity:1; fill:none\" points=\"1692.86,754.197 1692.86,909.418 1768.02,909.418 1768.02,754.197 1692.86,754.197 \"/>\n",
       "<path clip-path=\"url(#clip402)\" d=\"M1786.82 780.431 L1786.82 923.629 L1861.98 923.629 L1861.98 780.431 L1786.82 780.431 L1786.82 780.431  Z\" fill=\"#00a9ad\" fill-rule=\"evenodd\" fill-opacity=\"1\"/>\n",
       "<polyline clip-path=\"url(#clip402)\" style=\"stroke:#000000; stroke-linecap:round; stroke-linejoin:round; stroke-width:4; stroke-opacity:1; fill:none\" points=\"1786.82,780.431 1786.82,923.629 1861.98,923.629 1861.98,780.431 1786.82,780.431 \"/>\n",
       "<path clip-path=\"url(#clip402)\" d=\"M1880.77 697.355 L1880.77 862.414 L1955.93 862.414 L1955.93 697.355 L1880.77 697.355 L1880.77 697.355  Z\" fill=\"#00a9ad\" fill-rule=\"evenodd\" fill-opacity=\"1\"/>\n",
       "<polyline clip-path=\"url(#clip402)\" style=\"stroke:#000000; stroke-linecap:round; stroke-linejoin:round; stroke-width:4; stroke-opacity:1; fill:none\" points=\"1880.77,697.355 1880.77,862.414 1955.93,862.414 1955.93,697.355 1880.77,697.355 \"/>\n",
       "<path clip-path=\"url(#clip402)\" d=\"M1974.72 820.876 L1974.72 980.47 L2049.88 980.47 L2049.88 820.876 L1974.72 820.876 L1974.72 820.876  Z\" fill=\"#00a9ad\" fill-rule=\"evenodd\" fill-opacity=\"1\"/>\n",
       "<polyline clip-path=\"url(#clip402)\" style=\"stroke:#000000; stroke-linecap:round; stroke-linejoin:round; stroke-width:4; stroke-opacity:1; fill:none\" points=\"1974.72,820.876 1974.72,980.47 2049.88,980.47 2049.88,820.876 1974.72,820.876 \"/>\n",
       "<path clip-path=\"url(#clip402)\" d=\"M2068.68 1423.18 L2068.68 1423.18 L2143.84 1423.18 L2143.84 1423.18 L2068.68 1423.18 L2068.68 1423.18  Z\" fill=\"#00a9ad\" fill-rule=\"evenodd\" fill-opacity=\"1\"/>\n",
       "<polyline clip-path=\"url(#clip402)\" style=\"stroke:#000000; stroke-linecap:round; stroke-linejoin:round; stroke-width:4; stroke-opacity:1; fill:none\" points=\"2068.68,1423.18 2068.68,1423.18 2143.84,1423.18 2068.68,1423.18 \"/>\n",
       "<path clip-path=\"url(#clip402)\" d=\"M2162.63 960.794 L2162.63 1058.08 L2237.79 1058.08 L2237.79 960.794 L2162.63 960.794 L2162.63 960.794  Z\" fill=\"#00a9ad\" fill-rule=\"evenodd\" fill-opacity=\"1\"/>\n",
       "<polyline clip-path=\"url(#clip402)\" style=\"stroke:#000000; stroke-linecap:round; stroke-linejoin:round; stroke-width:4; stroke-opacity:1; fill:none\" points=\"2162.63,960.794 2162.63,1058.08 2237.79,1058.08 2237.79,960.794 2162.63,960.794 \"/>\n",
       "<circle clip-path=\"url(#clip402)\" style=\"fill:#00a9ad; stroke:none; fill-opacity:0\" cx=\"415.098\" cy=\"788.083\" r=\"2\"/>\n",
       "<circle clip-path=\"url(#clip402)\" style=\"fill:#00a9ad; stroke:none; fill-opacity:0\" cx=\"509.051\" cy=\"868.973\" r=\"2\"/>\n",
       "<circle clip-path=\"url(#clip402)\" style=\"fill:#00a9ad; stroke:none; fill-opacity:0\" cx=\"603.004\" cy=\"794.642\" r=\"2\"/>\n",
       "<circle clip-path=\"url(#clip402)\" style=\"fill:#00a9ad; stroke:none; fill-opacity:0\" cx=\"696.957\" cy=\"1002.33\" r=\"2\"/>\n",
       "<circle clip-path=\"url(#clip402)\" style=\"fill:#00a9ad; stroke:none; fill-opacity:0\" cx=\"790.911\" cy=\"726.869\" r=\"2\"/>\n",
       "<circle clip-path=\"url(#clip402)\" style=\"fill:#00a9ad; stroke:none; fill-opacity:0\" cx=\"884.864\" cy=\"894.115\" r=\"2\"/>\n",
       "<circle clip-path=\"url(#clip402)\" style=\"fill:#00a9ad; stroke:none; fill-opacity:0\" cx=\"978.817\" cy=\"773.873\" r=\"2\"/>\n",
       "<circle clip-path=\"url(#clip402)\" style=\"fill:#00a9ad; stroke:none; fill-opacity:0\" cx=\"1072.77\" cy=\"730.148\" r=\"2\"/>\n",
       "<circle clip-path=\"url(#clip402)\" style=\"fill:#00a9ad; stroke:none; fill-opacity:0\" cx=\"1166.72\" cy=\"759.662\" r=\"2\"/>\n",
       "<circle clip-path=\"url(#clip402)\" style=\"fill:#00a9ad; stroke:none; fill-opacity:0\" cx=\"1260.68\" cy=\"618.651\" r=\"2\"/>\n",
       "<circle clip-path=\"url(#clip402)\" style=\"fill:#00a9ad; stroke:none; fill-opacity:0\" cx=\"1354.63\" cy=\"795.735\" r=\"2\"/>\n",
       "<circle clip-path=\"url(#clip402)\" style=\"fill:#00a9ad; stroke:none; fill-opacity:0\" cx=\"1448.58\" cy=\"1423.18\" r=\"2\"/>\n",
       "<circle clip-path=\"url(#clip402)\" style=\"fill:#00a9ad; stroke:none; fill-opacity:0\" cx=\"1542.54\" cy=\"589.137\" r=\"2\"/>\n",
       "<circle clip-path=\"url(#clip402)\" style=\"fill:#00a9ad; stroke:none; fill-opacity:0\" cx=\"1636.49\" cy=\"472.174\" r=\"2\"/>\n",
       "<circle clip-path=\"url(#clip402)\" style=\"fill:#00a9ad; stroke:none; fill-opacity:0\" cx=\"1730.44\" cy=\"754.197\" r=\"2\"/>\n",
       "<circle clip-path=\"url(#clip402)\" style=\"fill:#00a9ad; stroke:none; fill-opacity:0\" cx=\"1824.4\" cy=\"780.431\" r=\"2\"/>\n",
       "<circle clip-path=\"url(#clip402)\" style=\"fill:#00a9ad; stroke:none; fill-opacity:0\" cx=\"1918.35\" cy=\"697.355\" r=\"2\"/>\n",
       "<circle clip-path=\"url(#clip402)\" style=\"fill:#00a9ad; stroke:none; fill-opacity:0\" cx=\"2012.3\" cy=\"820.876\" r=\"2\"/>\n",
       "<circle clip-path=\"url(#clip402)\" style=\"fill:#00a9ad; stroke:none; fill-opacity:0\" cx=\"2106.26\" cy=\"1423.18\" r=\"2\"/>\n",
       "<circle clip-path=\"url(#clip402)\" style=\"fill:#00a9ad; stroke:none; fill-opacity:0\" cx=\"2200.21\" cy=\"960.794\" r=\"2\"/>\n",
       "<path clip-path=\"url(#clip402)\" d=\"M377.516 835.087 L377.516 884.277 L452.679 884.277 L452.679 835.087 L377.516 835.087 L377.516 835.087  Z\" fill=\"#ed5d92\" fill-rule=\"evenodd\" fill-opacity=\"1\"/>\n",
       "<polyline clip-path=\"url(#clip402)\" style=\"stroke:#000000; stroke-linecap:round; stroke-linejoin:round; stroke-width:4; stroke-opacity:1; fill:none\" points=\"377.516,835.087 377.516,884.277 452.679,884.277 452.679,835.087 377.516,835.087 \"/>\n",
       "<path clip-path=\"url(#clip402)\" d=\"M471.469 906.139 L471.469 1016.54 L546.632 1016.54 L546.632 906.139 L471.469 906.139 L471.469 906.139  Z\" fill=\"#ed5d92\" fill-rule=\"evenodd\" fill-opacity=\"1\"/>\n",
       "<polyline clip-path=\"url(#clip402)\" style=\"stroke:#000000; stroke-linecap:round; stroke-linejoin:round; stroke-width:4; stroke-opacity:1; fill:none\" points=\"471.469,906.139 471.469,1016.54 546.632,1016.54 546.632,906.139 471.469,906.139 \"/>\n",
       "<path clip-path=\"url(#clip402)\" d=\"M565.423 968.446 L565.423 1161.93 L640.585 1161.93 L640.585 968.446 L565.423 968.446 L565.423 968.446  Z\" fill=\"#ed5d92\" fill-rule=\"evenodd\" fill-opacity=\"1\"/>\n",
       "<polyline clip-path=\"url(#clip402)\" style=\"stroke:#000000; stroke-linecap:round; stroke-linejoin:round; stroke-width:4; stroke-opacity:1; fill:none\" points=\"565.423,968.446 565.423,1161.93 640.585,1161.93 640.585,968.446 565.423,968.446 \"/>\n",
       "<path clip-path=\"url(#clip402)\" d=\"M659.376 1072.29 L659.376 1225.33 L734.539 1225.33 L734.539 1072.29 L659.376 1072.29 L659.376 1072.29  Z\" fill=\"#ed5d92\" fill-rule=\"evenodd\" fill-opacity=\"1\"/>\n",
       "<polyline clip-path=\"url(#clip402)\" style=\"stroke:#000000; stroke-linecap:round; stroke-linejoin:round; stroke-width:4; stroke-opacity:1; fill:none\" points=\"659.376,1072.29 659.376,1225.33 734.539,1225.33 734.539,1072.29 659.376,1072.29 \"/>\n",
       "<path clip-path=\"url(#clip402)\" d=\"M753.329 919.256 L753.329 1055.89 L828.492 1055.89 L828.492 919.256 L753.329 919.256 L753.329 919.256  Z\" fill=\"#ed5d92\" fill-rule=\"evenodd\" fill-opacity=\"1\"/>\n",
       "<polyline clip-path=\"url(#clip402)\" style=\"stroke:#000000; stroke-linecap:round; stroke-linejoin:round; stroke-width:4; stroke-opacity:1; fill:none\" points=\"753.329,919.256 753.329,1055.89 828.492,1055.89 828.492,919.256 753.329,919.256 \"/>\n",
       "<path clip-path=\"url(#clip402)\" d=\"M847.283 1005.61 L847.283 1180.51 L922.445 1180.51 L922.445 1005.61 L847.283 1005.61 L847.283 1005.61  Z\" fill=\"#ed5d92\" fill-rule=\"evenodd\" fill-opacity=\"1\"/>\n",
       "<polyline clip-path=\"url(#clip402)\" style=\"stroke:#000000; stroke-linecap:round; stroke-linejoin:round; stroke-width:4; stroke-opacity:1; fill:none\" points=\"847.283,1005.61 847.283,1180.51 922.445,1180.51 922.445,1005.61 847.283,1005.61 \"/>\n",
       "<path clip-path=\"url(#clip402)\" d=\"M941.236 907.232 L941.236 957.515 L1016.4 957.515 L1016.4 907.232 L941.236 907.232 L941.236 907.232  Z\" fill=\"#ed5d92\" fill-rule=\"evenodd\" fill-opacity=\"1\"/>\n",
       "<polyline clip-path=\"url(#clip402)\" style=\"stroke:#000000; stroke-linecap:round; stroke-linejoin:round; stroke-width:4; stroke-opacity:1; fill:none\" points=\"941.236,907.232 941.236,957.515 1016.4,957.515 1016.4,907.232 941.236,907.232 \"/>\n",
       "<path clip-path=\"url(#clip402)\" d=\"M1035.19 913.791 L1035.19 1126.95 L1110.35 1126.95 L1110.35 913.791 L1035.19 913.791 L1035.19 913.791  Z\" fill=\"#ed5d92\" fill-rule=\"evenodd\" fill-opacity=\"1\"/>\n",
       "<polyline clip-path=\"url(#clip402)\" style=\"stroke:#000000; stroke-linecap:round; stroke-linejoin:round; stroke-width:4; stroke-opacity:1; fill:none\" points=\"1035.19,913.791 1035.19,1126.95 1110.35,1126.95 1110.35,913.791 1035.19,913.791 \"/>\n",
       "<path clip-path=\"url(#clip402)\" d=\"M1129.14 823.062 L1129.14 1037.31 L1204.3 1037.31 L1204.3 823.062 L1129.14 823.062 L1129.14 823.062  Z\" fill=\"#ed5d92\" fill-rule=\"evenodd\" fill-opacity=\"1\"/>\n",
       "<polyline clip-path=\"url(#clip402)\" style=\"stroke:#000000; stroke-linecap:round; stroke-linejoin:round; stroke-width:4; stroke-opacity:1; fill:none\" points=\"1129.14,823.062 1129.14,1037.31 1204.3,1037.31 1204.3,823.062 1129.14,823.062 \"/>\n",
       "<path clip-path=\"url(#clip402)\" d=\"M1223.1 708.286 L1223.1 720.31 L1298.26 720.31 L1298.26 708.286 L1223.1 708.286 L1223.1 708.286  Z\" fill=\"#ed5d92\" fill-rule=\"evenodd\" fill-opacity=\"1\"/>\n",
       "<polyline clip-path=\"url(#clip402)\" style=\"stroke:#000000; stroke-linecap:round; stroke-linejoin:round; stroke-width:4; stroke-opacity:1; fill:none\" points=\"1223.1,708.286 1223.1,720.31 1298.26,720.31 1298.26,708.286 1223.1,708.286 \"/>\n",
       "<path clip-path=\"url(#clip402)\" d=\"M1317.05 940.025 L1317.05 1008.89 L1392.21 1008.89 L1392.21 940.025 L1317.05 940.025 L1317.05 940.025  Z\" fill=\"#ed5d92\" fill-rule=\"evenodd\" fill-opacity=\"1\"/>\n",
       "<polyline clip-path=\"url(#clip402)\" style=\"stroke:#000000; stroke-linecap:round; stroke-linejoin:round; stroke-width:4; stroke-opacity:1; fill:none\" points=\"1317.05,940.025 1317.05,1008.89 1392.21,1008.89 1392.21,940.025 1317.05,940.025 \"/>\n",
       "<path clip-path=\"url(#clip402)\" d=\"M1411 1423.18 L1411 1423.18 L1486.16 1423.18 L1486.16 1423.18 L1411 1423.18 L1411 1423.18  Z\" fill=\"#ed5d92\" fill-rule=\"evenodd\" fill-opacity=\"1\"/>\n",
       "<polyline clip-path=\"url(#clip402)\" style=\"stroke:#000000; stroke-linecap:round; stroke-linejoin:round; stroke-width:4; stroke-opacity:1; fill:none\" points=\"1411,1423.18 1411,1423.18 1486.16,1423.18 1411,1423.18 \"/>\n",
       "<path clip-path=\"url(#clip402)\" d=\"M1504.96 752.01 L1504.96 829.621 L1580.12 829.621 L1580.12 752.01 L1504.96 752.01 L1504.96 752.01  Z\" fill=\"#ed5d92\" fill-rule=\"evenodd\" fill-opacity=\"1\"/>\n",
       "<polyline clip-path=\"url(#clip402)\" style=\"stroke:#000000; stroke-linecap:round; stroke-linejoin:round; stroke-width:4; stroke-opacity:1; fill:none\" points=\"1504.96,752.01 1504.96,829.621 1580.12,829.621 1580.12,752.01 1504.96,752.01 \"/>\n",
       "<path clip-path=\"url(#clip402)\" d=\"M1598.91 630.675 L1598.91 828.528 L1674.07 828.528 L1674.07 630.675 L1598.91 630.675 L1598.91 630.675  Z\" fill=\"#ed5d92\" fill-rule=\"evenodd\" fill-opacity=\"1\"/>\n",
       "<polyline clip-path=\"url(#clip402)\" style=\"stroke:#000000; stroke-linecap:round; stroke-linejoin:round; stroke-width:4; stroke-opacity:1; fill:none\" points=\"1598.91,630.675 1598.91,828.528 1674.07,828.528 1674.07,630.675 1598.91,630.675 \"/>\n",
       "<path clip-path=\"url(#clip402)\" d=\"M1692.86 909.418 L1692.86 1050.43 L1768.02 1050.43 L1768.02 909.418 L1692.86 909.418 L1692.86 909.418  Z\" fill=\"#ed5d92\" fill-rule=\"evenodd\" fill-opacity=\"1\"/>\n",
       "<polyline clip-path=\"url(#clip402)\" style=\"stroke:#000000; stroke-linecap:round; stroke-linejoin:round; stroke-width:4; stroke-opacity:1; fill:none\" points=\"1692.86,909.418 1692.86,1050.43 1768.02,1050.43 1768.02,909.418 1692.86,909.418 \"/>\n",
       "<path clip-path=\"url(#clip402)\" d=\"M1786.82 923.629 L1786.82 1095.25 L1861.98 1095.25 L1861.98 923.629 L1786.82 923.629 L1786.82 923.629  Z\" fill=\"#ed5d92\" fill-rule=\"evenodd\" fill-opacity=\"1\"/>\n",
       "<polyline clip-path=\"url(#clip402)\" style=\"stroke:#000000; stroke-linecap:round; stroke-linejoin:round; stroke-width:4; stroke-opacity:1; fill:none\" points=\"1786.82,923.629 1786.82,1095.25 1861.98,1095.25 1861.98,923.629 1786.82,923.629 \"/>\n",
       "<path clip-path=\"url(#clip402)\" d=\"M1880.77 862.414 L1880.77 1073.38 L1955.93 1073.38 L1955.93 862.414 L1880.77 862.414 L1880.77 862.414  Z\" fill=\"#ed5d92\" fill-rule=\"evenodd\" fill-opacity=\"1\"/>\n",
       "<polyline clip-path=\"url(#clip402)\" style=\"stroke:#000000; stroke-linecap:round; stroke-linejoin:round; stroke-width:4; stroke-opacity:1; fill:none\" points=\"1880.77,862.414 1880.77,1073.38 1955.93,1073.38 1955.93,862.414 1880.77,862.414 \"/>\n",
       "<path clip-path=\"url(#clip402)\" d=\"M1974.72 980.47 L1974.72 1063.55 L2049.88 1063.55 L2049.88 980.47 L1974.72 980.47 L1974.72 980.47  Z\" fill=\"#ed5d92\" fill-rule=\"evenodd\" fill-opacity=\"1\"/>\n",
       "<polyline clip-path=\"url(#clip402)\" style=\"stroke:#000000; stroke-linecap:round; stroke-linejoin:round; stroke-width:4; stroke-opacity:1; fill:none\" points=\"1974.72,980.47 1974.72,1063.55 2049.88,1063.55 2049.88,980.47 1974.72,980.47 \"/>\n",
       "<path clip-path=\"url(#clip402)\" d=\"M2068.68 1423.18 L2068.68 1423.18 L2143.84 1423.18 L2143.84 1423.18 L2068.68 1423.18 L2068.68 1423.18  Z\" fill=\"#ed5d92\" fill-rule=\"evenodd\" fill-opacity=\"1\"/>\n",
       "<polyline clip-path=\"url(#clip402)\" style=\"stroke:#000000; stroke-linecap:round; stroke-linejoin:round; stroke-width:4; stroke-opacity:1; fill:none\" points=\"2068.68,1423.18 2068.68,1423.18 2143.84,1423.18 2068.68,1423.18 \"/>\n",
       "<path clip-path=\"url(#clip402)\" d=\"M2162.63 1058.08 L2162.63 1130.23 L2237.79 1130.23 L2237.79 1058.08 L2162.63 1058.08 L2162.63 1058.08  Z\" fill=\"#ed5d92\" fill-rule=\"evenodd\" fill-opacity=\"1\"/>\n",
       "<polyline clip-path=\"url(#clip402)\" style=\"stroke:#000000; stroke-linecap:round; stroke-linejoin:round; stroke-width:4; stroke-opacity:1; fill:none\" points=\"2162.63,1058.08 2162.63,1130.23 2237.79,1130.23 2237.79,1058.08 2162.63,1058.08 \"/>\n",
       "<circle clip-path=\"url(#clip402)\" style=\"fill:#ed5d92; stroke:none; fill-opacity:0\" cx=\"415.098\" cy=\"835.087\" r=\"2\"/>\n",
       "<circle clip-path=\"url(#clip402)\" style=\"fill:#ed5d92; stroke:none; fill-opacity:0\" cx=\"509.051\" cy=\"906.139\" r=\"2\"/>\n",
       "<circle clip-path=\"url(#clip402)\" style=\"fill:#ed5d92; stroke:none; fill-opacity:0\" cx=\"603.004\" cy=\"968.446\" r=\"2\"/>\n",
       "<circle clip-path=\"url(#clip402)\" style=\"fill:#ed5d92; stroke:none; fill-opacity:0\" cx=\"696.957\" cy=\"1072.29\" r=\"2\"/>\n",
       "<circle clip-path=\"url(#clip402)\" style=\"fill:#ed5d92; stroke:none; fill-opacity:0\" cx=\"790.911\" cy=\"919.256\" r=\"2\"/>\n",
       "<circle clip-path=\"url(#clip402)\" style=\"fill:#ed5d92; stroke:none; fill-opacity:0\" cx=\"884.864\" cy=\"1005.61\" r=\"2\"/>\n",
       "<circle clip-path=\"url(#clip402)\" style=\"fill:#ed5d92; stroke:none; fill-opacity:0\" cx=\"978.817\" cy=\"907.232\" r=\"2\"/>\n",
       "<circle clip-path=\"url(#clip402)\" style=\"fill:#ed5d92; stroke:none; fill-opacity:0\" cx=\"1072.77\" cy=\"913.791\" r=\"2\"/>\n",
       "<circle clip-path=\"url(#clip402)\" style=\"fill:#ed5d92; stroke:none; fill-opacity:0\" cx=\"1166.72\" cy=\"823.062\" r=\"2\"/>\n",
       "<circle clip-path=\"url(#clip402)\" style=\"fill:#ed5d92; stroke:none; fill-opacity:0\" cx=\"1260.68\" cy=\"708.286\" r=\"2\"/>\n",
       "<circle clip-path=\"url(#clip402)\" style=\"fill:#ed5d92; stroke:none; fill-opacity:0\" cx=\"1354.63\" cy=\"940.025\" r=\"2\"/>\n",
       "<circle clip-path=\"url(#clip402)\" style=\"fill:#ed5d92; stroke:none; fill-opacity:0\" cx=\"1448.58\" cy=\"1423.18\" r=\"2\"/>\n",
       "<circle clip-path=\"url(#clip402)\" style=\"fill:#ed5d92; stroke:none; fill-opacity:0\" cx=\"1542.54\" cy=\"752.01\" r=\"2\"/>\n",
       "<circle clip-path=\"url(#clip402)\" style=\"fill:#ed5d92; stroke:none; fill-opacity:0\" cx=\"1636.49\" cy=\"630.675\" r=\"2\"/>\n",
       "<circle clip-path=\"url(#clip402)\" style=\"fill:#ed5d92; stroke:none; fill-opacity:0\" cx=\"1730.44\" cy=\"909.418\" r=\"2\"/>\n",
       "<circle clip-path=\"url(#clip402)\" style=\"fill:#ed5d92; stroke:none; fill-opacity:0\" cx=\"1824.4\" cy=\"923.629\" r=\"2\"/>\n",
       "<circle clip-path=\"url(#clip402)\" style=\"fill:#ed5d92; stroke:none; fill-opacity:0\" cx=\"1918.35\" cy=\"862.414\" r=\"2\"/>\n",
       "<circle clip-path=\"url(#clip402)\" style=\"fill:#ed5d92; stroke:none; fill-opacity:0\" cx=\"2012.3\" cy=\"980.47\" r=\"2\"/>\n",
       "<circle clip-path=\"url(#clip402)\" style=\"fill:#ed5d92; stroke:none; fill-opacity:0\" cx=\"2106.26\" cy=\"1423.18\" r=\"2\"/>\n",
       "<circle clip-path=\"url(#clip402)\" style=\"fill:#ed5d92; stroke:none; fill-opacity:0\" cx=\"2200.21\" cy=\"1058.08\" r=\"2\"/>\n",
       "<path clip-path=\"url(#clip402)\" d=\"M377.516 884.277 L377.516 909.418 L452.679 909.418 L452.679 884.277 L377.516 884.277 L377.516 884.277  Z\" fill=\"#c68125\" fill-rule=\"evenodd\" fill-opacity=\"1\"/>\n",
       "<polyline clip-path=\"url(#clip402)\" style=\"stroke:#000000; stroke-linecap:round; stroke-linejoin:round; stroke-width:4; stroke-opacity:1; fill:none\" points=\"377.516,884.277 377.516,909.418 452.679,909.418 452.679,884.277 377.516,884.277 \"/>\n",
       "<path clip-path=\"url(#clip402)\" d=\"M471.469 1016.54 L471.469 1151 L546.632 1151 L546.632 1016.54 L471.469 1016.54 L471.469 1016.54  Z\" fill=\"#c68125\" fill-rule=\"evenodd\" fill-opacity=\"1\"/>\n",
       "<polyline clip-path=\"url(#clip402)\" style=\"stroke:#000000; stroke-linecap:round; stroke-linejoin:round; stroke-width:4; stroke-opacity:1; fill:none\" points=\"471.469,1016.54 471.469,1151 546.632,1151 546.632,1016.54 471.469,1016.54 \"/>\n",
       "<path clip-path=\"url(#clip402)\" d=\"M565.423 1161.93 L565.423 1262.49 L640.585 1262.49 L640.585 1161.93 L565.423 1161.93 L565.423 1161.93  Z\" fill=\"#c68125\" fill-rule=\"evenodd\" fill-opacity=\"1\"/>\n",
       "<polyline clip-path=\"url(#clip402)\" style=\"stroke:#000000; stroke-linecap:round; stroke-linejoin:round; stroke-width:4; stroke-opacity:1; fill:none\" points=\"565.423,1161.93 565.423,1262.49 640.585,1262.49 640.585,1161.93 565.423,1161.93 \"/>\n",
       "<path clip-path=\"url(#clip402)\" d=\"M659.376 1225.33 L659.376 1320.43 L734.539 1320.43 L734.539 1225.33 L659.376 1225.33 L659.376 1225.33  Z\" fill=\"#c68125\" fill-rule=\"evenodd\" fill-opacity=\"1\"/>\n",
       "<polyline clip-path=\"url(#clip402)\" style=\"stroke:#000000; stroke-linecap:round; stroke-linejoin:round; stroke-width:4; stroke-opacity:1; fill:none\" points=\"659.376,1225.33 659.376,1320.43 734.539,1320.43 734.539,1225.33 659.376,1225.33 \"/>\n",
       "<path clip-path=\"url(#clip402)\" d=\"M753.329 1055.89 L753.329 1132.41 L828.492 1132.41 L828.492 1055.89 L753.329 1055.89 L753.329 1055.89  Z\" fill=\"#c68125\" fill-rule=\"evenodd\" fill-opacity=\"1\"/>\n",
       "<polyline clip-path=\"url(#clip402)\" style=\"stroke:#000000; stroke-linecap:round; stroke-linejoin:round; stroke-width:4; stroke-opacity:1; fill:none\" points=\"753.329,1055.89 753.329,1132.41 828.492,1132.41 828.492,1055.89 753.329,1055.89 \"/>\n",
       "<path clip-path=\"url(#clip402)\" d=\"M847.283 1180.51 L847.283 1299.66 L922.445 1299.66 L922.445 1180.51 L847.283 1180.51 L847.283 1180.51  Z\" fill=\"#c68125\" fill-rule=\"evenodd\" fill-opacity=\"1\"/>\n",
       "<polyline clip-path=\"url(#clip402)\" style=\"stroke:#000000; stroke-linecap:round; stroke-linejoin:round; stroke-width:4; stroke-opacity:1; fill:none\" points=\"847.283,1180.51 847.283,1299.66 922.445,1299.66 922.445,1180.51 847.283,1180.51 \"/>\n",
       "<path clip-path=\"url(#clip402)\" d=\"M941.236 957.515 L941.236 1114.92 L1016.4 1114.92 L1016.4 957.515 L941.236 957.515 L941.236 957.515  Z\" fill=\"#c68125\" fill-rule=\"evenodd\" fill-opacity=\"1\"/>\n",
       "<polyline clip-path=\"url(#clip402)\" style=\"stroke:#000000; stroke-linecap:round; stroke-linejoin:round; stroke-width:4; stroke-opacity:1; fill:none\" points=\"941.236,957.515 941.236,1114.92 1016.4,1114.92 1016.4,957.515 941.236,957.515 \"/>\n",
       "<path clip-path=\"url(#clip402)\" d=\"M1035.19 1126.95 L1035.19 1255.93 L1110.35 1255.93 L1110.35 1126.95 L1035.19 1126.95 L1035.19 1126.95  Z\" fill=\"#c68125\" fill-rule=\"evenodd\" fill-opacity=\"1\"/>\n",
       "<polyline clip-path=\"url(#clip402)\" style=\"stroke:#000000; stroke-linecap:round; stroke-linejoin:round; stroke-width:4; stroke-opacity:1; fill:none\" points=\"1035.19,1126.95 1035.19,1255.93 1110.35,1255.93 1110.35,1126.95 1035.19,1126.95 \"/>\n",
       "<path clip-path=\"url(#clip402)\" d=\"M1129.14 1037.31 L1129.14 1142.25 L1204.3 1142.25 L1204.3 1037.31 L1129.14 1037.31 L1129.14 1037.31  Z\" fill=\"#c68125\" fill-rule=\"evenodd\" fill-opacity=\"1\"/>\n",
       "<polyline clip-path=\"url(#clip402)\" style=\"stroke:#000000; stroke-linecap:round; stroke-linejoin:round; stroke-width:4; stroke-opacity:1; fill:none\" points=\"1129.14,1037.31 1129.14,1142.25 1204.3,1142.25 1204.3,1037.31 1129.14,1037.31 \"/>\n",
       "<path clip-path=\"url(#clip402)\" d=\"M1223.1 720.31 L1223.1 761.848 L1298.26 761.848 L1298.26 720.31 L1223.1 720.31 L1223.1 720.31  Z\" fill=\"#c68125\" fill-rule=\"evenodd\" fill-opacity=\"1\"/>\n",
       "<polyline clip-path=\"url(#clip402)\" style=\"stroke:#000000; stroke-linecap:round; stroke-linejoin:round; stroke-width:4; stroke-opacity:1; fill:none\" points=\"1223.1,720.31 1223.1,761.848 1298.26,761.848 1298.26,720.31 1223.1,720.31 \"/>\n",
       "<path clip-path=\"url(#clip402)\" d=\"M1317.05 1008.89 L1317.05 1099.62 L1392.21 1099.62 L1392.21 1008.89 L1317.05 1008.89 L1317.05 1008.89  Z\" fill=\"#c68125\" fill-rule=\"evenodd\" fill-opacity=\"1\"/>\n",
       "<polyline clip-path=\"url(#clip402)\" style=\"stroke:#000000; stroke-linecap:round; stroke-linejoin:round; stroke-width:4; stroke-opacity:1; fill:none\" points=\"1317.05,1008.89 1317.05,1099.62 1392.21,1099.62 1392.21,1008.89 1317.05,1008.89 \"/>\n",
       "<path clip-path=\"url(#clip402)\" d=\"M1411 1423.18 L1411 1423.18 L1486.16 1423.18 L1486.16 1423.18 L1411 1423.18 L1411 1423.18  Z\" fill=\"#c68125\" fill-rule=\"evenodd\" fill-opacity=\"1\"/>\n",
       "<polyline clip-path=\"url(#clip402)\" style=\"stroke:#000000; stroke-linecap:round; stroke-linejoin:round; stroke-width:4; stroke-opacity:1; fill:none\" points=\"1411,1423.18 1411,1423.18 1486.16,1423.18 1411,1423.18 \"/>\n",
       "<path clip-path=\"url(#clip402)\" d=\"M1504.96 829.621 L1504.96 980.47 L1580.12 980.47 L1580.12 829.621 L1504.96 829.621 L1504.96 829.621  Z\" fill=\"#c68125\" fill-rule=\"evenodd\" fill-opacity=\"1\"/>\n",
       "<polyline clip-path=\"url(#clip402)\" style=\"stroke:#000000; stroke-linecap:round; stroke-linejoin:round; stroke-width:4; stroke-opacity:1; fill:none\" points=\"1504.96,829.621 1504.96,980.47 1580.12,980.47 1580.12,829.621 1504.96,829.621 \"/>\n",
       "<path clip-path=\"url(#clip402)\" d=\"M1598.91 828.528 L1598.91 958.608 L1674.07 958.608 L1674.07 828.528 L1598.91 828.528 L1598.91 828.528  Z\" fill=\"#c68125\" fill-rule=\"evenodd\" fill-opacity=\"1\"/>\n",
       "<polyline clip-path=\"url(#clip402)\" style=\"stroke:#000000; stroke-linecap:round; stroke-linejoin:round; stroke-width:4; stroke-opacity:1; fill:none\" points=\"1598.91,828.528 1598.91,958.608 1674.07,958.608 1674.07,828.528 1598.91,828.528 \"/>\n",
       "<path clip-path=\"url(#clip402)\" d=\"M1692.86 1050.43 L1692.86 1078.85 L1768.02 1078.85 L1768.02 1050.43 L1692.86 1050.43 L1692.86 1050.43  Z\" fill=\"#c68125\" fill-rule=\"evenodd\" fill-opacity=\"1\"/>\n",
       "<polyline clip-path=\"url(#clip402)\" style=\"stroke:#000000; stroke-linecap:round; stroke-linejoin:round; stroke-width:4; stroke-opacity:1; fill:none\" points=\"1692.86,1050.43 1692.86,1078.85 1768.02,1078.85 1768.02,1050.43 1692.86,1050.43 \"/>\n",
       "<path clip-path=\"url(#clip402)\" d=\"M1786.82 1095.25 L1786.82 1216.58 L1861.98 1216.58 L1861.98 1095.25 L1786.82 1095.25 L1786.82 1095.25  Z\" fill=\"#c68125\" fill-rule=\"evenodd\" fill-opacity=\"1\"/>\n",
       "<polyline clip-path=\"url(#clip402)\" style=\"stroke:#000000; stroke-linecap:round; stroke-linejoin:round; stroke-width:4; stroke-opacity:1; fill:none\" points=\"1786.82,1095.25 1786.82,1216.58 1861.98,1216.58 1861.98,1095.25 1786.82,1095.25 \"/>\n",
       "<path clip-path=\"url(#clip402)\" d=\"M1880.77 1073.38 L1880.77 1218.77 L1955.93 1218.77 L1955.93 1073.38 L1880.77 1073.38 L1880.77 1073.38  Z\" fill=\"#c68125\" fill-rule=\"evenodd\" fill-opacity=\"1\"/>\n",
       "<polyline clip-path=\"url(#clip402)\" style=\"stroke:#000000; stroke-linecap:round; stroke-linejoin:round; stroke-width:4; stroke-opacity:1; fill:none\" points=\"1880.77,1073.38 1880.77,1218.77 1955.93,1218.77 1955.93,1073.38 1880.77,1073.38 \"/>\n",
       "<path clip-path=\"url(#clip402)\" d=\"M1974.72 1063.55 L1974.72 1245 L2049.88 1245 L2049.88 1063.55 L1974.72 1063.55 L1974.72 1063.55  Z\" fill=\"#c68125\" fill-rule=\"evenodd\" fill-opacity=\"1\"/>\n",
       "<polyline clip-path=\"url(#clip402)\" style=\"stroke:#000000; stroke-linecap:round; stroke-linejoin:round; stroke-width:4; stroke-opacity:1; fill:none\" points=\"1974.72,1063.55 1974.72,1245 2049.88,1245 2049.88,1063.55 1974.72,1063.55 \"/>\n",
       "<path clip-path=\"url(#clip402)\" d=\"M2068.68 1423.18 L2068.68 1423.18 L2143.84 1423.18 L2143.84 1423.18 L2068.68 1423.18 L2068.68 1423.18  Z\" fill=\"#c68125\" fill-rule=\"evenodd\" fill-opacity=\"1\"/>\n",
       "<polyline clip-path=\"url(#clip402)\" style=\"stroke:#000000; stroke-linecap:round; stroke-linejoin:round; stroke-width:4; stroke-opacity:1; fill:none\" points=\"2068.68,1423.18 2068.68,1423.18 2143.84,1423.18 2068.68,1423.18 \"/>\n",
       "<path clip-path=\"url(#clip402)\" d=\"M2162.63 1130.23 L2162.63 1231.89 L2237.79 1231.89 L2237.79 1130.23 L2162.63 1130.23 L2162.63 1130.23  Z\" fill=\"#c68125\" fill-rule=\"evenodd\" fill-opacity=\"1\"/>\n",
       "<polyline clip-path=\"url(#clip402)\" style=\"stroke:#000000; stroke-linecap:round; stroke-linejoin:round; stroke-width:4; stroke-opacity:1; fill:none\" points=\"2162.63,1130.23 2162.63,1231.89 2237.79,1231.89 2237.79,1130.23 2162.63,1130.23 \"/>\n",
       "<circle clip-path=\"url(#clip402)\" style=\"fill:#c68125; stroke:none; fill-opacity:0\" cx=\"415.098\" cy=\"884.277\" r=\"2\"/>\n",
       "<circle clip-path=\"url(#clip402)\" style=\"fill:#c68125; stroke:none; fill-opacity:0\" cx=\"509.051\" cy=\"1016.54\" r=\"2\"/>\n",
       "<circle clip-path=\"url(#clip402)\" style=\"fill:#c68125; stroke:none; fill-opacity:0\" cx=\"603.004\" cy=\"1161.93\" r=\"2\"/>\n",
       "<circle clip-path=\"url(#clip402)\" style=\"fill:#c68125; stroke:none; fill-opacity:0\" cx=\"696.957\" cy=\"1225.33\" r=\"2\"/>\n",
       "<circle clip-path=\"url(#clip402)\" style=\"fill:#c68125; stroke:none; fill-opacity:0\" cx=\"790.911\" cy=\"1055.89\" r=\"2\"/>\n",
       "<circle clip-path=\"url(#clip402)\" style=\"fill:#c68125; stroke:none; fill-opacity:0\" cx=\"884.864\" cy=\"1180.51\" r=\"2\"/>\n",
       "<circle clip-path=\"url(#clip402)\" style=\"fill:#c68125; stroke:none; fill-opacity:0\" cx=\"978.817\" cy=\"957.515\" r=\"2\"/>\n",
       "<circle clip-path=\"url(#clip402)\" style=\"fill:#c68125; stroke:none; fill-opacity:0\" cx=\"1072.77\" cy=\"1126.95\" r=\"2\"/>\n",
       "<circle clip-path=\"url(#clip402)\" style=\"fill:#c68125; stroke:none; fill-opacity:0\" cx=\"1166.72\" cy=\"1037.31\" r=\"2\"/>\n",
       "<circle clip-path=\"url(#clip402)\" style=\"fill:#c68125; stroke:none; fill-opacity:0\" cx=\"1260.68\" cy=\"720.31\" r=\"2\"/>\n",
       "<circle clip-path=\"url(#clip402)\" style=\"fill:#c68125; stroke:none; fill-opacity:0\" cx=\"1354.63\" cy=\"1008.89\" r=\"2\"/>\n",
       "<circle clip-path=\"url(#clip402)\" style=\"fill:#c68125; stroke:none; fill-opacity:0\" cx=\"1448.58\" cy=\"1423.18\" r=\"2\"/>\n",
       "<circle clip-path=\"url(#clip402)\" style=\"fill:#c68125; stroke:none; fill-opacity:0\" cx=\"1542.54\" cy=\"829.621\" r=\"2\"/>\n",
       "<circle clip-path=\"url(#clip402)\" style=\"fill:#c68125; stroke:none; fill-opacity:0\" cx=\"1636.49\" cy=\"828.528\" r=\"2\"/>\n",
       "<circle clip-path=\"url(#clip402)\" style=\"fill:#c68125; stroke:none; fill-opacity:0\" cx=\"1730.44\" cy=\"1050.43\" r=\"2\"/>\n",
       "<circle clip-path=\"url(#clip402)\" style=\"fill:#c68125; stroke:none; fill-opacity:0\" cx=\"1824.4\" cy=\"1095.25\" r=\"2\"/>\n",
       "<circle clip-path=\"url(#clip402)\" style=\"fill:#c68125; stroke:none; fill-opacity:0\" cx=\"1918.35\" cy=\"1073.38\" r=\"2\"/>\n",
       "<circle clip-path=\"url(#clip402)\" style=\"fill:#c68125; stroke:none; fill-opacity:0\" cx=\"2012.3\" cy=\"1063.55\" r=\"2\"/>\n",
       "<circle clip-path=\"url(#clip402)\" style=\"fill:#c68125; stroke:none; fill-opacity:0\" cx=\"2106.26\" cy=\"1423.18\" r=\"2\"/>\n",
       "<circle clip-path=\"url(#clip402)\" style=\"fill:#c68125; stroke:none; fill-opacity:0\" cx=\"2200.21\" cy=\"1130.23\" r=\"2\"/>\n",
       "<path clip-path=\"url(#clip402)\" d=\"M377.516 909.418 L377.516 1041.68 L452.679 1041.68 L452.679 909.418 L377.516 909.418 L377.516 909.418  Z\" fill=\"#00a98d\" fill-rule=\"evenodd\" fill-opacity=\"1\"/>\n",
       "<polyline clip-path=\"url(#clip402)\" style=\"stroke:#000000; stroke-linecap:round; stroke-linejoin:round; stroke-width:4; stroke-opacity:1; fill:none\" points=\"377.516,909.418 377.516,1041.68 452.679,1041.68 452.679,909.418 377.516,909.418 \"/>\n",
       "<path clip-path=\"url(#clip402)\" d=\"M471.469 1151 L471.469 1330.27 L546.632 1330.27 L546.632 1151 L471.469 1151 L471.469 1151  Z\" fill=\"#00a98d\" fill-rule=\"evenodd\" fill-opacity=\"1\"/>\n",
       "<polyline clip-path=\"url(#clip402)\" style=\"stroke:#000000; stroke-linecap:round; stroke-linejoin:round; stroke-width:4; stroke-opacity:1; fill:none\" points=\"471.469,1151 471.469,1330.27 546.632,1330.27 546.632,1151 471.469,1151 \"/>\n",
       "<path clip-path=\"url(#clip402)\" d=\"M565.423 1262.49 L565.423 1402.41 L640.585 1402.41 L640.585 1262.49 L565.423 1262.49 L565.423 1262.49  Z\" fill=\"#00a98d\" fill-rule=\"evenodd\" fill-opacity=\"1\"/>\n",
       "<polyline clip-path=\"url(#clip402)\" style=\"stroke:#000000; stroke-linecap:round; stroke-linejoin:round; stroke-width:4; stroke-opacity:1; fill:none\" points=\"565.423,1262.49 565.423,1402.41 640.585,1402.41 640.585,1262.49 565.423,1262.49 \"/>\n",
       "<path clip-path=\"url(#clip402)\" d=\"M659.376 1320.43 L659.376 1423.18 L734.539 1423.18 L734.539 1320.43 L659.376 1320.43 L659.376 1320.43  Z\" fill=\"#00a98d\" fill-rule=\"evenodd\" fill-opacity=\"1\"/>\n",
       "<polyline clip-path=\"url(#clip402)\" style=\"stroke:#000000; stroke-linecap:round; stroke-linejoin:round; stroke-width:4; stroke-opacity:1; fill:none\" points=\"659.376,1320.43 659.376,1423.18 734.539,1423.18 734.539,1320.43 659.376,1320.43 \"/>\n",
       "<path clip-path=\"url(#clip402)\" d=\"M753.329 1132.41 L753.329 1298.57 L828.492 1298.57 L828.492 1132.41 L753.329 1132.41 L753.329 1132.41  Z\" fill=\"#00a98d\" fill-rule=\"evenodd\" fill-opacity=\"1\"/>\n",
       "<polyline clip-path=\"url(#clip402)\" style=\"stroke:#000000; stroke-linecap:round; stroke-linejoin:round; stroke-width:4; stroke-opacity:1; fill:none\" points=\"753.329,1132.41 753.329,1298.57 828.492,1298.57 828.492,1132.41 753.329,1132.41 \"/>\n",
       "<path clip-path=\"url(#clip402)\" d=\"M847.283 1299.66 L847.283 1423.18 L922.445 1423.18 L922.445 1299.66 L847.283 1299.66 L847.283 1299.66  Z\" fill=\"#00a98d\" fill-rule=\"evenodd\" fill-opacity=\"1\"/>\n",
       "<polyline clip-path=\"url(#clip402)\" style=\"stroke:#000000; stroke-linecap:round; stroke-linejoin:round; stroke-width:4; stroke-opacity:1; fill:none\" points=\"847.283,1299.66 847.283,1423.18 922.445,1423.18 922.445,1299.66 847.283,1299.66 \"/>\n",
       "<path clip-path=\"url(#clip402)\" d=\"M941.236 1114.92 L941.236 1253.75 L1016.4 1253.75 L1016.4 1114.92 L941.236 1114.92 L941.236 1114.92  Z\" fill=\"#00a98d\" fill-rule=\"evenodd\" fill-opacity=\"1\"/>\n",
       "<polyline clip-path=\"url(#clip402)\" style=\"stroke:#000000; stroke-linecap:round; stroke-linejoin:round; stroke-width:4; stroke-opacity:1; fill:none\" points=\"941.236,1114.92 941.236,1253.75 1016.4,1253.75 1016.4,1114.92 941.236,1114.92 \"/>\n",
       "<path clip-path=\"url(#clip402)\" d=\"M1035.19 1255.93 L1035.19 1423.18 L1110.35 1423.18 L1110.35 1255.93 L1035.19 1255.93 L1035.19 1255.93  Z\" fill=\"#00a98d\" fill-rule=\"evenodd\" fill-opacity=\"1\"/>\n",
       "<polyline clip-path=\"url(#clip402)\" style=\"stroke:#000000; stroke-linecap:round; stroke-linejoin:round; stroke-width:4; stroke-opacity:1; fill:none\" points=\"1035.19,1255.93 1035.19,1423.18 1110.35,1423.18 1110.35,1255.93 1035.19,1255.93 \"/>\n",
       "<path clip-path=\"url(#clip402)\" d=\"M1129.14 1142.25 L1129.14 1251.56 L1204.3 1251.56 L1204.3 1142.25 L1129.14 1142.25 L1129.14 1142.25  Z\" fill=\"#00a98d\" fill-rule=\"evenodd\" fill-opacity=\"1\"/>\n",
       "<polyline clip-path=\"url(#clip402)\" style=\"stroke:#000000; stroke-linecap:round; stroke-linejoin:round; stroke-width:4; stroke-opacity:1; fill:none\" points=\"1129.14,1142.25 1129.14,1251.56 1204.3,1251.56 1204.3,1142.25 1129.14,1142.25 \"/>\n",
       "<path clip-path=\"url(#clip402)\" d=\"M1223.1 761.848 L1223.1 909.418 L1298.26 909.418 L1298.26 761.848 L1223.1 761.848 L1223.1 761.848  Z\" fill=\"#00a98d\" fill-rule=\"evenodd\" fill-opacity=\"1\"/>\n",
       "<polyline clip-path=\"url(#clip402)\" style=\"stroke:#000000; stroke-linecap:round; stroke-linejoin:round; stroke-width:4; stroke-opacity:1; fill:none\" points=\"1223.1,761.848 1223.1,909.418 1298.26,909.418 1298.26,761.848 1223.1,761.848 \"/>\n",
       "<path clip-path=\"url(#clip402)\" d=\"M1317.05 1099.62 L1317.05 1226.42 L1392.21 1226.42 L1392.21 1099.62 L1317.05 1099.62 L1317.05 1099.62  Z\" fill=\"#00a98d\" fill-rule=\"evenodd\" fill-opacity=\"1\"/>\n",
       "<polyline clip-path=\"url(#clip402)\" style=\"stroke:#000000; stroke-linecap:round; stroke-linejoin:round; stroke-width:4; stroke-opacity:1; fill:none\" points=\"1317.05,1099.62 1317.05,1226.42 1392.21,1226.42 1392.21,1099.62 1317.05,1099.62 \"/>\n",
       "<path clip-path=\"url(#clip402)\" d=\"M1411 1423.18 L1411 1423.18 L1486.16 1423.18 L1486.16 1423.18 L1411 1423.18 L1411 1423.18  Z\" fill=\"#00a98d\" fill-rule=\"evenodd\" fill-opacity=\"1\"/>\n",
       "<polyline clip-path=\"url(#clip402)\" style=\"stroke:#000000; stroke-linecap:round; stroke-linejoin:round; stroke-width:4; stroke-opacity:1; fill:none\" points=\"1411,1423.18 1411,1423.18 1486.16,1423.18 1411,1423.18 \"/>\n",
       "<path clip-path=\"url(#clip402)\" d=\"M1504.96 980.47 L1504.96 1062.45 L1580.12 1062.45 L1580.12 980.47 L1504.96 980.47 L1504.96 980.47  Z\" fill=\"#00a98d\" fill-rule=\"evenodd\" fill-opacity=\"1\"/>\n",
       "<polyline clip-path=\"url(#clip402)\" style=\"stroke:#000000; stroke-linecap:round; stroke-linejoin:round; stroke-width:4; stroke-opacity:1; fill:none\" points=\"1504.96,980.47 1504.96,1062.45 1580.12,1062.45 1580.12,980.47 1504.96,980.47 \"/>\n",
       "<path clip-path=\"url(#clip402)\" d=\"M1598.91 958.608 L1598.91 1073.38 L1674.07 1073.38 L1674.07 958.608 L1598.91 958.608 L1598.91 958.608  Z\" fill=\"#00a98d\" fill-rule=\"evenodd\" fill-opacity=\"1\"/>\n",
       "<polyline clip-path=\"url(#clip402)\" style=\"stroke:#000000; stroke-linecap:round; stroke-linejoin:round; stroke-width:4; stroke-opacity:1; fill:none\" points=\"1598.91,958.608 1598.91,1073.38 1674.07,1073.38 1674.07,958.608 1598.91,958.608 \"/>\n",
       "<path clip-path=\"url(#clip402)\" d=\"M1692.86 1078.85 L1692.86 1216.58 L1768.02 1216.58 L1768.02 1078.85 L1692.86 1078.85 L1692.86 1078.85  Z\" fill=\"#00a98d\" fill-rule=\"evenodd\" fill-opacity=\"1\"/>\n",
       "<polyline clip-path=\"url(#clip402)\" style=\"stroke:#000000; stroke-linecap:round; stroke-linejoin:round; stroke-width:4; stroke-opacity:1; fill:none\" points=\"1692.86,1078.85 1692.86,1216.58 1768.02,1216.58 1768.02,1078.85 1692.86,1078.85 \"/>\n",
       "<path clip-path=\"url(#clip402)\" d=\"M1786.82 1216.58 L1786.82 1314.96 L1861.98 1314.96 L1861.98 1216.58 L1786.82 1216.58 L1786.82 1216.58  Z\" fill=\"#00a98d\" fill-rule=\"evenodd\" fill-opacity=\"1\"/>\n",
       "<polyline clip-path=\"url(#clip402)\" style=\"stroke:#000000; stroke-linecap:round; stroke-linejoin:round; stroke-width:4; stroke-opacity:1; fill:none\" points=\"1786.82,1216.58 1786.82,1314.96 1861.98,1314.96 1861.98,1216.58 1786.82,1216.58 \"/>\n",
       "<path clip-path=\"url(#clip402)\" d=\"M1880.77 1218.77 L1880.77 1423.18 L1955.93 1423.18 L1955.93 1218.77 L1880.77 1218.77 L1880.77 1218.77  Z\" fill=\"#00a98d\" fill-rule=\"evenodd\" fill-opacity=\"1\"/>\n",
       "<polyline clip-path=\"url(#clip402)\" style=\"stroke:#000000; stroke-linecap:round; stroke-linejoin:round; stroke-width:4; stroke-opacity:1; fill:none\" points=\"1880.77,1218.77 1880.77,1423.18 1955.93,1423.18 1955.93,1218.77 1880.77,1218.77 \"/>\n",
       "<path clip-path=\"url(#clip402)\" d=\"M1974.72 1245 L1974.72 1423.18 L2049.88 1423.18 L2049.88 1245 L1974.72 1245 L1974.72 1245  Z\" fill=\"#00a98d\" fill-rule=\"evenodd\" fill-opacity=\"1\"/>\n",
       "<polyline clip-path=\"url(#clip402)\" style=\"stroke:#000000; stroke-linecap:round; stroke-linejoin:round; stroke-width:4; stroke-opacity:1; fill:none\" points=\"1974.72,1245 1974.72,1423.18 2049.88,1423.18 2049.88,1245 1974.72,1245 \"/>\n",
       "<path clip-path=\"url(#clip402)\" d=\"M2068.68 1423.18 L2068.68 1423.18 L2143.84 1423.18 L2143.84 1423.18 L2068.68 1423.18 L2068.68 1423.18  Z\" fill=\"#00a98d\" fill-rule=\"evenodd\" fill-opacity=\"1\"/>\n",
       "<polyline clip-path=\"url(#clip402)\" style=\"stroke:#000000; stroke-linecap:round; stroke-linejoin:round; stroke-width:4; stroke-opacity:1; fill:none\" points=\"2068.68,1423.18 2068.68,1423.18 2143.84,1423.18 2068.68,1423.18 \"/>\n",
       "<path clip-path=\"url(#clip402)\" d=\"M2162.63 1231.89 L2162.63 1266.87 L2237.79 1266.87 L2237.79 1231.89 L2162.63 1231.89 L2162.63 1231.89  Z\" fill=\"#00a98d\" fill-rule=\"evenodd\" fill-opacity=\"1\"/>\n",
       "<polyline clip-path=\"url(#clip402)\" style=\"stroke:#000000; stroke-linecap:round; stroke-linejoin:round; stroke-width:4; stroke-opacity:1; fill:none\" points=\"2162.63,1231.89 2162.63,1266.87 2237.79,1266.87 2237.79,1231.89 2162.63,1231.89 \"/>\n",
       "<circle clip-path=\"url(#clip402)\" style=\"fill:#00a98d; stroke:none; fill-opacity:0\" cx=\"415.098\" cy=\"909.418\" r=\"2\"/>\n",
       "<circle clip-path=\"url(#clip402)\" style=\"fill:#00a98d; stroke:none; fill-opacity:0\" cx=\"509.051\" cy=\"1151\" r=\"2\"/>\n",
       "<circle clip-path=\"url(#clip402)\" style=\"fill:#00a98d; stroke:none; fill-opacity:0\" cx=\"603.004\" cy=\"1262.49\" r=\"2\"/>\n",
       "<circle clip-path=\"url(#clip402)\" style=\"fill:#00a98d; stroke:none; fill-opacity:0\" cx=\"696.957\" cy=\"1320.43\" r=\"2\"/>\n",
       "<circle clip-path=\"url(#clip402)\" style=\"fill:#00a98d; stroke:none; fill-opacity:0\" cx=\"790.911\" cy=\"1132.41\" r=\"2\"/>\n",
       "<circle clip-path=\"url(#clip402)\" style=\"fill:#00a98d; stroke:none; fill-opacity:0\" cx=\"884.864\" cy=\"1299.66\" r=\"2\"/>\n",
       "<circle clip-path=\"url(#clip402)\" style=\"fill:#00a98d; stroke:none; fill-opacity:0\" cx=\"978.817\" cy=\"1114.92\" r=\"2\"/>\n",
       "<circle clip-path=\"url(#clip402)\" style=\"fill:#00a98d; stroke:none; fill-opacity:0\" cx=\"1072.77\" cy=\"1255.93\" r=\"2\"/>\n",
       "<circle clip-path=\"url(#clip402)\" style=\"fill:#00a98d; stroke:none; fill-opacity:0\" cx=\"1166.72\" cy=\"1142.25\" r=\"2\"/>\n",
       "<circle clip-path=\"url(#clip402)\" style=\"fill:#00a98d; stroke:none; fill-opacity:0\" cx=\"1260.68\" cy=\"761.848\" r=\"2\"/>\n",
       "<circle clip-path=\"url(#clip402)\" style=\"fill:#00a98d; stroke:none; fill-opacity:0\" cx=\"1354.63\" cy=\"1099.62\" r=\"2\"/>\n",
       "<circle clip-path=\"url(#clip402)\" style=\"fill:#00a98d; stroke:none; fill-opacity:0\" cx=\"1448.58\" cy=\"1423.18\" r=\"2\"/>\n",
       "<circle clip-path=\"url(#clip402)\" style=\"fill:#00a98d; stroke:none; fill-opacity:0\" cx=\"1542.54\" cy=\"980.47\" r=\"2\"/>\n",
       "<circle clip-path=\"url(#clip402)\" style=\"fill:#00a98d; stroke:none; fill-opacity:0\" cx=\"1636.49\" cy=\"958.608\" r=\"2\"/>\n",
       "<circle clip-path=\"url(#clip402)\" style=\"fill:#00a98d; stroke:none; fill-opacity:0\" cx=\"1730.44\" cy=\"1078.85\" r=\"2\"/>\n",
       "<circle clip-path=\"url(#clip402)\" style=\"fill:#00a98d; stroke:none; fill-opacity:0\" cx=\"1824.4\" cy=\"1216.58\" r=\"2\"/>\n",
       "<circle clip-path=\"url(#clip402)\" style=\"fill:#00a98d; stroke:none; fill-opacity:0\" cx=\"1918.35\" cy=\"1218.77\" r=\"2\"/>\n",
       "<circle clip-path=\"url(#clip402)\" style=\"fill:#00a98d; stroke:none; fill-opacity:0\" cx=\"2012.3\" cy=\"1245\" r=\"2\"/>\n",
       "<circle clip-path=\"url(#clip402)\" style=\"fill:#00a98d; stroke:none; fill-opacity:0\" cx=\"2106.26\" cy=\"1423.18\" r=\"2\"/>\n",
       "<circle clip-path=\"url(#clip402)\" style=\"fill:#00a98d; stroke:none; fill-opacity:0\" cx=\"2200.21\" cy=\"1231.89\" r=\"2\"/>\n",
       "<path clip-path=\"url(#clip402)\" d=\"M377.516 1041.68 L377.516 1114.92 L452.679 1114.92 L452.679 1041.68 L377.516 1041.68 L377.516 1041.68  Z\" fill=\"#8e971d\" fill-rule=\"evenodd\" fill-opacity=\"1\"/>\n",
       "<polyline clip-path=\"url(#clip402)\" style=\"stroke:#000000; stroke-linecap:round; stroke-linejoin:round; stroke-width:4; stroke-opacity:1; fill:none\" points=\"377.516,1041.68 377.516,1114.92 452.679,1114.92 452.679,1041.68 377.516,1041.68 \"/>\n",
       "<path clip-path=\"url(#clip402)\" d=\"M471.469 1330.27 L471.469 1382.73 L546.632 1382.73 L546.632 1330.27 L471.469 1330.27 L471.469 1330.27  Z\" fill=\"#8e971d\" fill-rule=\"evenodd\" fill-opacity=\"1\"/>\n",
       "<polyline clip-path=\"url(#clip402)\" style=\"stroke:#000000; stroke-linecap:round; stroke-linejoin:round; stroke-width:4; stroke-opacity:1; fill:none\" points=\"471.469,1330.27 471.469,1382.73 546.632,1382.73 546.632,1330.27 471.469,1330.27 \"/>\n",
       "<path clip-path=\"url(#clip402)\" d=\"M565.423 1402.41 L565.423 1423.18 L640.585 1423.18 L640.585 1402.41 L565.423 1402.41 L565.423 1402.41  Z\" fill=\"#8e971d\" fill-rule=\"evenodd\" fill-opacity=\"1\"/>\n",
       "<polyline clip-path=\"url(#clip402)\" style=\"stroke:#000000; stroke-linecap:round; stroke-linejoin:round; stroke-width:4; stroke-opacity:1; fill:none\" points=\"565.423,1402.41 565.423,1423.18 640.585,1423.18 640.585,1402.41 565.423,1402.41 \"/>\n",
       "<path clip-path=\"url(#clip402)\" d=\"M659.376 1423.18 L659.376 1423.18 L734.539 1423.18 L734.539 1423.18 L659.376 1423.18 L659.376 1423.18  Z\" fill=\"#8e971d\" fill-rule=\"evenodd\" fill-opacity=\"1\"/>\n",
       "<polyline clip-path=\"url(#clip402)\" style=\"stroke:#000000; stroke-linecap:round; stroke-linejoin:round; stroke-width:4; stroke-opacity:1; fill:none\" points=\"659.376,1423.18 659.376,1423.18 734.539,1423.18 659.376,1423.18 \"/>\n",
       "<path clip-path=\"url(#clip402)\" d=\"M753.329 1298.57 L753.329 1423.18 L828.492 1423.18 L828.492 1298.57 L753.329 1298.57 L753.329 1298.57  Z\" fill=\"#8e971d\" fill-rule=\"evenodd\" fill-opacity=\"1\"/>\n",
       "<polyline clip-path=\"url(#clip402)\" style=\"stroke:#000000; stroke-linecap:round; stroke-linejoin:round; stroke-width:4; stroke-opacity:1; fill:none\" points=\"753.329,1298.57 753.329,1423.18 828.492,1423.18 828.492,1298.57 753.329,1298.57 \"/>\n",
       "<path clip-path=\"url(#clip402)\" d=\"M847.283 1423.18 L847.283 1423.18 L922.445 1423.18 L922.445 1423.18 L847.283 1423.18 L847.283 1423.18  Z\" fill=\"#8e971d\" fill-rule=\"evenodd\" fill-opacity=\"1\"/>\n",
       "<polyline clip-path=\"url(#clip402)\" style=\"stroke:#000000; stroke-linecap:round; stroke-linejoin:round; stroke-width:4; stroke-opacity:1; fill:none\" points=\"847.283,1423.18 847.283,1423.18 922.445,1423.18 847.283,1423.18 \"/>\n",
       "<path clip-path=\"url(#clip402)\" d=\"M941.236 1253.75 L941.236 1423.18 L1016.4 1423.18 L1016.4 1253.75 L941.236 1253.75 L941.236 1253.75  Z\" fill=\"#8e971d\" fill-rule=\"evenodd\" fill-opacity=\"1\"/>\n",
       "<polyline clip-path=\"url(#clip402)\" style=\"stroke:#000000; stroke-linecap:round; stroke-linejoin:round; stroke-width:4; stroke-opacity:1; fill:none\" points=\"941.236,1253.75 941.236,1423.18 1016.4,1423.18 1016.4,1253.75 941.236,1253.75 \"/>\n",
       "<path clip-path=\"url(#clip402)\" d=\"M1035.19 1423.18 L1035.19 1423.18 L1110.35 1423.18 L1110.35 1423.18 L1035.19 1423.18 L1035.19 1423.18  Z\" fill=\"#8e971d\" fill-rule=\"evenodd\" fill-opacity=\"1\"/>\n",
       "<polyline clip-path=\"url(#clip402)\" style=\"stroke:#000000; stroke-linecap:round; stroke-linejoin:round; stroke-width:4; stroke-opacity:1; fill:none\" points=\"1035.19,1423.18 1035.19,1423.18 1110.35,1423.18 1035.19,1423.18 \"/>\n",
       "<path clip-path=\"url(#clip402)\" d=\"M1129.14 1251.56 L1129.14 1295.29 L1204.3 1295.29 L1204.3 1251.56 L1129.14 1251.56 L1129.14 1251.56  Z\" fill=\"#8e971d\" fill-rule=\"evenodd\" fill-opacity=\"1\"/>\n",
       "<polyline clip-path=\"url(#clip402)\" style=\"stroke:#000000; stroke-linecap:round; stroke-linejoin:round; stroke-width:4; stroke-opacity:1; fill:none\" points=\"1129.14,1251.56 1129.14,1295.29 1204.3,1295.29 1204.3,1251.56 1129.14,1251.56 \"/>\n",
       "<path clip-path=\"url(#clip402)\" d=\"M1223.1 909.418 L1223.1 1085.41 L1298.26 1085.41 L1298.26 909.418 L1223.1 909.418 L1223.1 909.418  Z\" fill=\"#8e971d\" fill-rule=\"evenodd\" fill-opacity=\"1\"/>\n",
       "<polyline clip-path=\"url(#clip402)\" style=\"stroke:#000000; stroke-linecap:round; stroke-linejoin:round; stroke-width:4; stroke-opacity:1; fill:none\" points=\"1223.1,909.418 1223.1,1085.41 1298.26,1085.41 1298.26,909.418 1223.1,909.418 \"/>\n",
       "<path clip-path=\"url(#clip402)\" d=\"M1317.05 1226.42 L1317.05 1297.47 L1392.21 1297.47 L1392.21 1226.42 L1317.05 1226.42 L1317.05 1226.42  Z\" fill=\"#8e971d\" fill-rule=\"evenodd\" fill-opacity=\"1\"/>\n",
       "<polyline clip-path=\"url(#clip402)\" style=\"stroke:#000000; stroke-linecap:round; stroke-linejoin:round; stroke-width:4; stroke-opacity:1; fill:none\" points=\"1317.05,1226.42 1317.05,1297.47 1392.21,1297.47 1392.21,1226.42 1317.05,1226.42 \"/>\n",
       "<path clip-path=\"url(#clip402)\" d=\"M1411 1423.18 L1411 1423.18 L1486.16 1423.18 L1486.16 1423.18 L1411 1423.18 L1411 1423.18  Z\" fill=\"#8e971d\" fill-rule=\"evenodd\" fill-opacity=\"1\"/>\n",
       "<polyline clip-path=\"url(#clip402)\" style=\"stroke:#000000; stroke-linecap:round; stroke-linejoin:round; stroke-width:4; stroke-opacity:1; fill:none\" points=\"1411,1423.18 1411,1423.18 1486.16,1423.18 1411,1423.18 \"/>\n",
       "<path clip-path=\"url(#clip402)\" d=\"M1504.96 1062.45 L1504.96 1105.08 L1580.12 1105.08 L1580.12 1062.45 L1504.96 1062.45 L1504.96 1062.45  Z\" fill=\"#8e971d\" fill-rule=\"evenodd\" fill-opacity=\"1\"/>\n",
       "<polyline clip-path=\"url(#clip402)\" style=\"stroke:#000000; stroke-linecap:round; stroke-linejoin:round; stroke-width:4; stroke-opacity:1; fill:none\" points=\"1504.96,1062.45 1504.96,1105.08 1580.12,1105.08 1580.12,1062.45 1504.96,1062.45 \"/>\n",
       "<path clip-path=\"url(#clip402)\" d=\"M1598.91 1073.38 L1598.91 1243.91 L1674.07 1243.91 L1674.07 1073.38 L1598.91 1073.38 L1598.91 1073.38  Z\" fill=\"#8e971d\" fill-rule=\"evenodd\" fill-opacity=\"1\"/>\n",
       "<polyline clip-path=\"url(#clip402)\" style=\"stroke:#000000; stroke-linecap:round; stroke-linejoin:round; stroke-width:4; stroke-opacity:1; fill:none\" points=\"1598.91,1073.38 1598.91,1243.91 1674.07,1243.91 1674.07,1073.38 1598.91,1073.38 \"/>\n",
       "<path clip-path=\"url(#clip402)\" d=\"M1692.86 1216.58 L1692.86 1365.25 L1768.02 1365.25 L1768.02 1216.58 L1692.86 1216.58 L1692.86 1216.58  Z\" fill=\"#8e971d\" fill-rule=\"evenodd\" fill-opacity=\"1\"/>\n",
       "<polyline clip-path=\"url(#clip402)\" style=\"stroke:#000000; stroke-linecap:round; stroke-linejoin:round; stroke-width:4; stroke-opacity:1; fill:none\" points=\"1692.86,1216.58 1692.86,1365.25 1768.02,1365.25 1768.02,1216.58 1692.86,1216.58 \"/>\n",
       "<path clip-path=\"url(#clip402)\" d=\"M1786.82 1314.96 L1786.82 1423.18 L1861.98 1423.18 L1861.98 1314.96 L1786.82 1314.96 L1786.82 1314.96  Z\" fill=\"#8e971d\" fill-rule=\"evenodd\" fill-opacity=\"1\"/>\n",
       "<polyline clip-path=\"url(#clip402)\" style=\"stroke:#000000; stroke-linecap:round; stroke-linejoin:round; stroke-width:4; stroke-opacity:1; fill:none\" points=\"1786.82,1314.96 1786.82,1423.18 1861.98,1423.18 1861.98,1314.96 1786.82,1314.96 \"/>\n",
       "<path clip-path=\"url(#clip402)\" d=\"M1880.77 1423.18 L1880.77 1423.18 L1955.93 1423.18 L1955.93 1423.18 L1880.77 1423.18 L1880.77 1423.18  Z\" fill=\"#8e971d\" fill-rule=\"evenodd\" fill-opacity=\"1\"/>\n",
       "<polyline clip-path=\"url(#clip402)\" style=\"stroke:#000000; stroke-linecap:round; stroke-linejoin:round; stroke-width:4; stroke-opacity:1; fill:none\" points=\"1880.77,1423.18 1880.77,1423.18 1955.93,1423.18 1880.77,1423.18 \"/>\n",
       "<path clip-path=\"url(#clip402)\" d=\"M1974.72 1423.18 L1974.72 1423.18 L2049.88 1423.18 L2049.88 1423.18 L1974.72 1423.18 L1974.72 1423.18  Z\" fill=\"#8e971d\" fill-rule=\"evenodd\" fill-opacity=\"1\"/>\n",
       "<polyline clip-path=\"url(#clip402)\" style=\"stroke:#000000; stroke-linecap:round; stroke-linejoin:round; stroke-width:4; stroke-opacity:1; fill:none\" points=\"1974.72,1423.18 1974.72,1423.18 2049.88,1423.18 1974.72,1423.18 \"/>\n",
       "<path clip-path=\"url(#clip402)\" d=\"M2068.68 1423.18 L2068.68 1423.18 L2143.84 1423.18 L2143.84 1423.18 L2068.68 1423.18 L2068.68 1423.18  Z\" fill=\"#8e971d\" fill-rule=\"evenodd\" fill-opacity=\"1\"/>\n",
       "<polyline clip-path=\"url(#clip402)\" style=\"stroke:#000000; stroke-linecap:round; stroke-linejoin:round; stroke-width:4; stroke-opacity:1; fill:none\" points=\"2068.68,1423.18 2068.68,1423.18 2143.84,1423.18 2068.68,1423.18 \"/>\n",
       "<path clip-path=\"url(#clip402)\" d=\"M2162.63 1266.87 L2162.63 1306.22 L2237.79 1306.22 L2237.79 1266.87 L2162.63 1266.87 L2162.63 1266.87  Z\" fill=\"#8e971d\" fill-rule=\"evenodd\" fill-opacity=\"1\"/>\n",
       "<polyline clip-path=\"url(#clip402)\" style=\"stroke:#000000; stroke-linecap:round; stroke-linejoin:round; stroke-width:4; stroke-opacity:1; fill:none\" points=\"2162.63,1266.87 2162.63,1306.22 2237.79,1306.22 2237.79,1266.87 2162.63,1266.87 \"/>\n",
       "<circle clip-path=\"url(#clip402)\" style=\"fill:#8e971d; stroke:none; fill-opacity:0\" cx=\"415.098\" cy=\"1041.68\" r=\"2\"/>\n",
       "<circle clip-path=\"url(#clip402)\" style=\"fill:#8e971d; stroke:none; fill-opacity:0\" cx=\"509.051\" cy=\"1330.27\" r=\"2\"/>\n",
       "<circle clip-path=\"url(#clip402)\" style=\"fill:#8e971d; stroke:none; fill-opacity:0\" cx=\"603.004\" cy=\"1402.41\" r=\"2\"/>\n",
       "<circle clip-path=\"url(#clip402)\" style=\"fill:#8e971d; stroke:none; fill-opacity:0\" cx=\"696.957\" cy=\"1423.18\" r=\"2\"/>\n",
       "<circle clip-path=\"url(#clip402)\" style=\"fill:#8e971d; stroke:none; fill-opacity:0\" cx=\"790.911\" cy=\"1298.57\" r=\"2\"/>\n",
       "<circle clip-path=\"url(#clip402)\" style=\"fill:#8e971d; stroke:none; fill-opacity:0\" cx=\"884.864\" cy=\"1423.18\" r=\"2\"/>\n",
       "<circle clip-path=\"url(#clip402)\" style=\"fill:#8e971d; stroke:none; fill-opacity:0\" cx=\"978.817\" cy=\"1253.75\" r=\"2\"/>\n",
       "<circle clip-path=\"url(#clip402)\" style=\"fill:#8e971d; stroke:none; fill-opacity:0\" cx=\"1072.77\" cy=\"1423.18\" r=\"2\"/>\n",
       "<circle clip-path=\"url(#clip402)\" style=\"fill:#8e971d; stroke:none; fill-opacity:0\" cx=\"1166.72\" cy=\"1251.56\" r=\"2\"/>\n",
       "<circle clip-path=\"url(#clip402)\" style=\"fill:#8e971d; stroke:none; fill-opacity:0\" cx=\"1260.68\" cy=\"909.418\" r=\"2\"/>\n",
       "<circle clip-path=\"url(#clip402)\" style=\"fill:#8e971d; stroke:none; fill-opacity:0\" cx=\"1354.63\" cy=\"1226.42\" r=\"2\"/>\n",
       "<circle clip-path=\"url(#clip402)\" style=\"fill:#8e971d; stroke:none; fill-opacity:0\" cx=\"1448.58\" cy=\"1423.18\" r=\"2\"/>\n",
       "<circle clip-path=\"url(#clip402)\" style=\"fill:#8e971d; stroke:none; fill-opacity:0\" cx=\"1542.54\" cy=\"1062.45\" r=\"2\"/>\n",
       "<circle clip-path=\"url(#clip402)\" style=\"fill:#8e971d; stroke:none; fill-opacity:0\" cx=\"1636.49\" cy=\"1073.38\" r=\"2\"/>\n",
       "<circle clip-path=\"url(#clip402)\" style=\"fill:#8e971d; stroke:none; fill-opacity:0\" cx=\"1730.44\" cy=\"1216.58\" r=\"2\"/>\n",
       "<circle clip-path=\"url(#clip402)\" style=\"fill:#8e971d; stroke:none; fill-opacity:0\" cx=\"1824.4\" cy=\"1314.96\" r=\"2\"/>\n",
       "<circle clip-path=\"url(#clip402)\" style=\"fill:#8e971d; stroke:none; fill-opacity:0\" cx=\"1918.35\" cy=\"1423.18\" r=\"2\"/>\n",
       "<circle clip-path=\"url(#clip402)\" style=\"fill:#8e971d; stroke:none; fill-opacity:0\" cx=\"2012.3\" cy=\"1423.18\" r=\"2\"/>\n",
       "<circle clip-path=\"url(#clip402)\" style=\"fill:#8e971d; stroke:none; fill-opacity:0\" cx=\"2106.26\" cy=\"1423.18\" r=\"2\"/>\n",
       "<circle clip-path=\"url(#clip402)\" style=\"fill:#8e971d; stroke:none; fill-opacity:0\" cx=\"2200.21\" cy=\"1266.87\" r=\"2\"/>\n",
       "<path clip-path=\"url(#clip402)\" d=\"M377.516 1114.92 L377.516 1177.23 L452.679 1177.23 L452.679 1114.92 L377.516 1114.92 L377.516 1114.92  Z\" fill=\"#00a8cb\" fill-rule=\"evenodd\" fill-opacity=\"1\"/>\n",
       "<polyline clip-path=\"url(#clip402)\" style=\"stroke:#000000; stroke-linecap:round; stroke-linejoin:round; stroke-width:4; stroke-opacity:1; fill:none\" points=\"377.516,1114.92 377.516,1177.23 452.679,1177.23 452.679,1114.92 377.516,1114.92 \"/>\n",
       "<path clip-path=\"url(#clip402)\" d=\"M471.469 1382.73 L471.469 1423.18 L546.632 1423.18 L546.632 1382.73 L471.469 1382.73 L471.469 1382.73  Z\" fill=\"#00a8cb\" fill-rule=\"evenodd\" fill-opacity=\"1\"/>\n",
       "<polyline clip-path=\"url(#clip402)\" style=\"stroke:#000000; stroke-linecap:round; stroke-linejoin:round; stroke-width:4; stroke-opacity:1; fill:none\" points=\"471.469,1382.73 471.469,1423.18 546.632,1423.18 546.632,1382.73 471.469,1382.73 \"/>\n",
       "<path clip-path=\"url(#clip402)\" d=\"M565.423 1423.18 L565.423 1423.18 L640.585 1423.18 L640.585 1423.18 L565.423 1423.18 L565.423 1423.18  Z\" fill=\"#00a8cb\" fill-rule=\"evenodd\" fill-opacity=\"1\"/>\n",
       "<polyline clip-path=\"url(#clip402)\" style=\"stroke:#000000; stroke-linecap:round; stroke-linejoin:round; stroke-width:4; stroke-opacity:1; fill:none\" points=\"565.423,1423.18 565.423,1423.18 640.585,1423.18 565.423,1423.18 \"/>\n",
       "<path clip-path=\"url(#clip402)\" d=\"M659.376 1423.18 L659.376 1423.18 L734.539 1423.18 L734.539 1423.18 L659.376 1423.18 L659.376 1423.18  Z\" fill=\"#00a8cb\" fill-rule=\"evenodd\" fill-opacity=\"1\"/>\n",
       "<polyline clip-path=\"url(#clip402)\" style=\"stroke:#000000; stroke-linecap:round; stroke-linejoin:round; stroke-width:4; stroke-opacity:1; fill:none\" points=\"659.376,1423.18 659.376,1423.18 734.539,1423.18 659.376,1423.18 \"/>\n",
       "<path clip-path=\"url(#clip402)\" d=\"M753.329 1423.18 L753.329 1423.18 L828.492 1423.18 L828.492 1423.18 L753.329 1423.18 L753.329 1423.18  Z\" fill=\"#00a8cb\" fill-rule=\"evenodd\" fill-opacity=\"1\"/>\n",
       "<polyline clip-path=\"url(#clip402)\" style=\"stroke:#000000; stroke-linecap:round; stroke-linejoin:round; stroke-width:4; stroke-opacity:1; fill:none\" points=\"753.329,1423.18 753.329,1423.18 828.492,1423.18 753.329,1423.18 \"/>\n",
       "<path clip-path=\"url(#clip402)\" d=\"M847.283 1423.18 L847.283 1423.18 L922.445 1423.18 L922.445 1423.18 L847.283 1423.18 L847.283 1423.18  Z\" fill=\"#00a8cb\" fill-rule=\"evenodd\" fill-opacity=\"1\"/>\n",
       "<polyline clip-path=\"url(#clip402)\" style=\"stroke:#000000; stroke-linecap:round; stroke-linejoin:round; stroke-width:4; stroke-opacity:1; fill:none\" points=\"847.283,1423.18 847.283,1423.18 922.445,1423.18 847.283,1423.18 \"/>\n",
       "<path clip-path=\"url(#clip402)\" d=\"M941.236 1423.18 L941.236 1423.18 L1016.4 1423.18 L1016.4 1423.18 L941.236 1423.18 L941.236 1423.18  Z\" fill=\"#00a8cb\" fill-rule=\"evenodd\" fill-opacity=\"1\"/>\n",
       "<polyline clip-path=\"url(#clip402)\" style=\"stroke:#000000; stroke-linecap:round; stroke-linejoin:round; stroke-width:4; stroke-opacity:1; fill:none\" points=\"941.236,1423.18 941.236,1423.18 1016.4,1423.18 941.236,1423.18 \"/>\n",
       "<path clip-path=\"url(#clip402)\" d=\"M1035.19 1423.18 L1035.19 1423.18 L1110.35 1423.18 L1110.35 1423.18 L1035.19 1423.18 L1035.19 1423.18  Z\" fill=\"#00a8cb\" fill-rule=\"evenodd\" fill-opacity=\"1\"/>\n",
       "<polyline clip-path=\"url(#clip402)\" style=\"stroke:#000000; stroke-linecap:round; stroke-linejoin:round; stroke-width:4; stroke-opacity:1; fill:none\" points=\"1035.19,1423.18 1035.19,1423.18 1110.35,1423.18 1035.19,1423.18 \"/>\n",
       "<path clip-path=\"url(#clip402)\" d=\"M1129.14 1295.29 L1129.14 1423.18 L1204.3 1423.18 L1204.3 1295.29 L1129.14 1295.29 L1129.14 1295.29  Z\" fill=\"#00a8cb\" fill-rule=\"evenodd\" fill-opacity=\"1\"/>\n",
       "<polyline clip-path=\"url(#clip402)\" style=\"stroke:#000000; stroke-linecap:round; stroke-linejoin:round; stroke-width:4; stroke-opacity:1; fill:none\" points=\"1129.14,1295.29 1129.14,1423.18 1204.3,1423.18 1204.3,1295.29 1129.14,1295.29 \"/>\n",
       "<path clip-path=\"url(#clip402)\" d=\"M1223.1 1085.41 L1223.1 1133.51 L1298.26 1133.51 L1298.26 1085.41 L1223.1 1085.41 L1223.1 1085.41  Z\" fill=\"#00a8cb\" fill-rule=\"evenodd\" fill-opacity=\"1\"/>\n",
       "<polyline clip-path=\"url(#clip402)\" style=\"stroke:#000000; stroke-linecap:round; stroke-linejoin:round; stroke-width:4; stroke-opacity:1; fill:none\" points=\"1223.1,1085.41 1223.1,1133.51 1298.26,1133.51 1298.26,1085.41 1223.1,1085.41 \"/>\n",
       "<path clip-path=\"url(#clip402)\" d=\"M1317.05 1297.47 L1317.05 1423.18 L1392.21 1423.18 L1392.21 1297.47 L1317.05 1297.47 L1317.05 1297.47  Z\" fill=\"#00a8cb\" fill-rule=\"evenodd\" fill-opacity=\"1\"/>\n",
       "<polyline clip-path=\"url(#clip402)\" style=\"stroke:#000000; stroke-linecap:round; stroke-linejoin:round; stroke-width:4; stroke-opacity:1; fill:none\" points=\"1317.05,1297.47 1317.05,1423.18 1392.21,1423.18 1392.21,1297.47 1317.05,1297.47 \"/>\n",
       "<path clip-path=\"url(#clip402)\" d=\"M1411 1423.18 L1411 1423.18 L1486.16 1423.18 L1486.16 1423.18 L1411 1423.18 L1411 1423.18  Z\" fill=\"#00a8cb\" fill-rule=\"evenodd\" fill-opacity=\"1\"/>\n",
       "<polyline clip-path=\"url(#clip402)\" style=\"stroke:#000000; stroke-linecap:round; stroke-linejoin:round; stroke-width:4; stroke-opacity:1; fill:none\" points=\"1411,1423.18 1411,1423.18 1486.16,1423.18 1411,1423.18 \"/>\n",
       "<path clip-path=\"url(#clip402)\" d=\"M1504.96 1105.08 L1504.96 1259.21 L1580.12 1259.21 L1580.12 1105.08 L1504.96 1105.08 L1504.96 1105.08  Z\" fill=\"#00a8cb\" fill-rule=\"evenodd\" fill-opacity=\"1\"/>\n",
       "<polyline clip-path=\"url(#clip402)\" style=\"stroke:#000000; stroke-linecap:round; stroke-linejoin:round; stroke-width:4; stroke-opacity:1; fill:none\" points=\"1504.96,1105.08 1504.96,1259.21 1580.12,1259.21 1580.12,1105.08 1504.96,1105.08 \"/>\n",
       "<path clip-path=\"url(#clip402)\" d=\"M1598.91 1243.91 L1598.91 1336.82 L1674.07 1336.82 L1674.07 1243.91 L1598.91 1243.91 L1598.91 1243.91  Z\" fill=\"#00a8cb\" fill-rule=\"evenodd\" fill-opacity=\"1\"/>\n",
       "<polyline clip-path=\"url(#clip402)\" style=\"stroke:#000000; stroke-linecap:round; stroke-linejoin:round; stroke-width:4; stroke-opacity:1; fill:none\" points=\"1598.91,1243.91 1598.91,1336.82 1674.07,1336.82 1674.07,1243.91 1598.91,1243.91 \"/>\n",
       "<path clip-path=\"url(#clip402)\" d=\"M1692.86 1365.25 L1692.86 1423.18 L1768.02 1423.18 L1768.02 1365.25 L1692.86 1365.25 L1692.86 1365.25  Z\" fill=\"#00a8cb\" fill-rule=\"evenodd\" fill-opacity=\"1\"/>\n",
       "<polyline clip-path=\"url(#clip402)\" style=\"stroke:#000000; stroke-linecap:round; stroke-linejoin:round; stroke-width:4; stroke-opacity:1; fill:none\" points=\"1692.86,1365.25 1692.86,1423.18 1768.02,1423.18 1768.02,1365.25 1692.86,1365.25 \"/>\n",
       "<path clip-path=\"url(#clip402)\" d=\"M1786.82 1423.18 L1786.82 1423.18 L1861.98 1423.18 L1861.98 1423.18 L1786.82 1423.18 L1786.82 1423.18  Z\" fill=\"#00a8cb\" fill-rule=\"evenodd\" fill-opacity=\"1\"/>\n",
       "<polyline clip-path=\"url(#clip402)\" style=\"stroke:#000000; stroke-linecap:round; stroke-linejoin:round; stroke-width:4; stroke-opacity:1; fill:none\" points=\"1786.82,1423.18 1786.82,1423.18 1861.98,1423.18 1786.82,1423.18 \"/>\n",
       "<path clip-path=\"url(#clip402)\" d=\"M1880.77 1423.18 L1880.77 1423.18 L1955.93 1423.18 L1955.93 1423.18 L1880.77 1423.18 L1880.77 1423.18  Z\" fill=\"#00a8cb\" fill-rule=\"evenodd\" fill-opacity=\"1\"/>\n",
       "<polyline clip-path=\"url(#clip402)\" style=\"stroke:#000000; stroke-linecap:round; stroke-linejoin:round; stroke-width:4; stroke-opacity:1; fill:none\" points=\"1880.77,1423.18 1880.77,1423.18 1955.93,1423.18 1880.77,1423.18 \"/>\n",
       "<path clip-path=\"url(#clip402)\" d=\"M1974.72 1423.18 L1974.72 1423.18 L2049.88 1423.18 L2049.88 1423.18 L1974.72 1423.18 L1974.72 1423.18  Z\" fill=\"#00a8cb\" fill-rule=\"evenodd\" fill-opacity=\"1\"/>\n",
       "<polyline clip-path=\"url(#clip402)\" style=\"stroke:#000000; stroke-linecap:round; stroke-linejoin:round; stroke-width:4; stroke-opacity:1; fill:none\" points=\"1974.72,1423.18 1974.72,1423.18 2049.88,1423.18 1974.72,1423.18 \"/>\n",
       "<path clip-path=\"url(#clip402)\" d=\"M2068.68 1423.18 L2068.68 1423.18 L2143.84 1423.18 L2143.84 1423.18 L2068.68 1423.18 L2068.68 1423.18  Z\" fill=\"#00a8cb\" fill-rule=\"evenodd\" fill-opacity=\"1\"/>\n",
       "<polyline clip-path=\"url(#clip402)\" style=\"stroke:#000000; stroke-linecap:round; stroke-linejoin:round; stroke-width:4; stroke-opacity:1; fill:none\" points=\"2068.68,1423.18 2068.68,1423.18 2143.84,1423.18 2068.68,1423.18 \"/>\n",
       "<path clip-path=\"url(#clip402)\" d=\"M2162.63 1306.22 L2162.63 1423.18 L2237.79 1423.18 L2237.79 1306.22 L2162.63 1306.22 L2162.63 1306.22  Z\" fill=\"#00a8cb\" fill-rule=\"evenodd\" fill-opacity=\"1\"/>\n",
       "<polyline clip-path=\"url(#clip402)\" style=\"stroke:#000000; stroke-linecap:round; stroke-linejoin:round; stroke-width:4; stroke-opacity:1; fill:none\" points=\"2162.63,1306.22 2162.63,1423.18 2237.79,1423.18 2237.79,1306.22 2162.63,1306.22 \"/>\n",
       "<circle clip-path=\"url(#clip402)\" style=\"fill:#00a8cb; stroke:none; fill-opacity:0\" cx=\"415.098\" cy=\"1114.92\" r=\"2\"/>\n",
       "<circle clip-path=\"url(#clip402)\" style=\"fill:#00a8cb; stroke:none; fill-opacity:0\" cx=\"509.051\" cy=\"1382.73\" r=\"2\"/>\n",
       "<circle clip-path=\"url(#clip402)\" style=\"fill:#00a8cb; stroke:none; fill-opacity:0\" cx=\"603.004\" cy=\"1423.18\" r=\"2\"/>\n",
       "<circle clip-path=\"url(#clip402)\" style=\"fill:#00a8cb; stroke:none; fill-opacity:0\" cx=\"696.957\" cy=\"1423.18\" r=\"2\"/>\n",
       "<circle clip-path=\"url(#clip402)\" style=\"fill:#00a8cb; stroke:none; fill-opacity:0\" cx=\"790.911\" cy=\"1423.18\" r=\"2\"/>\n",
       "<circle clip-path=\"url(#clip402)\" style=\"fill:#00a8cb; stroke:none; fill-opacity:0\" cx=\"884.864\" cy=\"1423.18\" r=\"2\"/>\n",
       "<circle clip-path=\"url(#clip402)\" style=\"fill:#00a8cb; stroke:none; fill-opacity:0\" cx=\"978.817\" cy=\"1423.18\" r=\"2\"/>\n",
       "<circle clip-path=\"url(#clip402)\" style=\"fill:#00a8cb; stroke:none; fill-opacity:0\" cx=\"1072.77\" cy=\"1423.18\" r=\"2\"/>\n",
       "<circle clip-path=\"url(#clip402)\" style=\"fill:#00a8cb; stroke:none; fill-opacity:0\" cx=\"1166.72\" cy=\"1295.29\" r=\"2\"/>\n",
       "<circle clip-path=\"url(#clip402)\" style=\"fill:#00a8cb; stroke:none; fill-opacity:0\" cx=\"1260.68\" cy=\"1085.41\" r=\"2\"/>\n",
       "<circle clip-path=\"url(#clip402)\" style=\"fill:#00a8cb; stroke:none; fill-opacity:0\" cx=\"1354.63\" cy=\"1297.47\" r=\"2\"/>\n",
       "<circle clip-path=\"url(#clip402)\" style=\"fill:#00a8cb; stroke:none; fill-opacity:0\" cx=\"1448.58\" cy=\"1423.18\" r=\"2\"/>\n",
       "<circle clip-path=\"url(#clip402)\" style=\"fill:#00a8cb; stroke:none; fill-opacity:0\" cx=\"1542.54\" cy=\"1105.08\" r=\"2\"/>\n",
       "<circle clip-path=\"url(#clip402)\" style=\"fill:#00a8cb; stroke:none; fill-opacity:0\" cx=\"1636.49\" cy=\"1243.91\" r=\"2\"/>\n",
       "<circle clip-path=\"url(#clip402)\" style=\"fill:#00a8cb; stroke:none; fill-opacity:0\" cx=\"1730.44\" cy=\"1365.25\" r=\"2\"/>\n",
       "<circle clip-path=\"url(#clip402)\" style=\"fill:#00a8cb; stroke:none; fill-opacity:0\" cx=\"1824.4\" cy=\"1423.18\" r=\"2\"/>\n",
       "<circle clip-path=\"url(#clip402)\" style=\"fill:#00a8cb; stroke:none; fill-opacity:0\" cx=\"1918.35\" cy=\"1423.18\" r=\"2\"/>\n",
       "<circle clip-path=\"url(#clip402)\" style=\"fill:#00a8cb; stroke:none; fill-opacity:0\" cx=\"2012.3\" cy=\"1423.18\" r=\"2\"/>\n",
       "<circle clip-path=\"url(#clip402)\" style=\"fill:#00a8cb; stroke:none; fill-opacity:0\" cx=\"2106.26\" cy=\"1423.18\" r=\"2\"/>\n",
       "<circle clip-path=\"url(#clip402)\" style=\"fill:#00a8cb; stroke:none; fill-opacity:0\" cx=\"2200.21\" cy=\"1306.22\" r=\"2\"/>\n",
       "<path clip-path=\"url(#clip402)\" d=\"M377.516 1177.23 L377.516 1364.15 L452.679 1364.15 L452.679 1177.23 L377.516 1177.23 L377.516 1177.23  Z\" fill=\"#9b7fe8\" fill-rule=\"evenodd\" fill-opacity=\"1\"/>\n",
       "<polyline clip-path=\"url(#clip402)\" style=\"stroke:#000000; stroke-linecap:round; stroke-linejoin:round; stroke-width:4; stroke-opacity:1; fill:none\" points=\"377.516,1177.23 377.516,1364.15 452.679,1364.15 452.679,1177.23 377.516,1177.23 \"/>\n",
       "<path clip-path=\"url(#clip402)\" d=\"M471.469 1423.18 L471.469 1423.18 L546.632 1423.18 L546.632 1423.18 L471.469 1423.18 L471.469 1423.18  Z\" fill=\"#9b7fe8\" fill-rule=\"evenodd\" fill-opacity=\"1\"/>\n",
       "<polyline clip-path=\"url(#clip402)\" style=\"stroke:#000000; stroke-linecap:round; stroke-linejoin:round; stroke-width:4; stroke-opacity:1; fill:none\" points=\"471.469,1423.18 471.469,1423.18 546.632,1423.18 471.469,1423.18 \"/>\n",
       "<path clip-path=\"url(#clip402)\" d=\"M565.423 1423.18 L565.423 1423.18 L640.585 1423.18 L640.585 1423.18 L565.423 1423.18 L565.423 1423.18  Z\" fill=\"#9b7fe8\" fill-rule=\"evenodd\" fill-opacity=\"1\"/>\n",
       "<polyline clip-path=\"url(#clip402)\" style=\"stroke:#000000; stroke-linecap:round; stroke-linejoin:round; stroke-width:4; stroke-opacity:1; fill:none\" points=\"565.423,1423.18 565.423,1423.18 640.585,1423.18 565.423,1423.18 \"/>\n",
       "<path clip-path=\"url(#clip402)\" d=\"M659.376 1423.18 L659.376 1423.18 L734.539 1423.18 L734.539 1423.18 L659.376 1423.18 L659.376 1423.18  Z\" fill=\"#9b7fe8\" fill-rule=\"evenodd\" fill-opacity=\"1\"/>\n",
       "<polyline clip-path=\"url(#clip402)\" style=\"stroke:#000000; stroke-linecap:round; stroke-linejoin:round; stroke-width:4; stroke-opacity:1; fill:none\" points=\"659.376,1423.18 659.376,1423.18 734.539,1423.18 659.376,1423.18 \"/>\n",
       "<path clip-path=\"url(#clip402)\" d=\"M753.329 1423.18 L753.329 1423.18 L828.492 1423.18 L828.492 1423.18 L753.329 1423.18 L753.329 1423.18  Z\" fill=\"#9b7fe8\" fill-rule=\"evenodd\" fill-opacity=\"1\"/>\n",
       "<polyline clip-path=\"url(#clip402)\" style=\"stroke:#000000; stroke-linecap:round; stroke-linejoin:round; stroke-width:4; stroke-opacity:1; fill:none\" points=\"753.329,1423.18 753.329,1423.18 828.492,1423.18 753.329,1423.18 \"/>\n",
       "<path clip-path=\"url(#clip402)\" d=\"M847.283 1423.18 L847.283 1423.18 L922.445 1423.18 L922.445 1423.18 L847.283 1423.18 L847.283 1423.18  Z\" fill=\"#9b7fe8\" fill-rule=\"evenodd\" fill-opacity=\"1\"/>\n",
       "<polyline clip-path=\"url(#clip402)\" style=\"stroke:#000000; stroke-linecap:round; stroke-linejoin:round; stroke-width:4; stroke-opacity:1; fill:none\" points=\"847.283,1423.18 847.283,1423.18 922.445,1423.18 847.283,1423.18 \"/>\n",
       "<path clip-path=\"url(#clip402)\" d=\"M941.236 1423.18 L941.236 1423.18 L1016.4 1423.18 L1016.4 1423.18 L941.236 1423.18 L941.236 1423.18  Z\" fill=\"#9b7fe8\" fill-rule=\"evenodd\" fill-opacity=\"1\"/>\n",
       "<polyline clip-path=\"url(#clip402)\" style=\"stroke:#000000; stroke-linecap:round; stroke-linejoin:round; stroke-width:4; stroke-opacity:1; fill:none\" points=\"941.236,1423.18 941.236,1423.18 1016.4,1423.18 941.236,1423.18 \"/>\n",
       "<path clip-path=\"url(#clip402)\" d=\"M1035.19 1423.18 L1035.19 1423.18 L1110.35 1423.18 L1110.35 1423.18 L1035.19 1423.18 L1035.19 1423.18  Z\" fill=\"#9b7fe8\" fill-rule=\"evenodd\" fill-opacity=\"1\"/>\n",
       "<polyline clip-path=\"url(#clip402)\" style=\"stroke:#000000; stroke-linecap:round; stroke-linejoin:round; stroke-width:4; stroke-opacity:1; fill:none\" points=\"1035.19,1423.18 1035.19,1423.18 1110.35,1423.18 1035.19,1423.18 \"/>\n",
       "<path clip-path=\"url(#clip402)\" d=\"M1129.14 1423.18 L1129.14 1423.18 L1204.3 1423.18 L1204.3 1423.18 L1129.14 1423.18 L1129.14 1423.18  Z\" fill=\"#9b7fe8\" fill-rule=\"evenodd\" fill-opacity=\"1\"/>\n",
       "<polyline clip-path=\"url(#clip402)\" style=\"stroke:#000000; stroke-linecap:round; stroke-linejoin:round; stroke-width:4; stroke-opacity:1; fill:none\" points=\"1129.14,1423.18 1129.14,1423.18 1204.3,1423.18 1129.14,1423.18 \"/>\n",
       "<path clip-path=\"url(#clip402)\" d=\"M1223.1 1133.51 L1223.1 1227.51 L1298.26 1227.51 L1298.26 1133.51 L1223.1 1133.51 L1223.1 1133.51  Z\" fill=\"#9b7fe8\" fill-rule=\"evenodd\" fill-opacity=\"1\"/>\n",
       "<polyline clip-path=\"url(#clip402)\" style=\"stroke:#000000; stroke-linecap:round; stroke-linejoin:round; stroke-width:4; stroke-opacity:1; fill:none\" points=\"1223.1,1133.51 1223.1,1227.51 1298.26,1227.51 1298.26,1133.51 1223.1,1133.51 \"/>\n",
       "<path clip-path=\"url(#clip402)\" d=\"M1317.05 1423.18 L1317.05 1423.18 L1392.21 1423.18 L1392.21 1423.18 L1317.05 1423.18 L1317.05 1423.18  Z\" fill=\"#9b7fe8\" fill-rule=\"evenodd\" fill-opacity=\"1\"/>\n",
       "<polyline clip-path=\"url(#clip402)\" style=\"stroke:#000000; stroke-linecap:round; stroke-linejoin:round; stroke-width:4; stroke-opacity:1; fill:none\" points=\"1317.05,1423.18 1317.05,1423.18 1392.21,1423.18 1317.05,1423.18 \"/>\n",
       "<path clip-path=\"url(#clip402)\" d=\"M1411 1423.18 L1411 1423.18 L1486.16 1423.18 L1486.16 1423.18 L1411 1423.18 L1411 1423.18  Z\" fill=\"#9b7fe8\" fill-rule=\"evenodd\" fill-opacity=\"1\"/>\n",
       "<polyline clip-path=\"url(#clip402)\" style=\"stroke:#000000; stroke-linecap:round; stroke-linejoin:round; stroke-width:4; stroke-opacity:1; fill:none\" points=\"1411,1423.18 1411,1423.18 1486.16,1423.18 1411,1423.18 \"/>\n",
       "<path clip-path=\"url(#clip402)\" d=\"M1504.96 1259.21 L1504.96 1423.18 L1580.12 1423.18 L1580.12 1259.21 L1504.96 1259.21 L1504.96 1259.21  Z\" fill=\"#9b7fe8\" fill-rule=\"evenodd\" fill-opacity=\"1\"/>\n",
       "<polyline clip-path=\"url(#clip402)\" style=\"stroke:#000000; stroke-linecap:round; stroke-linejoin:round; stroke-width:4; stroke-opacity:1; fill:none\" points=\"1504.96,1259.21 1504.96,1423.18 1580.12,1423.18 1580.12,1259.21 1504.96,1259.21 \"/>\n",
       "<path clip-path=\"url(#clip402)\" d=\"M1598.91 1336.82 L1598.91 1423.18 L1674.07 1423.18 L1674.07 1336.82 L1598.91 1336.82 L1598.91 1336.82  Z\" fill=\"#9b7fe8\" fill-rule=\"evenodd\" fill-opacity=\"1\"/>\n",
       "<polyline clip-path=\"url(#clip402)\" style=\"stroke:#000000; stroke-linecap:round; stroke-linejoin:round; stroke-width:4; stroke-opacity:1; fill:none\" points=\"1598.91,1336.82 1598.91,1423.18 1674.07,1423.18 1674.07,1336.82 1598.91,1336.82 \"/>\n",
       "<path clip-path=\"url(#clip402)\" d=\"M1692.86 1423.18 L1692.86 1423.18 L1768.02 1423.18 L1768.02 1423.18 L1692.86 1423.18 L1692.86 1423.18  Z\" fill=\"#9b7fe8\" fill-rule=\"evenodd\" fill-opacity=\"1\"/>\n",
       "<polyline clip-path=\"url(#clip402)\" style=\"stroke:#000000; stroke-linecap:round; stroke-linejoin:round; stroke-width:4; stroke-opacity:1; fill:none\" points=\"1692.86,1423.18 1692.86,1423.18 1768.02,1423.18 1692.86,1423.18 \"/>\n",
       "<path clip-path=\"url(#clip402)\" d=\"M1786.82 1423.18 L1786.82 1423.18 L1861.98 1423.18 L1861.98 1423.18 L1786.82 1423.18 L1786.82 1423.18  Z\" fill=\"#9b7fe8\" fill-rule=\"evenodd\" fill-opacity=\"1\"/>\n",
       "<polyline clip-path=\"url(#clip402)\" style=\"stroke:#000000; stroke-linecap:round; stroke-linejoin:round; stroke-width:4; stroke-opacity:1; fill:none\" points=\"1786.82,1423.18 1786.82,1423.18 1861.98,1423.18 1786.82,1423.18 \"/>\n",
       "<path clip-path=\"url(#clip402)\" d=\"M1880.77 1423.18 L1880.77 1423.18 L1955.93 1423.18 L1955.93 1423.18 L1880.77 1423.18 L1880.77 1423.18  Z\" fill=\"#9b7fe8\" fill-rule=\"evenodd\" fill-opacity=\"1\"/>\n",
       "<polyline clip-path=\"url(#clip402)\" style=\"stroke:#000000; stroke-linecap:round; stroke-linejoin:round; stroke-width:4; stroke-opacity:1; fill:none\" points=\"1880.77,1423.18 1880.77,1423.18 1955.93,1423.18 1880.77,1423.18 \"/>\n",
       "<path clip-path=\"url(#clip402)\" d=\"M1974.72 1423.18 L1974.72 1423.18 L2049.88 1423.18 L2049.88 1423.18 L1974.72 1423.18 L1974.72 1423.18  Z\" fill=\"#9b7fe8\" fill-rule=\"evenodd\" fill-opacity=\"1\"/>\n",
       "<polyline clip-path=\"url(#clip402)\" style=\"stroke:#000000; stroke-linecap:round; stroke-linejoin:round; stroke-width:4; stroke-opacity:1; fill:none\" points=\"1974.72,1423.18 1974.72,1423.18 2049.88,1423.18 1974.72,1423.18 \"/>\n",
       "<path clip-path=\"url(#clip402)\" d=\"M2068.68 1423.18 L2068.68 1423.18 L2143.84 1423.18 L2143.84 1423.18 L2068.68 1423.18 L2068.68 1423.18  Z\" fill=\"#9b7fe8\" fill-rule=\"evenodd\" fill-opacity=\"1\"/>\n",
       "<polyline clip-path=\"url(#clip402)\" style=\"stroke:#000000; stroke-linecap:round; stroke-linejoin:round; stroke-width:4; stroke-opacity:1; fill:none\" points=\"2068.68,1423.18 2068.68,1423.18 2143.84,1423.18 2068.68,1423.18 \"/>\n",
       "<path clip-path=\"url(#clip402)\" d=\"M2162.63 1423.18 L2162.63 1423.18 L2237.79 1423.18 L2237.79 1423.18 L2162.63 1423.18 L2162.63 1423.18  Z\" fill=\"#9b7fe8\" fill-rule=\"evenodd\" fill-opacity=\"1\"/>\n",
       "<polyline clip-path=\"url(#clip402)\" style=\"stroke:#000000; stroke-linecap:round; stroke-linejoin:round; stroke-width:4; stroke-opacity:1; fill:none\" points=\"2162.63,1423.18 2162.63,1423.18 2237.79,1423.18 2162.63,1423.18 \"/>\n",
       "<circle clip-path=\"url(#clip402)\" style=\"fill:#9b7fe8; stroke:none; fill-opacity:0\" cx=\"415.098\" cy=\"1177.23\" r=\"2\"/>\n",
       "<circle clip-path=\"url(#clip402)\" style=\"fill:#9b7fe8; stroke:none; fill-opacity:0\" cx=\"509.051\" cy=\"1423.18\" r=\"2\"/>\n",
       "<circle clip-path=\"url(#clip402)\" style=\"fill:#9b7fe8; stroke:none; fill-opacity:0\" cx=\"603.004\" cy=\"1423.18\" r=\"2\"/>\n",
       "<circle clip-path=\"url(#clip402)\" style=\"fill:#9b7fe8; stroke:none; fill-opacity:0\" cx=\"696.957\" cy=\"1423.18\" r=\"2\"/>\n",
       "<circle clip-path=\"url(#clip402)\" style=\"fill:#9b7fe8; stroke:none; fill-opacity:0\" cx=\"790.911\" cy=\"1423.18\" r=\"2\"/>\n",
       "<circle clip-path=\"url(#clip402)\" style=\"fill:#9b7fe8; stroke:none; fill-opacity:0\" cx=\"884.864\" cy=\"1423.18\" r=\"2\"/>\n",
       "<circle clip-path=\"url(#clip402)\" style=\"fill:#9b7fe8; stroke:none; fill-opacity:0\" cx=\"978.817\" cy=\"1423.18\" r=\"2\"/>\n",
       "<circle clip-path=\"url(#clip402)\" style=\"fill:#9b7fe8; stroke:none; fill-opacity:0\" cx=\"1072.77\" cy=\"1423.18\" r=\"2\"/>\n",
       "<circle clip-path=\"url(#clip402)\" style=\"fill:#9b7fe8; stroke:none; fill-opacity:0\" cx=\"1166.72\" cy=\"1423.18\" r=\"2\"/>\n",
       "<circle clip-path=\"url(#clip402)\" style=\"fill:#9b7fe8; stroke:none; fill-opacity:0\" cx=\"1260.68\" cy=\"1133.51\" r=\"2\"/>\n",
       "<circle clip-path=\"url(#clip402)\" style=\"fill:#9b7fe8; stroke:none; fill-opacity:0\" cx=\"1354.63\" cy=\"1423.18\" r=\"2\"/>\n",
       "<circle clip-path=\"url(#clip402)\" style=\"fill:#9b7fe8; stroke:none; fill-opacity:0\" cx=\"1448.58\" cy=\"1423.18\" r=\"2\"/>\n",
       "<circle clip-path=\"url(#clip402)\" style=\"fill:#9b7fe8; stroke:none; fill-opacity:0\" cx=\"1542.54\" cy=\"1259.21\" r=\"2\"/>\n",
       "<circle clip-path=\"url(#clip402)\" style=\"fill:#9b7fe8; stroke:none; fill-opacity:0\" cx=\"1636.49\" cy=\"1336.82\" r=\"2\"/>\n",
       "<circle clip-path=\"url(#clip402)\" style=\"fill:#9b7fe8; stroke:none; fill-opacity:0\" cx=\"1730.44\" cy=\"1423.18\" r=\"2\"/>\n",
       "<circle clip-path=\"url(#clip402)\" style=\"fill:#9b7fe8; stroke:none; fill-opacity:0\" cx=\"1824.4\" cy=\"1423.18\" r=\"2\"/>\n",
       "<circle clip-path=\"url(#clip402)\" style=\"fill:#9b7fe8; stroke:none; fill-opacity:0\" cx=\"1918.35\" cy=\"1423.18\" r=\"2\"/>\n",
       "<circle clip-path=\"url(#clip402)\" style=\"fill:#9b7fe8; stroke:none; fill-opacity:0\" cx=\"2012.3\" cy=\"1423.18\" r=\"2\"/>\n",
       "<circle clip-path=\"url(#clip402)\" style=\"fill:#9b7fe8; stroke:none; fill-opacity:0\" cx=\"2106.26\" cy=\"1423.18\" r=\"2\"/>\n",
       "<circle clip-path=\"url(#clip402)\" style=\"fill:#9b7fe8; stroke:none; fill-opacity:0\" cx=\"2200.21\" cy=\"1423.18\" r=\"2\"/>\n",
       "<path clip-path=\"url(#clip402)\" d=\"M377.516 1364.15 L377.516 1423.18 L452.679 1423.18 L452.679 1364.15 L377.516 1364.15 L377.516 1364.15  Z\" fill=\"#608cf6\" fill-rule=\"evenodd\" fill-opacity=\"1\"/>\n",
       "<polyline clip-path=\"url(#clip402)\" style=\"stroke:#000000; stroke-linecap:round; stroke-linejoin:round; stroke-width:4; stroke-opacity:1; fill:none\" points=\"377.516,1364.15 377.516,1423.18 452.679,1423.18 452.679,1364.15 377.516,1364.15 \"/>\n",
       "<path clip-path=\"url(#clip402)\" d=\"M471.469 1423.18 L471.469 1423.18 L546.632 1423.18 L546.632 1423.18 L471.469 1423.18 L471.469 1423.18  Z\" fill=\"#608cf6\" fill-rule=\"evenodd\" fill-opacity=\"1\"/>\n",
       "<polyline clip-path=\"url(#clip402)\" style=\"stroke:#000000; stroke-linecap:round; stroke-linejoin:round; stroke-width:4; stroke-opacity:1; fill:none\" points=\"471.469,1423.18 471.469,1423.18 546.632,1423.18 471.469,1423.18 \"/>\n",
       "<path clip-path=\"url(#clip402)\" d=\"M565.423 1423.18 L565.423 1423.18 L640.585 1423.18 L640.585 1423.18 L565.423 1423.18 L565.423 1423.18  Z\" fill=\"#608cf6\" fill-rule=\"evenodd\" fill-opacity=\"1\"/>\n",
       "<polyline clip-path=\"url(#clip402)\" style=\"stroke:#000000; stroke-linecap:round; stroke-linejoin:round; stroke-width:4; stroke-opacity:1; fill:none\" points=\"565.423,1423.18 565.423,1423.18 640.585,1423.18 565.423,1423.18 \"/>\n",
       "<path clip-path=\"url(#clip402)\" d=\"M659.376 1423.18 L659.376 1423.18 L734.539 1423.18 L734.539 1423.18 L659.376 1423.18 L659.376 1423.18  Z\" fill=\"#608cf6\" fill-rule=\"evenodd\" fill-opacity=\"1\"/>\n",
       "<polyline clip-path=\"url(#clip402)\" style=\"stroke:#000000; stroke-linecap:round; stroke-linejoin:round; stroke-width:4; stroke-opacity:1; fill:none\" points=\"659.376,1423.18 659.376,1423.18 734.539,1423.18 659.376,1423.18 \"/>\n",
       "<path clip-path=\"url(#clip402)\" d=\"M753.329 1423.18 L753.329 1423.18 L828.492 1423.18 L828.492 1423.18 L753.329 1423.18 L753.329 1423.18  Z\" fill=\"#608cf6\" fill-rule=\"evenodd\" fill-opacity=\"1\"/>\n",
       "<polyline clip-path=\"url(#clip402)\" style=\"stroke:#000000; stroke-linecap:round; stroke-linejoin:round; stroke-width:4; stroke-opacity:1; fill:none\" points=\"753.329,1423.18 753.329,1423.18 828.492,1423.18 753.329,1423.18 \"/>\n",
       "<path clip-path=\"url(#clip402)\" d=\"M847.283 1423.18 L847.283 1423.18 L922.445 1423.18 L922.445 1423.18 L847.283 1423.18 L847.283 1423.18  Z\" fill=\"#608cf6\" fill-rule=\"evenodd\" fill-opacity=\"1\"/>\n",
       "<polyline clip-path=\"url(#clip402)\" style=\"stroke:#000000; stroke-linecap:round; stroke-linejoin:round; stroke-width:4; stroke-opacity:1; fill:none\" points=\"847.283,1423.18 847.283,1423.18 922.445,1423.18 847.283,1423.18 \"/>\n",
       "<path clip-path=\"url(#clip402)\" d=\"M941.236 1423.18 L941.236 1423.18 L1016.4 1423.18 L1016.4 1423.18 L941.236 1423.18 L941.236 1423.18  Z\" fill=\"#608cf6\" fill-rule=\"evenodd\" fill-opacity=\"1\"/>\n",
       "<polyline clip-path=\"url(#clip402)\" style=\"stroke:#000000; stroke-linecap:round; stroke-linejoin:round; stroke-width:4; stroke-opacity:1; fill:none\" points=\"941.236,1423.18 941.236,1423.18 1016.4,1423.18 941.236,1423.18 \"/>\n",
       "<path clip-path=\"url(#clip402)\" d=\"M1035.19 1423.18 L1035.19 1423.18 L1110.35 1423.18 L1110.35 1423.18 L1035.19 1423.18 L1035.19 1423.18  Z\" fill=\"#608cf6\" fill-rule=\"evenodd\" fill-opacity=\"1\"/>\n",
       "<polyline clip-path=\"url(#clip402)\" style=\"stroke:#000000; stroke-linecap:round; stroke-linejoin:round; stroke-width:4; stroke-opacity:1; fill:none\" points=\"1035.19,1423.18 1035.19,1423.18 1110.35,1423.18 1035.19,1423.18 \"/>\n",
       "<path clip-path=\"url(#clip402)\" d=\"M1129.14 1423.18 L1129.14 1423.18 L1204.3 1423.18 L1204.3 1423.18 L1129.14 1423.18 L1129.14 1423.18  Z\" fill=\"#608cf6\" fill-rule=\"evenodd\" fill-opacity=\"1\"/>\n",
       "<polyline clip-path=\"url(#clip402)\" style=\"stroke:#000000; stroke-linecap:round; stroke-linejoin:round; stroke-width:4; stroke-opacity:1; fill:none\" points=\"1129.14,1423.18 1129.14,1423.18 1204.3,1423.18 1129.14,1423.18 \"/>\n",
       "<path clip-path=\"url(#clip402)\" d=\"M1223.1 1227.51 L1223.1 1423.18 L1298.26 1423.18 L1298.26 1227.51 L1223.1 1227.51 L1223.1 1227.51  Z\" fill=\"#608cf6\" fill-rule=\"evenodd\" fill-opacity=\"1\"/>\n",
       "<polyline clip-path=\"url(#clip402)\" style=\"stroke:#000000; stroke-linecap:round; stroke-linejoin:round; stroke-width:4; stroke-opacity:1; fill:none\" points=\"1223.1,1227.51 1223.1,1423.18 1298.26,1423.18 1298.26,1227.51 1223.1,1227.51 \"/>\n",
       "<path clip-path=\"url(#clip402)\" d=\"M1317.05 1423.18 L1317.05 1423.18 L1392.21 1423.18 L1392.21 1423.18 L1317.05 1423.18 L1317.05 1423.18  Z\" fill=\"#608cf6\" fill-rule=\"evenodd\" fill-opacity=\"1\"/>\n",
       "<polyline clip-path=\"url(#clip402)\" style=\"stroke:#000000; stroke-linecap:round; stroke-linejoin:round; stroke-width:4; stroke-opacity:1; fill:none\" points=\"1317.05,1423.18 1317.05,1423.18 1392.21,1423.18 1317.05,1423.18 \"/>\n",
       "<path clip-path=\"url(#clip402)\" d=\"M1411 1423.18 L1411 1423.18 L1486.16 1423.18 L1486.16 1423.18 L1411 1423.18 L1411 1423.18  Z\" fill=\"#608cf6\" fill-rule=\"evenodd\" fill-opacity=\"1\"/>\n",
       "<polyline clip-path=\"url(#clip402)\" style=\"stroke:#000000; stroke-linecap:round; stroke-linejoin:round; stroke-width:4; stroke-opacity:1; fill:none\" points=\"1411,1423.18 1411,1423.18 1486.16,1423.18 1411,1423.18 \"/>\n",
       "<path clip-path=\"url(#clip402)\" d=\"M1504.96 1423.18 L1504.96 1423.18 L1580.12 1423.18 L1580.12 1423.18 L1504.96 1423.18 L1504.96 1423.18  Z\" fill=\"#608cf6\" fill-rule=\"evenodd\" fill-opacity=\"1\"/>\n",
       "<polyline clip-path=\"url(#clip402)\" style=\"stroke:#000000; stroke-linecap:round; stroke-linejoin:round; stroke-width:4; stroke-opacity:1; fill:none\" points=\"1504.96,1423.18 1504.96,1423.18 1580.12,1423.18 1504.96,1423.18 \"/>\n",
       "<path clip-path=\"url(#clip402)\" d=\"M1598.91 1423.18 L1598.91 1423.18 L1674.07 1423.18 L1674.07 1423.18 L1598.91 1423.18 L1598.91 1423.18  Z\" fill=\"#608cf6\" fill-rule=\"evenodd\" fill-opacity=\"1\"/>\n",
       "<polyline clip-path=\"url(#clip402)\" style=\"stroke:#000000; stroke-linecap:round; stroke-linejoin:round; stroke-width:4; stroke-opacity:1; fill:none\" points=\"1598.91,1423.18 1598.91,1423.18 1674.07,1423.18 1598.91,1423.18 \"/>\n",
       "<path clip-path=\"url(#clip402)\" d=\"M1692.86 1423.18 L1692.86 1423.18 L1768.02 1423.18 L1768.02 1423.18 L1692.86 1423.18 L1692.86 1423.18  Z\" fill=\"#608cf6\" fill-rule=\"evenodd\" fill-opacity=\"1\"/>\n",
       "<polyline clip-path=\"url(#clip402)\" style=\"stroke:#000000; stroke-linecap:round; stroke-linejoin:round; stroke-width:4; stroke-opacity:1; fill:none\" points=\"1692.86,1423.18 1692.86,1423.18 1768.02,1423.18 1692.86,1423.18 \"/>\n",
       "<path clip-path=\"url(#clip402)\" d=\"M1786.82 1423.18 L1786.82 1423.18 L1861.98 1423.18 L1861.98 1423.18 L1786.82 1423.18 L1786.82 1423.18  Z\" fill=\"#608cf6\" fill-rule=\"evenodd\" fill-opacity=\"1\"/>\n",
       "<polyline clip-path=\"url(#clip402)\" style=\"stroke:#000000; stroke-linecap:round; stroke-linejoin:round; stroke-width:4; stroke-opacity:1; fill:none\" points=\"1786.82,1423.18 1786.82,1423.18 1861.98,1423.18 1786.82,1423.18 \"/>\n",
       "<path clip-path=\"url(#clip402)\" d=\"M1880.77 1423.18 L1880.77 1423.18 L1955.93 1423.18 L1955.93 1423.18 L1880.77 1423.18 L1880.77 1423.18  Z\" fill=\"#608cf6\" fill-rule=\"evenodd\" fill-opacity=\"1\"/>\n",
       "<polyline clip-path=\"url(#clip402)\" style=\"stroke:#000000; stroke-linecap:round; stroke-linejoin:round; stroke-width:4; stroke-opacity:1; fill:none\" points=\"1880.77,1423.18 1880.77,1423.18 1955.93,1423.18 1880.77,1423.18 \"/>\n",
       "<path clip-path=\"url(#clip402)\" d=\"M1974.72 1423.18 L1974.72 1423.18 L2049.88 1423.18 L2049.88 1423.18 L1974.72 1423.18 L1974.72 1423.18  Z\" fill=\"#608cf6\" fill-rule=\"evenodd\" fill-opacity=\"1\"/>\n",
       "<polyline clip-path=\"url(#clip402)\" style=\"stroke:#000000; stroke-linecap:round; stroke-linejoin:round; stroke-width:4; stroke-opacity:1; fill:none\" points=\"1974.72,1423.18 1974.72,1423.18 2049.88,1423.18 1974.72,1423.18 \"/>\n",
       "<path clip-path=\"url(#clip402)\" d=\"M2068.68 1423.18 L2068.68 1423.18 L2143.84 1423.18 L2143.84 1423.18 L2068.68 1423.18 L2068.68 1423.18  Z\" fill=\"#608cf6\" fill-rule=\"evenodd\" fill-opacity=\"1\"/>\n",
       "<polyline clip-path=\"url(#clip402)\" style=\"stroke:#000000; stroke-linecap:round; stroke-linejoin:round; stroke-width:4; stroke-opacity:1; fill:none\" points=\"2068.68,1423.18 2068.68,1423.18 2143.84,1423.18 2068.68,1423.18 \"/>\n",
       "<path clip-path=\"url(#clip402)\" d=\"M2162.63 1423.18 L2162.63 1423.18 L2237.79 1423.18 L2237.79 1423.18 L2162.63 1423.18 L2162.63 1423.18  Z\" fill=\"#608cf6\" fill-rule=\"evenodd\" fill-opacity=\"1\"/>\n",
       "<polyline clip-path=\"url(#clip402)\" style=\"stroke:#000000; stroke-linecap:round; stroke-linejoin:round; stroke-width:4; stroke-opacity:1; fill:none\" points=\"2162.63,1423.18 2162.63,1423.18 2237.79,1423.18 2162.63,1423.18 \"/>\n",
       "<circle clip-path=\"url(#clip402)\" style=\"fill:#608cf6; stroke:none; fill-opacity:0\" cx=\"415.098\" cy=\"1364.15\" r=\"2\"/>\n",
       "<circle clip-path=\"url(#clip402)\" style=\"fill:#608cf6; stroke:none; fill-opacity:0\" cx=\"509.051\" cy=\"1423.18\" r=\"2\"/>\n",
       "<circle clip-path=\"url(#clip402)\" style=\"fill:#608cf6; stroke:none; fill-opacity:0\" cx=\"603.004\" cy=\"1423.18\" r=\"2\"/>\n",
       "<circle clip-path=\"url(#clip402)\" style=\"fill:#608cf6; stroke:none; fill-opacity:0\" cx=\"696.957\" cy=\"1423.18\" r=\"2\"/>\n",
       "<circle clip-path=\"url(#clip402)\" style=\"fill:#608cf6; stroke:none; fill-opacity:0\" cx=\"790.911\" cy=\"1423.18\" r=\"2\"/>\n",
       "<circle clip-path=\"url(#clip402)\" style=\"fill:#608cf6; stroke:none; fill-opacity:0\" cx=\"884.864\" cy=\"1423.18\" r=\"2\"/>\n",
       "<circle clip-path=\"url(#clip402)\" style=\"fill:#608cf6; stroke:none; fill-opacity:0\" cx=\"978.817\" cy=\"1423.18\" r=\"2\"/>\n",
       "<circle clip-path=\"url(#clip402)\" style=\"fill:#608cf6; stroke:none; fill-opacity:0\" cx=\"1072.77\" cy=\"1423.18\" r=\"2\"/>\n",
       "<circle clip-path=\"url(#clip402)\" style=\"fill:#608cf6; stroke:none; fill-opacity:0\" cx=\"1166.72\" cy=\"1423.18\" r=\"2\"/>\n",
       "<circle clip-path=\"url(#clip402)\" style=\"fill:#608cf6; stroke:none; fill-opacity:0\" cx=\"1260.68\" cy=\"1227.51\" r=\"2\"/>\n",
       "<circle clip-path=\"url(#clip402)\" style=\"fill:#608cf6; stroke:none; fill-opacity:0\" cx=\"1354.63\" cy=\"1423.18\" r=\"2\"/>\n",
       "<circle clip-path=\"url(#clip402)\" style=\"fill:#608cf6; stroke:none; fill-opacity:0\" cx=\"1448.58\" cy=\"1423.18\" r=\"2\"/>\n",
       "<circle clip-path=\"url(#clip402)\" style=\"fill:#608cf6; stroke:none; fill-opacity:0\" cx=\"1542.54\" cy=\"1423.18\" r=\"2\"/>\n",
       "<circle clip-path=\"url(#clip402)\" style=\"fill:#608cf6; stroke:none; fill-opacity:0\" cx=\"1636.49\" cy=\"1423.18\" r=\"2\"/>\n",
       "<circle clip-path=\"url(#clip402)\" style=\"fill:#608cf6; stroke:none; fill-opacity:0\" cx=\"1730.44\" cy=\"1423.18\" r=\"2\"/>\n",
       "<circle clip-path=\"url(#clip402)\" style=\"fill:#608cf6; stroke:none; fill-opacity:0\" cx=\"1824.4\" cy=\"1423.18\" r=\"2\"/>\n",
       "<circle clip-path=\"url(#clip402)\" style=\"fill:#608cf6; stroke:none; fill-opacity:0\" cx=\"1918.35\" cy=\"1423.18\" r=\"2\"/>\n",
       "<circle clip-path=\"url(#clip402)\" style=\"fill:#608cf6; stroke:none; fill-opacity:0\" cx=\"2012.3\" cy=\"1423.18\" r=\"2\"/>\n",
       "<circle clip-path=\"url(#clip402)\" style=\"fill:#608cf6; stroke:none; fill-opacity:0\" cx=\"2106.26\" cy=\"1423.18\" r=\"2\"/>\n",
       "<circle clip-path=\"url(#clip402)\" style=\"fill:#608cf6; stroke:none; fill-opacity:0\" cx=\"2200.21\" cy=\"1423.18\" r=\"2\"/>\n",
       "</svg>\n"
      ],
      "text/html": [
       "<?xml version=\"1.0\" encoding=\"utf-8\"?>\n",
       "<svg xmlns=\"http://www.w3.org/2000/svg\" xmlns:xlink=\"http://www.w3.org/1999/xlink\" width=\"600\" height=\"400\" viewBox=\"0 0 2400 1600\">\n",
       "<defs>\n",
       "  <clipPath id=\"clip450\">\n",
       "    <rect x=\"0\" y=\"0\" width=\"2400\" height=\"1600\"/>\n",
       "  </clipPath>\n",
       "</defs>\n",
       "<path clip-path=\"url(#clip450)\" d=\"M0 1600 L2400 1600 L2400 0 L0 0  Z\" fill=\"#ffffff\" fill-rule=\"evenodd\" fill-opacity=\"1\"/>\n",
       "<defs>\n",
       "  <clipPath id=\"clip451\">\n",
       "    <rect x=\"480\" y=\"0\" width=\"1681\" height=\"1600\"/>\n",
       "  </clipPath>\n",
       "</defs>\n",
       "<path clip-path=\"url(#clip450)\" d=\"M262.551 1423.18 L2352.76 1423.18 L2352.76 123.472 L262.551 123.472  Z\" fill=\"#ffffff\" fill-rule=\"evenodd\" fill-opacity=\"1\"/>\n",
       "<defs>\n",
       "  <clipPath id=\"clip452\">\n",
       "    <rect x=\"262\" y=\"123\" width=\"2091\" height=\"1301\"/>\n",
       "  </clipPath>\n",
       "</defs>\n",
       "<polyline clip-path=\"url(#clip452)\" style=\"stroke:#000000; stroke-linecap:round; stroke-linejoin:round; stroke-width:2; stroke-opacity:0.1; fill:none\" points=\"321.144,1423.18 321.144,123.472 \"/>\n",
       "<polyline clip-path=\"url(#clip452)\" style=\"stroke:#000000; stroke-linecap:round; stroke-linejoin:round; stroke-width:2; stroke-opacity:0.1; fill:none\" points=\"790.911,1423.18 790.911,123.472 \"/>\n",
       "<polyline clip-path=\"url(#clip452)\" style=\"stroke:#000000; stroke-linecap:round; stroke-linejoin:round; stroke-width:2; stroke-opacity:0.1; fill:none\" points=\"1260.68,1423.18 1260.68,123.472 \"/>\n",
       "<polyline clip-path=\"url(#clip452)\" style=\"stroke:#000000; stroke-linecap:round; stroke-linejoin:round; stroke-width:2; stroke-opacity:0.1; fill:none\" points=\"1730.44,1423.18 1730.44,123.472 \"/>\n",
       "<polyline clip-path=\"url(#clip452)\" style=\"stroke:#000000; stroke-linecap:round; stroke-linejoin:round; stroke-width:2; stroke-opacity:0.1; fill:none\" points=\"2200.21,1423.18 2200.21,123.472 \"/>\n",
       "<polyline clip-path=\"url(#clip450)\" style=\"stroke:#000000; stroke-linecap:round; stroke-linejoin:round; stroke-width:4; stroke-opacity:1; fill:none\" points=\"262.551,1423.18 2352.76,1423.18 \"/>\n",
       "<polyline clip-path=\"url(#clip450)\" style=\"stroke:#000000; stroke-linecap:round; stroke-linejoin:round; stroke-width:4; stroke-opacity:1; fill:none\" points=\"321.144,1423.18 321.144,1404.28 \"/>\n",
       "<polyline clip-path=\"url(#clip450)\" style=\"stroke:#000000; stroke-linecap:round; stroke-linejoin:round; stroke-width:4; stroke-opacity:1; fill:none\" points=\"790.911,1423.18 790.911,1404.28 \"/>\n",
       "<polyline clip-path=\"url(#clip450)\" style=\"stroke:#000000; stroke-linecap:round; stroke-linejoin:round; stroke-width:4; stroke-opacity:1; fill:none\" points=\"1260.68,1423.18 1260.68,1404.28 \"/>\n",
       "<polyline clip-path=\"url(#clip450)\" style=\"stroke:#000000; stroke-linecap:round; stroke-linejoin:round; stroke-width:4; stroke-opacity:1; fill:none\" points=\"1730.44,1423.18 1730.44,1404.28 \"/>\n",
       "<polyline clip-path=\"url(#clip450)\" style=\"stroke:#000000; stroke-linecap:round; stroke-linejoin:round; stroke-width:4; stroke-opacity:1; fill:none\" points=\"2200.21,1423.18 2200.21,1404.28 \"/>\n",
       "<path clip-path=\"url(#clip450)\" d=\"M321.144 1454.1 Q317.533 1454.1 315.704 1457.66 Q313.899 1461.2 313.899 1468.33 Q313.899 1475.44 315.704 1479.01 Q317.533 1482.55 321.144 1482.55 Q324.778 1482.55 326.584 1479.01 Q328.413 1475.44 328.413 1468.33 Q328.413 1461.2 326.584 1457.66 Q324.778 1454.1 321.144 1454.1 M321.144 1450.39 Q326.954 1450.39 330.01 1455 Q333.089 1459.58 333.089 1468.33 Q333.089 1477.06 330.01 1481.67 Q326.954 1486.25 321.144 1486.25 Q315.334 1486.25 312.255 1481.67 Q309.2 1477.06 309.2 1468.33 Q309.2 1459.58 312.255 1455 Q315.334 1450.39 321.144 1450.39 Z\" fill=\"#000000\" fill-rule=\"nonzero\" fill-opacity=\"1\" /><path clip-path=\"url(#clip450)\" d=\"M781.188 1451.02 L799.545 1451.02 L799.545 1454.96 L785.471 1454.96 L785.471 1463.43 Q786.489 1463.08 787.508 1462.92 Q788.526 1462.73 789.545 1462.73 Q795.332 1462.73 798.711 1465.9 Q802.091 1469.08 802.091 1474.49 Q802.091 1480.07 798.619 1483.17 Q795.147 1486.25 788.827 1486.25 Q786.651 1486.25 784.383 1485.88 Q782.137 1485.51 779.73 1484.77 L779.73 1480.07 Q781.813 1481.2 784.036 1481.76 Q786.258 1482.32 788.735 1482.32 Q792.739 1482.32 795.077 1480.21 Q797.415 1478.1 797.415 1474.49 Q797.415 1470.88 795.077 1468.77 Q792.739 1466.67 788.735 1466.67 Q786.86 1466.67 784.985 1467.08 Q783.133 1467.5 781.188 1468.38 L781.188 1451.02 Z\" fill=\"#000000\" fill-rule=\"nonzero\" fill-opacity=\"1\" /><path clip-path=\"url(#clip450)\" d=\"M1235.36 1481.64 L1243 1481.64 L1243 1455.28 L1234.69 1456.95 L1234.69 1452.69 L1242.96 1451.02 L1247.63 1451.02 L1247.63 1481.64 L1255.27 1481.64 L1255.27 1485.58 L1235.36 1485.58 L1235.36 1481.64 Z\" fill=\"#000000\" fill-rule=\"nonzero\" fill-opacity=\"1\" /><path clip-path=\"url(#clip450)\" d=\"M1274.72 1454.1 Q1271.11 1454.1 1269.28 1457.66 Q1267.47 1461.2 1267.47 1468.33 Q1267.47 1475.44 1269.28 1479.01 Q1271.11 1482.55 1274.72 1482.55 Q1278.35 1482.55 1280.16 1479.01 Q1281.98 1475.44 1281.98 1468.33 Q1281.98 1461.2 1280.16 1457.66 Q1278.35 1454.1 1274.72 1454.1 M1274.72 1450.39 Q1280.53 1450.39 1283.58 1455 Q1286.66 1459.58 1286.66 1468.33 Q1286.66 1477.06 1283.58 1481.67 Q1280.53 1486.25 1274.72 1486.25 Q1268.91 1486.25 1265.83 1481.67 Q1262.77 1477.06 1262.77 1468.33 Q1262.77 1459.58 1265.83 1455 Q1268.91 1450.39 1274.72 1450.39 Z\" fill=\"#000000\" fill-rule=\"nonzero\" fill-opacity=\"1\" /><path clip-path=\"url(#clip450)\" d=\"M1705.63 1481.64 L1713.27 1481.64 L1713.27 1455.28 L1704.96 1456.95 L1704.96 1452.69 L1713.22 1451.02 L1717.9 1451.02 L1717.9 1481.64 L1725.54 1481.64 L1725.54 1485.58 L1705.63 1485.58 L1705.63 1481.64 Z\" fill=\"#000000\" fill-rule=\"nonzero\" fill-opacity=\"1\" /><path clip-path=\"url(#clip450)\" d=\"M1735.03 1451.02 L1753.38 1451.02 L1753.38 1454.96 L1739.31 1454.96 L1739.31 1463.43 Q1740.33 1463.08 1741.35 1462.92 Q1742.36 1462.73 1743.38 1462.73 Q1749.17 1462.73 1752.55 1465.9 Q1755.93 1469.08 1755.93 1474.49 Q1755.93 1480.07 1752.46 1483.17 Q1748.98 1486.25 1742.67 1486.25 Q1740.49 1486.25 1738.22 1485.88 Q1735.98 1485.51 1733.57 1484.77 L1733.57 1480.07 Q1735.65 1481.2 1737.87 1481.76 Q1740.1 1482.32 1742.57 1482.32 Q1746.58 1482.32 1748.92 1480.21 Q1751.25 1478.1 1751.25 1474.49 Q1751.25 1470.88 1748.92 1468.77 Q1746.58 1466.67 1742.57 1466.67 Q1740.7 1466.67 1738.82 1467.08 Q1736.97 1467.5 1735.03 1468.38 L1735.03 1451.02 Z\" fill=\"#000000\" fill-rule=\"nonzero\" fill-opacity=\"1\" /><path clip-path=\"url(#clip450)\" d=\"M2178.98 1481.64 L2195.3 1481.64 L2195.3 1485.58 L2173.36 1485.58 L2173.36 1481.64 Q2176.02 1478.89 2180.6 1474.26 Q2185.21 1469.61 2186.39 1468.27 Q2188.64 1465.74 2189.52 1464.01 Q2190.42 1462.25 2190.42 1460.56 Q2190.42 1457.8 2188.47 1456.07 Q2186.55 1454.33 2183.45 1454.33 Q2181.25 1454.33 2178.8 1455.09 Q2176.37 1455.86 2173.59 1457.41 L2173.59 1452.69 Q2176.41 1451.55 2178.87 1450.97 Q2181.32 1450.39 2183.36 1450.39 Q2188.73 1450.39 2191.92 1453.08 Q2195.12 1455.77 2195.12 1460.26 Q2195.12 1462.39 2194.31 1464.31 Q2193.52 1466.2 2191.41 1468.8 Q2190.83 1469.47 2187.73 1472.69 Q2184.63 1475.88 2178.98 1481.64 Z\" fill=\"#000000\" fill-rule=\"nonzero\" fill-opacity=\"1\" /><path clip-path=\"url(#clip450)\" d=\"M2215.12 1454.1 Q2211.51 1454.1 2209.68 1457.66 Q2207.87 1461.2 2207.87 1468.33 Q2207.87 1475.44 2209.68 1479.01 Q2211.51 1482.55 2215.12 1482.55 Q2218.75 1482.55 2220.56 1479.01 Q2222.39 1475.44 2222.39 1468.33 Q2222.39 1461.2 2220.56 1457.66 Q2218.75 1454.1 2215.12 1454.1 M2215.12 1450.39 Q2220.93 1450.39 2223.98 1455 Q2227.06 1459.58 2227.06 1468.33 Q2227.06 1477.06 2223.98 1481.67 Q2220.93 1486.25 2215.12 1486.25 Q2209.31 1486.25 2206.23 1481.67 Q2203.17 1477.06 2203.17 1468.33 Q2203.17 1459.58 2206.23 1455 Q2209.31 1450.39 2215.12 1450.39 Z\" fill=\"#000000\" fill-rule=\"nonzero\" fill-opacity=\"1\" /><path clip-path=\"url(#clip450)\" d=\"M1185.1 1522.27 L1185.1 1532.4 L1197.16 1532.4 L1197.16 1536.95 L1185.1 1536.95 L1185.1 1556.3 Q1185.1 1560.66 1186.28 1561.9 Q1187.48 1563.14 1191.15 1563.14 L1197.16 1563.14 L1197.16 1568.04 L1191.15 1568.04 Q1184.37 1568.04 1181.79 1565.53 Q1179.21 1562.98 1179.21 1556.3 L1179.21 1536.95 L1174.91 1536.95 L1174.91 1532.4 L1179.21 1532.4 L1179.21 1522.27 L1185.1 1522.27 Z\" fill=\"#000000\" fill-rule=\"nonzero\" fill-opacity=\"1\" /><path clip-path=\"url(#clip450)\" d=\"M1234.5 1546.53 L1234.5 1568.04 L1228.64 1568.04 L1228.64 1546.72 Q1228.64 1541.66 1226.67 1539.14 Q1224.69 1536.63 1220.75 1536.63 Q1216 1536.63 1213.27 1539.65 Q1210.53 1542.68 1210.53 1547.9 L1210.53 1568.04 L1204.64 1568.04 L1204.64 1518.52 L1210.53 1518.52 L1210.53 1537.93 Q1212.63 1534.72 1215.46 1533.13 Q1218.33 1531.54 1222.05 1531.54 Q1228.19 1531.54 1231.34 1535.36 Q1234.5 1539.14 1234.5 1546.53 Z\" fill=\"#000000\" fill-rule=\"nonzero\" fill-opacity=\"1\" /><path clip-path=\"url(#clip450)\" d=\"M1266.83 1537.87 Q1265.85 1537.3 1264.67 1537.04 Q1263.52 1536.76 1262.12 1536.76 Q1257.16 1536.76 1254.48 1540 Q1251.84 1543.22 1251.84 1549.27 L1251.84 1568.04 L1245.95 1568.04 L1245.95 1532.4 L1251.84 1532.4 L1251.84 1537.93 Q1253.69 1534.69 1256.65 1533.13 Q1259.61 1531.54 1263.84 1531.54 Q1264.45 1531.54 1265.18 1531.63 Q1265.91 1531.7 1266.8 1531.85 L1266.83 1537.87 Z\" fill=\"#000000\" fill-rule=\"nonzero\" fill-opacity=\"1\" /><path clip-path=\"url(#clip450)\" d=\"M1302.04 1548.76 L1302.04 1551.62 L1275.11 1551.62 Q1275.49 1557.67 1278.74 1560.85 Q1282.02 1564 1287.84 1564 Q1291.21 1564 1294.37 1563.17 Q1297.55 1562.35 1300.67 1560.69 L1300.67 1566.23 Q1297.52 1567.57 1294.21 1568.27 Q1290.9 1568.97 1287.49 1568.97 Q1278.96 1568.97 1273.96 1564 Q1269 1559.04 1269 1550.57 Q1269 1541.82 1273.71 1536.69 Q1278.45 1531.54 1286.47 1531.54 Q1293.66 1531.54 1297.83 1536.18 Q1302.04 1540.8 1302.04 1548.76 M1296.18 1547.04 Q1296.12 1542.23 1293.47 1539.37 Q1290.86 1536.5 1286.54 1536.5 Q1281.63 1536.5 1278.67 1539.27 Q1275.75 1542.04 1275.3 1547.07 L1296.18 1547.04 Z\" fill=\"#000000\" fill-rule=\"nonzero\" fill-opacity=\"1\" /><path clip-path=\"url(#clip450)\" d=\"M1327.85 1550.12 Q1320.75 1550.12 1318.01 1551.75 Q1315.28 1553.37 1315.28 1557.29 Q1315.28 1560.4 1317.31 1562.25 Q1319.38 1564.07 1322.92 1564.07 Q1327.79 1564.07 1330.71 1560.63 Q1333.67 1557.16 1333.67 1551.43 L1333.67 1550.12 L1327.85 1550.12 M1339.53 1547.71 L1339.53 1568.04 L1333.67 1568.04 L1333.67 1562.63 Q1331.67 1565.88 1328.68 1567.44 Q1325.68 1568.97 1321.36 1568.97 Q1315.88 1568.97 1312.63 1565.91 Q1309.42 1562.82 1309.42 1557.67 Q1309.42 1551.65 1313.43 1548.6 Q1317.47 1545.54 1325.46 1545.54 L1333.67 1545.54 L1333.67 1544.97 Q1333.67 1540.93 1331 1538.73 Q1328.36 1536.5 1323.55 1536.5 Q1320.5 1536.5 1317.6 1537.23 Q1314.7 1537.97 1312.03 1539.43 L1312.03 1534.02 Q1315.24 1532.78 1318.27 1532.17 Q1321.29 1531.54 1324.16 1531.54 Q1331.89 1531.54 1335.71 1535.55 Q1339.53 1539.56 1339.53 1547.71 Z\" fill=\"#000000\" fill-rule=\"nonzero\" fill-opacity=\"1\" /><path clip-path=\"url(#clip450)\" d=\"M1375.05 1537.81 L1375.05 1518.52 L1380.91 1518.52 L1380.91 1568.04 L1375.05 1568.04 L1375.05 1562.7 Q1373.2 1565.88 1370.37 1567.44 Q1367.57 1568.97 1363.62 1568.97 Q1357.16 1568.97 1353.09 1563.81 Q1349.05 1558.65 1349.05 1550.25 Q1349.05 1541.85 1353.09 1536.69 Q1357.16 1531.54 1363.62 1531.54 Q1367.57 1531.54 1370.37 1533.1 Q1373.2 1534.62 1375.05 1537.81 M1355.09 1550.25 Q1355.09 1556.71 1357.74 1560.4 Q1360.41 1564.07 1365.06 1564.07 Q1369.7 1564.07 1372.38 1560.4 Q1375.05 1556.71 1375.05 1550.25 Q1375.05 1543.79 1372.38 1540.13 Q1369.7 1536.44 1365.06 1536.44 Q1360.41 1536.44 1357.74 1540.13 Q1355.09 1543.79 1355.09 1550.25 Z\" fill=\"#000000\" fill-rule=\"nonzero\" fill-opacity=\"1\" /><path clip-path=\"url(#clip450)\" d=\"M1392.97 1532.4 L1398.83 1532.4 L1398.83 1568.04 L1392.97 1568.04 L1392.97 1532.4 M1392.97 1518.52 L1398.83 1518.52 L1398.83 1525.93 L1392.97 1525.93 L1392.97 1518.52 Z\" fill=\"#000000\" fill-rule=\"nonzero\" fill-opacity=\"1\" /><path clip-path=\"url(#clip450)\" d=\"M1434.54 1537.81 L1434.54 1518.52 L1440.39 1518.52 L1440.39 1568.04 L1434.54 1568.04 L1434.54 1562.7 Q1432.69 1565.88 1429.86 1567.44 Q1427.06 1568.97 1423.11 1568.97 Q1416.65 1568.97 1412.58 1563.81 Q1408.53 1558.65 1408.53 1550.25 Q1408.53 1541.85 1412.58 1536.69 Q1416.65 1531.54 1423.11 1531.54 Q1427.06 1531.54 1429.86 1533.1 Q1432.69 1534.62 1434.54 1537.81 M1414.58 1550.25 Q1414.58 1556.71 1417.22 1560.4 Q1419.9 1564.07 1424.54 1564.07 Q1429.19 1564.07 1431.86 1560.4 Q1434.54 1556.71 1434.54 1550.25 Q1434.54 1543.79 1431.86 1540.13 Q1429.19 1536.44 1424.54 1536.44 Q1419.9 1536.44 1417.22 1540.13 Q1414.58 1543.79 1414.58 1550.25 Z\" fill=\"#000000\" fill-rule=\"nonzero\" fill-opacity=\"1\" /><polyline clip-path=\"url(#clip452)\" style=\"stroke:#000000; stroke-linecap:round; stroke-linejoin:round; stroke-width:2; stroke-opacity:0.1; fill:none\" points=\"262.551,1423.18 2352.76,1423.18 \"/>\n",
       "<polyline clip-path=\"url(#clip452)\" style=\"stroke:#000000; stroke-linecap:round; stroke-linejoin:round; stroke-width:2; stroke-opacity:0.1; fill:none\" points=\"262.551,1149.9 2352.76,1149.9 \"/>\n",
       "<polyline clip-path=\"url(#clip452)\" style=\"stroke:#000000; stroke-linecap:round; stroke-linejoin:round; stroke-width:2; stroke-opacity:0.1; fill:none\" points=\"262.551,876.625 2352.76,876.625 \"/>\n",
       "<polyline clip-path=\"url(#clip452)\" style=\"stroke:#000000; stroke-linecap:round; stroke-linejoin:round; stroke-width:2; stroke-opacity:0.1; fill:none\" points=\"262.551,603.347 2352.76,603.347 \"/>\n",
       "<polyline clip-path=\"url(#clip452)\" style=\"stroke:#000000; stroke-linecap:round; stroke-linejoin:round; stroke-width:2; stroke-opacity:0.1; fill:none\" points=\"262.551,330.07 2352.76,330.07 \"/>\n",
       "<polyline clip-path=\"url(#clip450)\" style=\"stroke:#000000; stroke-linecap:round; stroke-linejoin:round; stroke-width:4; stroke-opacity:1; fill:none\" points=\"262.551,1423.18 262.551,123.472 \"/>\n",
       "<polyline clip-path=\"url(#clip450)\" style=\"stroke:#000000; stroke-linecap:round; stroke-linejoin:round; stroke-width:4; stroke-opacity:1; fill:none\" points=\"262.551,1423.18 281.449,1423.18 \"/>\n",
       "<polyline clip-path=\"url(#clip450)\" style=\"stroke:#000000; stroke-linecap:round; stroke-linejoin:round; stroke-width:4; stroke-opacity:1; fill:none\" points=\"262.551,1149.9 281.449,1149.9 \"/>\n",
       "<polyline clip-path=\"url(#clip450)\" style=\"stroke:#000000; stroke-linecap:round; stroke-linejoin:round; stroke-width:4; stroke-opacity:1; fill:none\" points=\"262.551,876.625 281.449,876.625 \"/>\n",
       "<polyline clip-path=\"url(#clip450)\" style=\"stroke:#000000; stroke-linecap:round; stroke-linejoin:round; stroke-width:4; stroke-opacity:1; fill:none\" points=\"262.551,603.347 281.449,603.347 \"/>\n",
       "<polyline clip-path=\"url(#clip450)\" style=\"stroke:#000000; stroke-linecap:round; stroke-linejoin:round; stroke-width:4; stroke-opacity:1; fill:none\" points=\"262.551,330.07 281.449,330.07 \"/>\n",
       "<path clip-path=\"url(#clip450)\" d=\"M214.607 1408.98 Q210.996 1408.98 209.167 1412.54 Q207.362 1416.08 207.362 1423.21 Q207.362 1430.32 209.167 1433.89 Q210.996 1437.43 214.607 1437.43 Q218.241 1437.43 220.047 1433.89 Q221.875 1430.32 221.875 1423.21 Q221.875 1416.08 220.047 1412.54 Q218.241 1408.98 214.607 1408.98 M214.607 1405.27 Q220.417 1405.27 223.473 1409.88 Q226.551 1414.46 226.551 1423.21 Q226.551 1431.94 223.473 1436.55 Q220.417 1441.13 214.607 1441.13 Q208.797 1441.13 205.718 1436.55 Q202.662 1431.94 202.662 1423.21 Q202.662 1414.46 205.718 1409.88 Q208.797 1405.27 214.607 1405.27 Z\" fill=\"#000000\" fill-rule=\"nonzero\" fill-opacity=\"1\" /><path clip-path=\"url(#clip450)\" d=\"M148.311 1163.25 L164.63 1163.25 L164.63 1167.18 L142.686 1167.18 L142.686 1163.25 Q145.348 1160.49 149.931 1155.86 Q154.538 1151.21 155.718 1149.87 Q157.964 1147.34 158.843 1145.61 Q159.746 1143.85 159.746 1142.16 Q159.746 1139.4 157.802 1137.67 Q155.88 1135.93 152.778 1135.93 Q150.579 1135.93 148.126 1136.7 Q145.695 1137.46 142.917 1139.01 L142.917 1134.29 Q145.741 1133.15 148.195 1132.58 Q150.649 1132 152.686 1132 Q158.056 1132 161.251 1134.68 Q164.445 1137.37 164.445 1141.86 Q164.445 1143.99 163.635 1145.91 Q162.848 1147.81 160.741 1150.4 Q160.163 1151.07 157.061 1154.29 Q153.959 1157.48 148.311 1163.25 Z\" fill=\"#000000\" fill-rule=\"nonzero\" fill-opacity=\"1\" /><path clip-path=\"url(#clip450)\" d=\"M174.491 1132.62 L192.848 1132.62 L192.848 1136.56 L178.774 1136.56 L178.774 1145.03 Q179.792 1144.68 180.811 1144.52 Q181.829 1144.34 182.848 1144.34 Q188.635 1144.34 192.014 1147.51 Q195.394 1150.68 195.394 1156.09 Q195.394 1161.67 191.922 1164.77 Q188.45 1167.85 182.13 1167.85 Q179.954 1167.85 177.686 1167.48 Q175.44 1167.11 173.033 1166.37 L173.033 1161.67 Q175.116 1162.81 177.339 1163.36 Q179.561 1163.92 182.038 1163.92 Q186.042 1163.92 188.38 1161.81 Q190.718 1159.71 190.718 1156.09 Q190.718 1152.48 188.38 1150.38 Q186.042 1148.27 182.038 1148.27 Q180.163 1148.27 178.288 1148.69 Q176.436 1149.1 174.491 1149.98 L174.491 1132.62 Z\" fill=\"#000000\" fill-rule=\"nonzero\" fill-opacity=\"1\" /><path clip-path=\"url(#clip450)\" d=\"M214.607 1135.7 Q210.996 1135.7 209.167 1139.27 Q207.362 1142.81 207.362 1149.94 Q207.362 1157.04 209.167 1160.61 Q210.996 1164.15 214.607 1164.15 Q218.241 1164.15 220.047 1160.61 Q221.875 1157.04 221.875 1149.94 Q221.875 1142.81 220.047 1139.27 Q218.241 1135.7 214.607 1135.7 M214.607 1132 Q220.417 1132 223.473 1136.6 Q226.551 1141.19 226.551 1149.94 Q226.551 1158.66 223.473 1163.27 Q220.417 1167.85 214.607 1167.85 Q208.797 1167.85 205.718 1163.27 Q202.662 1158.66 202.662 1149.94 Q202.662 1141.19 205.718 1136.6 Q208.797 1132 214.607 1132 Z\" fill=\"#000000\" fill-rule=\"nonzero\" fill-opacity=\"1\" /><path clip-path=\"url(#clip450)\" d=\"M144.329 859.345 L162.686 859.345 L162.686 863.28 L148.612 863.28 L148.612 871.752 Q149.63 871.405 150.649 871.243 Q151.667 871.058 152.686 871.058 Q158.473 871.058 161.852 874.229 Q165.232 877.4 165.232 882.817 Q165.232 888.396 161.76 891.497 Q158.288 894.576 151.968 894.576 Q149.792 894.576 147.524 894.206 Q145.279 893.835 142.871 893.095 L142.871 888.396 Q144.954 889.53 147.177 890.085 Q149.399 890.641 151.876 890.641 Q155.88 890.641 158.218 888.535 Q160.556 886.428 160.556 882.817 Q160.556 879.206 158.218 877.099 Q155.88 874.993 151.876 874.993 Q150.001 874.993 148.126 875.41 Q146.274 875.826 144.329 876.706 L144.329 859.345 Z\" fill=\"#000000\" fill-rule=\"nonzero\" fill-opacity=\"1\" /><path clip-path=\"url(#clip450)\" d=\"M184.445 862.424 Q180.834 862.424 179.005 865.988 Q177.2 869.53 177.2 876.66 Q177.2 883.766 179.005 887.331 Q180.834 890.872 184.445 890.872 Q188.079 890.872 189.885 887.331 Q191.713 883.766 191.713 876.66 Q191.713 869.53 189.885 865.988 Q188.079 862.424 184.445 862.424 M184.445 858.72 Q190.255 858.72 193.311 863.326 Q196.389 867.91 196.389 876.66 Q196.389 885.386 193.311 889.993 Q190.255 894.576 184.445 894.576 Q178.635 894.576 175.556 889.993 Q172.501 885.386 172.501 876.66 Q172.501 867.91 175.556 863.326 Q178.635 858.72 184.445 858.72 Z\" fill=\"#000000\" fill-rule=\"nonzero\" fill-opacity=\"1\" /><path clip-path=\"url(#clip450)\" d=\"M214.607 862.424 Q210.996 862.424 209.167 865.988 Q207.362 869.53 207.362 876.66 Q207.362 883.766 209.167 887.331 Q210.996 890.872 214.607 890.872 Q218.241 890.872 220.047 887.331 Q221.875 883.766 221.875 876.66 Q221.875 869.53 220.047 865.988 Q218.241 862.424 214.607 862.424 M214.607 858.72 Q220.417 858.72 223.473 863.326 Q226.551 867.91 226.551 876.66 Q226.551 885.386 223.473 889.993 Q220.417 894.576 214.607 894.576 Q208.797 894.576 205.718 889.993 Q202.662 885.386 202.662 876.66 Q202.662 867.91 205.718 863.326 Q208.797 858.72 214.607 858.72 Z\" fill=\"#000000\" fill-rule=\"nonzero\" fill-opacity=\"1\" /><path clip-path=\"url(#clip450)\" d=\"M143.103 586.067 L165.325 586.067 L165.325 588.058 L152.778 620.627 L147.894 620.627 L159.7 590.003 L143.103 590.003 L143.103 586.067 Z\" fill=\"#000000\" fill-rule=\"nonzero\" fill-opacity=\"1\" /><path clip-path=\"url(#clip450)\" d=\"M174.491 586.067 L192.848 586.067 L192.848 590.003 L178.774 590.003 L178.774 598.475 Q179.792 598.128 180.811 597.965 Q181.829 597.78 182.848 597.78 Q188.635 597.78 192.014 600.952 Q195.394 604.123 195.394 609.539 Q195.394 615.118 191.922 618.22 Q188.45 621.299 182.13 621.299 Q179.954 621.299 177.686 620.928 Q175.44 620.558 173.033 619.817 L173.033 615.118 Q175.116 616.252 177.339 616.808 Q179.561 617.364 182.038 617.364 Q186.042 617.364 188.38 615.257 Q190.718 613.151 190.718 609.539 Q190.718 605.928 188.38 603.822 Q186.042 601.715 182.038 601.715 Q180.163 601.715 178.288 602.132 Q176.436 602.549 174.491 603.428 L174.491 586.067 Z\" fill=\"#000000\" fill-rule=\"nonzero\" fill-opacity=\"1\" /><path clip-path=\"url(#clip450)\" d=\"M214.607 589.146 Q210.996 589.146 209.167 592.711 Q207.362 596.253 207.362 603.382 Q207.362 610.489 209.167 614.053 Q210.996 617.595 214.607 617.595 Q218.241 617.595 220.047 614.053 Q221.875 610.489 221.875 603.382 Q221.875 596.253 220.047 592.711 Q218.241 589.146 214.607 589.146 M214.607 585.442 Q220.417 585.442 223.473 590.049 Q226.551 594.632 226.551 603.382 Q226.551 612.109 223.473 616.715 Q220.417 621.299 214.607 621.299 Q208.797 621.299 205.718 616.715 Q202.662 612.109 202.662 603.382 Q202.662 594.632 205.718 590.049 Q208.797 585.442 214.607 585.442 Z\" fill=\"#000000\" fill-rule=\"nonzero\" fill-opacity=\"1\" /><path clip-path=\"url(#clip450)\" d=\"M114.931 343.415 L122.57 343.415 L122.57 317.049 L114.26 318.716 L114.26 314.457 L122.524 312.79 L127.2 312.79 L127.2 343.415 L134.839 343.415 L134.839 347.35 L114.931 347.35 L114.931 343.415 Z\" fill=\"#000000\" fill-rule=\"nonzero\" fill-opacity=\"1\" /><path clip-path=\"url(#clip450)\" d=\"M154.283 315.869 Q150.672 315.869 148.843 319.433 Q147.038 322.975 147.038 330.105 Q147.038 337.211 148.843 340.776 Q150.672 344.318 154.283 344.318 Q157.917 344.318 159.723 340.776 Q161.552 337.211 161.552 330.105 Q161.552 322.975 159.723 319.433 Q157.917 315.869 154.283 315.869 M154.283 312.165 Q160.093 312.165 163.149 316.771 Q166.227 321.355 166.227 330.105 Q166.227 338.831 163.149 343.438 Q160.093 348.021 154.283 348.021 Q148.473 348.021 145.394 343.438 Q142.339 338.831 142.339 330.105 Q142.339 321.355 145.394 316.771 Q148.473 312.165 154.283 312.165 Z\" fill=\"#000000\" fill-rule=\"nonzero\" fill-opacity=\"1\" /><path clip-path=\"url(#clip450)\" d=\"M184.445 315.869 Q180.834 315.869 179.005 319.433 Q177.2 322.975 177.2 330.105 Q177.2 337.211 179.005 340.776 Q180.834 344.318 184.445 344.318 Q188.079 344.318 189.885 340.776 Q191.713 337.211 191.713 330.105 Q191.713 322.975 189.885 319.433 Q188.079 315.869 184.445 315.869 M184.445 312.165 Q190.255 312.165 193.311 316.771 Q196.389 321.355 196.389 330.105 Q196.389 338.831 193.311 343.438 Q190.255 348.021 184.445 348.021 Q178.635 348.021 175.556 343.438 Q172.501 338.831 172.501 330.105 Q172.501 321.355 175.556 316.771 Q178.635 312.165 184.445 312.165 Z\" fill=\"#000000\" fill-rule=\"nonzero\" fill-opacity=\"1\" /><path clip-path=\"url(#clip450)\" d=\"M214.607 315.869 Q210.996 315.869 209.167 319.433 Q207.362 322.975 207.362 330.105 Q207.362 337.211 209.167 340.776 Q210.996 344.318 214.607 344.318 Q218.241 344.318 220.047 340.776 Q221.875 337.211 221.875 330.105 Q221.875 322.975 220.047 319.433 Q218.241 315.869 214.607 315.869 M214.607 312.165 Q220.417 312.165 223.473 316.771 Q226.551 321.355 226.551 330.105 Q226.551 338.831 223.473 343.438 Q220.417 348.021 214.607 348.021 Q208.797 348.021 205.718 343.438 Q202.662 338.831 202.662 330.105 Q202.662 321.355 205.718 316.771 Q208.797 312.165 214.607 312.165 Z\" fill=\"#000000\" fill-rule=\"nonzero\" fill-opacity=\"1\" /><path clip-path=\"url(#clip450)\" d=\"M28.3562 917.525 L28.3562 911.669 L56.1743 904.348 L28.3562 897.059 L28.3562 890.153 L56.1743 882.832 L28.3562 875.543 L28.3562 869.687 L64.0042 879.013 L64.0042 885.919 L34.7856 893.59 L64.0042 901.293 L64.0042 908.199 L28.3562 917.525 Z\" fill=\"#000000\" fill-rule=\"nonzero\" fill-opacity=\"1\" /><path clip-path=\"url(#clip450)\" d=\"M32.4621 846.993 Q32.4621 851.704 36.1542 854.441 Q39.8145 857.178 46.212 857.178 Q52.6095 857.178 56.3017 854.473 Q59.9619 851.736 59.9619 846.993 Q59.9619 842.314 56.2698 839.577 Q52.5777 836.84 46.212 836.84 Q39.8781 836.84 36.186 839.577 Q32.4621 842.314 32.4621 846.993 M27.4968 846.993 Q27.4968 839.354 32.4621 834.994 Q37.4273 830.633 46.212 830.633 Q54.9649 830.633 59.9619 834.994 Q64.9272 839.354 64.9272 846.993 Q64.9272 854.664 59.9619 859.024 Q54.9649 863.353 46.212 863.353 Q37.4273 863.353 32.4621 859.024 Q27.4968 854.664 27.4968 846.993 Z\" fill=\"#000000\" fill-rule=\"nonzero\" fill-opacity=\"1\" /><path clip-path=\"url(#clip450)\" d=\"M33.8307 800.269 Q33.2578 801.256 33.0032 802.433 Q32.7167 803.579 32.7167 804.979 Q32.7167 809.945 35.9632 812.618 Q39.1779 815.26 45.2253 815.26 L64.0042 815.26 L64.0042 821.148 L28.3562 821.148 L28.3562 815.26 L33.8944 815.26 Q30.6479 813.414 29.0883 810.454 Q27.4968 807.494 27.4968 803.261 Q27.4968 802.656 27.5923 801.924 Q27.656 801.192 27.8151 800.301 L33.8307 800.269 Z\" fill=\"#000000\" fill-rule=\"nonzero\" fill-opacity=\"1\" /><path clip-path=\"url(#clip450)\" d=\"M14.479 794.349 L14.479 788.46 L43.7294 788.46 L28.3562 770.987 L28.3562 763.507 L45.0344 782.413 L64.0042 762.711 L64.0042 770.35 L46.5939 788.46 L64.0042 788.46 L64.0042 794.349 L14.479 794.349 Z\" fill=\"#000000\" fill-rule=\"nonzero\" fill-opacity=\"1\" /><path clip-path=\"url(#clip450)\" d=\"M14.479 756.377 L14.479 750.521 L64.0042 750.521 L64.0042 756.377 L14.479 756.377 Z\" fill=\"#000000\" fill-rule=\"nonzero\" fill-opacity=\"1\" /><path clip-path=\"url(#clip450)\" d=\"M32.4621 724.453 Q32.4621 729.164 36.1542 731.901 Q39.8145 734.638 46.212 734.638 Q52.6095 734.638 56.3017 731.933 Q59.9619 729.196 59.9619 724.453 Q59.9619 719.774 56.2698 717.037 Q52.5777 714.3 46.212 714.3 Q39.8781 714.3 36.186 717.037 Q32.4621 719.774 32.4621 724.453 M27.4968 724.453 Q27.4968 716.814 32.4621 712.454 Q37.4273 708.093 46.212 708.093 Q54.9649 708.093 59.9619 712.454 Q64.9272 716.814 64.9272 724.453 Q64.9272 732.124 59.9619 736.484 Q54.9649 740.813 46.212 740.813 Q37.4273 740.813 32.4621 736.484 Q27.4968 732.124 27.4968 724.453 Z\" fill=\"#000000\" fill-rule=\"nonzero\" fill-opacity=\"1\" /><path clip-path=\"url(#clip450)\" d=\"M46.0847 682.185 Q46.0847 689.283 47.7079 692.02 Q49.3312 694.757 53.2461 694.757 Q56.3653 694.757 58.2114 692.72 Q60.0256 690.651 60.0256 687.118 Q60.0256 682.249 56.5881 679.32 Q53.1188 676.36 47.3897 676.36 L46.0847 676.36 L46.0847 682.185 M43.6657 670.504 L64.0042 670.504 L64.0042 676.36 L58.5933 676.36 Q61.8398 678.366 63.3994 681.357 Q64.9272 684.349 64.9272 688.678 Q64.9272 694.153 61.8716 697.399 Q58.7843 700.614 53.6281 700.614 Q47.6125 700.614 44.5569 696.603 Q41.5014 692.561 41.5014 684.572 L41.5014 676.36 L40.9285 676.36 Q36.8862 676.36 34.6901 679.034 Q32.4621 681.676 32.4621 686.482 Q32.4621 689.537 33.1941 692.434 Q33.9262 695.33 35.3903 698.004 L29.9795 698.004 Q28.7381 694.789 28.1334 691.765 Q27.4968 688.742 27.4968 685.877 Q27.4968 678.143 31.5072 674.323 Q35.5176 670.504 43.6657 670.504 Z\" fill=\"#000000\" fill-rule=\"nonzero\" fill-opacity=\"1\" /><path clip-path=\"url(#clip450)\" d=\"M33.7671 634.983 L14.479 634.983 L14.479 629.127 L64.0042 629.127 L64.0042 634.983 L58.657 634.983 Q61.8398 636.829 63.3994 639.662 Q64.9272 642.463 64.9272 646.41 Q64.9272 652.871 59.771 656.945 Q54.6147 660.987 46.212 660.987 Q37.8093 660.987 32.6531 656.945 Q27.4968 652.871 27.4968 646.41 Q27.4968 642.463 29.0564 639.662 Q30.5842 636.829 33.7671 634.983 M46.212 654.94 Q52.6732 654.94 56.3653 652.298 Q60.0256 649.624 60.0256 644.977 Q60.0256 640.33 56.3653 637.657 Q52.6732 634.983 46.212 634.983 Q39.7508 634.983 36.0905 637.657 Q32.3984 640.33 32.3984 644.977 Q32.3984 649.624 36.0905 652.298 Q39.7508 654.94 46.212 654.94 Z\" fill=\"#000000\" fill-rule=\"nonzero\" fill-opacity=\"1\" /><path clip-path=\"url(#clip450)\" d=\"M1164.25 50.8226 Q1164.25 56.6154 1167.13 59.9372 Q1170 63.2184 1175.03 63.2184 Q1180.01 63.2184 1182.85 59.8967 Q1185.72 56.5749 1185.72 50.8226 Q1185.72 45.1514 1182.8 41.8296 Q1179.89 38.4674 1174.95 38.4674 Q1170.04 38.4674 1167.13 41.7891 Q1164.25 45.1109 1164.25 50.8226 M1186.33 62.9348 Q1183.9 66.054 1180.74 67.5529 Q1177.62 69.0112 1173.45 69.0112 Q1166.48 69.0112 1162.1 63.9881 Q1157.77 58.9245 1157.77 50.8226 Q1157.77 42.7208 1162.15 37.6572 Q1166.52 32.5936 1173.45 32.5936 Q1177.62 32.5936 1180.78 34.1329 Q1183.94 35.6318 1186.33 38.7104 L1186.33 33.4038 L1192.12 33.4038 L1192.12 63.2184 Q1198.04 62.3272 1201.36 57.8307 Q1204.72 53.2937 1204.72 46.1236 Q1204.72 41.7891 1203.42 37.9813 Q1202.17 34.1734 1199.58 30.9327 Q1195.36 25.626 1189.29 22.8309 Q1183.25 19.9953 1176.12 19.9953 Q1171.14 19.9953 1166.56 21.3321 Q1161.98 22.6284 1158.09 25.2209 Q1151.73 29.3529 1148.13 36.0774 Q1144.56 42.7613 1144.56 50.5796 Q1144.56 57.0205 1146.87 62.6513 Q1149.22 68.282 1153.64 72.576 Q1157.89 76.7889 1163.48 78.9764 Q1169.07 81.2044 1175.43 81.2044 Q1180.66 81.2044 1185.68 79.422 Q1190.74 77.6801 1194.96 74.3989 L1198.6 78.8954 Q1193.54 82.8248 1187.54 84.8907 Q1181.59 86.9972 1175.43 86.9972 Q1167.94 86.9972 1161.29 84.3236 Q1154.65 81.6905 1149.47 76.6269 Q1144.28 71.5633 1141.57 64.9198 Q1138.85 58.2358 1138.85 50.5796 Q1138.85 43.2069 1141.61 36.523 Q1144.36 29.839 1149.47 24.7753 Q1154.69 19.6307 1161.54 16.9166 Q1168.38 14.162 1176.04 14.162 Q1184.63 14.162 1191.96 17.6862 Q1199.33 21.2105 1204.31 27.692 Q1207.35 31.6619 1208.93 36.3204 Q1210.55 40.9789 1210.55 45.9616 Q1210.55 56.6154 1204.11 62.7728 Q1197.67 68.9302 1186.33 69.1732 L1186.33 62.9348 Z\" fill=\"#000000\" fill-rule=\"nonzero\" fill-opacity=\"1\" /><path clip-path=\"url(#clip450)\" d=\"M1253.09 28.5427 L1253.09 35.5912 Q1249.93 33.9709 1246.53 33.1607 Q1243.12 32.3505 1239.48 32.3505 Q1233.93 32.3505 1231.13 34.0519 Q1228.38 35.7533 1228.38 39.156 Q1228.38 41.7486 1230.36 43.2475 Q1232.35 44.7058 1238.34 46.0426 L1240.89 46.6097 Q1248.83 48.3111 1252.16 51.4303 Q1255.52 54.509 1255.52 60.0587 Q1255.52 66.3781 1250.5 70.0644 Q1245.51 73.7508 1236.76 73.7508 Q1233.12 73.7508 1229.15 73.0216 Q1225.22 72.3329 1220.84 70.9151 L1220.84 63.2184 Q1224.97 65.3654 1228.99 66.4591 Q1233 67.5124 1236.92 67.5124 Q1242.19 67.5124 1245.03 65.73 Q1247.86 63.9071 1247.86 60.6258 Q1247.86 57.5877 1245.8 55.9673 Q1243.77 54.3469 1236.84 52.8481 L1234.25 52.2405 Q1227.32 50.7821 1224.25 47.7845 Q1221.17 44.7463 1221.17 39.4801 Q1221.17 33.0797 1225.7 29.5959 Q1230.24 26.1121 1238.59 26.1121 Q1242.72 26.1121 1246.36 26.7198 Q1250.01 27.3274 1253.09 28.5427 Z\" fill=\"#000000\" fill-rule=\"nonzero\" fill-opacity=\"1\" /><path clip-path=\"url(#clip450)\" d=\"M1274.6 65.7705 L1274.6 89.8329 L1267.1 89.8329 L1267.1 27.2059 L1274.6 27.2059 L1274.6 34.0924 Q1276.95 30.0415 1280.51 28.0971 Q1284.12 26.1121 1289.1 26.1121 Q1297.36 26.1121 1302.51 32.6746 Q1307.69 39.2371 1307.69 49.9314 Q1307.69 60.6258 1302.51 67.1883 Q1297.36 73.7508 1289.1 73.7508 Q1284.12 73.7508 1280.51 71.8063 Q1276.95 69.8214 1274.6 65.7705 M1299.96 49.9314 Q1299.96 41.7081 1296.55 37.0496 Q1293.19 32.3505 1287.28 32.3505 Q1281.36 32.3505 1277.96 37.0496 Q1274.6 41.7081 1274.6 49.9314 Q1274.6 58.1548 1277.96 62.8538 Q1281.36 67.5124 1287.28 67.5124 Q1293.19 67.5124 1296.55 62.8538 Q1299.96 58.1548 1299.96 49.9314 Z\" fill=\"#000000\" fill-rule=\"nonzero\" fill-opacity=\"1\" /><path clip-path=\"url(#clip450)\" d=\"M1340.67 49.7694 Q1331.63 49.7694 1328.15 51.8354 Q1324.67 53.9013 1324.67 58.8839 Q1324.67 62.8538 1327.26 65.2034 Q1329.89 67.5124 1334.39 67.5124 Q1340.59 67.5124 1344.31 63.1374 Q1348.08 58.7219 1348.08 51.4303 L1348.08 49.7694 L1340.67 49.7694 M1355.54 46.6907 L1355.54 72.576 L1348.08 72.576 L1348.08 65.6895 Q1345.53 69.8214 1341.72 71.8063 Q1337.91 73.7508 1332.4 73.7508 Q1325.44 73.7508 1321.31 69.8619 Q1317.21 65.9325 1317.21 59.3701 Q1317.21 51.7138 1322.32 47.825 Q1327.46 43.9361 1337.63 43.9361 L1348.08 43.9361 L1348.08 43.2069 Q1348.08 38.0623 1344.68 35.2672 Q1341.32 32.4315 1335.2 32.4315 Q1331.31 32.4315 1327.62 33.3632 Q1323.94 34.295 1320.54 36.1584 L1320.54 29.2718 Q1324.63 27.692 1328.48 26.9223 Q1332.32 26.1121 1335.97 26.1121 Q1345.81 26.1121 1350.67 31.2163 Q1355.54 36.3204 1355.54 46.6907 Z\" fill=\"#000000\" fill-rule=\"nonzero\" fill-opacity=\"1\" /><path clip-path=\"url(#clip450)\" d=\"M1366.55 27.2059 L1374.01 27.2059 L1383.32 62.6108 L1392.6 27.2059 L1401.39 27.2059 L1410.71 62.6108 L1419.99 27.2059 L1427.44 27.2059 L1415.57 72.576 L1406.78 72.576 L1397.02 35.3887 L1387.21 72.576 L1378.42 72.576 L1366.55 27.2059 Z\" fill=\"#000000\" fill-rule=\"nonzero\" fill-opacity=\"1\" /><path clip-path=\"url(#clip450)\" d=\"M1476.45 45.1919 L1476.45 72.576 L1469 72.576 L1469 45.4349 Q1469 38.994 1466.49 35.7938 Q1463.98 32.5936 1458.95 32.5936 Q1452.92 32.5936 1449.44 36.4419 Q1445.95 40.2903 1445.95 46.9338 L1445.95 72.576 L1438.46 72.576 L1438.46 27.2059 L1445.95 27.2059 L1445.95 34.2544 Q1448.63 30.163 1452.23 28.1376 Q1455.88 26.1121 1460.62 26.1121 Q1468.43 26.1121 1472.44 30.9732 Q1476.45 35.7938 1476.45 45.1919 Z\" fill=\"#000000\" fill-rule=\"nonzero\" fill-opacity=\"1\" /><path clip-path=\"url(#clip452)\" d=\"M377.516 271.042 L377.516 350.839 L452.679 350.839 L452.679 271.042 L377.516 271.042 L377.516 271.042  Z\" fill=\"#009af9\" fill-rule=\"evenodd\" fill-opacity=\"1\"/>\n",
       "<polyline clip-path=\"url(#clip452)\" style=\"stroke:#000000; stroke-linecap:round; stroke-linejoin:round; stroke-width:4; stroke-opacity:1; fill:none\" points=\"377.516,271.042 377.516,350.839 452.679,350.839 452.679,271.042 377.516,271.042 \"/>\n",
       "<path clip-path=\"url(#clip452)\" d=\"M471.469 311.487 L471.469 321.325 L546.632 321.325 L546.632 311.487 L471.469 311.487 L471.469 311.487  Z\" fill=\"#009af9\" fill-rule=\"evenodd\" fill-opacity=\"1\"/>\n",
       "<polyline clip-path=\"url(#clip452)\" style=\"stroke:#000000; stroke-linecap:round; stroke-linejoin:round; stroke-width:4; stroke-opacity:1; fill:none\" points=\"471.469,311.487 471.469,321.325 546.632,321.325 546.632,311.487 471.469,311.487 \"/>\n",
       "<path clip-path=\"url(#clip452)\" d=\"M565.423 299.463 L565.423 322.418 L640.585 322.418 L640.585 299.463 L565.423 299.463 L565.423 299.463  Z\" fill=\"#009af9\" fill-rule=\"evenodd\" fill-opacity=\"1\"/>\n",
       "<polyline clip-path=\"url(#clip452)\" style=\"stroke:#000000; stroke-linecap:round; stroke-linejoin:round; stroke-width:4; stroke-opacity:1; fill:none\" points=\"565.423,299.463 565.423,322.418 640.585,322.418 640.585,299.463 565.423,299.463 \"/>\n",
       "<path clip-path=\"url(#clip452)\" d=\"M659.376 264.483 L659.376 280.88 L734.539 280.88 L734.539 264.483 L659.376 264.483 L659.376 264.483  Z\" fill=\"#009af9\" fill-rule=\"evenodd\" fill-opacity=\"1\"/>\n",
       "<polyline clip-path=\"url(#clip452)\" style=\"stroke:#000000; stroke-linecap:round; stroke-linejoin:round; stroke-width:4; stroke-opacity:1; fill:none\" points=\"659.376,264.483 659.376,280.88 734.539,280.88 734.539,264.483 659.376,264.483 \"/>\n",
       "<path clip-path=\"url(#clip452)\" d=\"M753.329 312.58 L753.329 327.884 L828.492 327.884 L828.492 312.58 L753.329 312.58 L753.329 312.58  Z\" fill=\"#009af9\" fill-rule=\"evenodd\" fill-opacity=\"1\"/>\n",
       "<polyline clip-path=\"url(#clip452)\" style=\"stroke:#000000; stroke-linecap:round; stroke-linejoin:round; stroke-width:4; stroke-opacity:1; fill:none\" points=\"753.329,312.58 753.329,327.884 828.492,327.884 828.492,312.58 753.329,312.58 \"/>\n",
       "<path clip-path=\"url(#clip452)\" d=\"M847.283 246.994 L847.283 268.856 L922.445 268.856 L922.445 246.994 L847.283 246.994 L847.283 246.994  Z\" fill=\"#009af9\" fill-rule=\"evenodd\" fill-opacity=\"1\"/>\n",
       "<polyline clip-path=\"url(#clip452)\" style=\"stroke:#000000; stroke-linecap:round; stroke-linejoin:round; stroke-width:4; stroke-opacity:1; fill:none\" points=\"847.283,246.994 847.283,268.856 922.445,268.856 922.445,246.994 847.283,246.994 \"/>\n",
       "<path clip-path=\"url(#clip452)\" d=\"M941.236 287.439 L941.236 314.766 L1016.4 314.766 L1016.4 287.439 L941.236 287.439 L941.236 287.439  Z\" fill=\"#009af9\" fill-rule=\"evenodd\" fill-opacity=\"1\"/>\n",
       "<polyline clip-path=\"url(#clip452)\" style=\"stroke:#000000; stroke-linecap:round; stroke-linejoin:round; stroke-width:4; stroke-opacity:1; fill:none\" points=\"941.236,287.439 941.236,314.766 1016.4,314.766 1016.4,287.439 941.236,287.439 \"/>\n",
       "<path clip-path=\"url(#clip452)\" d=\"M1035.19 254.645 L1035.19 261.204 L1110.35 261.204 L1110.35 254.645 L1035.19 254.645 L1035.19 254.645  Z\" fill=\"#009af9\" fill-rule=\"evenodd\" fill-opacity=\"1\"/>\n",
       "<polyline clip-path=\"url(#clip452)\" style=\"stroke:#000000; stroke-linecap:round; stroke-linejoin:round; stroke-width:4; stroke-opacity:1; fill:none\" points=\"1035.19,254.645 1035.19,261.204 1110.35,261.204 1110.35,254.645 1035.19,254.645 \"/>\n",
       "<path clip-path=\"url(#clip452)\" d=\"M1129.14 229.504 L1129.14 230.597 L1204.3 230.597 L1204.3 229.504 L1129.14 229.504 L1129.14 229.504  Z\" fill=\"#009af9\" fill-rule=\"evenodd\" fill-opacity=\"1\"/>\n",
       "<polyline clip-path=\"url(#clip452)\" style=\"stroke:#000000; stroke-linecap:round; stroke-linejoin:round; stroke-width:4; stroke-opacity:1; fill:none\" points=\"1129.14,229.504 1129.14,230.597 1204.3,230.597 1204.3,229.504 1129.14,229.504 \"/>\n",
       "<path clip-path=\"url(#clip452)\" d=\"M1223.1 171.569 L1223.1 177.035 L1298.26 177.035 L1298.26 171.569 L1223.1 171.569 L1223.1 171.569  Z\" fill=\"#009af9\" fill-rule=\"evenodd\" fill-opacity=\"1\"/>\n",
       "<polyline clip-path=\"url(#clip452)\" style=\"stroke:#000000; stroke-linecap:round; stroke-linejoin:round; stroke-width:4; stroke-opacity:1; fill:none\" points=\"1223.1,171.569 1223.1,177.035 1298.26,177.035 1298.26,171.569 1223.1,171.569 \"/>\n",
       "<path clip-path=\"url(#clip452)\" d=\"M1317.05 167.197 L1317.05 170.476 L1392.21 170.476 L1392.21 167.197 L1317.05 167.197 L1317.05 167.197  Z\" fill=\"#009af9\" fill-rule=\"evenodd\" fill-opacity=\"1\"/>\n",
       "<polyline clip-path=\"url(#clip452)\" style=\"stroke:#000000; stroke-linecap:round; stroke-linejoin:round; stroke-width:4; stroke-opacity:1; fill:none\" points=\"1317.05,167.197 1317.05,170.476 1392.21,170.476 1392.21,167.197 1317.05,167.197 \"/>\n",
       "<path clip-path=\"url(#clip452)\" d=\"M1411 789.176 L1411 796.828 L1486.16 796.828 L1486.16 789.176 L1411 789.176 L1411 789.176  Z\" fill=\"#009af9\" fill-rule=\"evenodd\" fill-opacity=\"1\"/>\n",
       "<polyline clip-path=\"url(#clip452)\" style=\"stroke:#000000; stroke-linecap:round; stroke-linejoin:round; stroke-width:4; stroke-opacity:1; fill:none\" points=\"1411,789.176 1411,796.828 1486.16,796.828 1486.16,789.176 1411,789.176 \"/>\n",
       "<path clip-path=\"url(#clip452)\" d=\"M1504.96 123.472 L1504.96 125.658 L1580.12 125.658 L1580.12 123.472 L1504.96 123.472 L1504.96 123.472  Z\" fill=\"#009af9\" fill-rule=\"evenodd\" fill-opacity=\"1\"/>\n",
       "<polyline clip-path=\"url(#clip452)\" style=\"stroke:#000000; stroke-linecap:round; stroke-linejoin:round; stroke-width:4; stroke-opacity:1; fill:none\" points=\"1504.96,123.472 1504.96,125.658 1580.12,125.658 1580.12,123.472 1504.96,123.472 \"/>\n",
       "<path clip-path=\"url(#clip452)\" d=\"M1598.91 244.807 L1598.91 253.552 L1674.07 253.552 L1674.07 244.807 L1598.91 244.807 L1598.91 244.807  Z\" fill=\"#009af9\" fill-rule=\"evenodd\" fill-opacity=\"1\"/>\n",
       "<polyline clip-path=\"url(#clip452)\" style=\"stroke:#000000; stroke-linecap:round; stroke-linejoin:round; stroke-width:4; stroke-opacity:1; fill:none\" points=\"1598.91,244.807 1598.91,253.552 1674.07,253.552 1674.07,244.807 1598.91,244.807 \"/>\n",
       "<path clip-path=\"url(#clip452)\" d=\"M1692.86 343.187 L1692.86 356.305 L1768.02 356.305 L1768.02 343.187 L1692.86 343.187 L1692.86 343.187  Z\" fill=\"#009af9\" fill-rule=\"evenodd\" fill-opacity=\"1\"/>\n",
       "<polyline clip-path=\"url(#clip452)\" style=\"stroke:#000000; stroke-linecap:round; stroke-linejoin:round; stroke-width:4; stroke-opacity:1; fill:none\" points=\"1692.86,343.187 1692.86,356.305 1768.02,356.305 1768.02,343.187 1692.86,343.187 \"/>\n",
       "<path clip-path=\"url(#clip452)\" d=\"M1786.82 218.573 L1786.82 229.504 L1861.98 229.504 L1861.98 218.573 L1786.82 218.573 L1786.82 218.573  Z\" fill=\"#009af9\" fill-rule=\"evenodd\" fill-opacity=\"1\"/>\n",
       "<polyline clip-path=\"url(#clip452)\" style=\"stroke:#000000; stroke-linecap:round; stroke-linejoin:round; stroke-width:4; stroke-opacity:1; fill:none\" points=\"1786.82,218.573 1786.82,229.504 1861.98,229.504 1861.98,218.573 1786.82,218.573 \"/>\n",
       "<path clip-path=\"url(#clip452)\" d=\"M1880.77 168.29 L1880.77 172.662 L1955.93 172.662 L1955.93 168.29 L1880.77 168.29 L1880.77 168.29  Z\" fill=\"#009af9\" fill-rule=\"evenodd\" fill-opacity=\"1\"/>\n",
       "<polyline clip-path=\"url(#clip452)\" style=\"stroke:#000000; stroke-linecap:round; stroke-linejoin:round; stroke-width:4; stroke-opacity:1; fill:none\" points=\"1880.77,168.29 1880.77,172.662 1955.93,172.662 1955.93,168.29 1880.77,168.29 \"/>\n",
       "<path clip-path=\"url(#clip452)\" d=\"M1974.72 308.208 L1974.72 326.791 L2049.88 326.791 L2049.88 308.208 L1974.72 308.208 L1974.72 308.208  Z\" fill=\"#009af9\" fill-rule=\"evenodd\" fill-opacity=\"1\"/>\n",
       "<polyline clip-path=\"url(#clip452)\" style=\"stroke:#000000; stroke-linecap:round; stroke-linejoin:round; stroke-width:4; stroke-opacity:1; fill:none\" points=\"1974.72,308.208 1974.72,326.791 2049.88,326.791 2049.88,308.208 1974.72,308.208 \"/>\n",
       "<path clip-path=\"url(#clip452)\" d=\"M2068.68 741.079 L2068.68 806.666 L2143.84 806.666 L2143.84 741.079 L2068.68 741.079 L2068.68 741.079  Z\" fill=\"#009af9\" fill-rule=\"evenodd\" fill-opacity=\"1\"/>\n",
       "<polyline clip-path=\"url(#clip452)\" style=\"stroke:#000000; stroke-linecap:round; stroke-linejoin:round; stroke-width:4; stroke-opacity:1; fill:none\" points=\"2068.68,741.079 2068.68,806.666 2143.84,806.666 2143.84,741.079 2068.68,741.079 \"/>\n",
       "<path clip-path=\"url(#clip452)\" d=\"M2162.63 738.893 L2162.63 769.5 L2237.79 769.5 L2237.79 738.893 L2162.63 738.893 L2162.63 738.893  Z\" fill=\"#009af9\" fill-rule=\"evenodd\" fill-opacity=\"1\"/>\n",
       "<polyline clip-path=\"url(#clip452)\" style=\"stroke:#000000; stroke-linecap:round; stroke-linejoin:round; stroke-width:4; stroke-opacity:1; fill:none\" points=\"2162.63,738.893 2162.63,769.5 2237.79,769.5 2237.79,738.893 2162.63,738.893 \"/>\n",
       "<circle clip-path=\"url(#clip452)\" style=\"fill:#009af9; stroke:none; fill-opacity:0\" cx=\"415.098\" cy=\"271.042\" r=\"2\"/>\n",
       "<circle clip-path=\"url(#clip452)\" style=\"fill:#009af9; stroke:none; fill-opacity:0\" cx=\"509.051\" cy=\"311.487\" r=\"2\"/>\n",
       "<circle clip-path=\"url(#clip452)\" style=\"fill:#009af9; stroke:none; fill-opacity:0\" cx=\"603.004\" cy=\"299.463\" r=\"2\"/>\n",
       "<circle clip-path=\"url(#clip452)\" style=\"fill:#009af9; stroke:none; fill-opacity:0\" cx=\"696.957\" cy=\"264.483\" r=\"2\"/>\n",
       "<circle clip-path=\"url(#clip452)\" style=\"fill:#009af9; stroke:none; fill-opacity:0\" cx=\"790.911\" cy=\"312.58\" r=\"2\"/>\n",
       "<circle clip-path=\"url(#clip452)\" style=\"fill:#009af9; stroke:none; fill-opacity:0\" cx=\"884.864\" cy=\"246.994\" r=\"2\"/>\n",
       "<circle clip-path=\"url(#clip452)\" style=\"fill:#009af9; stroke:none; fill-opacity:0\" cx=\"978.817\" cy=\"287.439\" r=\"2\"/>\n",
       "<circle clip-path=\"url(#clip452)\" style=\"fill:#009af9; stroke:none; fill-opacity:0\" cx=\"1072.77\" cy=\"254.645\" r=\"2\"/>\n",
       "<circle clip-path=\"url(#clip452)\" style=\"fill:#009af9; stroke:none; fill-opacity:0\" cx=\"1166.72\" cy=\"229.504\" r=\"2\"/>\n",
       "<circle clip-path=\"url(#clip452)\" style=\"fill:#009af9; stroke:none; fill-opacity:0\" cx=\"1260.68\" cy=\"171.569\" r=\"2\"/>\n",
       "<circle clip-path=\"url(#clip452)\" style=\"fill:#009af9; stroke:none; fill-opacity:0\" cx=\"1354.63\" cy=\"167.197\" r=\"2\"/>\n",
       "<circle clip-path=\"url(#clip452)\" style=\"fill:#009af9; stroke:none; fill-opacity:0\" cx=\"1448.58\" cy=\"789.176\" r=\"2\"/>\n",
       "<circle clip-path=\"url(#clip452)\" style=\"fill:#009af9; stroke:none; fill-opacity:0\" cx=\"1542.54\" cy=\"123.472\" r=\"2\"/>\n",
       "<circle clip-path=\"url(#clip452)\" style=\"fill:#009af9; stroke:none; fill-opacity:0\" cx=\"1636.49\" cy=\"244.807\" r=\"2\"/>\n",
       "<circle clip-path=\"url(#clip452)\" style=\"fill:#009af9; stroke:none; fill-opacity:0\" cx=\"1730.44\" cy=\"343.187\" r=\"2\"/>\n",
       "<circle clip-path=\"url(#clip452)\" style=\"fill:#009af9; stroke:none; fill-opacity:0\" cx=\"1824.4\" cy=\"218.573\" r=\"2\"/>\n",
       "<circle clip-path=\"url(#clip452)\" style=\"fill:#009af9; stroke:none; fill-opacity:0\" cx=\"1918.35\" cy=\"168.29\" r=\"2\"/>\n",
       "<circle clip-path=\"url(#clip452)\" style=\"fill:#009af9; stroke:none; fill-opacity:0\" cx=\"2012.3\" cy=\"308.208\" r=\"2\"/>\n",
       "<circle clip-path=\"url(#clip452)\" style=\"fill:#009af9; stroke:none; fill-opacity:0\" cx=\"2106.26\" cy=\"741.079\" r=\"2\"/>\n",
       "<circle clip-path=\"url(#clip452)\" style=\"fill:#009af9; stroke:none; fill-opacity:0\" cx=\"2200.21\" cy=\"738.893\" r=\"2\"/>\n",
       "<path clip-path=\"url(#clip452)\" d=\"M377.516 350.839 L377.516 389.098 L452.679 389.098 L452.679 350.839 L377.516 350.839 L377.516 350.839  Z\" fill=\"#e26f46\" fill-rule=\"evenodd\" fill-opacity=\"1\"/>\n",
       "<polyline clip-path=\"url(#clip452)\" style=\"stroke:#000000; stroke-linecap:round; stroke-linejoin:round; stroke-width:4; stroke-opacity:1; fill:none\" points=\"377.516,350.839 377.516,389.098 452.679,389.098 452.679,350.839 377.516,350.839 \"/>\n",
       "<path clip-path=\"url(#clip452)\" d=\"M471.469 321.325 L471.469 524.643 L546.632 524.643 L546.632 321.325 L471.469 321.325 L471.469 321.325  Z\" fill=\"#e26f46\" fill-rule=\"evenodd\" fill-opacity=\"1\"/>\n",
       "<polyline clip-path=\"url(#clip452)\" style=\"stroke:#000000; stroke-linecap:round; stroke-linejoin:round; stroke-width:4; stroke-opacity:1; fill:none\" points=\"471.469,321.325 471.469,524.643 546.632,524.643 546.632,321.325 471.469,321.325 \"/>\n",
       "<path clip-path=\"url(#clip452)\" d=\"M565.423 322.418 L565.423 373.794 L640.585 373.794 L640.585 322.418 L565.423 322.418 L565.423 322.418  Z\" fill=\"#e26f46\" fill-rule=\"evenodd\" fill-opacity=\"1\"/>\n",
       "<polyline clip-path=\"url(#clip452)\" style=\"stroke:#000000; stroke-linecap:round; stroke-linejoin:round; stroke-width:4; stroke-opacity:1; fill:none\" points=\"565.423,322.418 565.423,373.794 640.585,373.794 640.585,322.418 565.423,322.418 \"/>\n",
       "<path clip-path=\"url(#clip452)\" d=\"M659.376 280.88 L659.376 482.012 L734.539 482.012 L734.539 280.88 L659.376 280.88 L659.376 280.88  Z\" fill=\"#e26f46\" fill-rule=\"evenodd\" fill-opacity=\"1\"/>\n",
       "<polyline clip-path=\"url(#clip452)\" style=\"stroke:#000000; stroke-linecap:round; stroke-linejoin:round; stroke-width:4; stroke-opacity:1; fill:none\" points=\"659.376,280.88 659.376,482.012 734.539,482.012 734.539,280.88 659.376,280.88 \"/>\n",
       "<path clip-path=\"url(#clip452)\" d=\"M753.329 327.884 L753.329 345.373 L828.492 345.373 L828.492 327.884 L753.329 327.884 L753.329 327.884  Z\" fill=\"#e26f46\" fill-rule=\"evenodd\" fill-opacity=\"1\"/>\n",
       "<polyline clip-path=\"url(#clip452)\" style=\"stroke:#000000; stroke-linecap:round; stroke-linejoin:round; stroke-width:4; stroke-opacity:1; fill:none\" points=\"753.329,327.884 753.329,345.373 828.492,345.373 828.492,327.884 753.329,327.884 \"/>\n",
       "<path clip-path=\"url(#clip452)\" d=\"M847.283 268.856 L847.283 336.629 L922.445 336.629 L922.445 268.856 L847.283 268.856 L847.283 268.856  Z\" fill=\"#e26f46\" fill-rule=\"evenodd\" fill-opacity=\"1\"/>\n",
       "<polyline clip-path=\"url(#clip452)\" style=\"stroke:#000000; stroke-linecap:round; stroke-linejoin:round; stroke-width:4; stroke-opacity:1; fill:none\" points=\"847.283,268.856 847.283,336.629 922.445,336.629 922.445,268.856 847.283,268.856 \"/>\n",
       "<path clip-path=\"url(#clip452)\" d=\"M941.236 314.766 L941.236 421.891 L1016.4 421.891 L1016.4 314.766 L941.236 314.766 L941.236 314.766  Z\" fill=\"#e26f46\" fill-rule=\"evenodd\" fill-opacity=\"1\"/>\n",
       "<polyline clip-path=\"url(#clip452)\" style=\"stroke:#000000; stroke-linecap:round; stroke-linejoin:round; stroke-width:4; stroke-opacity:1; fill:none\" points=\"941.236,314.766 941.236,421.891 1016.4,421.891 1016.4,314.766 941.236,314.766 \"/>\n",
       "<path clip-path=\"url(#clip452)\" d=\"M1035.19 261.204 L1035.19 287.439 L1110.35 287.439 L1110.35 261.204 L1035.19 261.204 L1035.19 261.204  Z\" fill=\"#e26f46\" fill-rule=\"evenodd\" fill-opacity=\"1\"/>\n",
       "<polyline clip-path=\"url(#clip452)\" style=\"stroke:#000000; stroke-linecap:round; stroke-linejoin:round; stroke-width:4; stroke-opacity:1; fill:none\" points=\"1035.19,261.204 1035.19,287.439 1110.35,287.439 1110.35,261.204 1035.19,261.204 \"/>\n",
       "<path clip-path=\"url(#clip452)\" d=\"M1129.14 230.597 L1129.14 285.252 L1204.3 285.252 L1204.3 230.597 L1129.14 230.597 L1129.14 230.597  Z\" fill=\"#e26f46\" fill-rule=\"evenodd\" fill-opacity=\"1\"/>\n",
       "<polyline clip-path=\"url(#clip452)\" style=\"stroke:#000000; stroke-linecap:round; stroke-linejoin:round; stroke-width:4; stroke-opacity:1; fill:none\" points=\"1129.14,230.597 1129.14,285.252 1204.3,285.252 1204.3,230.597 1129.14,230.597 \"/>\n",
       "<path clip-path=\"url(#clip452)\" d=\"M1223.1 177.035 L1223.1 210.921 L1298.26 210.921 L1298.26 177.035 L1223.1 177.035 L1223.1 177.035  Z\" fill=\"#e26f46\" fill-rule=\"evenodd\" fill-opacity=\"1\"/>\n",
       "<polyline clip-path=\"url(#clip452)\" style=\"stroke:#000000; stroke-linecap:round; stroke-linejoin:round; stroke-width:4; stroke-opacity:1; fill:none\" points=\"1223.1,177.035 1223.1,210.921 1298.26,210.921 1298.26,177.035 1223.1,177.035 \"/>\n",
       "<path clip-path=\"url(#clip452)\" d=\"M1317.05 170.476 L1317.05 375.981 L1392.21 375.981 L1392.21 170.476 L1317.05 170.476 L1317.05 170.476  Z\" fill=\"#e26f46\" fill-rule=\"evenodd\" fill-opacity=\"1\"/>\n",
       "<polyline clip-path=\"url(#clip452)\" style=\"stroke:#000000; stroke-linecap:round; stroke-linejoin:round; stroke-width:4; stroke-opacity:1; fill:none\" points=\"1317.05,170.476 1317.05,375.981 1392.21,375.981 1392.21,170.476 1317.05,170.476 \"/>\n",
       "<path clip-path=\"url(#clip452)\" d=\"M1411 796.828 L1411 1006.7 L1486.16 1006.7 L1486.16 796.828 L1411 796.828 L1411 796.828  Z\" fill=\"#e26f46\" fill-rule=\"evenodd\" fill-opacity=\"1\"/>\n",
       "<polyline clip-path=\"url(#clip452)\" style=\"stroke:#000000; stroke-linecap:round; stroke-linejoin:round; stroke-width:4; stroke-opacity:1; fill:none\" points=\"1411,796.828 1411,1006.7 1486.16,1006.7 1486.16,796.828 1411,796.828 \"/>\n",
       "<path clip-path=\"url(#clip452)\" d=\"M1504.96 125.658 L1504.96 155.172 L1580.12 155.172 L1580.12 125.658 L1504.96 125.658 L1504.96 125.658  Z\" fill=\"#e26f46\" fill-rule=\"evenodd\" fill-opacity=\"1\"/>\n",
       "<polyline clip-path=\"url(#clip452)\" style=\"stroke:#000000; stroke-linecap:round; stroke-linejoin:round; stroke-width:4; stroke-opacity:1; fill:none\" points=\"1504.96,125.658 1504.96,155.172 1580.12,155.172 1580.12,125.658 1504.96,125.658 \"/>\n",
       "<path clip-path=\"url(#clip452)\" d=\"M1598.91 253.552 L1598.91 298.37 L1674.07 298.37 L1674.07 253.552 L1598.91 253.552 L1598.91 253.552  Z\" fill=\"#e26f46\" fill-rule=\"evenodd\" fill-opacity=\"1\"/>\n",
       "<polyline clip-path=\"url(#clip452)\" style=\"stroke:#000000; stroke-linecap:round; stroke-linejoin:round; stroke-width:4; stroke-opacity:1; fill:none\" points=\"1598.91,253.552 1598.91,298.37 1674.07,298.37 1674.07,253.552 1598.91,253.552 \"/>\n",
       "<path clip-path=\"url(#clip452)\" d=\"M1692.86 356.305 L1692.86 389.098 L1768.02 389.098 L1768.02 356.305 L1692.86 356.305 L1692.86 356.305  Z\" fill=\"#e26f46\" fill-rule=\"evenodd\" fill-opacity=\"1\"/>\n",
       "<polyline clip-path=\"url(#clip452)\" style=\"stroke:#000000; stroke-linecap:round; stroke-linejoin:round; stroke-width:4; stroke-opacity:1; fill:none\" points=\"1692.86,356.305 1692.86,389.098 1768.02,389.098 1768.02,356.305 1692.86,356.305 \"/>\n",
       "<path clip-path=\"url(#clip452)\" d=\"M1786.82 229.504 L1786.82 328.977 L1861.98 328.977 L1861.98 229.504 L1786.82 229.504 L1786.82 229.504  Z\" fill=\"#e26f46\" fill-rule=\"evenodd\" fill-opacity=\"1\"/>\n",
       "<polyline clip-path=\"url(#clip452)\" style=\"stroke:#000000; stroke-linecap:round; stroke-linejoin:round; stroke-width:4; stroke-opacity:1; fill:none\" points=\"1786.82,229.504 1786.82,328.977 1861.98,328.977 1861.98,229.504 1786.82,229.504 \"/>\n",
       "<path clip-path=\"url(#clip452)\" d=\"M1880.77 172.662 L1880.77 239.342 L1955.93 239.342 L1955.93 172.662 L1880.77 172.662 L1880.77 172.662  Z\" fill=\"#e26f46\" fill-rule=\"evenodd\" fill-opacity=\"1\"/>\n",
       "<polyline clip-path=\"url(#clip452)\" style=\"stroke:#000000; stroke-linecap:round; stroke-linejoin:round; stroke-width:4; stroke-opacity:1; fill:none\" points=\"1880.77,172.662 1880.77,239.342 1955.93,239.342 1955.93,172.662 1880.77,172.662 \"/>\n",
       "<path clip-path=\"url(#clip452)\" d=\"M1974.72 326.791 L1974.72 503.874 L2049.88 503.874 L2049.88 326.791 L1974.72 326.791 L1974.72 326.791  Z\" fill=\"#e26f46\" fill-rule=\"evenodd\" fill-opacity=\"1\"/>\n",
       "<polyline clip-path=\"url(#clip452)\" style=\"stroke:#000000; stroke-linecap:round; stroke-linejoin:round; stroke-width:4; stroke-opacity:1; fill:none\" points=\"1974.72,326.791 1974.72,503.874 2049.88,503.874 2049.88,326.791 1974.72,326.791 \"/>\n",
       "<path clip-path=\"url(#clip452)\" d=\"M2068.68 806.666 L2068.68 996.867 L2143.84 996.867 L2143.84 806.666 L2068.68 806.666 L2068.68 806.666  Z\" fill=\"#e26f46\" fill-rule=\"evenodd\" fill-opacity=\"1\"/>\n",
       "<polyline clip-path=\"url(#clip452)\" style=\"stroke:#000000; stroke-linecap:round; stroke-linejoin:round; stroke-width:4; stroke-opacity:1; fill:none\" points=\"2068.68,806.666 2068.68,996.867 2143.84,996.867 2143.84,806.666 2068.68,806.666 \"/>\n",
       "<path clip-path=\"url(#clip452)\" d=\"M2162.63 769.5 L2162.63 793.549 L2237.79 793.549 L2237.79 769.5 L2162.63 769.5 L2162.63 769.5  Z\" fill=\"#e26f46\" fill-rule=\"evenodd\" fill-opacity=\"1\"/>\n",
       "<polyline clip-path=\"url(#clip452)\" style=\"stroke:#000000; stroke-linecap:round; stroke-linejoin:round; stroke-width:4; stroke-opacity:1; fill:none\" points=\"2162.63,769.5 2162.63,793.549 2237.79,793.549 2237.79,769.5 2162.63,769.5 \"/>\n",
       "<circle clip-path=\"url(#clip452)\" style=\"fill:#e26f46; stroke:none; fill-opacity:0\" cx=\"415.098\" cy=\"350.839\" r=\"2\"/>\n",
       "<circle clip-path=\"url(#clip452)\" style=\"fill:#e26f46; stroke:none; fill-opacity:0\" cx=\"509.051\" cy=\"321.325\" r=\"2\"/>\n",
       "<circle clip-path=\"url(#clip452)\" style=\"fill:#e26f46; stroke:none; fill-opacity:0\" cx=\"603.004\" cy=\"322.418\" r=\"2\"/>\n",
       "<circle clip-path=\"url(#clip452)\" style=\"fill:#e26f46; stroke:none; fill-opacity:0\" cx=\"696.957\" cy=\"280.88\" r=\"2\"/>\n",
       "<circle clip-path=\"url(#clip452)\" style=\"fill:#e26f46; stroke:none; fill-opacity:0\" cx=\"790.911\" cy=\"327.884\" r=\"2\"/>\n",
       "<circle clip-path=\"url(#clip452)\" style=\"fill:#e26f46; stroke:none; fill-opacity:0\" cx=\"884.864\" cy=\"268.856\" r=\"2\"/>\n",
       "<circle clip-path=\"url(#clip452)\" style=\"fill:#e26f46; stroke:none; fill-opacity:0\" cx=\"978.817\" cy=\"314.766\" r=\"2\"/>\n",
       "<circle clip-path=\"url(#clip452)\" style=\"fill:#e26f46; stroke:none; fill-opacity:0\" cx=\"1072.77\" cy=\"261.204\" r=\"2\"/>\n",
       "<circle clip-path=\"url(#clip452)\" style=\"fill:#e26f46; stroke:none; fill-opacity:0\" cx=\"1166.72\" cy=\"230.597\" r=\"2\"/>\n",
       "<circle clip-path=\"url(#clip452)\" style=\"fill:#e26f46; stroke:none; fill-opacity:0\" cx=\"1260.68\" cy=\"177.035\" r=\"2\"/>\n",
       "<circle clip-path=\"url(#clip452)\" style=\"fill:#e26f46; stroke:none; fill-opacity:0\" cx=\"1354.63\" cy=\"170.476\" r=\"2\"/>\n",
       "<circle clip-path=\"url(#clip452)\" style=\"fill:#e26f46; stroke:none; fill-opacity:0\" cx=\"1448.58\" cy=\"796.828\" r=\"2\"/>\n",
       "<circle clip-path=\"url(#clip452)\" style=\"fill:#e26f46; stroke:none; fill-opacity:0\" cx=\"1542.54\" cy=\"125.658\" r=\"2\"/>\n",
       "<circle clip-path=\"url(#clip452)\" style=\"fill:#e26f46; stroke:none; fill-opacity:0\" cx=\"1636.49\" cy=\"253.552\" r=\"2\"/>\n",
       "<circle clip-path=\"url(#clip452)\" style=\"fill:#e26f46; stroke:none; fill-opacity:0\" cx=\"1730.44\" cy=\"356.305\" r=\"2\"/>\n",
       "<circle clip-path=\"url(#clip452)\" style=\"fill:#e26f46; stroke:none; fill-opacity:0\" cx=\"1824.4\" cy=\"229.504\" r=\"2\"/>\n",
       "<circle clip-path=\"url(#clip452)\" style=\"fill:#e26f46; stroke:none; fill-opacity:0\" cx=\"1918.35\" cy=\"172.662\" r=\"2\"/>\n",
       "<circle clip-path=\"url(#clip452)\" style=\"fill:#e26f46; stroke:none; fill-opacity:0\" cx=\"2012.3\" cy=\"326.791\" r=\"2\"/>\n",
       "<circle clip-path=\"url(#clip452)\" style=\"fill:#e26f46; stroke:none; fill-opacity:0\" cx=\"2106.26\" cy=\"806.666\" r=\"2\"/>\n",
       "<circle clip-path=\"url(#clip452)\" style=\"fill:#e26f46; stroke:none; fill-opacity:0\" cx=\"2200.21\" cy=\"769.5\" r=\"2\"/>\n",
       "<path clip-path=\"url(#clip452)\" d=\"M377.516 389.098 L377.516 569.461 L452.679 569.461 L452.679 389.098 L377.516 389.098 L377.516 389.098  Z\" fill=\"#3da44d\" fill-rule=\"evenodd\" fill-opacity=\"1\"/>\n",
       "<polyline clip-path=\"url(#clip452)\" style=\"stroke:#000000; stroke-linecap:round; stroke-linejoin:round; stroke-width:4; stroke-opacity:1; fill:none\" points=\"377.516,389.098 377.516,569.461 452.679,569.461 452.679,389.098 377.516,389.098 \"/>\n",
       "<path clip-path=\"url(#clip452)\" d=\"M471.469 524.643 L471.469 598.975 L546.632 598.975 L546.632 524.643 L471.469 524.643 L471.469 524.643  Z\" fill=\"#3da44d\" fill-rule=\"evenodd\" fill-opacity=\"1\"/>\n",
       "<polyline clip-path=\"url(#clip452)\" style=\"stroke:#000000; stroke-linecap:round; stroke-linejoin:round; stroke-width:4; stroke-opacity:1; fill:none\" points=\"471.469,524.643 471.469,598.975 546.632,598.975 546.632,524.643 471.469,524.643 \"/>\n",
       "<path clip-path=\"url(#clip452)\" d=\"M565.423 373.794 L565.423 427.357 L640.585 427.357 L640.585 373.794 L565.423 373.794 L565.423 373.794  Z\" fill=\"#3da44d\" fill-rule=\"evenodd\" fill-opacity=\"1\"/>\n",
       "<polyline clip-path=\"url(#clip452)\" style=\"stroke:#000000; stroke-linecap:round; stroke-linejoin:round; stroke-width:4; stroke-opacity:1; fill:none\" points=\"565.423,373.794 565.423,427.357 640.585,427.357 640.585,373.794 565.423,373.794 \"/>\n",
       "<path clip-path=\"url(#clip452)\" d=\"M659.376 482.012 L659.376 694.076 L734.539 694.076 L734.539 482.012 L659.376 482.012 L659.376 482.012  Z\" fill=\"#3da44d\" fill-rule=\"evenodd\" fill-opacity=\"1\"/>\n",
       "<polyline clip-path=\"url(#clip452)\" style=\"stroke:#000000; stroke-linecap:round; stroke-linejoin:round; stroke-width:4; stroke-opacity:1; fill:none\" points=\"659.376,482.012 659.376,694.076 734.539,694.076 734.539,482.012 659.376,482.012 \"/>\n",
       "<path clip-path=\"url(#clip452)\" d=\"M753.329 345.373 L753.329 365.049 L828.492 365.049 L828.492 345.373 L753.329 345.373 L753.329 345.373  Z\" fill=\"#3da44d\" fill-rule=\"evenodd\" fill-opacity=\"1\"/>\n",
       "<polyline clip-path=\"url(#clip452)\" style=\"stroke:#000000; stroke-linecap:round; stroke-linejoin:round; stroke-width:4; stroke-opacity:1; fill:none\" points=\"753.329,345.373 753.329,365.049 828.492,365.049 828.492,345.373 753.329,345.373 \"/>\n",
       "<path clip-path=\"url(#clip452)\" d=\"M847.283 336.629 L847.283 555.251 L922.445 555.251 L922.445 336.629 L847.283 336.629 L847.283 336.629  Z\" fill=\"#3da44d\" fill-rule=\"evenodd\" fill-opacity=\"1\"/>\n",
       "<polyline clip-path=\"url(#clip452)\" style=\"stroke:#000000; stroke-linecap:round; stroke-linejoin:round; stroke-width:4; stroke-opacity:1; fill:none\" points=\"847.283,336.629 847.283,555.251 922.445,555.251 922.445,336.629 847.283,336.629 \"/>\n",
       "<path clip-path=\"url(#clip452)\" d=\"M941.236 421.891 L941.236 478.733 L1016.4 478.733 L1016.4 421.891 L941.236 421.891 L941.236 421.891  Z\" fill=\"#3da44d\" fill-rule=\"evenodd\" fill-opacity=\"1\"/>\n",
       "<polyline clip-path=\"url(#clip452)\" style=\"stroke:#000000; stroke-linecap:round; stroke-linejoin:round; stroke-width:4; stroke-opacity:1; fill:none\" points=\"941.236,421.891 941.236,478.733 1016.4,478.733 1016.4,421.891 941.236,421.891 \"/>\n",
       "<path clip-path=\"url(#clip452)\" d=\"M1035.19 287.439 L1035.19 482.012 L1110.35 482.012 L1110.35 287.439 L1035.19 287.439 L1035.19 287.439  Z\" fill=\"#3da44d\" fill-rule=\"evenodd\" fill-opacity=\"1\"/>\n",
       "<polyline clip-path=\"url(#clip452)\" style=\"stroke:#000000; stroke-linecap:round; stroke-linejoin:round; stroke-width:4; stroke-opacity:1; fill:none\" points=\"1035.19,287.439 1035.19,482.012 1110.35,482.012 1110.35,287.439 1035.19,287.439 \"/>\n",
       "<path clip-path=\"url(#clip452)\" d=\"M1129.14 285.252 L1129.14 420.798 L1204.3 420.798 L1204.3 285.252 L1129.14 285.252 L1129.14 285.252  Z\" fill=\"#3da44d\" fill-rule=\"evenodd\" fill-opacity=\"1\"/>\n",
       "<polyline clip-path=\"url(#clip452)\" style=\"stroke:#000000; stroke-linecap:round; stroke-linejoin:round; stroke-width:4; stroke-opacity:1; fill:none\" points=\"1129.14,285.252 1129.14,420.798 1204.3,420.798 1204.3,285.252 1129.14,285.252 \"/>\n",
       "<path clip-path=\"url(#clip452)\" d=\"M1223.1 210.921 L1223.1 316.953 L1298.26 316.953 L1298.26 210.921 L1223.1 210.921 L1223.1 210.921  Z\" fill=\"#3da44d\" fill-rule=\"evenodd\" fill-opacity=\"1\"/>\n",
       "<polyline clip-path=\"url(#clip452)\" style=\"stroke:#000000; stroke-linecap:round; stroke-linejoin:round; stroke-width:4; stroke-opacity:1; fill:none\" points=\"1223.1,210.921 1223.1,316.953 1298.26,316.953 1298.26,210.921 1223.1,210.921 \"/>\n",
       "<path clip-path=\"url(#clip452)\" d=\"M1317.05 375.981 L1317.05 583.671 L1392.21 583.671 L1392.21 375.981 L1317.05 375.981 L1317.05 375.981  Z\" fill=\"#3da44d\" fill-rule=\"evenodd\" fill-opacity=\"1\"/>\n",
       "<polyline clip-path=\"url(#clip452)\" style=\"stroke:#000000; stroke-linecap:round; stroke-linejoin:round; stroke-width:4; stroke-opacity:1; fill:none\" points=\"1317.05,375.981 1317.05,583.671 1392.21,583.671 1392.21,375.981 1317.05,375.981 \"/>\n",
       "<path clip-path=\"url(#clip452)\" d=\"M1411 1006.7 L1411 1175.04 L1486.16 1175.04 L1486.16 1006.7 L1411 1006.7 L1411 1006.7  Z\" fill=\"#3da44d\" fill-rule=\"evenodd\" fill-opacity=\"1\"/>\n",
       "<polyline clip-path=\"url(#clip452)\" style=\"stroke:#000000; stroke-linecap:round; stroke-linejoin:round; stroke-width:4; stroke-opacity:1; fill:none\" points=\"1411,1006.7 1411,1175.04 1486.16,1175.04 1486.16,1006.7 1411,1006.7 \"/>\n",
       "<path clip-path=\"url(#clip452)\" d=\"M1504.96 155.172 L1504.96 186.873 L1580.12 186.873 L1580.12 155.172 L1504.96 155.172 L1504.96 155.172  Z\" fill=\"#3da44d\" fill-rule=\"evenodd\" fill-opacity=\"1\"/>\n",
       "<polyline clip-path=\"url(#clip452)\" style=\"stroke:#000000; stroke-linecap:round; stroke-linejoin:round; stroke-width:4; stroke-opacity:1; fill:none\" points=\"1504.96,155.172 1504.96,186.873 1580.12,186.873 1580.12,155.172 1504.96,155.172 \"/>\n",
       "<path clip-path=\"url(#clip452)\" d=\"M1598.91 298.37 L1598.91 354.118 L1674.07 354.118 L1674.07 298.37 L1598.91 298.37 L1598.91 298.37  Z\" fill=\"#3da44d\" fill-rule=\"evenodd\" fill-opacity=\"1\"/>\n",
       "<polyline clip-path=\"url(#clip452)\" style=\"stroke:#000000; stroke-linecap:round; stroke-linejoin:round; stroke-width:4; stroke-opacity:1; fill:none\" points=\"1598.91,298.37 1598.91,354.118 1674.07,354.118 1674.07,298.37 1598.91,298.37 \"/>\n",
       "<path clip-path=\"url(#clip452)\" d=\"M1692.86 389.098 L1692.86 476.547 L1768.02 476.547 L1768.02 389.098 L1692.86 389.098 L1692.86 389.098  Z\" fill=\"#3da44d\" fill-rule=\"evenodd\" fill-opacity=\"1\"/>\n",
       "<polyline clip-path=\"url(#clip452)\" style=\"stroke:#000000; stroke-linecap:round; stroke-linejoin:round; stroke-width:4; stroke-opacity:1; fill:none\" points=\"1692.86,389.098 1692.86,476.547 1768.02,476.547 1768.02,389.098 1692.86,389.098 \"/>\n",
       "<path clip-path=\"url(#clip452)\" d=\"M1786.82 328.977 L1786.82 518.085 L1861.98 518.085 L1861.98 328.977 L1786.82 328.977 L1786.82 328.977  Z\" fill=\"#3da44d\" fill-rule=\"evenodd\" fill-opacity=\"1\"/>\n",
       "<polyline clip-path=\"url(#clip452)\" style=\"stroke:#000000; stroke-linecap:round; stroke-linejoin:round; stroke-width:4; stroke-opacity:1; fill:none\" points=\"1786.82,328.977 1786.82,518.085 1861.98,518.085 1861.98,328.977 1786.82,328.977 \"/>\n",
       "<path clip-path=\"url(#clip452)\" d=\"M1880.77 239.342 L1880.77 448.126 L1955.93 448.126 L1955.93 239.342 L1880.77 239.342 L1880.77 239.342  Z\" fill=\"#3da44d\" fill-rule=\"evenodd\" fill-opacity=\"1\"/>\n",
       "<polyline clip-path=\"url(#clip452)\" style=\"stroke:#000000; stroke-linecap:round; stroke-linejoin:round; stroke-width:4; stroke-opacity:1; fill:none\" points=\"1880.77,239.342 1880.77,448.126 1955.93,448.126 1955.93,239.342 1880.77,239.342 \"/>\n",
       "<path clip-path=\"url(#clip452)\" d=\"M1974.72 503.874 L1974.72 621.93 L2049.88 621.93 L2049.88 503.874 L1974.72 503.874 L1974.72 503.874  Z\" fill=\"#3da44d\" fill-rule=\"evenodd\" fill-opacity=\"1\"/>\n",
       "<polyline clip-path=\"url(#clip452)\" style=\"stroke:#000000; stroke-linecap:round; stroke-linejoin:round; stroke-width:4; stroke-opacity:1; fill:none\" points=\"1974.72,503.874 1974.72,621.93 2049.88,621.93 2049.88,503.874 1974.72,503.874 \"/>\n",
       "<path clip-path=\"url(#clip452)\" d=\"M2068.68 996.867 L2068.68 1085.41 L2143.84 1085.41 L2143.84 996.867 L2068.68 996.867 L2068.68 996.867  Z\" fill=\"#3da44d\" fill-rule=\"evenodd\" fill-opacity=\"1\"/>\n",
       "<polyline clip-path=\"url(#clip452)\" style=\"stroke:#000000; stroke-linecap:round; stroke-linejoin:round; stroke-width:4; stroke-opacity:1; fill:none\" points=\"2068.68,996.867 2068.68,1085.41 2143.84,1085.41 2143.84,996.867 2068.68,996.867 \"/>\n",
       "<path clip-path=\"url(#clip452)\" d=\"M2162.63 793.549 L2162.63 854.763 L2237.79 854.763 L2237.79 793.549 L2162.63 793.549 L2162.63 793.549  Z\" fill=\"#3da44d\" fill-rule=\"evenodd\" fill-opacity=\"1\"/>\n",
       "<polyline clip-path=\"url(#clip452)\" style=\"stroke:#000000; stroke-linecap:round; stroke-linejoin:round; stroke-width:4; stroke-opacity:1; fill:none\" points=\"2162.63,793.549 2162.63,854.763 2237.79,854.763 2237.79,793.549 2162.63,793.549 \"/>\n",
       "<circle clip-path=\"url(#clip452)\" style=\"fill:#3da44d; stroke:none; fill-opacity:0\" cx=\"415.098\" cy=\"389.098\" r=\"2\"/>\n",
       "<circle clip-path=\"url(#clip452)\" style=\"fill:#3da44d; stroke:none; fill-opacity:0\" cx=\"509.051\" cy=\"524.643\" r=\"2\"/>\n",
       "<circle clip-path=\"url(#clip452)\" style=\"fill:#3da44d; stroke:none; fill-opacity:0\" cx=\"603.004\" cy=\"373.794\" r=\"2\"/>\n",
       "<circle clip-path=\"url(#clip452)\" style=\"fill:#3da44d; stroke:none; fill-opacity:0\" cx=\"696.957\" cy=\"482.012\" r=\"2\"/>\n",
       "<circle clip-path=\"url(#clip452)\" style=\"fill:#3da44d; stroke:none; fill-opacity:0\" cx=\"790.911\" cy=\"345.373\" r=\"2\"/>\n",
       "<circle clip-path=\"url(#clip452)\" style=\"fill:#3da44d; stroke:none; fill-opacity:0\" cx=\"884.864\" cy=\"336.629\" r=\"2\"/>\n",
       "<circle clip-path=\"url(#clip452)\" style=\"fill:#3da44d; stroke:none; fill-opacity:0\" cx=\"978.817\" cy=\"421.891\" r=\"2\"/>\n",
       "<circle clip-path=\"url(#clip452)\" style=\"fill:#3da44d; stroke:none; fill-opacity:0\" cx=\"1072.77\" cy=\"287.439\" r=\"2\"/>\n",
       "<circle clip-path=\"url(#clip452)\" style=\"fill:#3da44d; stroke:none; fill-opacity:0\" cx=\"1166.72\" cy=\"285.252\" r=\"2\"/>\n",
       "<circle clip-path=\"url(#clip452)\" style=\"fill:#3da44d; stroke:none; fill-opacity:0\" cx=\"1260.68\" cy=\"210.921\" r=\"2\"/>\n",
       "<circle clip-path=\"url(#clip452)\" style=\"fill:#3da44d; stroke:none; fill-opacity:0\" cx=\"1354.63\" cy=\"375.981\" r=\"2\"/>\n",
       "<circle clip-path=\"url(#clip452)\" style=\"fill:#3da44d; stroke:none; fill-opacity:0\" cx=\"1448.58\" cy=\"1006.7\" r=\"2\"/>\n",
       "<circle clip-path=\"url(#clip452)\" style=\"fill:#3da44d; stroke:none; fill-opacity:0\" cx=\"1542.54\" cy=\"155.172\" r=\"2\"/>\n",
       "<circle clip-path=\"url(#clip452)\" style=\"fill:#3da44d; stroke:none; fill-opacity:0\" cx=\"1636.49\" cy=\"298.37\" r=\"2\"/>\n",
       "<circle clip-path=\"url(#clip452)\" style=\"fill:#3da44d; stroke:none; fill-opacity:0\" cx=\"1730.44\" cy=\"389.098\" r=\"2\"/>\n",
       "<circle clip-path=\"url(#clip452)\" style=\"fill:#3da44d; stroke:none; fill-opacity:0\" cx=\"1824.4\" cy=\"328.977\" r=\"2\"/>\n",
       "<circle clip-path=\"url(#clip452)\" style=\"fill:#3da44d; stroke:none; fill-opacity:0\" cx=\"1918.35\" cy=\"239.342\" r=\"2\"/>\n",
       "<circle clip-path=\"url(#clip452)\" style=\"fill:#3da44d; stroke:none; fill-opacity:0\" cx=\"2012.3\" cy=\"503.874\" r=\"2\"/>\n",
       "<circle clip-path=\"url(#clip452)\" style=\"fill:#3da44d; stroke:none; fill-opacity:0\" cx=\"2106.26\" cy=\"996.867\" r=\"2\"/>\n",
       "<circle clip-path=\"url(#clip452)\" style=\"fill:#3da44d; stroke:none; fill-opacity:0\" cx=\"2200.21\" cy=\"793.549\" r=\"2\"/>\n",
       "<path clip-path=\"url(#clip452)\" d=\"M377.516 569.461 L377.516 752.01 L452.679 752.01 L452.679 569.461 L377.516 569.461 L377.516 569.461  Z\" fill=\"#c271d2\" fill-rule=\"evenodd\" fill-opacity=\"1\"/>\n",
       "<polyline clip-path=\"url(#clip452)\" style=\"stroke:#000000; stroke-linecap:round; stroke-linejoin:round; stroke-width:4; stroke-opacity:1; fill:none\" points=\"377.516,569.461 377.516,752.01 452.679,752.01 452.679,569.461 377.516,569.461 \"/>\n",
       "<path clip-path=\"url(#clip452)\" d=\"M471.469 598.975 L471.469 790.269 L546.632 790.269 L546.632 598.975 L471.469 598.975 L471.469 598.975  Z\" fill=\"#c271d2\" fill-rule=\"evenodd\" fill-opacity=\"1\"/>\n",
       "<polyline clip-path=\"url(#clip452)\" style=\"stroke:#000000; stroke-linecap:round; stroke-linejoin:round; stroke-width:4; stroke-opacity:1; fill:none\" points=\"471.469,598.975 471.469,790.269 546.632,790.269 546.632,598.975 471.469,598.975 \"/>\n",
       "<path clip-path=\"url(#clip452)\" d=\"M565.423 427.357 L565.423 588.044 L640.585 588.044 L640.585 427.357 L565.423 427.357 L565.423 427.357  Z\" fill=\"#c271d2\" fill-rule=\"evenodd\" fill-opacity=\"1\"/>\n",
       "<polyline clip-path=\"url(#clip452)\" style=\"stroke:#000000; stroke-linecap:round; stroke-linejoin:round; stroke-width:4; stroke-opacity:1; fill:none\" points=\"565.423,427.357 565.423,588.044 640.585,588.044 640.585,427.357 565.423,427.357 \"/>\n",
       "<path clip-path=\"url(#clip452)\" d=\"M659.376 694.076 L659.376 882.09 L734.539 882.09 L734.539 694.076 L659.376 694.076 L659.376 694.076  Z\" fill=\"#c271d2\" fill-rule=\"evenodd\" fill-opacity=\"1\"/>\n",
       "<polyline clip-path=\"url(#clip452)\" style=\"stroke:#000000; stroke-linecap:round; stroke-linejoin:round; stroke-width:4; stroke-opacity:1; fill:none\" points=\"659.376,694.076 659.376,882.09 734.539,882.09 734.539,694.076 659.376,694.076 \"/>\n",
       "<path clip-path=\"url(#clip452)\" d=\"M753.329 365.049 L753.329 580.392 L828.492 580.392 L828.492 365.049 L753.329 365.049 L753.329 365.049  Z\" fill=\"#c271d2\" fill-rule=\"evenodd\" fill-opacity=\"1\"/>\n",
       "<polyline clip-path=\"url(#clip452)\" style=\"stroke:#000000; stroke-linecap:round; stroke-linejoin:round; stroke-width:4; stroke-opacity:1; fill:none\" points=\"753.329,365.049 753.329,580.392 828.492,580.392 828.492,365.049 753.329,365.049 \"/>\n",
       "<path clip-path=\"url(#clip452)\" d=\"M847.283 555.251 L847.283 697.355 L922.445 697.355 L922.445 555.251 L847.283 555.251 L847.283 555.251  Z\" fill=\"#c271d2\" fill-rule=\"evenodd\" fill-opacity=\"1\"/>\n",
       "<polyline clip-path=\"url(#clip452)\" style=\"stroke:#000000; stroke-linecap:round; stroke-linejoin:round; stroke-width:4; stroke-opacity:1; fill:none\" points=\"847.283,555.251 847.283,697.355 922.445,697.355 922.445,555.251 847.283,555.251 \"/>\n",
       "<path clip-path=\"url(#clip452)\" d=\"M941.236 478.733 L941.236 677.679 L1016.4 677.679 L1016.4 478.733 L941.236 478.733 L941.236 478.733  Z\" fill=\"#c271d2\" fill-rule=\"evenodd\" fill-opacity=\"1\"/>\n",
       "<polyline clip-path=\"url(#clip452)\" style=\"stroke:#000000; stroke-linecap:round; stroke-linejoin:round; stroke-width:4; stroke-opacity:1; fill:none\" points=\"941.236,478.733 941.236,677.679 1016.4,677.679 1016.4,478.733 941.236,478.733 \"/>\n",
       "<path clip-path=\"url(#clip452)\" d=\"M1035.19 482.012 L1035.19 557.437 L1110.35 557.437 L1110.35 482.012 L1035.19 482.012 L1035.19 482.012  Z\" fill=\"#c271d2\" fill-rule=\"evenodd\" fill-opacity=\"1\"/>\n",
       "<polyline clip-path=\"url(#clip452)\" style=\"stroke:#000000; stroke-linecap:round; stroke-linejoin:round; stroke-width:4; stroke-opacity:1; fill:none\" points=\"1035.19,482.012 1035.19,557.437 1110.35,557.437 1110.35,482.012 1035.19,482.012 \"/>\n",
       "<path clip-path=\"url(#clip452)\" d=\"M1129.14 420.798 L1129.14 637.234 L1204.3 637.234 L1204.3 420.798 L1129.14 420.798 L1129.14 420.798  Z\" fill=\"#c271d2\" fill-rule=\"evenodd\" fill-opacity=\"1\"/>\n",
       "<polyline clip-path=\"url(#clip452)\" style=\"stroke:#000000; stroke-linecap:round; stroke-linejoin:round; stroke-width:4; stroke-opacity:1; fill:none\" points=\"1129.14,420.798 1129.14,637.234 1204.3,637.234 1204.3,420.798 1129.14,420.798 \"/>\n",
       "<path clip-path=\"url(#clip452)\" d=\"M1223.1 316.953 L1223.1 401.122 L1298.26 401.122 L1298.26 316.953 L1223.1 316.953 L1223.1 316.953  Z\" fill=\"#c271d2\" fill-rule=\"evenodd\" fill-opacity=\"1\"/>\n",
       "<polyline clip-path=\"url(#clip452)\" style=\"stroke:#000000; stroke-linecap:round; stroke-linejoin:round; stroke-width:4; stroke-opacity:1; fill:none\" points=\"1223.1,316.953 1223.1,401.122 1298.26,401.122 1298.26,316.953 1223.1,316.953 \"/>\n",
       "<path clip-path=\"url(#clip452)\" d=\"M1317.05 583.671 L1317.05 714.845 L1392.21 714.845 L1392.21 583.671 L1317.05 583.671 L1317.05 583.671  Z\" fill=\"#c271d2\" fill-rule=\"evenodd\" fill-opacity=\"1\"/>\n",
       "<polyline clip-path=\"url(#clip452)\" style=\"stroke:#000000; stroke-linecap:round; stroke-linejoin:round; stroke-width:4; stroke-opacity:1; fill:none\" points=\"1317.05,583.671 1317.05,714.845 1392.21,714.845 1392.21,583.671 1317.05,583.671 \"/>\n",
       "<path clip-path=\"url(#clip452)\" d=\"M1411 1175.04 L1411 1266.87 L1486.16 1266.87 L1486.16 1175.04 L1411 1175.04 L1411 1175.04  Z\" fill=\"#c271d2\" fill-rule=\"evenodd\" fill-opacity=\"1\"/>\n",
       "<polyline clip-path=\"url(#clip452)\" style=\"stroke:#000000; stroke-linecap:round; stroke-linejoin:round; stroke-width:4; stroke-opacity:1; fill:none\" points=\"1411,1175.04 1411,1266.87 1486.16,1266.87 1486.16,1175.04 1411,1175.04 \"/>\n",
       "<path clip-path=\"url(#clip452)\" d=\"M1504.96 186.873 L1504.96 386.912 L1580.12 386.912 L1580.12 186.873 L1504.96 186.873 L1504.96 186.873  Z\" fill=\"#c271d2\" fill-rule=\"evenodd\" fill-opacity=\"1\"/>\n",
       "<polyline clip-path=\"url(#clip452)\" style=\"stroke:#000000; stroke-linecap:round; stroke-linejoin:round; stroke-width:4; stroke-opacity:1; fill:none\" points=\"1504.96,186.873 1504.96,386.912 1580.12,386.912 1580.12,186.873 1504.96,186.873 \"/>\n",
       "<path clip-path=\"url(#clip452)\" d=\"M1598.91 354.118 L1598.91 368.329 L1674.07 368.329 L1674.07 354.118 L1598.91 354.118 L1598.91 354.118  Z\" fill=\"#c271d2\" fill-rule=\"evenodd\" fill-opacity=\"1\"/>\n",
       "<polyline clip-path=\"url(#clip452)\" style=\"stroke:#000000; stroke-linecap:round; stroke-linejoin:round; stroke-width:4; stroke-opacity:1; fill:none\" points=\"1598.91,354.118 1598.91,368.329 1674.07,368.329 1674.07,354.118 1598.91,354.118 \"/>\n",
       "<path clip-path=\"url(#clip452)\" d=\"M1692.86 476.547 L1692.86 592.416 L1768.02 592.416 L1768.02 476.547 L1692.86 476.547 L1692.86 476.547  Z\" fill=\"#c271d2\" fill-rule=\"evenodd\" fill-opacity=\"1\"/>\n",
       "<polyline clip-path=\"url(#clip452)\" style=\"stroke:#000000; stroke-linecap:round; stroke-linejoin:round; stroke-width:4; stroke-opacity:1; fill:none\" points=\"1692.86,476.547 1692.86,592.416 1768.02,592.416 1768.02,476.547 1692.86,476.547 \"/>\n",
       "<path clip-path=\"url(#clip452)\" d=\"M1786.82 518.085 L1786.82 630.675 L1861.98 630.675 L1861.98 518.085 L1786.82 518.085 L1786.82 518.085  Z\" fill=\"#c271d2\" fill-rule=\"evenodd\" fill-opacity=\"1\"/>\n",
       "<polyline clip-path=\"url(#clip452)\" style=\"stroke:#000000; stroke-linecap:round; stroke-linejoin:round; stroke-width:4; stroke-opacity:1; fill:none\" points=\"1786.82,518.085 1786.82,630.675 1861.98,630.675 1861.98,518.085 1786.82,518.085 \"/>\n",
       "<path clip-path=\"url(#clip452)\" d=\"M1880.77 448.126 L1880.77 632.861 L1955.93 632.861 L1955.93 448.126 L1880.77 448.126 L1880.77 448.126  Z\" fill=\"#c271d2\" fill-rule=\"evenodd\" fill-opacity=\"1\"/>\n",
       "<polyline clip-path=\"url(#clip452)\" style=\"stroke:#000000; stroke-linecap:round; stroke-linejoin:round; stroke-width:4; stroke-opacity:1; fill:none\" points=\"1880.77,448.126 1880.77,632.861 1955.93,632.861 1955.93,448.126 1880.77,448.126 \"/>\n",
       "<path clip-path=\"url(#clip452)\" d=\"M1974.72 621.93 L1974.72 707.193 L2049.88 707.193 L2049.88 621.93 L1974.72 621.93 L1974.72 621.93  Z\" fill=\"#c271d2\" fill-rule=\"evenodd\" fill-opacity=\"1\"/>\n",
       "<polyline clip-path=\"url(#clip452)\" style=\"stroke:#000000; stroke-linecap:round; stroke-linejoin:round; stroke-width:4; stroke-opacity:1; fill:none\" points=\"1974.72,621.93 1974.72,707.193 2049.88,707.193 2049.88,621.93 1974.72,621.93 \"/>\n",
       "<path clip-path=\"url(#clip452)\" d=\"M2068.68 1085.41 L2068.68 1271.24 L2143.84 1271.24 L2143.84 1085.41 L2068.68 1085.41 L2068.68 1085.41  Z\" fill=\"#c271d2\" fill-rule=\"evenodd\" fill-opacity=\"1\"/>\n",
       "<polyline clip-path=\"url(#clip452)\" style=\"stroke:#000000; stroke-linecap:round; stroke-linejoin:round; stroke-width:4; stroke-opacity:1; fill:none\" points=\"2068.68,1085.41 2068.68,1271.24 2143.84,1271.24 2143.84,1085.41 2068.68,1085.41 \"/>\n",
       "<path clip-path=\"url(#clip452)\" d=\"M2162.63 854.763 L2162.63 900.673 L2237.79 900.673 L2237.79 854.763 L2162.63 854.763 L2162.63 854.763  Z\" fill=\"#c271d2\" fill-rule=\"evenodd\" fill-opacity=\"1\"/>\n",
       "<polyline clip-path=\"url(#clip452)\" style=\"stroke:#000000; stroke-linecap:round; stroke-linejoin:round; stroke-width:4; stroke-opacity:1; fill:none\" points=\"2162.63,854.763 2162.63,900.673 2237.79,900.673 2237.79,854.763 2162.63,854.763 \"/>\n",
       "<circle clip-path=\"url(#clip452)\" style=\"fill:#c271d2; stroke:none; fill-opacity:0\" cx=\"415.098\" cy=\"569.461\" r=\"2\"/>\n",
       "<circle clip-path=\"url(#clip452)\" style=\"fill:#c271d2; stroke:none; fill-opacity:0\" cx=\"509.051\" cy=\"598.975\" r=\"2\"/>\n",
       "<circle clip-path=\"url(#clip452)\" style=\"fill:#c271d2; stroke:none; fill-opacity:0\" cx=\"603.004\" cy=\"427.357\" r=\"2\"/>\n",
       "<circle clip-path=\"url(#clip452)\" style=\"fill:#c271d2; stroke:none; fill-opacity:0\" cx=\"696.957\" cy=\"694.076\" r=\"2\"/>\n",
       "<circle clip-path=\"url(#clip452)\" style=\"fill:#c271d2; stroke:none; fill-opacity:0\" cx=\"790.911\" cy=\"365.049\" r=\"2\"/>\n",
       "<circle clip-path=\"url(#clip452)\" style=\"fill:#c271d2; stroke:none; fill-opacity:0\" cx=\"884.864\" cy=\"555.251\" r=\"2\"/>\n",
       "<circle clip-path=\"url(#clip452)\" style=\"fill:#c271d2; stroke:none; fill-opacity:0\" cx=\"978.817\" cy=\"478.733\" r=\"2\"/>\n",
       "<circle clip-path=\"url(#clip452)\" style=\"fill:#c271d2; stroke:none; fill-opacity:0\" cx=\"1072.77\" cy=\"482.012\" r=\"2\"/>\n",
       "<circle clip-path=\"url(#clip452)\" style=\"fill:#c271d2; stroke:none; fill-opacity:0\" cx=\"1166.72\" cy=\"420.798\" r=\"2\"/>\n",
       "<circle clip-path=\"url(#clip452)\" style=\"fill:#c271d2; stroke:none; fill-opacity:0\" cx=\"1260.68\" cy=\"316.953\" r=\"2\"/>\n",
       "<circle clip-path=\"url(#clip452)\" style=\"fill:#c271d2; stroke:none; fill-opacity:0\" cx=\"1354.63\" cy=\"583.671\" r=\"2\"/>\n",
       "<circle clip-path=\"url(#clip452)\" style=\"fill:#c271d2; stroke:none; fill-opacity:0\" cx=\"1448.58\" cy=\"1175.04\" r=\"2\"/>\n",
       "<circle clip-path=\"url(#clip452)\" style=\"fill:#c271d2; stroke:none; fill-opacity:0\" cx=\"1542.54\" cy=\"186.873\" r=\"2\"/>\n",
       "<circle clip-path=\"url(#clip452)\" style=\"fill:#c271d2; stroke:none; fill-opacity:0\" cx=\"1636.49\" cy=\"354.118\" r=\"2\"/>\n",
       "<circle clip-path=\"url(#clip452)\" style=\"fill:#c271d2; stroke:none; fill-opacity:0\" cx=\"1730.44\" cy=\"476.547\" r=\"2\"/>\n",
       "<circle clip-path=\"url(#clip452)\" style=\"fill:#c271d2; stroke:none; fill-opacity:0\" cx=\"1824.4\" cy=\"518.085\" r=\"2\"/>\n",
       "<circle clip-path=\"url(#clip452)\" style=\"fill:#c271d2; stroke:none; fill-opacity:0\" cx=\"1918.35\" cy=\"448.126\" r=\"2\"/>\n",
       "<circle clip-path=\"url(#clip452)\" style=\"fill:#c271d2; stroke:none; fill-opacity:0\" cx=\"2012.3\" cy=\"621.93\" r=\"2\"/>\n",
       "<circle clip-path=\"url(#clip452)\" style=\"fill:#c271d2; stroke:none; fill-opacity:0\" cx=\"2106.26\" cy=\"1085.41\" r=\"2\"/>\n",
       "<circle clip-path=\"url(#clip452)\" style=\"fill:#c271d2; stroke:none; fill-opacity:0\" cx=\"2200.21\" cy=\"854.763\" r=\"2\"/>\n",
       "<path clip-path=\"url(#clip452)\" d=\"M377.516 752.01 L377.516 788.083 L452.679 788.083 L452.679 752.01 L377.516 752.01 L377.516 752.01  Z\" fill=\"#ac8d18\" fill-rule=\"evenodd\" fill-opacity=\"1\"/>\n",
       "<polyline clip-path=\"url(#clip452)\" style=\"stroke:#000000; stroke-linecap:round; stroke-linejoin:round; stroke-width:4; stroke-opacity:1; fill:none\" points=\"377.516,752.01 377.516,788.083 452.679,788.083 452.679,752.01 377.516,752.01 \"/>\n",
       "<path clip-path=\"url(#clip452)\" d=\"M471.469 790.269 L471.469 868.973 L546.632 868.973 L546.632 790.269 L471.469 790.269 L471.469 790.269  Z\" fill=\"#ac8d18\" fill-rule=\"evenodd\" fill-opacity=\"1\"/>\n",
       "<polyline clip-path=\"url(#clip452)\" style=\"stroke:#000000; stroke-linecap:round; stroke-linejoin:round; stroke-width:4; stroke-opacity:1; fill:none\" points=\"471.469,790.269 471.469,868.973 546.632,868.973 546.632,790.269 471.469,790.269 \"/>\n",
       "<path clip-path=\"url(#clip452)\" d=\"M565.423 588.044 L565.423 794.642 L640.585 794.642 L640.585 588.044 L565.423 588.044 L565.423 588.044  Z\" fill=\"#ac8d18\" fill-rule=\"evenodd\" fill-opacity=\"1\"/>\n",
       "<polyline clip-path=\"url(#clip452)\" style=\"stroke:#000000; stroke-linecap:round; stroke-linejoin:round; stroke-width:4; stroke-opacity:1; fill:none\" points=\"565.423,588.044 565.423,794.642 640.585,794.642 640.585,588.044 565.423,588.044 \"/>\n",
       "<path clip-path=\"url(#clip452)\" d=\"M659.376 882.09 L659.376 1002.33 L734.539 1002.33 L734.539 882.09 L659.376 882.09 L659.376 882.09  Z\" fill=\"#ac8d18\" fill-rule=\"evenodd\" fill-opacity=\"1\"/>\n",
       "<polyline clip-path=\"url(#clip452)\" style=\"stroke:#000000; stroke-linecap:round; stroke-linejoin:round; stroke-width:4; stroke-opacity:1; fill:none\" points=\"659.376,882.09 659.376,1002.33 734.539,1002.33 734.539,882.09 659.376,882.09 \"/>\n",
       "<path clip-path=\"url(#clip452)\" d=\"M753.329 580.392 L753.329 726.869 L828.492 726.869 L828.492 580.392 L753.329 580.392 L753.329 580.392  Z\" fill=\"#ac8d18\" fill-rule=\"evenodd\" fill-opacity=\"1\"/>\n",
       "<polyline clip-path=\"url(#clip452)\" style=\"stroke:#000000; stroke-linecap:round; stroke-linejoin:round; stroke-width:4; stroke-opacity:1; fill:none\" points=\"753.329,580.392 753.329,726.869 828.492,726.869 828.492,580.392 753.329,580.392 \"/>\n",
       "<path clip-path=\"url(#clip452)\" d=\"M847.283 697.355 L847.283 894.115 L922.445 894.115 L922.445 697.355 L847.283 697.355 L847.283 697.355  Z\" fill=\"#ac8d18\" fill-rule=\"evenodd\" fill-opacity=\"1\"/>\n",
       "<polyline clip-path=\"url(#clip452)\" style=\"stroke:#000000; stroke-linecap:round; stroke-linejoin:round; stroke-width:4; stroke-opacity:1; fill:none\" points=\"847.283,697.355 847.283,894.115 922.445,894.115 922.445,697.355 847.283,697.355 \"/>\n",
       "<path clip-path=\"url(#clip452)\" d=\"M941.236 677.679 L941.236 773.873 L1016.4 773.873 L1016.4 677.679 L941.236 677.679 L941.236 677.679  Z\" fill=\"#ac8d18\" fill-rule=\"evenodd\" fill-opacity=\"1\"/>\n",
       "<polyline clip-path=\"url(#clip452)\" style=\"stroke:#000000; stroke-linecap:round; stroke-linejoin:round; stroke-width:4; stroke-opacity:1; fill:none\" points=\"941.236,677.679 941.236,773.873 1016.4,773.873 1016.4,677.679 941.236,677.679 \"/>\n",
       "<path clip-path=\"url(#clip452)\" d=\"M1035.19 557.437 L1035.19 730.148 L1110.35 730.148 L1110.35 557.437 L1035.19 557.437 L1035.19 557.437  Z\" fill=\"#ac8d18\" fill-rule=\"evenodd\" fill-opacity=\"1\"/>\n",
       "<polyline clip-path=\"url(#clip452)\" style=\"stroke:#000000; stroke-linecap:round; stroke-linejoin:round; stroke-width:4; stroke-opacity:1; fill:none\" points=\"1035.19,557.437 1035.19,730.148 1110.35,730.148 1110.35,557.437 1035.19,557.437 \"/>\n",
       "<path clip-path=\"url(#clip452)\" d=\"M1129.14 637.234 L1129.14 759.662 L1204.3 759.662 L1204.3 637.234 L1129.14 637.234 L1129.14 637.234  Z\" fill=\"#ac8d18\" fill-rule=\"evenodd\" fill-opacity=\"1\"/>\n",
       "<polyline clip-path=\"url(#clip452)\" style=\"stroke:#000000; stroke-linecap:round; stroke-linejoin:round; stroke-width:4; stroke-opacity:1; fill:none\" points=\"1129.14,637.234 1129.14,759.662 1204.3,759.662 1204.3,637.234 1129.14,637.234 \"/>\n",
       "<path clip-path=\"url(#clip452)\" d=\"M1223.1 401.122 L1223.1 618.651 L1298.26 618.651 L1298.26 401.122 L1223.1 401.122 L1223.1 401.122  Z\" fill=\"#ac8d18\" fill-rule=\"evenodd\" fill-opacity=\"1\"/>\n",
       "<polyline clip-path=\"url(#clip452)\" style=\"stroke:#000000; stroke-linecap:round; stroke-linejoin:round; stroke-width:4; stroke-opacity:1; fill:none\" points=\"1223.1,401.122 1223.1,618.651 1298.26,618.651 1298.26,401.122 1223.1,401.122 \"/>\n",
       "<path clip-path=\"url(#clip452)\" d=\"M1317.05 714.845 L1317.05 795.735 L1392.21 795.735 L1392.21 714.845 L1317.05 714.845 L1317.05 714.845  Z\" fill=\"#ac8d18\" fill-rule=\"evenodd\" fill-opacity=\"1\"/>\n",
       "<polyline clip-path=\"url(#clip452)\" style=\"stroke:#000000; stroke-linecap:round; stroke-linejoin:round; stroke-width:4; stroke-opacity:1; fill:none\" points=\"1317.05,714.845 1317.05,795.735 1392.21,795.735 1392.21,714.845 1317.05,714.845 \"/>\n",
       "<path clip-path=\"url(#clip452)\" d=\"M1411 1266.87 L1411 1423.18 L1486.16 1423.18 L1486.16 1266.87 L1411 1266.87 L1411 1266.87  Z\" fill=\"#ac8d18\" fill-rule=\"evenodd\" fill-opacity=\"1\"/>\n",
       "<polyline clip-path=\"url(#clip452)\" style=\"stroke:#000000; stroke-linecap:round; stroke-linejoin:round; stroke-width:4; stroke-opacity:1; fill:none\" points=\"1411,1266.87 1411,1423.18 1486.16,1423.18 1486.16,1266.87 1411,1266.87 \"/>\n",
       "<path clip-path=\"url(#clip452)\" d=\"M1504.96 386.912 L1504.96 589.137 L1580.12 589.137 L1580.12 386.912 L1504.96 386.912 L1504.96 386.912  Z\" fill=\"#ac8d18\" fill-rule=\"evenodd\" fill-opacity=\"1\"/>\n",
       "<polyline clip-path=\"url(#clip452)\" style=\"stroke:#000000; stroke-linecap:round; stroke-linejoin:round; stroke-width:4; stroke-opacity:1; fill:none\" points=\"1504.96,386.912 1504.96,589.137 1580.12,589.137 1580.12,386.912 1504.96,386.912 \"/>\n",
       "<path clip-path=\"url(#clip452)\" d=\"M1598.91 368.329 L1598.91 472.174 L1674.07 472.174 L1674.07 368.329 L1598.91 368.329 L1598.91 368.329  Z\" fill=\"#ac8d18\" fill-rule=\"evenodd\" fill-opacity=\"1\"/>\n",
       "<polyline clip-path=\"url(#clip452)\" style=\"stroke:#000000; stroke-linecap:round; stroke-linejoin:round; stroke-width:4; stroke-opacity:1; fill:none\" points=\"1598.91,368.329 1598.91,472.174 1674.07,472.174 1674.07,368.329 1598.91,368.329 \"/>\n",
       "<path clip-path=\"url(#clip452)\" d=\"M1692.86 592.416 L1692.86 754.197 L1768.02 754.197 L1768.02 592.416 L1692.86 592.416 L1692.86 592.416  Z\" fill=\"#ac8d18\" fill-rule=\"evenodd\" fill-opacity=\"1\"/>\n",
       "<polyline clip-path=\"url(#clip452)\" style=\"stroke:#000000; stroke-linecap:round; stroke-linejoin:round; stroke-width:4; stroke-opacity:1; fill:none\" points=\"1692.86,592.416 1692.86,754.197 1768.02,754.197 1768.02,592.416 1692.86,592.416 \"/>\n",
       "<path clip-path=\"url(#clip452)\" d=\"M1786.82 630.675 L1786.82 780.431 L1861.98 780.431 L1861.98 630.675 L1786.82 630.675 L1786.82 630.675  Z\" fill=\"#ac8d18\" fill-rule=\"evenodd\" fill-opacity=\"1\"/>\n",
       "<polyline clip-path=\"url(#clip452)\" style=\"stroke:#000000; stroke-linecap:round; stroke-linejoin:round; stroke-width:4; stroke-opacity:1; fill:none\" points=\"1786.82,630.675 1786.82,780.431 1861.98,780.431 1861.98,630.675 1786.82,630.675 \"/>\n",
       "<path clip-path=\"url(#clip452)\" d=\"M1880.77 632.861 L1880.77 697.355 L1955.93 697.355 L1955.93 632.861 L1880.77 632.861 L1880.77 632.861  Z\" fill=\"#ac8d18\" fill-rule=\"evenodd\" fill-opacity=\"1\"/>\n",
       "<polyline clip-path=\"url(#clip452)\" style=\"stroke:#000000; stroke-linecap:round; stroke-linejoin:round; stroke-width:4; stroke-opacity:1; fill:none\" points=\"1880.77,632.861 1880.77,697.355 1955.93,697.355 1955.93,632.861 1880.77,632.861 \"/>\n",
       "<path clip-path=\"url(#clip452)\" d=\"M1974.72 707.193 L1974.72 820.876 L2049.88 820.876 L2049.88 707.193 L1974.72 707.193 L1974.72 707.193  Z\" fill=\"#ac8d18\" fill-rule=\"evenodd\" fill-opacity=\"1\"/>\n",
       "<polyline clip-path=\"url(#clip452)\" style=\"stroke:#000000; stroke-linecap:round; stroke-linejoin:round; stroke-width:4; stroke-opacity:1; fill:none\" points=\"1974.72,707.193 1974.72,820.876 2049.88,820.876 2049.88,707.193 1974.72,707.193 \"/>\n",
       "<path clip-path=\"url(#clip452)\" d=\"M2068.68 1271.24 L2068.68 1423.18 L2143.84 1423.18 L2143.84 1271.24 L2068.68 1271.24 L2068.68 1271.24  Z\" fill=\"#ac8d18\" fill-rule=\"evenodd\" fill-opacity=\"1\"/>\n",
       "<polyline clip-path=\"url(#clip452)\" style=\"stroke:#000000; stroke-linecap:round; stroke-linejoin:round; stroke-width:4; stroke-opacity:1; fill:none\" points=\"2068.68,1271.24 2068.68,1423.18 2143.84,1423.18 2143.84,1271.24 2068.68,1271.24 \"/>\n",
       "<path clip-path=\"url(#clip452)\" d=\"M2162.63 900.673 L2162.63 960.794 L2237.79 960.794 L2237.79 900.673 L2162.63 900.673 L2162.63 900.673  Z\" fill=\"#ac8d18\" fill-rule=\"evenodd\" fill-opacity=\"1\"/>\n",
       "<polyline clip-path=\"url(#clip452)\" style=\"stroke:#000000; stroke-linecap:round; stroke-linejoin:round; stroke-width:4; stroke-opacity:1; fill:none\" points=\"2162.63,900.673 2162.63,960.794 2237.79,960.794 2237.79,900.673 2162.63,900.673 \"/>\n",
       "<circle clip-path=\"url(#clip452)\" style=\"fill:#ac8d18; stroke:none; fill-opacity:0\" cx=\"415.098\" cy=\"752.01\" r=\"2\"/>\n",
       "<circle clip-path=\"url(#clip452)\" style=\"fill:#ac8d18; stroke:none; fill-opacity:0\" cx=\"509.051\" cy=\"790.269\" r=\"2\"/>\n",
       "<circle clip-path=\"url(#clip452)\" style=\"fill:#ac8d18; stroke:none; fill-opacity:0\" cx=\"603.004\" cy=\"588.044\" r=\"2\"/>\n",
       "<circle clip-path=\"url(#clip452)\" style=\"fill:#ac8d18; stroke:none; fill-opacity:0\" cx=\"696.957\" cy=\"882.09\" r=\"2\"/>\n",
       "<circle clip-path=\"url(#clip452)\" style=\"fill:#ac8d18; stroke:none; fill-opacity:0\" cx=\"790.911\" cy=\"580.392\" r=\"2\"/>\n",
       "<circle clip-path=\"url(#clip452)\" style=\"fill:#ac8d18; stroke:none; fill-opacity:0\" cx=\"884.864\" cy=\"697.355\" r=\"2\"/>\n",
       "<circle clip-path=\"url(#clip452)\" style=\"fill:#ac8d18; stroke:none; fill-opacity:0\" cx=\"978.817\" cy=\"677.679\" r=\"2\"/>\n",
       "<circle clip-path=\"url(#clip452)\" style=\"fill:#ac8d18; stroke:none; fill-opacity:0\" cx=\"1072.77\" cy=\"557.437\" r=\"2\"/>\n",
       "<circle clip-path=\"url(#clip452)\" style=\"fill:#ac8d18; stroke:none; fill-opacity:0\" cx=\"1166.72\" cy=\"637.234\" r=\"2\"/>\n",
       "<circle clip-path=\"url(#clip452)\" style=\"fill:#ac8d18; stroke:none; fill-opacity:0\" cx=\"1260.68\" cy=\"401.122\" r=\"2\"/>\n",
       "<circle clip-path=\"url(#clip452)\" style=\"fill:#ac8d18; stroke:none; fill-opacity:0\" cx=\"1354.63\" cy=\"714.845\" r=\"2\"/>\n",
       "<circle clip-path=\"url(#clip452)\" style=\"fill:#ac8d18; stroke:none; fill-opacity:0\" cx=\"1448.58\" cy=\"1266.87\" r=\"2\"/>\n",
       "<circle clip-path=\"url(#clip452)\" style=\"fill:#ac8d18; stroke:none; fill-opacity:0\" cx=\"1542.54\" cy=\"386.912\" r=\"2\"/>\n",
       "<circle clip-path=\"url(#clip452)\" style=\"fill:#ac8d18; stroke:none; fill-opacity:0\" cx=\"1636.49\" cy=\"368.329\" r=\"2\"/>\n",
       "<circle clip-path=\"url(#clip452)\" style=\"fill:#ac8d18; stroke:none; fill-opacity:0\" cx=\"1730.44\" cy=\"592.416\" r=\"2\"/>\n",
       "<circle clip-path=\"url(#clip452)\" style=\"fill:#ac8d18; stroke:none; fill-opacity:0\" cx=\"1824.4\" cy=\"630.675\" r=\"2\"/>\n",
       "<circle clip-path=\"url(#clip452)\" style=\"fill:#ac8d18; stroke:none; fill-opacity:0\" cx=\"1918.35\" cy=\"632.861\" r=\"2\"/>\n",
       "<circle clip-path=\"url(#clip452)\" style=\"fill:#ac8d18; stroke:none; fill-opacity:0\" cx=\"2012.3\" cy=\"707.193\" r=\"2\"/>\n",
       "<circle clip-path=\"url(#clip452)\" style=\"fill:#ac8d18; stroke:none; fill-opacity:0\" cx=\"2106.26\" cy=\"1271.24\" r=\"2\"/>\n",
       "<circle clip-path=\"url(#clip452)\" style=\"fill:#ac8d18; stroke:none; fill-opacity:0\" cx=\"2200.21\" cy=\"900.673\" r=\"2\"/>\n",
       "<path clip-path=\"url(#clip452)\" d=\"M377.516 788.083 L377.516 835.087 L452.679 835.087 L452.679 788.083 L377.516 788.083 L377.516 788.083  Z\" fill=\"#00a9ad\" fill-rule=\"evenodd\" fill-opacity=\"1\"/>\n",
       "<polyline clip-path=\"url(#clip452)\" style=\"stroke:#000000; stroke-linecap:round; stroke-linejoin:round; stroke-width:4; stroke-opacity:1; fill:none\" points=\"377.516,788.083 377.516,835.087 452.679,835.087 452.679,788.083 377.516,788.083 \"/>\n",
       "<path clip-path=\"url(#clip452)\" d=\"M471.469 868.973 L471.469 906.139 L546.632 906.139 L546.632 868.973 L471.469 868.973 L471.469 868.973  Z\" fill=\"#00a9ad\" fill-rule=\"evenodd\" fill-opacity=\"1\"/>\n",
       "<polyline clip-path=\"url(#clip452)\" style=\"stroke:#000000; stroke-linecap:round; stroke-linejoin:round; stroke-width:4; stroke-opacity:1; fill:none\" points=\"471.469,868.973 471.469,906.139 546.632,906.139 546.632,868.973 471.469,868.973 \"/>\n",
       "<path clip-path=\"url(#clip452)\" d=\"M565.423 794.642 L565.423 968.446 L640.585 968.446 L640.585 794.642 L565.423 794.642 L565.423 794.642  Z\" fill=\"#00a9ad\" fill-rule=\"evenodd\" fill-opacity=\"1\"/>\n",
       "<polyline clip-path=\"url(#clip452)\" style=\"stroke:#000000; stroke-linecap:round; stroke-linejoin:round; stroke-width:4; stroke-opacity:1; fill:none\" points=\"565.423,794.642 565.423,968.446 640.585,968.446 640.585,794.642 565.423,794.642 \"/>\n",
       "<path clip-path=\"url(#clip452)\" d=\"M659.376 1002.33 L659.376 1072.29 L734.539 1072.29 L734.539 1002.33 L659.376 1002.33 L659.376 1002.33  Z\" fill=\"#00a9ad\" fill-rule=\"evenodd\" fill-opacity=\"1\"/>\n",
       "<polyline clip-path=\"url(#clip452)\" style=\"stroke:#000000; stroke-linecap:round; stroke-linejoin:round; stroke-width:4; stroke-opacity:1; fill:none\" points=\"659.376,1002.33 659.376,1072.29 734.539,1072.29 734.539,1002.33 659.376,1002.33 \"/>\n",
       "<path clip-path=\"url(#clip452)\" d=\"M753.329 726.869 L753.329 919.256 L828.492 919.256 L828.492 726.869 L753.329 726.869 L753.329 726.869  Z\" fill=\"#00a9ad\" fill-rule=\"evenodd\" fill-opacity=\"1\"/>\n",
       "<polyline clip-path=\"url(#clip452)\" style=\"stroke:#000000; stroke-linecap:round; stroke-linejoin:round; stroke-width:4; stroke-opacity:1; fill:none\" points=\"753.329,726.869 753.329,919.256 828.492,919.256 828.492,726.869 753.329,726.869 \"/>\n",
       "<path clip-path=\"url(#clip452)\" d=\"M847.283 894.115 L847.283 1005.61 L922.445 1005.61 L922.445 894.115 L847.283 894.115 L847.283 894.115  Z\" fill=\"#00a9ad\" fill-rule=\"evenodd\" fill-opacity=\"1\"/>\n",
       "<polyline clip-path=\"url(#clip452)\" style=\"stroke:#000000; stroke-linecap:round; stroke-linejoin:round; stroke-width:4; stroke-opacity:1; fill:none\" points=\"847.283,894.115 847.283,1005.61 922.445,1005.61 922.445,894.115 847.283,894.115 \"/>\n",
       "<path clip-path=\"url(#clip452)\" d=\"M941.236 773.873 L941.236 907.232 L1016.4 907.232 L1016.4 773.873 L941.236 773.873 L941.236 773.873  Z\" fill=\"#00a9ad\" fill-rule=\"evenodd\" fill-opacity=\"1\"/>\n",
       "<polyline clip-path=\"url(#clip452)\" style=\"stroke:#000000; stroke-linecap:round; stroke-linejoin:round; stroke-width:4; stroke-opacity:1; fill:none\" points=\"941.236,773.873 941.236,907.232 1016.4,907.232 1016.4,773.873 941.236,773.873 \"/>\n",
       "<path clip-path=\"url(#clip452)\" d=\"M1035.19 730.148 L1035.19 913.791 L1110.35 913.791 L1110.35 730.148 L1035.19 730.148 L1035.19 730.148  Z\" fill=\"#00a9ad\" fill-rule=\"evenodd\" fill-opacity=\"1\"/>\n",
       "<polyline clip-path=\"url(#clip452)\" style=\"stroke:#000000; stroke-linecap:round; stroke-linejoin:round; stroke-width:4; stroke-opacity:1; fill:none\" points=\"1035.19,730.148 1035.19,913.791 1110.35,913.791 1110.35,730.148 1035.19,730.148 \"/>\n",
       "<path clip-path=\"url(#clip452)\" d=\"M1129.14 759.662 L1129.14 823.062 L1204.3 823.062 L1204.3 759.662 L1129.14 759.662 L1129.14 759.662  Z\" fill=\"#00a9ad\" fill-rule=\"evenodd\" fill-opacity=\"1\"/>\n",
       "<polyline clip-path=\"url(#clip452)\" style=\"stroke:#000000; stroke-linecap:round; stroke-linejoin:round; stroke-width:4; stroke-opacity:1; fill:none\" points=\"1129.14,759.662 1129.14,823.062 1204.3,823.062 1204.3,759.662 1129.14,759.662 \"/>\n",
       "<path clip-path=\"url(#clip452)\" d=\"M1223.1 618.651 L1223.1 708.286 L1298.26 708.286 L1298.26 618.651 L1223.1 618.651 L1223.1 618.651  Z\" fill=\"#00a9ad\" fill-rule=\"evenodd\" fill-opacity=\"1\"/>\n",
       "<polyline clip-path=\"url(#clip452)\" style=\"stroke:#000000; stroke-linecap:round; stroke-linejoin:round; stroke-width:4; stroke-opacity:1; fill:none\" points=\"1223.1,618.651 1223.1,708.286 1298.26,708.286 1298.26,618.651 1223.1,618.651 \"/>\n",
       "<path clip-path=\"url(#clip452)\" d=\"M1317.05 795.735 L1317.05 940.025 L1392.21 940.025 L1392.21 795.735 L1317.05 795.735 L1317.05 795.735  Z\" fill=\"#00a9ad\" fill-rule=\"evenodd\" fill-opacity=\"1\"/>\n",
       "<polyline clip-path=\"url(#clip452)\" style=\"stroke:#000000; stroke-linecap:round; stroke-linejoin:round; stroke-width:4; stroke-opacity:1; fill:none\" points=\"1317.05,795.735 1317.05,940.025 1392.21,940.025 1392.21,795.735 1317.05,795.735 \"/>\n",
       "<path clip-path=\"url(#clip452)\" d=\"M1411 1423.18 L1411 1423.18 L1486.16 1423.18 L1486.16 1423.18 L1411 1423.18 L1411 1423.18  Z\" fill=\"#00a9ad\" fill-rule=\"evenodd\" fill-opacity=\"1\"/>\n",
       "<polyline clip-path=\"url(#clip452)\" style=\"stroke:#000000; stroke-linecap:round; stroke-linejoin:round; stroke-width:4; stroke-opacity:1; fill:none\" points=\"1411,1423.18 1411,1423.18 1486.16,1423.18 1411,1423.18 \"/>\n",
       "<path clip-path=\"url(#clip452)\" d=\"M1504.96 589.137 L1504.96 752.01 L1580.12 752.01 L1580.12 589.137 L1504.96 589.137 L1504.96 589.137  Z\" fill=\"#00a9ad\" fill-rule=\"evenodd\" fill-opacity=\"1\"/>\n",
       "<polyline clip-path=\"url(#clip452)\" style=\"stroke:#000000; stroke-linecap:round; stroke-linejoin:round; stroke-width:4; stroke-opacity:1; fill:none\" points=\"1504.96,589.137 1504.96,752.01 1580.12,752.01 1580.12,589.137 1504.96,589.137 \"/>\n",
       "<path clip-path=\"url(#clip452)\" d=\"M1598.91 472.174 L1598.91 630.675 L1674.07 630.675 L1674.07 472.174 L1598.91 472.174 L1598.91 472.174  Z\" fill=\"#00a9ad\" fill-rule=\"evenodd\" fill-opacity=\"1\"/>\n",
       "<polyline clip-path=\"url(#clip452)\" style=\"stroke:#000000; stroke-linecap:round; stroke-linejoin:round; stroke-width:4; stroke-opacity:1; fill:none\" points=\"1598.91,472.174 1598.91,630.675 1674.07,630.675 1674.07,472.174 1598.91,472.174 \"/>\n",
       "<path clip-path=\"url(#clip452)\" d=\"M1692.86 754.197 L1692.86 909.418 L1768.02 909.418 L1768.02 754.197 L1692.86 754.197 L1692.86 754.197  Z\" fill=\"#00a9ad\" fill-rule=\"evenodd\" fill-opacity=\"1\"/>\n",
       "<polyline clip-path=\"url(#clip452)\" style=\"stroke:#000000; stroke-linecap:round; stroke-linejoin:round; stroke-width:4; stroke-opacity:1; fill:none\" points=\"1692.86,754.197 1692.86,909.418 1768.02,909.418 1768.02,754.197 1692.86,754.197 \"/>\n",
       "<path clip-path=\"url(#clip452)\" d=\"M1786.82 780.431 L1786.82 923.629 L1861.98 923.629 L1861.98 780.431 L1786.82 780.431 L1786.82 780.431  Z\" fill=\"#00a9ad\" fill-rule=\"evenodd\" fill-opacity=\"1\"/>\n",
       "<polyline clip-path=\"url(#clip452)\" style=\"stroke:#000000; stroke-linecap:round; stroke-linejoin:round; stroke-width:4; stroke-opacity:1; fill:none\" points=\"1786.82,780.431 1786.82,923.629 1861.98,923.629 1861.98,780.431 1786.82,780.431 \"/>\n",
       "<path clip-path=\"url(#clip452)\" d=\"M1880.77 697.355 L1880.77 862.414 L1955.93 862.414 L1955.93 697.355 L1880.77 697.355 L1880.77 697.355  Z\" fill=\"#00a9ad\" fill-rule=\"evenodd\" fill-opacity=\"1\"/>\n",
       "<polyline clip-path=\"url(#clip452)\" style=\"stroke:#000000; stroke-linecap:round; stroke-linejoin:round; stroke-width:4; stroke-opacity:1; fill:none\" points=\"1880.77,697.355 1880.77,862.414 1955.93,862.414 1955.93,697.355 1880.77,697.355 \"/>\n",
       "<path clip-path=\"url(#clip452)\" d=\"M1974.72 820.876 L1974.72 980.47 L2049.88 980.47 L2049.88 820.876 L1974.72 820.876 L1974.72 820.876  Z\" fill=\"#00a9ad\" fill-rule=\"evenodd\" fill-opacity=\"1\"/>\n",
       "<polyline clip-path=\"url(#clip452)\" style=\"stroke:#000000; stroke-linecap:round; stroke-linejoin:round; stroke-width:4; stroke-opacity:1; fill:none\" points=\"1974.72,820.876 1974.72,980.47 2049.88,980.47 2049.88,820.876 1974.72,820.876 \"/>\n",
       "<path clip-path=\"url(#clip452)\" d=\"M2068.68 1423.18 L2068.68 1423.18 L2143.84 1423.18 L2143.84 1423.18 L2068.68 1423.18 L2068.68 1423.18  Z\" fill=\"#00a9ad\" fill-rule=\"evenodd\" fill-opacity=\"1\"/>\n",
       "<polyline clip-path=\"url(#clip452)\" style=\"stroke:#000000; stroke-linecap:round; stroke-linejoin:round; stroke-width:4; stroke-opacity:1; fill:none\" points=\"2068.68,1423.18 2068.68,1423.18 2143.84,1423.18 2068.68,1423.18 \"/>\n",
       "<path clip-path=\"url(#clip452)\" d=\"M2162.63 960.794 L2162.63 1058.08 L2237.79 1058.08 L2237.79 960.794 L2162.63 960.794 L2162.63 960.794  Z\" fill=\"#00a9ad\" fill-rule=\"evenodd\" fill-opacity=\"1\"/>\n",
       "<polyline clip-path=\"url(#clip452)\" style=\"stroke:#000000; stroke-linecap:round; stroke-linejoin:round; stroke-width:4; stroke-opacity:1; fill:none\" points=\"2162.63,960.794 2162.63,1058.08 2237.79,1058.08 2237.79,960.794 2162.63,960.794 \"/>\n",
       "<circle clip-path=\"url(#clip452)\" style=\"fill:#00a9ad; stroke:none; fill-opacity:0\" cx=\"415.098\" cy=\"788.083\" r=\"2\"/>\n",
       "<circle clip-path=\"url(#clip452)\" style=\"fill:#00a9ad; stroke:none; fill-opacity:0\" cx=\"509.051\" cy=\"868.973\" r=\"2\"/>\n",
       "<circle clip-path=\"url(#clip452)\" style=\"fill:#00a9ad; stroke:none; fill-opacity:0\" cx=\"603.004\" cy=\"794.642\" r=\"2\"/>\n",
       "<circle clip-path=\"url(#clip452)\" style=\"fill:#00a9ad; stroke:none; fill-opacity:0\" cx=\"696.957\" cy=\"1002.33\" r=\"2\"/>\n",
       "<circle clip-path=\"url(#clip452)\" style=\"fill:#00a9ad; stroke:none; fill-opacity:0\" cx=\"790.911\" cy=\"726.869\" r=\"2\"/>\n",
       "<circle clip-path=\"url(#clip452)\" style=\"fill:#00a9ad; stroke:none; fill-opacity:0\" cx=\"884.864\" cy=\"894.115\" r=\"2\"/>\n",
       "<circle clip-path=\"url(#clip452)\" style=\"fill:#00a9ad; stroke:none; fill-opacity:0\" cx=\"978.817\" cy=\"773.873\" r=\"2\"/>\n",
       "<circle clip-path=\"url(#clip452)\" style=\"fill:#00a9ad; stroke:none; fill-opacity:0\" cx=\"1072.77\" cy=\"730.148\" r=\"2\"/>\n",
       "<circle clip-path=\"url(#clip452)\" style=\"fill:#00a9ad; stroke:none; fill-opacity:0\" cx=\"1166.72\" cy=\"759.662\" r=\"2\"/>\n",
       "<circle clip-path=\"url(#clip452)\" style=\"fill:#00a9ad; stroke:none; fill-opacity:0\" cx=\"1260.68\" cy=\"618.651\" r=\"2\"/>\n",
       "<circle clip-path=\"url(#clip452)\" style=\"fill:#00a9ad; stroke:none; fill-opacity:0\" cx=\"1354.63\" cy=\"795.735\" r=\"2\"/>\n",
       "<circle clip-path=\"url(#clip452)\" style=\"fill:#00a9ad; stroke:none; fill-opacity:0\" cx=\"1448.58\" cy=\"1423.18\" r=\"2\"/>\n",
       "<circle clip-path=\"url(#clip452)\" style=\"fill:#00a9ad; stroke:none; fill-opacity:0\" cx=\"1542.54\" cy=\"589.137\" r=\"2\"/>\n",
       "<circle clip-path=\"url(#clip452)\" style=\"fill:#00a9ad; stroke:none; fill-opacity:0\" cx=\"1636.49\" cy=\"472.174\" r=\"2\"/>\n",
       "<circle clip-path=\"url(#clip452)\" style=\"fill:#00a9ad; stroke:none; fill-opacity:0\" cx=\"1730.44\" cy=\"754.197\" r=\"2\"/>\n",
       "<circle clip-path=\"url(#clip452)\" style=\"fill:#00a9ad; stroke:none; fill-opacity:0\" cx=\"1824.4\" cy=\"780.431\" r=\"2\"/>\n",
       "<circle clip-path=\"url(#clip452)\" style=\"fill:#00a9ad; stroke:none; fill-opacity:0\" cx=\"1918.35\" cy=\"697.355\" r=\"2\"/>\n",
       "<circle clip-path=\"url(#clip452)\" style=\"fill:#00a9ad; stroke:none; fill-opacity:0\" cx=\"2012.3\" cy=\"820.876\" r=\"2\"/>\n",
       "<circle clip-path=\"url(#clip452)\" style=\"fill:#00a9ad; stroke:none; fill-opacity:0\" cx=\"2106.26\" cy=\"1423.18\" r=\"2\"/>\n",
       "<circle clip-path=\"url(#clip452)\" style=\"fill:#00a9ad; stroke:none; fill-opacity:0\" cx=\"2200.21\" cy=\"960.794\" r=\"2\"/>\n",
       "<path clip-path=\"url(#clip452)\" d=\"M377.516 835.087 L377.516 884.277 L452.679 884.277 L452.679 835.087 L377.516 835.087 L377.516 835.087  Z\" fill=\"#ed5d92\" fill-rule=\"evenodd\" fill-opacity=\"1\"/>\n",
       "<polyline clip-path=\"url(#clip452)\" style=\"stroke:#000000; stroke-linecap:round; stroke-linejoin:round; stroke-width:4; stroke-opacity:1; fill:none\" points=\"377.516,835.087 377.516,884.277 452.679,884.277 452.679,835.087 377.516,835.087 \"/>\n",
       "<path clip-path=\"url(#clip452)\" d=\"M471.469 906.139 L471.469 1016.54 L546.632 1016.54 L546.632 906.139 L471.469 906.139 L471.469 906.139  Z\" fill=\"#ed5d92\" fill-rule=\"evenodd\" fill-opacity=\"1\"/>\n",
       "<polyline clip-path=\"url(#clip452)\" style=\"stroke:#000000; stroke-linecap:round; stroke-linejoin:round; stroke-width:4; stroke-opacity:1; fill:none\" points=\"471.469,906.139 471.469,1016.54 546.632,1016.54 546.632,906.139 471.469,906.139 \"/>\n",
       "<path clip-path=\"url(#clip452)\" d=\"M565.423 968.446 L565.423 1161.93 L640.585 1161.93 L640.585 968.446 L565.423 968.446 L565.423 968.446  Z\" fill=\"#ed5d92\" fill-rule=\"evenodd\" fill-opacity=\"1\"/>\n",
       "<polyline clip-path=\"url(#clip452)\" style=\"stroke:#000000; stroke-linecap:round; stroke-linejoin:round; stroke-width:4; stroke-opacity:1; fill:none\" points=\"565.423,968.446 565.423,1161.93 640.585,1161.93 640.585,968.446 565.423,968.446 \"/>\n",
       "<path clip-path=\"url(#clip452)\" d=\"M659.376 1072.29 L659.376 1225.33 L734.539 1225.33 L734.539 1072.29 L659.376 1072.29 L659.376 1072.29  Z\" fill=\"#ed5d92\" fill-rule=\"evenodd\" fill-opacity=\"1\"/>\n",
       "<polyline clip-path=\"url(#clip452)\" style=\"stroke:#000000; stroke-linecap:round; stroke-linejoin:round; stroke-width:4; stroke-opacity:1; fill:none\" points=\"659.376,1072.29 659.376,1225.33 734.539,1225.33 734.539,1072.29 659.376,1072.29 \"/>\n",
       "<path clip-path=\"url(#clip452)\" d=\"M753.329 919.256 L753.329 1055.89 L828.492 1055.89 L828.492 919.256 L753.329 919.256 L753.329 919.256  Z\" fill=\"#ed5d92\" fill-rule=\"evenodd\" fill-opacity=\"1\"/>\n",
       "<polyline clip-path=\"url(#clip452)\" style=\"stroke:#000000; stroke-linecap:round; stroke-linejoin:round; stroke-width:4; stroke-opacity:1; fill:none\" points=\"753.329,919.256 753.329,1055.89 828.492,1055.89 828.492,919.256 753.329,919.256 \"/>\n",
       "<path clip-path=\"url(#clip452)\" d=\"M847.283 1005.61 L847.283 1180.51 L922.445 1180.51 L922.445 1005.61 L847.283 1005.61 L847.283 1005.61  Z\" fill=\"#ed5d92\" fill-rule=\"evenodd\" fill-opacity=\"1\"/>\n",
       "<polyline clip-path=\"url(#clip452)\" style=\"stroke:#000000; stroke-linecap:round; stroke-linejoin:round; stroke-width:4; stroke-opacity:1; fill:none\" points=\"847.283,1005.61 847.283,1180.51 922.445,1180.51 922.445,1005.61 847.283,1005.61 \"/>\n",
       "<path clip-path=\"url(#clip452)\" d=\"M941.236 907.232 L941.236 957.515 L1016.4 957.515 L1016.4 907.232 L941.236 907.232 L941.236 907.232  Z\" fill=\"#ed5d92\" fill-rule=\"evenodd\" fill-opacity=\"1\"/>\n",
       "<polyline clip-path=\"url(#clip452)\" style=\"stroke:#000000; stroke-linecap:round; stroke-linejoin:round; stroke-width:4; stroke-opacity:1; fill:none\" points=\"941.236,907.232 941.236,957.515 1016.4,957.515 1016.4,907.232 941.236,907.232 \"/>\n",
       "<path clip-path=\"url(#clip452)\" d=\"M1035.19 913.791 L1035.19 1126.95 L1110.35 1126.95 L1110.35 913.791 L1035.19 913.791 L1035.19 913.791  Z\" fill=\"#ed5d92\" fill-rule=\"evenodd\" fill-opacity=\"1\"/>\n",
       "<polyline clip-path=\"url(#clip452)\" style=\"stroke:#000000; stroke-linecap:round; stroke-linejoin:round; stroke-width:4; stroke-opacity:1; fill:none\" points=\"1035.19,913.791 1035.19,1126.95 1110.35,1126.95 1110.35,913.791 1035.19,913.791 \"/>\n",
       "<path clip-path=\"url(#clip452)\" d=\"M1129.14 823.062 L1129.14 1037.31 L1204.3 1037.31 L1204.3 823.062 L1129.14 823.062 L1129.14 823.062  Z\" fill=\"#ed5d92\" fill-rule=\"evenodd\" fill-opacity=\"1\"/>\n",
       "<polyline clip-path=\"url(#clip452)\" style=\"stroke:#000000; stroke-linecap:round; stroke-linejoin:round; stroke-width:4; stroke-opacity:1; fill:none\" points=\"1129.14,823.062 1129.14,1037.31 1204.3,1037.31 1204.3,823.062 1129.14,823.062 \"/>\n",
       "<path clip-path=\"url(#clip452)\" d=\"M1223.1 708.286 L1223.1 720.31 L1298.26 720.31 L1298.26 708.286 L1223.1 708.286 L1223.1 708.286  Z\" fill=\"#ed5d92\" fill-rule=\"evenodd\" fill-opacity=\"1\"/>\n",
       "<polyline clip-path=\"url(#clip452)\" style=\"stroke:#000000; stroke-linecap:round; stroke-linejoin:round; stroke-width:4; stroke-opacity:1; fill:none\" points=\"1223.1,708.286 1223.1,720.31 1298.26,720.31 1298.26,708.286 1223.1,708.286 \"/>\n",
       "<path clip-path=\"url(#clip452)\" d=\"M1317.05 940.025 L1317.05 1008.89 L1392.21 1008.89 L1392.21 940.025 L1317.05 940.025 L1317.05 940.025  Z\" fill=\"#ed5d92\" fill-rule=\"evenodd\" fill-opacity=\"1\"/>\n",
       "<polyline clip-path=\"url(#clip452)\" style=\"stroke:#000000; stroke-linecap:round; stroke-linejoin:round; stroke-width:4; stroke-opacity:1; fill:none\" points=\"1317.05,940.025 1317.05,1008.89 1392.21,1008.89 1392.21,940.025 1317.05,940.025 \"/>\n",
       "<path clip-path=\"url(#clip452)\" d=\"M1411 1423.18 L1411 1423.18 L1486.16 1423.18 L1486.16 1423.18 L1411 1423.18 L1411 1423.18  Z\" fill=\"#ed5d92\" fill-rule=\"evenodd\" fill-opacity=\"1\"/>\n",
       "<polyline clip-path=\"url(#clip452)\" style=\"stroke:#000000; stroke-linecap:round; stroke-linejoin:round; stroke-width:4; stroke-opacity:1; fill:none\" points=\"1411,1423.18 1411,1423.18 1486.16,1423.18 1411,1423.18 \"/>\n",
       "<path clip-path=\"url(#clip452)\" d=\"M1504.96 752.01 L1504.96 829.621 L1580.12 829.621 L1580.12 752.01 L1504.96 752.01 L1504.96 752.01  Z\" fill=\"#ed5d92\" fill-rule=\"evenodd\" fill-opacity=\"1\"/>\n",
       "<polyline clip-path=\"url(#clip452)\" style=\"stroke:#000000; stroke-linecap:round; stroke-linejoin:round; stroke-width:4; stroke-opacity:1; fill:none\" points=\"1504.96,752.01 1504.96,829.621 1580.12,829.621 1580.12,752.01 1504.96,752.01 \"/>\n",
       "<path clip-path=\"url(#clip452)\" d=\"M1598.91 630.675 L1598.91 828.528 L1674.07 828.528 L1674.07 630.675 L1598.91 630.675 L1598.91 630.675  Z\" fill=\"#ed5d92\" fill-rule=\"evenodd\" fill-opacity=\"1\"/>\n",
       "<polyline clip-path=\"url(#clip452)\" style=\"stroke:#000000; stroke-linecap:round; stroke-linejoin:round; stroke-width:4; stroke-opacity:1; fill:none\" points=\"1598.91,630.675 1598.91,828.528 1674.07,828.528 1674.07,630.675 1598.91,630.675 \"/>\n",
       "<path clip-path=\"url(#clip452)\" d=\"M1692.86 909.418 L1692.86 1050.43 L1768.02 1050.43 L1768.02 909.418 L1692.86 909.418 L1692.86 909.418  Z\" fill=\"#ed5d92\" fill-rule=\"evenodd\" fill-opacity=\"1\"/>\n",
       "<polyline clip-path=\"url(#clip452)\" style=\"stroke:#000000; stroke-linecap:round; stroke-linejoin:round; stroke-width:4; stroke-opacity:1; fill:none\" points=\"1692.86,909.418 1692.86,1050.43 1768.02,1050.43 1768.02,909.418 1692.86,909.418 \"/>\n",
       "<path clip-path=\"url(#clip452)\" d=\"M1786.82 923.629 L1786.82 1095.25 L1861.98 1095.25 L1861.98 923.629 L1786.82 923.629 L1786.82 923.629  Z\" fill=\"#ed5d92\" fill-rule=\"evenodd\" fill-opacity=\"1\"/>\n",
       "<polyline clip-path=\"url(#clip452)\" style=\"stroke:#000000; stroke-linecap:round; stroke-linejoin:round; stroke-width:4; stroke-opacity:1; fill:none\" points=\"1786.82,923.629 1786.82,1095.25 1861.98,1095.25 1861.98,923.629 1786.82,923.629 \"/>\n",
       "<path clip-path=\"url(#clip452)\" d=\"M1880.77 862.414 L1880.77 1073.38 L1955.93 1073.38 L1955.93 862.414 L1880.77 862.414 L1880.77 862.414  Z\" fill=\"#ed5d92\" fill-rule=\"evenodd\" fill-opacity=\"1\"/>\n",
       "<polyline clip-path=\"url(#clip452)\" style=\"stroke:#000000; stroke-linecap:round; stroke-linejoin:round; stroke-width:4; stroke-opacity:1; fill:none\" points=\"1880.77,862.414 1880.77,1073.38 1955.93,1073.38 1955.93,862.414 1880.77,862.414 \"/>\n",
       "<path clip-path=\"url(#clip452)\" d=\"M1974.72 980.47 L1974.72 1063.55 L2049.88 1063.55 L2049.88 980.47 L1974.72 980.47 L1974.72 980.47  Z\" fill=\"#ed5d92\" fill-rule=\"evenodd\" fill-opacity=\"1\"/>\n",
       "<polyline clip-path=\"url(#clip452)\" style=\"stroke:#000000; stroke-linecap:round; stroke-linejoin:round; stroke-width:4; stroke-opacity:1; fill:none\" points=\"1974.72,980.47 1974.72,1063.55 2049.88,1063.55 2049.88,980.47 1974.72,980.47 \"/>\n",
       "<path clip-path=\"url(#clip452)\" d=\"M2068.68 1423.18 L2068.68 1423.18 L2143.84 1423.18 L2143.84 1423.18 L2068.68 1423.18 L2068.68 1423.18  Z\" fill=\"#ed5d92\" fill-rule=\"evenodd\" fill-opacity=\"1\"/>\n",
       "<polyline clip-path=\"url(#clip452)\" style=\"stroke:#000000; stroke-linecap:round; stroke-linejoin:round; stroke-width:4; stroke-opacity:1; fill:none\" points=\"2068.68,1423.18 2068.68,1423.18 2143.84,1423.18 2068.68,1423.18 \"/>\n",
       "<path clip-path=\"url(#clip452)\" d=\"M2162.63 1058.08 L2162.63 1130.23 L2237.79 1130.23 L2237.79 1058.08 L2162.63 1058.08 L2162.63 1058.08  Z\" fill=\"#ed5d92\" fill-rule=\"evenodd\" fill-opacity=\"1\"/>\n",
       "<polyline clip-path=\"url(#clip452)\" style=\"stroke:#000000; stroke-linecap:round; stroke-linejoin:round; stroke-width:4; stroke-opacity:1; fill:none\" points=\"2162.63,1058.08 2162.63,1130.23 2237.79,1130.23 2237.79,1058.08 2162.63,1058.08 \"/>\n",
       "<circle clip-path=\"url(#clip452)\" style=\"fill:#ed5d92; stroke:none; fill-opacity:0\" cx=\"415.098\" cy=\"835.087\" r=\"2\"/>\n",
       "<circle clip-path=\"url(#clip452)\" style=\"fill:#ed5d92; stroke:none; fill-opacity:0\" cx=\"509.051\" cy=\"906.139\" r=\"2\"/>\n",
       "<circle clip-path=\"url(#clip452)\" style=\"fill:#ed5d92; stroke:none; fill-opacity:0\" cx=\"603.004\" cy=\"968.446\" r=\"2\"/>\n",
       "<circle clip-path=\"url(#clip452)\" style=\"fill:#ed5d92; stroke:none; fill-opacity:0\" cx=\"696.957\" cy=\"1072.29\" r=\"2\"/>\n",
       "<circle clip-path=\"url(#clip452)\" style=\"fill:#ed5d92; stroke:none; fill-opacity:0\" cx=\"790.911\" cy=\"919.256\" r=\"2\"/>\n",
       "<circle clip-path=\"url(#clip452)\" style=\"fill:#ed5d92; stroke:none; fill-opacity:0\" cx=\"884.864\" cy=\"1005.61\" r=\"2\"/>\n",
       "<circle clip-path=\"url(#clip452)\" style=\"fill:#ed5d92; stroke:none; fill-opacity:0\" cx=\"978.817\" cy=\"907.232\" r=\"2\"/>\n",
       "<circle clip-path=\"url(#clip452)\" style=\"fill:#ed5d92; stroke:none; fill-opacity:0\" cx=\"1072.77\" cy=\"913.791\" r=\"2\"/>\n",
       "<circle clip-path=\"url(#clip452)\" style=\"fill:#ed5d92; stroke:none; fill-opacity:0\" cx=\"1166.72\" cy=\"823.062\" r=\"2\"/>\n",
       "<circle clip-path=\"url(#clip452)\" style=\"fill:#ed5d92; stroke:none; fill-opacity:0\" cx=\"1260.68\" cy=\"708.286\" r=\"2\"/>\n",
       "<circle clip-path=\"url(#clip452)\" style=\"fill:#ed5d92; stroke:none; fill-opacity:0\" cx=\"1354.63\" cy=\"940.025\" r=\"2\"/>\n",
       "<circle clip-path=\"url(#clip452)\" style=\"fill:#ed5d92; stroke:none; fill-opacity:0\" cx=\"1448.58\" cy=\"1423.18\" r=\"2\"/>\n",
       "<circle clip-path=\"url(#clip452)\" style=\"fill:#ed5d92; stroke:none; fill-opacity:0\" cx=\"1542.54\" cy=\"752.01\" r=\"2\"/>\n",
       "<circle clip-path=\"url(#clip452)\" style=\"fill:#ed5d92; stroke:none; fill-opacity:0\" cx=\"1636.49\" cy=\"630.675\" r=\"2\"/>\n",
       "<circle clip-path=\"url(#clip452)\" style=\"fill:#ed5d92; stroke:none; fill-opacity:0\" cx=\"1730.44\" cy=\"909.418\" r=\"2\"/>\n",
       "<circle clip-path=\"url(#clip452)\" style=\"fill:#ed5d92; stroke:none; fill-opacity:0\" cx=\"1824.4\" cy=\"923.629\" r=\"2\"/>\n",
       "<circle clip-path=\"url(#clip452)\" style=\"fill:#ed5d92; stroke:none; fill-opacity:0\" cx=\"1918.35\" cy=\"862.414\" r=\"2\"/>\n",
       "<circle clip-path=\"url(#clip452)\" style=\"fill:#ed5d92; stroke:none; fill-opacity:0\" cx=\"2012.3\" cy=\"980.47\" r=\"2\"/>\n",
       "<circle clip-path=\"url(#clip452)\" style=\"fill:#ed5d92; stroke:none; fill-opacity:0\" cx=\"2106.26\" cy=\"1423.18\" r=\"2\"/>\n",
       "<circle clip-path=\"url(#clip452)\" style=\"fill:#ed5d92; stroke:none; fill-opacity:0\" cx=\"2200.21\" cy=\"1058.08\" r=\"2\"/>\n",
       "<path clip-path=\"url(#clip452)\" d=\"M377.516 884.277 L377.516 909.418 L452.679 909.418 L452.679 884.277 L377.516 884.277 L377.516 884.277  Z\" fill=\"#c68125\" fill-rule=\"evenodd\" fill-opacity=\"1\"/>\n",
       "<polyline clip-path=\"url(#clip452)\" style=\"stroke:#000000; stroke-linecap:round; stroke-linejoin:round; stroke-width:4; stroke-opacity:1; fill:none\" points=\"377.516,884.277 377.516,909.418 452.679,909.418 452.679,884.277 377.516,884.277 \"/>\n",
       "<path clip-path=\"url(#clip452)\" d=\"M471.469 1016.54 L471.469 1151 L546.632 1151 L546.632 1016.54 L471.469 1016.54 L471.469 1016.54  Z\" fill=\"#c68125\" fill-rule=\"evenodd\" fill-opacity=\"1\"/>\n",
       "<polyline clip-path=\"url(#clip452)\" style=\"stroke:#000000; stroke-linecap:round; stroke-linejoin:round; stroke-width:4; stroke-opacity:1; fill:none\" points=\"471.469,1016.54 471.469,1151 546.632,1151 546.632,1016.54 471.469,1016.54 \"/>\n",
       "<path clip-path=\"url(#clip452)\" d=\"M565.423 1161.93 L565.423 1262.49 L640.585 1262.49 L640.585 1161.93 L565.423 1161.93 L565.423 1161.93  Z\" fill=\"#c68125\" fill-rule=\"evenodd\" fill-opacity=\"1\"/>\n",
       "<polyline clip-path=\"url(#clip452)\" style=\"stroke:#000000; stroke-linecap:round; stroke-linejoin:round; stroke-width:4; stroke-opacity:1; fill:none\" points=\"565.423,1161.93 565.423,1262.49 640.585,1262.49 640.585,1161.93 565.423,1161.93 \"/>\n",
       "<path clip-path=\"url(#clip452)\" d=\"M659.376 1225.33 L659.376 1320.43 L734.539 1320.43 L734.539 1225.33 L659.376 1225.33 L659.376 1225.33  Z\" fill=\"#c68125\" fill-rule=\"evenodd\" fill-opacity=\"1\"/>\n",
       "<polyline clip-path=\"url(#clip452)\" style=\"stroke:#000000; stroke-linecap:round; stroke-linejoin:round; stroke-width:4; stroke-opacity:1; fill:none\" points=\"659.376,1225.33 659.376,1320.43 734.539,1320.43 734.539,1225.33 659.376,1225.33 \"/>\n",
       "<path clip-path=\"url(#clip452)\" d=\"M753.329 1055.89 L753.329 1132.41 L828.492 1132.41 L828.492 1055.89 L753.329 1055.89 L753.329 1055.89  Z\" fill=\"#c68125\" fill-rule=\"evenodd\" fill-opacity=\"1\"/>\n",
       "<polyline clip-path=\"url(#clip452)\" style=\"stroke:#000000; stroke-linecap:round; stroke-linejoin:round; stroke-width:4; stroke-opacity:1; fill:none\" points=\"753.329,1055.89 753.329,1132.41 828.492,1132.41 828.492,1055.89 753.329,1055.89 \"/>\n",
       "<path clip-path=\"url(#clip452)\" d=\"M847.283 1180.51 L847.283 1299.66 L922.445 1299.66 L922.445 1180.51 L847.283 1180.51 L847.283 1180.51  Z\" fill=\"#c68125\" fill-rule=\"evenodd\" fill-opacity=\"1\"/>\n",
       "<polyline clip-path=\"url(#clip452)\" style=\"stroke:#000000; stroke-linecap:round; stroke-linejoin:round; stroke-width:4; stroke-opacity:1; fill:none\" points=\"847.283,1180.51 847.283,1299.66 922.445,1299.66 922.445,1180.51 847.283,1180.51 \"/>\n",
       "<path clip-path=\"url(#clip452)\" d=\"M941.236 957.515 L941.236 1114.92 L1016.4 1114.92 L1016.4 957.515 L941.236 957.515 L941.236 957.515  Z\" fill=\"#c68125\" fill-rule=\"evenodd\" fill-opacity=\"1\"/>\n",
       "<polyline clip-path=\"url(#clip452)\" style=\"stroke:#000000; stroke-linecap:round; stroke-linejoin:round; stroke-width:4; stroke-opacity:1; fill:none\" points=\"941.236,957.515 941.236,1114.92 1016.4,1114.92 1016.4,957.515 941.236,957.515 \"/>\n",
       "<path clip-path=\"url(#clip452)\" d=\"M1035.19 1126.95 L1035.19 1255.93 L1110.35 1255.93 L1110.35 1126.95 L1035.19 1126.95 L1035.19 1126.95  Z\" fill=\"#c68125\" fill-rule=\"evenodd\" fill-opacity=\"1\"/>\n",
       "<polyline clip-path=\"url(#clip452)\" style=\"stroke:#000000; stroke-linecap:round; stroke-linejoin:round; stroke-width:4; stroke-opacity:1; fill:none\" points=\"1035.19,1126.95 1035.19,1255.93 1110.35,1255.93 1110.35,1126.95 1035.19,1126.95 \"/>\n",
       "<path clip-path=\"url(#clip452)\" d=\"M1129.14 1037.31 L1129.14 1142.25 L1204.3 1142.25 L1204.3 1037.31 L1129.14 1037.31 L1129.14 1037.31  Z\" fill=\"#c68125\" fill-rule=\"evenodd\" fill-opacity=\"1\"/>\n",
       "<polyline clip-path=\"url(#clip452)\" style=\"stroke:#000000; stroke-linecap:round; stroke-linejoin:round; stroke-width:4; stroke-opacity:1; fill:none\" points=\"1129.14,1037.31 1129.14,1142.25 1204.3,1142.25 1204.3,1037.31 1129.14,1037.31 \"/>\n",
       "<path clip-path=\"url(#clip452)\" d=\"M1223.1 720.31 L1223.1 761.848 L1298.26 761.848 L1298.26 720.31 L1223.1 720.31 L1223.1 720.31  Z\" fill=\"#c68125\" fill-rule=\"evenodd\" fill-opacity=\"1\"/>\n",
       "<polyline clip-path=\"url(#clip452)\" style=\"stroke:#000000; stroke-linecap:round; stroke-linejoin:round; stroke-width:4; stroke-opacity:1; fill:none\" points=\"1223.1,720.31 1223.1,761.848 1298.26,761.848 1298.26,720.31 1223.1,720.31 \"/>\n",
       "<path clip-path=\"url(#clip452)\" d=\"M1317.05 1008.89 L1317.05 1099.62 L1392.21 1099.62 L1392.21 1008.89 L1317.05 1008.89 L1317.05 1008.89  Z\" fill=\"#c68125\" fill-rule=\"evenodd\" fill-opacity=\"1\"/>\n",
       "<polyline clip-path=\"url(#clip452)\" style=\"stroke:#000000; stroke-linecap:round; stroke-linejoin:round; stroke-width:4; stroke-opacity:1; fill:none\" points=\"1317.05,1008.89 1317.05,1099.62 1392.21,1099.62 1392.21,1008.89 1317.05,1008.89 \"/>\n",
       "<path clip-path=\"url(#clip452)\" d=\"M1411 1423.18 L1411 1423.18 L1486.16 1423.18 L1486.16 1423.18 L1411 1423.18 L1411 1423.18  Z\" fill=\"#c68125\" fill-rule=\"evenodd\" fill-opacity=\"1\"/>\n",
       "<polyline clip-path=\"url(#clip452)\" style=\"stroke:#000000; stroke-linecap:round; stroke-linejoin:round; stroke-width:4; stroke-opacity:1; fill:none\" points=\"1411,1423.18 1411,1423.18 1486.16,1423.18 1411,1423.18 \"/>\n",
       "<path clip-path=\"url(#clip452)\" d=\"M1504.96 829.621 L1504.96 980.47 L1580.12 980.47 L1580.12 829.621 L1504.96 829.621 L1504.96 829.621  Z\" fill=\"#c68125\" fill-rule=\"evenodd\" fill-opacity=\"1\"/>\n",
       "<polyline clip-path=\"url(#clip452)\" style=\"stroke:#000000; stroke-linecap:round; stroke-linejoin:round; stroke-width:4; stroke-opacity:1; fill:none\" points=\"1504.96,829.621 1504.96,980.47 1580.12,980.47 1580.12,829.621 1504.96,829.621 \"/>\n",
       "<path clip-path=\"url(#clip452)\" d=\"M1598.91 828.528 L1598.91 958.608 L1674.07 958.608 L1674.07 828.528 L1598.91 828.528 L1598.91 828.528  Z\" fill=\"#c68125\" fill-rule=\"evenodd\" fill-opacity=\"1\"/>\n",
       "<polyline clip-path=\"url(#clip452)\" style=\"stroke:#000000; stroke-linecap:round; stroke-linejoin:round; stroke-width:4; stroke-opacity:1; fill:none\" points=\"1598.91,828.528 1598.91,958.608 1674.07,958.608 1674.07,828.528 1598.91,828.528 \"/>\n",
       "<path clip-path=\"url(#clip452)\" d=\"M1692.86 1050.43 L1692.86 1078.85 L1768.02 1078.85 L1768.02 1050.43 L1692.86 1050.43 L1692.86 1050.43  Z\" fill=\"#c68125\" fill-rule=\"evenodd\" fill-opacity=\"1\"/>\n",
       "<polyline clip-path=\"url(#clip452)\" style=\"stroke:#000000; stroke-linecap:round; stroke-linejoin:round; stroke-width:4; stroke-opacity:1; fill:none\" points=\"1692.86,1050.43 1692.86,1078.85 1768.02,1078.85 1768.02,1050.43 1692.86,1050.43 \"/>\n",
       "<path clip-path=\"url(#clip452)\" d=\"M1786.82 1095.25 L1786.82 1216.58 L1861.98 1216.58 L1861.98 1095.25 L1786.82 1095.25 L1786.82 1095.25  Z\" fill=\"#c68125\" fill-rule=\"evenodd\" fill-opacity=\"1\"/>\n",
       "<polyline clip-path=\"url(#clip452)\" style=\"stroke:#000000; stroke-linecap:round; stroke-linejoin:round; stroke-width:4; stroke-opacity:1; fill:none\" points=\"1786.82,1095.25 1786.82,1216.58 1861.98,1216.58 1861.98,1095.25 1786.82,1095.25 \"/>\n",
       "<path clip-path=\"url(#clip452)\" d=\"M1880.77 1073.38 L1880.77 1218.77 L1955.93 1218.77 L1955.93 1073.38 L1880.77 1073.38 L1880.77 1073.38  Z\" fill=\"#c68125\" fill-rule=\"evenodd\" fill-opacity=\"1\"/>\n",
       "<polyline clip-path=\"url(#clip452)\" style=\"stroke:#000000; stroke-linecap:round; stroke-linejoin:round; stroke-width:4; stroke-opacity:1; fill:none\" points=\"1880.77,1073.38 1880.77,1218.77 1955.93,1218.77 1955.93,1073.38 1880.77,1073.38 \"/>\n",
       "<path clip-path=\"url(#clip452)\" d=\"M1974.72 1063.55 L1974.72 1245 L2049.88 1245 L2049.88 1063.55 L1974.72 1063.55 L1974.72 1063.55  Z\" fill=\"#c68125\" fill-rule=\"evenodd\" fill-opacity=\"1\"/>\n",
       "<polyline clip-path=\"url(#clip452)\" style=\"stroke:#000000; stroke-linecap:round; stroke-linejoin:round; stroke-width:4; stroke-opacity:1; fill:none\" points=\"1974.72,1063.55 1974.72,1245 2049.88,1245 2049.88,1063.55 1974.72,1063.55 \"/>\n",
       "<path clip-path=\"url(#clip452)\" d=\"M2068.68 1423.18 L2068.68 1423.18 L2143.84 1423.18 L2143.84 1423.18 L2068.68 1423.18 L2068.68 1423.18  Z\" fill=\"#c68125\" fill-rule=\"evenodd\" fill-opacity=\"1\"/>\n",
       "<polyline clip-path=\"url(#clip452)\" style=\"stroke:#000000; stroke-linecap:round; stroke-linejoin:round; stroke-width:4; stroke-opacity:1; fill:none\" points=\"2068.68,1423.18 2068.68,1423.18 2143.84,1423.18 2068.68,1423.18 \"/>\n",
       "<path clip-path=\"url(#clip452)\" d=\"M2162.63 1130.23 L2162.63 1231.89 L2237.79 1231.89 L2237.79 1130.23 L2162.63 1130.23 L2162.63 1130.23  Z\" fill=\"#c68125\" fill-rule=\"evenodd\" fill-opacity=\"1\"/>\n",
       "<polyline clip-path=\"url(#clip452)\" style=\"stroke:#000000; stroke-linecap:round; stroke-linejoin:round; stroke-width:4; stroke-opacity:1; fill:none\" points=\"2162.63,1130.23 2162.63,1231.89 2237.79,1231.89 2237.79,1130.23 2162.63,1130.23 \"/>\n",
       "<circle clip-path=\"url(#clip452)\" style=\"fill:#c68125; stroke:none; fill-opacity:0\" cx=\"415.098\" cy=\"884.277\" r=\"2\"/>\n",
       "<circle clip-path=\"url(#clip452)\" style=\"fill:#c68125; stroke:none; fill-opacity:0\" cx=\"509.051\" cy=\"1016.54\" r=\"2\"/>\n",
       "<circle clip-path=\"url(#clip452)\" style=\"fill:#c68125; stroke:none; fill-opacity:0\" cx=\"603.004\" cy=\"1161.93\" r=\"2\"/>\n",
       "<circle clip-path=\"url(#clip452)\" style=\"fill:#c68125; stroke:none; fill-opacity:0\" cx=\"696.957\" cy=\"1225.33\" r=\"2\"/>\n",
       "<circle clip-path=\"url(#clip452)\" style=\"fill:#c68125; stroke:none; fill-opacity:0\" cx=\"790.911\" cy=\"1055.89\" r=\"2\"/>\n",
       "<circle clip-path=\"url(#clip452)\" style=\"fill:#c68125; stroke:none; fill-opacity:0\" cx=\"884.864\" cy=\"1180.51\" r=\"2\"/>\n",
       "<circle clip-path=\"url(#clip452)\" style=\"fill:#c68125; stroke:none; fill-opacity:0\" cx=\"978.817\" cy=\"957.515\" r=\"2\"/>\n",
       "<circle clip-path=\"url(#clip452)\" style=\"fill:#c68125; stroke:none; fill-opacity:0\" cx=\"1072.77\" cy=\"1126.95\" r=\"2\"/>\n",
       "<circle clip-path=\"url(#clip452)\" style=\"fill:#c68125; stroke:none; fill-opacity:0\" cx=\"1166.72\" cy=\"1037.31\" r=\"2\"/>\n",
       "<circle clip-path=\"url(#clip452)\" style=\"fill:#c68125; stroke:none; fill-opacity:0\" cx=\"1260.68\" cy=\"720.31\" r=\"2\"/>\n",
       "<circle clip-path=\"url(#clip452)\" style=\"fill:#c68125; stroke:none; fill-opacity:0\" cx=\"1354.63\" cy=\"1008.89\" r=\"2\"/>\n",
       "<circle clip-path=\"url(#clip452)\" style=\"fill:#c68125; stroke:none; fill-opacity:0\" cx=\"1448.58\" cy=\"1423.18\" r=\"2\"/>\n",
       "<circle clip-path=\"url(#clip452)\" style=\"fill:#c68125; stroke:none; fill-opacity:0\" cx=\"1542.54\" cy=\"829.621\" r=\"2\"/>\n",
       "<circle clip-path=\"url(#clip452)\" style=\"fill:#c68125; stroke:none; fill-opacity:0\" cx=\"1636.49\" cy=\"828.528\" r=\"2\"/>\n",
       "<circle clip-path=\"url(#clip452)\" style=\"fill:#c68125; stroke:none; fill-opacity:0\" cx=\"1730.44\" cy=\"1050.43\" r=\"2\"/>\n",
       "<circle clip-path=\"url(#clip452)\" style=\"fill:#c68125; stroke:none; fill-opacity:0\" cx=\"1824.4\" cy=\"1095.25\" r=\"2\"/>\n",
       "<circle clip-path=\"url(#clip452)\" style=\"fill:#c68125; stroke:none; fill-opacity:0\" cx=\"1918.35\" cy=\"1073.38\" r=\"2\"/>\n",
       "<circle clip-path=\"url(#clip452)\" style=\"fill:#c68125; stroke:none; fill-opacity:0\" cx=\"2012.3\" cy=\"1063.55\" r=\"2\"/>\n",
       "<circle clip-path=\"url(#clip452)\" style=\"fill:#c68125; stroke:none; fill-opacity:0\" cx=\"2106.26\" cy=\"1423.18\" r=\"2\"/>\n",
       "<circle clip-path=\"url(#clip452)\" style=\"fill:#c68125; stroke:none; fill-opacity:0\" cx=\"2200.21\" cy=\"1130.23\" r=\"2\"/>\n",
       "<path clip-path=\"url(#clip452)\" d=\"M377.516 909.418 L377.516 1041.68 L452.679 1041.68 L452.679 909.418 L377.516 909.418 L377.516 909.418  Z\" fill=\"#00a98d\" fill-rule=\"evenodd\" fill-opacity=\"1\"/>\n",
       "<polyline clip-path=\"url(#clip452)\" style=\"stroke:#000000; stroke-linecap:round; stroke-linejoin:round; stroke-width:4; stroke-opacity:1; fill:none\" points=\"377.516,909.418 377.516,1041.68 452.679,1041.68 452.679,909.418 377.516,909.418 \"/>\n",
       "<path clip-path=\"url(#clip452)\" d=\"M471.469 1151 L471.469 1330.27 L546.632 1330.27 L546.632 1151 L471.469 1151 L471.469 1151  Z\" fill=\"#00a98d\" fill-rule=\"evenodd\" fill-opacity=\"1\"/>\n",
       "<polyline clip-path=\"url(#clip452)\" style=\"stroke:#000000; stroke-linecap:round; stroke-linejoin:round; stroke-width:4; stroke-opacity:1; fill:none\" points=\"471.469,1151 471.469,1330.27 546.632,1330.27 546.632,1151 471.469,1151 \"/>\n",
       "<path clip-path=\"url(#clip452)\" d=\"M565.423 1262.49 L565.423 1402.41 L640.585 1402.41 L640.585 1262.49 L565.423 1262.49 L565.423 1262.49  Z\" fill=\"#00a98d\" fill-rule=\"evenodd\" fill-opacity=\"1\"/>\n",
       "<polyline clip-path=\"url(#clip452)\" style=\"stroke:#000000; stroke-linecap:round; stroke-linejoin:round; stroke-width:4; stroke-opacity:1; fill:none\" points=\"565.423,1262.49 565.423,1402.41 640.585,1402.41 640.585,1262.49 565.423,1262.49 \"/>\n",
       "<path clip-path=\"url(#clip452)\" d=\"M659.376 1320.43 L659.376 1423.18 L734.539 1423.18 L734.539 1320.43 L659.376 1320.43 L659.376 1320.43  Z\" fill=\"#00a98d\" fill-rule=\"evenodd\" fill-opacity=\"1\"/>\n",
       "<polyline clip-path=\"url(#clip452)\" style=\"stroke:#000000; stroke-linecap:round; stroke-linejoin:round; stroke-width:4; stroke-opacity:1; fill:none\" points=\"659.376,1320.43 659.376,1423.18 734.539,1423.18 734.539,1320.43 659.376,1320.43 \"/>\n",
       "<path clip-path=\"url(#clip452)\" d=\"M753.329 1132.41 L753.329 1298.57 L828.492 1298.57 L828.492 1132.41 L753.329 1132.41 L753.329 1132.41  Z\" fill=\"#00a98d\" fill-rule=\"evenodd\" fill-opacity=\"1\"/>\n",
       "<polyline clip-path=\"url(#clip452)\" style=\"stroke:#000000; stroke-linecap:round; stroke-linejoin:round; stroke-width:4; stroke-opacity:1; fill:none\" points=\"753.329,1132.41 753.329,1298.57 828.492,1298.57 828.492,1132.41 753.329,1132.41 \"/>\n",
       "<path clip-path=\"url(#clip452)\" d=\"M847.283 1299.66 L847.283 1423.18 L922.445 1423.18 L922.445 1299.66 L847.283 1299.66 L847.283 1299.66  Z\" fill=\"#00a98d\" fill-rule=\"evenodd\" fill-opacity=\"1\"/>\n",
       "<polyline clip-path=\"url(#clip452)\" style=\"stroke:#000000; stroke-linecap:round; stroke-linejoin:round; stroke-width:4; stroke-opacity:1; fill:none\" points=\"847.283,1299.66 847.283,1423.18 922.445,1423.18 922.445,1299.66 847.283,1299.66 \"/>\n",
       "<path clip-path=\"url(#clip452)\" d=\"M941.236 1114.92 L941.236 1253.75 L1016.4 1253.75 L1016.4 1114.92 L941.236 1114.92 L941.236 1114.92  Z\" fill=\"#00a98d\" fill-rule=\"evenodd\" fill-opacity=\"1\"/>\n",
       "<polyline clip-path=\"url(#clip452)\" style=\"stroke:#000000; stroke-linecap:round; stroke-linejoin:round; stroke-width:4; stroke-opacity:1; fill:none\" points=\"941.236,1114.92 941.236,1253.75 1016.4,1253.75 1016.4,1114.92 941.236,1114.92 \"/>\n",
       "<path clip-path=\"url(#clip452)\" d=\"M1035.19 1255.93 L1035.19 1423.18 L1110.35 1423.18 L1110.35 1255.93 L1035.19 1255.93 L1035.19 1255.93  Z\" fill=\"#00a98d\" fill-rule=\"evenodd\" fill-opacity=\"1\"/>\n",
       "<polyline clip-path=\"url(#clip452)\" style=\"stroke:#000000; stroke-linecap:round; stroke-linejoin:round; stroke-width:4; stroke-opacity:1; fill:none\" points=\"1035.19,1255.93 1035.19,1423.18 1110.35,1423.18 1110.35,1255.93 1035.19,1255.93 \"/>\n",
       "<path clip-path=\"url(#clip452)\" d=\"M1129.14 1142.25 L1129.14 1251.56 L1204.3 1251.56 L1204.3 1142.25 L1129.14 1142.25 L1129.14 1142.25  Z\" fill=\"#00a98d\" fill-rule=\"evenodd\" fill-opacity=\"1\"/>\n",
       "<polyline clip-path=\"url(#clip452)\" style=\"stroke:#000000; stroke-linecap:round; stroke-linejoin:round; stroke-width:4; stroke-opacity:1; fill:none\" points=\"1129.14,1142.25 1129.14,1251.56 1204.3,1251.56 1204.3,1142.25 1129.14,1142.25 \"/>\n",
       "<path clip-path=\"url(#clip452)\" d=\"M1223.1 761.848 L1223.1 909.418 L1298.26 909.418 L1298.26 761.848 L1223.1 761.848 L1223.1 761.848  Z\" fill=\"#00a98d\" fill-rule=\"evenodd\" fill-opacity=\"1\"/>\n",
       "<polyline clip-path=\"url(#clip452)\" style=\"stroke:#000000; stroke-linecap:round; stroke-linejoin:round; stroke-width:4; stroke-opacity:1; fill:none\" points=\"1223.1,761.848 1223.1,909.418 1298.26,909.418 1298.26,761.848 1223.1,761.848 \"/>\n",
       "<path clip-path=\"url(#clip452)\" d=\"M1317.05 1099.62 L1317.05 1226.42 L1392.21 1226.42 L1392.21 1099.62 L1317.05 1099.62 L1317.05 1099.62  Z\" fill=\"#00a98d\" fill-rule=\"evenodd\" fill-opacity=\"1\"/>\n",
       "<polyline clip-path=\"url(#clip452)\" style=\"stroke:#000000; stroke-linecap:round; stroke-linejoin:round; stroke-width:4; stroke-opacity:1; fill:none\" points=\"1317.05,1099.62 1317.05,1226.42 1392.21,1226.42 1392.21,1099.62 1317.05,1099.62 \"/>\n",
       "<path clip-path=\"url(#clip452)\" d=\"M1411 1423.18 L1411 1423.18 L1486.16 1423.18 L1486.16 1423.18 L1411 1423.18 L1411 1423.18  Z\" fill=\"#00a98d\" fill-rule=\"evenodd\" fill-opacity=\"1\"/>\n",
       "<polyline clip-path=\"url(#clip452)\" style=\"stroke:#000000; stroke-linecap:round; stroke-linejoin:round; stroke-width:4; stroke-opacity:1; fill:none\" points=\"1411,1423.18 1411,1423.18 1486.16,1423.18 1411,1423.18 \"/>\n",
       "<path clip-path=\"url(#clip452)\" d=\"M1504.96 980.47 L1504.96 1062.45 L1580.12 1062.45 L1580.12 980.47 L1504.96 980.47 L1504.96 980.47  Z\" fill=\"#00a98d\" fill-rule=\"evenodd\" fill-opacity=\"1\"/>\n",
       "<polyline clip-path=\"url(#clip452)\" style=\"stroke:#000000; stroke-linecap:round; stroke-linejoin:round; stroke-width:4; stroke-opacity:1; fill:none\" points=\"1504.96,980.47 1504.96,1062.45 1580.12,1062.45 1580.12,980.47 1504.96,980.47 \"/>\n",
       "<path clip-path=\"url(#clip452)\" d=\"M1598.91 958.608 L1598.91 1073.38 L1674.07 1073.38 L1674.07 958.608 L1598.91 958.608 L1598.91 958.608  Z\" fill=\"#00a98d\" fill-rule=\"evenodd\" fill-opacity=\"1\"/>\n",
       "<polyline clip-path=\"url(#clip452)\" style=\"stroke:#000000; stroke-linecap:round; stroke-linejoin:round; stroke-width:4; stroke-opacity:1; fill:none\" points=\"1598.91,958.608 1598.91,1073.38 1674.07,1073.38 1674.07,958.608 1598.91,958.608 \"/>\n",
       "<path clip-path=\"url(#clip452)\" d=\"M1692.86 1078.85 L1692.86 1216.58 L1768.02 1216.58 L1768.02 1078.85 L1692.86 1078.85 L1692.86 1078.85  Z\" fill=\"#00a98d\" fill-rule=\"evenodd\" fill-opacity=\"1\"/>\n",
       "<polyline clip-path=\"url(#clip452)\" style=\"stroke:#000000; stroke-linecap:round; stroke-linejoin:round; stroke-width:4; stroke-opacity:1; fill:none\" points=\"1692.86,1078.85 1692.86,1216.58 1768.02,1216.58 1768.02,1078.85 1692.86,1078.85 \"/>\n",
       "<path clip-path=\"url(#clip452)\" d=\"M1786.82 1216.58 L1786.82 1314.96 L1861.98 1314.96 L1861.98 1216.58 L1786.82 1216.58 L1786.82 1216.58  Z\" fill=\"#00a98d\" fill-rule=\"evenodd\" fill-opacity=\"1\"/>\n",
       "<polyline clip-path=\"url(#clip452)\" style=\"stroke:#000000; stroke-linecap:round; stroke-linejoin:round; stroke-width:4; stroke-opacity:1; fill:none\" points=\"1786.82,1216.58 1786.82,1314.96 1861.98,1314.96 1861.98,1216.58 1786.82,1216.58 \"/>\n",
       "<path clip-path=\"url(#clip452)\" d=\"M1880.77 1218.77 L1880.77 1423.18 L1955.93 1423.18 L1955.93 1218.77 L1880.77 1218.77 L1880.77 1218.77  Z\" fill=\"#00a98d\" fill-rule=\"evenodd\" fill-opacity=\"1\"/>\n",
       "<polyline clip-path=\"url(#clip452)\" style=\"stroke:#000000; stroke-linecap:round; stroke-linejoin:round; stroke-width:4; stroke-opacity:1; fill:none\" points=\"1880.77,1218.77 1880.77,1423.18 1955.93,1423.18 1955.93,1218.77 1880.77,1218.77 \"/>\n",
       "<path clip-path=\"url(#clip452)\" d=\"M1974.72 1245 L1974.72 1423.18 L2049.88 1423.18 L2049.88 1245 L1974.72 1245 L1974.72 1245  Z\" fill=\"#00a98d\" fill-rule=\"evenodd\" fill-opacity=\"1\"/>\n",
       "<polyline clip-path=\"url(#clip452)\" style=\"stroke:#000000; stroke-linecap:round; stroke-linejoin:round; stroke-width:4; stroke-opacity:1; fill:none\" points=\"1974.72,1245 1974.72,1423.18 2049.88,1423.18 2049.88,1245 1974.72,1245 \"/>\n",
       "<path clip-path=\"url(#clip452)\" d=\"M2068.68 1423.18 L2068.68 1423.18 L2143.84 1423.18 L2143.84 1423.18 L2068.68 1423.18 L2068.68 1423.18  Z\" fill=\"#00a98d\" fill-rule=\"evenodd\" fill-opacity=\"1\"/>\n",
       "<polyline clip-path=\"url(#clip452)\" style=\"stroke:#000000; stroke-linecap:round; stroke-linejoin:round; stroke-width:4; stroke-opacity:1; fill:none\" points=\"2068.68,1423.18 2068.68,1423.18 2143.84,1423.18 2068.68,1423.18 \"/>\n",
       "<path clip-path=\"url(#clip452)\" d=\"M2162.63 1231.89 L2162.63 1266.87 L2237.79 1266.87 L2237.79 1231.89 L2162.63 1231.89 L2162.63 1231.89  Z\" fill=\"#00a98d\" fill-rule=\"evenodd\" fill-opacity=\"1\"/>\n",
       "<polyline clip-path=\"url(#clip452)\" style=\"stroke:#000000; stroke-linecap:round; stroke-linejoin:round; stroke-width:4; stroke-opacity:1; fill:none\" points=\"2162.63,1231.89 2162.63,1266.87 2237.79,1266.87 2237.79,1231.89 2162.63,1231.89 \"/>\n",
       "<circle clip-path=\"url(#clip452)\" style=\"fill:#00a98d; stroke:none; fill-opacity:0\" cx=\"415.098\" cy=\"909.418\" r=\"2\"/>\n",
       "<circle clip-path=\"url(#clip452)\" style=\"fill:#00a98d; stroke:none; fill-opacity:0\" cx=\"509.051\" cy=\"1151\" r=\"2\"/>\n",
       "<circle clip-path=\"url(#clip452)\" style=\"fill:#00a98d; stroke:none; fill-opacity:0\" cx=\"603.004\" cy=\"1262.49\" r=\"2\"/>\n",
       "<circle clip-path=\"url(#clip452)\" style=\"fill:#00a98d; stroke:none; fill-opacity:0\" cx=\"696.957\" cy=\"1320.43\" r=\"2\"/>\n",
       "<circle clip-path=\"url(#clip452)\" style=\"fill:#00a98d; stroke:none; fill-opacity:0\" cx=\"790.911\" cy=\"1132.41\" r=\"2\"/>\n",
       "<circle clip-path=\"url(#clip452)\" style=\"fill:#00a98d; stroke:none; fill-opacity:0\" cx=\"884.864\" cy=\"1299.66\" r=\"2\"/>\n",
       "<circle clip-path=\"url(#clip452)\" style=\"fill:#00a98d; stroke:none; fill-opacity:0\" cx=\"978.817\" cy=\"1114.92\" r=\"2\"/>\n",
       "<circle clip-path=\"url(#clip452)\" style=\"fill:#00a98d; stroke:none; fill-opacity:0\" cx=\"1072.77\" cy=\"1255.93\" r=\"2\"/>\n",
       "<circle clip-path=\"url(#clip452)\" style=\"fill:#00a98d; stroke:none; fill-opacity:0\" cx=\"1166.72\" cy=\"1142.25\" r=\"2\"/>\n",
       "<circle clip-path=\"url(#clip452)\" style=\"fill:#00a98d; stroke:none; fill-opacity:0\" cx=\"1260.68\" cy=\"761.848\" r=\"2\"/>\n",
       "<circle clip-path=\"url(#clip452)\" style=\"fill:#00a98d; stroke:none; fill-opacity:0\" cx=\"1354.63\" cy=\"1099.62\" r=\"2\"/>\n",
       "<circle clip-path=\"url(#clip452)\" style=\"fill:#00a98d; stroke:none; fill-opacity:0\" cx=\"1448.58\" cy=\"1423.18\" r=\"2\"/>\n",
       "<circle clip-path=\"url(#clip452)\" style=\"fill:#00a98d; stroke:none; fill-opacity:0\" cx=\"1542.54\" cy=\"980.47\" r=\"2\"/>\n",
       "<circle clip-path=\"url(#clip452)\" style=\"fill:#00a98d; stroke:none; fill-opacity:0\" cx=\"1636.49\" cy=\"958.608\" r=\"2\"/>\n",
       "<circle clip-path=\"url(#clip452)\" style=\"fill:#00a98d; stroke:none; fill-opacity:0\" cx=\"1730.44\" cy=\"1078.85\" r=\"2\"/>\n",
       "<circle clip-path=\"url(#clip452)\" style=\"fill:#00a98d; stroke:none; fill-opacity:0\" cx=\"1824.4\" cy=\"1216.58\" r=\"2\"/>\n",
       "<circle clip-path=\"url(#clip452)\" style=\"fill:#00a98d; stroke:none; fill-opacity:0\" cx=\"1918.35\" cy=\"1218.77\" r=\"2\"/>\n",
       "<circle clip-path=\"url(#clip452)\" style=\"fill:#00a98d; stroke:none; fill-opacity:0\" cx=\"2012.3\" cy=\"1245\" r=\"2\"/>\n",
       "<circle clip-path=\"url(#clip452)\" style=\"fill:#00a98d; stroke:none; fill-opacity:0\" cx=\"2106.26\" cy=\"1423.18\" r=\"2\"/>\n",
       "<circle clip-path=\"url(#clip452)\" style=\"fill:#00a98d; stroke:none; fill-opacity:0\" cx=\"2200.21\" cy=\"1231.89\" r=\"2\"/>\n",
       "<path clip-path=\"url(#clip452)\" d=\"M377.516 1041.68 L377.516 1114.92 L452.679 1114.92 L452.679 1041.68 L377.516 1041.68 L377.516 1041.68  Z\" fill=\"#8e971d\" fill-rule=\"evenodd\" fill-opacity=\"1\"/>\n",
       "<polyline clip-path=\"url(#clip452)\" style=\"stroke:#000000; stroke-linecap:round; stroke-linejoin:round; stroke-width:4; stroke-opacity:1; fill:none\" points=\"377.516,1041.68 377.516,1114.92 452.679,1114.92 452.679,1041.68 377.516,1041.68 \"/>\n",
       "<path clip-path=\"url(#clip452)\" d=\"M471.469 1330.27 L471.469 1382.73 L546.632 1382.73 L546.632 1330.27 L471.469 1330.27 L471.469 1330.27  Z\" fill=\"#8e971d\" fill-rule=\"evenodd\" fill-opacity=\"1\"/>\n",
       "<polyline clip-path=\"url(#clip452)\" style=\"stroke:#000000; stroke-linecap:round; stroke-linejoin:round; stroke-width:4; stroke-opacity:1; fill:none\" points=\"471.469,1330.27 471.469,1382.73 546.632,1382.73 546.632,1330.27 471.469,1330.27 \"/>\n",
       "<path clip-path=\"url(#clip452)\" d=\"M565.423 1402.41 L565.423 1423.18 L640.585 1423.18 L640.585 1402.41 L565.423 1402.41 L565.423 1402.41  Z\" fill=\"#8e971d\" fill-rule=\"evenodd\" fill-opacity=\"1\"/>\n",
       "<polyline clip-path=\"url(#clip452)\" style=\"stroke:#000000; stroke-linecap:round; stroke-linejoin:round; stroke-width:4; stroke-opacity:1; fill:none\" points=\"565.423,1402.41 565.423,1423.18 640.585,1423.18 640.585,1402.41 565.423,1402.41 \"/>\n",
       "<path clip-path=\"url(#clip452)\" d=\"M659.376 1423.18 L659.376 1423.18 L734.539 1423.18 L734.539 1423.18 L659.376 1423.18 L659.376 1423.18  Z\" fill=\"#8e971d\" fill-rule=\"evenodd\" fill-opacity=\"1\"/>\n",
       "<polyline clip-path=\"url(#clip452)\" style=\"stroke:#000000; stroke-linecap:round; stroke-linejoin:round; stroke-width:4; stroke-opacity:1; fill:none\" points=\"659.376,1423.18 659.376,1423.18 734.539,1423.18 659.376,1423.18 \"/>\n",
       "<path clip-path=\"url(#clip452)\" d=\"M753.329 1298.57 L753.329 1423.18 L828.492 1423.18 L828.492 1298.57 L753.329 1298.57 L753.329 1298.57  Z\" fill=\"#8e971d\" fill-rule=\"evenodd\" fill-opacity=\"1\"/>\n",
       "<polyline clip-path=\"url(#clip452)\" style=\"stroke:#000000; stroke-linecap:round; stroke-linejoin:round; stroke-width:4; stroke-opacity:1; fill:none\" points=\"753.329,1298.57 753.329,1423.18 828.492,1423.18 828.492,1298.57 753.329,1298.57 \"/>\n",
       "<path clip-path=\"url(#clip452)\" d=\"M847.283 1423.18 L847.283 1423.18 L922.445 1423.18 L922.445 1423.18 L847.283 1423.18 L847.283 1423.18  Z\" fill=\"#8e971d\" fill-rule=\"evenodd\" fill-opacity=\"1\"/>\n",
       "<polyline clip-path=\"url(#clip452)\" style=\"stroke:#000000; stroke-linecap:round; stroke-linejoin:round; stroke-width:4; stroke-opacity:1; fill:none\" points=\"847.283,1423.18 847.283,1423.18 922.445,1423.18 847.283,1423.18 \"/>\n",
       "<path clip-path=\"url(#clip452)\" d=\"M941.236 1253.75 L941.236 1423.18 L1016.4 1423.18 L1016.4 1253.75 L941.236 1253.75 L941.236 1253.75  Z\" fill=\"#8e971d\" fill-rule=\"evenodd\" fill-opacity=\"1\"/>\n",
       "<polyline clip-path=\"url(#clip452)\" style=\"stroke:#000000; stroke-linecap:round; stroke-linejoin:round; stroke-width:4; stroke-opacity:1; fill:none\" points=\"941.236,1253.75 941.236,1423.18 1016.4,1423.18 1016.4,1253.75 941.236,1253.75 \"/>\n",
       "<path clip-path=\"url(#clip452)\" d=\"M1035.19 1423.18 L1035.19 1423.18 L1110.35 1423.18 L1110.35 1423.18 L1035.19 1423.18 L1035.19 1423.18  Z\" fill=\"#8e971d\" fill-rule=\"evenodd\" fill-opacity=\"1\"/>\n",
       "<polyline clip-path=\"url(#clip452)\" style=\"stroke:#000000; stroke-linecap:round; stroke-linejoin:round; stroke-width:4; stroke-opacity:1; fill:none\" points=\"1035.19,1423.18 1035.19,1423.18 1110.35,1423.18 1035.19,1423.18 \"/>\n",
       "<path clip-path=\"url(#clip452)\" d=\"M1129.14 1251.56 L1129.14 1295.29 L1204.3 1295.29 L1204.3 1251.56 L1129.14 1251.56 L1129.14 1251.56  Z\" fill=\"#8e971d\" fill-rule=\"evenodd\" fill-opacity=\"1\"/>\n",
       "<polyline clip-path=\"url(#clip452)\" style=\"stroke:#000000; stroke-linecap:round; stroke-linejoin:round; stroke-width:4; stroke-opacity:1; fill:none\" points=\"1129.14,1251.56 1129.14,1295.29 1204.3,1295.29 1204.3,1251.56 1129.14,1251.56 \"/>\n",
       "<path clip-path=\"url(#clip452)\" d=\"M1223.1 909.418 L1223.1 1085.41 L1298.26 1085.41 L1298.26 909.418 L1223.1 909.418 L1223.1 909.418  Z\" fill=\"#8e971d\" fill-rule=\"evenodd\" fill-opacity=\"1\"/>\n",
       "<polyline clip-path=\"url(#clip452)\" style=\"stroke:#000000; stroke-linecap:round; stroke-linejoin:round; stroke-width:4; stroke-opacity:1; fill:none\" points=\"1223.1,909.418 1223.1,1085.41 1298.26,1085.41 1298.26,909.418 1223.1,909.418 \"/>\n",
       "<path clip-path=\"url(#clip452)\" d=\"M1317.05 1226.42 L1317.05 1297.47 L1392.21 1297.47 L1392.21 1226.42 L1317.05 1226.42 L1317.05 1226.42  Z\" fill=\"#8e971d\" fill-rule=\"evenodd\" fill-opacity=\"1\"/>\n",
       "<polyline clip-path=\"url(#clip452)\" style=\"stroke:#000000; stroke-linecap:round; stroke-linejoin:round; stroke-width:4; stroke-opacity:1; fill:none\" points=\"1317.05,1226.42 1317.05,1297.47 1392.21,1297.47 1392.21,1226.42 1317.05,1226.42 \"/>\n",
       "<path clip-path=\"url(#clip452)\" d=\"M1411 1423.18 L1411 1423.18 L1486.16 1423.18 L1486.16 1423.18 L1411 1423.18 L1411 1423.18  Z\" fill=\"#8e971d\" fill-rule=\"evenodd\" fill-opacity=\"1\"/>\n",
       "<polyline clip-path=\"url(#clip452)\" style=\"stroke:#000000; stroke-linecap:round; stroke-linejoin:round; stroke-width:4; stroke-opacity:1; fill:none\" points=\"1411,1423.18 1411,1423.18 1486.16,1423.18 1411,1423.18 \"/>\n",
       "<path clip-path=\"url(#clip452)\" d=\"M1504.96 1062.45 L1504.96 1105.08 L1580.12 1105.08 L1580.12 1062.45 L1504.96 1062.45 L1504.96 1062.45  Z\" fill=\"#8e971d\" fill-rule=\"evenodd\" fill-opacity=\"1\"/>\n",
       "<polyline clip-path=\"url(#clip452)\" style=\"stroke:#000000; stroke-linecap:round; stroke-linejoin:round; stroke-width:4; stroke-opacity:1; fill:none\" points=\"1504.96,1062.45 1504.96,1105.08 1580.12,1105.08 1580.12,1062.45 1504.96,1062.45 \"/>\n",
       "<path clip-path=\"url(#clip452)\" d=\"M1598.91 1073.38 L1598.91 1243.91 L1674.07 1243.91 L1674.07 1073.38 L1598.91 1073.38 L1598.91 1073.38  Z\" fill=\"#8e971d\" fill-rule=\"evenodd\" fill-opacity=\"1\"/>\n",
       "<polyline clip-path=\"url(#clip452)\" style=\"stroke:#000000; stroke-linecap:round; stroke-linejoin:round; stroke-width:4; stroke-opacity:1; fill:none\" points=\"1598.91,1073.38 1598.91,1243.91 1674.07,1243.91 1674.07,1073.38 1598.91,1073.38 \"/>\n",
       "<path clip-path=\"url(#clip452)\" d=\"M1692.86 1216.58 L1692.86 1365.25 L1768.02 1365.25 L1768.02 1216.58 L1692.86 1216.58 L1692.86 1216.58  Z\" fill=\"#8e971d\" fill-rule=\"evenodd\" fill-opacity=\"1\"/>\n",
       "<polyline clip-path=\"url(#clip452)\" style=\"stroke:#000000; stroke-linecap:round; stroke-linejoin:round; stroke-width:4; stroke-opacity:1; fill:none\" points=\"1692.86,1216.58 1692.86,1365.25 1768.02,1365.25 1768.02,1216.58 1692.86,1216.58 \"/>\n",
       "<path clip-path=\"url(#clip452)\" d=\"M1786.82 1314.96 L1786.82 1423.18 L1861.98 1423.18 L1861.98 1314.96 L1786.82 1314.96 L1786.82 1314.96  Z\" fill=\"#8e971d\" fill-rule=\"evenodd\" fill-opacity=\"1\"/>\n",
       "<polyline clip-path=\"url(#clip452)\" style=\"stroke:#000000; stroke-linecap:round; stroke-linejoin:round; stroke-width:4; stroke-opacity:1; fill:none\" points=\"1786.82,1314.96 1786.82,1423.18 1861.98,1423.18 1861.98,1314.96 1786.82,1314.96 \"/>\n",
       "<path clip-path=\"url(#clip452)\" d=\"M1880.77 1423.18 L1880.77 1423.18 L1955.93 1423.18 L1955.93 1423.18 L1880.77 1423.18 L1880.77 1423.18  Z\" fill=\"#8e971d\" fill-rule=\"evenodd\" fill-opacity=\"1\"/>\n",
       "<polyline clip-path=\"url(#clip452)\" style=\"stroke:#000000; stroke-linecap:round; stroke-linejoin:round; stroke-width:4; stroke-opacity:1; fill:none\" points=\"1880.77,1423.18 1880.77,1423.18 1955.93,1423.18 1880.77,1423.18 \"/>\n",
       "<path clip-path=\"url(#clip452)\" d=\"M1974.72 1423.18 L1974.72 1423.18 L2049.88 1423.18 L2049.88 1423.18 L1974.72 1423.18 L1974.72 1423.18  Z\" fill=\"#8e971d\" fill-rule=\"evenodd\" fill-opacity=\"1\"/>\n",
       "<polyline clip-path=\"url(#clip452)\" style=\"stroke:#000000; stroke-linecap:round; stroke-linejoin:round; stroke-width:4; stroke-opacity:1; fill:none\" points=\"1974.72,1423.18 1974.72,1423.18 2049.88,1423.18 1974.72,1423.18 \"/>\n",
       "<path clip-path=\"url(#clip452)\" d=\"M2068.68 1423.18 L2068.68 1423.18 L2143.84 1423.18 L2143.84 1423.18 L2068.68 1423.18 L2068.68 1423.18  Z\" fill=\"#8e971d\" fill-rule=\"evenodd\" fill-opacity=\"1\"/>\n",
       "<polyline clip-path=\"url(#clip452)\" style=\"stroke:#000000; stroke-linecap:round; stroke-linejoin:round; stroke-width:4; stroke-opacity:1; fill:none\" points=\"2068.68,1423.18 2068.68,1423.18 2143.84,1423.18 2068.68,1423.18 \"/>\n",
       "<path clip-path=\"url(#clip452)\" d=\"M2162.63 1266.87 L2162.63 1306.22 L2237.79 1306.22 L2237.79 1266.87 L2162.63 1266.87 L2162.63 1266.87  Z\" fill=\"#8e971d\" fill-rule=\"evenodd\" fill-opacity=\"1\"/>\n",
       "<polyline clip-path=\"url(#clip452)\" style=\"stroke:#000000; stroke-linecap:round; stroke-linejoin:round; stroke-width:4; stroke-opacity:1; fill:none\" points=\"2162.63,1266.87 2162.63,1306.22 2237.79,1306.22 2237.79,1266.87 2162.63,1266.87 \"/>\n",
       "<circle clip-path=\"url(#clip452)\" style=\"fill:#8e971d; stroke:none; fill-opacity:0\" cx=\"415.098\" cy=\"1041.68\" r=\"2\"/>\n",
       "<circle clip-path=\"url(#clip452)\" style=\"fill:#8e971d; stroke:none; fill-opacity:0\" cx=\"509.051\" cy=\"1330.27\" r=\"2\"/>\n",
       "<circle clip-path=\"url(#clip452)\" style=\"fill:#8e971d; stroke:none; fill-opacity:0\" cx=\"603.004\" cy=\"1402.41\" r=\"2\"/>\n",
       "<circle clip-path=\"url(#clip452)\" style=\"fill:#8e971d; stroke:none; fill-opacity:0\" cx=\"696.957\" cy=\"1423.18\" r=\"2\"/>\n",
       "<circle clip-path=\"url(#clip452)\" style=\"fill:#8e971d; stroke:none; fill-opacity:0\" cx=\"790.911\" cy=\"1298.57\" r=\"2\"/>\n",
       "<circle clip-path=\"url(#clip452)\" style=\"fill:#8e971d; stroke:none; fill-opacity:0\" cx=\"884.864\" cy=\"1423.18\" r=\"2\"/>\n",
       "<circle clip-path=\"url(#clip452)\" style=\"fill:#8e971d; stroke:none; fill-opacity:0\" cx=\"978.817\" cy=\"1253.75\" r=\"2\"/>\n",
       "<circle clip-path=\"url(#clip452)\" style=\"fill:#8e971d; stroke:none; fill-opacity:0\" cx=\"1072.77\" cy=\"1423.18\" r=\"2\"/>\n",
       "<circle clip-path=\"url(#clip452)\" style=\"fill:#8e971d; stroke:none; fill-opacity:0\" cx=\"1166.72\" cy=\"1251.56\" r=\"2\"/>\n",
       "<circle clip-path=\"url(#clip452)\" style=\"fill:#8e971d; stroke:none; fill-opacity:0\" cx=\"1260.68\" cy=\"909.418\" r=\"2\"/>\n",
       "<circle clip-path=\"url(#clip452)\" style=\"fill:#8e971d; stroke:none; fill-opacity:0\" cx=\"1354.63\" cy=\"1226.42\" r=\"2\"/>\n",
       "<circle clip-path=\"url(#clip452)\" style=\"fill:#8e971d; stroke:none; fill-opacity:0\" cx=\"1448.58\" cy=\"1423.18\" r=\"2\"/>\n",
       "<circle clip-path=\"url(#clip452)\" style=\"fill:#8e971d; stroke:none; fill-opacity:0\" cx=\"1542.54\" cy=\"1062.45\" r=\"2\"/>\n",
       "<circle clip-path=\"url(#clip452)\" style=\"fill:#8e971d; stroke:none; fill-opacity:0\" cx=\"1636.49\" cy=\"1073.38\" r=\"2\"/>\n",
       "<circle clip-path=\"url(#clip452)\" style=\"fill:#8e971d; stroke:none; fill-opacity:0\" cx=\"1730.44\" cy=\"1216.58\" r=\"2\"/>\n",
       "<circle clip-path=\"url(#clip452)\" style=\"fill:#8e971d; stroke:none; fill-opacity:0\" cx=\"1824.4\" cy=\"1314.96\" r=\"2\"/>\n",
       "<circle clip-path=\"url(#clip452)\" style=\"fill:#8e971d; stroke:none; fill-opacity:0\" cx=\"1918.35\" cy=\"1423.18\" r=\"2\"/>\n",
       "<circle clip-path=\"url(#clip452)\" style=\"fill:#8e971d; stroke:none; fill-opacity:0\" cx=\"2012.3\" cy=\"1423.18\" r=\"2\"/>\n",
       "<circle clip-path=\"url(#clip452)\" style=\"fill:#8e971d; stroke:none; fill-opacity:0\" cx=\"2106.26\" cy=\"1423.18\" r=\"2\"/>\n",
       "<circle clip-path=\"url(#clip452)\" style=\"fill:#8e971d; stroke:none; fill-opacity:0\" cx=\"2200.21\" cy=\"1266.87\" r=\"2\"/>\n",
       "<path clip-path=\"url(#clip452)\" d=\"M377.516 1114.92 L377.516 1177.23 L452.679 1177.23 L452.679 1114.92 L377.516 1114.92 L377.516 1114.92  Z\" fill=\"#00a8cb\" fill-rule=\"evenodd\" fill-opacity=\"1\"/>\n",
       "<polyline clip-path=\"url(#clip452)\" style=\"stroke:#000000; stroke-linecap:round; stroke-linejoin:round; stroke-width:4; stroke-opacity:1; fill:none\" points=\"377.516,1114.92 377.516,1177.23 452.679,1177.23 452.679,1114.92 377.516,1114.92 \"/>\n",
       "<path clip-path=\"url(#clip452)\" d=\"M471.469 1382.73 L471.469 1423.18 L546.632 1423.18 L546.632 1382.73 L471.469 1382.73 L471.469 1382.73  Z\" fill=\"#00a8cb\" fill-rule=\"evenodd\" fill-opacity=\"1\"/>\n",
       "<polyline clip-path=\"url(#clip452)\" style=\"stroke:#000000; stroke-linecap:round; stroke-linejoin:round; stroke-width:4; stroke-opacity:1; fill:none\" points=\"471.469,1382.73 471.469,1423.18 546.632,1423.18 546.632,1382.73 471.469,1382.73 \"/>\n",
       "<path clip-path=\"url(#clip452)\" d=\"M565.423 1423.18 L565.423 1423.18 L640.585 1423.18 L640.585 1423.18 L565.423 1423.18 L565.423 1423.18  Z\" fill=\"#00a8cb\" fill-rule=\"evenodd\" fill-opacity=\"1\"/>\n",
       "<polyline clip-path=\"url(#clip452)\" style=\"stroke:#000000; stroke-linecap:round; stroke-linejoin:round; stroke-width:4; stroke-opacity:1; fill:none\" points=\"565.423,1423.18 565.423,1423.18 640.585,1423.18 565.423,1423.18 \"/>\n",
       "<path clip-path=\"url(#clip452)\" d=\"M659.376 1423.18 L659.376 1423.18 L734.539 1423.18 L734.539 1423.18 L659.376 1423.18 L659.376 1423.18  Z\" fill=\"#00a8cb\" fill-rule=\"evenodd\" fill-opacity=\"1\"/>\n",
       "<polyline clip-path=\"url(#clip452)\" style=\"stroke:#000000; stroke-linecap:round; stroke-linejoin:round; stroke-width:4; stroke-opacity:1; fill:none\" points=\"659.376,1423.18 659.376,1423.18 734.539,1423.18 659.376,1423.18 \"/>\n",
       "<path clip-path=\"url(#clip452)\" d=\"M753.329 1423.18 L753.329 1423.18 L828.492 1423.18 L828.492 1423.18 L753.329 1423.18 L753.329 1423.18  Z\" fill=\"#00a8cb\" fill-rule=\"evenodd\" fill-opacity=\"1\"/>\n",
       "<polyline clip-path=\"url(#clip452)\" style=\"stroke:#000000; stroke-linecap:round; stroke-linejoin:round; stroke-width:4; stroke-opacity:1; fill:none\" points=\"753.329,1423.18 753.329,1423.18 828.492,1423.18 753.329,1423.18 \"/>\n",
       "<path clip-path=\"url(#clip452)\" d=\"M847.283 1423.18 L847.283 1423.18 L922.445 1423.18 L922.445 1423.18 L847.283 1423.18 L847.283 1423.18  Z\" fill=\"#00a8cb\" fill-rule=\"evenodd\" fill-opacity=\"1\"/>\n",
       "<polyline clip-path=\"url(#clip452)\" style=\"stroke:#000000; stroke-linecap:round; stroke-linejoin:round; stroke-width:4; stroke-opacity:1; fill:none\" points=\"847.283,1423.18 847.283,1423.18 922.445,1423.18 847.283,1423.18 \"/>\n",
       "<path clip-path=\"url(#clip452)\" d=\"M941.236 1423.18 L941.236 1423.18 L1016.4 1423.18 L1016.4 1423.18 L941.236 1423.18 L941.236 1423.18  Z\" fill=\"#00a8cb\" fill-rule=\"evenodd\" fill-opacity=\"1\"/>\n",
       "<polyline clip-path=\"url(#clip452)\" style=\"stroke:#000000; stroke-linecap:round; stroke-linejoin:round; stroke-width:4; stroke-opacity:1; fill:none\" points=\"941.236,1423.18 941.236,1423.18 1016.4,1423.18 941.236,1423.18 \"/>\n",
       "<path clip-path=\"url(#clip452)\" d=\"M1035.19 1423.18 L1035.19 1423.18 L1110.35 1423.18 L1110.35 1423.18 L1035.19 1423.18 L1035.19 1423.18  Z\" fill=\"#00a8cb\" fill-rule=\"evenodd\" fill-opacity=\"1\"/>\n",
       "<polyline clip-path=\"url(#clip452)\" style=\"stroke:#000000; stroke-linecap:round; stroke-linejoin:round; stroke-width:4; stroke-opacity:1; fill:none\" points=\"1035.19,1423.18 1035.19,1423.18 1110.35,1423.18 1035.19,1423.18 \"/>\n",
       "<path clip-path=\"url(#clip452)\" d=\"M1129.14 1295.29 L1129.14 1423.18 L1204.3 1423.18 L1204.3 1295.29 L1129.14 1295.29 L1129.14 1295.29  Z\" fill=\"#00a8cb\" fill-rule=\"evenodd\" fill-opacity=\"1\"/>\n",
       "<polyline clip-path=\"url(#clip452)\" style=\"stroke:#000000; stroke-linecap:round; stroke-linejoin:round; stroke-width:4; stroke-opacity:1; fill:none\" points=\"1129.14,1295.29 1129.14,1423.18 1204.3,1423.18 1204.3,1295.29 1129.14,1295.29 \"/>\n",
       "<path clip-path=\"url(#clip452)\" d=\"M1223.1 1085.41 L1223.1 1133.51 L1298.26 1133.51 L1298.26 1085.41 L1223.1 1085.41 L1223.1 1085.41  Z\" fill=\"#00a8cb\" fill-rule=\"evenodd\" fill-opacity=\"1\"/>\n",
       "<polyline clip-path=\"url(#clip452)\" style=\"stroke:#000000; stroke-linecap:round; stroke-linejoin:round; stroke-width:4; stroke-opacity:1; fill:none\" points=\"1223.1,1085.41 1223.1,1133.51 1298.26,1133.51 1298.26,1085.41 1223.1,1085.41 \"/>\n",
       "<path clip-path=\"url(#clip452)\" d=\"M1317.05 1297.47 L1317.05 1423.18 L1392.21 1423.18 L1392.21 1297.47 L1317.05 1297.47 L1317.05 1297.47  Z\" fill=\"#00a8cb\" fill-rule=\"evenodd\" fill-opacity=\"1\"/>\n",
       "<polyline clip-path=\"url(#clip452)\" style=\"stroke:#000000; stroke-linecap:round; stroke-linejoin:round; stroke-width:4; stroke-opacity:1; fill:none\" points=\"1317.05,1297.47 1317.05,1423.18 1392.21,1423.18 1392.21,1297.47 1317.05,1297.47 \"/>\n",
       "<path clip-path=\"url(#clip452)\" d=\"M1411 1423.18 L1411 1423.18 L1486.16 1423.18 L1486.16 1423.18 L1411 1423.18 L1411 1423.18  Z\" fill=\"#00a8cb\" fill-rule=\"evenodd\" fill-opacity=\"1\"/>\n",
       "<polyline clip-path=\"url(#clip452)\" style=\"stroke:#000000; stroke-linecap:round; stroke-linejoin:round; stroke-width:4; stroke-opacity:1; fill:none\" points=\"1411,1423.18 1411,1423.18 1486.16,1423.18 1411,1423.18 \"/>\n",
       "<path clip-path=\"url(#clip452)\" d=\"M1504.96 1105.08 L1504.96 1259.21 L1580.12 1259.21 L1580.12 1105.08 L1504.96 1105.08 L1504.96 1105.08  Z\" fill=\"#00a8cb\" fill-rule=\"evenodd\" fill-opacity=\"1\"/>\n",
       "<polyline clip-path=\"url(#clip452)\" style=\"stroke:#000000; stroke-linecap:round; stroke-linejoin:round; stroke-width:4; stroke-opacity:1; fill:none\" points=\"1504.96,1105.08 1504.96,1259.21 1580.12,1259.21 1580.12,1105.08 1504.96,1105.08 \"/>\n",
       "<path clip-path=\"url(#clip452)\" d=\"M1598.91 1243.91 L1598.91 1336.82 L1674.07 1336.82 L1674.07 1243.91 L1598.91 1243.91 L1598.91 1243.91  Z\" fill=\"#00a8cb\" fill-rule=\"evenodd\" fill-opacity=\"1\"/>\n",
       "<polyline clip-path=\"url(#clip452)\" style=\"stroke:#000000; stroke-linecap:round; stroke-linejoin:round; stroke-width:4; stroke-opacity:1; fill:none\" points=\"1598.91,1243.91 1598.91,1336.82 1674.07,1336.82 1674.07,1243.91 1598.91,1243.91 \"/>\n",
       "<path clip-path=\"url(#clip452)\" d=\"M1692.86 1365.25 L1692.86 1423.18 L1768.02 1423.18 L1768.02 1365.25 L1692.86 1365.25 L1692.86 1365.25  Z\" fill=\"#00a8cb\" fill-rule=\"evenodd\" fill-opacity=\"1\"/>\n",
       "<polyline clip-path=\"url(#clip452)\" style=\"stroke:#000000; stroke-linecap:round; stroke-linejoin:round; stroke-width:4; stroke-opacity:1; fill:none\" points=\"1692.86,1365.25 1692.86,1423.18 1768.02,1423.18 1768.02,1365.25 1692.86,1365.25 \"/>\n",
       "<path clip-path=\"url(#clip452)\" d=\"M1786.82 1423.18 L1786.82 1423.18 L1861.98 1423.18 L1861.98 1423.18 L1786.82 1423.18 L1786.82 1423.18  Z\" fill=\"#00a8cb\" fill-rule=\"evenodd\" fill-opacity=\"1\"/>\n",
       "<polyline clip-path=\"url(#clip452)\" style=\"stroke:#000000; stroke-linecap:round; stroke-linejoin:round; stroke-width:4; stroke-opacity:1; fill:none\" points=\"1786.82,1423.18 1786.82,1423.18 1861.98,1423.18 1786.82,1423.18 \"/>\n",
       "<path clip-path=\"url(#clip452)\" d=\"M1880.77 1423.18 L1880.77 1423.18 L1955.93 1423.18 L1955.93 1423.18 L1880.77 1423.18 L1880.77 1423.18  Z\" fill=\"#00a8cb\" fill-rule=\"evenodd\" fill-opacity=\"1\"/>\n",
       "<polyline clip-path=\"url(#clip452)\" style=\"stroke:#000000; stroke-linecap:round; stroke-linejoin:round; stroke-width:4; stroke-opacity:1; fill:none\" points=\"1880.77,1423.18 1880.77,1423.18 1955.93,1423.18 1880.77,1423.18 \"/>\n",
       "<path clip-path=\"url(#clip452)\" d=\"M1974.72 1423.18 L1974.72 1423.18 L2049.88 1423.18 L2049.88 1423.18 L1974.72 1423.18 L1974.72 1423.18  Z\" fill=\"#00a8cb\" fill-rule=\"evenodd\" fill-opacity=\"1\"/>\n",
       "<polyline clip-path=\"url(#clip452)\" style=\"stroke:#000000; stroke-linecap:round; stroke-linejoin:round; stroke-width:4; stroke-opacity:1; fill:none\" points=\"1974.72,1423.18 1974.72,1423.18 2049.88,1423.18 1974.72,1423.18 \"/>\n",
       "<path clip-path=\"url(#clip452)\" d=\"M2068.68 1423.18 L2068.68 1423.18 L2143.84 1423.18 L2143.84 1423.18 L2068.68 1423.18 L2068.68 1423.18  Z\" fill=\"#00a8cb\" fill-rule=\"evenodd\" fill-opacity=\"1\"/>\n",
       "<polyline clip-path=\"url(#clip452)\" style=\"stroke:#000000; stroke-linecap:round; stroke-linejoin:round; stroke-width:4; stroke-opacity:1; fill:none\" points=\"2068.68,1423.18 2068.68,1423.18 2143.84,1423.18 2068.68,1423.18 \"/>\n",
       "<path clip-path=\"url(#clip452)\" d=\"M2162.63 1306.22 L2162.63 1423.18 L2237.79 1423.18 L2237.79 1306.22 L2162.63 1306.22 L2162.63 1306.22  Z\" fill=\"#00a8cb\" fill-rule=\"evenodd\" fill-opacity=\"1\"/>\n",
       "<polyline clip-path=\"url(#clip452)\" style=\"stroke:#000000; stroke-linecap:round; stroke-linejoin:round; stroke-width:4; stroke-opacity:1; fill:none\" points=\"2162.63,1306.22 2162.63,1423.18 2237.79,1423.18 2237.79,1306.22 2162.63,1306.22 \"/>\n",
       "<circle clip-path=\"url(#clip452)\" style=\"fill:#00a8cb; stroke:none; fill-opacity:0\" cx=\"415.098\" cy=\"1114.92\" r=\"2\"/>\n",
       "<circle clip-path=\"url(#clip452)\" style=\"fill:#00a8cb; stroke:none; fill-opacity:0\" cx=\"509.051\" cy=\"1382.73\" r=\"2\"/>\n",
       "<circle clip-path=\"url(#clip452)\" style=\"fill:#00a8cb; stroke:none; fill-opacity:0\" cx=\"603.004\" cy=\"1423.18\" r=\"2\"/>\n",
       "<circle clip-path=\"url(#clip452)\" style=\"fill:#00a8cb; stroke:none; fill-opacity:0\" cx=\"696.957\" cy=\"1423.18\" r=\"2\"/>\n",
       "<circle clip-path=\"url(#clip452)\" style=\"fill:#00a8cb; stroke:none; fill-opacity:0\" cx=\"790.911\" cy=\"1423.18\" r=\"2\"/>\n",
       "<circle clip-path=\"url(#clip452)\" style=\"fill:#00a8cb; stroke:none; fill-opacity:0\" cx=\"884.864\" cy=\"1423.18\" r=\"2\"/>\n",
       "<circle clip-path=\"url(#clip452)\" style=\"fill:#00a8cb; stroke:none; fill-opacity:0\" cx=\"978.817\" cy=\"1423.18\" r=\"2\"/>\n",
       "<circle clip-path=\"url(#clip452)\" style=\"fill:#00a8cb; stroke:none; fill-opacity:0\" cx=\"1072.77\" cy=\"1423.18\" r=\"2\"/>\n",
       "<circle clip-path=\"url(#clip452)\" style=\"fill:#00a8cb; stroke:none; fill-opacity:0\" cx=\"1166.72\" cy=\"1295.29\" r=\"2\"/>\n",
       "<circle clip-path=\"url(#clip452)\" style=\"fill:#00a8cb; stroke:none; fill-opacity:0\" cx=\"1260.68\" cy=\"1085.41\" r=\"2\"/>\n",
       "<circle clip-path=\"url(#clip452)\" style=\"fill:#00a8cb; stroke:none; fill-opacity:0\" cx=\"1354.63\" cy=\"1297.47\" r=\"2\"/>\n",
       "<circle clip-path=\"url(#clip452)\" style=\"fill:#00a8cb; stroke:none; fill-opacity:0\" cx=\"1448.58\" cy=\"1423.18\" r=\"2\"/>\n",
       "<circle clip-path=\"url(#clip452)\" style=\"fill:#00a8cb; stroke:none; fill-opacity:0\" cx=\"1542.54\" cy=\"1105.08\" r=\"2\"/>\n",
       "<circle clip-path=\"url(#clip452)\" style=\"fill:#00a8cb; stroke:none; fill-opacity:0\" cx=\"1636.49\" cy=\"1243.91\" r=\"2\"/>\n",
       "<circle clip-path=\"url(#clip452)\" style=\"fill:#00a8cb; stroke:none; fill-opacity:0\" cx=\"1730.44\" cy=\"1365.25\" r=\"2\"/>\n",
       "<circle clip-path=\"url(#clip452)\" style=\"fill:#00a8cb; stroke:none; fill-opacity:0\" cx=\"1824.4\" cy=\"1423.18\" r=\"2\"/>\n",
       "<circle clip-path=\"url(#clip452)\" style=\"fill:#00a8cb; stroke:none; fill-opacity:0\" cx=\"1918.35\" cy=\"1423.18\" r=\"2\"/>\n",
       "<circle clip-path=\"url(#clip452)\" style=\"fill:#00a8cb; stroke:none; fill-opacity:0\" cx=\"2012.3\" cy=\"1423.18\" r=\"2\"/>\n",
       "<circle clip-path=\"url(#clip452)\" style=\"fill:#00a8cb; stroke:none; fill-opacity:0\" cx=\"2106.26\" cy=\"1423.18\" r=\"2\"/>\n",
       "<circle clip-path=\"url(#clip452)\" style=\"fill:#00a8cb; stroke:none; fill-opacity:0\" cx=\"2200.21\" cy=\"1306.22\" r=\"2\"/>\n",
       "<path clip-path=\"url(#clip452)\" d=\"M377.516 1177.23 L377.516 1364.15 L452.679 1364.15 L452.679 1177.23 L377.516 1177.23 L377.516 1177.23  Z\" fill=\"#9b7fe8\" fill-rule=\"evenodd\" fill-opacity=\"1\"/>\n",
       "<polyline clip-path=\"url(#clip452)\" style=\"stroke:#000000; stroke-linecap:round; stroke-linejoin:round; stroke-width:4; stroke-opacity:1; fill:none\" points=\"377.516,1177.23 377.516,1364.15 452.679,1364.15 452.679,1177.23 377.516,1177.23 \"/>\n",
       "<path clip-path=\"url(#clip452)\" d=\"M471.469 1423.18 L471.469 1423.18 L546.632 1423.18 L546.632 1423.18 L471.469 1423.18 L471.469 1423.18  Z\" fill=\"#9b7fe8\" fill-rule=\"evenodd\" fill-opacity=\"1\"/>\n",
       "<polyline clip-path=\"url(#clip452)\" style=\"stroke:#000000; stroke-linecap:round; stroke-linejoin:round; stroke-width:4; stroke-opacity:1; fill:none\" points=\"471.469,1423.18 471.469,1423.18 546.632,1423.18 471.469,1423.18 \"/>\n",
       "<path clip-path=\"url(#clip452)\" d=\"M565.423 1423.18 L565.423 1423.18 L640.585 1423.18 L640.585 1423.18 L565.423 1423.18 L565.423 1423.18  Z\" fill=\"#9b7fe8\" fill-rule=\"evenodd\" fill-opacity=\"1\"/>\n",
       "<polyline clip-path=\"url(#clip452)\" style=\"stroke:#000000; stroke-linecap:round; stroke-linejoin:round; stroke-width:4; stroke-opacity:1; fill:none\" points=\"565.423,1423.18 565.423,1423.18 640.585,1423.18 565.423,1423.18 \"/>\n",
       "<path clip-path=\"url(#clip452)\" d=\"M659.376 1423.18 L659.376 1423.18 L734.539 1423.18 L734.539 1423.18 L659.376 1423.18 L659.376 1423.18  Z\" fill=\"#9b7fe8\" fill-rule=\"evenodd\" fill-opacity=\"1\"/>\n",
       "<polyline clip-path=\"url(#clip452)\" style=\"stroke:#000000; stroke-linecap:round; stroke-linejoin:round; stroke-width:4; stroke-opacity:1; fill:none\" points=\"659.376,1423.18 659.376,1423.18 734.539,1423.18 659.376,1423.18 \"/>\n",
       "<path clip-path=\"url(#clip452)\" d=\"M753.329 1423.18 L753.329 1423.18 L828.492 1423.18 L828.492 1423.18 L753.329 1423.18 L753.329 1423.18  Z\" fill=\"#9b7fe8\" fill-rule=\"evenodd\" fill-opacity=\"1\"/>\n",
       "<polyline clip-path=\"url(#clip452)\" style=\"stroke:#000000; stroke-linecap:round; stroke-linejoin:round; stroke-width:4; stroke-opacity:1; fill:none\" points=\"753.329,1423.18 753.329,1423.18 828.492,1423.18 753.329,1423.18 \"/>\n",
       "<path clip-path=\"url(#clip452)\" d=\"M847.283 1423.18 L847.283 1423.18 L922.445 1423.18 L922.445 1423.18 L847.283 1423.18 L847.283 1423.18  Z\" fill=\"#9b7fe8\" fill-rule=\"evenodd\" fill-opacity=\"1\"/>\n",
       "<polyline clip-path=\"url(#clip452)\" style=\"stroke:#000000; stroke-linecap:round; stroke-linejoin:round; stroke-width:4; stroke-opacity:1; fill:none\" points=\"847.283,1423.18 847.283,1423.18 922.445,1423.18 847.283,1423.18 \"/>\n",
       "<path clip-path=\"url(#clip452)\" d=\"M941.236 1423.18 L941.236 1423.18 L1016.4 1423.18 L1016.4 1423.18 L941.236 1423.18 L941.236 1423.18  Z\" fill=\"#9b7fe8\" fill-rule=\"evenodd\" fill-opacity=\"1\"/>\n",
       "<polyline clip-path=\"url(#clip452)\" style=\"stroke:#000000; stroke-linecap:round; stroke-linejoin:round; stroke-width:4; stroke-opacity:1; fill:none\" points=\"941.236,1423.18 941.236,1423.18 1016.4,1423.18 941.236,1423.18 \"/>\n",
       "<path clip-path=\"url(#clip452)\" d=\"M1035.19 1423.18 L1035.19 1423.18 L1110.35 1423.18 L1110.35 1423.18 L1035.19 1423.18 L1035.19 1423.18  Z\" fill=\"#9b7fe8\" fill-rule=\"evenodd\" fill-opacity=\"1\"/>\n",
       "<polyline clip-path=\"url(#clip452)\" style=\"stroke:#000000; stroke-linecap:round; stroke-linejoin:round; stroke-width:4; stroke-opacity:1; fill:none\" points=\"1035.19,1423.18 1035.19,1423.18 1110.35,1423.18 1035.19,1423.18 \"/>\n",
       "<path clip-path=\"url(#clip452)\" d=\"M1129.14 1423.18 L1129.14 1423.18 L1204.3 1423.18 L1204.3 1423.18 L1129.14 1423.18 L1129.14 1423.18  Z\" fill=\"#9b7fe8\" fill-rule=\"evenodd\" fill-opacity=\"1\"/>\n",
       "<polyline clip-path=\"url(#clip452)\" style=\"stroke:#000000; stroke-linecap:round; stroke-linejoin:round; stroke-width:4; stroke-opacity:1; fill:none\" points=\"1129.14,1423.18 1129.14,1423.18 1204.3,1423.18 1129.14,1423.18 \"/>\n",
       "<path clip-path=\"url(#clip452)\" d=\"M1223.1 1133.51 L1223.1 1227.51 L1298.26 1227.51 L1298.26 1133.51 L1223.1 1133.51 L1223.1 1133.51  Z\" fill=\"#9b7fe8\" fill-rule=\"evenodd\" fill-opacity=\"1\"/>\n",
       "<polyline clip-path=\"url(#clip452)\" style=\"stroke:#000000; stroke-linecap:round; stroke-linejoin:round; stroke-width:4; stroke-opacity:1; fill:none\" points=\"1223.1,1133.51 1223.1,1227.51 1298.26,1227.51 1298.26,1133.51 1223.1,1133.51 \"/>\n",
       "<path clip-path=\"url(#clip452)\" d=\"M1317.05 1423.18 L1317.05 1423.18 L1392.21 1423.18 L1392.21 1423.18 L1317.05 1423.18 L1317.05 1423.18  Z\" fill=\"#9b7fe8\" fill-rule=\"evenodd\" fill-opacity=\"1\"/>\n",
       "<polyline clip-path=\"url(#clip452)\" style=\"stroke:#000000; stroke-linecap:round; stroke-linejoin:round; stroke-width:4; stroke-opacity:1; fill:none\" points=\"1317.05,1423.18 1317.05,1423.18 1392.21,1423.18 1317.05,1423.18 \"/>\n",
       "<path clip-path=\"url(#clip452)\" d=\"M1411 1423.18 L1411 1423.18 L1486.16 1423.18 L1486.16 1423.18 L1411 1423.18 L1411 1423.18  Z\" fill=\"#9b7fe8\" fill-rule=\"evenodd\" fill-opacity=\"1\"/>\n",
       "<polyline clip-path=\"url(#clip452)\" style=\"stroke:#000000; stroke-linecap:round; stroke-linejoin:round; stroke-width:4; stroke-opacity:1; fill:none\" points=\"1411,1423.18 1411,1423.18 1486.16,1423.18 1411,1423.18 \"/>\n",
       "<path clip-path=\"url(#clip452)\" d=\"M1504.96 1259.21 L1504.96 1423.18 L1580.12 1423.18 L1580.12 1259.21 L1504.96 1259.21 L1504.96 1259.21  Z\" fill=\"#9b7fe8\" fill-rule=\"evenodd\" fill-opacity=\"1\"/>\n",
       "<polyline clip-path=\"url(#clip452)\" style=\"stroke:#000000; stroke-linecap:round; stroke-linejoin:round; stroke-width:4; stroke-opacity:1; fill:none\" points=\"1504.96,1259.21 1504.96,1423.18 1580.12,1423.18 1580.12,1259.21 1504.96,1259.21 \"/>\n",
       "<path clip-path=\"url(#clip452)\" d=\"M1598.91 1336.82 L1598.91 1423.18 L1674.07 1423.18 L1674.07 1336.82 L1598.91 1336.82 L1598.91 1336.82  Z\" fill=\"#9b7fe8\" fill-rule=\"evenodd\" fill-opacity=\"1\"/>\n",
       "<polyline clip-path=\"url(#clip452)\" style=\"stroke:#000000; stroke-linecap:round; stroke-linejoin:round; stroke-width:4; stroke-opacity:1; fill:none\" points=\"1598.91,1336.82 1598.91,1423.18 1674.07,1423.18 1674.07,1336.82 1598.91,1336.82 \"/>\n",
       "<path clip-path=\"url(#clip452)\" d=\"M1692.86 1423.18 L1692.86 1423.18 L1768.02 1423.18 L1768.02 1423.18 L1692.86 1423.18 L1692.86 1423.18  Z\" fill=\"#9b7fe8\" fill-rule=\"evenodd\" fill-opacity=\"1\"/>\n",
       "<polyline clip-path=\"url(#clip452)\" style=\"stroke:#000000; stroke-linecap:round; stroke-linejoin:round; stroke-width:4; stroke-opacity:1; fill:none\" points=\"1692.86,1423.18 1692.86,1423.18 1768.02,1423.18 1692.86,1423.18 \"/>\n",
       "<path clip-path=\"url(#clip452)\" d=\"M1786.82 1423.18 L1786.82 1423.18 L1861.98 1423.18 L1861.98 1423.18 L1786.82 1423.18 L1786.82 1423.18  Z\" fill=\"#9b7fe8\" fill-rule=\"evenodd\" fill-opacity=\"1\"/>\n",
       "<polyline clip-path=\"url(#clip452)\" style=\"stroke:#000000; stroke-linecap:round; stroke-linejoin:round; stroke-width:4; stroke-opacity:1; fill:none\" points=\"1786.82,1423.18 1786.82,1423.18 1861.98,1423.18 1786.82,1423.18 \"/>\n",
       "<path clip-path=\"url(#clip452)\" d=\"M1880.77 1423.18 L1880.77 1423.18 L1955.93 1423.18 L1955.93 1423.18 L1880.77 1423.18 L1880.77 1423.18  Z\" fill=\"#9b7fe8\" fill-rule=\"evenodd\" fill-opacity=\"1\"/>\n",
       "<polyline clip-path=\"url(#clip452)\" style=\"stroke:#000000; stroke-linecap:round; stroke-linejoin:round; stroke-width:4; stroke-opacity:1; fill:none\" points=\"1880.77,1423.18 1880.77,1423.18 1955.93,1423.18 1880.77,1423.18 \"/>\n",
       "<path clip-path=\"url(#clip452)\" d=\"M1974.72 1423.18 L1974.72 1423.18 L2049.88 1423.18 L2049.88 1423.18 L1974.72 1423.18 L1974.72 1423.18  Z\" fill=\"#9b7fe8\" fill-rule=\"evenodd\" fill-opacity=\"1\"/>\n",
       "<polyline clip-path=\"url(#clip452)\" style=\"stroke:#000000; stroke-linecap:round; stroke-linejoin:round; stroke-width:4; stroke-opacity:1; fill:none\" points=\"1974.72,1423.18 1974.72,1423.18 2049.88,1423.18 1974.72,1423.18 \"/>\n",
       "<path clip-path=\"url(#clip452)\" d=\"M2068.68 1423.18 L2068.68 1423.18 L2143.84 1423.18 L2143.84 1423.18 L2068.68 1423.18 L2068.68 1423.18  Z\" fill=\"#9b7fe8\" fill-rule=\"evenodd\" fill-opacity=\"1\"/>\n",
       "<polyline clip-path=\"url(#clip452)\" style=\"stroke:#000000; stroke-linecap:round; stroke-linejoin:round; stroke-width:4; stroke-opacity:1; fill:none\" points=\"2068.68,1423.18 2068.68,1423.18 2143.84,1423.18 2068.68,1423.18 \"/>\n",
       "<path clip-path=\"url(#clip452)\" d=\"M2162.63 1423.18 L2162.63 1423.18 L2237.79 1423.18 L2237.79 1423.18 L2162.63 1423.18 L2162.63 1423.18  Z\" fill=\"#9b7fe8\" fill-rule=\"evenodd\" fill-opacity=\"1\"/>\n",
       "<polyline clip-path=\"url(#clip452)\" style=\"stroke:#000000; stroke-linecap:round; stroke-linejoin:round; stroke-width:4; stroke-opacity:1; fill:none\" points=\"2162.63,1423.18 2162.63,1423.18 2237.79,1423.18 2162.63,1423.18 \"/>\n",
       "<circle clip-path=\"url(#clip452)\" style=\"fill:#9b7fe8; stroke:none; fill-opacity:0\" cx=\"415.098\" cy=\"1177.23\" r=\"2\"/>\n",
       "<circle clip-path=\"url(#clip452)\" style=\"fill:#9b7fe8; stroke:none; fill-opacity:0\" cx=\"509.051\" cy=\"1423.18\" r=\"2\"/>\n",
       "<circle clip-path=\"url(#clip452)\" style=\"fill:#9b7fe8; stroke:none; fill-opacity:0\" cx=\"603.004\" cy=\"1423.18\" r=\"2\"/>\n",
       "<circle clip-path=\"url(#clip452)\" style=\"fill:#9b7fe8; stroke:none; fill-opacity:0\" cx=\"696.957\" cy=\"1423.18\" r=\"2\"/>\n",
       "<circle clip-path=\"url(#clip452)\" style=\"fill:#9b7fe8; stroke:none; fill-opacity:0\" cx=\"790.911\" cy=\"1423.18\" r=\"2\"/>\n",
       "<circle clip-path=\"url(#clip452)\" style=\"fill:#9b7fe8; stroke:none; fill-opacity:0\" cx=\"884.864\" cy=\"1423.18\" r=\"2\"/>\n",
       "<circle clip-path=\"url(#clip452)\" style=\"fill:#9b7fe8; stroke:none; fill-opacity:0\" cx=\"978.817\" cy=\"1423.18\" r=\"2\"/>\n",
       "<circle clip-path=\"url(#clip452)\" style=\"fill:#9b7fe8; stroke:none; fill-opacity:0\" cx=\"1072.77\" cy=\"1423.18\" r=\"2\"/>\n",
       "<circle clip-path=\"url(#clip452)\" style=\"fill:#9b7fe8; stroke:none; fill-opacity:0\" cx=\"1166.72\" cy=\"1423.18\" r=\"2\"/>\n",
       "<circle clip-path=\"url(#clip452)\" style=\"fill:#9b7fe8; stroke:none; fill-opacity:0\" cx=\"1260.68\" cy=\"1133.51\" r=\"2\"/>\n",
       "<circle clip-path=\"url(#clip452)\" style=\"fill:#9b7fe8; stroke:none; fill-opacity:0\" cx=\"1354.63\" cy=\"1423.18\" r=\"2\"/>\n",
       "<circle clip-path=\"url(#clip452)\" style=\"fill:#9b7fe8; stroke:none; fill-opacity:0\" cx=\"1448.58\" cy=\"1423.18\" r=\"2\"/>\n",
       "<circle clip-path=\"url(#clip452)\" style=\"fill:#9b7fe8; stroke:none; fill-opacity:0\" cx=\"1542.54\" cy=\"1259.21\" r=\"2\"/>\n",
       "<circle clip-path=\"url(#clip452)\" style=\"fill:#9b7fe8; stroke:none; fill-opacity:0\" cx=\"1636.49\" cy=\"1336.82\" r=\"2\"/>\n",
       "<circle clip-path=\"url(#clip452)\" style=\"fill:#9b7fe8; stroke:none; fill-opacity:0\" cx=\"1730.44\" cy=\"1423.18\" r=\"2\"/>\n",
       "<circle clip-path=\"url(#clip452)\" style=\"fill:#9b7fe8; stroke:none; fill-opacity:0\" cx=\"1824.4\" cy=\"1423.18\" r=\"2\"/>\n",
       "<circle clip-path=\"url(#clip452)\" style=\"fill:#9b7fe8; stroke:none; fill-opacity:0\" cx=\"1918.35\" cy=\"1423.18\" r=\"2\"/>\n",
       "<circle clip-path=\"url(#clip452)\" style=\"fill:#9b7fe8; stroke:none; fill-opacity:0\" cx=\"2012.3\" cy=\"1423.18\" r=\"2\"/>\n",
       "<circle clip-path=\"url(#clip452)\" style=\"fill:#9b7fe8; stroke:none; fill-opacity:0\" cx=\"2106.26\" cy=\"1423.18\" r=\"2\"/>\n",
       "<circle clip-path=\"url(#clip452)\" style=\"fill:#9b7fe8; stroke:none; fill-opacity:0\" cx=\"2200.21\" cy=\"1423.18\" r=\"2\"/>\n",
       "<path clip-path=\"url(#clip452)\" d=\"M377.516 1364.15 L377.516 1423.18 L452.679 1423.18 L452.679 1364.15 L377.516 1364.15 L377.516 1364.15  Z\" fill=\"#608cf6\" fill-rule=\"evenodd\" fill-opacity=\"1\"/>\n",
       "<polyline clip-path=\"url(#clip452)\" style=\"stroke:#000000; stroke-linecap:round; stroke-linejoin:round; stroke-width:4; stroke-opacity:1; fill:none\" points=\"377.516,1364.15 377.516,1423.18 452.679,1423.18 452.679,1364.15 377.516,1364.15 \"/>\n",
       "<path clip-path=\"url(#clip452)\" d=\"M471.469 1423.18 L471.469 1423.18 L546.632 1423.18 L546.632 1423.18 L471.469 1423.18 L471.469 1423.18  Z\" fill=\"#608cf6\" fill-rule=\"evenodd\" fill-opacity=\"1\"/>\n",
       "<polyline clip-path=\"url(#clip452)\" style=\"stroke:#000000; stroke-linecap:round; stroke-linejoin:round; stroke-width:4; stroke-opacity:1; fill:none\" points=\"471.469,1423.18 471.469,1423.18 546.632,1423.18 471.469,1423.18 \"/>\n",
       "<path clip-path=\"url(#clip452)\" d=\"M565.423 1423.18 L565.423 1423.18 L640.585 1423.18 L640.585 1423.18 L565.423 1423.18 L565.423 1423.18  Z\" fill=\"#608cf6\" fill-rule=\"evenodd\" fill-opacity=\"1\"/>\n",
       "<polyline clip-path=\"url(#clip452)\" style=\"stroke:#000000; stroke-linecap:round; stroke-linejoin:round; stroke-width:4; stroke-opacity:1; fill:none\" points=\"565.423,1423.18 565.423,1423.18 640.585,1423.18 565.423,1423.18 \"/>\n",
       "<path clip-path=\"url(#clip452)\" d=\"M659.376 1423.18 L659.376 1423.18 L734.539 1423.18 L734.539 1423.18 L659.376 1423.18 L659.376 1423.18  Z\" fill=\"#608cf6\" fill-rule=\"evenodd\" fill-opacity=\"1\"/>\n",
       "<polyline clip-path=\"url(#clip452)\" style=\"stroke:#000000; stroke-linecap:round; stroke-linejoin:round; stroke-width:4; stroke-opacity:1; fill:none\" points=\"659.376,1423.18 659.376,1423.18 734.539,1423.18 659.376,1423.18 \"/>\n",
       "<path clip-path=\"url(#clip452)\" d=\"M753.329 1423.18 L753.329 1423.18 L828.492 1423.18 L828.492 1423.18 L753.329 1423.18 L753.329 1423.18  Z\" fill=\"#608cf6\" fill-rule=\"evenodd\" fill-opacity=\"1\"/>\n",
       "<polyline clip-path=\"url(#clip452)\" style=\"stroke:#000000; stroke-linecap:round; stroke-linejoin:round; stroke-width:4; stroke-opacity:1; fill:none\" points=\"753.329,1423.18 753.329,1423.18 828.492,1423.18 753.329,1423.18 \"/>\n",
       "<path clip-path=\"url(#clip452)\" d=\"M847.283 1423.18 L847.283 1423.18 L922.445 1423.18 L922.445 1423.18 L847.283 1423.18 L847.283 1423.18  Z\" fill=\"#608cf6\" fill-rule=\"evenodd\" fill-opacity=\"1\"/>\n",
       "<polyline clip-path=\"url(#clip452)\" style=\"stroke:#000000; stroke-linecap:round; stroke-linejoin:round; stroke-width:4; stroke-opacity:1; fill:none\" points=\"847.283,1423.18 847.283,1423.18 922.445,1423.18 847.283,1423.18 \"/>\n",
       "<path clip-path=\"url(#clip452)\" d=\"M941.236 1423.18 L941.236 1423.18 L1016.4 1423.18 L1016.4 1423.18 L941.236 1423.18 L941.236 1423.18  Z\" fill=\"#608cf6\" fill-rule=\"evenodd\" fill-opacity=\"1\"/>\n",
       "<polyline clip-path=\"url(#clip452)\" style=\"stroke:#000000; stroke-linecap:round; stroke-linejoin:round; stroke-width:4; stroke-opacity:1; fill:none\" points=\"941.236,1423.18 941.236,1423.18 1016.4,1423.18 941.236,1423.18 \"/>\n",
       "<path clip-path=\"url(#clip452)\" d=\"M1035.19 1423.18 L1035.19 1423.18 L1110.35 1423.18 L1110.35 1423.18 L1035.19 1423.18 L1035.19 1423.18  Z\" fill=\"#608cf6\" fill-rule=\"evenodd\" fill-opacity=\"1\"/>\n",
       "<polyline clip-path=\"url(#clip452)\" style=\"stroke:#000000; stroke-linecap:round; stroke-linejoin:round; stroke-width:4; stroke-opacity:1; fill:none\" points=\"1035.19,1423.18 1035.19,1423.18 1110.35,1423.18 1035.19,1423.18 \"/>\n",
       "<path clip-path=\"url(#clip452)\" d=\"M1129.14 1423.18 L1129.14 1423.18 L1204.3 1423.18 L1204.3 1423.18 L1129.14 1423.18 L1129.14 1423.18  Z\" fill=\"#608cf6\" fill-rule=\"evenodd\" fill-opacity=\"1\"/>\n",
       "<polyline clip-path=\"url(#clip452)\" style=\"stroke:#000000; stroke-linecap:round; stroke-linejoin:round; stroke-width:4; stroke-opacity:1; fill:none\" points=\"1129.14,1423.18 1129.14,1423.18 1204.3,1423.18 1129.14,1423.18 \"/>\n",
       "<path clip-path=\"url(#clip452)\" d=\"M1223.1 1227.51 L1223.1 1423.18 L1298.26 1423.18 L1298.26 1227.51 L1223.1 1227.51 L1223.1 1227.51  Z\" fill=\"#608cf6\" fill-rule=\"evenodd\" fill-opacity=\"1\"/>\n",
       "<polyline clip-path=\"url(#clip452)\" style=\"stroke:#000000; stroke-linecap:round; stroke-linejoin:round; stroke-width:4; stroke-opacity:1; fill:none\" points=\"1223.1,1227.51 1223.1,1423.18 1298.26,1423.18 1298.26,1227.51 1223.1,1227.51 \"/>\n",
       "<path clip-path=\"url(#clip452)\" d=\"M1317.05 1423.18 L1317.05 1423.18 L1392.21 1423.18 L1392.21 1423.18 L1317.05 1423.18 L1317.05 1423.18  Z\" fill=\"#608cf6\" fill-rule=\"evenodd\" fill-opacity=\"1\"/>\n",
       "<polyline clip-path=\"url(#clip452)\" style=\"stroke:#000000; stroke-linecap:round; stroke-linejoin:round; stroke-width:4; stroke-opacity:1; fill:none\" points=\"1317.05,1423.18 1317.05,1423.18 1392.21,1423.18 1317.05,1423.18 \"/>\n",
       "<path clip-path=\"url(#clip452)\" d=\"M1411 1423.18 L1411 1423.18 L1486.16 1423.18 L1486.16 1423.18 L1411 1423.18 L1411 1423.18  Z\" fill=\"#608cf6\" fill-rule=\"evenodd\" fill-opacity=\"1\"/>\n",
       "<polyline clip-path=\"url(#clip452)\" style=\"stroke:#000000; stroke-linecap:round; stroke-linejoin:round; stroke-width:4; stroke-opacity:1; fill:none\" points=\"1411,1423.18 1411,1423.18 1486.16,1423.18 1411,1423.18 \"/>\n",
       "<path clip-path=\"url(#clip452)\" d=\"M1504.96 1423.18 L1504.96 1423.18 L1580.12 1423.18 L1580.12 1423.18 L1504.96 1423.18 L1504.96 1423.18  Z\" fill=\"#608cf6\" fill-rule=\"evenodd\" fill-opacity=\"1\"/>\n",
       "<polyline clip-path=\"url(#clip452)\" style=\"stroke:#000000; stroke-linecap:round; stroke-linejoin:round; stroke-width:4; stroke-opacity:1; fill:none\" points=\"1504.96,1423.18 1504.96,1423.18 1580.12,1423.18 1504.96,1423.18 \"/>\n",
       "<path clip-path=\"url(#clip452)\" d=\"M1598.91 1423.18 L1598.91 1423.18 L1674.07 1423.18 L1674.07 1423.18 L1598.91 1423.18 L1598.91 1423.18  Z\" fill=\"#608cf6\" fill-rule=\"evenodd\" fill-opacity=\"1\"/>\n",
       "<polyline clip-path=\"url(#clip452)\" style=\"stroke:#000000; stroke-linecap:round; stroke-linejoin:round; stroke-width:4; stroke-opacity:1; fill:none\" points=\"1598.91,1423.18 1598.91,1423.18 1674.07,1423.18 1598.91,1423.18 \"/>\n",
       "<path clip-path=\"url(#clip452)\" d=\"M1692.86 1423.18 L1692.86 1423.18 L1768.02 1423.18 L1768.02 1423.18 L1692.86 1423.18 L1692.86 1423.18  Z\" fill=\"#608cf6\" fill-rule=\"evenodd\" fill-opacity=\"1\"/>\n",
       "<polyline clip-path=\"url(#clip452)\" style=\"stroke:#000000; stroke-linecap:round; stroke-linejoin:round; stroke-width:4; stroke-opacity:1; fill:none\" points=\"1692.86,1423.18 1692.86,1423.18 1768.02,1423.18 1692.86,1423.18 \"/>\n",
       "<path clip-path=\"url(#clip452)\" d=\"M1786.82 1423.18 L1786.82 1423.18 L1861.98 1423.18 L1861.98 1423.18 L1786.82 1423.18 L1786.82 1423.18  Z\" fill=\"#608cf6\" fill-rule=\"evenodd\" fill-opacity=\"1\"/>\n",
       "<polyline clip-path=\"url(#clip452)\" style=\"stroke:#000000; stroke-linecap:round; stroke-linejoin:round; stroke-width:4; stroke-opacity:1; fill:none\" points=\"1786.82,1423.18 1786.82,1423.18 1861.98,1423.18 1786.82,1423.18 \"/>\n",
       "<path clip-path=\"url(#clip452)\" d=\"M1880.77 1423.18 L1880.77 1423.18 L1955.93 1423.18 L1955.93 1423.18 L1880.77 1423.18 L1880.77 1423.18  Z\" fill=\"#608cf6\" fill-rule=\"evenodd\" fill-opacity=\"1\"/>\n",
       "<polyline clip-path=\"url(#clip452)\" style=\"stroke:#000000; stroke-linecap:round; stroke-linejoin:round; stroke-width:4; stroke-opacity:1; fill:none\" points=\"1880.77,1423.18 1880.77,1423.18 1955.93,1423.18 1880.77,1423.18 \"/>\n",
       "<path clip-path=\"url(#clip452)\" d=\"M1974.72 1423.18 L1974.72 1423.18 L2049.88 1423.18 L2049.88 1423.18 L1974.72 1423.18 L1974.72 1423.18  Z\" fill=\"#608cf6\" fill-rule=\"evenodd\" fill-opacity=\"1\"/>\n",
       "<polyline clip-path=\"url(#clip452)\" style=\"stroke:#000000; stroke-linecap:round; stroke-linejoin:round; stroke-width:4; stroke-opacity:1; fill:none\" points=\"1974.72,1423.18 1974.72,1423.18 2049.88,1423.18 1974.72,1423.18 \"/>\n",
       "<path clip-path=\"url(#clip452)\" d=\"M2068.68 1423.18 L2068.68 1423.18 L2143.84 1423.18 L2143.84 1423.18 L2068.68 1423.18 L2068.68 1423.18  Z\" fill=\"#608cf6\" fill-rule=\"evenodd\" fill-opacity=\"1\"/>\n",
       "<polyline clip-path=\"url(#clip452)\" style=\"stroke:#000000; stroke-linecap:round; stroke-linejoin:round; stroke-width:4; stroke-opacity:1; fill:none\" points=\"2068.68,1423.18 2068.68,1423.18 2143.84,1423.18 2068.68,1423.18 \"/>\n",
       "<path clip-path=\"url(#clip452)\" d=\"M2162.63 1423.18 L2162.63 1423.18 L2237.79 1423.18 L2237.79 1423.18 L2162.63 1423.18 L2162.63 1423.18  Z\" fill=\"#608cf6\" fill-rule=\"evenodd\" fill-opacity=\"1\"/>\n",
       "<polyline clip-path=\"url(#clip452)\" style=\"stroke:#000000; stroke-linecap:round; stroke-linejoin:round; stroke-width:4; stroke-opacity:1; fill:none\" points=\"2162.63,1423.18 2162.63,1423.18 2237.79,1423.18 2162.63,1423.18 \"/>\n",
       "<circle clip-path=\"url(#clip452)\" style=\"fill:#608cf6; stroke:none; fill-opacity:0\" cx=\"415.098\" cy=\"1364.15\" r=\"2\"/>\n",
       "<circle clip-path=\"url(#clip452)\" style=\"fill:#608cf6; stroke:none; fill-opacity:0\" cx=\"509.051\" cy=\"1423.18\" r=\"2\"/>\n",
       "<circle clip-path=\"url(#clip452)\" style=\"fill:#608cf6; stroke:none; fill-opacity:0\" cx=\"603.004\" cy=\"1423.18\" r=\"2\"/>\n",
       "<circle clip-path=\"url(#clip452)\" style=\"fill:#608cf6; stroke:none; fill-opacity:0\" cx=\"696.957\" cy=\"1423.18\" r=\"2\"/>\n",
       "<circle clip-path=\"url(#clip452)\" style=\"fill:#608cf6; stroke:none; fill-opacity:0\" cx=\"790.911\" cy=\"1423.18\" r=\"2\"/>\n",
       "<circle clip-path=\"url(#clip452)\" style=\"fill:#608cf6; stroke:none; fill-opacity:0\" cx=\"884.864\" cy=\"1423.18\" r=\"2\"/>\n",
       "<circle clip-path=\"url(#clip452)\" style=\"fill:#608cf6; stroke:none; fill-opacity:0\" cx=\"978.817\" cy=\"1423.18\" r=\"2\"/>\n",
       "<circle clip-path=\"url(#clip452)\" style=\"fill:#608cf6; stroke:none; fill-opacity:0\" cx=\"1072.77\" cy=\"1423.18\" r=\"2\"/>\n",
       "<circle clip-path=\"url(#clip452)\" style=\"fill:#608cf6; stroke:none; fill-opacity:0\" cx=\"1166.72\" cy=\"1423.18\" r=\"2\"/>\n",
       "<circle clip-path=\"url(#clip452)\" style=\"fill:#608cf6; stroke:none; fill-opacity:0\" cx=\"1260.68\" cy=\"1227.51\" r=\"2\"/>\n",
       "<circle clip-path=\"url(#clip452)\" style=\"fill:#608cf6; stroke:none; fill-opacity:0\" cx=\"1354.63\" cy=\"1423.18\" r=\"2\"/>\n",
       "<circle clip-path=\"url(#clip452)\" style=\"fill:#608cf6; stroke:none; fill-opacity:0\" cx=\"1448.58\" cy=\"1423.18\" r=\"2\"/>\n",
       "<circle clip-path=\"url(#clip452)\" style=\"fill:#608cf6; stroke:none; fill-opacity:0\" cx=\"1542.54\" cy=\"1423.18\" r=\"2\"/>\n",
       "<circle clip-path=\"url(#clip452)\" style=\"fill:#608cf6; stroke:none; fill-opacity:0\" cx=\"1636.49\" cy=\"1423.18\" r=\"2\"/>\n",
       "<circle clip-path=\"url(#clip452)\" style=\"fill:#608cf6; stroke:none; fill-opacity:0\" cx=\"1730.44\" cy=\"1423.18\" r=\"2\"/>\n",
       "<circle clip-path=\"url(#clip452)\" style=\"fill:#608cf6; stroke:none; fill-opacity:0\" cx=\"1824.4\" cy=\"1423.18\" r=\"2\"/>\n",
       "<circle clip-path=\"url(#clip452)\" style=\"fill:#608cf6; stroke:none; fill-opacity:0\" cx=\"1918.35\" cy=\"1423.18\" r=\"2\"/>\n",
       "<circle clip-path=\"url(#clip452)\" style=\"fill:#608cf6; stroke:none; fill-opacity:0\" cx=\"2012.3\" cy=\"1423.18\" r=\"2\"/>\n",
       "<circle clip-path=\"url(#clip452)\" style=\"fill:#608cf6; stroke:none; fill-opacity:0\" cx=\"2106.26\" cy=\"1423.18\" r=\"2\"/>\n",
       "<circle clip-path=\"url(#clip452)\" style=\"fill:#608cf6; stroke:none; fill-opacity:0\" cx=\"2200.21\" cy=\"1423.18\" r=\"2\"/>\n",
       "</svg>\n"
      ]
     },
     "metadata": {},
     "output_type": "display_data"
    }
   ],
   "source": [
    "a = zeros(nthreads()*10)\n",
    "workloads = compute_nonuniform_spawn!(a)\n",
    "\n",
    "# plotting\n",
    "thread_workloads = zeros(Int, nthreads(), maximum(length, workloads))\n",
    "for th in eachindex(workloads)\n",
    "    for (i, w) in enumerate(workloads[th])\n",
    "        thread_workloads[th, i] = w\n",
    "    end\n",
    "end\n",
    "b = groupedbar(thread_workloads, xlab=\"threadid\", ylab=\"workload\", title=\"@spawn\", legend=false, bar_position=:stack)\n",
    "# b = bar(sum.(workloads), xlab=\"threadid\", ylab=\"workload\", title=\"Workload (@spawn)\", legend=false, color=:green)\n",
    "display(b)"
   ]
  },
  {
   "cell_type": "markdown",
   "metadata": {},
   "source": [
    "#### No load-balancing with `@threads`"
   ]
  },
  {
   "cell_type": "markdown",
   "metadata": {},
   "source": [
    "`@threads` doesn't give load-balancing because when it **divides the iteration interval into `nthreads()` tasks** there is no flexibility left to give a thread more than a single task."
   ]
  },
  {
   "cell_type": "code",
   "execution_count": 24,
   "metadata": {
    "tags": []
   },
   "outputs": [
    {
     "data": {
      "text/plain": [
       "compute_nonuniform_threads! (generic function with 2 methods)"
      ]
     },
     "metadata": {},
     "output_type": "display_data"
    }
   ],
   "source": [
    "function compute_nonuniform_threads!(a, workloads = [Dict() for _ in 1:nthreads()])\n",
    "    @threads for i in 1:length(a)\n",
    "        a[i] = sum(abs2, rand() for j in 1:(2^14*i)) # workload proportional to i\n",
    "\n",
    "        # poor-man's bookkeeping\n",
    "        d = workloads[threadid()]\n",
    "        d[taskid()] = get!(d, taskid(), 0) + i\n",
    "    end\n",
    "    return workloads\n",
    "end"
   ]
  },
  {
   "cell_type": "code",
   "execution_count": 25,
   "metadata": {
    "tags": []
   },
   "outputs": [
    {
     "data": {
      "image/png": "[encoded data removed]",
      "image/svg+xml": [
       "<?xml version=\"1.0\" encoding=\"utf-8\"?>\n",
       "<svg xmlns=\"http://www.w3.org/2000/svg\" xmlns:xlink=\"http://www.w3.org/1999/xlink\" width=\"600\" height=\"400\" viewBox=\"0 0 2400 1600\">\n",
       "<defs>\n",
       "  <clipPath id=\"clip490\">\n",
       "    <rect x=\"0\" y=\"0\" width=\"2400\" height=\"1600\"/>\n",
       "  </clipPath>\n",
       "</defs>\n",
       "<path clip-path=\"url(#clip490)\" d=\"M0 1600 L2400 1600 L2400 0 L0 0  Z\" fill=\"#ffffff\" fill-rule=\"evenodd\" fill-opacity=\"1\"/>\n",
       "<defs>\n",
       "  <clipPath id=\"clip491\">\n",
       "    <rect x=\"480\" y=\"0\" width=\"1681\" height=\"1600\"/>\n",
       "  </clipPath>\n",
       "</defs>\n",
       "<path clip-path=\"url(#clip490)\" d=\"M262.551 1423.18 L2352.76 1423.18 L2352.76 123.472 L262.551 123.472  Z\" fill=\"#ffffff\" fill-rule=\"evenodd\" fill-opacity=\"1\"/>\n",
       "<defs>\n",
       "  <clipPath id=\"clip492\">\n",
       "    <rect x=\"262\" y=\"123\" width=\"2091\" height=\"1301\"/>\n",
       "  </clipPath>\n",
       "</defs>\n",
       "<polyline clip-path=\"url(#clip492)\" style=\"stroke:#000000; stroke-linecap:round; stroke-linejoin:round; stroke-width:2; stroke-opacity:0.1; fill:none\" points=\"321.144,1423.18 321.144,123.472 \"/>\n",
       "<polyline clip-path=\"url(#clip492)\" style=\"stroke:#000000; stroke-linecap:round; stroke-linejoin:round; stroke-width:2; stroke-opacity:0.1; fill:none\" points=\"790.911,1423.18 790.911,123.472 \"/>\n",
       "<polyline clip-path=\"url(#clip492)\" style=\"stroke:#000000; stroke-linecap:round; stroke-linejoin:round; stroke-width:2; stroke-opacity:0.1; fill:none\" points=\"1260.68,1423.18 1260.68,123.472 \"/>\n",
       "<polyline clip-path=\"url(#clip492)\" style=\"stroke:#000000; stroke-linecap:round; stroke-linejoin:round; stroke-width:2; stroke-opacity:0.1; fill:none\" points=\"1730.44,1423.18 1730.44,123.472 \"/>\n",
       "<polyline clip-path=\"url(#clip492)\" style=\"stroke:#000000; stroke-linecap:round; stroke-linejoin:round; stroke-width:2; stroke-opacity:0.1; fill:none\" points=\"2200.21,1423.18 2200.21,123.472 \"/>\n",
       "<polyline clip-path=\"url(#clip490)\" style=\"stroke:#000000; stroke-linecap:round; stroke-linejoin:round; stroke-width:4; stroke-opacity:1; fill:none\" points=\"262.551,1423.18 2352.76,1423.18 \"/>\n",
       "<polyline clip-path=\"url(#clip490)\" style=\"stroke:#000000; stroke-linecap:round; stroke-linejoin:round; stroke-width:4; stroke-opacity:1; fill:none\" points=\"321.144,1423.18 321.144,1404.28 \"/>\n",
       "<polyline clip-path=\"url(#clip490)\" style=\"stroke:#000000; stroke-linecap:round; stroke-linejoin:round; stroke-width:4; stroke-opacity:1; fill:none\" points=\"790.911,1423.18 790.911,1404.28 \"/>\n",
       "<polyline clip-path=\"url(#clip490)\" style=\"stroke:#000000; stroke-linecap:round; stroke-linejoin:round; stroke-width:4; stroke-opacity:1; fill:none\" points=\"1260.68,1423.18 1260.68,1404.28 \"/>\n",
       "<polyline clip-path=\"url(#clip490)\" style=\"stroke:#000000; stroke-linecap:round; stroke-linejoin:round; stroke-width:4; stroke-opacity:1; fill:none\" points=\"1730.44,1423.18 1730.44,1404.28 \"/>\n",
       "<polyline clip-path=\"url(#clip490)\" style=\"stroke:#000000; stroke-linecap:round; stroke-linejoin:round; stroke-width:4; stroke-opacity:1; fill:none\" points=\"2200.21,1423.18 2200.21,1404.28 \"/>\n",
       "<path clip-path=\"url(#clip490)\" d=\"M321.144 1454.1 Q317.533 1454.1 315.704 1457.66 Q313.899 1461.2 313.899 1468.33 Q313.899 1475.44 315.704 1479.01 Q317.533 1482.55 321.144 1482.55 Q324.778 1482.55 326.584 1479.01 Q328.413 1475.44 328.413 1468.33 Q328.413 1461.2 326.584 1457.66 Q324.778 1454.1 321.144 1454.1 M321.144 1450.39 Q326.954 1450.39 330.01 1455 Q333.089 1459.58 333.089 1468.33 Q333.089 1477.06 330.01 1481.67 Q326.954 1486.25 321.144 1486.25 Q315.334 1486.25 312.255 1481.67 Q309.2 1477.06 309.2 1468.33 Q309.2 1459.58 312.255 1455 Q315.334 1450.39 321.144 1450.39 Z\" fill=\"#000000\" fill-rule=\"nonzero\" fill-opacity=\"1\" /><path clip-path=\"url(#clip490)\" d=\"M781.188 1451.02 L799.545 1451.02 L799.545 1454.96 L785.471 1454.96 L785.471 1463.43 Q786.489 1463.08 787.508 1462.92 Q788.526 1462.73 789.545 1462.73 Q795.332 1462.73 798.711 1465.9 Q802.091 1469.08 802.091 1474.49 Q802.091 1480.07 798.619 1483.17 Q795.147 1486.25 788.827 1486.25 Q786.651 1486.25 784.383 1485.88 Q782.137 1485.51 779.73 1484.77 L779.73 1480.07 Q781.813 1481.2 784.036 1481.76 Q786.258 1482.32 788.735 1482.32 Q792.739 1482.32 795.077 1480.21 Q797.415 1478.1 797.415 1474.49 Q797.415 1470.88 795.077 1468.77 Q792.739 1466.67 788.735 1466.67 Q786.86 1466.67 784.985 1467.08 Q783.133 1467.5 781.188 1468.38 L781.188 1451.02 Z\" fill=\"#000000\" fill-rule=\"nonzero\" fill-opacity=\"1\" /><path clip-path=\"url(#clip490)\" d=\"M1235.36 1481.64 L1243 1481.64 L1243 1455.28 L1234.69 1456.95 L1234.69 1452.69 L1242.96 1451.02 L1247.63 1451.02 L1247.63 1481.64 L1255.27 1481.64 L1255.27 1485.58 L1235.36 1485.58 L1235.36 1481.64 Z\" fill=\"#000000\" fill-rule=\"nonzero\" fill-opacity=\"1\" /><path clip-path=\"url(#clip490)\" d=\"M1274.72 1454.1 Q1271.11 1454.1 1269.28 1457.66 Q1267.47 1461.2 1267.47 1468.33 Q1267.47 1475.44 1269.28 1479.01 Q1271.11 1482.55 1274.72 1482.55 Q1278.35 1482.55 1280.16 1479.01 Q1281.98 1475.44 1281.98 1468.33 Q1281.98 1461.2 1280.16 1457.66 Q1278.35 1454.1 1274.72 1454.1 M1274.72 1450.39 Q1280.53 1450.39 1283.58 1455 Q1286.66 1459.58 1286.66 1468.33 Q1286.66 1477.06 1283.58 1481.67 Q1280.53 1486.25 1274.72 1486.25 Q1268.91 1486.25 1265.83 1481.67 Q1262.77 1477.06 1262.77 1468.33 Q1262.77 1459.58 1265.83 1455 Q1268.91 1450.39 1274.72 1450.39 Z\" fill=\"#000000\" fill-rule=\"nonzero\" fill-opacity=\"1\" /><path clip-path=\"url(#clip490)\" d=\"M1705.63 1481.64 L1713.27 1481.64 L1713.27 1455.28 L1704.96 1456.95 L1704.96 1452.69 L1713.22 1451.02 L1717.9 1451.02 L1717.9 1481.64 L1725.54 1481.64 L1725.54 1485.58 L1705.63 1485.58 L1705.63 1481.64 Z\" fill=\"#000000\" fill-rule=\"nonzero\" fill-opacity=\"1\" /><path clip-path=\"url(#clip490)\" d=\"M1735.03 1451.02 L1753.38 1451.02 L1753.38 1454.96 L1739.31 1454.96 L1739.31 1463.43 Q1740.33 1463.08 1741.35 1462.92 Q1742.36 1462.73 1743.38 1462.73 Q1749.17 1462.73 1752.55 1465.9 Q1755.93 1469.08 1755.93 1474.49 Q1755.93 1480.07 1752.46 1483.17 Q1748.98 1486.25 1742.67 1486.25 Q1740.49 1486.25 1738.22 1485.88 Q1735.98 1485.51 1733.57 1484.77 L1733.57 1480.07 Q1735.65 1481.2 1737.87 1481.76 Q1740.1 1482.32 1742.57 1482.32 Q1746.58 1482.32 1748.92 1480.21 Q1751.25 1478.1 1751.25 1474.49 Q1751.25 1470.88 1748.92 1468.77 Q1746.58 1466.67 1742.57 1466.67 Q1740.7 1466.67 1738.82 1467.08 Q1736.97 1467.5 1735.03 1468.38 L1735.03 1451.02 Z\" fill=\"#000000\" fill-rule=\"nonzero\" fill-opacity=\"1\" /><path clip-path=\"url(#clip490)\" d=\"M2178.98 1481.64 L2195.3 1481.64 L2195.3 1485.58 L2173.36 1485.58 L2173.36 1481.64 Q2176.02 1478.89 2180.6 1474.26 Q2185.21 1469.61 2186.39 1468.27 Q2188.64 1465.74 2189.52 1464.01 Q2190.42 1462.25 2190.42 1460.56 Q2190.42 1457.8 2188.47 1456.07 Q2186.55 1454.33 2183.45 1454.33 Q2181.25 1454.33 2178.8 1455.09 Q2176.37 1455.86 2173.59 1457.41 L2173.59 1452.69 Q2176.41 1451.55 2178.87 1450.97 Q2181.32 1450.39 2183.36 1450.39 Q2188.73 1450.39 2191.92 1453.08 Q2195.12 1455.77 2195.12 1460.26 Q2195.12 1462.39 2194.31 1464.31 Q2193.52 1466.2 2191.41 1468.8 Q2190.83 1469.47 2187.73 1472.69 Q2184.63 1475.88 2178.98 1481.64 Z\" fill=\"#000000\" fill-rule=\"nonzero\" fill-opacity=\"1\" /><path clip-path=\"url(#clip490)\" d=\"M2215.12 1454.1 Q2211.51 1454.1 2209.68 1457.66 Q2207.87 1461.2 2207.87 1468.33 Q2207.87 1475.44 2209.68 1479.01 Q2211.51 1482.55 2215.12 1482.55 Q2218.75 1482.55 2220.56 1479.01 Q2222.39 1475.44 2222.39 1468.33 Q2222.39 1461.2 2220.56 1457.66 Q2218.75 1454.1 2215.12 1454.1 M2215.12 1450.39 Q2220.93 1450.39 2223.98 1455 Q2227.06 1459.58 2227.06 1468.33 Q2227.06 1477.06 2223.98 1481.67 Q2220.93 1486.25 2215.12 1486.25 Q2209.31 1486.25 2206.23 1481.67 Q2203.17 1477.06 2203.17 1468.33 Q2203.17 1459.58 2206.23 1455 Q2209.31 1450.39 2215.12 1450.39 Z\" fill=\"#000000\" fill-rule=\"nonzero\" fill-opacity=\"1\" /><path clip-path=\"url(#clip490)\" d=\"M1185.1 1522.27 L1185.1 1532.4 L1197.16 1532.4 L1197.16 1536.95 L1185.1 1536.95 L1185.1 1556.3 Q1185.1 1560.66 1186.28 1561.9 Q1187.48 1563.14 1191.15 1563.14 L1197.16 1563.14 L1197.16 1568.04 L1191.15 1568.04 Q1184.37 1568.04 1181.79 1565.53 Q1179.21 1562.98 1179.21 1556.3 L1179.21 1536.95 L1174.91 1536.95 L1174.91 1532.4 L1179.21 1532.4 L1179.21 1522.27 L1185.1 1522.27 Z\" fill=\"#000000\" fill-rule=\"nonzero\" fill-opacity=\"1\" /><path clip-path=\"url(#clip490)\" d=\"M1234.5 1546.53 L1234.5 1568.04 L1228.64 1568.04 L1228.64 1546.72 Q1228.64 1541.66 1226.67 1539.14 Q1224.69 1536.63 1220.75 1536.63 Q1216 1536.63 1213.27 1539.65 Q1210.53 1542.68 1210.53 1547.9 L1210.53 1568.04 L1204.64 1568.04 L1204.64 1518.52 L1210.53 1518.52 L1210.53 1537.93 Q1212.63 1534.72 1215.46 1533.13 Q1218.33 1531.54 1222.05 1531.54 Q1228.19 1531.54 1231.34 1535.36 Q1234.5 1539.14 1234.5 1546.53 Z\" fill=\"#000000\" fill-rule=\"nonzero\" fill-opacity=\"1\" /><path clip-path=\"url(#clip490)\" d=\"M1266.83 1537.87 Q1265.85 1537.3 1264.67 1537.04 Q1263.52 1536.76 1262.12 1536.76 Q1257.16 1536.76 1254.48 1540 Q1251.84 1543.22 1251.84 1549.27 L1251.84 1568.04 L1245.95 1568.04 L1245.95 1532.4 L1251.84 1532.4 L1251.84 1537.93 Q1253.69 1534.69 1256.65 1533.13 Q1259.61 1531.54 1263.84 1531.54 Q1264.45 1531.54 1265.18 1531.63 Q1265.91 1531.7 1266.8 1531.85 L1266.83 1537.87 Z\" fill=\"#000000\" fill-rule=\"nonzero\" fill-opacity=\"1\" /><path clip-path=\"url(#clip490)\" d=\"M1302.04 1548.76 L1302.04 1551.62 L1275.11 1551.62 Q1275.49 1557.67 1278.74 1560.85 Q1282.02 1564 1287.84 1564 Q1291.21 1564 1294.37 1563.17 Q1297.55 1562.35 1300.67 1560.69 L1300.67 1566.23 Q1297.52 1567.57 1294.21 1568.27 Q1290.9 1568.97 1287.49 1568.97 Q1278.96 1568.97 1273.96 1564 Q1269 1559.04 1269 1550.57 Q1269 1541.82 1273.71 1536.69 Q1278.45 1531.54 1286.47 1531.54 Q1293.66 1531.54 1297.83 1536.18 Q1302.04 1540.8 1302.04 1548.76 M1296.18 1547.04 Q1296.12 1542.23 1293.47 1539.37 Q1290.86 1536.5 1286.54 1536.5 Q1281.63 1536.5 1278.67 1539.27 Q1275.75 1542.04 1275.3 1547.07 L1296.18 1547.04 Z\" fill=\"#000000\" fill-rule=\"nonzero\" fill-opacity=\"1\" /><path clip-path=\"url(#clip490)\" d=\"M1327.85 1550.12 Q1320.75 1550.12 1318.01 1551.75 Q1315.28 1553.37 1315.28 1557.29 Q1315.28 1560.4 1317.31 1562.25 Q1319.38 1564.07 1322.92 1564.07 Q1327.79 1564.07 1330.71 1560.63 Q1333.67 1557.16 1333.67 1551.43 L1333.67 1550.12 L1327.85 1550.12 M1339.53 1547.71 L1339.53 1568.04 L1333.67 1568.04 L1333.67 1562.63 Q1331.67 1565.88 1328.68 1567.44 Q1325.68 1568.97 1321.36 1568.97 Q1315.88 1568.97 1312.63 1565.91 Q1309.42 1562.82 1309.42 1557.67 Q1309.42 1551.65 1313.43 1548.6 Q1317.47 1545.54 1325.46 1545.54 L1333.67 1545.54 L1333.67 1544.97 Q1333.67 1540.93 1331 1538.73 Q1328.36 1536.5 1323.55 1536.5 Q1320.5 1536.5 1317.6 1537.23 Q1314.7 1537.97 1312.03 1539.43 L1312.03 1534.02 Q1315.24 1532.78 1318.27 1532.17 Q1321.29 1531.54 1324.16 1531.54 Q1331.89 1531.54 1335.71 1535.55 Q1339.53 1539.56 1339.53 1547.71 Z\" fill=\"#000000\" fill-rule=\"nonzero\" fill-opacity=\"1\" /><path clip-path=\"url(#clip490)\" d=\"M1375.05 1537.81 L1375.05 1518.52 L1380.91 1518.52 L1380.91 1568.04 L1375.05 1568.04 L1375.05 1562.7 Q1373.2 1565.88 1370.37 1567.44 Q1367.57 1568.97 1363.62 1568.97 Q1357.16 1568.97 1353.09 1563.81 Q1349.05 1558.65 1349.05 1550.25 Q1349.05 1541.85 1353.09 1536.69 Q1357.16 1531.54 1363.62 1531.54 Q1367.57 1531.54 1370.37 1533.1 Q1373.2 1534.62 1375.05 1537.81 M1355.09 1550.25 Q1355.09 1556.71 1357.74 1560.4 Q1360.41 1564.07 1365.06 1564.07 Q1369.7 1564.07 1372.38 1560.4 Q1375.05 1556.71 1375.05 1550.25 Q1375.05 1543.79 1372.38 1540.13 Q1369.7 1536.44 1365.06 1536.44 Q1360.41 1536.44 1357.74 1540.13 Q1355.09 1543.79 1355.09 1550.25 Z\" fill=\"#000000\" fill-rule=\"nonzero\" fill-opacity=\"1\" /><path clip-path=\"url(#clip490)\" d=\"M1392.97 1532.4 L1398.83 1532.4 L1398.83 1568.04 L1392.97 1568.04 L1392.97 1532.4 M1392.97 1518.52 L1398.83 1518.52 L1398.83 1525.93 L1392.97 1525.93 L1392.97 1518.52 Z\" fill=\"#000000\" fill-rule=\"nonzero\" fill-opacity=\"1\" /><path clip-path=\"url(#clip490)\" d=\"M1434.54 1537.81 L1434.54 1518.52 L1440.39 1518.52 L1440.39 1568.04 L1434.54 1568.04 L1434.54 1562.7 Q1432.69 1565.88 1429.86 1567.44 Q1427.06 1568.97 1423.11 1568.97 Q1416.65 1568.97 1412.58 1563.81 Q1408.53 1558.65 1408.53 1550.25 Q1408.53 1541.85 1412.58 1536.69 Q1416.65 1531.54 1423.11 1531.54 Q1427.06 1531.54 1429.86 1533.1 Q1432.69 1534.62 1434.54 1537.81 M1414.58 1550.25 Q1414.58 1556.71 1417.22 1560.4 Q1419.9 1564.07 1424.54 1564.07 Q1429.19 1564.07 1431.86 1560.4 Q1434.54 1556.71 1434.54 1550.25 Q1434.54 1543.79 1431.86 1540.13 Q1429.19 1536.44 1424.54 1536.44 Q1419.9 1536.44 1417.22 1540.13 Q1414.58 1543.79 1414.58 1550.25 Z\" fill=\"#000000\" fill-rule=\"nonzero\" fill-opacity=\"1\" /><polyline clip-path=\"url(#clip492)\" style=\"stroke:#000000; stroke-linecap:round; stroke-linejoin:round; stroke-width:2; stroke-opacity:0.1; fill:none\" points=\"262.551,1423.18 2352.76,1423.18 \"/>\n",
       "<polyline clip-path=\"url(#clip492)\" style=\"stroke:#000000; stroke-linecap:round; stroke-linejoin:round; stroke-width:2; stroke-opacity:0.1; fill:none\" points=\"262.551,1090.77 2352.76,1090.77 \"/>\n",
       "<polyline clip-path=\"url(#clip492)\" style=\"stroke:#000000; stroke-linecap:round; stroke-linejoin:round; stroke-width:2; stroke-opacity:0.1; fill:none\" points=\"262.551,758.368 2352.76,758.368 \"/>\n",
       "<polyline clip-path=\"url(#clip492)\" style=\"stroke:#000000; stroke-linecap:round; stroke-linejoin:round; stroke-width:2; stroke-opacity:0.1; fill:none\" points=\"262.551,425.962 2352.76,425.962 \"/>\n",
       "<polyline clip-path=\"url(#clip490)\" style=\"stroke:#000000; stroke-linecap:round; stroke-linejoin:round; stroke-width:4; stroke-opacity:1; fill:none\" points=\"262.551,1423.18 262.551,123.472 \"/>\n",
       "<polyline clip-path=\"url(#clip490)\" style=\"stroke:#000000; stroke-linecap:round; stroke-linejoin:round; stroke-width:4; stroke-opacity:1; fill:none\" points=\"262.551,1423.18 281.449,1423.18 \"/>\n",
       "<polyline clip-path=\"url(#clip490)\" style=\"stroke:#000000; stroke-linecap:round; stroke-linejoin:round; stroke-width:4; stroke-opacity:1; fill:none\" points=\"262.551,1090.77 281.449,1090.77 \"/>\n",
       "<polyline clip-path=\"url(#clip490)\" style=\"stroke:#000000; stroke-linecap:round; stroke-linejoin:round; stroke-width:4; stroke-opacity:1; fill:none\" points=\"262.551,758.368 281.449,758.368 \"/>\n",
       "<polyline clip-path=\"url(#clip490)\" style=\"stroke:#000000; stroke-linecap:round; stroke-linejoin:round; stroke-width:4; stroke-opacity:1; fill:none\" points=\"262.551,425.962 281.449,425.962 \"/>\n",
       "<path clip-path=\"url(#clip490)\" d=\"M214.607 1408.98 Q210.996 1408.98 209.167 1412.54 Q207.362 1416.08 207.362 1423.21 Q207.362 1430.32 209.167 1433.89 Q210.996 1437.43 214.607 1437.43 Q218.241 1437.43 220.047 1433.89 Q221.875 1430.32 221.875 1423.21 Q221.875 1416.08 220.047 1412.54 Q218.241 1408.98 214.607 1408.98 M214.607 1405.27 Q220.417 1405.27 223.473 1409.88 Q226.551 1414.46 226.551 1423.21 Q226.551 1431.94 223.473 1436.55 Q220.417 1441.13 214.607 1441.13 Q208.797 1441.13 205.718 1436.55 Q202.662 1431.94 202.662 1423.21 Q202.662 1414.46 205.718 1409.88 Q208.797 1405.27 214.607 1405.27 Z\" fill=\"#000000\" fill-rule=\"nonzero\" fill-opacity=\"1\" /><path clip-path=\"url(#clip490)\" d=\"M144.329 1073.49 L162.686 1073.49 L162.686 1077.43 L148.612 1077.43 L148.612 1085.9 Q149.63 1085.55 150.649 1085.39 Q151.667 1085.21 152.686 1085.21 Q158.473 1085.21 161.852 1088.38 Q165.232 1091.55 165.232 1096.97 Q165.232 1102.54 161.76 1105.65 Q158.288 1108.73 151.968 1108.73 Q149.792 1108.73 147.524 1108.35 Q145.279 1107.98 142.871 1107.24 L142.871 1102.54 Q144.954 1103.68 147.177 1104.23 Q149.399 1104.79 151.876 1104.79 Q155.88 1104.79 158.218 1102.68 Q160.556 1100.58 160.556 1096.97 Q160.556 1093.35 158.218 1091.25 Q155.88 1089.14 151.876 1089.14 Q150.001 1089.14 148.126 1089.56 Q146.274 1089.98 144.329 1090.85 L144.329 1073.49 Z\" fill=\"#000000\" fill-rule=\"nonzero\" fill-opacity=\"1\" /><path clip-path=\"url(#clip490)\" d=\"M184.445 1076.57 Q180.834 1076.57 179.005 1080.14 Q177.2 1083.68 177.2 1090.81 Q177.2 1097.91 179.005 1101.48 Q180.834 1105.02 184.445 1105.02 Q188.079 1105.02 189.885 1101.48 Q191.713 1097.91 191.713 1090.81 Q191.713 1083.68 189.885 1080.14 Q188.079 1076.57 184.445 1076.57 M184.445 1072.87 Q190.255 1072.87 193.311 1077.48 Q196.389 1082.06 196.389 1090.81 Q196.389 1099.54 193.311 1104.14 Q190.255 1108.73 184.445 1108.73 Q178.635 1108.73 175.556 1104.14 Q172.501 1099.54 172.501 1090.81 Q172.501 1082.06 175.556 1077.48 Q178.635 1072.87 184.445 1072.87 Z\" fill=\"#000000\" fill-rule=\"nonzero\" fill-opacity=\"1\" /><path clip-path=\"url(#clip490)\" d=\"M214.607 1076.57 Q210.996 1076.57 209.167 1080.14 Q207.362 1083.68 207.362 1090.81 Q207.362 1097.91 209.167 1101.48 Q210.996 1105.02 214.607 1105.02 Q218.241 1105.02 220.047 1101.48 Q221.875 1097.91 221.875 1090.81 Q221.875 1083.68 220.047 1080.14 Q218.241 1076.57 214.607 1076.57 M214.607 1072.87 Q220.417 1072.87 223.473 1077.48 Q226.551 1082.06 226.551 1090.81 Q226.551 1099.54 223.473 1104.14 Q220.417 1108.73 214.607 1108.73 Q208.797 1108.73 205.718 1104.14 Q202.662 1099.54 202.662 1090.81 Q202.662 1082.06 205.718 1077.48 Q208.797 1072.87 214.607 1072.87 Z\" fill=\"#000000\" fill-rule=\"nonzero\" fill-opacity=\"1\" /><path clip-path=\"url(#clip490)\" d=\"M114.931 771.713 L122.57 771.713 L122.57 745.347 L114.26 747.014 L114.26 742.754 L122.524 741.088 L127.2 741.088 L127.2 771.713 L134.839 771.713 L134.839 775.648 L114.931 775.648 L114.931 771.713 Z\" fill=\"#000000\" fill-rule=\"nonzero\" fill-opacity=\"1\" /><path clip-path=\"url(#clip490)\" d=\"M154.283 744.166 Q150.672 744.166 148.843 747.731 Q147.038 751.273 147.038 758.402 Q147.038 765.509 148.843 769.074 Q150.672 772.615 154.283 772.615 Q157.917 772.615 159.723 769.074 Q161.552 765.509 161.552 758.402 Q161.552 751.273 159.723 747.731 Q157.917 744.166 154.283 744.166 M154.283 740.463 Q160.093 740.463 163.149 745.069 Q166.227 749.652 166.227 758.402 Q166.227 767.129 163.149 771.736 Q160.093 776.319 154.283 776.319 Q148.473 776.319 145.394 771.736 Q142.339 767.129 142.339 758.402 Q142.339 749.652 145.394 745.069 Q148.473 740.463 154.283 740.463 Z\" fill=\"#000000\" fill-rule=\"nonzero\" fill-opacity=\"1\" /><path clip-path=\"url(#clip490)\" d=\"M184.445 744.166 Q180.834 744.166 179.005 747.731 Q177.2 751.273 177.2 758.402 Q177.2 765.509 179.005 769.074 Q180.834 772.615 184.445 772.615 Q188.079 772.615 189.885 769.074 Q191.713 765.509 191.713 758.402 Q191.713 751.273 189.885 747.731 Q188.079 744.166 184.445 744.166 M184.445 740.463 Q190.255 740.463 193.311 745.069 Q196.389 749.652 196.389 758.402 Q196.389 767.129 193.311 771.736 Q190.255 776.319 184.445 776.319 Q178.635 776.319 175.556 771.736 Q172.501 767.129 172.501 758.402 Q172.501 749.652 175.556 745.069 Q178.635 740.463 184.445 740.463 Z\" fill=\"#000000\" fill-rule=\"nonzero\" fill-opacity=\"1\" /><path clip-path=\"url(#clip490)\" d=\"M214.607 744.166 Q210.996 744.166 209.167 747.731 Q207.362 751.273 207.362 758.402 Q207.362 765.509 209.167 769.074 Q210.996 772.615 214.607 772.615 Q218.241 772.615 220.047 769.074 Q221.875 765.509 221.875 758.402 Q221.875 751.273 220.047 747.731 Q218.241 744.166 214.607 744.166 M214.607 740.463 Q220.417 740.463 223.473 745.069 Q226.551 749.652 226.551 758.402 Q226.551 767.129 223.473 771.736 Q220.417 776.319 214.607 776.319 Q208.797 776.319 205.718 771.736 Q202.662 767.129 202.662 758.402 Q202.662 749.652 205.718 745.069 Q208.797 740.463 214.607 740.463 Z\" fill=\"#000000\" fill-rule=\"nonzero\" fill-opacity=\"1\" /><path clip-path=\"url(#clip490)\" d=\"M114.931 439.306 L122.57 439.306 L122.57 412.941 L114.26 414.608 L114.26 410.348 L122.524 408.682 L127.2 408.682 L127.2 439.306 L134.839 439.306 L134.839 443.242 L114.931 443.242 L114.931 439.306 Z\" fill=\"#000000\" fill-rule=\"nonzero\" fill-opacity=\"1\" /><path clip-path=\"url(#clip490)\" d=\"M144.329 408.682 L162.686 408.682 L162.686 412.617 L148.612 412.617 L148.612 421.089 Q149.63 420.742 150.649 420.58 Q151.667 420.395 152.686 420.395 Q158.473 420.395 161.852 423.566 Q165.232 426.737 165.232 432.154 Q165.232 437.732 161.76 440.834 Q158.288 443.913 151.968 443.913 Q149.792 443.913 147.524 443.543 Q145.279 443.172 142.871 442.431 L142.871 437.732 Q144.954 438.867 147.177 439.422 Q149.399 439.978 151.876 439.978 Q155.88 439.978 158.218 437.871 Q160.556 435.765 160.556 432.154 Q160.556 428.543 158.218 426.436 Q155.88 424.33 151.876 424.33 Q150.001 424.33 148.126 424.746 Q146.274 425.163 144.329 426.043 L144.329 408.682 Z\" fill=\"#000000\" fill-rule=\"nonzero\" fill-opacity=\"1\" /><path clip-path=\"url(#clip490)\" d=\"M184.445 411.76 Q180.834 411.76 179.005 415.325 Q177.2 418.867 177.2 425.996 Q177.2 433.103 179.005 436.668 Q180.834 440.209 184.445 440.209 Q188.079 440.209 189.885 436.668 Q191.713 433.103 191.713 425.996 Q191.713 418.867 189.885 415.325 Q188.079 411.76 184.445 411.76 M184.445 408.057 Q190.255 408.057 193.311 412.663 Q196.389 417.246 196.389 425.996 Q196.389 434.723 193.311 439.33 Q190.255 443.913 184.445 443.913 Q178.635 443.913 175.556 439.33 Q172.501 434.723 172.501 425.996 Q172.501 417.246 175.556 412.663 Q178.635 408.057 184.445 408.057 Z\" fill=\"#000000\" fill-rule=\"nonzero\" fill-opacity=\"1\" /><path clip-path=\"url(#clip490)\" d=\"M214.607 411.76 Q210.996 411.76 209.167 415.325 Q207.362 418.867 207.362 425.996 Q207.362 433.103 209.167 436.668 Q210.996 440.209 214.607 440.209 Q218.241 440.209 220.047 436.668 Q221.875 433.103 221.875 425.996 Q221.875 418.867 220.047 415.325 Q218.241 411.76 214.607 411.76 M214.607 408.057 Q220.417 408.057 223.473 412.663 Q226.551 417.246 226.551 425.996 Q226.551 434.723 223.473 439.33 Q220.417 443.913 214.607 443.913 Q208.797 443.913 205.718 439.33 Q202.662 434.723 202.662 425.996 Q202.662 417.246 205.718 412.663 Q208.797 408.057 214.607 408.057 Z\" fill=\"#000000\" fill-rule=\"nonzero\" fill-opacity=\"1\" /><path clip-path=\"url(#clip490)\" d=\"M28.3562 917.525 L28.3562 911.669 L56.1743 904.348 L28.3562 897.059 L28.3562 890.153 L56.1743 882.832 L28.3562 875.543 L28.3562 869.687 L64.0042 879.013 L64.0042 885.919 L34.7856 893.59 L64.0042 901.293 L64.0042 908.199 L28.3562 917.525 Z\" fill=\"#000000\" fill-rule=\"nonzero\" fill-opacity=\"1\" /><path clip-path=\"url(#clip490)\" d=\"M32.4621 846.993 Q32.4621 851.704 36.1542 854.441 Q39.8145 857.178 46.212 857.178 Q52.6095 857.178 56.3017 854.473 Q59.9619 851.736 59.9619 846.993 Q59.9619 842.314 56.2698 839.577 Q52.5777 836.84 46.212 836.84 Q39.8781 836.84 36.186 839.577 Q32.4621 842.314 32.4621 846.993 M27.4968 846.993 Q27.4968 839.354 32.4621 834.994 Q37.4273 830.633 46.212 830.633 Q54.9649 830.633 59.9619 834.994 Q64.9272 839.354 64.9272 846.993 Q64.9272 854.664 59.9619 859.024 Q54.9649 863.353 46.212 863.353 Q37.4273 863.353 32.4621 859.024 Q27.4968 854.664 27.4968 846.993 Z\" fill=\"#000000\" fill-rule=\"nonzero\" fill-opacity=\"1\" /><path clip-path=\"url(#clip490)\" d=\"M33.8307 800.269 Q33.2578 801.256 33.0032 802.433 Q32.7167 803.579 32.7167 804.979 Q32.7167 809.945 35.9632 812.618 Q39.1779 815.26 45.2253 815.26 L64.0042 815.26 L64.0042 821.148 L28.3562 821.148 L28.3562 815.26 L33.8944 815.26 Q30.6479 813.414 29.0883 810.454 Q27.4968 807.494 27.4968 803.261 Q27.4968 802.656 27.5923 801.924 Q27.656 801.192 27.8151 800.301 L33.8307 800.269 Z\" fill=\"#000000\" fill-rule=\"nonzero\" fill-opacity=\"1\" /><path clip-path=\"url(#clip490)\" d=\"M14.479 794.349 L14.479 788.46 L43.7294 788.46 L28.3562 770.987 L28.3562 763.507 L45.0344 782.413 L64.0042 762.711 L64.0042 770.35 L46.5939 788.46 L64.0042 788.46 L64.0042 794.349 L14.479 794.349 Z\" fill=\"#000000\" fill-rule=\"nonzero\" fill-opacity=\"1\" /><path clip-path=\"url(#clip490)\" d=\"M14.479 756.377 L14.479 750.521 L64.0042 750.521 L64.0042 756.377 L14.479 756.377 Z\" fill=\"#000000\" fill-rule=\"nonzero\" fill-opacity=\"1\" /><path clip-path=\"url(#clip490)\" d=\"M32.4621 724.453 Q32.4621 729.164 36.1542 731.901 Q39.8145 734.638 46.212 734.638 Q52.6095 734.638 56.3017 731.933 Q59.9619 729.196 59.9619 724.453 Q59.9619 719.774 56.2698 717.037 Q52.5777 714.3 46.212 714.3 Q39.8781 714.3 36.186 717.037 Q32.4621 719.774 32.4621 724.453 M27.4968 724.453 Q27.4968 716.814 32.4621 712.454 Q37.4273 708.093 46.212 708.093 Q54.9649 708.093 59.9619 712.454 Q64.9272 716.814 64.9272 724.453 Q64.9272 732.124 59.9619 736.484 Q54.9649 740.813 46.212 740.813 Q37.4273 740.813 32.4621 736.484 Q27.4968 732.124 27.4968 724.453 Z\" fill=\"#000000\" fill-rule=\"nonzero\" fill-opacity=\"1\" /><path clip-path=\"url(#clip490)\" d=\"M46.0847 682.185 Q46.0847 689.283 47.7079 692.02 Q49.3312 694.757 53.2461 694.757 Q56.3653 694.757 58.2114 692.72 Q60.0256 690.651 60.0256 687.118 Q60.0256 682.249 56.5881 679.32 Q53.1188 676.36 47.3897 676.36 L46.0847 676.36 L46.0847 682.185 M43.6657 670.504 L64.0042 670.504 L64.0042 676.36 L58.5933 676.36 Q61.8398 678.366 63.3994 681.357 Q64.9272 684.349 64.9272 688.678 Q64.9272 694.153 61.8716 697.399 Q58.7843 700.614 53.6281 700.614 Q47.6125 700.614 44.5569 696.603 Q41.5014 692.561 41.5014 684.572 L41.5014 676.36 L40.9285 676.36 Q36.8862 676.36 34.6901 679.034 Q32.4621 681.676 32.4621 686.482 Q32.4621 689.537 33.1941 692.434 Q33.9262 695.33 35.3903 698.004 L29.9795 698.004 Q28.7381 694.789 28.1334 691.765 Q27.4968 688.742 27.4968 685.877 Q27.4968 678.143 31.5072 674.323 Q35.5176 670.504 43.6657 670.504 Z\" fill=\"#000000\" fill-rule=\"nonzero\" fill-opacity=\"1\" /><path clip-path=\"url(#clip490)\" d=\"M33.7671 634.983 L14.479 634.983 L14.479 629.127 L64.0042 629.127 L64.0042 634.983 L58.657 634.983 Q61.8398 636.829 63.3994 639.662 Q64.9272 642.463 64.9272 646.41 Q64.9272 652.871 59.771 656.945 Q54.6147 660.987 46.212 660.987 Q37.8093 660.987 32.6531 656.945 Q27.4968 652.871 27.4968 646.41 Q27.4968 642.463 29.0564 639.662 Q30.5842 636.829 33.7671 634.983 M46.212 654.94 Q52.6732 654.94 56.3653 652.298 Q60.0256 649.624 60.0256 644.977 Q60.0256 640.33 56.3653 637.657 Q52.6732 634.983 46.212 634.983 Q39.7508 634.983 36.0905 637.657 Q32.3984 640.33 32.3984 644.977 Q32.3984 649.624 36.0905 652.298 Q39.7508 654.94 46.212 654.94 Z\" fill=\"#000000\" fill-rule=\"nonzero\" fill-opacity=\"1\" /><path clip-path=\"url(#clip490)\" d=\"M1138.75 50.8226 Q1138.75 56.6154 1141.63 59.9372 Q1144.5 63.2184 1149.53 63.2184 Q1154.51 63.2184 1157.34 59.8967 Q1160.22 56.5749 1160.22 50.8226 Q1160.22 45.1514 1157.3 41.8296 Q1154.39 38.4674 1149.45 38.4674 Q1144.54 38.4674 1141.63 41.7891 Q1138.75 45.1109 1138.75 50.8226 M1160.83 62.9348 Q1158.4 66.054 1155.24 67.5529 Q1152.12 69.0112 1147.95 69.0112 Q1140.98 69.0112 1136.6 63.9881 Q1132.27 58.9245 1132.27 50.8226 Q1132.27 42.7208 1136.64 37.6572 Q1141.02 32.5936 1147.95 32.5936 Q1152.12 32.5936 1155.28 34.1329 Q1158.44 35.6318 1160.83 38.7104 L1160.83 33.4038 L1166.62 33.4038 L1166.62 63.2184 Q1172.54 62.3272 1175.86 57.8307 Q1179.22 53.2937 1179.22 46.1236 Q1179.22 41.7891 1177.92 37.9813 Q1176.67 34.1734 1174.07 30.9327 Q1169.86 25.626 1163.79 22.8309 Q1157.75 19.9953 1150.62 19.9953 Q1145.64 19.9953 1141.06 21.3321 Q1136.48 22.6284 1132.59 25.2209 Q1126.23 29.3529 1122.63 36.0774 Q1119.06 42.7613 1119.06 50.5796 Q1119.06 57.0205 1121.37 62.6513 Q1123.72 68.282 1128.14 72.576 Q1132.39 76.7889 1137.98 78.9764 Q1143.57 81.2044 1149.93 81.2044 Q1155.16 81.2044 1160.18 79.422 Q1165.24 77.6801 1169.46 74.3989 L1173.1 78.8954 Q1168.04 82.8248 1162.04 84.8907 Q1156.09 86.9972 1149.93 86.9972 Q1142.44 86.9972 1135.79 84.3236 Q1129.15 81.6905 1123.97 76.6269 Q1118.78 71.5633 1116.07 64.9198 Q1113.35 58.2358 1113.35 50.5796 Q1113.35 43.2069 1116.11 36.523 Q1118.86 29.839 1123.97 24.7753 Q1129.19 19.6307 1136.04 16.9166 Q1142.88 14.162 1150.54 14.162 Q1159.13 14.162 1166.46 17.6862 Q1173.83 21.2105 1178.81 27.692 Q1181.85 31.6619 1183.43 36.3204 Q1185.05 40.9789 1185.05 45.9616 Q1185.05 56.6154 1178.61 62.7728 Q1172.17 68.9302 1160.83 69.1732 L1160.83 62.9348 Z\" fill=\"#000000\" fill-rule=\"nonzero\" fill-opacity=\"1\" /><path clip-path=\"url(#clip490)\" d=\"M1206.04 14.324 L1206.04 27.2059 L1221.39 27.2059 L1221.39 32.9987 L1206.04 32.9987 L1206.04 57.6282 Q1206.04 63.1779 1207.54 64.7578 Q1209.07 66.3376 1213.73 66.3376 L1221.39 66.3376 L1221.39 72.576 L1213.73 72.576 Q1205.1 72.576 1201.82 69.3758 Q1198.54 66.1351 1198.54 57.6282 L1198.54 32.9987 L1193.07 32.9987 L1193.07 27.2059 L1198.54 27.2059 L1198.54 14.324 L1206.04 14.324 Z\" fill=\"#000000\" fill-rule=\"nonzero\" fill-opacity=\"1\" /><path clip-path=\"url(#clip490)\" d=\"M1268.91 45.1919 L1268.91 72.576 L1261.45 72.576 L1261.45 45.4349 Q1261.45 38.994 1258.94 35.7938 Q1256.43 32.5936 1251.41 32.5936 Q1245.37 32.5936 1241.89 36.4419 Q1238.4 40.2903 1238.4 46.9338 L1238.4 72.576 L1230.91 72.576 L1230.91 9.54393 L1238.4 9.54393 L1238.4 34.2544 Q1241.08 30.163 1244.68 28.1376 Q1248.33 26.1121 1253.07 26.1121 Q1260.89 26.1121 1264.9 30.9732 Q1268.91 35.7938 1268.91 45.1919 Z\" fill=\"#000000\" fill-rule=\"nonzero\" fill-opacity=\"1\" /><path clip-path=\"url(#clip490)\" d=\"M1310.06 34.1734 Q1308.81 33.4443 1307.31 33.1202 Q1305.85 32.7556 1304.07 32.7556 Q1297.75 32.7556 1294.35 36.8875 Q1290.98 40.9789 1290.98 48.6757 L1290.98 72.576 L1283.49 72.576 L1283.49 27.2059 L1290.98 27.2059 L1290.98 34.2544 Q1293.33 30.1225 1297.1 28.1376 Q1300.87 26.1121 1306.26 26.1121 Q1307.03 26.1121 1307.96 26.2337 Q1308.89 26.3147 1310.02 26.5172 L1310.06 34.1734 Z\" fill=\"#000000\" fill-rule=\"nonzero\" fill-opacity=\"1\" /><path clip-path=\"url(#clip490)\" d=\"M1354.87 48.0275 L1354.87 51.6733 L1320.6 51.6733 Q1321.08 59.3701 1325.21 63.421 Q1329.39 67.4314 1336.8 67.4314 Q1341.09 67.4314 1345.1 66.3781 Q1349.16 65.3249 1353.12 63.2184 L1353.12 70.267 Q1349.11 71.9684 1344.9 72.8596 Q1340.69 73.7508 1336.35 73.7508 Q1325.5 73.7508 1319.14 67.4314 Q1312.82 61.1119 1312.82 50.3365 Q1312.82 39.1965 1318.81 32.6746 Q1324.85 26.1121 1335.06 26.1121 Q1344.21 26.1121 1349.52 32.0264 Q1354.87 37.9003 1354.87 48.0275 M1347.41 45.84 Q1347.33 39.7232 1343.97 36.0774 Q1340.65 32.4315 1335.14 32.4315 Q1328.9 32.4315 1325.13 35.9558 Q1321.41 39.4801 1320.84 45.8805 L1347.41 45.84 Z\" fill=\"#000000\" fill-rule=\"nonzero\" fill-opacity=\"1\" /><path clip-path=\"url(#clip490)\" d=\"M1387.72 49.7694 Q1378.69 49.7694 1375.2 51.8354 Q1371.72 53.9013 1371.72 58.8839 Q1371.72 62.8538 1374.31 65.2034 Q1376.94 67.5124 1381.44 67.5124 Q1387.64 67.5124 1391.37 63.1374 Q1395.13 58.7219 1395.13 51.4303 L1395.13 49.7694 L1387.72 49.7694 M1402.59 46.6907 L1402.59 72.576 L1395.13 72.576 L1395.13 65.6895 Q1392.58 69.8214 1388.77 71.8063 Q1384.97 73.7508 1379.46 73.7508 Q1372.49 73.7508 1368.36 69.8619 Q1364.26 65.9325 1364.26 59.3701 Q1364.26 51.7138 1369.37 47.825 Q1374.51 43.9361 1384.68 43.9361 L1395.13 43.9361 L1395.13 43.2069 Q1395.13 38.0623 1391.73 35.2672 Q1388.37 32.4315 1382.25 32.4315 Q1378.36 32.4315 1374.68 33.3632 Q1370.99 34.295 1367.59 36.1584 L1367.59 29.2718 Q1371.68 27.692 1375.53 26.9223 Q1379.37 26.1121 1383.02 26.1121 Q1392.86 26.1121 1397.73 31.2163 Q1402.59 36.3204 1402.59 46.6907 Z\" fill=\"#000000\" fill-rule=\"nonzero\" fill-opacity=\"1\" /><path clip-path=\"url(#clip490)\" d=\"M1447.79 34.0924 L1447.79 9.54393 L1455.25 9.54393 L1455.25 72.576 L1447.79 72.576 L1447.79 65.7705 Q1445.45 69.8214 1441.84 71.8063 Q1438.27 73.7508 1433.25 73.7508 Q1425.03 73.7508 1419.84 67.1883 Q1414.7 60.6258 1414.7 49.9314 Q1414.7 39.2371 1419.84 32.6746 Q1425.03 26.1121 1433.25 26.1121 Q1438.27 26.1121 1441.84 28.0971 Q1445.45 30.0415 1447.79 34.0924 M1422.4 49.9314 Q1422.4 58.1548 1425.76 62.8538 Q1429.16 67.5124 1435.07 67.5124 Q1440.99 67.5124 1444.39 62.8538 Q1447.79 58.1548 1447.79 49.9314 Q1447.79 41.7081 1444.39 37.0496 Q1440.99 32.3505 1435.07 32.3505 Q1429.16 32.3505 1425.76 37.0496 Q1422.4 41.7081 1422.4 49.9314 Z\" fill=\"#000000\" fill-rule=\"nonzero\" fill-opacity=\"1\" /><path clip-path=\"url(#clip490)\" d=\"M1499.52 28.5427 L1499.52 35.5912 Q1496.36 33.9709 1492.96 33.1607 Q1489.56 32.3505 1485.91 32.3505 Q1480.36 32.3505 1477.57 34.0519 Q1474.81 35.7533 1474.81 39.156 Q1474.81 41.7486 1476.8 43.2475 Q1478.78 44.7058 1484.78 46.0426 L1487.33 46.6097 Q1495.27 48.3111 1498.59 51.4303 Q1501.96 54.509 1501.96 60.0587 Q1501.96 66.3781 1496.93 70.0644 Q1491.95 73.7508 1483.2 73.7508 Q1479.55 73.7508 1475.58 73.0216 Q1471.65 72.3329 1467.28 70.9151 L1467.28 63.2184 Q1471.41 65.3654 1475.42 66.4591 Q1479.43 67.5124 1483.36 67.5124 Q1488.63 67.5124 1491.46 65.73 Q1494.3 63.9071 1494.3 60.6258 Q1494.3 57.5877 1492.23 55.9673 Q1490.21 54.3469 1483.28 52.8481 L1480.69 52.2405 Q1473.76 50.7821 1470.68 47.7845 Q1467.6 44.7463 1467.6 39.4801 Q1467.6 33.0797 1472.14 29.5959 Q1476.68 26.1121 1485.02 26.1121 Q1489.15 26.1121 1492.8 26.7198 Q1496.45 27.3274 1499.52 28.5427 Z\" fill=\"#000000\" fill-rule=\"nonzero\" fill-opacity=\"1\" /><path clip-path=\"url(#clip492)\" d=\"M377.516 322.916 L377.516 1423.18 L452.679 1423.18 L452.679 322.916 L377.516 322.916 L377.516 322.916  Z\" fill=\"#009af9\" fill-rule=\"evenodd\" fill-opacity=\"1\"/>\n",
       "<polyline clip-path=\"url(#clip492)\" style=\"stroke:#000000; stroke-linecap:round; stroke-linejoin:round; stroke-width:4; stroke-opacity:1; fill:none\" points=\"377.516,322.916 377.516,1423.18 452.679,1423.18 452.679,322.916 377.516,322.916 \"/>\n",
       "<path clip-path=\"url(#clip492)\" d=\"M471.469 1187.17 L471.469 1423.18 L546.632 1423.18 L546.632 1187.17 L471.469 1187.17 L471.469 1187.17  Z\" fill=\"#009af9\" fill-rule=\"evenodd\" fill-opacity=\"1\"/>\n",
       "<polyline clip-path=\"url(#clip492)\" style=\"stroke:#000000; stroke-linecap:round; stroke-linejoin:round; stroke-width:4; stroke-opacity:1; fill:none\" points=\"471.469,1187.17 471.469,1423.18 546.632,1423.18 546.632,1187.17 471.469,1187.17 \"/>\n",
       "<path clip-path=\"url(#clip492)\" d=\"M565.423 1386.62 L565.423 1423.18 L640.585 1423.18 L640.585 1386.62 L565.423 1386.62 L565.423 1386.62  Z\" fill=\"#009af9\" fill-rule=\"evenodd\" fill-opacity=\"1\"/>\n",
       "<polyline clip-path=\"url(#clip492)\" style=\"stroke:#000000; stroke-linecap:round; stroke-linejoin:round; stroke-width:4; stroke-opacity:1; fill:none\" points=\"565.423,1386.62 565.423,1423.18 640.585,1423.18 640.585,1386.62 565.423,1386.62 \"/>\n",
       "<path clip-path=\"url(#clip492)\" d=\"M659.376 522.359 L659.376 1423.18 L734.539 1423.18 L734.539 522.359 L659.376 522.359 L659.376 522.359  Z\" fill=\"#009af9\" fill-rule=\"evenodd\" fill-opacity=\"1\"/>\n",
       "<polyline clip-path=\"url(#clip492)\" style=\"stroke:#000000; stroke-linecap:round; stroke-linejoin:round; stroke-width:4; stroke-opacity:1; fill:none\" points=\"659.376,522.359 659.376,1423.18 734.539,1423.18 734.539,522.359 659.376,522.359 \"/>\n",
       "<path clip-path=\"url(#clip492)\" d=\"M753.329 987.728 L753.329 1423.18 L828.492 1423.18 L828.492 987.728 L753.329 987.728 L753.329 987.728  Z\" fill=\"#009af9\" fill-rule=\"evenodd\" fill-opacity=\"1\"/>\n",
       "<polyline clip-path=\"url(#clip492)\" style=\"stroke:#000000; stroke-linecap:round; stroke-linejoin:round; stroke-width:4; stroke-opacity:1; fill:none\" points=\"753.329,987.728 753.329,1423.18 828.492,1423.18 828.492,987.728 753.329,987.728 \"/>\n",
       "<path clip-path=\"url(#clip492)\" d=\"M847.283 455.878 L847.283 1423.18 L922.445 1423.18 L922.445 455.878 L847.283 455.878 L847.283 455.878  Z\" fill=\"#009af9\" fill-rule=\"evenodd\" fill-opacity=\"1\"/>\n",
       "<polyline clip-path=\"url(#clip492)\" style=\"stroke:#000000; stroke-linecap:round; stroke-linejoin:round; stroke-width:4; stroke-opacity:1; fill:none\" points=\"847.283,455.878 847.283,1423.18 922.445,1423.18 922.445,455.878 847.283,455.878 \"/>\n",
       "<path clip-path=\"url(#clip492)\" d=\"M941.236 921.247 L941.236 1423.18 L1016.4 1423.18 L1016.4 921.247 L941.236 921.247 L941.236 921.247  Z\" fill=\"#009af9\" fill-rule=\"evenodd\" fill-opacity=\"1\"/>\n",
       "<polyline clip-path=\"url(#clip492)\" style=\"stroke:#000000; stroke-linecap:round; stroke-linejoin:round; stroke-width:4; stroke-opacity:1; fill:none\" points=\"941.236,921.247 941.236,1423.18 1016.4,1423.18 1016.4,921.247 941.236,921.247 \"/>\n",
       "<path clip-path=\"url(#clip492)\" d=\"M1035.19 256.435 L1035.19 1423.18 L1110.35 1423.18 L1110.35 256.435 L1035.19 256.435 L1035.19 256.435  Z\" fill=\"#009af9\" fill-rule=\"evenodd\" fill-opacity=\"1\"/>\n",
       "<polyline clip-path=\"url(#clip492)\" style=\"stroke:#000000; stroke-linecap:round; stroke-linejoin:round; stroke-width:4; stroke-opacity:1; fill:none\" points=\"1035.19,256.435 1035.19,1423.18 1110.35,1423.18 1110.35,256.435 1035.19,256.435 \"/>\n",
       "<path clip-path=\"url(#clip492)\" d=\"M1129.14 123.472 L1129.14 1423.18 L1204.3 1423.18 L1204.3 123.472 L1129.14 123.472 L1129.14 123.472  Z\" fill=\"#009af9\" fill-rule=\"evenodd\" fill-opacity=\"1\"/>\n",
       "<polyline clip-path=\"url(#clip492)\" style=\"stroke:#000000; stroke-linecap:round; stroke-linejoin:round; stroke-width:4; stroke-opacity:1; fill:none\" points=\"1129.14,123.472 1129.14,1423.18 1204.3,1423.18 1204.3,123.472 1129.14,123.472 \"/>\n",
       "<path clip-path=\"url(#clip492)\" d=\"M1223.1 389.397 L1223.1 1423.18 L1298.26 1423.18 L1298.26 389.397 L1223.1 389.397 L1223.1 389.397  Z\" fill=\"#009af9\" fill-rule=\"evenodd\" fill-opacity=\"1\"/>\n",
       "<polyline clip-path=\"url(#clip492)\" style=\"stroke:#000000; stroke-linecap:round; stroke-linejoin:round; stroke-width:4; stroke-opacity:1; fill:none\" points=\"1223.1,389.397 1223.1,1423.18 1298.26,1423.18 1298.26,389.397 1223.1,389.397 \"/>\n",
       "<path clip-path=\"url(#clip492)\" d=\"M1317.05 189.953 L1317.05 1423.18 L1392.21 1423.18 L1392.21 189.953 L1317.05 189.953 L1317.05 189.953  Z\" fill=\"#009af9\" fill-rule=\"evenodd\" fill-opacity=\"1\"/>\n",
       "<polyline clip-path=\"url(#clip492)\" style=\"stroke:#000000; stroke-linecap:round; stroke-linejoin:round; stroke-width:4; stroke-opacity:1; fill:none\" points=\"1317.05,189.953 1317.05,1423.18 1392.21,1423.18 1392.21,189.953 1317.05,189.953 \"/>\n",
       "<path clip-path=\"url(#clip492)\" d=\"M1411 1120.69 L1411 1423.18 L1486.16 1423.18 L1486.16 1120.69 L1411 1120.69 L1411 1120.69  Z\" fill=\"#009af9\" fill-rule=\"evenodd\" fill-opacity=\"1\"/>\n",
       "<polyline clip-path=\"url(#clip492)\" style=\"stroke:#000000; stroke-linecap:round; stroke-linejoin:round; stroke-width:4; stroke-opacity:1; fill:none\" points=\"1411,1120.69 1411,1423.18 1486.16,1423.18 1486.16,1120.69 1411,1120.69 \"/>\n",
       "<path clip-path=\"url(#clip492)\" d=\"M1504.96 854.765 L1504.96 1423.18 L1580.12 1423.18 L1580.12 854.765 L1504.96 854.765 L1504.96 854.765  Z\" fill=\"#009af9\" fill-rule=\"evenodd\" fill-opacity=\"1\"/>\n",
       "<polyline clip-path=\"url(#clip492)\" style=\"stroke:#000000; stroke-linecap:round; stroke-linejoin:round; stroke-width:4; stroke-opacity:1; fill:none\" points=\"1504.96,854.765 1504.96,1423.18 1580.12,1423.18 1580.12,854.765 1504.96,854.765 \"/>\n",
       "<path clip-path=\"url(#clip492)\" d=\"M1598.91 1054.21 L1598.91 1423.18 L1674.07 1423.18 L1674.07 1054.21 L1598.91 1054.21 L1598.91 1054.21  Z\" fill=\"#009af9\" fill-rule=\"evenodd\" fill-opacity=\"1\"/>\n",
       "<polyline clip-path=\"url(#clip492)\" style=\"stroke:#000000; stroke-linecap:round; stroke-linejoin:round; stroke-width:4; stroke-opacity:1; fill:none\" points=\"1598.91,1054.21 1598.91,1423.18 1674.07,1423.18 1674.07,1054.21 1598.91,1054.21 \"/>\n",
       "<path clip-path=\"url(#clip492)\" d=\"M1692.86 588.841 L1692.86 1423.18 L1768.02 1423.18 L1768.02 588.841 L1692.86 588.841 L1692.86 588.841  Z\" fill=\"#009af9\" fill-rule=\"evenodd\" fill-opacity=\"1\"/>\n",
       "<polyline clip-path=\"url(#clip492)\" style=\"stroke:#000000; stroke-linecap:round; stroke-linejoin:round; stroke-width:4; stroke-opacity:1; fill:none\" points=\"1692.86,588.841 1692.86,1423.18 1768.02,1423.18 1768.02,588.841 1692.86,588.841 \"/>\n",
       "<path clip-path=\"url(#clip492)\" d=\"M1786.82 1320.13 L1786.82 1423.18 L1861.98 1423.18 L1861.98 1320.13 L1786.82 1320.13 L1786.82 1320.13  Z\" fill=\"#009af9\" fill-rule=\"evenodd\" fill-opacity=\"1\"/>\n",
       "<polyline clip-path=\"url(#clip492)\" style=\"stroke:#000000; stroke-linecap:round; stroke-linejoin:round; stroke-width:4; stroke-opacity:1; fill:none\" points=\"1786.82,1320.13 1786.82,1423.18 1861.98,1423.18 1861.98,1320.13 1786.82,1320.13 \"/>\n",
       "<path clip-path=\"url(#clip492)\" d=\"M1880.77 655.322 L1880.77 1423.18 L1955.93 1423.18 L1955.93 655.322 L1880.77 655.322 L1880.77 655.322  Z\" fill=\"#009af9\" fill-rule=\"evenodd\" fill-opacity=\"1\"/>\n",
       "<polyline clip-path=\"url(#clip492)\" style=\"stroke:#000000; stroke-linecap:round; stroke-linejoin:round; stroke-width:4; stroke-opacity:1; fill:none\" points=\"1880.77,655.322 1880.77,1423.18 1955.93,1423.18 1955.93,655.322 1880.77,655.322 \"/>\n",
       "<path clip-path=\"url(#clip492)\" d=\"M1974.72 721.803 L1974.72 1423.18 L2049.88 1423.18 L2049.88 721.803 L1974.72 721.803 L1974.72 721.803  Z\" fill=\"#009af9\" fill-rule=\"evenodd\" fill-opacity=\"1\"/>\n",
       "<polyline clip-path=\"url(#clip492)\" style=\"stroke:#000000; stroke-linecap:round; stroke-linejoin:round; stroke-width:4; stroke-opacity:1; fill:none\" points=\"1974.72,721.803 1974.72,1423.18 2049.88,1423.18 2049.88,721.803 1974.72,721.803 \"/>\n",
       "<path clip-path=\"url(#clip492)\" d=\"M2068.68 1253.65 L2068.68 1423.18 L2143.84 1423.18 L2143.84 1253.65 L2068.68 1253.65 L2068.68 1253.65  Z\" fill=\"#009af9\" fill-rule=\"evenodd\" fill-opacity=\"1\"/>\n",
       "<polyline clip-path=\"url(#clip492)\" style=\"stroke:#000000; stroke-linecap:round; stroke-linejoin:round; stroke-width:4; stroke-opacity:1; fill:none\" points=\"2068.68,1253.65 2068.68,1423.18 2143.84,1423.18 2143.84,1253.65 2068.68,1253.65 \"/>\n",
       "<path clip-path=\"url(#clip492)\" d=\"M2162.63 788.284 L2162.63 1423.18 L2237.79 1423.18 L2237.79 788.284 L2162.63 788.284 L2162.63 788.284  Z\" fill=\"#009af9\" fill-rule=\"evenodd\" fill-opacity=\"1\"/>\n",
       "<polyline clip-path=\"url(#clip492)\" style=\"stroke:#000000; stroke-linecap:round; stroke-linejoin:round; stroke-width:4; stroke-opacity:1; fill:none\" points=\"2162.63,788.284 2162.63,1423.18 2237.79,1423.18 2237.79,788.284 2162.63,788.284 \"/>\n",
       "<circle clip-path=\"url(#clip492)\" style=\"fill:#009af9; stroke:none; fill-opacity:0\" cx=\"415.098\" cy=\"322.916\" r=\"2\"/>\n",
       "<circle clip-path=\"url(#clip492)\" style=\"fill:#009af9; stroke:none; fill-opacity:0\" cx=\"509.051\" cy=\"1187.17\" r=\"2\"/>\n",
       "<circle clip-path=\"url(#clip492)\" style=\"fill:#009af9; stroke:none; fill-opacity:0\" cx=\"603.004\" cy=\"1386.62\" r=\"2\"/>\n",
       "<circle clip-path=\"url(#clip492)\" style=\"fill:#009af9; stroke:none; fill-opacity:0\" cx=\"696.957\" cy=\"522.359\" r=\"2\"/>\n",
       "<circle clip-path=\"url(#clip492)\" style=\"fill:#009af9; stroke:none; fill-opacity:0\" cx=\"790.911\" cy=\"987.728\" r=\"2\"/>\n",
       "<circle clip-path=\"url(#clip492)\" style=\"fill:#009af9; stroke:none; fill-opacity:0\" cx=\"884.864\" cy=\"455.878\" r=\"2\"/>\n",
       "<circle clip-path=\"url(#clip492)\" style=\"fill:#009af9; stroke:none; fill-opacity:0\" cx=\"978.817\" cy=\"921.247\" r=\"2\"/>\n",
       "<circle clip-path=\"url(#clip492)\" style=\"fill:#009af9; stroke:none; fill-opacity:0\" cx=\"1072.77\" cy=\"256.435\" r=\"2\"/>\n",
       "<circle clip-path=\"url(#clip492)\" style=\"fill:#009af9; stroke:none; fill-opacity:0\" cx=\"1166.72\" cy=\"123.472\" r=\"2\"/>\n",
       "<circle clip-path=\"url(#clip492)\" style=\"fill:#009af9; stroke:none; fill-opacity:0\" cx=\"1260.68\" cy=\"389.397\" r=\"2\"/>\n",
       "<circle clip-path=\"url(#clip492)\" style=\"fill:#009af9; stroke:none; fill-opacity:0\" cx=\"1354.63\" cy=\"189.953\" r=\"2\"/>\n",
       "<circle clip-path=\"url(#clip492)\" style=\"fill:#009af9; stroke:none; fill-opacity:0\" cx=\"1448.58\" cy=\"1120.69\" r=\"2\"/>\n",
       "<circle clip-path=\"url(#clip492)\" style=\"fill:#009af9; stroke:none; fill-opacity:0\" cx=\"1542.54\" cy=\"854.765\" r=\"2\"/>\n",
       "<circle clip-path=\"url(#clip492)\" style=\"fill:#009af9; stroke:none; fill-opacity:0\" cx=\"1636.49\" cy=\"1054.21\" r=\"2\"/>\n",
       "<circle clip-path=\"url(#clip492)\" style=\"fill:#009af9; stroke:none; fill-opacity:0\" cx=\"1730.44\" cy=\"588.841\" r=\"2\"/>\n",
       "<circle clip-path=\"url(#clip492)\" style=\"fill:#009af9; stroke:none; fill-opacity:0\" cx=\"1824.4\" cy=\"1320.13\" r=\"2\"/>\n",
       "<circle clip-path=\"url(#clip492)\" style=\"fill:#009af9; stroke:none; fill-opacity:0\" cx=\"1918.35\" cy=\"655.322\" r=\"2\"/>\n",
       "<circle clip-path=\"url(#clip492)\" style=\"fill:#009af9; stroke:none; fill-opacity:0\" cx=\"2012.3\" cy=\"721.803\" r=\"2\"/>\n",
       "<circle clip-path=\"url(#clip492)\" style=\"fill:#009af9; stroke:none; fill-opacity:0\" cx=\"2106.26\" cy=\"1253.65\" r=\"2\"/>\n",
       "<circle clip-path=\"url(#clip492)\" style=\"fill:#009af9; stroke:none; fill-opacity:0\" cx=\"2200.21\" cy=\"788.284\" r=\"2\"/>\n",
       "</svg>\n"
      ],
      "text/html": [
       "<?xml version=\"1.0\" encoding=\"utf-8\"?>\n",
       "<svg xmlns=\"http://www.w3.org/2000/svg\" xmlns:xlink=\"http://www.w3.org/1999/xlink\" width=\"600\" height=\"400\" viewBox=\"0 0 2400 1600\">\n",
       "<defs>\n",
       "  <clipPath id=\"clip540\">\n",
       "    <rect x=\"0\" y=\"0\" width=\"2400\" height=\"1600\"/>\n",
       "  </clipPath>\n",
       "</defs>\n",
       "<path clip-path=\"url(#clip540)\" d=\"M0 1600 L2400 1600 L2400 0 L0 0  Z\" fill=\"#ffffff\" fill-rule=\"evenodd\" fill-opacity=\"1\"/>\n",
       "<defs>\n",
       "  <clipPath id=\"clip541\">\n",
       "    <rect x=\"480\" y=\"0\" width=\"1681\" height=\"1600\"/>\n",
       "  </clipPath>\n",
       "</defs>\n",
       "<path clip-path=\"url(#clip540)\" d=\"M262.551 1423.18 L2352.76 1423.18 L2352.76 123.472 L262.551 123.472  Z\" fill=\"#ffffff\" fill-rule=\"evenodd\" fill-opacity=\"1\"/>\n",
       "<defs>\n",
       "  <clipPath id=\"clip542\">\n",
       "    <rect x=\"262\" y=\"123\" width=\"2091\" height=\"1301\"/>\n",
       "  </clipPath>\n",
       "</defs>\n",
       "<polyline clip-path=\"url(#clip542)\" style=\"stroke:#000000; stroke-linecap:round; stroke-linejoin:round; stroke-width:2; stroke-opacity:0.1; fill:none\" points=\"321.144,1423.18 321.144,123.472 \"/>\n",
       "<polyline clip-path=\"url(#clip542)\" style=\"stroke:#000000; stroke-linecap:round; stroke-linejoin:round; stroke-width:2; stroke-opacity:0.1; fill:none\" points=\"790.911,1423.18 790.911,123.472 \"/>\n",
       "<polyline clip-path=\"url(#clip542)\" style=\"stroke:#000000; stroke-linecap:round; stroke-linejoin:round; stroke-width:2; stroke-opacity:0.1; fill:none\" points=\"1260.68,1423.18 1260.68,123.472 \"/>\n",
       "<polyline clip-path=\"url(#clip542)\" style=\"stroke:#000000; stroke-linecap:round; stroke-linejoin:round; stroke-width:2; stroke-opacity:0.1; fill:none\" points=\"1730.44,1423.18 1730.44,123.472 \"/>\n",
       "<polyline clip-path=\"url(#clip542)\" style=\"stroke:#000000; stroke-linecap:round; stroke-linejoin:round; stroke-width:2; stroke-opacity:0.1; fill:none\" points=\"2200.21,1423.18 2200.21,123.472 \"/>\n",
       "<polyline clip-path=\"url(#clip540)\" style=\"stroke:#000000; stroke-linecap:round; stroke-linejoin:round; stroke-width:4; stroke-opacity:1; fill:none\" points=\"262.551,1423.18 2352.76,1423.18 \"/>\n",
       "<polyline clip-path=\"url(#clip540)\" style=\"stroke:#000000; stroke-linecap:round; stroke-linejoin:round; stroke-width:4; stroke-opacity:1; fill:none\" points=\"321.144,1423.18 321.144,1404.28 \"/>\n",
       "<polyline clip-path=\"url(#clip540)\" style=\"stroke:#000000; stroke-linecap:round; stroke-linejoin:round; stroke-width:4; stroke-opacity:1; fill:none\" points=\"790.911,1423.18 790.911,1404.28 \"/>\n",
       "<polyline clip-path=\"url(#clip540)\" style=\"stroke:#000000; stroke-linecap:round; stroke-linejoin:round; stroke-width:4; stroke-opacity:1; fill:none\" points=\"1260.68,1423.18 1260.68,1404.28 \"/>\n",
       "<polyline clip-path=\"url(#clip540)\" style=\"stroke:#000000; stroke-linecap:round; stroke-linejoin:round; stroke-width:4; stroke-opacity:1; fill:none\" points=\"1730.44,1423.18 1730.44,1404.28 \"/>\n",
       "<polyline clip-path=\"url(#clip540)\" style=\"stroke:#000000; stroke-linecap:round; stroke-linejoin:round; stroke-width:4; stroke-opacity:1; fill:none\" points=\"2200.21,1423.18 2200.21,1404.28 \"/>\n",
       "<path clip-path=\"url(#clip540)\" d=\"M321.144 1454.1 Q317.533 1454.1 315.704 1457.66 Q313.899 1461.2 313.899 1468.33 Q313.899 1475.44 315.704 1479.01 Q317.533 1482.55 321.144 1482.55 Q324.778 1482.55 326.584 1479.01 Q328.413 1475.44 328.413 1468.33 Q328.413 1461.2 326.584 1457.66 Q324.778 1454.1 321.144 1454.1 M321.144 1450.39 Q326.954 1450.39 330.01 1455 Q333.089 1459.58 333.089 1468.33 Q333.089 1477.06 330.01 1481.67 Q326.954 1486.25 321.144 1486.25 Q315.334 1486.25 312.255 1481.67 Q309.2 1477.06 309.2 1468.33 Q309.2 1459.58 312.255 1455 Q315.334 1450.39 321.144 1450.39 Z\" fill=\"#000000\" fill-rule=\"nonzero\" fill-opacity=\"1\" /><path clip-path=\"url(#clip540)\" d=\"M781.188 1451.02 L799.545 1451.02 L799.545 1454.96 L785.471 1454.96 L785.471 1463.43 Q786.489 1463.08 787.508 1462.92 Q788.526 1462.73 789.545 1462.73 Q795.332 1462.73 798.711 1465.9 Q802.091 1469.08 802.091 1474.49 Q802.091 1480.07 798.619 1483.17 Q795.147 1486.25 788.827 1486.25 Q786.651 1486.25 784.383 1485.88 Q782.137 1485.51 779.73 1484.77 L779.73 1480.07 Q781.813 1481.2 784.036 1481.76 Q786.258 1482.32 788.735 1482.32 Q792.739 1482.32 795.077 1480.21 Q797.415 1478.1 797.415 1474.49 Q797.415 1470.88 795.077 1468.77 Q792.739 1466.67 788.735 1466.67 Q786.86 1466.67 784.985 1467.08 Q783.133 1467.5 781.188 1468.38 L781.188 1451.02 Z\" fill=\"#000000\" fill-rule=\"nonzero\" fill-opacity=\"1\" /><path clip-path=\"url(#clip540)\" d=\"M1235.36 1481.64 L1243 1481.64 L1243 1455.28 L1234.69 1456.95 L1234.69 1452.69 L1242.96 1451.02 L1247.63 1451.02 L1247.63 1481.64 L1255.27 1481.64 L1255.27 1485.58 L1235.36 1485.58 L1235.36 1481.64 Z\" fill=\"#000000\" fill-rule=\"nonzero\" fill-opacity=\"1\" /><path clip-path=\"url(#clip540)\" d=\"M1274.72 1454.1 Q1271.11 1454.1 1269.28 1457.66 Q1267.47 1461.2 1267.47 1468.33 Q1267.47 1475.44 1269.28 1479.01 Q1271.11 1482.55 1274.72 1482.55 Q1278.35 1482.55 1280.16 1479.01 Q1281.98 1475.44 1281.98 1468.33 Q1281.98 1461.2 1280.16 1457.66 Q1278.35 1454.1 1274.72 1454.1 M1274.72 1450.39 Q1280.53 1450.39 1283.58 1455 Q1286.66 1459.58 1286.66 1468.33 Q1286.66 1477.06 1283.58 1481.67 Q1280.53 1486.25 1274.72 1486.25 Q1268.91 1486.25 1265.83 1481.67 Q1262.77 1477.06 1262.77 1468.33 Q1262.77 1459.58 1265.83 1455 Q1268.91 1450.39 1274.72 1450.39 Z\" fill=\"#000000\" fill-rule=\"nonzero\" fill-opacity=\"1\" /><path clip-path=\"url(#clip540)\" d=\"M1705.63 1481.64 L1713.27 1481.64 L1713.27 1455.28 L1704.96 1456.95 L1704.96 1452.69 L1713.22 1451.02 L1717.9 1451.02 L1717.9 1481.64 L1725.54 1481.64 L1725.54 1485.58 L1705.63 1485.58 L1705.63 1481.64 Z\" fill=\"#000000\" fill-rule=\"nonzero\" fill-opacity=\"1\" /><path clip-path=\"url(#clip540)\" d=\"M1735.03 1451.02 L1753.38 1451.02 L1753.38 1454.96 L1739.31 1454.96 L1739.31 1463.43 Q1740.33 1463.08 1741.35 1462.92 Q1742.36 1462.73 1743.38 1462.73 Q1749.17 1462.73 1752.55 1465.9 Q1755.93 1469.08 1755.93 1474.49 Q1755.93 1480.07 1752.46 1483.17 Q1748.98 1486.25 1742.67 1486.25 Q1740.49 1486.25 1738.22 1485.88 Q1735.98 1485.51 1733.57 1484.77 L1733.57 1480.07 Q1735.65 1481.2 1737.87 1481.76 Q1740.1 1482.32 1742.57 1482.32 Q1746.58 1482.32 1748.92 1480.21 Q1751.25 1478.1 1751.25 1474.49 Q1751.25 1470.88 1748.92 1468.77 Q1746.58 1466.67 1742.57 1466.67 Q1740.7 1466.67 1738.82 1467.08 Q1736.97 1467.5 1735.03 1468.38 L1735.03 1451.02 Z\" fill=\"#000000\" fill-rule=\"nonzero\" fill-opacity=\"1\" /><path clip-path=\"url(#clip540)\" d=\"M2178.98 1481.64 L2195.3 1481.64 L2195.3 1485.58 L2173.36 1485.58 L2173.36 1481.64 Q2176.02 1478.89 2180.6 1474.26 Q2185.21 1469.61 2186.39 1468.27 Q2188.64 1465.74 2189.52 1464.01 Q2190.42 1462.25 2190.42 1460.56 Q2190.42 1457.8 2188.47 1456.07 Q2186.55 1454.33 2183.45 1454.33 Q2181.25 1454.33 2178.8 1455.09 Q2176.37 1455.86 2173.59 1457.41 L2173.59 1452.69 Q2176.41 1451.55 2178.87 1450.97 Q2181.32 1450.39 2183.36 1450.39 Q2188.73 1450.39 2191.92 1453.08 Q2195.12 1455.77 2195.12 1460.26 Q2195.12 1462.39 2194.31 1464.31 Q2193.52 1466.2 2191.41 1468.8 Q2190.83 1469.47 2187.73 1472.69 Q2184.63 1475.88 2178.98 1481.64 Z\" fill=\"#000000\" fill-rule=\"nonzero\" fill-opacity=\"1\" /><path clip-path=\"url(#clip540)\" d=\"M2215.12 1454.1 Q2211.51 1454.1 2209.68 1457.66 Q2207.87 1461.2 2207.87 1468.33 Q2207.87 1475.44 2209.68 1479.01 Q2211.51 1482.55 2215.12 1482.55 Q2218.75 1482.55 2220.56 1479.01 Q2222.39 1475.44 2222.39 1468.33 Q2222.39 1461.2 2220.56 1457.66 Q2218.75 1454.1 2215.12 1454.1 M2215.12 1450.39 Q2220.93 1450.39 2223.98 1455 Q2227.06 1459.58 2227.06 1468.33 Q2227.06 1477.06 2223.98 1481.67 Q2220.93 1486.25 2215.12 1486.25 Q2209.31 1486.25 2206.23 1481.67 Q2203.17 1477.06 2203.17 1468.33 Q2203.17 1459.58 2206.23 1455 Q2209.31 1450.39 2215.12 1450.39 Z\" fill=\"#000000\" fill-rule=\"nonzero\" fill-opacity=\"1\" /><path clip-path=\"url(#clip540)\" d=\"M1185.1 1522.27 L1185.1 1532.4 L1197.16 1532.4 L1197.16 1536.95 L1185.1 1536.95 L1185.1 1556.3 Q1185.1 1560.66 1186.28 1561.9 Q1187.48 1563.14 1191.15 1563.14 L1197.16 1563.14 L1197.16 1568.04 L1191.15 1568.04 Q1184.37 1568.04 1181.79 1565.53 Q1179.21 1562.98 1179.21 1556.3 L1179.21 1536.95 L1174.91 1536.95 L1174.91 1532.4 L1179.21 1532.4 L1179.21 1522.27 L1185.1 1522.27 Z\" fill=\"#000000\" fill-rule=\"nonzero\" fill-opacity=\"1\" /><path clip-path=\"url(#clip540)\" d=\"M1234.5 1546.53 L1234.5 1568.04 L1228.64 1568.04 L1228.64 1546.72 Q1228.64 1541.66 1226.67 1539.14 Q1224.69 1536.63 1220.75 1536.63 Q1216 1536.63 1213.27 1539.65 Q1210.53 1542.68 1210.53 1547.9 L1210.53 1568.04 L1204.64 1568.04 L1204.64 1518.52 L1210.53 1518.52 L1210.53 1537.93 Q1212.63 1534.72 1215.46 1533.13 Q1218.33 1531.54 1222.05 1531.54 Q1228.19 1531.54 1231.34 1535.36 Q1234.5 1539.14 1234.5 1546.53 Z\" fill=\"#000000\" fill-rule=\"nonzero\" fill-opacity=\"1\" /><path clip-path=\"url(#clip540)\" d=\"M1266.83 1537.87 Q1265.85 1537.3 1264.67 1537.04 Q1263.52 1536.76 1262.12 1536.76 Q1257.16 1536.76 1254.48 1540 Q1251.84 1543.22 1251.84 1549.27 L1251.84 1568.04 L1245.95 1568.04 L1245.95 1532.4 L1251.84 1532.4 L1251.84 1537.93 Q1253.69 1534.69 1256.65 1533.13 Q1259.61 1531.54 1263.84 1531.54 Q1264.45 1531.54 1265.18 1531.63 Q1265.91 1531.7 1266.8 1531.85 L1266.83 1537.87 Z\" fill=\"#000000\" fill-rule=\"nonzero\" fill-opacity=\"1\" /><path clip-path=\"url(#clip540)\" d=\"M1302.04 1548.76 L1302.04 1551.62 L1275.11 1551.62 Q1275.49 1557.67 1278.74 1560.85 Q1282.02 1564 1287.84 1564 Q1291.21 1564 1294.37 1563.17 Q1297.55 1562.35 1300.67 1560.69 L1300.67 1566.23 Q1297.52 1567.57 1294.21 1568.27 Q1290.9 1568.97 1287.49 1568.97 Q1278.96 1568.97 1273.96 1564 Q1269 1559.04 1269 1550.57 Q1269 1541.82 1273.71 1536.69 Q1278.45 1531.54 1286.47 1531.54 Q1293.66 1531.54 1297.83 1536.18 Q1302.04 1540.8 1302.04 1548.76 M1296.18 1547.04 Q1296.12 1542.23 1293.47 1539.37 Q1290.86 1536.5 1286.54 1536.5 Q1281.63 1536.5 1278.67 1539.27 Q1275.75 1542.04 1275.3 1547.07 L1296.18 1547.04 Z\" fill=\"#000000\" fill-rule=\"nonzero\" fill-opacity=\"1\" /><path clip-path=\"url(#clip540)\" d=\"M1327.85 1550.12 Q1320.75 1550.12 1318.01 1551.75 Q1315.28 1553.37 1315.28 1557.29 Q1315.28 1560.4 1317.31 1562.25 Q1319.38 1564.07 1322.92 1564.07 Q1327.79 1564.07 1330.71 1560.63 Q1333.67 1557.16 1333.67 1551.43 L1333.67 1550.12 L1327.85 1550.12 M1339.53 1547.71 L1339.53 1568.04 L1333.67 1568.04 L1333.67 1562.63 Q1331.67 1565.88 1328.68 1567.44 Q1325.68 1568.97 1321.36 1568.97 Q1315.88 1568.97 1312.63 1565.91 Q1309.42 1562.82 1309.42 1557.67 Q1309.42 1551.65 1313.43 1548.6 Q1317.47 1545.54 1325.46 1545.54 L1333.67 1545.54 L1333.67 1544.97 Q1333.67 1540.93 1331 1538.73 Q1328.36 1536.5 1323.55 1536.5 Q1320.5 1536.5 1317.6 1537.23 Q1314.7 1537.97 1312.03 1539.43 L1312.03 1534.02 Q1315.24 1532.78 1318.27 1532.17 Q1321.29 1531.54 1324.16 1531.54 Q1331.89 1531.54 1335.71 1535.55 Q1339.53 1539.56 1339.53 1547.71 Z\" fill=\"#000000\" fill-rule=\"nonzero\" fill-opacity=\"1\" /><path clip-path=\"url(#clip540)\" d=\"M1375.05 1537.81 L1375.05 1518.52 L1380.91 1518.52 L1380.91 1568.04 L1375.05 1568.04 L1375.05 1562.7 Q1373.2 1565.88 1370.37 1567.44 Q1367.57 1568.97 1363.62 1568.97 Q1357.16 1568.97 1353.09 1563.81 Q1349.05 1558.65 1349.05 1550.25 Q1349.05 1541.85 1353.09 1536.69 Q1357.16 1531.54 1363.62 1531.54 Q1367.57 1531.54 1370.37 1533.1 Q1373.2 1534.62 1375.05 1537.81 M1355.09 1550.25 Q1355.09 1556.71 1357.74 1560.4 Q1360.41 1564.07 1365.06 1564.07 Q1369.7 1564.07 1372.38 1560.4 Q1375.05 1556.71 1375.05 1550.25 Q1375.05 1543.79 1372.38 1540.13 Q1369.7 1536.44 1365.06 1536.44 Q1360.41 1536.44 1357.74 1540.13 Q1355.09 1543.79 1355.09 1550.25 Z\" fill=\"#000000\" fill-rule=\"nonzero\" fill-opacity=\"1\" /><path clip-path=\"url(#clip540)\" d=\"M1392.97 1532.4 L1398.83 1532.4 L1398.83 1568.04 L1392.97 1568.04 L1392.97 1532.4 M1392.97 1518.52 L1398.83 1518.52 L1398.83 1525.93 L1392.97 1525.93 L1392.97 1518.52 Z\" fill=\"#000000\" fill-rule=\"nonzero\" fill-opacity=\"1\" /><path clip-path=\"url(#clip540)\" d=\"M1434.54 1537.81 L1434.54 1518.52 L1440.39 1518.52 L1440.39 1568.04 L1434.54 1568.04 L1434.54 1562.7 Q1432.69 1565.88 1429.86 1567.44 Q1427.06 1568.97 1423.11 1568.97 Q1416.65 1568.97 1412.58 1563.81 Q1408.53 1558.65 1408.53 1550.25 Q1408.53 1541.85 1412.58 1536.69 Q1416.65 1531.54 1423.11 1531.54 Q1427.06 1531.54 1429.86 1533.1 Q1432.69 1534.62 1434.54 1537.81 M1414.58 1550.25 Q1414.58 1556.71 1417.22 1560.4 Q1419.9 1564.07 1424.54 1564.07 Q1429.19 1564.07 1431.86 1560.4 Q1434.54 1556.71 1434.54 1550.25 Q1434.54 1543.79 1431.86 1540.13 Q1429.19 1536.44 1424.54 1536.44 Q1419.9 1536.44 1417.22 1540.13 Q1414.58 1543.79 1414.58 1550.25 Z\" fill=\"#000000\" fill-rule=\"nonzero\" fill-opacity=\"1\" /><polyline clip-path=\"url(#clip542)\" style=\"stroke:#000000; stroke-linecap:round; stroke-linejoin:round; stroke-width:2; stroke-opacity:0.1; fill:none\" points=\"262.551,1423.18 2352.76,1423.18 \"/>\n",
       "<polyline clip-path=\"url(#clip542)\" style=\"stroke:#000000; stroke-linecap:round; stroke-linejoin:round; stroke-width:2; stroke-opacity:0.1; fill:none\" points=\"262.551,1090.77 2352.76,1090.77 \"/>\n",
       "<polyline clip-path=\"url(#clip542)\" style=\"stroke:#000000; stroke-linecap:round; stroke-linejoin:round; stroke-width:2; stroke-opacity:0.1; fill:none\" points=\"262.551,758.368 2352.76,758.368 \"/>\n",
       "<polyline clip-path=\"url(#clip542)\" style=\"stroke:#000000; stroke-linecap:round; stroke-linejoin:round; stroke-width:2; stroke-opacity:0.1; fill:none\" points=\"262.551,425.962 2352.76,425.962 \"/>\n",
       "<polyline clip-path=\"url(#clip540)\" style=\"stroke:#000000; stroke-linecap:round; stroke-linejoin:round; stroke-width:4; stroke-opacity:1; fill:none\" points=\"262.551,1423.18 262.551,123.472 \"/>\n",
       "<polyline clip-path=\"url(#clip540)\" style=\"stroke:#000000; stroke-linecap:round; stroke-linejoin:round; stroke-width:4; stroke-opacity:1; fill:none\" points=\"262.551,1423.18 281.449,1423.18 \"/>\n",
       "<polyline clip-path=\"url(#clip540)\" style=\"stroke:#000000; stroke-linecap:round; stroke-linejoin:round; stroke-width:4; stroke-opacity:1; fill:none\" points=\"262.551,1090.77 281.449,1090.77 \"/>\n",
       "<polyline clip-path=\"url(#clip540)\" style=\"stroke:#000000; stroke-linecap:round; stroke-linejoin:round; stroke-width:4; stroke-opacity:1; fill:none\" points=\"262.551,758.368 281.449,758.368 \"/>\n",
       "<polyline clip-path=\"url(#clip540)\" style=\"stroke:#000000; stroke-linecap:round; stroke-linejoin:round; stroke-width:4; stroke-opacity:1; fill:none\" points=\"262.551,425.962 281.449,425.962 \"/>\n",
       "<path clip-path=\"url(#clip540)\" d=\"M214.607 1408.98 Q210.996 1408.98 209.167 1412.54 Q207.362 1416.08 207.362 1423.21 Q207.362 1430.32 209.167 1433.89 Q210.996 1437.43 214.607 1437.43 Q218.241 1437.43 220.047 1433.89 Q221.875 1430.32 221.875 1423.21 Q221.875 1416.08 220.047 1412.54 Q218.241 1408.98 214.607 1408.98 M214.607 1405.27 Q220.417 1405.27 223.473 1409.88 Q226.551 1414.46 226.551 1423.21 Q226.551 1431.94 223.473 1436.55 Q220.417 1441.13 214.607 1441.13 Q208.797 1441.13 205.718 1436.55 Q202.662 1431.94 202.662 1423.21 Q202.662 1414.46 205.718 1409.88 Q208.797 1405.27 214.607 1405.27 Z\" fill=\"#000000\" fill-rule=\"nonzero\" fill-opacity=\"1\" /><path clip-path=\"url(#clip540)\" d=\"M144.329 1073.49 L162.686 1073.49 L162.686 1077.43 L148.612 1077.43 L148.612 1085.9 Q149.63 1085.55 150.649 1085.39 Q151.667 1085.21 152.686 1085.21 Q158.473 1085.21 161.852 1088.38 Q165.232 1091.55 165.232 1096.97 Q165.232 1102.54 161.76 1105.65 Q158.288 1108.73 151.968 1108.73 Q149.792 1108.73 147.524 1108.35 Q145.279 1107.98 142.871 1107.24 L142.871 1102.54 Q144.954 1103.68 147.177 1104.23 Q149.399 1104.79 151.876 1104.79 Q155.88 1104.79 158.218 1102.68 Q160.556 1100.58 160.556 1096.97 Q160.556 1093.35 158.218 1091.25 Q155.88 1089.14 151.876 1089.14 Q150.001 1089.14 148.126 1089.56 Q146.274 1089.98 144.329 1090.85 L144.329 1073.49 Z\" fill=\"#000000\" fill-rule=\"nonzero\" fill-opacity=\"1\" /><path clip-path=\"url(#clip540)\" d=\"M184.445 1076.57 Q180.834 1076.57 179.005 1080.14 Q177.2 1083.68 177.2 1090.81 Q177.2 1097.91 179.005 1101.48 Q180.834 1105.02 184.445 1105.02 Q188.079 1105.02 189.885 1101.48 Q191.713 1097.91 191.713 1090.81 Q191.713 1083.68 189.885 1080.14 Q188.079 1076.57 184.445 1076.57 M184.445 1072.87 Q190.255 1072.87 193.311 1077.48 Q196.389 1082.06 196.389 1090.81 Q196.389 1099.54 193.311 1104.14 Q190.255 1108.73 184.445 1108.73 Q178.635 1108.73 175.556 1104.14 Q172.501 1099.54 172.501 1090.81 Q172.501 1082.06 175.556 1077.48 Q178.635 1072.87 184.445 1072.87 Z\" fill=\"#000000\" fill-rule=\"nonzero\" fill-opacity=\"1\" /><path clip-path=\"url(#clip540)\" d=\"M214.607 1076.57 Q210.996 1076.57 209.167 1080.14 Q207.362 1083.68 207.362 1090.81 Q207.362 1097.91 209.167 1101.48 Q210.996 1105.02 214.607 1105.02 Q218.241 1105.02 220.047 1101.48 Q221.875 1097.91 221.875 1090.81 Q221.875 1083.68 220.047 1080.14 Q218.241 1076.57 214.607 1076.57 M214.607 1072.87 Q220.417 1072.87 223.473 1077.48 Q226.551 1082.06 226.551 1090.81 Q226.551 1099.54 223.473 1104.14 Q220.417 1108.73 214.607 1108.73 Q208.797 1108.73 205.718 1104.14 Q202.662 1099.54 202.662 1090.81 Q202.662 1082.06 205.718 1077.48 Q208.797 1072.87 214.607 1072.87 Z\" fill=\"#000000\" fill-rule=\"nonzero\" fill-opacity=\"1\" /><path clip-path=\"url(#clip540)\" d=\"M114.931 771.713 L122.57 771.713 L122.57 745.347 L114.26 747.014 L114.26 742.754 L122.524 741.088 L127.2 741.088 L127.2 771.713 L134.839 771.713 L134.839 775.648 L114.931 775.648 L114.931 771.713 Z\" fill=\"#000000\" fill-rule=\"nonzero\" fill-opacity=\"1\" /><path clip-path=\"url(#clip540)\" d=\"M154.283 744.166 Q150.672 744.166 148.843 747.731 Q147.038 751.273 147.038 758.402 Q147.038 765.509 148.843 769.074 Q150.672 772.615 154.283 772.615 Q157.917 772.615 159.723 769.074 Q161.552 765.509 161.552 758.402 Q161.552 751.273 159.723 747.731 Q157.917 744.166 154.283 744.166 M154.283 740.463 Q160.093 740.463 163.149 745.069 Q166.227 749.652 166.227 758.402 Q166.227 767.129 163.149 771.736 Q160.093 776.319 154.283 776.319 Q148.473 776.319 145.394 771.736 Q142.339 767.129 142.339 758.402 Q142.339 749.652 145.394 745.069 Q148.473 740.463 154.283 740.463 Z\" fill=\"#000000\" fill-rule=\"nonzero\" fill-opacity=\"1\" /><path clip-path=\"url(#clip540)\" d=\"M184.445 744.166 Q180.834 744.166 179.005 747.731 Q177.2 751.273 177.2 758.402 Q177.2 765.509 179.005 769.074 Q180.834 772.615 184.445 772.615 Q188.079 772.615 189.885 769.074 Q191.713 765.509 191.713 758.402 Q191.713 751.273 189.885 747.731 Q188.079 744.166 184.445 744.166 M184.445 740.463 Q190.255 740.463 193.311 745.069 Q196.389 749.652 196.389 758.402 Q196.389 767.129 193.311 771.736 Q190.255 776.319 184.445 776.319 Q178.635 776.319 175.556 771.736 Q172.501 767.129 172.501 758.402 Q172.501 749.652 175.556 745.069 Q178.635 740.463 184.445 740.463 Z\" fill=\"#000000\" fill-rule=\"nonzero\" fill-opacity=\"1\" /><path clip-path=\"url(#clip540)\" d=\"M214.607 744.166 Q210.996 744.166 209.167 747.731 Q207.362 751.273 207.362 758.402 Q207.362 765.509 209.167 769.074 Q210.996 772.615 214.607 772.615 Q218.241 772.615 220.047 769.074 Q221.875 765.509 221.875 758.402 Q221.875 751.273 220.047 747.731 Q218.241 744.166 214.607 744.166 M214.607 740.463 Q220.417 740.463 223.473 745.069 Q226.551 749.652 226.551 758.402 Q226.551 767.129 223.473 771.736 Q220.417 776.319 214.607 776.319 Q208.797 776.319 205.718 771.736 Q202.662 767.129 202.662 758.402 Q202.662 749.652 205.718 745.069 Q208.797 740.463 214.607 740.463 Z\" fill=\"#000000\" fill-rule=\"nonzero\" fill-opacity=\"1\" /><path clip-path=\"url(#clip540)\" d=\"M114.931 439.306 L122.57 439.306 L122.57 412.941 L114.26 414.608 L114.26 410.348 L122.524 408.682 L127.2 408.682 L127.2 439.306 L134.839 439.306 L134.839 443.242 L114.931 443.242 L114.931 439.306 Z\" fill=\"#000000\" fill-rule=\"nonzero\" fill-opacity=\"1\" /><path clip-path=\"url(#clip540)\" d=\"M144.329 408.682 L162.686 408.682 L162.686 412.617 L148.612 412.617 L148.612 421.089 Q149.63 420.742 150.649 420.58 Q151.667 420.395 152.686 420.395 Q158.473 420.395 161.852 423.566 Q165.232 426.737 165.232 432.154 Q165.232 437.732 161.76 440.834 Q158.288 443.913 151.968 443.913 Q149.792 443.913 147.524 443.543 Q145.279 443.172 142.871 442.431 L142.871 437.732 Q144.954 438.867 147.177 439.422 Q149.399 439.978 151.876 439.978 Q155.88 439.978 158.218 437.871 Q160.556 435.765 160.556 432.154 Q160.556 428.543 158.218 426.436 Q155.88 424.33 151.876 424.33 Q150.001 424.33 148.126 424.746 Q146.274 425.163 144.329 426.043 L144.329 408.682 Z\" fill=\"#000000\" fill-rule=\"nonzero\" fill-opacity=\"1\" /><path clip-path=\"url(#clip540)\" d=\"M184.445 411.76 Q180.834 411.76 179.005 415.325 Q177.2 418.867 177.2 425.996 Q177.2 433.103 179.005 436.668 Q180.834 440.209 184.445 440.209 Q188.079 440.209 189.885 436.668 Q191.713 433.103 191.713 425.996 Q191.713 418.867 189.885 415.325 Q188.079 411.76 184.445 411.76 M184.445 408.057 Q190.255 408.057 193.311 412.663 Q196.389 417.246 196.389 425.996 Q196.389 434.723 193.311 439.33 Q190.255 443.913 184.445 443.913 Q178.635 443.913 175.556 439.33 Q172.501 434.723 172.501 425.996 Q172.501 417.246 175.556 412.663 Q178.635 408.057 184.445 408.057 Z\" fill=\"#000000\" fill-rule=\"nonzero\" fill-opacity=\"1\" /><path clip-path=\"url(#clip540)\" d=\"M214.607 411.76 Q210.996 411.76 209.167 415.325 Q207.362 418.867 207.362 425.996 Q207.362 433.103 209.167 436.668 Q210.996 440.209 214.607 440.209 Q218.241 440.209 220.047 436.668 Q221.875 433.103 221.875 425.996 Q221.875 418.867 220.047 415.325 Q218.241 411.76 214.607 411.76 M214.607 408.057 Q220.417 408.057 223.473 412.663 Q226.551 417.246 226.551 425.996 Q226.551 434.723 223.473 439.33 Q220.417 443.913 214.607 443.913 Q208.797 443.913 205.718 439.33 Q202.662 434.723 202.662 425.996 Q202.662 417.246 205.718 412.663 Q208.797 408.057 214.607 408.057 Z\" fill=\"#000000\" fill-rule=\"nonzero\" fill-opacity=\"1\" /><path clip-path=\"url(#clip540)\" d=\"M28.3562 917.525 L28.3562 911.669 L56.1743 904.348 L28.3562 897.059 L28.3562 890.153 L56.1743 882.832 L28.3562 875.543 L28.3562 869.687 L64.0042 879.013 L64.0042 885.919 L34.7856 893.59 L64.0042 901.293 L64.0042 908.199 L28.3562 917.525 Z\" fill=\"#000000\" fill-rule=\"nonzero\" fill-opacity=\"1\" /><path clip-path=\"url(#clip540)\" d=\"M32.4621 846.993 Q32.4621 851.704 36.1542 854.441 Q39.8145 857.178 46.212 857.178 Q52.6095 857.178 56.3017 854.473 Q59.9619 851.736 59.9619 846.993 Q59.9619 842.314 56.2698 839.577 Q52.5777 836.84 46.212 836.84 Q39.8781 836.84 36.186 839.577 Q32.4621 842.314 32.4621 846.993 M27.4968 846.993 Q27.4968 839.354 32.4621 834.994 Q37.4273 830.633 46.212 830.633 Q54.9649 830.633 59.9619 834.994 Q64.9272 839.354 64.9272 846.993 Q64.9272 854.664 59.9619 859.024 Q54.9649 863.353 46.212 863.353 Q37.4273 863.353 32.4621 859.024 Q27.4968 854.664 27.4968 846.993 Z\" fill=\"#000000\" fill-rule=\"nonzero\" fill-opacity=\"1\" /><path clip-path=\"url(#clip540)\" d=\"M33.8307 800.269 Q33.2578 801.256 33.0032 802.433 Q32.7167 803.579 32.7167 804.979 Q32.7167 809.945 35.9632 812.618 Q39.1779 815.26 45.2253 815.26 L64.0042 815.26 L64.0042 821.148 L28.3562 821.148 L28.3562 815.26 L33.8944 815.26 Q30.6479 813.414 29.0883 810.454 Q27.4968 807.494 27.4968 803.261 Q27.4968 802.656 27.5923 801.924 Q27.656 801.192 27.8151 800.301 L33.8307 800.269 Z\" fill=\"#000000\" fill-rule=\"nonzero\" fill-opacity=\"1\" /><path clip-path=\"url(#clip540)\" d=\"M14.479 794.349 L14.479 788.46 L43.7294 788.46 L28.3562 770.987 L28.3562 763.507 L45.0344 782.413 L64.0042 762.711 L64.0042 770.35 L46.5939 788.46 L64.0042 788.46 L64.0042 794.349 L14.479 794.349 Z\" fill=\"#000000\" fill-rule=\"nonzero\" fill-opacity=\"1\" /><path clip-path=\"url(#clip540)\" d=\"M14.479 756.377 L14.479 750.521 L64.0042 750.521 L64.0042 756.377 L14.479 756.377 Z\" fill=\"#000000\" fill-rule=\"nonzero\" fill-opacity=\"1\" /><path clip-path=\"url(#clip540)\" d=\"M32.4621 724.453 Q32.4621 729.164 36.1542 731.901 Q39.8145 734.638 46.212 734.638 Q52.6095 734.638 56.3017 731.933 Q59.9619 729.196 59.9619 724.453 Q59.9619 719.774 56.2698 717.037 Q52.5777 714.3 46.212 714.3 Q39.8781 714.3 36.186 717.037 Q32.4621 719.774 32.4621 724.453 M27.4968 724.453 Q27.4968 716.814 32.4621 712.454 Q37.4273 708.093 46.212 708.093 Q54.9649 708.093 59.9619 712.454 Q64.9272 716.814 64.9272 724.453 Q64.9272 732.124 59.9619 736.484 Q54.9649 740.813 46.212 740.813 Q37.4273 740.813 32.4621 736.484 Q27.4968 732.124 27.4968 724.453 Z\" fill=\"#000000\" fill-rule=\"nonzero\" fill-opacity=\"1\" /><path clip-path=\"url(#clip540)\" d=\"M46.0847 682.185 Q46.0847 689.283 47.7079 692.02 Q49.3312 694.757 53.2461 694.757 Q56.3653 694.757 58.2114 692.72 Q60.0256 690.651 60.0256 687.118 Q60.0256 682.249 56.5881 679.32 Q53.1188 676.36 47.3897 676.36 L46.0847 676.36 L46.0847 682.185 M43.6657 670.504 L64.0042 670.504 L64.0042 676.36 L58.5933 676.36 Q61.8398 678.366 63.3994 681.357 Q64.9272 684.349 64.9272 688.678 Q64.9272 694.153 61.8716 697.399 Q58.7843 700.614 53.6281 700.614 Q47.6125 700.614 44.5569 696.603 Q41.5014 692.561 41.5014 684.572 L41.5014 676.36 L40.9285 676.36 Q36.8862 676.36 34.6901 679.034 Q32.4621 681.676 32.4621 686.482 Q32.4621 689.537 33.1941 692.434 Q33.9262 695.33 35.3903 698.004 L29.9795 698.004 Q28.7381 694.789 28.1334 691.765 Q27.4968 688.742 27.4968 685.877 Q27.4968 678.143 31.5072 674.323 Q35.5176 670.504 43.6657 670.504 Z\" fill=\"#000000\" fill-rule=\"nonzero\" fill-opacity=\"1\" /><path clip-path=\"url(#clip540)\" d=\"M33.7671 634.983 L14.479 634.983 L14.479 629.127 L64.0042 629.127 L64.0042 634.983 L58.657 634.983 Q61.8398 636.829 63.3994 639.662 Q64.9272 642.463 64.9272 646.41 Q64.9272 652.871 59.771 656.945 Q54.6147 660.987 46.212 660.987 Q37.8093 660.987 32.6531 656.945 Q27.4968 652.871 27.4968 646.41 Q27.4968 642.463 29.0564 639.662 Q30.5842 636.829 33.7671 634.983 M46.212 654.94 Q52.6732 654.94 56.3653 652.298 Q60.0256 649.624 60.0256 644.977 Q60.0256 640.33 56.3653 637.657 Q52.6732 634.983 46.212 634.983 Q39.7508 634.983 36.0905 637.657 Q32.3984 640.33 32.3984 644.977 Q32.3984 649.624 36.0905 652.298 Q39.7508 654.94 46.212 654.94 Z\" fill=\"#000000\" fill-rule=\"nonzero\" fill-opacity=\"1\" /><path clip-path=\"url(#clip540)\" d=\"M1138.75 50.8226 Q1138.75 56.6154 1141.63 59.9372 Q1144.5 63.2184 1149.53 63.2184 Q1154.51 63.2184 1157.34 59.8967 Q1160.22 56.5749 1160.22 50.8226 Q1160.22 45.1514 1157.3 41.8296 Q1154.39 38.4674 1149.45 38.4674 Q1144.54 38.4674 1141.63 41.7891 Q1138.75 45.1109 1138.75 50.8226 M1160.83 62.9348 Q1158.4 66.054 1155.24 67.5529 Q1152.12 69.0112 1147.95 69.0112 Q1140.98 69.0112 1136.6 63.9881 Q1132.27 58.9245 1132.27 50.8226 Q1132.27 42.7208 1136.64 37.6572 Q1141.02 32.5936 1147.95 32.5936 Q1152.12 32.5936 1155.28 34.1329 Q1158.44 35.6318 1160.83 38.7104 L1160.83 33.4038 L1166.62 33.4038 L1166.62 63.2184 Q1172.54 62.3272 1175.86 57.8307 Q1179.22 53.2937 1179.22 46.1236 Q1179.22 41.7891 1177.92 37.9813 Q1176.67 34.1734 1174.07 30.9327 Q1169.86 25.626 1163.79 22.8309 Q1157.75 19.9953 1150.62 19.9953 Q1145.64 19.9953 1141.06 21.3321 Q1136.48 22.6284 1132.59 25.2209 Q1126.23 29.3529 1122.63 36.0774 Q1119.06 42.7613 1119.06 50.5796 Q1119.06 57.0205 1121.37 62.6513 Q1123.72 68.282 1128.14 72.576 Q1132.39 76.7889 1137.98 78.9764 Q1143.57 81.2044 1149.93 81.2044 Q1155.16 81.2044 1160.18 79.422 Q1165.24 77.6801 1169.46 74.3989 L1173.1 78.8954 Q1168.04 82.8248 1162.04 84.8907 Q1156.09 86.9972 1149.93 86.9972 Q1142.44 86.9972 1135.79 84.3236 Q1129.15 81.6905 1123.97 76.6269 Q1118.78 71.5633 1116.07 64.9198 Q1113.35 58.2358 1113.35 50.5796 Q1113.35 43.2069 1116.11 36.523 Q1118.86 29.839 1123.97 24.7753 Q1129.19 19.6307 1136.04 16.9166 Q1142.88 14.162 1150.54 14.162 Q1159.13 14.162 1166.46 17.6862 Q1173.83 21.2105 1178.81 27.692 Q1181.85 31.6619 1183.43 36.3204 Q1185.05 40.9789 1185.05 45.9616 Q1185.05 56.6154 1178.61 62.7728 Q1172.17 68.9302 1160.83 69.1732 L1160.83 62.9348 Z\" fill=\"#000000\" fill-rule=\"nonzero\" fill-opacity=\"1\" /><path clip-path=\"url(#clip540)\" d=\"M1206.04 14.324 L1206.04 27.2059 L1221.39 27.2059 L1221.39 32.9987 L1206.04 32.9987 L1206.04 57.6282 Q1206.04 63.1779 1207.54 64.7578 Q1209.07 66.3376 1213.73 66.3376 L1221.39 66.3376 L1221.39 72.576 L1213.73 72.576 Q1205.1 72.576 1201.82 69.3758 Q1198.54 66.1351 1198.54 57.6282 L1198.54 32.9987 L1193.07 32.9987 L1193.07 27.2059 L1198.54 27.2059 L1198.54 14.324 L1206.04 14.324 Z\" fill=\"#000000\" fill-rule=\"nonzero\" fill-opacity=\"1\" /><path clip-path=\"url(#clip540)\" d=\"M1268.91 45.1919 L1268.91 72.576 L1261.45 72.576 L1261.45 45.4349 Q1261.45 38.994 1258.94 35.7938 Q1256.43 32.5936 1251.41 32.5936 Q1245.37 32.5936 1241.89 36.4419 Q1238.4 40.2903 1238.4 46.9338 L1238.4 72.576 L1230.91 72.576 L1230.91 9.54393 L1238.4 9.54393 L1238.4 34.2544 Q1241.08 30.163 1244.68 28.1376 Q1248.33 26.1121 1253.07 26.1121 Q1260.89 26.1121 1264.9 30.9732 Q1268.91 35.7938 1268.91 45.1919 Z\" fill=\"#000000\" fill-rule=\"nonzero\" fill-opacity=\"1\" /><path clip-path=\"url(#clip540)\" d=\"M1310.06 34.1734 Q1308.81 33.4443 1307.31 33.1202 Q1305.85 32.7556 1304.07 32.7556 Q1297.75 32.7556 1294.35 36.8875 Q1290.98 40.9789 1290.98 48.6757 L1290.98 72.576 L1283.49 72.576 L1283.49 27.2059 L1290.98 27.2059 L1290.98 34.2544 Q1293.33 30.1225 1297.1 28.1376 Q1300.87 26.1121 1306.26 26.1121 Q1307.03 26.1121 1307.96 26.2337 Q1308.89 26.3147 1310.02 26.5172 L1310.06 34.1734 Z\" fill=\"#000000\" fill-rule=\"nonzero\" fill-opacity=\"1\" /><path clip-path=\"url(#clip540)\" d=\"M1354.87 48.0275 L1354.87 51.6733 L1320.6 51.6733 Q1321.08 59.3701 1325.21 63.421 Q1329.39 67.4314 1336.8 67.4314 Q1341.09 67.4314 1345.1 66.3781 Q1349.16 65.3249 1353.12 63.2184 L1353.12 70.267 Q1349.11 71.9684 1344.9 72.8596 Q1340.69 73.7508 1336.35 73.7508 Q1325.5 73.7508 1319.14 67.4314 Q1312.82 61.1119 1312.82 50.3365 Q1312.82 39.1965 1318.81 32.6746 Q1324.85 26.1121 1335.06 26.1121 Q1344.21 26.1121 1349.52 32.0264 Q1354.87 37.9003 1354.87 48.0275 M1347.41 45.84 Q1347.33 39.7232 1343.97 36.0774 Q1340.65 32.4315 1335.14 32.4315 Q1328.9 32.4315 1325.13 35.9558 Q1321.41 39.4801 1320.84 45.8805 L1347.41 45.84 Z\" fill=\"#000000\" fill-rule=\"nonzero\" fill-opacity=\"1\" /><path clip-path=\"url(#clip540)\" d=\"M1387.72 49.7694 Q1378.69 49.7694 1375.2 51.8354 Q1371.72 53.9013 1371.72 58.8839 Q1371.72 62.8538 1374.31 65.2034 Q1376.94 67.5124 1381.44 67.5124 Q1387.64 67.5124 1391.37 63.1374 Q1395.13 58.7219 1395.13 51.4303 L1395.13 49.7694 L1387.72 49.7694 M1402.59 46.6907 L1402.59 72.576 L1395.13 72.576 L1395.13 65.6895 Q1392.58 69.8214 1388.77 71.8063 Q1384.97 73.7508 1379.46 73.7508 Q1372.49 73.7508 1368.36 69.8619 Q1364.26 65.9325 1364.26 59.3701 Q1364.26 51.7138 1369.37 47.825 Q1374.51 43.9361 1384.68 43.9361 L1395.13 43.9361 L1395.13 43.2069 Q1395.13 38.0623 1391.73 35.2672 Q1388.37 32.4315 1382.25 32.4315 Q1378.36 32.4315 1374.68 33.3632 Q1370.99 34.295 1367.59 36.1584 L1367.59 29.2718 Q1371.68 27.692 1375.53 26.9223 Q1379.37 26.1121 1383.02 26.1121 Q1392.86 26.1121 1397.73 31.2163 Q1402.59 36.3204 1402.59 46.6907 Z\" fill=\"#000000\" fill-rule=\"nonzero\" fill-opacity=\"1\" /><path clip-path=\"url(#clip540)\" d=\"M1447.79 34.0924 L1447.79 9.54393 L1455.25 9.54393 L1455.25 72.576 L1447.79 72.576 L1447.79 65.7705 Q1445.45 69.8214 1441.84 71.8063 Q1438.27 73.7508 1433.25 73.7508 Q1425.03 73.7508 1419.84 67.1883 Q1414.7 60.6258 1414.7 49.9314 Q1414.7 39.2371 1419.84 32.6746 Q1425.03 26.1121 1433.25 26.1121 Q1438.27 26.1121 1441.84 28.0971 Q1445.45 30.0415 1447.79 34.0924 M1422.4 49.9314 Q1422.4 58.1548 1425.76 62.8538 Q1429.16 67.5124 1435.07 67.5124 Q1440.99 67.5124 1444.39 62.8538 Q1447.79 58.1548 1447.79 49.9314 Q1447.79 41.7081 1444.39 37.0496 Q1440.99 32.3505 1435.07 32.3505 Q1429.16 32.3505 1425.76 37.0496 Q1422.4 41.7081 1422.4 49.9314 Z\" fill=\"#000000\" fill-rule=\"nonzero\" fill-opacity=\"1\" /><path clip-path=\"url(#clip540)\" d=\"M1499.52 28.5427 L1499.52 35.5912 Q1496.36 33.9709 1492.96 33.1607 Q1489.56 32.3505 1485.91 32.3505 Q1480.36 32.3505 1477.57 34.0519 Q1474.81 35.7533 1474.81 39.156 Q1474.81 41.7486 1476.8 43.2475 Q1478.78 44.7058 1484.78 46.0426 L1487.33 46.6097 Q1495.27 48.3111 1498.59 51.4303 Q1501.96 54.509 1501.96 60.0587 Q1501.96 66.3781 1496.93 70.0644 Q1491.95 73.7508 1483.2 73.7508 Q1479.55 73.7508 1475.58 73.0216 Q1471.65 72.3329 1467.28 70.9151 L1467.28 63.2184 Q1471.41 65.3654 1475.42 66.4591 Q1479.43 67.5124 1483.36 67.5124 Q1488.63 67.5124 1491.46 65.73 Q1494.3 63.9071 1494.3 60.6258 Q1494.3 57.5877 1492.23 55.9673 Q1490.21 54.3469 1483.28 52.8481 L1480.69 52.2405 Q1473.76 50.7821 1470.68 47.7845 Q1467.6 44.7463 1467.6 39.4801 Q1467.6 33.0797 1472.14 29.5959 Q1476.68 26.1121 1485.02 26.1121 Q1489.15 26.1121 1492.8 26.7198 Q1496.45 27.3274 1499.52 28.5427 Z\" fill=\"#000000\" fill-rule=\"nonzero\" fill-opacity=\"1\" /><path clip-path=\"url(#clip542)\" d=\"M377.516 322.916 L377.516 1423.18 L452.679 1423.18 L452.679 322.916 L377.516 322.916 L377.516 322.916  Z\" fill=\"#009af9\" fill-rule=\"evenodd\" fill-opacity=\"1\"/>\n",
       "<polyline clip-path=\"url(#clip542)\" style=\"stroke:#000000; stroke-linecap:round; stroke-linejoin:round; stroke-width:4; stroke-opacity:1; fill:none\" points=\"377.516,322.916 377.516,1423.18 452.679,1423.18 452.679,322.916 377.516,322.916 \"/>\n",
       "<path clip-path=\"url(#clip542)\" d=\"M471.469 1187.17 L471.469 1423.18 L546.632 1423.18 L546.632 1187.17 L471.469 1187.17 L471.469 1187.17  Z\" fill=\"#009af9\" fill-rule=\"evenodd\" fill-opacity=\"1\"/>\n",
       "<polyline clip-path=\"url(#clip542)\" style=\"stroke:#000000; stroke-linecap:round; stroke-linejoin:round; stroke-width:4; stroke-opacity:1; fill:none\" points=\"471.469,1187.17 471.469,1423.18 546.632,1423.18 546.632,1187.17 471.469,1187.17 \"/>\n",
       "<path clip-path=\"url(#clip542)\" d=\"M565.423 1386.62 L565.423 1423.18 L640.585 1423.18 L640.585 1386.62 L565.423 1386.62 L565.423 1386.62  Z\" fill=\"#009af9\" fill-rule=\"evenodd\" fill-opacity=\"1\"/>\n",
       "<polyline clip-path=\"url(#clip542)\" style=\"stroke:#000000; stroke-linecap:round; stroke-linejoin:round; stroke-width:4; stroke-opacity:1; fill:none\" points=\"565.423,1386.62 565.423,1423.18 640.585,1423.18 640.585,1386.62 565.423,1386.62 \"/>\n",
       "<path clip-path=\"url(#clip542)\" d=\"M659.376 522.359 L659.376 1423.18 L734.539 1423.18 L734.539 522.359 L659.376 522.359 L659.376 522.359  Z\" fill=\"#009af9\" fill-rule=\"evenodd\" fill-opacity=\"1\"/>\n",
       "<polyline clip-path=\"url(#clip542)\" style=\"stroke:#000000; stroke-linecap:round; stroke-linejoin:round; stroke-width:4; stroke-opacity:1; fill:none\" points=\"659.376,522.359 659.376,1423.18 734.539,1423.18 734.539,522.359 659.376,522.359 \"/>\n",
       "<path clip-path=\"url(#clip542)\" d=\"M753.329 987.728 L753.329 1423.18 L828.492 1423.18 L828.492 987.728 L753.329 987.728 L753.329 987.728  Z\" fill=\"#009af9\" fill-rule=\"evenodd\" fill-opacity=\"1\"/>\n",
       "<polyline clip-path=\"url(#clip542)\" style=\"stroke:#000000; stroke-linecap:round; stroke-linejoin:round; stroke-width:4; stroke-opacity:1; fill:none\" points=\"753.329,987.728 753.329,1423.18 828.492,1423.18 828.492,987.728 753.329,987.728 \"/>\n",
       "<path clip-path=\"url(#clip542)\" d=\"M847.283 455.878 L847.283 1423.18 L922.445 1423.18 L922.445 455.878 L847.283 455.878 L847.283 455.878  Z\" fill=\"#009af9\" fill-rule=\"evenodd\" fill-opacity=\"1\"/>\n",
       "<polyline clip-path=\"url(#clip542)\" style=\"stroke:#000000; stroke-linecap:round; stroke-linejoin:round; stroke-width:4; stroke-opacity:1; fill:none\" points=\"847.283,455.878 847.283,1423.18 922.445,1423.18 922.445,455.878 847.283,455.878 \"/>\n",
       "<path clip-path=\"url(#clip542)\" d=\"M941.236 921.247 L941.236 1423.18 L1016.4 1423.18 L1016.4 921.247 L941.236 921.247 L941.236 921.247  Z\" fill=\"#009af9\" fill-rule=\"evenodd\" fill-opacity=\"1\"/>\n",
       "<polyline clip-path=\"url(#clip542)\" style=\"stroke:#000000; stroke-linecap:round; stroke-linejoin:round; stroke-width:4; stroke-opacity:1; fill:none\" points=\"941.236,921.247 941.236,1423.18 1016.4,1423.18 1016.4,921.247 941.236,921.247 \"/>\n",
       "<path clip-path=\"url(#clip542)\" d=\"M1035.19 256.435 L1035.19 1423.18 L1110.35 1423.18 L1110.35 256.435 L1035.19 256.435 L1035.19 256.435  Z\" fill=\"#009af9\" fill-rule=\"evenodd\" fill-opacity=\"1\"/>\n",
       "<polyline clip-path=\"url(#clip542)\" style=\"stroke:#000000; stroke-linecap:round; stroke-linejoin:round; stroke-width:4; stroke-opacity:1; fill:none\" points=\"1035.19,256.435 1035.19,1423.18 1110.35,1423.18 1110.35,256.435 1035.19,256.435 \"/>\n",
       "<path clip-path=\"url(#clip542)\" d=\"M1129.14 123.472 L1129.14 1423.18 L1204.3 1423.18 L1204.3 123.472 L1129.14 123.472 L1129.14 123.472  Z\" fill=\"#009af9\" fill-rule=\"evenodd\" fill-opacity=\"1\"/>\n",
       "<polyline clip-path=\"url(#clip542)\" style=\"stroke:#000000; stroke-linecap:round; stroke-linejoin:round; stroke-width:4; stroke-opacity:1; fill:none\" points=\"1129.14,123.472 1129.14,1423.18 1204.3,1423.18 1204.3,123.472 1129.14,123.472 \"/>\n",
       "<path clip-path=\"url(#clip542)\" d=\"M1223.1 389.397 L1223.1 1423.18 L1298.26 1423.18 L1298.26 389.397 L1223.1 389.397 L1223.1 389.397  Z\" fill=\"#009af9\" fill-rule=\"evenodd\" fill-opacity=\"1\"/>\n",
       "<polyline clip-path=\"url(#clip542)\" style=\"stroke:#000000; stroke-linecap:round; stroke-linejoin:round; stroke-width:4; stroke-opacity:1; fill:none\" points=\"1223.1,389.397 1223.1,1423.18 1298.26,1423.18 1298.26,389.397 1223.1,389.397 \"/>\n",
       "<path clip-path=\"url(#clip542)\" d=\"M1317.05 189.953 L1317.05 1423.18 L1392.21 1423.18 L1392.21 189.953 L1317.05 189.953 L1317.05 189.953  Z\" fill=\"#009af9\" fill-rule=\"evenodd\" fill-opacity=\"1\"/>\n",
       "<polyline clip-path=\"url(#clip542)\" style=\"stroke:#000000; stroke-linecap:round; stroke-linejoin:round; stroke-width:4; stroke-opacity:1; fill:none\" points=\"1317.05,189.953 1317.05,1423.18 1392.21,1423.18 1392.21,189.953 1317.05,189.953 \"/>\n",
       "<path clip-path=\"url(#clip542)\" d=\"M1411 1120.69 L1411 1423.18 L1486.16 1423.18 L1486.16 1120.69 L1411 1120.69 L1411 1120.69  Z\" fill=\"#009af9\" fill-rule=\"evenodd\" fill-opacity=\"1\"/>\n",
       "<polyline clip-path=\"url(#clip542)\" style=\"stroke:#000000; stroke-linecap:round; stroke-linejoin:round; stroke-width:4; stroke-opacity:1; fill:none\" points=\"1411,1120.69 1411,1423.18 1486.16,1423.18 1486.16,1120.69 1411,1120.69 \"/>\n",
       "<path clip-path=\"url(#clip542)\" d=\"M1504.96 854.765 L1504.96 1423.18 L1580.12 1423.18 L1580.12 854.765 L1504.96 854.765 L1504.96 854.765  Z\" fill=\"#009af9\" fill-rule=\"evenodd\" fill-opacity=\"1\"/>\n",
       "<polyline clip-path=\"url(#clip542)\" style=\"stroke:#000000; stroke-linecap:round; stroke-linejoin:round; stroke-width:4; stroke-opacity:1; fill:none\" points=\"1504.96,854.765 1504.96,1423.18 1580.12,1423.18 1580.12,854.765 1504.96,854.765 \"/>\n",
       "<path clip-path=\"url(#clip542)\" d=\"M1598.91 1054.21 L1598.91 1423.18 L1674.07 1423.18 L1674.07 1054.21 L1598.91 1054.21 L1598.91 1054.21  Z\" fill=\"#009af9\" fill-rule=\"evenodd\" fill-opacity=\"1\"/>\n",
       "<polyline clip-path=\"url(#clip542)\" style=\"stroke:#000000; stroke-linecap:round; stroke-linejoin:round; stroke-width:4; stroke-opacity:1; fill:none\" points=\"1598.91,1054.21 1598.91,1423.18 1674.07,1423.18 1674.07,1054.21 1598.91,1054.21 \"/>\n",
       "<path clip-path=\"url(#clip542)\" d=\"M1692.86 588.841 L1692.86 1423.18 L1768.02 1423.18 L1768.02 588.841 L1692.86 588.841 L1692.86 588.841  Z\" fill=\"#009af9\" fill-rule=\"evenodd\" fill-opacity=\"1\"/>\n",
       "<polyline clip-path=\"url(#clip542)\" style=\"stroke:#000000; stroke-linecap:round; stroke-linejoin:round; stroke-width:4; stroke-opacity:1; fill:none\" points=\"1692.86,588.841 1692.86,1423.18 1768.02,1423.18 1768.02,588.841 1692.86,588.841 \"/>\n",
       "<path clip-path=\"url(#clip542)\" d=\"M1786.82 1320.13 L1786.82 1423.18 L1861.98 1423.18 L1861.98 1320.13 L1786.82 1320.13 L1786.82 1320.13  Z\" fill=\"#009af9\" fill-rule=\"evenodd\" fill-opacity=\"1\"/>\n",
       "<polyline clip-path=\"url(#clip542)\" style=\"stroke:#000000; stroke-linecap:round; stroke-linejoin:round; stroke-width:4; stroke-opacity:1; fill:none\" points=\"1786.82,1320.13 1786.82,1423.18 1861.98,1423.18 1861.98,1320.13 1786.82,1320.13 \"/>\n",
       "<path clip-path=\"url(#clip542)\" d=\"M1880.77 655.322 L1880.77 1423.18 L1955.93 1423.18 L1955.93 655.322 L1880.77 655.322 L1880.77 655.322  Z\" fill=\"#009af9\" fill-rule=\"evenodd\" fill-opacity=\"1\"/>\n",
       "<polyline clip-path=\"url(#clip542)\" style=\"stroke:#000000; stroke-linecap:round; stroke-linejoin:round; stroke-width:4; stroke-opacity:1; fill:none\" points=\"1880.77,655.322 1880.77,1423.18 1955.93,1423.18 1955.93,655.322 1880.77,655.322 \"/>\n",
       "<path clip-path=\"url(#clip542)\" d=\"M1974.72 721.803 L1974.72 1423.18 L2049.88 1423.18 L2049.88 721.803 L1974.72 721.803 L1974.72 721.803  Z\" fill=\"#009af9\" fill-rule=\"evenodd\" fill-opacity=\"1\"/>\n",
       "<polyline clip-path=\"url(#clip542)\" style=\"stroke:#000000; stroke-linecap:round; stroke-linejoin:round; stroke-width:4; stroke-opacity:1; fill:none\" points=\"1974.72,721.803 1974.72,1423.18 2049.88,1423.18 2049.88,721.803 1974.72,721.803 \"/>\n",
       "<path clip-path=\"url(#clip542)\" d=\"M2068.68 1253.65 L2068.68 1423.18 L2143.84 1423.18 L2143.84 1253.65 L2068.68 1253.65 L2068.68 1253.65  Z\" fill=\"#009af9\" fill-rule=\"evenodd\" fill-opacity=\"1\"/>\n",
       "<polyline clip-path=\"url(#clip542)\" style=\"stroke:#000000; stroke-linecap:round; stroke-linejoin:round; stroke-width:4; stroke-opacity:1; fill:none\" points=\"2068.68,1253.65 2068.68,1423.18 2143.84,1423.18 2143.84,1253.65 2068.68,1253.65 \"/>\n",
       "<path clip-path=\"url(#clip542)\" d=\"M2162.63 788.284 L2162.63 1423.18 L2237.79 1423.18 L2237.79 788.284 L2162.63 788.284 L2162.63 788.284  Z\" fill=\"#009af9\" fill-rule=\"evenodd\" fill-opacity=\"1\"/>\n",
       "<polyline clip-path=\"url(#clip542)\" style=\"stroke:#000000; stroke-linecap:round; stroke-linejoin:round; stroke-width:4; stroke-opacity:1; fill:none\" points=\"2162.63,788.284 2162.63,1423.18 2237.79,1423.18 2237.79,788.284 2162.63,788.284 \"/>\n",
       "<circle clip-path=\"url(#clip542)\" style=\"fill:#009af9; stroke:none; fill-opacity:0\" cx=\"415.098\" cy=\"322.916\" r=\"2\"/>\n",
       "<circle clip-path=\"url(#clip542)\" style=\"fill:#009af9; stroke:none; fill-opacity:0\" cx=\"509.051\" cy=\"1187.17\" r=\"2\"/>\n",
       "<circle clip-path=\"url(#clip542)\" style=\"fill:#009af9; stroke:none; fill-opacity:0\" cx=\"603.004\" cy=\"1386.62\" r=\"2\"/>\n",
       "<circle clip-path=\"url(#clip542)\" style=\"fill:#009af9; stroke:none; fill-opacity:0\" cx=\"696.957\" cy=\"522.359\" r=\"2\"/>\n",
       "<circle clip-path=\"url(#clip542)\" style=\"fill:#009af9; stroke:none; fill-opacity:0\" cx=\"790.911\" cy=\"987.728\" r=\"2\"/>\n",
       "<circle clip-path=\"url(#clip542)\" style=\"fill:#009af9; stroke:none; fill-opacity:0\" cx=\"884.864\" cy=\"455.878\" r=\"2\"/>\n",
       "<circle clip-path=\"url(#clip542)\" style=\"fill:#009af9; stroke:none; fill-opacity:0\" cx=\"978.817\" cy=\"921.247\" r=\"2\"/>\n",
       "<circle clip-path=\"url(#clip542)\" style=\"fill:#009af9; stroke:none; fill-opacity:0\" cx=\"1072.77\" cy=\"256.435\" r=\"2\"/>\n",
       "<circle clip-path=\"url(#clip542)\" style=\"fill:#009af9; stroke:none; fill-opacity:0\" cx=\"1166.72\" cy=\"123.472\" r=\"2\"/>\n",
       "<circle clip-path=\"url(#clip542)\" style=\"fill:#009af9; stroke:none; fill-opacity:0\" cx=\"1260.68\" cy=\"389.397\" r=\"2\"/>\n",
       "<circle clip-path=\"url(#clip542)\" style=\"fill:#009af9; stroke:none; fill-opacity:0\" cx=\"1354.63\" cy=\"189.953\" r=\"2\"/>\n",
       "<circle clip-path=\"url(#clip542)\" style=\"fill:#009af9; stroke:none; fill-opacity:0\" cx=\"1448.58\" cy=\"1120.69\" r=\"2\"/>\n",
       "<circle clip-path=\"url(#clip542)\" style=\"fill:#009af9; stroke:none; fill-opacity:0\" cx=\"1542.54\" cy=\"854.765\" r=\"2\"/>\n",
       "<circle clip-path=\"url(#clip542)\" style=\"fill:#009af9; stroke:none; fill-opacity:0\" cx=\"1636.49\" cy=\"1054.21\" r=\"2\"/>\n",
       "<circle clip-path=\"url(#clip542)\" style=\"fill:#009af9; stroke:none; fill-opacity:0\" cx=\"1730.44\" cy=\"588.841\" r=\"2\"/>\n",
       "<circle clip-path=\"url(#clip542)\" style=\"fill:#009af9; stroke:none; fill-opacity:0\" cx=\"1824.4\" cy=\"1320.13\" r=\"2\"/>\n",
       "<circle clip-path=\"url(#clip542)\" style=\"fill:#009af9; stroke:none; fill-opacity:0\" cx=\"1918.35\" cy=\"655.322\" r=\"2\"/>\n",
       "<circle clip-path=\"url(#clip542)\" style=\"fill:#009af9; stroke:none; fill-opacity:0\" cx=\"2012.3\" cy=\"721.803\" r=\"2\"/>\n",
       "<circle clip-path=\"url(#clip542)\" style=\"fill:#009af9; stroke:none; fill-opacity:0\" cx=\"2106.26\" cy=\"1253.65\" r=\"2\"/>\n",
       "<circle clip-path=\"url(#clip542)\" style=\"fill:#009af9; stroke:none; fill-opacity:0\" cx=\"2200.21\" cy=\"788.284\" r=\"2\"/>\n",
       "</svg>\n"
      ]
     },
     "metadata": {},
     "output_type": "display_data"
    }
   ],
   "source": [
    "a = zeros(nthreads()*10)\n",
    "workloads = compute_nonuniform_threads!(a)\n",
    "\n",
    "# plotting\n",
    "@assert length(workloads) == nthreads()\n",
    "b = bar([only(values(w)) for w in workloads], xlab=\"threadid\", ylab=\"workload\", title=\"@threads\", legend=false)\n",
    "display(b)"
   ]
  },
  {
   "cell_type": "markdown",
   "metadata": {},
   "source": [
    "**Note:**\n",
    "* There will likely be a scheduling option for `@threads` that implements load-balancing in the future (see e.g. https://github.com/JuliaLang/julia/pull/52096)."
   ]
  },
  {
   "cell_type": "markdown",
   "metadata": {
    "tags": []
   },
   "source": [
    "### Nestability / Composability"
   ]
  },
  {
   "cell_type": "markdown",
   "metadata": {},
   "source": [
    "#### Example: Recursive Fibonacci series"
   ]
  },
  {
   "cell_type": "markdown",
   "metadata": {},
   "source": [
    "$$ F(n) = F(n-1) + F(n-2), \\qquad F(1) = F(2) = 1$$"
   ]
  },
  {
   "cell_type": "markdown",
   "metadata": {},
   "source": [
    "We can nest `@spawn` calls freely!"
   ]
  },
  {
   "cell_type": "code",
   "execution_count": 30,
   "metadata": {
    "tags": []
   },
   "outputs": [
    {
     "data": {
      "text/plain": [
       "fib (generic function with 1 method)"
      ]
     },
     "metadata": {},
     "output_type": "display_data"
    }
   ],
   "source": [
    "function fib(n)\n",
    "    n < 2 && return n\n",
    "    t = @spawn fib(n-2)\n",
    "    return fib(n-1) + fetch(t)\n",
    "end"
   ]
  },
  {
   "cell_type": "code",
   "execution_count": 31,
   "metadata": {
    "tags": []
   },
   "outputs": [
    {
     "data": {
      "text/plain": [
       "6765"
      ]
     },
     "metadata": {},
     "output_type": "display_data"
    }
   ],
   "source": [
    "fib(20)"
   ]
  },
  {
   "cell_type": "markdown",
   "metadata": {},
   "source": [
    "(Note: Algorithmically, this is a highly inefficient implementation of the Fibonacci series, of course!)"
   ]
  },
  {
   "cell_type": "markdown",
   "metadata": {
    "tags": []
   },
   "source": [
    "## Multithreading: Things to be aware of"
   ]
  },
  {
   "cell_type": "markdown",
   "metadata": {},
   "source": [
    "### Instructive example: parallel summation"
   ]
  },
  {
   "cell_type": "code",
   "execution_count": 32,
   "metadata": {
    "tags": []
   },
   "outputs": [],
   "source": [
    "data = rand(1_000_000 * Threads.nthreads());"
   ]
  },
  {
   "cell_type": "markdown",
   "metadata": {},
   "source": [
    "#### Naive approach"
   ]
  },
  {
   "cell_type": "code",
   "execution_count": 33,
   "metadata": {
    "tags": []
   },
   "outputs": [
    {
     "data": {
      "text/plain": [
       "sum_threads_naive (generic function with 1 method)"
      ]
     },
     "metadata": {},
     "output_type": "display_data"
    }
   ],
   "source": [
    "function sum_threads_naive(data)\n",
    "    s = zero(eltype(data))\n",
    "    @threads for x in eachindex(data)\n",
    "        s += x\n",
    "    end\n",
    "    return s\n",
    "end"
   ]
  },
  {
   "cell_type": "code",
   "execution_count": 34,
   "metadata": {
    "tags": []
   },
   "outputs": [
    {
     "name": "stdout",
     "output_type": "stream",
     "text": [
      "sum(data) = 1.0002506701637235e7\n"
     ]
    },
    {
     "name": "stdout",
     "output_type": "stream",
     "text": [
      "sum_threads_naive(data) = 7.511502703058e12\n"
     ]
    },
    {
     "name": "stdout",
     "output_type": "stream",
     "text": [
      "sum_threads_naive(data) = 1.7500885517936e13\n"
     ]
    }
   ],
   "source": [
    "@show sum(data);\n",
    "@show sum_threads_naive(data);\n",
    "@show sum_threads_naive(data);"
   ]
  },
  {
   "cell_type": "markdown",
   "metadata": {},
   "source": [
    "**Wrong** result! Even worse, it's **non-deterministic** and different every time!"
   ]
  },
  {
   "cell_type": "markdown",
   "metadata": {},
   "source": [
    "There is a [race condition](https://en.wikipedia.org/wiki/Race_condition) which typically appear when multiple tasks are modifying a shared value simultaneously.\n",
    "\n",
    "→ **Don't modify shared \"global\" state!**\n",
    "\n",
    "Sometimes things can be more subtle. Examples: random number generation, `Dict`. Note that not all of Julia and its packages in the ecosystem are thread-safe! In general, it is safer to assume that they're not unless documented/proven otherwise. (`rand()` is thread-safe, `Dict` isn't!)"
   ]
  },
  {
   "cell_type": "markdown",
   "metadata": {},
   "source": [
    "#### Thread-focused partial sums (unsafe)"
   ]
  },
  {
   "cell_type": "markdown",
   "metadata": {},
   "source": [
    "Our strategy:\n",
    "* One accumulator variable per thread."
   ]
  },
  {
   "cell_type": "markdown",
   "metadata": {},
   "source": [
    "You might be inclined to write something similar to the following (intentionally written in a slightly more verbose form):"
   ]
  },
  {
   "cell_type": "code",
   "execution_count": 35,
   "metadata": {
    "tags": []
   },
   "outputs": [
    {
     "data": {
      "text/plain": [
       "sum_threads_unsafe (generic function with 1 method)"
      ]
     },
     "metadata": {},
     "output_type": "display_data"
    }
   ],
   "source": [
    "function sum_threads_unsafe(data)\n",
    "    psums = zeros(eltype(data), nthreads())\n",
    "    @threads for i in eachindex(data)\n",
    "        current_sum = psums[threadid()] # read\n",
    "        new_sum = current_sum + data[i] # \"work\"\n",
    "        psums[threadid()] = new_sum     # write\n",
    "    end\n",
    "    return sum(psums)\n",
    "end"
   ]
  },
  {
   "cell_type": "markdown",
   "metadata": {},
   "source": [
    "Such an approach is generally **unsafe** because Julia's scheduler may **migrate tasks between threads**!\n",
    "  * For example, a task might start on thread 1, is then paused (say, after \"work\") and migrated to thread 3, where it finishes execution.\n",
    "  * → The output of `threadid()` might change within a task! To be safe, [don't use `threadid()`](https://julialang.org/blog/2023/07/PSA-dont-use-threadid/) at all!\n",
    "  \n",
    "It also goes against the idea of task-based multithreading, as we're **thinking about threads rather than tasks**."
   ]
  },
  {
   "cell_type": "markdown",
   "metadata": {},
   "source": [
    "(Note that, in spite of the comments above, the `threadid()` pattern will often still work correctly. This is because as of Julia 1.10 task migrations are very rare. Importantly, **you can't rely on it though!**)"
   ]
  },
  {
   "cell_type": "markdown",
   "metadata": {},
   "source": [
    "#### Chunk-focused partial sums (safe)"
   ]
  },
  {
   "cell_type": "markdown",
   "metadata": {},
   "source": [
    "Our strategy:\n",
    "* Divide the data (indices) into **chunks** and use **one accumulator per chunk**."
   ]
  },
  {
   "cell_type": "markdown",
   "metadata": {},
   "source": [
    "The package [ChunkSplitters.jl](https://github.com/m3g/ChunkSplitters.jl) is helpful for chunking (`Iterators.partition` is a built-in alternative)."
   ]
  },
  {
   "cell_type": "code",
   "execution_count": 36,
   "metadata": {
    "tags": []
   },
   "outputs": [],
   "source": [
    "using ChunkSplitters"
   ]
  },
  {
   "cell_type": "code",
   "execution_count": 37,
   "metadata": {
    "tags": []
   },
   "outputs": [
    {
     "data": {
      "text/plain": [
       "20-element Vector{StepRange{Int64, Int64}}:\n",
       " 1:1:1000000\n",
       " 1000001:1:2000000\n",
       " 2000001:1:3000000\n",
       " 3000001:1:4000000\n",
       " 4000001:1:5000000\n",
       " 5000001:1:6000000\n",
       " 6000001:1:7000000\n",
       " 7000001:1:8000000\n",
       " 8000001:1:9000000\n",
       " 9000001:1:10000000\n",
       " 10000001:1:11000000\n",
       " 11000001:1:12000000\n",
       " 12000001:1:13000000\n",
       " 13000001:1:14000000\n",
       " 14000001:1:15000000\n",
       " 15000001:1:16000000\n",
       " 16000001:1:17000000\n",
       " 17000001:1:18000000\n",
       " 18000001:1:19000000\n",
       " 19000001:1:20000000"
      ]
     },
     "metadata": {},
     "output_type": "display_data"
    }
   ],
   "source": [
    "collect(chunks(data; n=nthreads())) # number of chunks chosen as nthreads()"
   ]
  },
  {
   "cell_type": "code",
   "execution_count": 38,
   "metadata": {
    "tags": []
   },
   "outputs": [
    {
     "data": {
      "text/plain": [
       "sum_threads_chunks (generic function with 1 method)"
      ]
     },
     "metadata": {},
     "output_type": "display_data"
    }
   ],
   "source": [
    "function sum_threads_chunks(data; nchunks=nthreads())\n",
    "    psums = zeros(eltype(data), nchunks)\n",
    "    @threads for (c, idcs) in enumerate(chunks(data; n=nchunks))\n",
    "        for i in idcs\n",
    "            psums[c] += data[i]\n",
    "        end\n",
    "    end\n",
    "    return sum(psums)\n",
    "end"
   ]
  },
  {
   "cell_type": "code",
   "execution_count": 39,
   "metadata": {
    "tags": []
   },
   "outputs": [
    {
     "data": {
      "text/plain": [
       "true"
      ]
     },
     "metadata": {},
     "output_type": "display_data"
    }
   ],
   "source": [
    "sum_threads_chunks(data) ≈ sum(data)"
   ]
  },
  {
   "cell_type": "code",
   "execution_count": 40,
   "metadata": {
    "tags": []
   },
   "outputs": [
    {
     "name": "stdout",
     "output_type": "stream",
     "text": [
      "  9.535 ms (0 allocations: 0 bytes)\n"
     ]
    },
    {
     "name": "stdout",
     "output_type": "stream",
     "text": [
      "  9.606 ms (102 allocations: 11.05 KiB)\n"
     ]
    }
   ],
   "source": [
    "@btime sum($data);\n",
    "@btime sum_threads_chunks($data);"
   ]
  },
  {
   "cell_type": "markdown",
   "metadata": {},
   "source": [
    "Safe, but (horribly) slow?! Why?\n",
    "\n",
    "* manual loop doesn't SIMD (need to add manual `@simd` + `@inbounds`)\n",
    "* But more importantly: **false sharing**"
   ]
  },
  {
   "cell_type": "markdown",
   "metadata": {},
   "source": [
    "##### Performance issue: [False sharing](https://en.wikipedia.org/wiki/False_sharing)\n",
    "\n",
    "Why does `sum_threads_chunks` above have bad performance? Although argubaly subtle, this is because different tasks mutate shared data (`psums`) in parallel. There is no *logical* sharing: Tasks access different slots of `psums` and there is no data race. However, CPU cores work on the basis of **cache lines** instead of single elements leading to *implicit* sharing of cache lines.\n",
    "\n",
    "**Despite its subtlety, false sharing can lead to dramatic slowdown!**"
   ]
  },
  {
   "cell_type": "code",
   "execution_count": 41,
   "metadata": {
    "tags": []
   },
   "outputs": [],
   "source": [
    "using CpuId"
   ]
  },
  {
   "cell_type": "code",
   "execution_count": 42,
   "metadata": {
    "tags": []
   },
   "outputs": [
    {
     "data": {
      "text/plain": [
       "8"
      ]
     },
     "metadata": {},
     "output_type": "display_data"
    }
   ],
   "source": [
    "cachelinesize() ÷ sizeof(Float64)"
   ]
  },
  {
   "cell_type": "markdown",
   "metadata": {},
   "source": [
    "<img src=\"imgs/false_sharing.svg\" width=850px>\n",
    "\n",
    "Different tasks modify the same cache line\n",
    "* need for synchronization to ensure cache coherency\n",
    "* performance decreases (dramatically).\n",
    "\n",
    "**The less you modify non-local state, the better!**"
   ]
  },
  {
   "cell_type": "markdown",
   "metadata": {},
   "source": [
    "#### Chunk-focused task-local partial sums (good)"
   ]
  },
  {
   "cell_type": "code",
   "execution_count": 43,
   "metadata": {
    "tags": []
   },
   "outputs": [
    {
     "data": {
      "text/plain": [
       "sum_threads_chunks_local (generic function with 1 method)"
      ]
     },
     "metadata": {},
     "output_type": "display_data"
    }
   ],
   "source": [
    "function sum_threads_chunks_local(data; nchunks=nthreads())\n",
    "    psums = zeros(eltype(data), nchunks)\n",
    "    @threads for (c, idcs) in enumerate(chunks(data; n=nchunks))\n",
    "        local s = zero(eltype(data))\n",
    "        @simd for i in idcs\n",
    "            @inbounds s += data[i]\n",
    "        end\n",
    "        psums[c] = s\n",
    "    end\n",
    "    return sum(psums)\n",
    "end"
   ]
  },
  {
   "cell_type": "markdown",
   "metadata": {},
   "source": [
    "* each task/iteration computes a local sum (`s`) independently\n",
    "* no *frequent* non-local mutation"
   ]
  },
  {
   "cell_type": "code",
   "execution_count": 44,
   "metadata": {
    "tags": []
   },
   "outputs": [
    {
     "data": {
      "text/plain": [
       "true"
      ]
     },
     "metadata": {},
     "output_type": "display_data"
    }
   ],
   "source": [
    "sum(data) ≈ sum_threads_chunks_local(data)"
   ]
  },
  {
   "cell_type": "code",
   "execution_count": 45,
   "metadata": {
    "tags": []
   },
   "outputs": [
    {
     "name": "stdout",
     "output_type": "stream",
     "text": [
      "  8.972 ms (0 allocations: 0 bytes)\n"
     ]
    },
    {
     "name": "stdout",
     "output_type": "stream",
     "text": [
      "  8.260 ms (102 allocations: 11.05 KiB)\n"
     ]
    }
   ],
   "source": [
    "@btime sum($data);\n",
    "@btime sum_threads_chunks_local($data);"
   ]
  },
  {
   "cell_type": "markdown",
   "metadata": {},
   "source": [
    "#### Task-focused version (even better)"
   ]
  },
  {
   "cell_type": "markdown",
   "metadata": {},
   "source": [
    "**Key questions for task-based parallelisation:**\n",
    "* How to divide the computation into seperate **tasks**?\n",
    "* How many **tasks** should we create?"
   ]
  },
  {
   "cell_type": "code",
   "execution_count": 46,
   "metadata": {
    "tags": []
   },
   "outputs": [
    {
     "data": {
      "text/plain": [
       "sum_map_spawn (generic function with 1 method)"
      ]
     },
     "metadata": {},
     "output_type": "display_data"
    }
   ],
   "source": [
    "# Conceptually, this is just `tmap(mysum, chunks)`\n",
    "\n",
    "function sum_map_spawn(data; nchunks=nthreads())\n",
    "    ts = map(chunks(data, n=nchunks)) do idcs\n",
    "        @spawn @views sum(data[idcs])\n",
    "    end\n",
    "    return sum(fetch.(ts))\n",
    "end"
   ]
  },
  {
   "cell_type": "markdown",
   "metadata": {},
   "source": [
    "<details>\n",
    "    <summary>Loop analogue (click to unfold)</summary>\n",
    "    \n",
    "<br>\n",
    "    \n",
    "```julia\n",
    "function sum_loop_spawn(data; nchunks=nthreads())\n",
    "    ts = Vector{Task}(undef, nchunks)\n",
    "    for (c, idcs) in enumerate(chunks(data; n=nchunks))\n",
    "        ts[c] = @spawn @views sum(data[idcs])\n",
    "    end\n",
    "    return sum(fetch.(ts))\n",
    "end\n",
    "```\n",
    "</details>"
   ]
  },
  {
   "cell_type": "markdown",
   "metadata": {},
   "source": [
    "* This version is task-focused → We're **explicitly** spawning one task per chunk.\n",
    "* In this form, we don't need a manual pre-allocation (it is hidden in the map operation)\n",
    "  * → no explicit indexing necessary (and thus no `enumerate` around `chunks`).\n",
    "  * We have automatically circumvented the false sharing performance issue!"
   ]
  },
  {
   "cell_type": "code",
   "execution_count": 47,
   "metadata": {
    "tags": []
   },
   "outputs": [
    {
     "data": {
      "text/plain": [
       "true"
      ]
     },
     "metadata": {},
     "output_type": "display_data"
    }
   ],
   "source": [
    "sum_map_spawn(data) ≈ sum(data)"
   ]
  },
  {
   "cell_type": "code",
   "execution_count": 48,
   "metadata": {
    "tags": []
   },
   "outputs": [
    {
     "name": "stdout",
     "output_type": "stream",
     "text": [
      "  8.386 ms (130 allocations: 11.33 KiB)\n"
     ]
    }
   ],
   "source": [
    "@btime sum_map_spawn($data);"
   ]
  },
  {
   "cell_type": "markdown",
   "metadata": {},
   "source": [
    "Still interesting performance improvements possible. However, this is beyond the scope of the course. 😄"
   ]
  },
  {
   "cell_type": "markdown",
   "metadata": {
    "tags": []
   },
   "source": [
    "## Opt out of dynamic scheduling"
   ]
  },
  {
   "cell_type": "markdown",
   "metadata": {
    "tags": []
   },
   "source": [
    "For \"traditional HPC\", where you tell each thread what to do, you might in some cases want/need a **guaranteed task-thread mapping**. This is possible to achieve with the following tools."
   ]
  },
  {
   "cell_type": "markdown",
   "metadata": {},
   "source": [
    "### `@spawnat`"
   ]
  },
  {
   "cell_type": "markdown",
   "metadata": {},
   "source": [
    "We can opt-out of task migration and **spawn *sticky* tasks on specific threads**. \n",
    "\n",
    "Base Julia doesn't have a built-in macro for this but many packages, including [ThreadPinning.jl](https://github.com/carstenbauer/ThreadPinning.jl), provide a variant."
   ]
  },
  {
   "cell_type": "code",
   "execution_count": 49,
   "metadata": {
    "tags": []
   },
   "outputs": [],
   "source": [
    "using ThreadPinning: @spawnat"
   ]
  },
  {
   "cell_type": "code",
   "execution_count": 50,
   "metadata": {
    "tags": []
   },
   "outputs": [],
   "source": [
    "@spawnat 4 println(\"Task \", taskid(), \" is running on thread \", threadid());"
   ]
  },
  {
   "cell_type": "markdown",
   "metadata": {
    "tags": []
   },
   "source": [
    "### `@threads :static`"
   ]
  },
  {
   "cell_type": "markdown",
   "metadata": {},
   "source": [
    "For `@threads` there is the `:static` scheduling option to opt-out of Julia's dynamic scheduling.\n",
    "\n",
    "Syntax: `@threads :static for ...`\n",
    "\n",
    " * **statically** maps tasks/chunks to threads, specifically: task 1 → thread 1, task 2 → thread 2, and so on.\n",
    "   * no task migration, i.e. **fixed task-thread mapping** 👍\n",
    "   * only little overhead 👍\n",
    "   * not composable / nestable 👎"
   ]
  },
  {
   "cell_type": "code",
   "execution_count": 51,
   "metadata": {
    "tags": []
   },
   "outputs": [
    {
     "name": "stdout",
     "output_type": "stream",
     "text": [
      "Task 12494555229809201384 is running iteration 15 on thread 17\n",
      "Task 12520984706214418308 is running iteration 19 on thread 9\n",
      "Task 12494555229809201384 is running iteration 16 on thread 17\n",
      "Task 12520984706214418308 is running iteration 20 on thread 9\n",
      "Task 4617186243617402495 is running iteration 7 on thread 2\n",
      "Task 3010035259099521715 is running iteration 9 on thread 19\n",
      "Task 4324029209128202569 is running iteration 3 on thread 4\n",
      "Task 3212091603983021497 is running iteration 35 on thread 16\n",
      "Task 932569524201183159 is running iteration 23 on thread 5\n",
      "Task 2334555826473654957 is running iteration 1 on thread 3\n",
      "Task 4046925930513478628 is running iteration 27 on thread 12\n",
      "Task 9011266521973414009 is running iteration 17 on thread 18\n",
      "Task 17429096267899513291 is running iteration 25 on thread 8\n",
      "Task 8175226105539416053 is running iteration 37 on thread 20\n",
      "Task 3010035259099521715 is running iteration 10 on thread 15\n",
      "Task 3212091603983021497 is running iteration 36 on thread 19\n",
      "Task 4324029209128202569 is running iteration 4 on thread 4\n",
      "Task 9011266521973414009 is running iteration 18 on thread 18\n",
      "Task 12976234907380387391 is running iteration 39 on thread 1\n",
      "Task 2334555826473654957 is running iteration 2 on thread 3\n",
      "Task 932569524201183159 is running iteration 24 on thread 5\n",
      "Task 1456206511820410557 is running iteration 29 on thread 11\n",
      "Task 17146932182073289208 is running iteration 33 on thread 13\n",
      "Task 8175226105539416053 is running iteration 38 on thread 20\n",
      "Task 12976234907380387391 is running iteration 40 on thread 17\n",
      "Task 5920224698436511923 is running iteration 11 on thread 7\n",
      "Task 4617186243617402495 is running iteration 8 on thread 2\n",
      "Task 17429096267899513291 is running iteration 26 on thread 8\n",
      "Task 17146932182073289208 is running iteration 34 on thread 13\n",
      "Task 3352351138514429168 is running iteration 21 on thread 14\n",
      "Task 2635303779722905212 is running iteration 5 on thread 15\n",
      "Task 5920224698436511923 is running iteration 12 on thread 7\n",
      "Task 3352351138514429168 is running iteration 22 on thread 14\n",
      "Task 14794347298231942227 is running iteration 31 on thread 6\n",
      "Task 4046925930513478628 is running iteration 28 on thread 12\n",
      "Task 2635303779722905212 is running iteration 6 on thread 16\n",
      "Task 1456206511820410557 is running iteration 30 on thread 11\n",
      "Task 14794347298231942227 is running iteration 32 on thread 6\n",
      "Task 14917939166339266251 is running iteration 13 on thread 10\n",
      "Task 14917939166339266251 is running iteration 14 on thread 10\n"
     ]
    }
   ],
   "source": [
    "@threads :dynamic for i in 1:2*nthreads() # :dynamic is the default\n",
    "    println(\"Task \", taskid(), \" is running iteration \", i, \" on thread \", threadid());\n",
    "end"
   ]
  },
  {
   "cell_type": "code",
   "execution_count": 52,
   "metadata": {
    "tags": []
   },
   "outputs": [
    {
     "name": "stdout",
     "output_type": "stream",
     "text": [
      "Task 1827957562700085521 is running iteration 29 on thread 15\n",
      "Task 15080447750842879912 is running iteration 13 on thread 7\n",
      "Task 17212848033038027404 is running iteration 15 on thread 8\n",
      "Task 15080447750842879912 is running iteration 14 on thread 7\n",
      "Task 4181096287234378321 is running iteration 25 on thread 13\n",
      "Task 17212848033038027404 is running iteration 16 on thread 8\n",
      "Task 2422539776587132608 is running iteration 31 on thread 16\n",
      "Task 5888802459177255651 is running iteration 21 on thread 11\n",
      "Task 11836720808006269328 is running iteration 35 on thread 18\n",
      "Task 18204195275760155173 is running iteration 17 on thread 9\n",
      "Task 13184148433120921539 is running iteration 9 on thread 5\n",
      "Task 2422539776587132608 is running iteration 32 on thread 16\n",
      "Task 6081987171587628052 is running iteration 39 on thread 20\n",
      "Task 1827957562700085521 is running iteration 30 on thread 15\n",
      "Task 13184148433120921539 is running iteration 10 on thread 5\n",
      "Task 13516419472800020259 is running iteration 7 on thread 4\n",
      "Task 6081987171587628052 is running iteration 40 on thread 20\n",
      "Task 13219072274286403347 is running iteration 37 on thread 19\n",
      "Task 12941017569253540864 is running iteration 27 on thread 14\n",
      "Task 11836720808006269328 is running iteration 36 on thread 18\n",
      "Task 5888802459177255651 is running iteration 22 on thread 11\n",
      "Task 12925730172174688731 is running iteration 23 on thread 12\n",
      "Task 18204195275760155173 is running iteration 18 on thread 9\n",
      "Task 4181096287234378321 is running iteration 26 on thread 13\n",
      "Task 12925730172174688731 is running iteration 24 on thread 12\n",
      "Task 14144519237818511676 is running iteration 5 on thread 3\n",
      "Task 13516419472800020259 is running iteration 8 on thread 4\n",
      "Task 13219072274286403347 is running iteration 38 on thread 19\n",
      "Task 12751571397506704763 is running iteration 33 on thread 17\n",
      "Task 6235343364495222367 is running iteration 3 on thread 2\n",
      "Task 17807996413809258281 is running iteration 19 on thread 10\n",
      "Task 17042131864003194025 is running iteration 11 on thread 6\n",
      "Task 6235343364495222367 is running iteration 4 on thread 2\n",
      "Task 12751571397506704763 is running iteration 34 on thread 17\n",
      "Task 17042131864003194025 is running iteration 12 on thread 6\n",
      "Task 12941017569253540864 is running iteration 28 on thread 14\n",
      "Task 8612779208295341482 is running iteration 1 on thread 1\n",
      "Task 17807996413809258281 is running iteration 20 on thread 10\n",
      "Task 14144519237818511676 is running iteration 6 on thread 3\n",
      "Task 8612779208295341482 is running iteration 2 on thread 1\n"
     ]
    }
   ],
   "source": [
    "@threads :static for i in 1:2*nthreads()\n",
    "    println(\"Task \", taskid(), \" is running iteration \", i, \" on thread \", threadid());\n",
    "end"
   ]
  },
  {
   "cell_type": "markdown",
   "metadata": {},
   "source": [
    "For `@threads :static`, every thread handles precisely two iterations!"
   ]
  },
  {
   "cell_type": "markdown",
   "metadata": {
    "tags": []
   },
   "source": [
    "## Additional comments"
   ]
  },
  {
   "cell_type": "markdown",
   "metadata": {
    "tags": []
   },
   "source": [
    "### Tools for multi-threading\n",
    "\n",
    "* [OhMyThreads.jl](https://github.com/JuliaFolds2/OhMyThreads.jl): Simple tools for basic multithreading.\n",
    "* [ThreadsX.jl](https://github.com/JuliaFolds2/ThreadsX.jl): Parallelized Base functions\n",
    "* [Tullio.jl](https://github.com/mcabbott/Tullio.jl): Tullio is a very flexible einsum macro ([Einstein notation](https://en.wikipedia.org/wiki/Einstein_notation))\n",
    "* [(LoopVectorization.jl)](https://github.com/JuliaSIMD/LoopVectorization.jl): Macro(s) for vectorizing loops.\n",
    "* [(FLoops.jl)](https://github.com/JuliaFolds/FLoops.jl): Fast sequential, threaded, and distributed for-loops for Julia"
   ]
  },
  {
   "cell_type": "markdown",
   "metadata": {},
   "source": [
    "#### [OhMyThreads.jl](https://github.com/JuliaFolds2/OhMyThreads.jl)"
   ]
  },
  {
   "cell_type": "code",
   "execution_count": 53,
   "metadata": {
    "tags": []
   },
   "outputs": [
    {
     "name": "stderr",
     "output_type": "stream",
     "text": [
      "WARNING: import of OhMyThreads.tmap into Main conflicts with an existing identifier; ignored.\n"
     ]
    }
   ],
   "source": [
    "using OhMyThreads: treduce, tmap"
   ]
  },
  {
   "cell_type": "code",
   "execution_count": 54,
   "metadata": {
    "tags": []
   },
   "outputs": [
    {
     "data": {
      "text/plain": [
       "1.0002506701637233e7"
      ]
     },
     "metadata": {},
     "output_type": "display_data"
    }
   ],
   "source": [
    "treduce(+, data)"
   ]
  },
  {
   "cell_type": "code",
   "execution_count": 55,
   "metadata": {
    "tags": []
   },
   "outputs": [
    {
     "name": "stdout",
     "output_type": "stream",
     "text": [
      "  8.225 ms (246 allocations: 22.73 KiB)\n"
     ]
    }
   ],
   "source": [
    "@btime treduce($+, $data);"
   ]
  },
  {
   "cell_type": "code",
   "execution_count": 56,
   "metadata": {
    "tags": []
   },
   "outputs": [
    {
     "data": {
      "text/plain": [
       "20000000-element Vector{Float64}:\n",
       " 0.6478435584643568\n",
       " 0.4912827533474166\n",
       " 0.21776661510476794\n",
       " 0.45992253734398686\n",
       " 0.5863730461138157\n",
       " 0.7474236441445005\n",
       " 0.06958254905246472\n",
       " 0.6994061436516334\n",
       " 0.5583422149864956\n",
       " 0.22171506866869273\n",
       " ⋮\n",
       " 0.04829913678244404\n",
       " 0.7972029919311062\n",
       " 0.7906420544338759\n",
       " 0.4952310364817965\n",
       " 0.6152767915074189\n",
       " 0.3725335443444842\n",
       " 0.3350300233496753\n",
       " 0.6057218847241598\n",
       " 0.35866351587590833"
      ]
     },
     "metadata": {},
     "output_type": "display_data"
    }
   ],
   "source": [
    "tmap(sin, data)"
   ]
  },
  {
   "cell_type": "markdown",
   "metadata": {},
   "source": [
    "### Pinning Julia threads to CPU threads/cores"
   ]
  },
  {
   "cell_type": "markdown",
   "metadata": {},
   "source": [
    "A compute node has a complex topology (two sockets, multiple memory channels/domains). Placing the Julia threads systematically on CPU-threads matters for\n",
    "\n",
    "* the computation performance of your Julia codes\n",
    "* fluctuations/noises in benchmarks\n",
    "* hardware-level performance monitoring"
   ]
  },
  {
   "cell_type": "markdown",
   "metadata": {},
   "source": [
    "What about external tools like `numactl`, `taskset`, etc.? Doesn't work reliably because they often [can't distinguish](https://discourse.julialang.org/t/thread-affinitization-pinning-julia-threads-to-cores/58069/5) between Julia threads and other internal threads.\n",
    "\n",
    "**Options:**\n",
    "\n",
    "* `JULIA_EXCLUSIVE=1`\n",
    "* [ThreadPinning.jl](https://github.com/carstenbauer/ThreadPinning.jl)\n",
    "\n",
    "#### ThreadPinning.jl\n",
    "\n",
    "<!-- <br>\n",
    "<img src=\"imgs/threadpinning_pinthreads.svg\" width=600px>\n",
    "</br> -->\n",
    "\n",
    "`pinthreads(strategy)`\n",
    "* `:cputhreads` pin to CPU threads (incl. \"hypterthreads\") one after another\n",
    "* `:cores:` pin to CPU cores one after another\n",
    "* `:numa:` alternate between NUMA domains so, e.g., 0, 16, 32, 48, 64, .... (if a NUMA domain has 16 cores)\n",
    "* `:sockets:` alternate between sockets so, e.g., 0, 64, 1, 65, 2, 66, .... (if a socket has 64 cores)\n",
    "* `:affinitymask`: pin according to an external affinity mask (e.g. set by SLURM)\n",
    "\n",
    "(More? See my short talk at JuliaCon2023 @ MIT: https://youtu.be/6Whc9XtlCC0)"
   ]
  },
  {
   "cell_type": "code",
   "execution_count": null,
   "metadata": {
    "tags": []
   },
   "outputs": [],
   "source": [
    "pinthreads(:affinitymask)\n",
    "threadinfo(; slurm=true)"
   ]
  },
  {
   "cell_type": "markdown",
   "metadata": {},
   "source": [
    "### Garbage collection\n",
    "\n",
    "If it gets triggered, it stops the world (all threads) for clearing up memory.\n",
    "\n",
    "Hence, when using multithreading, it is even more important to **avoid heap allocations!**\n",
    "\n",
    "(If you can't avoid allocations, consider using multiprocessing instead.)"
   ]
  },
  {
   "cell_type": "markdown",
   "metadata": {},
   "source": [
    "### Atomic operations and locks\n",
    "\n",
    "See [Atomic Operations](https://docs.julialang.org/en/v1/manual/multi-threading/#Atomic-Operations) and/or [Data-race freedom](https://docs.julialang.org/en/v1/manual/multi-threading/#Data-race-freedom) in the Julia doc for more information. In general, one should avoid using them as much as possible since they actually limit the parallelization by serialized executions (especially if you don't know what you're doing). That said, locks can be an effective way to use a data structures that themselves aren't thread safe, e.g. `Dict`."
   ]
  },
  {
   "cell_type": "markdown",
   "metadata": {},
   "source": [
    "We'll explore the effect of thread pinning on performance in more detail later → **daxpy_cpu exercise**"
   ]
  }
 ],
 "metadata": {
  "@webio": {
   "lastCommId": null,
   "lastKernelId": null
  },
  "kernelspec": {
   "display_name": "Julia 1.10.0",
   "language": "julia",
   "name": "julia-1.10"
  },
  "language_info": {
   "file_extension": ".jl",
   "mimetype": "application/julia",
   "name": "julia",
   "version": "1.10.0"
  }
 },
 "nbformat": 4,
 "nbformat_minor": 4
}
