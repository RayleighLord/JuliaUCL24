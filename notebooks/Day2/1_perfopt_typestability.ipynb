{
 "cells": [
  {
   "cell_type": "markdown",
   "metadata": {},
   "source": [
    "# Optimizing Performance (Single-Core)"
   ]
  },
  {
   "cell_type": "markdown",
   "metadata": {},
   "source": [
    "At the heart of fast parallel code must be fast serial code. Parallelism can make a good serial code faster. But it can also make a bad code even worse. One can write terribly slow code in any language, including Julia. In this notebook we want to understand what makes Julia code slow and how to detect and avoid common pitfalls. This will lead to multiple concrete performance tips that will help you speed up your Julia code and to write more efficient code in the first place.\n",
    "\n",
    "By far the most common reasons for slow Julia code are\n",
    "\n",
    "* **break-down of type inference** (\"type instabilities\")\n",
    "* **(unnecessary) allocations**\n",
    "\n",
    "Once you have those under control you might want to care about\n",
    "\n",
    "* **memory access optimizations** (spatial and temporal locality)\n",
    "* **SIMD** (single-instruction multiple data)\n",
    "* etc."
   ]
  },
  {
   "cell_type": "markdown",
   "metadata": {},
   "source": [
    "## Type inference"
   ]
  },
  {
   "cell_type": "markdown",
   "metadata": {},
   "source": [
    "* **Type stability**: A function `f` is type stable if for a given set of input argument types the return type is always the same. In particular, it means that the type of the output of `f` cannot vary depending on the **values** of the inputs.\n",
    "\n",
    "\n",
    "* **Type instability**: The return type of a function `f` is not predictable just from the type of the input arguments alone.\n",
    "\n",
    "Instructive example: `f() = rand((1.23, 100, 1f0, \"string\"))`\n",
    "\n",
    "More loosely speaking:\n",
    "* type instability == `Any`'s appearing unexpectedly in `@code_warntype` output."
   ]
  },
  {
   "cell_type": "code",
   "execution_count": 1,
   "metadata": {
    "tags": []
   },
   "outputs": [
    {
     "data": {
      "text/plain": [
       "f (generic function with 1 method)"
      ]
     },
     "metadata": {},
     "output_type": "display_data"
    }
   ],
   "source": [
    "f() = rand((1.23, 100, 1f0, \"string\"))"
   ]
  },
  {
   "cell_type": "code",
   "execution_count": 2,
   "metadata": {
    "tags": []
   },
   "outputs": [
    {
     "data": {
      "text/plain": [
       "1.23"
      ]
     },
     "metadata": {},
     "output_type": "display_data"
    }
   ],
   "source": [
    "f()"
   ]
  },
  {
   "cell_type": "code",
   "execution_count": 3,
   "metadata": {
    "tags": []
   },
   "outputs": [
    {
     "name": "stdout",
     "output_type": "stream",
     "text": [
      "MethodInstance for f()\n",
      "  from f()\u001b[90m @\u001b[39m \u001b[90mMain\u001b[39m \u001b[90m~/JuliaUCL24/notebooks/Day2/\u001b[39m\u001b[90m\u001b[4m1_perfopt_typestability.ipynb:1\u001b[24m\u001b[39m\n",
      "Arguments\n",
      "  #self#"
     ]
    },
    {
     "name": "stdout",
     "output_type": "stream",
     "text": [
      "\u001b[36m::Core.Const(f)\u001b[39m\n",
      "Body\u001b[91m\u001b[1m::Any\u001b[22m\u001b[39m\n",
      "\u001b[90m1 ─\u001b[39m"
     ]
    },
    {
     "name": "stdout",
     "output_type": "stream",
     "text": [
      " %1 = Core"
     ]
    },
    {
     "name": "stdout",
     "output_type": "stream",
     "text": [
      ".tuple(1.23, 100, 1.0f0, \"string\")"
     ]
    },
    {
     "name": "stdout",
     "output_type": "stream",
     "text": [
      "\u001b[36m::Core.Const((1.23, 100, 1.0f0, \"string\"))\u001b[39m\n",
      "\u001b[90m│  \u001b[39m %2 = Main.rand(%1)\u001b[91m\u001b[1m::Any\u001b[22m\u001b[39m\n",
      "\u001b[90m└──\u001b[39m      return %2\n",
      "\n"
     ]
    }
   ],
   "source": [
    "@code_warntype f()"
   ]
  },
  {
   "cell_type": "markdown",
   "metadata": {},
   "source": [
    "### Example: Global scope"
   ]
  },
  {
   "cell_type": "markdown",
   "metadata": {},
   "source": [
    "A typical cause of type instability are global variables. From a compiler perspective, variables defined in global scope **can change their value and even their type(!) any time**."
   ]
  },
  {
   "cell_type": "code",
   "execution_count": 4,
   "metadata": {},
   "outputs": [
    {
     "data": {
      "text/plain": [
       "f (generic function with 1 method)"
      ]
     },
     "metadata": {},
     "output_type": "display_data"
    }
   ],
   "source": [
    "a_glob = 2.0\n",
    "b_glob = 3.0\n",
    "\n",
    "f() = 2 * a_glob + b_glob"
   ]
  },
  {
   "cell_type": "code",
   "execution_count": 5,
   "metadata": {},
   "outputs": [
    {
     "data": {
      "text/plain": [
       "7.0"
      ]
     },
     "metadata": {},
     "output_type": "display_data"
    }
   ],
   "source": [
    "f()"
   ]
  },
  {
   "cell_type": "code",
   "execution_count": 6,
   "metadata": {},
   "outputs": [
    {
     "name": "stdout",
     "output_type": "stream",
     "text": [
      "\u001b[90m;  @ /home/javier/JuliaUCL24/notebooks/Day2/1_perfopt_typestability.ipynb:4 within `f`\u001b[39m\n",
      "\u001b[95mdefine\u001b[39m \u001b[95mnonnull\u001b[39m \u001b[33m{\u001b[39m\u001b[33m}\u001b[39m\u001b[0m* \u001b[93m@julia_f_1356\u001b[39m\u001b[33m(\u001b[39m\u001b[33m)\u001b[39m \u001b[0m#0 \u001b[33m{\u001b[39m\n",
      "\u001b[91mtop:\u001b[39m\n",
      "  \u001b[0m%0 "
     ]
    },
    {
     "name": "stdout",
     "output_type": "stream",
     "text": [
      "\u001b[0m= \u001b[96m\u001b[1malloca\u001b[22m\u001b[39m \u001b[33m[\u001b[39m\u001b[33m2\u001b[39m \u001b[0mx \u001b[33m{\u001b[39m\u001b[33m}\u001b[39m\u001b[0m*\u001b[33m]\u001b[39m\u001b[0m, \u001b[95malign\u001b[39m \u001b[33m8\u001b[39m\n",
      "  \u001b[0m%gcframe2 \u001b[0m= \u001b[96m\u001b[1malloca\u001b[22m\u001b[39m \u001b[33m[\u001b[39m\u001b[33m4\u001b[39m \u001b[0mx \u001b[33m{\u001b[39m\u001b[33m}\u001b[39m\u001b[0m*\u001b[33m]\u001b[39m\u001b[0m, \u001b[95malign\u001b[39m \u001b[33m16\u001b[39m\n",
      "  \u001b[0m%gcframe2.sub \u001b[0m= \u001b[96m\u001b[1mgetelementptr\u001b[22m\u001b[39m \u001b[95minbounds\u001b[39m \u001b[33m[\u001b[39m\u001b[33m4\u001b[39m \u001b[0mx \u001b[33m{\u001b[39m\u001b[33m}\u001b[39m\u001b[0m*\u001b[33m]\u001b[39m\u001b[0m, \u001b[33m[\u001b[39m\u001b[33m4\u001b[39m \u001b[0mx \u001b[33m{\u001b[39m\u001b[33m}\u001b[39m\u001b[0m*\u001b[33m]\u001b[39m\u001b[0m* \u001b[0m%gcframe2\u001b[0m, \u001b[36mi64\u001b[39m \u001b[33m0\u001b[39m\u001b[0m, \u001b[36mi64\u001b[39m \u001b[33m0\u001b[39m\n",
      "  \u001b[0m%.sub \u001b[0m= \u001b[96m\u001b[1mgetelementptr\u001b[22m\u001b[39m \u001b[95minbounds\u001b[39m \u001b[33m[\u001b[39m\u001b[33m2\u001b[39m \u001b[0mx \u001b[33m{\u001b[39m\u001b[33m}\u001b[39m\u001b[0m*\u001b[33m]\u001b[39m\u001b[0m, \u001b[33m[\u001b[39m\u001b[33m2\u001b[39m \u001b[0mx \u001b[33m{\u001b[39m\u001b[33m}\u001b[39m\u001b[0m*\u001b[33m]\u001b[39m\u001b[0m* \u001b[0m%0\u001b[0m, \u001b[36mi64\u001b[39m \u001b[33m0\u001b[39m\u001b[0m, \u001b[36mi64\u001b[39m \u001b[33m0\u001b[39m\n",
      "  \u001b[0m%1 \u001b[0m= \u001b[96m\u001b[1mbitcast\u001b[22m\u001b[39m \u001b[33m[\u001b[39m\u001b[33m4\u001b[39m \u001b[0mx \u001b[33m{\u001b[39m\u001b[33m}\u001b[39m\u001b[0m*\u001b[33m]\u001b[39m\u001b[0m* \u001b[0m%gcframe2 \u001b[95mto\u001b[39m \u001b[36mi8\u001b[39m\u001b[0m*\n",
      "  \u001b[96m\u001b[1mcall\u001b[22m\u001b[39m \u001b[36mvoid\u001b[39m \u001b[93m@llvm.memset.p0i8.i64\u001b[39m\u001b[33m(\u001b[39m\u001b[36mi8\u001b[39m\u001b[0m* \u001b[95malign\u001b[39m \u001b[33m16\u001b[39m \u001b[0m%1\u001b[0m, \u001b[36mi8\u001b[39m \u001b[33m0\u001b[39m\u001b[0m, \u001b[36mi64\u001b[39m \u001b[33m32\u001b[39m\u001b[0m, \u001b[36mi1\u001b[39m \u001b[95mtrue\u001b[39m\u001b[33m)\u001b[39m\n",
      "  \u001b[0m%thread_ptr \u001b[0m= \u001b[95mcall\u001b[39m \u001b[36mi8\u001b[39m\u001b[0m* \u001b[95masm\u001b[39m \u001b[0m\"movq %fs:0, $0\"\u001b[0m, \u001b[0m\"=r\"\u001b[33m(\u001b[39m\u001b[33m)\u001b[39m \u001b[0m#6\n",
      "  \u001b[0m%tls_ppgcstack \u001b[0m= \u001b[96m\u001b[1mgetelementptr\u001b[22m\u001b[39m \u001b[36mi8\u001b[39m\u001b[0m, \u001b[36mi8\u001b[39m\u001b[0m* \u001b[0m%thread_ptr\u001b[0m, \u001b[36mi64\u001b[39m \u001b[33m-8\u001b[39m\n",
      "  \u001b[0m%2 \u001b[0m= \u001b[96m\u001b[1mbitcast\u001b[22m\u001b[39m \u001b[36mi8\u001b[39m\u001b[0m* \u001b[0m%tls_ppgcstack \u001b[95mto\u001b[39m \u001b[33m{\u001b[39m\u001b[33m}\u001b[39m\u001b[0m****\n",
      "  \u001b[0m%tls_pgcstack \u001b[0m= \u001b[96m\u001b[1mload\u001b[22m\u001b[39m \u001b[33m{\u001b[39m\u001b[33m}\u001b[39m\u001b[0m***\u001b[0m, \u001b[33m{\u001b[39m\u001b[33m}\u001b[39m\u001b[0m**** \u001b[0m%2\u001b[0m, \u001b[95malign\u001b[39m \u001b[33m8\u001b[39m\n",
      "  \u001b[0m%3 \u001b[0m= \u001b[96m\u001b[1mbitcast\u001b[22m\u001b[39m \u001b[33m[\u001b[39m\u001b[33m4\u001b[39m \u001b[0mx \u001b[33m{\u001b[39m\u001b[33m}\u001b[39m\u001b[0m*\u001b[33m]\u001b[39m\u001b[0m* \u001b[0m%gcframe2 \u001b[95mto\u001b[39m \u001b[36mi64\u001b[39m\u001b[0m*\n",
      "  \u001b[96m\u001b[1mstore\u001b[22m\u001b[39m \u001b[36mi64\u001b[39m \u001b[33m8\u001b[39m\u001b[0m, \u001b[36mi64\u001b[39m\u001b[0m* \u001b[0m%3\u001b[0m, \u001b[95malign\u001b[39m \u001b[33m16\u001b[39m\n",
      "  \u001b[0m%4 \u001b[0m= \u001b[96m\u001b[1mgetelementptr\u001b[22m\u001b[39m \u001b[95minbounds\u001b[39m \u001b[33m[\u001b[39m\u001b[33m4\u001b[39m \u001b[0mx \u001b[33m{\u001b[39m\u001b[33m}\u001b[39m\u001b[0m*\u001b[33m]\u001b[39m\u001b[0m, \u001b[33m[\u001b[39m\u001b[33m4\u001b[39m \u001b[0mx \u001b[33m{\u001b[39m\u001b[33m}\u001b[39m\u001b[0m*\u001b[33m]\u001b[39m\u001b[0m* \u001b[0m%gcframe2\u001b[0m, \u001b[36mi64\u001b[39m \u001b[33m0\u001b[39m\u001b[0m, \u001b[36mi64\u001b[39m \u001b[33m1\u001b[39m\n",
      "  \u001b[0m%5 \u001b[0m= \u001b[96m\u001b[1mbitcast\u001b[22m\u001b[39m \u001b[33m{\u001b[39m\u001b[33m}\u001b[39m\u001b[0m** \u001b[0m%4 \u001b[95mto\u001b[39m \u001b[33m{\u001b[39m\u001b[33m}\u001b[39m\u001b[0m***\n",
      "  \u001b[0m%6 \u001b[0m= \u001b[96m\u001b[1mload\u001b[22m\u001b[39m \u001b[33m{\u001b[39m\u001b[33m}\u001b[39m\u001b[0m**\u001b[0m, \u001b[33m{\u001b[39m\u001b[33m}\u001b[39m\u001b[0m*** \u001b[0m%tls_pgcstack\u001b[0m, \u001b[95malign\u001b[39m \u001b[33m8\u001b[39m\n",
      "  \u001b[96m\u001b[1mstore\u001b[22m\u001b[39m \u001b[33m{\u001b[39m\u001b[33m}\u001b[39m\u001b[0m** \u001b[0m%6\u001b[0m, \u001b[33m{\u001b[39m\u001b[33m}\u001b[39m\u001b[0m*** \u001b[0m%5\u001b[0m, \u001b[95malign\u001b[39m \u001b[33m8\u001b[39m\n",
      "  \u001b[0m%7 \u001b[0m= \u001b[96m\u001b[1mbitcast\u001b[22m\u001b[39m \u001b[33m{\u001b[39m\u001b[33m}\u001b[39m\u001b[0m*** \u001b[0m%tls_pgcstack \u001b[95mto\u001b[39m \u001b[33m{\u001b[39m\u001b[33m}\u001b[39m\u001b[0m***\n",
      "  \u001b[96m\u001b[1mstore\u001b[22m\u001b[39m \u001b[33m{\u001b[39m\u001b[33m}\u001b[39m\u001b[0m** \u001b[0m%gcframe2.sub\u001b[0m, \u001b[33m{\u001b[39m\u001b[33m}\u001b[39m\u001b[0m*** \u001b[0m%7\u001b[0m, \u001b[95malign\u001b[39m \u001b[33m8\u001b[39m\n",
      "  \u001b[0m%a_glob \u001b[0m= \u001b[96m\u001b[1mload\u001b[22m\u001b[39m \u001b[95matomic\u001b[39m \u001b[33m{\u001b[39m\u001b[33m}\u001b[39m\u001b[0m*\u001b[0m, \u001b[33m{\u001b[39m\u001b[33m}\u001b[39m\u001b[0m** \u001b[95minttoptr\u001b[39m \u001b[33m(\u001b[39m\u001b[36mi64\u001b[39m \u001b[33m140444916446880\u001b[39m \u001b[95mto\u001b[39m \u001b[33m{\u001b[39m\u001b[33m}\u001b[39m\u001b[0m**\u001b[33m)\u001b[39m \u001b[95munordered\u001b[39m\u001b[0m, \u001b[95malign\u001b[39m \u001b[33m32\u001b[39m\n",
      "  \u001b[0m%8 \u001b[0m= \u001b[96m\u001b[1mgetelementptr\u001b[22m\u001b[39m \u001b[95minbounds\u001b[39m \u001b[33m[\u001b[39m\u001b[33m4\u001b[39m \u001b[0mx \u001b[33m{\u001b[39m\u001b[33m}\u001b[39m\u001b[0m*\u001b[33m]\u001b[39m\u001b[0m, \u001b[33m[\u001b[39m\u001b[33m4\u001b[39m \u001b[0mx \u001b[33m{\u001b[39m\u001b[33m}\u001b[39m\u001b[0m*\u001b[33m]\u001b[39m\u001b[0m* \u001b[0m%gcframe2\u001b[0m, \u001b[36mi64\u001b[39m \u001b[33m0\u001b[39m\u001b[0m, \u001b[36mi64\u001b[39m \u001b[33m2\u001b[39m\n",
      "  \u001b[96m\u001b[1mstore\u001b[22m\u001b[39m \u001b[33m{\u001b[39m\u001b[33m}\u001b[39m\u001b[0m* \u001b[0m%a_glob\u001b[0m, \u001b[33m{\u001b[39m\u001b[33m}\u001b[39m\u001b[0m** \u001b[0m%8\u001b[0m, \u001b[95malign\u001b[39m \u001b[33m16\u001b[39m\n",
      "  \u001b[96m\u001b[1mstore\u001b[22m\u001b[39m \u001b[33m{\u001b[39m\u001b[33m}\u001b[39m\u001b[0m* \u001b[95minttoptr\u001b[39m \u001b[33m(\u001b[39m\u001b[36mi64\u001b[39m \u001b[33m140444941591168\u001b[39m \u001b[95mto\u001b[39m \u001b[33m{\u001b[39m\u001b[33m}\u001b[39m\u001b[0m*\u001b[33m)\u001b[39m\u001b[0m, \u001b[33m{\u001b[39m\u001b[33m}\u001b[39m\u001b[0m** \u001b[0m%.sub\u001b[0m, \u001b[95malign\u001b[39m \u001b[33m8\u001b[39m\n",
      "  \u001b[0m%9 \u001b[0m= \u001b[96m\u001b[1mgetelementptr\u001b[22m\u001b[39m \u001b[95minbounds\u001b[39m \u001b[33m[\u001b[39m\u001b[33m2\u001b[39m \u001b[0mx \u001b[33m{\u001b[39m\u001b[33m}\u001b[39m\u001b[0m*\u001b[33m]\u001b[39m\u001b[0m, \u001b[33m[\u001b[39m\u001b[33m2\u001b[39m \u001b[0mx \u001b[33m{\u001b[39m\u001b[33m}\u001b[39m\u001b[0m*\u001b[33m]\u001b[39m\u001b[0m* \u001b[0m%0\u001b[0m, \u001b[36mi64\u001b[39m \u001b[33m0\u001b[39m\u001b[0m, \u001b[36mi64\u001b[39m \u001b[33m1\u001b[39m\n",
      "  \u001b[96m\u001b[1mstore\u001b[22m\u001b[39m \u001b[33m{\u001b[39m\u001b[33m}\u001b[39m\u001b[0m* \u001b[0m%a_glob\u001b[0m, \u001b[33m{\u001b[39m\u001b[33m}\u001b[39m\u001b[0m** \u001b[0m%9\u001b[0m, \u001b[95malign\u001b[39m \u001b[33m8\u001b[39m\n",
      "  \u001b[0m%10 \u001b[0m= \u001b[96m\u001b[1mcall\u001b[22m\u001b[39m \u001b[95mnonnull\u001b[39m \u001b[33m{\u001b[39m\u001b[33m}\u001b[39m\u001b[0m* \u001b[93m@ijl_apply_generic\u001b[39m\u001b[33m(\u001b[39m\u001b[33m{\u001b[39m\u001b[33m}\u001b[39m\u001b[0m* \u001b[95minttoptr\u001b[39m \u001b[33m(\u001b[39m\u001b[36mi64\u001b[39m \u001b[33m140444718755008\u001b[39m \u001b[95mto\u001b[39m \u001b[33m{\u001b[39m\u001b[33m}\u001b[39m\u001b[0m*\u001b[33m)\u001b[39m\u001b[0m, \u001b[33m{\u001b[39m\u001b[33m}\u001b[39m\u001b[0m** \u001b[95mnonnull\u001b[39m \u001b[0m%.sub\u001b[0m, \u001b[36mi32\u001b[39m \u001b[33m2\u001b[39m\u001b[33m)\u001b[39m\n",
      "  \u001b[0m%b_glob \u001b[0m= \u001b[96m\u001b[1mload\u001b[22m\u001b[39m \u001b[95matomic\u001b[39m \u001b[33m{\u001b[39m\u001b[33m}\u001b[39m\u001b[0m*\u001b[0m, \u001b[33m{\u001b[39m\u001b[33m}\u001b[39m\u001b[0m** \u001b[95minttoptr\u001b[39m \u001b[33m(\u001b[39m\u001b[36mi64\u001b[39m \u001b[33m140444916447120\u001b[39m \u001b[95mto\u001b[39m \u001b[33m{\u001b[39m\u001b[33m}\u001b[39m\u001b[0m**\u001b[33m)\u001b[39m \u001b[95munordered\u001b[39m\u001b[0m, \u001b[95malign\u001b[39m \u001b[33m16\u001b[39m\n",
      "  \u001b[0m%11 \u001b[0m= \u001b[96m\u001b[1mgetelementptr\u001b[22m\u001b[39m \u001b[95minbounds\u001b[39m \u001b[33m[\u001b[39m\u001b[33m4\u001b[39m \u001b[0mx \u001b[33m{\u001b[39m\u001b[33m}\u001b[39m\u001b[0m*\u001b[33m]\u001b[39m\u001b[0m, \u001b[33m[\u001b[39m\u001b[33m4\u001b[39m \u001b[0mx \u001b[33m{\u001b[39m\u001b[33m}\u001b[39m\u001b[0m*\u001b[33m]\u001b[39m\u001b[0m* \u001b[0m%gcframe2\u001b[0m, \u001b[36mi64\u001b[39m \u001b[33m0\u001b[39m\u001b[0m, \u001b[36mi64\u001b[39m \u001b[33m3\u001b[39m\n",
      "  \u001b[96m\u001b[1mstore\u001b[22m\u001b[39m \u001b[33m{\u001b[39m\u001b[33m}\u001b[39m\u001b[0m* \u001b[0m%10\u001b[0m, \u001b[33m{\u001b[39m\u001b[33m}\u001b[39m\u001b[0m** \u001b[0m%11\u001b[0m, \u001b[95malign\u001b[39m \u001b[33m8\u001b[39m\n",
      "  \u001b[96m\u001b[1mstore\u001b[22m\u001b[39m \u001b[33m{\u001b[39m\u001b[33m}\u001b[39m\u001b[0m* \u001b[0m%b_glob\u001b[0m, \u001b[33m{\u001b[39m\u001b[33m}\u001b[39m\u001b[0m** \u001b[0m%8\u001b[0m, \u001b[95malign\u001b[39m \u001b[33m16\u001b[39m\n",
      "  \u001b[96m\u001b[1mstore\u001b[22m\u001b[39m \u001b[33m{\u001b[39m\u001b[33m}\u001b[39m\u001b[0m* \u001b[0m%10\u001b[0m, \u001b[33m{\u001b[39m\u001b[33m}\u001b[39m\u001b[0m** \u001b[0m%.sub\u001b[0m, \u001b[95malign\u001b[39m \u001b[33m8\u001b[39m\n",
      "  \u001b[96m\u001b[1mstore\u001b[22m\u001b[39m \u001b[33m{\u001b[39m\u001b[33m}\u001b[39m\u001b[0m* \u001b[0m%b_glob\u001b[0m, \u001b[33m{\u001b[39m\u001b[33m}\u001b[39m\u001b[0m** \u001b[0m%9\u001b[0m, \u001b[95malign\u001b[39m \u001b[33m8\u001b[39m\n",
      "  \u001b[0m%12 \u001b[0m= \u001b[96m\u001b[1mcall\u001b[22m\u001b[39m \u001b[95mnonnull\u001b[39m \u001b[33m{\u001b[39m\u001b[33m}\u001b[39m\u001b[0m* \u001b[93m@ijl_apply_generic\u001b[39m\u001b[33m(\u001b[39m\u001b[33m{\u001b[39m\u001b[33m}\u001b[39m\u001b[0m* \u001b[95minttoptr\u001b[39m \u001b[33m(\u001b[39m\u001b[36mi64\u001b[39m \u001b[33m140444714163584\u001b[39m \u001b[95mto\u001b[39m \u001b[33m{\u001b[39m\u001b[33m}\u001b[39m\u001b[0m*\u001b[33m)\u001b[39m\u001b[0m, \u001b[33m{\u001b[39m\u001b[33m}\u001b[39m\u001b[0m** \u001b[95mnonnull\u001b[39m \u001b[0m%.sub\u001b[0m, \u001b[36mi32\u001b[39m \u001b[33m2\u001b[39m\u001b[33m)\u001b[39m\n",
      "  \u001b[0m%13 \u001b[0m= \u001b[96m\u001b[1mload\u001b[22m\u001b[39m \u001b[33m{\u001b[39m\u001b[33m}\u001b[39m\u001b[0m*\u001b[0m, \u001b[33m{\u001b[39m\u001b[33m}\u001b[39m\u001b[0m** \u001b[0m%4\u001b[0m, \u001b[95malign\u001b[39m \u001b[33m8\u001b[39m\n",
      "  \u001b[0m%14 \u001b[0m= \u001b[96m\u001b[1mbitcast\u001b[22m\u001b[39m \u001b[33m{\u001b[39m\u001b[33m}\u001b[39m\u001b[0m*** \u001b[0m%tls_pgcstack \u001b[95mto\u001b[39m \u001b[33m{\u001b[39m\u001b[33m}\u001b[39m\u001b[0m**\n",
      "  \u001b[96m\u001b[1mstore\u001b[22m\u001b[39m \u001b[33m{\u001b[39m\u001b[33m}\u001b[39m\u001b[0m* \u001b[0m%13\u001b[0m, \u001b[33m{\u001b[39m\u001b[33m}\u001b[39m\u001b[0m** \u001b[0m%14\u001b[0m, \u001b[95malign\u001b[39m \u001b[33m8\u001b[39m\n",
      "  \u001b[96m\u001b[1mret\u001b[22m\u001b[39m \u001b[33m{\u001b[39m\u001b[33m}\u001b[39m\u001b[0m* \u001b[0m%12\n",
      "\u001b[33m}\u001b[39m\n"
     ]
    }
   ],
   "source": [
    "@code_llvm f()"
   ]
  },
  {
   "cell_type": "code",
   "execution_count": 7,
   "metadata": {},
   "outputs": [
    {
     "name": "stdout",
     "output_type": "stream",
     "text": [
      "MethodInstance for f()\n",
      "  from f()\u001b[90m @\u001b[39m \u001b[90mMain\u001b[39m \u001b[90m~/JuliaUCL24/notebooks/Day2/\u001b[39m\u001b[90m\u001b[4m1_perfopt_typestability.ipynb:4\u001b[24m\u001b[39m\n",
      "Arguments\n",
      "  #self#\u001b[36m::Core.Const(f)\u001b[39m\n",
      "Body\u001b[91m\u001b[1m::Any\u001b[22m\u001b[39m\n",
      "\u001b[90m1 ─\u001b[39m %1 = (2 * Main.a_glob)\u001b[91m\u001b[1m::Any\u001b[22m\u001b[39m\n",
      "\u001b[90m│  \u001b[39m %2 = (%1 + Main.b_glob)\u001b[91m\u001b[1m::Any\u001b[22m\u001b[39m\n",
      "\u001b[90m└──\u001b[39m      return %2\n",
      "\n"
     ]
    }
   ],
   "source": [
    "@code_warntype f()"
   ]
  },
  {
   "cell_type": "markdown",
   "metadata": {},
   "source": [
    "#### Fix 1: Make globals `const`ant"
   ]
  },
  {
   "cell_type": "code",
   "execution_count": 8,
   "metadata": {},
   "outputs": [
    {
     "data": {
      "text/plain": [
       "7.0"
      ]
     },
     "metadata": {},
     "output_type": "display_data"
    }
   ],
   "source": [
    "const a_glob_const = 2.0\n",
    "const b_glob_const = 3.0\n",
    "\n",
    "f() = 2 * a_glob_const + b_glob_const\n",
    "\n",
    "f()"
   ]
  },
  {
   "cell_type": "code",
   "execution_count": 9,
   "metadata": {},
   "outputs": [
    {
     "name": "stdout",
     "output_type": "stream",
     "text": [
      "MethodInstance for f()\n",
      "  from f()\u001b[90m @\u001b[39m \u001b[90mMain\u001b[39m \u001b[90m~/JuliaUCL24/notebooks/Day2/\u001b[39m\u001b[90m\u001b[4m1_perfopt_typestability.ipynb:4\u001b[24m\u001b[39m\n",
      "Arguments\n",
      "  #self#\u001b[36m::Core.Const(f)\u001b[39m\n",
      "Body\u001b[36m::Float64\u001b[39m\n",
      "\u001b[90m1 ─\u001b[39m %1 = (2 * Main.a_glob_const)\u001b[36m::Core.Const(4.0)\u001b[39m\n",
      "\u001b[90m│  \u001b[39m %2 = (%1 + Main.b_glob_const)\u001b[36m::Core.Const(7.0)\u001b[39m\n",
      "\u001b[90m└──\u001b[39m      return %2\n",
      "\n"
     ]
    }
   ],
   "source": [
    "@code_warntype f() # type stable!"
   ]
  },
  {
   "cell_type": "code",
   "execution_count": 10,
   "metadata": {},
   "outputs": [
    {
     "name": "stdout",
     "output_type": "stream",
     "text": [
      "\u001b[90m;  @ /home/javier/JuliaUCL24/notebooks/Day2/1_perfopt_typestability.ipynb:4 within `f`\u001b[39m\n",
      "\u001b[95mdefine\u001b[39m \u001b[36mdouble\u001b[39m \u001b[93m@julia_f_1380\u001b[39m\u001b[33m(\u001b[39m\u001b[33m)\u001b[39m \u001b[0m#0 \u001b[33m{\u001b[39m\n",
      "\u001b[91mtop:\u001b[39m\n",
      "  \u001b[96m\u001b[1mret\u001b[22m\u001b[39m \u001b[36mdouble\u001b[39m \u001b[33m7.000000e+00\u001b[39m\n",
      "\u001b[33m}\u001b[39m\n"
     ]
    }
   ],
   "source": [
    "@code_llvm f()"
   ]
  },
  {
   "cell_type": "markdown",
   "metadata": {},
   "source": [
    "This is fast. In fact, it's not just fast, but **as fast as it can be**! Julia has figured out the result of the calculation at compile-time."
   ]
  },
  {
   "cell_type": "markdown",
   "metadata": {},
   "source": [
    "#### Fix 2: Write self-contained functions"
   ]
  },
  {
   "cell_type": "code",
   "execution_count": 11,
   "metadata": {},
   "outputs": [
    {
     "data": {
      "text/plain": [
       "f (generic function with 2 methods)"
      ]
     },
     "metadata": {},
     "output_type": "display_data"
    }
   ],
   "source": [
    "f(a,b) = 2a+b"
   ]
  },
  {
   "cell_type": "code",
   "execution_count": 12,
   "metadata": {},
   "outputs": [
    {
     "name": "stdout",
     "output_type": "stream",
     "text": [
      "MethodInstance for f(::Float64, ::Float64)\n",
      "  from f(\u001b[90ma\u001b[39m, \u001b[90mb\u001b[39m)\u001b[90m @\u001b[39m \u001b[90mMain\u001b[39m \u001b[90m~/JuliaUCL24/notebooks/Day2/\u001b[39m\u001b[90m\u001b[4m1_perfopt_typestability.ipynb:1\u001b[24m\u001b[39m\n",
      "Arguments\n",
      "  #self#\u001b[36m::Core.Const(f)\u001b[39m\n",
      "  a\u001b[36m::Float64\u001b[39m\n",
      "  b\u001b[36m::Float64\u001b[39m\n",
      "Body\u001b[36m::Float64\u001b[39m\n",
      "\u001b[90m1 ─\u001b[39m %1 = (2 * a)\u001b[36m::Float64\u001b[39m\n",
      "\u001b[90m│  \u001b[39m %2 = (%1 + b)\u001b[36m::Float64\u001b[39m\n",
      "\u001b[90m└──\u001b[39m      return %2\n",
      "\n"
     ]
    }
   ],
   "source": [
    "@code_warntype f(2.0,3.0)"
   ]
  },
  {
   "cell_type": "markdown",
   "metadata": {},
   "source": [
    "## Type inference: Avoid abstract field types"
   ]
  },
  {
   "cell_type": "markdown",
   "metadata": {},
   "source": [
    "A common reason for type inference to break are **not-concretely typed fields** in `struct`s."
   ]
  },
  {
   "cell_type": "markdown",
   "metadata": {},
   "source": [
    "### Example"
   ]
  },
  {
   "cell_type": "code",
   "execution_count": 13,
   "metadata": {},
   "outputs": [],
   "source": [
    "using BenchmarkTools"
   ]
  },
  {
   "cell_type": "code",
   "execution_count": 14,
   "metadata": {},
   "outputs": [
    {
     "data": {
      "text/plain": [
       "f (generic function with 3 methods)"
      ]
     },
     "metadata": {},
     "output_type": "display_data"
    }
   ],
   "source": [
    "struct MyType\n",
    "    x::Number\n",
    "    y\n",
    "end\n",
    "\n",
    "f(a::MyType) = a.x^2 + sqrt(a.x)"
   ]
  },
  {
   "cell_type": "code",
   "execution_count": 15,
   "metadata": {},
   "outputs": [
    {
     "name": "stdout",
     "output_type": "stream",
     "text": [
      "MethodInstance for f(::MyType)\n",
      "  from f(\u001b[90ma\u001b[39m::\u001b[1mMyType\u001b[22m)\u001b[90m @\u001b[39m \u001b[90mMain\u001b[39m \u001b[90m~/JuliaUCL24/notebooks/Day2/\u001b[39m\u001b[90m\u001b[4m1_perfopt_typestability.ipynb:6\u001b[24m\u001b[39m\n",
      "Arguments\n",
      "  #self#\u001b[36m::Core.Const(f)\u001b[39m\n",
      "  a\u001b[36m::MyType\u001b[39m\n",
      "Body\u001b[91m\u001b[1m::Any\u001b[22m\u001b[39m\n",
      "\u001b[90m1 ─\u001b[39m %1 = Main.:^\u001b[36m::Core.Const(^)\u001b[39m\n",
      "\u001b[90m│  \u001b[39m %2 = Base.getproperty(a, :x)\u001b[91m\u001b[1m::Number\u001b[22m\u001b[39m\n",
      "\u001b[90m│  \u001b[39m %3 = Core.apply_type(Base.Val, 2)\u001b[36m::Core.Const(Val{2})\u001b[39m\n",
      "\u001b[90m│  \u001b[39m %4 = (%3)()\u001b[36m::Core.Const(Val{2}())\u001b[39m\n",
      "\u001b[90m│  \u001b[39m %5 = Base.literal_pow(%1, %2, %4)\u001b[91m\u001b[1m::Any\u001b[22m\u001b[39m\n",
      "\u001b[90m│  \u001b[39m %6 = Base.getproperty(a, :x)\u001b[91m\u001b[1m::Number\u001b[22m\u001b[39m\n",
      "\u001b[90m│  \u001b[39m %7 = Main.sqrt(%6)\u001b[91m\u001b[1m::Any\u001b[22m\u001b[39m\n",
      "\u001b[90m│  \u001b[39m %8 = (%5 + %7)\u001b[91m\u001b[1m::Any\u001b[22m\u001b[39m\n",
      "\u001b[90m└──\u001b[39m      return %8\n",
      "\n"
     ]
    }
   ],
   "source": [
    "a = MyType(3.0, \"test\")\n",
    "\n",
    "@code_warntype f(a);"
   ]
  },
  {
   "cell_type": "code",
   "execution_count": 16,
   "metadata": {},
   "outputs": [
    {
     "name": "stdout",
     "output_type": "stream",
     "text": [
      "  40.061 ns (3 allocations: 48 bytes)\n"
     ]
    }
   ],
   "source": [
    "@btime f($a);"
   ]
  },
  {
   "cell_type": "code",
   "execution_count": 17,
   "metadata": {},
   "outputs": [
    {
     "data": {
      "text/plain": [
       "MyType"
      ]
     },
     "metadata": {},
     "output_type": "display_data"
    }
   ],
   "source": [
    "typeof(a)"
   ]
  },
  {
   "cell_type": "markdown",
   "metadata": {},
   "source": [
    "#### Fix 1: Concrete typing"
   ]
  },
  {
   "cell_type": "code",
   "execution_count": 18,
   "metadata": {},
   "outputs": [
    {
     "data": {
      "text/plain": [
       "f (generic function with 4 methods)"
      ]
     },
     "metadata": {},
     "output_type": "display_data"
    }
   ],
   "source": [
    "struct MyTypeConcrete\n",
    "    x::Float64\n",
    "    y::String\n",
    "end\n",
    "\n",
    "f(b::MyTypeConcrete) = b.x^2 + sqrt(b.x)"
   ]
  },
  {
   "cell_type": "code",
   "execution_count": 19,
   "metadata": {},
   "outputs": [
    {
     "name": "stdout",
     "output_type": "stream",
     "text": [
      "MethodInstance for f(::MyTypeConcrete)\n",
      "  from f(\u001b[90mb\u001b[39m::\u001b[1mMyTypeConcrete\u001b[22m)\u001b[90m @\u001b[39m \u001b[90mMain\u001b[39m \u001b[90m~/JuliaUCL24/notebooks/Day2/\u001b[39m\u001b[90m\u001b[4m1_perfopt_typestability.ipynb:6\u001b[24m\u001b[39m\n",
      "Arguments\n",
      "  #self#\u001b[36m::Core.Const(f)\u001b[39m\n",
      "  b\u001b[36m::MyTypeConcrete\u001b[39m\n",
      "Body\u001b[36m::Float64\u001b[39m\n",
      "\u001b[90m1 ─\u001b[39m %1 = Main.:^\u001b[36m::Core.Const(^)\u001b[39m\n",
      "\u001b[90m│  \u001b[39m %2 = Base.getproperty(b, :x)\u001b[36m::Float64\u001b[39m\n",
      "\u001b[90m│  \u001b[39m %3 = Core.apply_type(Base.Val, 2)\u001b[36m::Core.Const(Val{2})\u001b[39m\n",
      "\u001b[90m│  \u001b[39m %4 = (%3)()\u001b[36m::Core.Const(Val{2}())\u001b[39m\n",
      "\u001b[90m│  \u001b[39m %5 = Base.literal_pow(%1, %2, %4)\u001b[36m::Float64\u001b[39m\n",
      "\u001b[90m│  \u001b[39m %6 = Base.getproperty(b, :x)\u001b[36m::Float64\u001b[39m\n",
      "\u001b[90m│  \u001b[39m %7 = Main.sqrt(%6)\u001b[36m::Float64\u001b[39m\n",
      "\u001b[90m│  \u001b[39m %8 = (%5 + %7)\u001b[36m::Float64\u001b[39m\n",
      "\u001b[90m└──\u001b[39m      return %8\n",
      "\n"
     ]
    }
   ],
   "source": [
    "b = MyTypeConcrete(3.0, \"test\")\n",
    "@code_warntype f(b)"
   ]
  },
  {
   "cell_type": "code",
   "execution_count": 20,
   "metadata": {},
   "outputs": [
    {
     "name": "stdout",
     "output_type": "stream",
     "text": [
      "  2.120 ns (0 allocations: 0 bytes)\n"
     ]
    }
   ],
   "source": [
    "@btime f($b);"
   ]
  },
  {
   "cell_type": "markdown",
   "metadata": {},
   "source": [
    "#### Fix 2: Type parameters"
   ]
  },
  {
   "cell_type": "markdown",
   "metadata": {},
   "source": [
    "But what if I want to accept any kind of, say, `Number` and `AbstractString` for our type?"
   ]
  },
  {
   "cell_type": "code",
   "execution_count": 21,
   "metadata": {},
   "outputs": [
    {
     "data": {
      "text/plain": [
       "f (generic function with 5 methods)"
      ]
     },
     "metadata": {},
     "output_type": "display_data"
    }
   ],
   "source": [
    "struct MyTypeParametric{A<:Number, B<:AbstractString}\n",
    "    x::A\n",
    "    y::B\n",
    "end\n",
    "\n",
    "f(c::MyTypeParametric) = c.x^2 + sqrt(c.x)"
   ]
  },
  {
   "cell_type": "code",
   "execution_count": 22,
   "metadata": {},
   "outputs": [
    {
     "data": {
      "text/plain": [
       "MyTypeParametric{Float64, String}(3.0, \"test\")"
      ]
     },
     "metadata": {},
     "output_type": "display_data"
    }
   ],
   "source": [
    "c = MyTypeParametric(3.0, \"test\")"
   ]
  },
  {
   "cell_type": "code",
   "execution_count": 23,
   "metadata": {},
   "outputs": [
    {
     "name": "stdout",
     "output_type": "stream",
     "text": [
      "MethodInstance for f(::MyTypeParametric{Float64, String})\n",
      "  from f(\u001b[90mc\u001b[39m::\u001b[1mMyTypeParametric\u001b[22m)\u001b[90m @\u001b[39m \u001b[90mMain\u001b[39m \u001b[90m~/JuliaUCL24/notebooks/Day2/\u001b[39m\u001b[90m\u001b[4m1_perfopt_typestability.ipynb:6\u001b[24m\u001b[39m\n",
      "Arguments\n",
      "  #self#\u001b[36m::Core.Const(f)\u001b[39m\n",
      "  c\u001b[36m::MyTypeParametric{Float64, String}\u001b[39m\n",
      "Body\u001b[36m::Float64\u001b[39m\n",
      "\u001b[90m1 ─\u001b[39m %1 = Main.:^\u001b[36m::Core.Const(^)\u001b[39m\n",
      "\u001b[90m│  \u001b[39m %2 = Base.getproperty(c, :x)\u001b[36m::Float64\u001b[39m\n",
      "\u001b[90m│  \u001b[39m %3 = Core.apply_type(Base.Val, 2)\u001b[36m::Core.Const(Val{2})\u001b[39m\n",
      "\u001b[90m│  \u001b[39m %4 = (%3)()\u001b[36m::Core.Const(Val{2}())\u001b[39m\n",
      "\u001b[90m│  \u001b[39m %5 = Base.literal_pow(%1, %2, %4)\u001b[36m::Float64\u001b[39m\n",
      "\u001b[90m│  \u001b[39m %6 = Base.getproperty(c, :x)\u001b[36m::Float64\u001b[39m\n",
      "\u001b[90m│  \u001b[39m %7 = Main.sqrt(%6)\u001b[36m::Float64\u001b[39m\n",
      "\u001b[90m│  \u001b[39m %8 = (%5 + %7)\u001b[36m::Float64\u001b[39m\n",
      "\u001b[90m└──\u001b[39m      return %8\n",
      "\n"
     ]
    }
   ],
   "source": [
    "@code_warntype f(c)"
   ]
  },
  {
   "cell_type": "markdown",
   "metadata": {},
   "source": [
    "From the type alone the compiler knows what the structure contains and can produce optimal code:"
   ]
  },
  {
   "cell_type": "code",
   "execution_count": 24,
   "metadata": {},
   "outputs": [
    {
     "name": "stdout",
     "output_type": "stream",
     "text": [
      "  2.111 ns (0 allocations: 0 bytes)\n"
     ]
    }
   ],
   "source": [
    "@btime f($c);"
   ]
  },
  {
   "cell_type": "code",
   "execution_count": 25,
   "metadata": {},
   "outputs": [
    {
     "data": {
      "text/plain": [
       "MyTypeParametric{Float32, SubString{String}}(3.0f0, \"test\")"
      ]
     },
     "metadata": {},
     "output_type": "display_data"
    }
   ],
   "source": [
    "c = MyTypeParametric(Float32(3.0), SubString(\"test\"))"
   ]
  },
  {
   "cell_type": "code",
   "execution_count": 26,
   "metadata": {},
   "outputs": [
    {
     "name": "stdout",
     "output_type": "stream",
     "text": [
      "  2.517 ns (0 allocations: 0 bytes)\n"
     ]
    }
   ],
   "source": [
    "@btime f($c);"
   ]
  },
  {
   "cell_type": "markdown",
   "metadata": {},
   "source": [
    "## Type inference: Avoid untyped containers"
   ]
  },
  {
   "cell_type": "markdown",
   "metadata": {},
   "source": [
    "### Example"
   ]
  },
  {
   "cell_type": "code",
   "execution_count": 27,
   "metadata": {},
   "outputs": [
    {
     "name": "stdout",
     "output_type": "stream",
     "text": [
      "  191.103 ns (3 allocations: 464 bytes)\n"
     ]
    }
   ],
   "source": [
    "function f()\n",
    "    numbers = []\n",
    "    for i in 1:10\n",
    "        push!(numbers, i)\n",
    "    end\n",
    "    sum(numbers)\n",
    "end\n",
    "\n",
    "@btime f();"
   ]
  },
  {
   "cell_type": "code",
   "execution_count": 28,
   "metadata": {},
   "outputs": [
    {
     "name": "stdout",
     "output_type": "stream",
     "text": [
      "MethodInstance for f()\n",
      "  from f()\u001b[90m @\u001b[39m \u001b[90mMain\u001b[39m \u001b[90m~/JuliaUCL24/notebooks/Day2/\u001b[39m\u001b[90m\u001b[4m1_perfopt_typestability.ipynb:1\u001b[24m\u001b[39m\n",
      "Arguments\n",
      "  #self#\u001b[36m::Core.Const(f)\u001b[39m\n",
      "Locals\n",
      "  @_2\u001b[33m\u001b[1m::Union{Nothing, Tuple{Int64, Int64}}\u001b[22m\u001b[39m\n",
      "  numbers\u001b[36m::Vector{Any}\u001b[39m\n",
      "  i\u001b[36m::Int64\u001b[39m\n",
      "Body\u001b[91m\u001b[1m::Any\u001b[22m\u001b[39m\n",
      "\u001b[90m1 ─\u001b[39m       (numbers = Base.vect())\n",
      "\u001b[90m│  \u001b[39m %2  = (1:10)\u001b[36m::Core.Const(1:10)\u001b[39m\n",
      "\u001b[90m│  \u001b[39m       (@_2 = Base.iterate(%2))\n",
      "\u001b[90m│  \u001b[39m %4  = (@_2::"
     ]
    },
    {
     "name": "stdout",
     "output_type": "stream",
     "text": [
      "Core.Const((1, 1)) === nothing)\u001b[36m::Core.Const(false)\u001b[39m\n",
      "\u001b[90m│  \u001b[39m %5  = Base.not_int(%4)\u001b[36m::Core.Const(true)\u001b[39m\n",
      "\u001b[90m└──\u001b[39m       goto #4 if not %5\n",
      "\u001b[90m2 ┄\u001b[39m %7  = @_2\u001b[36m::Tuple{Int64, Int64}\u001b[39m\n",
      "\u001b[90m│  \u001b[39m       (i = Core.getfield(%7, 1))\n",
      "\u001b[90m│  \u001b[39m %9  = Core.getfield(%7, 2)\u001b[36m::Int64\u001b[39m\n",
      "\u001b[90m│  \u001b[39m       Main.push!(numbers, i)\n",
      "\u001b[90m│  \u001b[39m       (@_2 = Base.iterate(%2, %9))\n",
      "\u001b[90m│  \u001b[39m %12 = (@_2 === nothing)\u001b[36m::Bool\u001b[39m\n",
      "\u001b[90m│  \u001b[39m %13 = Base.not_int(%12)\u001b[36m::Bool\u001b[39m\n",
      "\u001b[90m└──\u001b[39m       goto #4 if not %13\n",
      "\u001b[90m3 ─\u001b[39m       goto #2\n",
      "\u001b[90m4 ┄\u001b[39m %16 = Main.sum(numbers)\u001b[91m\u001b[1m::Any\u001b[22m\u001b[39m\n",
      "\u001b[90m└──\u001b[39m       return %16\n",
      "\n"
     ]
    }
   ],
   "source": [
    "@code_warntype f()"
   ]
  },
  {
   "cell_type": "code",
   "execution_count": 29,
   "metadata": {},
   "outputs": [
    {
     "data": {
      "text/plain": [
       "Vector{Any}\u001b[90m (alias for \u001b[39m\u001b[90mArray{Any, 1}\u001b[39m\u001b[90m)\u001b[39m"
      ]
     },
     "metadata": {},
     "output_type": "display_data"
    }
   ],
   "source": [
    "typeof([])"
   ]
  },
  {
   "cell_type": "code",
   "execution_count": 30,
   "metadata": {},
   "outputs": [
    {
     "name": "stdout",
     "output_type": "stream",
     "text": [
      "  92.301 ns (3 allocations: 480 bytes)\n"
     ]
    }
   ],
   "source": [
    "function f()\n",
    "    numbers = Int[]\n",
    "    for i in 1:10\n",
    "        push!(numbers, i)\n",
    "    end\n",
    "    sum(numbers)\n",
    "end\n",
    "\n",
    "@btime f();"
   ]
  },
  {
   "cell_type": "code",
   "execution_count": 31,
   "metadata": {},
   "outputs": [
    {
     "name": "stdout",
     "output_type": "stream",
     "text": [
      "MethodInstance for f()\n",
      "  from f()\u001b[90m @\u001b[39m \u001b[90mMain\u001b[39m \u001b[90m~/JuliaUCL24/notebooks/Day2/\u001b[39m\u001b[90m\u001b[4m1_perfopt_typestability.ipynb:1\u001b[24m\u001b[39m\n",
      "Arguments\n",
      "  #self#\u001b[36m::Core.Const(f)\u001b[39m\n",
      "Locals\n",
      "  @_2\u001b[33m\u001b[1m::Union{Nothing, Tuple{Int64, Int64}}\u001b[22m\u001b[39m\n",
      "  numbers\u001b[36m::Vector{Int64}\u001b[39m\n",
      "  i\u001b[36m::Int64\u001b[39m\n",
      "Body\u001b[36m::Int64\u001b[39m\n",
      "\u001b[90m1 ─\u001b[39m       (numbers = Base.getindex(Main.Int))\n",
      "\u001b[90m│  \u001b[39m %2  = (1:10)\u001b[36m::Core.Const(1:10)\u001b[39m\n",
      "\u001b[90m│  \u001b[39m       (@_2 = Base.iterate(%2))\n",
      "\u001b[90m│  \u001b[39m %4  = (@_2::Core.Const((1, 1)) === nothing)\u001b[36m::Core.Const(false)\u001b[39m\n",
      "\u001b[90m│  \u001b[39m %5  = Base.not_int(%4)\u001b[36m::Core.Const(true)\u001b[39m\n",
      "\u001b[90m└──\u001b[39m       goto #4 if not %5\n",
      "\u001b[90m2 ┄\u001b[39m %7  = @_2\u001b[36m::Tuple{Int64, Int64}\u001b[39m\n",
      "\u001b[90m│  \u001b[39m       (i = Core.getfield(%7, 1))\n",
      "\u001b[90m│  \u001b[39m %9  = Core.getfield(%7, 2)\u001b[36m::Int64\u001b[39m\n",
      "\u001b[90m│  \u001b[39m       Main.push!(numbers, i)\n",
      "\u001b[90m│  \u001b[39m       (@_2 = Base.iterate(%2, %9))\n",
      "\u001b[90m│  \u001b[39m %12 = (@_2 === nothing)\u001b[36m::Bool\u001b[39m\n",
      "\u001b[90m│  \u001b[39m %13 = Base.not_int(%12)\u001b[36m::Bool\u001b[39m\n",
      "\u001b[90m└──\u001b[39m       goto #4 if not %13\n",
      "\u001b[90m3 ─\u001b[39m       goto #2\n",
      "\u001b[90m4 ┄\u001b[39m %16 = Main.sum(numbers)\u001b[36m::Int64\u001b[39m\n",
      "\u001b[90m└──\u001b[39m       return %16\n",
      "\n"
     ]
    }
   ],
   "source": [
    "@code_warntype f()"
   ]
  },
  {
   "cell_type": "markdown",
   "metadata": {},
   "source": [
    "## Type inference: Avoid changing variable types"
   ]
  },
  {
   "cell_type": "markdown",
   "metadata": {},
   "source": [
    "Variables should not change type."
   ]
  },
  {
   "cell_type": "markdown",
   "metadata": {},
   "source": [
    "### Example"
   ]
  },
  {
   "cell_type": "code",
   "execution_count": 32,
   "metadata": {},
   "outputs": [
    {
     "data": {
      "text/plain": [
       "f (generic function with 5 methods)"
      ]
     },
     "metadata": {},
     "output_type": "display_data"
    }
   ],
   "source": [
    "function f()\n",
    "    x = 1\n",
    "    for i = 1:10\n",
    "        x /= rand()\n",
    "    end\n",
    "    return x\n",
    "end"
   ]
  },
  {
   "cell_type": "code",
   "execution_count": 33,
   "metadata": {},
   "outputs": [
    {
     "name": "stdout",
     "output_type": "stream",
     "text": [
      "MethodInstance for f()\n",
      "  from f()\u001b[90m @\u001b[39m \u001b[90mMain\u001b[39m \u001b[90m~/JuliaUCL24/notebooks/Day2/\u001b[39m\u001b[90m\u001b[4m1_perfopt_typestability.ipynb:1\u001b[24m\u001b[39m\n",
      "Arguments\n",
      "  #self#\u001b[36m::Core.Const(f)\u001b[39m\n",
      "Locals\n",
      "  @_2\u001b[33m\u001b[1m::Union{Nothing, Tuple{Int64, Int64}}\u001b[22m\u001b[39m\n",
      "  x\u001b[33m\u001b[1m::Union{Float64, Int64}\u001b[22m\u001b[39m\n",
      "  i\u001b[36m::Int64\u001b[39m\n",
      "Body\u001b[36m::Float64\u001b[39m\n",
      "\u001b[90m1 ─\u001b[39m       (x = 1)\n",
      "\u001b[90m│  \u001b[39m %2  = (1:10)\u001b[36m::Core.Const(1:10)\u001b[39m\n",
      "\u001b[90m│  \u001b[39m       (@_2 = Base.iterate(%2))\n",
      "\u001b[90m│  \u001b[39m %4  = (@_2::Core.Const((1, 1)) === nothing)\u001b[36m::Core.Const(false)\u001b[39m\n",
      "\u001b[90m│  \u001b[39m %5  = Base.not_int(%4)\u001b[36m::Core.Const(true)\u001b[39m\n",
      "\u001b[90m└──\u001b[39m       goto #4 if not %5\n",
      "\u001b[90m2 ┄\u001b[39m %7  = @_2\u001b[36m::Tuple{Int64, Int64}\u001b[39m\n",
      "\u001b[90m│  \u001b[39m       (i = Core.getfield(%7, 1))\n",
      "\u001b[90m│  \u001b[39m %9  = Core.getfield(%7, 2)\u001b[36m::Int64\u001b[39m\n",
      "\u001b[90m│  \u001b[39m %10 = x\u001b[33m\u001b[1m::Union{Float64, Int64}\u001b[22m\u001b[39m\n",
      "\u001b[90m│  \u001b[39m %11 = Main.rand()\u001b[36m::Float64\u001b[39m\n",
      "\u001b[90m│  \u001b[39m       (x = %10 / %11)\n",
      "\u001b[90m│  \u001b[39m       (@_2 = Base.iterate(%2, %9))\n",
      "\u001b[90m│  \u001b[39m %14 = (@_2 === nothing)\u001b[36m::Bool\u001b[39m\n",
      "\u001b[90m│  \u001b[39m %15 = Base.not_int(%14)\u001b[36m::Bool\u001b[39m\n",
      "\u001b[90m└──\u001b[39m       goto #4 if not %15\n",
      "\u001b[90m3 ─\u001b[39m       goto #2\n",
      "\u001b[90m4 ┄\u001b[39m       return x::Float64\n",
      "\n"
     ]
    }
   ],
   "source": [
    "@code_warntype f()"
   ]
  },
  {
   "cell_type": "markdown",
   "metadata": {},
   "source": [
    "(On a side note: since the type can only vary between `Float64` and `Int64`, Julia can still produce reasonable code by [*union splitting*](https://julialang.org/blog/2018/08/union-splitting).)"
   ]
  },
  {
   "cell_type": "markdown",
   "metadata": {},
   "source": [
    "#### Fix: Initialize with correct type"
   ]
  },
  {
   "cell_type": "code",
   "execution_count": 34,
   "metadata": {},
   "outputs": [
    {
     "data": {
      "text/plain": [
       "f (generic function with 5 methods)"
      ]
     },
     "metadata": {},
     "output_type": "display_data"
    }
   ],
   "source": [
    "function f()\n",
    "    x = 1.0\n",
    "    for i = 1:10\n",
    "        x /= rand()\n",
    "    end\n",
    "    return x\n",
    "end"
   ]
  },
  {
   "cell_type": "code",
   "execution_count": 35,
   "metadata": {},
   "outputs": [
    {
     "name": "stdout",
     "output_type": "stream",
     "text": [
      "MethodInstance for f()\n",
      "  from f()\u001b[90m @\u001b[39m \u001b[90mMain\u001b[39m \u001b[90m~/JuliaUCL24/notebooks/Day2/\u001b[39m\u001b[90m\u001b[4m1_perfopt_typestability.ipynb:1\u001b[24m\u001b[39m\n",
      "Arguments\n",
      "  #self#\u001b[36m::Core.Const(f)\u001b[39m\n",
      "Locals\n",
      "  @_2"
     ]
    },
    {
     "name": "stdout",
     "output_type": "stream",
     "text": [
      "\u001b[33m\u001b[1m::Union{Nothing, Tuple{Int64, Int64}}\u001b[22m\u001b[39m\n",
      "  x\u001b[36m::Float64\u001b[39m\n",
      "  i\u001b[36m::Int64\u001b[39m\n",
      "Body\u001b[36m::Float64\u001b[39m\n",
      "\u001b[90m1 ─\u001b[39m       (x = 1.0)\n",
      "\u001b[90m│  \u001b[39m %2  = (1:10)\u001b[36m::Core.Const(1:10)\u001b[39m\n",
      "\u001b[90m│  \u001b[39m       (@_2 = Base.iterate(%2))\n",
      "\u001b[90m│  \u001b[39m %4  = (@_2::Core.Const((1, 1)) === nothing)\u001b[36m::Core.Const(false)\u001b[39m\n",
      "\u001b[90m│  \u001b[39m %5  = Base.not_int(%4)\u001b[36m::Core.Const(true)\u001b[39m\n",
      "\u001b[90m└──\u001b[39m       goto #4 if not %5\n",
      "\u001b[90m2 ┄\u001b[39m %7  = @_2\u001b[36m::Tuple{Int64, Int64}\u001b[39m\n",
      "\u001b[90m│  \u001b[39m       (i = Core.getfield(%7, 1))\n",
      "\u001b[90m│  \u001b[39m %9  = Core.getfield(%7, 2)\u001b[36m::Int64\u001b[39m\n",
      "\u001b[90m│  \u001b[39m %10 = x\u001b[36m::Float64\u001b[39m\n",
      "\u001b[90m│  \u001b[39m %11 = Main.rand()\u001b[36m::Float64\u001b[39m\n",
      "\u001b[90m│  \u001b[39m       (x = %10 / %11)\n",
      "\u001b[90m│  \u001b[39m       (@_2 = Base.iterate(%2, %9))\n",
      "\u001b[90m│  \u001b[39m %14 = (@_2 === nothing)\u001b[36m::Bool\u001b[39m\n",
      "\u001b[90m│  \u001b[39m %15 = Base.not_int(%14)\u001b[36m::Bool\u001b[39m\n",
      "\u001b[90m└──\u001b[39m       goto #4 if not %15\n",
      "\u001b[90m3 ─\u001b[39m       goto #2\n",
      "\u001b[90m4 ┄\u001b[39m       return x\n",
      "\n"
     ]
    }
   ],
   "source": [
    "@code_warntype f()"
   ]
  },
  {
   "cell_type": "markdown",
   "metadata": {
    "jp-MarkdownHeadingCollapsed": true,
    "tags": []
   },
   "source": [
    "## Type inference: Isolate unavoidable type instabilities"
   ]
  },
  {
   "cell_type": "markdown",
   "metadata": {},
   "source": [
    "Type instabilities can occur very naturally, for example when reading unknown user files or user input. Hence, not every instability can be avoided.\n",
    "\n",
    "If that's the case, isolate your expensive computation from the instability by putting it in a separate *kernel function* (also known as introducing a *function barrier*)."
   ]
  },
  {
   "cell_type": "code",
   "execution_count": 36,
   "metadata": {
    "tags": []
   },
   "outputs": [
    {
     "data": {
      "text/plain": [
       "100-element Vector{Any}:\n",
       "  \"7.8\"\n",
       "  \"7.8\"\n",
       " 2\n",
       " 5.6f0\n",
       " 3.4\n",
       " 2\n",
       " 3.4\n",
       " 2\n",
       " 2\n",
       "  \"7.8\"\n",
       " ⋮\n",
       " 5.6f0\n",
       " 3.4\n",
       " 5.6f0\n",
       "  \"7.8\"\n",
       " 2\n",
       " 3.4\n",
       " 3.4\n",
       "  \"7.8\"\n",
       " 5.6f0"
      ]
     },
     "metadata": {},
     "output_type": "display_data"
    }
   ],
   "source": [
    "data = [rand((2, 3.4, 5.6f0, \"7.8\")) for i in 1:100] # random heterogeneous input data"
   ]
  },
  {
   "cell_type": "code",
   "execution_count": 37,
   "metadata": {
    "tags": []
   },
   "outputs": [
    {
     "data": {
      "text/plain": [
       "expsin_all (generic function with 1 method)"
      ]
     },
     "metadata": {},
     "output_type": "display_data"
    }
   ],
   "source": [
    "function expsin_all(data)\n",
    "    result = zeros(length(data))\n",
    "    for i in eachindex(data)\n",
    "        x = data[i]\n",
    "        if data[i] isa AbstractString\n",
    "            x = parse(Float64, x)\n",
    "        end\n",
    "        result[i] = exp(sin(x))\n",
    "    end\n",
    "    return result\n",
    "end"
   ]
  },
  {
   "cell_type": "code",
   "execution_count": 38,
   "metadata": {
    "tags": []
   },
   "outputs": [
    {
     "name": "stdout",
     "output_type": "stream",
     "text": [
      "MethodInstance for expsin_all(::Vector{Any})\n",
      "  from expsin_all(\u001b[90mdata\u001b[39m)\u001b[90m @\u001b[39m \u001b[90mMain\u001b[39m \u001b[90m~/JuliaUCL24/notebooks/Day2/\u001b[39m\u001b[90m\u001b[4m1_perfopt_typestability.ipynb:1\u001b[24m\u001b[39m\n",
      "Arguments\n",
      "  #self#\u001b[36m::Core.Const(expsin_all)\u001b[39m\n",
      "  data\u001b[36m::Vector{Any}\u001b[39m\n",
      "Locals\n",
      "  @_3\u001b[33m\u001b[1m::Union{Nothing, Tuple{Int64, Int64}}\u001b[22m\u001b[39m\n",
      "  result\u001b[36m::Vector{Float64}\u001b[39m\n",
      "  i\u001b[36m::Int64\u001b[39m\n",
      "  x\u001b[91m\u001b[1m::Any\u001b[22m\u001b[39m\n",
      "Body\u001b[36m::Vector{Float64}\u001b[39m\n",
      "\u001b[90m1 ─\u001b[39m %1  = Main.length(data)\u001b[36m::Int64\u001b[39m\n",
      "\u001b[90m│  \u001b[39m       (result = Main.zeros(%1))\n",
      "\u001b[90m│  \u001b[39m %3  = Main.eachindex(data)\u001b[36m::Base.OneTo{Int64}\u001b[39m\n",
      "\u001b[90m│  \u001b[39m       (@_3 = Base.iterate(%3))\n",
      "\u001b[90m│  \u001b[39m %5  = (@_3 === nothing)\u001b[36m::Bool\u001b[39m\n",
      "\u001b[90m│  \u001b[39m %6  = Base.not_int(%5)\u001b[36m::Bool\u001b[39m\n",
      "\u001b[90m└──\u001b[39m       goto #6 if not %6\n",
      "\u001b[90m2 ┄\u001b[39m %8  = @_3\u001b[36m::Tuple{Int64, Int64}\u001b[39m\n",
      "\u001b[90m│  \u001b[39m       (i = Core.getfield(%8, 1))\n",
      "\u001b[90m│  \u001b[39m %10 = Core.getfield(%8, 2)\u001b[36m::Int64\u001b[39m\n",
      "\u001b[90m│  \u001b[39m       (x = Base.getindex(data, i))\n",
      "\u001b[90m│  \u001b[39m %12 = Base.getindex(data, i)\u001b[91m\u001b[1m::Any\u001b[22m\u001b[39m\n",
      "\u001b[90m│  \u001b[39m %13 = (%12 isa Main.AbstractString)\u001b[36m::Bool\u001b[39m\n",
      "\u001b[90m└──\u001b[39m       goto #4 if not %13\n",
      "\u001b[90m3 ─\u001b[39m       (x = Main.parse(Main.Float64, x))\n",
      "\u001b[90m4 ┄\u001b[39m %16 = Main.sin(x)\u001b[91m\u001b[1m::Any\u001b[22m\u001b[39m\n",
      "\u001b[90m│  \u001b[39m %17 = Main.exp(%16)\u001b[91m\u001b[1m::Any\u001b[22m\u001b[39m\n",
      "\u001b[90m│  \u001b[39m       Base.setindex!(result, %17, i)\n",
      "\u001b[90m│  \u001b[39m       (@_3 = Base.iterate(%3, %10))\n",
      "\u001b[90m│  \u001b[39m %20 = (@_3 === nothing)\u001b[36m::Bool\u001b[39m\n",
      "\u001b[90m│  \u001b[39m %21 = Base.not_int(%20)\u001b[36m::Bool\u001b[39m\n",
      "\u001b[90m└──\u001b[39m       goto #6 if not %21\n",
      "\u001b[90m5 ─\u001b[39m       goto #2\n",
      "\u001b[90m6 ┄\u001b[39m       return result\n",
      "\n"
     ]
    }
   ],
   "source": [
    "@code_warntype expsin_all(data)"
   ]
  },
  {
   "cell_type": "code",
   "execution_count": 39,
   "metadata": {
    "tags": []
   },
   "outputs": [
    {
     "name": "stdout",
     "output_type": "stream",
     "text": [
      "  12.180 μs (227 allocations: 4.41 KiB)\n"
     ]
    }
   ],
   "source": [
    "@btime expsin_all($data);"
   ]
  },
  {
   "cell_type": "code",
   "execution_count": 40,
   "metadata": {
    "tags": []
   },
   "outputs": [
    {
     "data": {
      "text/plain": [
       "_expsin_kernel (generic function with 2 methods)"
      ]
     },
     "metadata": {},
     "output_type": "display_data"
    }
   ],
   "source": [
    "function expsin_all_barrier(data)\n",
    "    result = zeros(length(data))\n",
    "    for i in eachindex(data)\n",
    "        x = data[i]\n",
    "        result[i] = _expsin_kernel(x)\n",
    "    end\n",
    "    return result\n",
    "end\n",
    "\n",
    "# function barrier\n",
    "_expsin_kernel(x::Number)::Float64 = exp(sin(x))\n",
    "_expsin_kernel(x::AbstractString)::Float64 = exp(sin(parse(Float64, x)))"
   ]
  },
  {
   "cell_type": "code",
   "execution_count": 41,
   "metadata": {
    "tags": []
   },
   "outputs": [
    {
     "name": "stdout",
     "output_type": "stream",
     "text": [
      "  4.844 μs (101 allocations: 2.44 KiB)\n"
     ]
    }
   ],
   "source": [
    "@btime expsin_all_barrier($data);"
   ]
  },
  {
   "cell_type": "code",
   "execution_count": 42,
   "metadata": {
    "tags": []
   },
   "outputs": [
    {
     "name": "stdout",
     "output_type": "stream",
     "text": [
      "MethodInstance for _expsin_kernel(::String)\n",
      "  from _expsin_kernel(\u001b[90mx\u001b[39m::\u001b[1mAbstractString\u001b[22m)\u001b[90m @\u001b[39m \u001b[90mMain\u001b[39m \u001b[90m~/JuliaUCL24/notebooks/Day2/\u001b[39m\u001b[90m\u001b[4m1_perfopt_typestability.ipynb:12\u001b[24m\u001b[39m\n",
      "Arguments\n",
      "  #self#\u001b[36m::Core.Const(_expsin_kernel)\u001b[39m\n",
      "  x\u001b[36m::String\u001b[39m\n",
      "Locals\n",
      "  @_3\u001b[36m::Float64\u001b[39m\n",
      "Body\u001b[36m::Float64\u001b[39m\n",
      "\u001b[90m1 ─\u001b[39m %1 = Main.Float64\u001b[36m::Core.Const(Float64)\u001b[39m\n",
      "\u001b[90m│  \u001b[39m %2 = Main.parse(Main.Float64, x)\u001b[36m::Float64\u001b[39m\n",
      "\u001b[90m│  \u001b[39m %3 = Main.sin(%2)\u001b[36m::Float64\u001b[39m\n",
      "\u001b[90m│  \u001b[39m %4 = Main.exp(%3)\u001b[36m::Float64\u001b[39m\n",
      "\u001b[90m│  \u001b[39m      (@_3 = %4)\n",
      "\u001b[90m│  \u001b[39m %6 = (@_3 isa %1)\u001b[36m::Core.Const(true)\u001b[39m\n",
      "\u001b[90m└──\u001b[39m      goto #3 if not %6\n",
      "\u001b[90m2 ─\u001b[39m      goto #4\n",
      "\u001b[90m3 ─\u001b[39m      Core.Const(:(Base.convert(%1, @_3)))"
     ]
    },
    {
     "name": "stdout",
     "output_type": "stream",
     "text": [
      "\n",
      "\u001b[90m└──\u001b[39m      Core.Const(:(@_3 = Core.typeassert(%9, %1)))\n",
      "\u001b[90m4 ┄\u001b[39m      return @_3\n",
      "\n"
     ]
    }
   ],
   "source": [
    "@code_warntype _expsin_kernel(data[1])"
   ]
  },
  {
   "cell_type": "markdown",
   "metadata": {},
   "source": [
    "Note that the computational kernel function is fully type inferred."
   ]
  },
  {
   "cell_type": "code",
   "execution_count": 43,
   "metadata": {
    "tags": []
   },
   "outputs": [
    {
     "name": "stdout",
     "output_type": "stream",
     "text": [
      "MethodInstance for expsin_all_barrier(::Vector{Any})\n",
      "  from expsin_all_barrier(\u001b[90mdata\u001b[39m)\u001b[90m @\u001b[39m \u001b[90mMain\u001b[39m \u001b[90m~/JuliaUCL24/notebooks/Day2/\u001b[39m\u001b[90m\u001b[4m1_perfopt_typestability.ipynb:1\u001b[24m\u001b[39m\n",
      "Arguments\n",
      "  #self#\u001b[36m::Core.Const(expsin_all_barrier)\u001b[39m\n",
      "  data\u001b[36m::Vector{Any}\u001b[39m\n",
      "Locals\n",
      "  @_3\u001b[33m\u001b[1m::Union{Nothing, Tuple{Int64, Int64}}\u001b[22m\u001b[39m\n",
      "  result\u001b[36m::Vector{Float64}\u001b[39m\n",
      "  i\u001b[36m::Int64\u001b[39m\n",
      "  x\u001b[91m\u001b[1m::Any\u001b[22m\u001b[39m\n",
      "Body\u001b[36m::Vector{Float64}\u001b[39m\n",
      "\u001b[90m1 ─\u001b[39m %1  = Main.length(data)\u001b[36m::Int64\u001b[39m\n",
      "\u001b[90m│  \u001b[39m       (result = Main.zeros(%1))\n",
      "\u001b[90m│  \u001b[39m %3  = Main.eachindex(data)\u001b[36m::Base.OneTo{Int64}\u001b[39m\n",
      "\u001b[90m│  \u001b[39m       (@_3 = Base.iterate(%3))\n",
      "\u001b[90m│  \u001b[39m %5  = (@_3 === nothing)\u001b[36m::Bool\u001b[39m\n",
      "\u001b[90m│  \u001b[39m %6  = Base.not_int(%5)\u001b[36m::Bool\u001b[39m\n",
      "\u001b[90m└──\u001b[39m       goto #4 if not %6\n",
      "\u001b[90m2 ┄\u001b[39m %8  = @_3\u001b[36m::Tuple{Int64, Int64}\u001b[39m\n",
      "\u001b[90m│  \u001b[39m       (i = Core.getfield(%8, 1))\n",
      "\u001b[90m│  \u001b[39m %10 = Core.getfield(%8, 2)\u001b[36m::Int64\u001b[39m\n",
      "\u001b[90m│  \u001b[39m       (x = Base.getindex(data, i))\n",
      "\u001b[90m│  \u001b[39m %12 = Main._expsin_kernel(x)\u001b[36m::Float64\u001b[39m\n",
      "\u001b[90m│  \u001b[39m       Base.setindex!(result, %12, i)\n",
      "\u001b[90m│  \u001b[39m       (@_3 = Base.iterate(%3, %10))\n",
      "\u001b[90m│  \u001b[39m %15 = (@_3 === nothing)\u001b[36m::Bool\u001b[39m\n",
      "\u001b[90m│  \u001b[39m %16 = Base.not_int(%15)\u001b[36m::Bool\u001b[39m\n",
      "\u001b[90m└──\u001b[39m       goto #4 if not %16\n",
      "\u001b[90m3 ─\u001b[39m       goto #2\n",
      "\u001b[90m4 ┄\u001b[39m       return result\n",
      "\n"
     ]
    }
   ],
   "source": [
    "@code_warntype expsin_all_barrier(data)"
   ]
  },
  {
   "cell_type": "markdown",
   "metadata": {
    "jp-MarkdownHeadingCollapsed": true,
    "tags": []
   },
   "source": [
    "## Side note: [JET.jl](JET.jl](https://github.com/aviatesk/JET.jl)"
   ]
  },
  {
   "cell_type": "markdown",
   "metadata": {},
   "source": [
    "**Static** code analyzer. (Doesn't execute the code!)\n",
    "\n",
    "Important macros:\n",
    "* `@report_opt`: check for potential optimization problems ([optimization analysis](https://aviatesk.github.io/JET.jl/stable/optanalysis/))\n",
    "* `@report_call`: check for potential (general) errors ([error analysis](https://aviatesk.github.io/JET.jl/stable/jetanalysis/))"
   ]
  },
  {
   "cell_type": "code",
   "execution_count": 44,
   "metadata": {
    "tags": []
   },
   "outputs": [],
   "source": [
    "using JET"
   ]
  },
  {
   "cell_type": "code",
   "execution_count": 45,
   "metadata": {
    "tags": []
   },
   "outputs": [
    {
     "data": {
      "text/plain": [
       "\u001b[7m═════ 7 possible errors found ═════\u001b[27m\n",
       "\u001b[35m┌ \u001b[39m\u001b[0m\u001b[1mexpsin_all\u001b[22m\u001b[0m\u001b[1m(\u001b[22m\u001b[90mdata\u001b[39m::\u001b[0mVector\u001b[90m{Any}\u001b[39m\u001b[0m\u001b[1m)\u001b[22m \u001b[35m@ \u001b[39m\u001b[35mMain\u001b[39m\u001b[35m /home/javier/JuliaUCL24/notebooks/Day2/1_perfopt_typestability.ipynb:6\u001b[39m\n",
       "\u001b[35m│\u001b[39m\u001b[34m┌ \u001b[39m\u001b[0m\u001b[1mparse\u001b[22m\u001b[0m\u001b[1m(\u001b[22m::\u001b[0mType\u001b[90m{Float64}\u001b[39m, \u001b[90ms\u001b[39m::\u001b[0mAbstractString\u001b[0m\u001b[1m)\u001b[22m \u001b[34m@ \u001b[39m\u001b[34mBase\u001b[39m\u001b[34m ./parse.jl:393\u001b[39m\n",
       "\u001b[35m│\u001b[39m\u001b[34m│\u001b[39m\u001b[33m┌ \u001b[39m\u001b[0m\u001b[1mparse\u001b[22m\u001b[0m\u001b[1m(\u001b[22m::\u001b[0mType\u001b[90m{Float64}\u001b[39m, \u001b[90ms\u001b[39m::\u001b[0mAbstractString; \u001b[90mkwargs\u001b[39m::\u001b[0m@Kwargs\u001b[90m{}\u001b[39m\u001b[0m\u001b[1m)\u001b[22m \u001b[33m@ \u001b[39m\u001b[33mBase\u001b[39m\u001b[33m ./parse.jl:393\u001b[39m\n",
       "\u001b[35m│\u001b[39m\u001b[34m│\u001b[39m\u001b[33m│\u001b[39m\u001b[32m┌ \u001b[39m\u001b[0m\u001b[1mtryparse_internal\u001b[22m\u001b[0m\u001b[1m(\u001b[22m::\u001b[0mType\u001b[90m{Float64}\u001b[39m, \u001b[90ms\u001b[39m::\u001b[0mAbstractString, \u001b[90mraise\u001b[39m::\u001b[0mBool\u001b[0m\u001b[1m)\u001b[22m \u001b[32m@ \u001b[39m\u001b[32mBase\u001b[39m\u001b[32m ./parse.jl:380\u001b[39m\n",
       "\u001b[35m│\u001b[39m\u001b[34m│\u001b[39m\u001b[33m│\u001b[39m\u001b[32m│\u001b[39m\u001b[35m┌ \u001b[39m\u001b[0m\u001b[1mtryparse_internal\u001b[22m\u001b[0m\u001b[1m(\u001b[22m::\u001b[0mType\u001b[90m{Float64}\u001b[39m, \u001b[90ms\u001b[39m::\u001b[0mAbstractString, \u001b[90mraise\u001b[39m::\u001b[0mBool; \u001b[90mkwargs\u001b[39m::\u001b[0m@Kwargs\u001b[90m{}\u001b[39m\u001b[0m\u001b[1m)\u001b[22m \u001b[35m@ \u001b[39m\u001b[35mBase\u001b[39m\u001b[35m ./parse.jl:383\u001b[39m\n",
       "\u001b[35m│\u001b[39m\u001b[34m│\u001b[39m\u001b[33m│\u001b[39m\u001b[32m│\u001b[39m\u001b[35m│\u001b[39m\u001b[34m┌ \u001b[39m\u001b[0m\u001b[1m_parse_failure\u001b[22m\u001b[0m\u001b[1m(\u001b[22m\u001b[90mT\u001b[39m::\u001b[0mType\u001b[90m{Float64}\u001b[39m, \u001b[90ms\u001b[39m::\u001b[0mAbstractString\u001b[0m\u001b[1m)\u001b[22m \u001b[34m@ \u001b[39m\u001b[34mBase\u001b[39m\u001b[34m ./parse.jl:387\u001b[39m\n",
       "\u001b[35m│\u001b[39m\u001b[34m│\u001b[39m\u001b[33m│\u001b[39m\u001b[32m│\u001b[39m\u001b[35m│\u001b[39m\u001b[34m│\u001b[39m\u001b[33m┌ \u001b[39m\u001b[0m\u001b[1mlastindex\u001b[22m\u001b[0m\u001b[1m(\u001b[22m\u001b[90ms\u001b[39m::\u001b[0mLazyString\u001b[0m\u001b[1m)\u001b[22m \u001b[33m@ \u001b[39m\u001b[33mBase\u001b[39m\u001b[33m ./strings/lazy.jl:93\u001b[39m\n",
       "\u001b[35m│\u001b[39m\u001b[34m│\u001b[39m\u001b[33m│\u001b[39m\u001b[32m│\u001b[39m\u001b[35m│\u001b[39m\u001b[34m│\u001b[39m\u001b[33m│\u001b[39m\u001b[32m┌ \u001b[39m\u001b[0m\u001b[1mString\u001b[22m\u001b[0m\u001b[1m(\u001b[22m\u001b[90ml\u001b[39m::\u001b[0mLazyString\u001b[0m\u001b[1m)\u001b[22m \u001b[32m@ \u001b[39m\u001b[32mBase\u001b[39m\u001b[32m ./strings/lazy.jl:83\u001b[39m\n",
       "\u001b[35m│\u001b[39m\u001b[34m│\u001b[39m\u001b[33m│\u001b[39m\u001b[32m│\u001b[39m\u001b[35m│\u001b[39m\u001b[34m│\u001b[39m\u001b[33m│\u001b[39m\u001b[32m│\u001b[39m\u001b[35m┌ \u001b[39m\u001b[0m\u001b[1msprint\u001b[22m\u001b[0m\u001b[1m(\u001b[22m::\u001b[0mBase.var\"#108#109\"\u001b[90m{LazyString}\u001b[39m\u001b[0m\u001b[1m)\u001b[22m \u001b[35m@ \u001b[39m\u001b[35mBase\u001b[39m\u001b[35m ./strings/io.jl:107\u001b[39m\n",
       "\u001b[35m│\u001b[39m\u001b[34m│\u001b[39m\u001b[33m│\u001b[39m\u001b[32m│\u001b[39m\u001b[35m│\u001b[39m\u001b[34m│\u001b[39m\u001b[33m│\u001b[39m\u001b[32m│\u001b[39m\u001b[35m│\u001b[39m\u001b[34m┌ \u001b[39m\u001b[0m\u001b[1msprint\u001b[22m\u001b[0m\u001b[1m(\u001b[22m::\u001b[0mBase.var\"#108#109\"\u001b[90m{LazyString}\u001b[39m; \u001b[90mcontext\u001b[39m::\u001b[0mNothing, \u001b[90msizehint\u001b[39m::\u001b[0mInt64\u001b[0m\u001b[1m)\u001b[22m \u001b[34m@ \u001b[39m\u001b[34mBase\u001b[39m\u001b[34m ./strings/io.jl:114\u001b[39m\n",
       "\u001b[35m│\u001b[39m\u001b[34m│\u001b[39m\u001b[33m│\u001b[39m\u001b[32m│\u001b[39m\u001b[35m│\u001b[39m\u001b[34m│\u001b[39m\u001b[33m│\u001b[39m\u001b[32m│\u001b[39m\u001b[35m│\u001b[39m\u001b[34m│\u001b[39m\u001b[91m┌ \u001b[39m\u001b[0m\u001b[1m(::Base.var\"#108#109\"{LazyString})\u001b[22m\u001b[0m\u001b[1m(\u001b[22m\u001b[90mio\u001b[39m::\u001b[0mIOBuffer\u001b[0m\u001b[1m)\u001b[22m \u001b[91m@ \u001b[39m\u001b[91mBase\u001b[39m\u001b[91m ./strings/lazy.jl:85\u001b[39m\n",
       "\u001b[35m│\u001b[39m\u001b[34m│\u001b[39m\u001b[33m│\u001b[39m\u001b[32m│\u001b[39m\u001b[35m│\u001b[39m\u001b[34m│\u001b[39m\u001b[33m│\u001b[39m\u001b[32m│\u001b[39m\u001b[35m│\u001b[39m\u001b[34m│\u001b[39m\u001b[91m│ \u001b[39m\u001b[91mruntime dispatch detected\u001b[39m\u001b[91m: \u001b[39m\u001b[0m\u001b[1mprint\u001b[22m\u001b[0m\u001b[1m(\u001b[22m\u001b[0m\u001b[1mio\u001b[22m\u001b[96m\u001b[1m::IOBuffer\u001b[22m\u001b[39m\u001b[0m\u001b[1m, \u001b[22m\u001b[0m\u001b[1m%15\u001b[22m\u001b[96m\u001b[1m::Any\u001b[22m\u001b[39m\u001b[0m\u001b[1m)\u001b[22m\u001b[96m\u001b[1m::Any\u001b[22m\u001b[39m\n",
       "\u001b[35m│\u001b[39m\u001b[34m│\u001b[39m\u001b[33m│\u001b[39m\u001b[32m│\u001b[39m\u001b[35m│\u001b[39m\u001b[34m│\u001b[39m\u001b[33m│\u001b[39m\u001b[32m│\u001b[39m\u001b[35m│\u001b[39m\u001b[34m│\u001b[39m\u001b[91m└────────────────────\u001b[39m\n",
       "\u001b[35m│\u001b[39m\u001b[34m│\u001b[39m\u001b[33m│\u001b[39m\u001b[32m│\u001b[39m\u001b[35m│\u001b[39m\u001b[34m│\u001b[39m\u001b[33m┌ \u001b[39m\u001b[0m\u001b[1m_parse_failure\u001b[22m\u001b[0m\u001b[1m(\u001b[22m\u001b[90mT\u001b[39m::\u001b[0mType\u001b[90m{Float64}\u001b[39m, \u001b[90ms\u001b[39m::\u001b[0mAbstractString, \u001b[90mstartpos\u001b[39m::\u001b[0mInt64, \u001b[90mendpos\u001b[39m::\u001b[0mInt64\u001b[0m\u001b[1m)\u001b[22m \u001b[33m@ \u001b[39m\u001b[33mBase\u001b[39m\u001b[33m ./parse.jl:387\u001b[39m\n",
       "\u001b[35m│\u001b[39m\u001b[34m│\u001b[39m\u001b[33m│\u001b[39m\u001b[32m│\u001b[39m\u001b[35m│\u001b[39m\u001b[34m│\u001b[39m\u001b[33m│\u001b[39m\u001b[32m┌ \u001b[39m\u001b[0m\u001b[1mgetindex\u001b[22m\u001b[0m\u001b[1m(\u001b[22m\u001b[90ms\u001b[39m::\u001b[0mAbstractString, \u001b[90mr\u001b[39m::\u001b[0mUnitRange\u001b[90m{Int64}\u001b[39m\u001b[0m\u001b[1m)\u001b[22m \u001b[32m@ \u001b[39m\u001b[32mBase\u001b[39m\u001b[32m ./strings/substring.jl:292\u001b[39m\n",
       "\u001b[35m│\u001b[39m\u001b[34m│\u001b[39m\u001b[33m│\u001b[39m\u001b[32m│\u001b[39m\u001b[35m│\u001b[39m\u001b[34m│\u001b[39m\u001b[33m│\u001b[39m\u001b[32m│\u001b[39m\u001b[35m┌ \u001b[39m\u001b[0m\u001b[1mSubString\u001b[22m\u001b[0m\u001b[1m(\u001b[22m\u001b[90ms\u001b[39m::\u001b[0mAbstractString, \u001b[90mr\u001b[39m::\u001b[0mUnitRange\u001b[90m{Int64}\u001b[39m\u001b[0m\u001b[1m)\u001b[22m \u001b[35m@ \u001b[39m\u001b[35mBase\u001b[39m\u001b[35m ./strings/substring.jl:43\u001b[39m\n",
       "\u001b[35m│\u001b[39m\u001b[34m│\u001b[39m\u001b[33m│\u001b[39m\u001b[32m│\u001b[39m\u001b[35m│\u001b[39m\u001b[34m│\u001b[39m\u001b[33m│\u001b[39m\u001b[32m│\u001b[39m\u001b[35m│\u001b[39m\u001b[91m┌ \u001b[39m\u001b[0m\u001b[1mSubString\u001b[22m\u001b[0m\u001b[1m(\u001b[22m\u001b[90ms\u001b[39m::\u001b[0mSubString, \u001b[90mi\u001b[39m::\u001b[0mInt64, \u001b[90mj\u001b[39m::\u001b[0mInt64\u001b[0m\u001b[1m)\u001b[22m \u001b[91m@ \u001b[39m\u001b[91mBase\u001b[39m\u001b[91m ./strings/substring.jl:47\u001b[39m\n",
       "\u001b[35m│\u001b[39m\u001b[34m│\u001b[39m\u001b[33m│\u001b[39m\u001b[32m│\u001b[39m\u001b[35m│\u001b[39m\u001b[34m│\u001b[39m\u001b[33m│\u001b[39m\u001b[32m│\u001b[39m\u001b[35m│\u001b[39m\u001b[91m│ \u001b[39m\u001b[91mruntime dispatch detected\u001b[39m\u001b[91m: \u001b[39m\u001b[0m\u001b[1mSubString\u001b[22m\u001b[0m\u001b[1m(\u001b[22m\u001b[0m\u001b[1m%41\u001b[22m\u001b[96m\u001b[1m::AbstractString\u001b[22m\u001b[39m\u001b[0m\u001b[1m, \u001b[22m\u001b[0m\u001b[1m%43\u001b[22m\u001b[96m\u001b[1m::Int64\u001b[22m\u001b[39m\u001b[0m\u001b[1m, \u001b[22m\u001b[0m\u001b[1m%45\u001b[22m\u001b[96m\u001b[1m::Int64\u001b[22m\u001b[39m\u001b[0m\u001b[1m)\u001b[22m\u001b[96m\u001b[1m::Any\u001b[22m\u001b[39m\n",
       "\u001b[35m│\u001b[39m\u001b[34m│\u001b[39m\u001b[33m│\u001b[39m\u001b[32m│\u001b[39m\u001b[35m│\u001b[39m\u001b[34m│\u001b[39m\u001b[33m│\u001b[39m\u001b[32m│\u001b[39m\u001b[35m│\u001b[39m\u001b[91m└────────────────────\u001b[39m\n",
       "\u001b[35m│\u001b[39m\u001b[34m│\u001b[39m\u001b[33m│\u001b[39m\u001b[32m│\u001b[39m\u001b[35m│\u001b[39m\u001b[34m│\u001b[39m\u001b[33m│\u001b[39m\u001b[32m│\u001b[39m\u001b[35m│\u001b[39m\u001b[91m┌ \u001b[39m\u001b[0m\u001b[1mSubString\u001b[22m\u001b[0m\u001b[1m(\u001b[22m\u001b[90ms\u001b[39m::\u001b[0mAbstractString, \u001b[90mi\u001b[39m::\u001b[0mInt64, \u001b[90mj\u001b[39m::\u001b[0mInt64\u001b[0m\u001b[1m)\u001b[22m \u001b[91m@ \u001b[39m\u001b[91mBase\u001b[39m\u001b[91m ./strings/substring.jl:41\u001b[39m\n",
       "\u001b[35m│\u001b[39m\u001b[34m│\u001b[39m\u001b[33m│\u001b[39m\u001b[32m│\u001b[39m\u001b[35m│\u001b[39m\u001b[34m│\u001b[39m\u001b[33m│\u001b[39m\u001b[32m│\u001b[39m\u001b[35m│\u001b[39m\u001b[91m│ \u001b[39m\u001b[91mruntime dispatch detected\u001b[39m\u001b[91m: \u001b[39m\u001b[0m\u001b[1m%2\u001b[22m\u001b[96m\u001b[1m::Type{SubString{T}} where T<:AbstractString\u001b[22m\u001b[39m\u001b[0m\u001b[1m(\u001b[22m\u001b[0m\u001b[1ms\u001b[22m\u001b[96m\u001b[1m::AbstractString\u001b[22m\u001b[39m\u001b[0m\u001b[1m, \u001b[22m\u001b[0m\u001b[1mi\u001b[22m\u001b[96m\u001b[1m::Int64\u001b[22m\u001b[39m\u001b[0m\u001b[1m, \u001b[22m\u001b[0m\u001b[1mj\u001b[22m\u001b[96m\u001b[1m::Int64\u001b[22m\u001b[39m\u001b[0m\u001b[1m)\u001b[22m\u001b[96m\u001b[1m::SubString\u001b[22m\u001b[39m\n",
       "\u001b[35m│\u001b[39m\u001b[34m│\u001b[39m\u001b[33m│\u001b[39m\u001b[32m│\u001b[39m\u001b[35m│\u001b[39m\u001b[34m│\u001b[39m\u001b[33m│\u001b[39m\u001b[32m│\u001b[39m\u001b[35m│\u001b[39m\u001b[91m└────────────────────\u001b[39m\n",
       "\u001b[91m┌ \u001b[39m\u001b[0m\u001b[1mexpsin_all\u001b[22m\u001b[0m\u001b[1m(\u001b[22m\u001b[90mdata\u001b[39m::\u001b[0mVector\u001b[90m{Any}\u001b[39m\u001b[0m\u001b[1m)\u001b[22m \u001b[91m@ \u001b[39m\u001b[91mMain\u001b[39m\u001b[91m /home/javier/JuliaUCL24/notebooks/Day2/1_perfopt_typestability.ipynb:6\u001b[39m\n",
       "\u001b[91m│ \u001b[39m\u001b[91mruntime dispatch detected\u001b[39m\u001b[91m: \u001b[39m\u001b[0m\u001b[1mparse\u001b[22m\u001b[0m\u001b[1m(\u001b[22m\u001b[0m\u001b[1mFloat64\u001b[22m\u001b[0m\u001b[1m, \u001b[22m\u001b[0m\u001b[1m%47\u001b[22m\u001b[96m\u001b[1m::Any\u001b[22m\u001b[39m\u001b[0m\u001b[1m)\u001b[22m\u001b[96m\u001b[1m::Float64\u001b[22m\u001b[39m\n",
       "\u001b[91m└────────────────────\u001b[39m\n",
       "\u001b[91m┌ \u001b[39m\u001b[0m\u001b[1mexpsin_all\u001b[22m\u001b[0m\u001b[1m(\u001b[22m\u001b[90mdata\u001b[39m::\u001b[0mVector\u001b[90m{Any}\u001b[39m\u001b[0m\u001b[1m)\u001b[22m \u001b[91m@ \u001b[39m\u001b[91mMain\u001b[39m\u001b[91m /home/javier/JuliaUCL24/notebooks/Day2/1_perfopt_typestability.ipynb:8\u001b[39m\n",
       "\u001b[91m│ \u001b[39m\u001b[91mruntime dispatch detected\u001b[39m\u001b[91m: \u001b[39m\u001b[0m\u001b[1msin\u001b[22m\u001b[0m\u001b[1m(\u001b[22m\u001b[0m\u001b[1m%52\u001b[22m\u001b[96m\u001b[1m::Any\u001b[22m\u001b[39m\u001b[0m\u001b[1m)\u001b[22m\u001b[96m\u001b[1m::Any\u001b[22m\u001b[39m\n",
       "\u001b[91m└────────────────────\u001b[39m\n",
       "\u001b[91m┌ \u001b[39m\u001b[0m\u001b[1mexpsin_all\u001b[22m\u001b[0m\u001b[1m(\u001b[22m\u001b[90mdata\u001b[39m::\u001b[0mVector\u001b[90m{Any}\u001b[39m\u001b[0m\u001b[1m)\u001b[22m \u001b[91m@ \u001b[39m\u001b[91mMain\u001b[39m\u001b[91m /home/javier/JuliaUCL24/notebooks/Day2/1_perfopt_typestability.ipynb:8\u001b[39m\n",
       "\u001b[91m│ \u001b[39m\u001b[91mruntime dispatch detected\u001b[39m\u001b[91m: \u001b[39m\u001b[0m\u001b[1mexp\u001b[22m\u001b[0m\u001b[1m(\u001b[22m\u001b[0m\u001b[1m%53\u001b[22m\u001b[96m\u001b[1m::Any\u001b[22m\u001b[39m\u001b[0m\u001b[1m)\u001b[22m\u001b[96m\u001b[1m::Any\u001b[22m\u001b[39m\n",
       "\u001b[91m└────────────────────\u001b[39m\n",
       "\u001b[91m┌ \u001b[39m\u001b[0m\u001b[1mexpsin_all\u001b[22m\u001b[0m\u001b[1m(\u001b[22m\u001b[90mdata\u001b[39m::\u001b[0mVector\u001b[90m{Any}\u001b[39m\u001b[0m\u001b[1m)\u001b[22m \u001b[91m@ \u001b[39m\u001b[91mMain\u001b[39m\u001b[91m /home/javier/JuliaUCL24/notebooks/Day2/1_perfopt_typestability.ipynb:8\u001b[39m\n",
       "\u001b[91m│ \u001b[39m\u001b[91mruntime dispatch detected\u001b[39m\u001b[91m: \u001b[39m\u001b[0m\u001b[1m(\u001b[22m\u001b[0m\u001b[1m(\u001b[22m\u001b[0m\u001b[1m%2\u001b[22m\u001b[96m\u001b[1m::Vector{Float64}\u001b[22m\u001b[39m\u001b[0m\u001b[1m)\u001b[22m\u001b[0m\u001b[1m[\u001b[22m\u001b[0m\u001b[1m%45\u001b[22m\u001b[96m\u001b[1m::Int64\u001b[22m\u001b[39m\u001b[0m\u001b[1m]\u001b[22m\u001b[0m\u001b[1m = \u001b[22m\u001b[0m\u001b[1m%54\u001b[22m\u001b[96m\u001b[1m::Any\u001b[22m\u001b[39m\u001b[96m\u001b[1m::Any\u001b[22m\u001b[39m\u001b[0m\u001b[1m)\u001b[22m\n",
       "\u001b[91m└────────────────────\u001b[39m\n"
      ]
     },
     "metadata": {},
     "output_type": "display_data"
    }
   ],
   "source": [
    "@report_opt expsin_all(data)"
   ]
  },
  {
   "cell_type": "markdown",
   "metadata": {},
   "source": [
    "# Core messages of this Notebook\n",
    "\n",
    "* **Wrap code in self-contained functions** in performance critical applications, i.e. avoid global scope.\n",
    "* Write **type-stable code** (check with `@code_warntype` or `Cthulhu.jl`).\n",
    "* **Types should always have concrete fields.** If you don't know them in advance, use type parameters.\n",
    "* Isolate unavoidable type instabilities (function barrier)."
   ]
  }
 ],
 "metadata": {
  "@webio": {
   "lastCommId": null,
   "lastKernelId": null
  },
  "kernelspec": {
   "display_name": "Julia 1.10.0",
   "language": "julia",
   "name": "julia-1.10"
  },
  "language_info": {
   "file_extension": ".jl",
   "mimetype": "application/julia",
   "name": "julia",
   "version": "1.10.0"
  }
 },
 "nbformat": 4,
 "nbformat_minor": 4
}
