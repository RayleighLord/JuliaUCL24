{
 "cells": [
  {
   "cell_type": "markdown",
   "id": "42d3d18f",
   "metadata": {},
   "source": [
    "# Compilation\n",
    "\n",
    "To be fast, Julia needs to **specialize** code, that is **compile specific native versions of the code** utilizing the type information. **The better the specialization the faster the code!**"
   ]
  },
  {
   "cell_type": "markdown",
   "id": "6add0fc5",
   "metadata": {
    "tags": []
   },
   "source": [
    "## \"Just ahead of time\" compilation\n",
    "\n",
    "* Julia **specializes on the types of function arguments** and \n",
    "* compiles efficient machine code **when a function is called for the first time** (with these input argument types).\n",
    "\n",
    "If the same function is called again with the same input argument types, the already existing machine code is reused.\n"
   ]
  },
  {
   "cell_type": "code",
   "execution_count": 2,
   "id": "fc2352e8",
   "metadata": {},
   "outputs": [
    {
     "data": {
      "text/plain": [
       "func (generic function with 1 method)"
      ]
     },
     "metadata": {},
     "output_type": "display_data"
    }
   ],
   "source": [
    "func(x,y) = 2x + y"
   ]
  },
  {
   "cell_type": "code",
   "execution_count": 3,
   "id": "5fa5f7c9",
   "metadata": {},
   "outputs": [
    {
     "name": "stdout",
     "output_type": "stream",
     "text": [
      "  0.041341 seconds (186.09 k allocations: 12.677 MiB, 99.97% compilation time)\n",
      "  0.000002 seconds (2 allocations: 160 bytes)\n"
     ]
    }
   ],
   "source": [
    "x = [1.2, 3.4, 5.6] # Vector{Float64}\n",
    "y = [0.4, 0.7, 0.9] # Vector{Float64}\n",
    "\n",
    "@time func(x,y);\n",
    "@time func(x,y);"
   ]
  },
  {
   "cell_type": "markdown",
   "id": "b4a475ea",
   "metadata": {},
   "source": [
    "**First call:** compilation + running the code\n",
    "\n",
    "**Second call:** running the code\n"
   ]
  },
  {
   "cell_type": "code",
   "execution_count": 4,
   "id": "44115394",
   "metadata": {},
   "outputs": [
    {
     "name": "stdout",
     "output_type": "stream",
     "text": [
      "  0.000004 seconds (2 allocations: 160 bytes)\n"
     ]
    }
   ],
   "source": [
    "@time func(x,y);"
   ]
  },
  {
   "cell_type": "markdown",
   "id": "f74b788e",
   "metadata": {},
   "source": [
    "If one of the input types changes, Julia compiles a new specialization of the function!\n"
   ]
  },
  {
   "cell_type": "code",
   "execution_count": 5,
   "id": "21df8af7",
   "metadata": {},
   "outputs": [
    {
     "data": {
      "text/plain": [
       "Vector{Float64}\u001b[90m (alias for \u001b[39m\u001b[90mArray{Float64, 1}\u001b[39m\u001b[90m)\u001b[39m"
      ]
     },
     "metadata": {},
     "output_type": "display_data"
    }
   ],
   "source": [
    "typeof(x)"
   ]
  },
  {
   "cell_type": "code",
   "execution_count": 6,
   "id": "4add9224",
   "metadata": {},
   "outputs": [
    {
     "data": {
      "text/plain": [
       "3-element Vector{Int64}:\n",
       " 1\n",
       " 3\n",
       " 5"
      ]
     },
     "metadata": {},
     "output_type": "display_data"
    }
   ],
   "source": [
    "x = [1, 3, 5]"
   ]
  },
  {
   "cell_type": "code",
   "execution_count": 7,
   "id": "0eb28c62",
   "metadata": {},
   "outputs": [
    {
     "data": {
      "text/plain": [
       "Vector{Int64}\u001b[90m (alias for \u001b[39m\u001b[90mArray{Int64, 1}\u001b[39m\u001b[90m)\u001b[39m"
      ]
     },
     "metadata": {},
     "output_type": "display_data"
    }
   ],
   "source": [
    "typeof(x)"
   ]
  },
  {
   "cell_type": "code",
   "execution_count": 8,
   "id": "49854ab2",
   "metadata": {},
   "outputs": [
    {
     "name": "stdout",
     "output_type": "stream",
     "text": [
      "  0.043782 seconds (150.96 k allocations: 10.204 MiB, 99.96% compilation time)\n",
      "  0.000003 seconds (2 allocations: 160 bytes)\n"
     ]
    }
   ],
   "source": [
    "@time func(x,y); # Vector{Int64}, Vector{Float64}\n",
    "@time func(x,y);"
   ]
  },
  {
   "cell_type": "markdown",
   "id": "b5c9af6e-a348-4871-aa89-53f310098baa",
   "metadata": {},
   "source": [
    "We now have two efficient native codes in the cache: one for all `Vector{Float64}` inputs and another one for `Vector{Int64}` as the first and `Vector{Float64}` as the second argument type."
   ]
  },
  {
   "cell_type": "code",
   "execution_count": 9,
   "id": "37b8c246-cad7-4155-8fc5-899862be6cee",
   "metadata": {},
   "outputs": [
    {
     "data": {
      "text/html": [
       "# 1 method for generic function <b>func</b> from \u001b[35mMain\u001b[39m:<ul><li> func(x, y) in Main at <a href=\"https://github.com/RayleighLord/JuliaUCL24/tree/7e5ea5a492a12f16dae56af72bd90f80c8625f27//notebooks/Day1/2_compilation.ipynb#L1\" target=\"_blank\">/home/javier/Julia Courses/JuliaUCL24/notebooks/Day1/2_compilation.ipynb:1</a></li> </ul>"
      ],
      "text/plain": [
       "# 1 method for generic function \"func\" from \u001b[35mMain\u001b[39m:\n",
       " [1] func(\u001b[90mx\u001b[39m, \u001b[90my\u001b[39m)\n",
       "\u001b[90m     @\u001b[39m \u001b[90m~/Julia Courses/JuliaUCL24/notebooks/Day1/\u001b[39m\u001b[90m\u001b[4m2_compilation.ipynb:1\u001b[24m\u001b[39m"
      ]
     },
     "metadata": {},
     "output_type": "display_data"
    }
   ],
   "source": [
    "methods(func)"
   ]
  },
  {
   "cell_type": "code",
   "execution_count": 10,
   "id": "a8254a81-c2a3-4773-9c4f-7ed7ef160dee",
   "metadata": {},
   "outputs": [
    {
     "data": {
      "text/plain": [
       "3-element Vector{Core.MethodInstance}:\n",
       " MethodInstance for func(::Any, ::Any)\n",
       " MethodInstance for func(::Vector{Float64}, ::Vector{Float64})\n",
       " MethodInstance for func(::Vector{Int64}, ::Vector{Float64})"
      ]
     },
     "metadata": {},
     "output_type": "display_data"
    }
   ],
   "source": [
    "using MethodAnalysis\n",
    "methodinstances(func)"
   ]
  },
  {
   "cell_type": "markdown",
   "id": "20d5e0dc-d5ea-4e8c-b285-df29f3a37105",
   "metadata": {},
   "source": [
    "### Compilation pipeline\n",
    "\n",
    "<p><br><img src=\"imgs/Julia_compilation_pipeline.svg\" width=\"512\"/></p>\n",
    "\n",
    "* **AST**: abstract syntax tree\n",
    "* **IR**: intermediate representation\n",
    "\n",
    "More about Julia compilation, see [Bezanson J et al (2018) Julia: dynamism and performance reconciled by design. Proc ACM Program Lang.](https://doi.org/10.1145/3276490)"
   ]
  },
  {
   "cell_type": "markdown",
   "id": "aac4fcc5-1839-4d3b-9243-886e3be7bd4e",
   "metadata": {},
   "source": [
    "### What makes Julia fast?\n",
    "\n",
    "**Specialization** → (Successful) **Type inference** → **Compilation**"
   ]
  },
  {
   "cell_type": "markdown",
   "id": "75b6c894-0b8b-4457-aa21-c82389fa7671",
   "metadata": {},
   "source": [
    "## Introspection tools\n",
    "#### (*But I really want to see what happens!*)\n",
    "\n",
    "We can inspect the code at all transformation stages with a bunch of macros:\n",
    "\n",
    "<img src=\"./imgs/julia_introspection_macros.svg\" width=300px>"
   ]
  },
  {
   "cell_type": "code",
   "execution_count": 11,
   "id": "fa7a2b0b",
   "metadata": {},
   "outputs": [
    {
     "data": {
      "text/plain": [
       "quote\n",
       "    Base.println(\"3 + 3 = \", Base.repr(begin\n",
       "                \u001b[90m#= show.jl:1181 =#\u001b[39m\n",
       "                local var\"#118#value\" = 3 + 3\n",
       "            end))\n",
       "    var\"#118#value\"\n",
       "end"
      ]
     },
     "metadata": {},
     "output_type": "display_data"
    }
   ],
   "source": [
    "@macroexpand @show 3+3"
   ]
  },
  {
   "cell_type": "code",
   "execution_count": 12,
   "id": "6f33406d-9c41-496b-abce-552cdd221c0b",
   "metadata": {},
   "outputs": [
    {
     "data": {
      "text/plain": [
       "f (generic function with 1 method)"
      ]
     },
     "metadata": {},
     "output_type": "display_data"
    }
   ],
   "source": [
    "f(x, y) = x^3 + y/2"
   ]
  },
  {
   "cell_type": "code",
   "execution_count": 13,
   "id": "5839c3d5-fa28-41f6-a6a8-2d8eb664894e",
   "metadata": {},
   "outputs": [
    {
     "data": {
      "text/plain": [
       "CodeInfo(\n",
       "\u001b[90m1 ─\u001b[39m %1 = Main.:^\n",
       "\u001b[90m│  \u001b[39m %2 = Core.apply_type(Base.Val, 3)\n",
       "\u001b[90m│  \u001b[39m %3 = (%2)()\n",
       "\u001b[90m│  \u001b[39m %4 = Base.literal_pow(%1, x, %3)\n",
       "\u001b[90m│  \u001b[39m %5 = y / 2\n",
       "\u001b[90m│  \u001b[39m %6 = %4 + %5\n",
       "\u001b[90m└──\u001b[39m      return %6\n",
       ")"
      ]
     },
     "metadata": {},
     "output_type": "display_data"
    }
   ],
   "source": [
    "@code_lowered f(1.0,2.0)"
   ]
  },
  {
   "cell_type": "code",
   "execution_count": 14,
   "id": "42a0d257",
   "metadata": {},
   "outputs": [
    {
     "data": {
      "text/plain": [
       "CodeInfo(\n",
       "\u001b[90m1 ─\u001b[39m %1 = Base.mul_float(x, x)\u001b[36m::Float64\u001b[39m\n",
       "\u001b[90m│  \u001b[39m %2 = Base.mul_float(%1, x)\u001b[36m::Float64\u001b[39m\n",
       "\u001b[90m│  \u001b[39m %3 = Base.div_float(y, 2.0)\u001b[36m::Float64\u001b[39m\n",
       "\u001b[90m│  \u001b[39m %4 = Base.add_float(%2, %3)\u001b[36m::Float64\u001b[39m\n",
       "\u001b[90m└──\u001b[39m      return %4\n",
       ") => Float64"
      ]
     },
     "metadata": {},
     "output_type": "display_data"
    }
   ],
   "source": [
    "@code_typed f(1.0,2.0)"
   ]
  },
  {
   "cell_type": "markdown",
   "id": "f7543e88-4a3a-48a2-92be-9832b8a69d47",
   "metadata": {},
   "source": [
    "From the types of the input arguments, Julia has figured out all the intermediate types. This crucial process is known as **type inference** and its success is the basis for a good specialization (i.e. performant native code as a result). Moreover, the generic power function computing the cubic of `x` is replaced by specific floating-point multiplications (**static dispatch**)."
   ]
  },
  {
   "cell_type": "code",
   "execution_count": 15,
   "id": "01a33e20",
   "metadata": {},
   "outputs": [
    {
     "name": "stdout",
     "output_type": "stream",
     "text": [
      "\u001b[95mdefine\u001b[39m \u001b[36mdouble\u001b[39m \u001b[93m@julia_f_1849\u001b[39m\u001b[33m(\u001b[39m\u001b[36mdouble\u001b[39m \u001b[0m%0\u001b[0m, \u001b[36mdouble\u001b[39m \u001b[0m%1\u001b[33m)\u001b[39m \u001b[0m#0 \u001b[33m{\u001b[39m\n",
      "\u001b[91mtop:\u001b[39m\n",
      "  \u001b[0m%2 \u001b[0m= \u001b[96m\u001b[1mfmul\u001b[22m\u001b[39m \u001b[36mdouble\u001b[39m \u001b[0m%0\u001b[0m, \u001b[0m%0\n",
      "  \u001b[0m%3 \u001b[0m= \u001b[96m\u001b[1mfmul\u001b[22m\u001b[39m \u001b[36mdouble\u001b[39m \u001b[0m%2\u001b[0m, \u001b[0m%0\n",
      "  \u001b[0m%4 \u001b[0m= \u001b[96m\u001b[1mfmul\u001b[22m\u001b[39m \u001b[36mdouble\u001b[39m \u001b[0m%1\u001b[0m, \u001b[33m5.000000e-01\u001b[39m\n",
      "  \u001b[0m%5 \u001b[0m= \u001b[96m\u001b[1mfadd\u001b[22m\u001b[39m \u001b[36mdouble\u001b[39m \u001b[0m%3\u001b[0m, \u001b[0m%4\n",
      "  \u001b[96m\u001b[1mret\u001b[22m\u001b[39m \u001b[36mdouble\u001b[39m \u001b[0m%5\n",
      "\u001b[33m}\u001b[39m\n"
     ]
    }
   ],
   "source": [
    "@code_llvm debuginfo=:none f(1.0,2.0)"
   ]
  },
  {
   "cell_type": "markdown",
   "id": "37d1afc8-f12d-4922-95ea-9e7e15a64040",
   "metadata": {},
   "source": [
    "The expensive divide operation (`y/2`) is replaced by multiplying by 0.5. In the end, giving two `Float64` arguments this function has 4 floating-point operations, i.e. 3 multiplications and 1 addition, instead of cubic function and division."
   ]
  },
  {
   "cell_type": "code",
   "execution_count": 16,
   "id": "dae32331",
   "metadata": {},
   "outputs": [
    {
     "name": "stdout",
     "output_type": "stream",
     "text": [
      "\t\u001b[0m.text\n",
      "\t\u001b[0m.file\t\u001b[0m\"f\"\n",
      "\t\u001b[0m.section\t\u001b[0m.rodata.cst8\u001b[0m,\u001b[0m\"aM\"\u001b[0m,\u001b[0m@progbits\u001b[0m,\u001b[33m8\u001b[39m\n",
      "\t\u001b[0m.p2align\t\u001b[33m3\u001b[39m                               \u001b[90m# -- Begin function julia_f_1884\u001b[39m\n",
      "\u001b[91m.LCPI0_0:\u001b[39m\n",
      "\t\u001b[0m.quad\t\u001b[33m0x3fe0000000000000\u001b[39m              \u001b[90m# double 0.5\u001b[39m\n",
      "\t\u001b[0m.text\n",
      "\t\u001b[0m.globl\t\u001b[0mjulia_f_1884\n",
      "\t\u001b[0m.p2align\t\u001b[33m4\u001b[39m\u001b[0m, \u001b[33m0x90\u001b[39m\n",
      "\t\u001b[0m.type\t\u001b[0mjulia_f_1884\u001b[0m,\u001b[0m@function\n",
      "\u001b[91mjulia_f_1884:\u001b[39m                           \u001b[90m# @julia_f_1884\u001b[39m\n",
      "\u001b[90m# %bb.0:                                # %top\u001b[39m\n",
      "\t\u001b[96m\u001b[1mpush\u001b[22m\u001b[39m\t\u001b[0mrbp\n",
      "\t\u001b[96m\u001b[1mvmulsd\u001b[22m\u001b[39m\t\u001b[0mxmm2\u001b[0m, \u001b[0mxmm0\u001b[0m, \u001b[0mxmm0\n",
      "\t\u001b[96m\u001b[1mmovabs\u001b[22m\u001b[39m\t\u001b[0mrax\u001b[0m, \u001b[95moffset\u001b[39m \u001b[0m.LCPI0_0\n",
      "\t\u001b[96m\u001b[1mmov\u001b[22m\u001b[39m\t\u001b[0mrbp\u001b[0m, \u001b[0mrsp\n",
      "\t\u001b[96m\u001b[1mvmulsd\u001b[22m\u001b[39m\t\u001b[0mxmm1\u001b[0m, \u001b[0mxmm1\u001b[0m, \u001b[95mqword\u001b[39m \u001b[95mptr\u001b[39m \u001b[33m[\u001b[39m\u001b[0mrax\u001b[33m]\u001b[39m\n",
      "\t\u001b[96m\u001b[1mvmulsd\u001b[22m\u001b[39m\t\u001b[0mxmm0\u001b[0m, \u001b[0mxmm2\u001b[0m, \u001b[0mxmm0\n",
      "\t\u001b[96m\u001b[1mvaddsd\u001b[22m\u001b[39m\t\u001b[0mxmm0\u001b[0m, \u001b[0mxmm0\u001b[0m, \u001b[0mxmm1\n",
      "\t\u001b[96m\u001b[1mpop\u001b[22m\u001b[39m\t\u001b[0mrbp\n",
      "\t\u001b[96m\u001b[1mret\u001b[22m\u001b[39m\n",
      "\u001b[91m.Lfunc_end0:\u001b[39m\n",
      "\t\u001b[0m.size\t\u001b[0mjulia_f_1884\u001b[0m, \u001b[0m.Lfunc_end0-julia_f_1884\n",
      "                                        \u001b[90m# -- End function\u001b[39m\n",
      "\t\u001b[0m.section\t\u001b[0m\".note.GNU-stack\"\u001b[0m,\u001b[0m\"\"\u001b[0m,\u001b[0m@progbits\n"
     ]
    }
   ],
   "source": [
    "@code_native debuginfo=:none f(1.0,2.0)"
   ]
  },
  {
   "cell_type": "markdown",
   "id": "c8b6ed56",
   "metadata": {},
   "source": [
    "Let's compare this to integer inputs."
   ]
  },
  {
   "cell_type": "code",
   "execution_count": 17,
   "id": "ff6e9653",
   "metadata": {},
   "outputs": [
    {
     "name": "stdout",
     "output_type": "stream",
     "text": [
      "\t\u001b[0m.text\n",
      "\t\u001b[0m.file\t\u001b[0m\"f\"\n",
      "\t\u001b[0m.section\t\u001b[0m.rodata.cst8\u001b[0m,\u001b[0m\"aM\"\u001b[0m,\u001b[0m@progbits\u001b[0m,\u001b[33m8\u001b[39m\n",
      "\t\u001b[0m.p2align\t\u001b[33m3\u001b[39m                               \u001b[90m# -- Begin function julia_f_1888\u001b[39m\n",
      "\u001b[91m.LCPI0_0:\u001b[39m\n",
      "\t\u001b[0m.quad\t\u001b[33m0x3fe0000000000000\u001b[39m              \u001b[90m# double 0.5\u001b[39m\n",
      "\t\u001b[0m.text\n",
      "\t\u001b[0m.globl\t\u001b[0mjulia_f_1888\n",
      "\t\u001b[0m.p2align\t\u001b[33m4\u001b[39m\u001b[0m, \u001b[33m0x90\u001b[39m\n",
      "\t\u001b[0m.type\t\u001b[0mjulia_f_1888\u001b[0m,\u001b[0m@function\n",
      "\u001b[91mjulia_f_1888:\u001b[39m                           \u001b[90m# @julia_f_1888\u001b[39m\n",
      "\u001b[90m# %bb.0:                                # %top\u001b[39m\n",
      "\t\u001b[96m\u001b[1mpush\u001b[22m\u001b[39m\t\u001b[0mrbp\n",
      "\t\u001b[96m\u001b[1mmov\u001b[22m\u001b[39m\t\u001b[0mrcx\u001b[0m, \u001b[0mrdi\n",
      "\t\u001b[96m\u001b[1mvcvtsi2sd\u001b[22m\u001b[39m\t\u001b[0mxmm0\u001b[0m, \u001b[0mxmm0\u001b[0m, \u001b[0mrsi\n",
      "\t\u001b[96m\u001b[1mmovabs\u001b[22m\u001b[39m\t\u001b[0mrax\u001b[0m, \u001b[95moffset\u001b[39m \u001b[0m.LCPI0_0\n",
      "\t\u001b[96m\u001b[1mmov\u001b[22m\u001b[39m\t\u001b[0mrbp\u001b[0m, \u001b[0mrsp\n",
      "\t\u001b[96m\u001b[1mimul\u001b[22m\u001b[39m\t\u001b[0mrcx\u001b[0m, \u001b[0mrdi\n",
      "\t\u001b[96m\u001b[1mvmulsd\u001b[22m\u001b[39m\t\u001b[0mxmm0\u001b[0m, \u001b[0mxmm0\u001b[0m, \u001b[95mqword\u001b[39m \u001b[95mptr\u001b[39m \u001b[33m[\u001b[39m\u001b[0mrax\u001b[33m]\u001b[39m\n",
      "\t\u001b[96m\u001b[1mimul\u001b[22m\u001b[39m\t\u001b[0mrcx\u001b[0m, \u001b[0mrdi\n",
      "\t\u001b[96m\u001b[1mvcvtsi2sd\u001b[22m\u001b[39m\t\u001b[0mxmm1\u001b[0m, \u001b[0mxmm1\u001b[0m, \u001b[0mrcx\n",
      "\t\u001b[96m\u001b[1mvaddsd\u001b[22m\u001b[39m\t\u001b[0mxmm0\u001b[0m, \u001b[0mxmm0\u001b[0m, \u001b[0mxmm1\n",
      "\t\u001b[96m\u001b[1mpop\u001b[22m\u001b[39m\t\u001b[0mrbp\n",
      "\t\u001b[96m\u001b[1mret\u001b[22m\u001b[39m\n",
      "\u001b[91m.Lfunc_end0:\u001b[39m\n",
      "\t\u001b[0m.size\t\u001b[0mjulia_f_1888\u001b[0m, \u001b[0m.Lfunc_end0-julia_f_1888\n",
      "                                        \u001b[90m# -- End function\u001b[39m\n",
      "\t\u001b[0m.section\t\u001b[0m\".note.GNU-stack\"\u001b[0m,\u001b[0m\"\"\u001b[0m,\u001b[0m@progbits\n"
     ]
    }
   ],
   "source": [
    "@code_native debuginfo=:none f(1,2)"
   ]
  },
  {
   "cell_type": "markdown",
   "id": "2dc2ea6d",
   "metadata": {},
   "source": [
    "### Recommendation: [Cthulhu.jl](https://github.com/JuliaDebug/Cthulhu.jl)\n",
    "While these introspection macros are great, we recommend to use `@descend` from the package [Cthulhu.jl](https://github.com/JuliaDebug/Cthulhu.jl) for real world code analysis.\n",
    "\n",
    "Essentially, Cthulhu is an **interactive**, more powerful generalization of the macros above.\n",
    "\n",
    "* Allows easy switching between code representations (syntax, typed, native, ...).\n",
    "* **Recursive application possible**(!) (i.e. introspecting a function that is called within a function within function ...).\n",
    "\n",
    "However, due to its interactivity, it doesn't work in Jupyter but **only works in the REPL** (→ exercise).\n",
    "\n",
    "<img src=\"./imgs/cthulhu.png\" width=1000>"
   ]
  },
  {
   "cell_type": "markdown",
   "id": "45872508",
   "metadata": {},
   "source": [
    "## How important is specialization?\n",
    "\n",
    "Let's try to estimate the performance gain by specialization.\n",
    "\n",
    "To prevent specialization, we deliberately throw away any useful type information and operate on a `Vector{Any}` that can literally store anything!\n",
    "\n",
    "(This is qualitatively comparable to what Python does.)\n"
   ]
  },
  {
   "cell_type": "code",
   "execution_count": 18,
   "id": "307bed1e",
   "metadata": {},
   "outputs": [
    {
     "data": {
      "text/plain": [
       "func (generic function with 2 methods)"
      ]
     },
     "metadata": {},
     "output_type": "display_data"
    }
   ],
   "source": [
    "func(v) = 2*v[1] + v[2] # version of func that takes in a vector"
   ]
  },
  {
   "cell_type": "code",
   "execution_count": 19,
   "id": "6ef3134a-027f-41c3-8d7f-11ffe11ca355",
   "metadata": {},
   "outputs": [
    {
     "data": {
      "text/plain": [
       "2-element Vector{Float64}:\n",
       " 0.927918719389245\n",
       " 0.1934154611149782"
      ]
     },
     "metadata": {},
     "output_type": "display_data"
    }
   ],
   "source": [
    "rand(2)"
   ]
  },
  {
   "cell_type": "code",
   "execution_count": 20,
   "id": "e3c6ae38-70dd-42a3-a723-8b4eea2bacab",
   "metadata": {},
   "outputs": [
    {
     "data": {
      "text/plain": [
       "2-element Vector{Any}:\n",
       " 0.1757754666614454\n",
       " 0.7986265068547347"
      ]
     },
     "metadata": {},
     "output_type": "display_data"
    }
   ],
   "source": [
    "Any[rand(), rand()]"
   ]
  },
  {
   "cell_type": "markdown",
   "id": "f49529fb",
   "metadata": {},
   "source": [
    "For benchmarking we will use `@btime` (or `@benchmark`) from [BenchmarkTools.jl](https://github.com/JuliaCI/BenchmarkTools.jl). This will take care of a couple of things for us:\n",
    "* Exclude first run.\n",
    "* Run the code multiple times (→ statistics).\n",
    "* Benchmark in a function (local scope).\n",
    "\n",
    "**General rule:** For proper benchmarking don't use `@time` but `@btime` and interpolate (`$`) global input arguments.\n",
    "\n",
    "(Prefixing variable with `$` always means interpolation in Julia, e.g. string interpolation.)"
   ]
  },
  {
   "cell_type": "code",
   "execution_count": 21,
   "id": "c71626b0-6334-4c0b-aee8-c6904d1c3e13",
   "metadata": {},
   "outputs": [
    {
     "data": {
      "text/plain": [
       "\"Welcome to UCL ARC\""
      ]
     },
     "metadata": {},
     "output_type": "display_data"
    }
   ],
   "source": [
    "ucl = \"UCL ARC\"\n",
    "welcome = \"Welcome to $ucl\""
   ]
  },
  {
   "cell_type": "code",
   "execution_count": 22,
   "id": "d7eadf19",
   "metadata": {},
   "outputs": [
    {
     "name": "stdout",
     "output_type": "stream",
     "text": [
      "  1.643 ns (0 allocations: 0 bytes)\n"
     ]
    },
    {
     "name": "stdout",
     "output_type": "stream",
     "text": [
      "  18.747 ns (2 allocations: 32 bytes)\n"
     ]
    }
   ],
   "source": [
    "using BenchmarkTools\n",
    "\n",
    "v_typed = rand(2)\n",
    "v_any = Any[rand(), rand()]\n",
    "\n",
    "@btime func($v_typed);\n",
    "@btime func($v_any);"
   ]
  },
  {
   "cell_type": "code",
   "execution_count": 23,
   "id": "8283840e",
   "metadata": {},
   "outputs": [
    {
     "data": {
      "text/plain": [
       "BenchmarkTools.Trial: 10000 samples with 998 evaluations.\n",
       " Range \u001b[90m(\u001b[39m\u001b[36m\u001b[1mmin\u001b[22m\u001b[39m … \u001b[35mmax\u001b[39m\u001b[90m):  \u001b[39m\u001b[36m\u001b[1m17.202 ns\u001b[22m\u001b[39m … \u001b[35m393.214 ns\u001b[39m  \u001b[90m┊\u001b[39m GC \u001b[90m(\u001b[39mmin … max\u001b[90m): \u001b[39m0.00% … 92.16%\n",
       " Time  \u001b[90m(\u001b[39m\u001b[34m\u001b[1mmedian\u001b[22m\u001b[39m\u001b[90m):     \u001b[39m\u001b[34m\u001b[1m18.626 ns               \u001b[22m\u001b[39m\u001b[90m┊\u001b[39m GC \u001b[90m(\u001b[39mmedian\u001b[90m):    \u001b[39m0.00%\n",
       " Time  \u001b[90m(\u001b[39m\u001b[32m\u001b[1mmean\u001b[22m\u001b[39m ± \u001b[32mσ\u001b[39m\u001b[90m):   \u001b[39m\u001b[32m\u001b[1m19.249 ns\u001b[22m\u001b[39m ± \u001b[32m  9.027 ns\u001b[39m  \u001b[90m┊\u001b[39m GC \u001b[90m(\u001b[39mmean ± σ\u001b[90m):  \u001b[39m1.18% ±  2.42%\n",
       "\n",
       "  \u001b[39m \u001b[39m \u001b[39m \u001b[39m \u001b[39m \u001b[39m \u001b[39m▃\u001b[39m▃\u001b[39m▅\u001b[39m█\u001b[34m▇\u001b[39m\u001b[39m▂\u001b[39m \u001b[39m \u001b[32m \u001b[39m\u001b[39m \u001b[39m \u001b[39m \u001b[39m \u001b[39m \u001b[39m \u001b[39m \u001b[39m \u001b[39m \u001b[39m \u001b[39m \u001b[39m \u001b[39m \u001b[39m \u001b[39m \u001b[39m \u001b[39m \u001b[39m \u001b[39m \u001b[39m \u001b[39m \u001b[39m \u001b[39m \u001b[39m \u001b[39m \u001b[39m \u001b[39m \u001b[39m \u001b[39m \u001b[39m \u001b[39m \u001b[39m \u001b[39m \u001b[39m \u001b[39m \u001b[39m \u001b[39m \u001b[39m \u001b[39m \u001b[39m \u001b[39m \u001b[39m \u001b[39m \u001b[39m \u001b[39m \u001b[39m \u001b[39m \n",
       "  \u001b[39m▂\u001b[39m▂\u001b[39m▂\u001b[39m▃\u001b[39m▅\u001b[39m█\u001b[39m█\u001b[39m█\u001b[39m█\u001b[39m█\u001b[34m█\u001b[39m\u001b[39m█\u001b[39m▆\u001b[39m▄\u001b[32m▃\u001b[39m\u001b[39m▃\u001b[39m▃\u001b[39m▃\u001b[39m▃\u001b[39m▃\u001b[39m▃\u001b[39m▃\u001b[39m▂\u001b[39m▂\u001b[39m▂\u001b[39m▂\u001b[39m▂\u001b[39m▂\u001b[39m▂\u001b[39m▂\u001b[39m▂\u001b[39m▂\u001b[39m▂\u001b[39m▂\u001b[39m▂\u001b[39m▂\u001b[39m▂\u001b[39m▂\u001b[39m▂\u001b[39m▂\u001b[39m▂\u001b[39m▂\u001b[39m▂\u001b[39m▂\u001b[39m▂\u001b[39m▂\u001b[39m▂\u001b[39m▂\u001b[39m▂\u001b[39m▂\u001b[39m▂\u001b[39m▂\u001b[39m▂\u001b[39m▂\u001b[39m▂\u001b[39m▂\u001b[39m▂\u001b[39m▂\u001b[39m▁\u001b[39m▂\u001b[39m \u001b[39m▃\n",
       "  17.2 ns\u001b[90m         Histogram: frequency by time\u001b[39m         26.1 ns \u001b[0m\u001b[1m<\u001b[22m\n",
       "\n",
       " Memory estimate\u001b[90m: \u001b[39m\u001b[33m32 bytes\u001b[39m, allocs estimate\u001b[90m: \u001b[39m\u001b[33m2\u001b[39m."
      ]
     },
     "metadata": {},
     "output_type": "display_data"
    }
   ],
   "source": [
    "@benchmark func($v_any)"
   ]
  },
  {
   "cell_type": "code",
   "execution_count": 24,
   "id": "aaaf2ba3-ac9b-4cdf-a5a0-17e748f1b4cc",
   "metadata": {},
   "outputs": [
    {
     "data": {
      "text/plain": [
       "CodeInfo(\n",
       "\u001b[90m1 ─\u001b[39m %1 = Base.arrayref(true, v, 1)\u001b[36m::Float64\u001b[39m\n",
       "\u001b[90m│  \u001b[39m %2 = Base.mul_float(2.0, %1)\u001b[36m::Float64\u001b[39m\n",
       "\u001b[90m│  \u001b[39m %3 = Base.arrayref(true, v, 2)\u001b[36m::Float64\u001b[39m\n",
       "\u001b[90m│  \u001b[39m %4 = Base.add_float(%2, %3)\u001b[36m::Float64\u001b[39m\n",
       "\u001b[90m└──\u001b[39m      return %4\n",
       ") => Float64"
      ]
     },
     "metadata": {},
     "output_type": "display_data"
    }
   ],
   "source": [
    "@code_typed func(rand(2))"
   ]
  },
  {
   "cell_type": "markdown",
   "id": "79e4ac87-01c7-4a4f-9e78-64a298bbdec7",
   "metadata": {},
   "source": [
    "**static dispatch**: the generic functions `*` and `+` are replaced by specific implementations."
   ]
  },
  {
   "cell_type": "code",
   "execution_count": 25,
   "id": "c70cd881-b2f0-4559-8015-5953c3fea257",
   "metadata": {},
   "outputs": [
    {
     "data": {
      "text/plain": [
       "CodeInfo(\n",
       "\u001b[90m1 ─\u001b[39m %1 = Base.arrayref(true, v, 1)\u001b[36m::Any\u001b[39m\n",
       "\u001b[90m│  \u001b[39m %2 = (2 * %1)\u001b[36m::Any\u001b[39m\n",
       "\u001b[90m│  \u001b[39m %3 = Base.arrayref(true, v, 2)\u001b[36m::Any\u001b[39m\n",
       "\u001b[90m│  \u001b[39m %4 = (%2 + %3)\u001b[36m::Any\u001b[39m\n",
       "\u001b[90m└──\u001b[39m      return %4\n",
       ") => Any"
      ]
     },
     "metadata": {},
     "output_type": "display_data"
    }
   ],
   "source": [
    "@code_typed func(Any[rand(), rand()])"
   ]
  },
  {
   "cell_type": "markdown",
   "id": "21663ee4-0c69-4d76-83de-cea6a56a791f",
   "metadata": {},
   "source": [
    "Note here the generic functions `*` and `+` can not be replaced by specific variants due to lack of type information. This leads to inefficient **runtime dispatch**."
   ]
  },
  {
   "cell_type": "markdown",
   "id": "cc90c012",
   "metadata": {},
   "source": [
    "## Dispatch and specialization\n",
    "\n",
    "**Types drive both dispatch and specialization.**\n",
    "\n",
    "First, the most specific method is selected (dispatch), then it gets compiled to efficient native code (specialization). Let's reconsider our earlier example:"
   ]
  },
  {
   "cell_type": "code",
   "execution_count": 26,
   "id": "274d6488",
   "metadata": {},
   "outputs": [
    {
     "data": {
      "text/plain": [
       "myabs (generic function with 2 methods)"
      ]
     },
     "metadata": {},
     "output_type": "display_data"
    }
   ],
   "source": [
    "myabs(x::Real) = sign(x) * x\n",
    "myabs(z::Complex) = sqrt(real(z * conj(z)))"
   ]
  },
  {
   "cell_type": "code",
   "execution_count": 27,
   "id": "b9145b69",
   "metadata": {},
   "outputs": [
    {
     "name": "stdout",
     "output_type": "stream",
     "text": [
      "\t\u001b[0m.text\n",
      "\t\u001b[0m.file\t\u001b[0m\"myabs\"\n",
      "\t\u001b[0m.globl\t\u001b[0mjulia_myabs_2668                \u001b[90m# -- Begin function julia_myabs_2668\u001b[39m\n",
      "\t\u001b[0m.p2align\t\u001b[33m4\u001b[39m\u001b[0m, \u001b[33m0x90\u001b[39m\n",
      "\t\u001b[0m.type\t\u001b[0mjulia_myabs_2668\u001b[0m,\u001b[0m@function\n",
      "\u001b[91mjulia_myabs_2668:\u001b[39m                       \u001b[90m# @julia_myabs_2668\u001b[39m\n",
      "\u001b[90m; ┌ @ /home/javier/Julia Courses/JuliaUCL24/notebooks/Day1/2_compilation.ipynb:2 within `myabs`\u001b[39m\n",
      "\u001b[90m# %bb.0:                                # %L13\u001b[39m\n",
      "\t\u001b[96m\u001b[1mpush\u001b[22m\u001b[39m\t\u001b[0mrbp\n",
      "\u001b[90m; │┌ @ complex.jl:296 within `*` @ float.jl:411\u001b[39m\n",
      "\t\u001b[96m\u001b[1mvmovupd\u001b[22m\u001b[39m\t\u001b[0mxmm0\u001b[0m, \u001b[95mxmmword\u001b[39m \u001b[95mptr\u001b[39m \u001b[33m[\u001b[39m\u001b[0mrdi\u001b[33m]\u001b[39m\n",
      "\t\u001b[96m\u001b[1mmov\u001b[22m\u001b[39m\t\u001b[0mrbp\u001b[0m, \u001b[0mrsp\n",
      "\t\u001b[96m\u001b[1mvmulpd\u001b[22m\u001b[39m\t\u001b[0mxmm0\u001b[0m, \u001b[0mxmm0\u001b[0m, \u001b[0mxmm0\n",
      "\u001b[90m; ││ @ complex.jl:296 within `*`\u001b[39m\n",
      "\u001b[90m; ││┌ @ float.jl:410 within `-`\u001b[39m\n",
      "\t\u001b[96m\u001b[1mvpermilpd\u001b[22m\u001b[39m\t\u001b[0mxmm1\u001b[0m, \u001b[0mxmm0\u001b[0m, \u001b[33m1\u001b[39m           \u001b[90m# xmm1 = xmm0[1,0]\u001b[39m\n",
      "\t\u001b[96m\u001b[1mvaddsd\u001b[22m\u001b[39m\t\u001b[0mxmm0\u001b[0m, \u001b[0mxmm0\u001b[0m, \u001b[0mxmm1\n",
      "\u001b[90m; │└└\u001b[39m\n",
      "\u001b[90m; │┌ @ math.jl:687 within `sqrt`\u001b[39m\n",
      "\t\u001b[96m\u001b[1mvsqrtsd\u001b[22m\u001b[39m\t\u001b[0mxmm0\u001b[0m, \u001b[0mxmm0\u001b[0m, \u001b[0mxmm0\n",
      "\u001b[90m; │└\u001b[39m\n",
      "\t\u001b[96m\u001b[1mpop\u001b[22m\u001b[39m\t\u001b[0mrbp\n",
      "\t\u001b[96m\u001b[1mret\u001b[22m\u001b[39m\n",
      "\u001b[91m.Lfunc_end0:\u001b[39m\n",
      "\t\u001b[0m.size\t\u001b[0mjulia_myabs_2668\u001b[0m, \u001b[0m.Lfunc_end0-julia_myabs_2668\n",
      "\u001b[90m; └\u001b[39m\n",
      "                                        \u001b[90m# -- End function\u001b[39m\n",
      "\t\u001b[0m.section\t\u001b[0m\".note.GNU-stack\"\u001b[0m,\u001b[0m\"\"\u001b[0m,\u001b[0m@progbits\n"
     ]
    }
   ],
   "source": [
    "@code_native myabs(3.2 + 4.5im) # complex input"
   ]
  },
  {
   "cell_type": "code",
   "execution_count": 28,
   "id": "1a5fb226",
   "metadata": {},
   "outputs": [
    {
     "name": "stdout",
     "output_type": "stream",
     "text": [
      "\t\u001b[0m.text\n",
      "\t\u001b[0m.file\t\u001b[0m\"myabs\"\n",
      "\t\u001b[0m.globl\t\u001b[0mjulia_myabs_2675                \u001b[90m# -- Begin function julia_myabs_2675\u001b[39m\n",
      "\t\u001b[0m.p2align\t\u001b[33m4\u001b[39m\u001b[0m, \u001b[33m0x90\u001b[39m\n",
      "\t\u001b[0m.type\t\u001b[0mjulia_myabs_2675\u001b[0m,\u001b[0m@function\n",
      "\u001b[91mjulia_myabs_2675:\u001b[39m                       \u001b[90m# @julia_myabs_2675\u001b[39m\n",
      "\u001b[90m; ┌ @ /home/javier/Julia Courses/JuliaUCL24/notebooks/Day1/2_compilation.ipynb:2 within `myabs`\u001b[39m\n",
      "\u001b[90m# %bb.0:                                # %top\u001b[39m\n",
      "\t\u001b[96m\u001b[1mpush\u001b[22m\u001b[39m\t\u001b[0mrbp\n",
      "\u001b[90m; │┌ @ complex.jl:296 within `*` @ int.jl:88\u001b[39m\n",
      "\t\u001b[96m\u001b[1mmov\u001b[22m\u001b[39m\t\u001b[0mrax\u001b[0m, \u001b[95mqword\u001b[39m \u001b[95mptr\u001b[39m \u001b[33m[\u001b[39m\u001b[0mrdi\u001b[33m]\u001b[39m\n",
      "\u001b[90m; │└\u001b[39m\n",
      "\u001b[90m; │┌ @ complex.jl:282 within `conj`\u001b[39m\n",
      "\u001b[90m; ││┌ @ int.jl:85 within `-`\u001b[39m\n",
      "\t\u001b[96m\u001b[1mmov\u001b[22m\u001b[39m\t\u001b[0mrcx\u001b[0m, \u001b[95mqword\u001b[39m \u001b[95mptr\u001b[39m \u001b[33m[\u001b[39m\u001b[0mrdi \u001b[0m+ \u001b[33m8\u001b[39m\u001b[33m]\u001b[39m\n",
      "\t\u001b[96m\u001b[1mmov\u001b[22m\u001b[39m\t\u001b[0mrbp\u001b[0m, \u001b[0mrsp\n",
      "\u001b[90m; │└└\u001b[39m\n",
      "\u001b[90m; │┌ @ complex.jl:296 within `*` @ int.jl:88\u001b[39m\n",
      "\t\u001b[96m\u001b[1mimul\u001b[22m\u001b[39m\t\u001b[0mrax\u001b[0m, \u001b[0mrax\n",
      "\t\u001b[96m\u001b[1mimul\u001b[22m\u001b[39m\t\u001b[0mrcx\u001b[0m, \u001b[0mrcx\n",
      "\u001b[90m; ││ @ complex.jl:296 within `*`\u001b[39m\n",
      "\u001b[90m; ││┌ @ int.jl:86 within `-`\u001b[39m\n",
      "\t\u001b[96m\u001b[1madd\u001b[22m\u001b[39m\t\u001b[0mrcx\u001b[0m, \u001b[0mrax\n",
      "\u001b[90m; │└└\u001b[39m\n",
      "\u001b[90m; │┌ @ math.jl:1576 within `sqrt`\u001b[39m\n",
      "\u001b[90m; ││┌ @ float.jl:294 within `float`\u001b[39m\n",
      "\u001b[90m; │││┌ @ float.jl:268 within `AbstractFloat`\u001b[39m\n",
      "\u001b[90m; ││││┌ @ float.jl:159 within `Float64`\u001b[39m\n",
      "\t\u001b[96m\u001b[1mvcvtsi2sd\u001b[22m\u001b[39m\t\u001b[0mxmm0\u001b[0m, \u001b[0mxmm0\u001b[0m, \u001b[0mrcx\n",
      "\u001b[90m; ││└└└\u001b[39m\n",
      "\u001b[90m; ││ @ math.jl:1578 within `sqrt` @ math.jl:686\u001b[39m\n",
      "\t\u001b[96m\u001b[1mjs\u001b[22m\u001b[39m\t\u001b[0m.LBB0_2\n",
      "\u001b[90m# %bb.1:                                # %L14\u001b[39m\n",
      "\u001b[90m; ││ @ math.jl:1578 within `sqrt` @ math.jl:687\u001b[39m\n",
      "\t\u001b[96m\u001b[1mvsqrtsd\u001b[22m\u001b[39m\t\u001b[0mxmm0\u001b[0m, \u001b[0mxmm0\u001b[0m, \u001b[0mxmm0\n",
      "\u001b[90m; │└\u001b[39m\n",
      "\t\u001b[96m\u001b[1mpop\u001b[22m\u001b[39m\t\u001b[0mrbp\n",
      "\t\u001b[96m\u001b[1mret\u001b[22m\u001b[39m\n",
      "\u001b[91m.LBB0_2:\u001b[39m                                \u001b[90m# %L12\u001b[39m\n",
      "\u001b[90m; │┌ @ math.jl:1578 within `sqrt` @ math.jl:686\u001b[39m\n",
      "\t\u001b[96m\u001b[1mmovabs\u001b[22m\u001b[39m\t\u001b[0mrax\u001b[0m, \u001b[95moffset\u001b[39m \u001b[93mj_throw_complex_domainerror_2677\u001b[39m\n",
      "\t\u001b[96m\u001b[1mmovabs\u001b[22m\u001b[39m\t\u001b[0mrdi\u001b[0m, \u001b[33m140153484077168\u001b[39m\n",
      "\t\u001b[96m\u001b[1mcall\u001b[22m\u001b[39m\t\u001b[0mrax\n",
      "\u001b[91m.Lfunc_end0:\u001b[39m\n",
      "\t\u001b[0m.size\t\u001b[0mjulia_myabs_2675\u001b[0m, \u001b[0m.Lfunc_end0-julia_myabs_2675\n",
      "\u001b[90m; └└\u001b[39m\n",
      "                                        \u001b[90m# -- End function\u001b[39m\n",
      "\t\u001b[0m.section\t\u001b[0m\".note.GNU-stack\"\u001b[0m,\u001b[0m\"\"\u001b[0m,\u001b[0m@progbits\n"
     ]
    }
   ],
   "source": [
    "@code_native myabs(3 + 4im) # also complex input but different native code (due to specialization)!"
   ]
  },
  {
   "cell_type": "markdown",
   "id": "a90dbe57",
   "metadata": {},
   "source": [
    "## Are explicit type annotations necessary? (think C or Fortran)\n",
    "\n",
    "Note that Julia's type inference is powerful. Specifying types **is not** necessary for best performance!\n"
   ]
  },
  {
   "cell_type": "code",
   "execution_count": 29,
   "id": "ea44980f",
   "metadata": {},
   "outputs": [
    {
     "data": {
      "text/plain": [
       "my_function_typed (generic function with 1 method)"
      ]
     },
     "metadata": {},
     "output_type": "display_data"
    }
   ],
   "source": [
    "function my_function(x)\n",
    "    y = rand()\n",
    "    z = rand()\n",
    "    x+y+z\n",
    "end\n",
    "\n",
    "function my_function_typed(x::Int64)::Float64\n",
    "    y::Float64 = rand()\n",
    "    z::Float64 = rand()\n",
    "    x+y+z\n",
    "end"
   ]
  },
  {
   "cell_type": "code",
   "execution_count": 30,
   "id": "c53c0964",
   "metadata": {},
   "outputs": [
    {
     "name": "stdout",
     "output_type": "stream",
     "text": [
      "  2.251 ns (0 allocations: 0 bytes)\n"
     ]
    },
    {
     "name": "stdout",
     "output_type": "stream",
     "text": [
      "  2.254 ns (0 allocations: 0 bytes)\n"
     ]
    }
   ],
   "source": [
    "@btime my_function(10);\n",
    "@btime my_function_typed(10);"
   ]
  },
  {
   "cell_type": "markdown",
   "id": "1dd19c86",
   "metadata": {},
   "source": [
    "Annotating types explicitly can serve a purpose.\n",
    "\n",
    "* Enforce conversions\n",
    "* Rather rarely: help the compiler infer types in tricky situations\n",
    "\n",
    "However, more often than not it is an indication of suboptimal code design. (It also makes functions much less generic and reusable!)"
   ]
  },
  {
   "cell_type": "markdown",
   "id": "ef64848b-6e37-4cf8-a08d-29df33a930e3",
   "metadata": {},
   "source": [
    "## Compilation on heterogeneous HPC clusters\n",
    "\n",
    "By default, Julia produces native code for the CPU type it is running on. This means that it uses the [Instruction Set Architecture (ISA)](https://en.wikipedia.org/wiki/Instruction_set_architecture) of this CPU.\n",
    "\n",
    "This can lead to issues on heterogeneous clusters where different nodes have different CPU types. E.g. you precompile Julia packages on a login node with an Intel CPU but want to run the code on a compute node with AMD CPUs.\n",
    "\n",
    "**Solution: Multiversioning**\n",
    "\n",
    "```julia\n",
    "# Noctua 1 & 2\n",
    "export JULIA_CPU_TARGET=\"generic;znver3,clone_all;skylake,clone_all\"\n",
    "\n",
    "# Noctua 2 & DGX\n",
    "export JULIA_CPU_TARGET=\"generic;znver3,clone_all;znver2,clone_all\"\n",
    "```\n",
    "\n",
    "This will compile a generic (but slow) variant as well as efficient variants for AMD Zen3 and Intel Skylake CPUs / AMD Zen2."
   ]
  },
  {
   "cell_type": "markdown",
   "id": "271288b7",
   "metadata": {},
   "source": [
    "# Core messages of this Notebook\n",
    "\n",
    "* **A function is compiled when called for the first time** with a given set of argument types.\n",
    "* There are **multiple code transformation steps** which can be inspected through macros like `@code_warntype` or `@descend` from Cthulhu.jl.\n",
    "* What makes Julia fast? Successful **Type inference** → **Specialization** → **Compilation**.\n",
    "* Functions should almost always be benchmarked with **BenchmarkTools.jl's `@btime` and `@benchmark`** instead of `@time`.\n",
    "* In virtually all cases, **explicit type annotations are irrelevant for performance**."
   ]
  },
  {
   "cell_type": "markdown",
   "id": "e25ad505",
   "metadata": {},
   "source": []
  },
  {
   "cell_type": "markdown",
   "id": "f61ea131",
   "metadata": {},
   "source": []
  },
  {
   "cell_type": "markdown",
   "id": "97b473ce",
   "metadata": {},
   "source": []
  }
 ],
 "metadata": {
  "kernelspec": {
   "display_name": "Julia 1.10.0",
   "language": "julia",
   "name": "julia-1.10"
  },
  "language_info": {
   "file_extension": ".jl",
   "mimetype": "application/julia",
   "name": "julia",
   "version": "1.10.0"
  }
 },
 "nbformat": 4,
 "nbformat_minor": 5
}
